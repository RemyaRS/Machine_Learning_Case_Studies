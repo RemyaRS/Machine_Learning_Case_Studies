{
  "nbformat": 4,
  "nbformat_minor": 0,
  "metadata": {
    "colab": {
      "name": "ML2_Classification and Analysis of Water Quality Using MachineLearning Algorithms.ipynb",
      "provenance": [],
      "collapsed_sections": [],
      "authorship_tag": "ABX9TyOeT4vo+5BC/G/bzuq9c0Rc",
      "include_colab_link": true
    },
    "kernelspec": {
      "name": "python3",
      "display_name": "Python 3"
    },
    "language_info": {
      "name": "python"
    },
    "widgets": {
      "application/vnd.jupyter.widget-state+json": {
        "c65d0531c6c544cb8f89ef0b77fa624b": {
          "model_module": "@jupyter-widgets/controls",
          "model_name": "VBoxModel",
          "model_module_version": "1.5.0",
          "state": {
            "_view_name": "VBoxView",
            "_dom_classes": [
              "widget-interact"
            ],
            "_model_name": "VBoxModel",
            "_view_module": "@jupyter-widgets/controls",
            "_model_module_version": "1.5.0",
            "_view_count": null,
            "_view_module_version": "1.5.0",
            "box_style": "",
            "layout": "IPY_MODEL_f4c78905e9b242a8916228469618b7dc",
            "_model_module": "@jupyter-widgets/controls",
            "children": [
              "IPY_MODEL_cc858c724f43483085427fa054915191",
              "IPY_MODEL_44d8cde5b89746b09cca9426113cabec"
            ]
          }
        },
        "f4c78905e9b242a8916228469618b7dc": {
          "model_module": "@jupyter-widgets/base",
          "model_name": "LayoutModel",
          "model_module_version": "1.2.0",
          "state": {
            "_view_name": "LayoutView",
            "grid_template_rows": null,
            "right": null,
            "justify_content": null,
            "_view_module": "@jupyter-widgets/base",
            "overflow": null,
            "_model_module_version": "1.2.0",
            "_view_count": null,
            "flex_flow": null,
            "width": null,
            "min_width": null,
            "border": null,
            "align_items": null,
            "bottom": null,
            "_model_module": "@jupyter-widgets/base",
            "top": null,
            "grid_column": null,
            "overflow_y": null,
            "overflow_x": null,
            "grid_auto_flow": null,
            "grid_area": null,
            "grid_template_columns": null,
            "flex": null,
            "_model_name": "LayoutModel",
            "justify_items": null,
            "grid_row": null,
            "max_height": null,
            "align_content": null,
            "visibility": null,
            "align_self": null,
            "height": null,
            "min_height": null,
            "padding": null,
            "grid_auto_rows": null,
            "grid_gap": null,
            "max_width": null,
            "order": null,
            "_view_module_version": "1.2.0",
            "grid_template_areas": null,
            "object_position": null,
            "object_fit": null,
            "grid_auto_columns": null,
            "margin": null,
            "display": null,
            "left": null
          }
        },
        "cc858c724f43483085427fa054915191": {
          "model_module": "@jupyter-widgets/controls",
          "model_name": "DropdownModel",
          "model_module_version": "1.5.0",
          "state": {
            "_options_labels": [
              "B",
              "C",
              "Below E",
              "D",
              "E",
              "A"
            ],
            "_view_name": "DropdownView",
            "style": "IPY_MODEL_52896e6caa624987aa04b23eaca912d3",
            "_dom_classes": [],
            "description": "CLASS",
            "_model_name": "DropdownModel",
            "index": 0,
            "_view_module": "@jupyter-widgets/controls",
            "_model_module_version": "1.5.0",
            "_view_count": null,
            "disabled": false,
            "_view_module_version": "1.5.0",
            "description_tooltip": null,
            "_model_module": "@jupyter-widgets/controls",
            "layout": "IPY_MODEL_9dfe660bc1124bf5951a78d29ce4a646"
          }
        },
        "44d8cde5b89746b09cca9426113cabec": {
          "model_module": "@jupyter-widgets/output",
          "model_name": "OutputModel",
          "model_module_version": "1.0.0",
          "state": {
            "_view_name": "OutputView",
            "msg_id": "",
            "_dom_classes": [],
            "_model_name": "OutputModel",
            "outputs": [
              {
                "output_type": "stream",
                "name": "stdout",
                "text": [
                  "....................................\n",
                  "List water body/source having some stations belonging to class B\n",
                  "['KARAMANA RIVER' 'KARAMANA' 'ITHIKKARA RIVER' 'ACHENKOVIL RIVER'\n",
                  " 'KALLADA RIVER' 'PAMBA RIVER' 'MANIMALA RIVER' 'CHALAKUDY RIVER'\n",
                  " 'KARUVANNUR RIVER' 'PUZHAKKAL RIVER' 'KEECHERI RIVER' 'BHARATHAPUZHA'\n",
                  " 'KADALUNDI RIVER' 'KABANI RIVER' 'BHAVANI RIVER' 'KUPPAM RIVER'\n",
                  " 'THALASSERY RIVER' 'ANCHARAKANDY RIVER' 'VALAPATTANAM RIVER'\n",
                  " 'NEELESWARAM RIVER' 'KARIANGODE RIVER' 'CHANDRAGIRI RIVER'\n",
                  " 'SHIRIYA RIVER' 'MANJESWARAM RIVER' 'PERUVAMBA RIVER' 'KORAYAR RIVER'\n",
                  " 'MANIYANKODE RIVER' 'SASTHAMKOTTA' 'POOKODE' 'PAZHASSI RESERVOIR'\n",
                  " 'EDAMALAYAR RESERVOIR' 'MALAMPUZHA RESERVOIR'\n",
                  " 'PERIYAR (THEKKADY) RESERVOIR' 'MANANCHIRA POND']\n",
                  "....................................\n"
                ]
              }
            ],
            "_view_module": "@jupyter-widgets/output",
            "_model_module_version": "1.0.0",
            "_view_count": null,
            "_view_module_version": "1.0.0",
            "layout": "IPY_MODEL_f31f7b85df254b139ec5169c8f07d021",
            "_model_module": "@jupyter-widgets/output"
          }
        },
        "52896e6caa624987aa04b23eaca912d3": {
          "model_module": "@jupyter-widgets/controls",
          "model_name": "DescriptionStyleModel",
          "model_module_version": "1.5.0",
          "state": {
            "_view_name": "StyleView",
            "_model_name": "DescriptionStyleModel",
            "description_width": "",
            "_view_module": "@jupyter-widgets/base",
            "_model_module_version": "1.5.0",
            "_view_count": null,
            "_view_module_version": "1.2.0",
            "_model_module": "@jupyter-widgets/controls"
          }
        },
        "9dfe660bc1124bf5951a78d29ce4a646": {
          "model_module": "@jupyter-widgets/base",
          "model_name": "LayoutModel",
          "model_module_version": "1.2.0",
          "state": {
            "_view_name": "LayoutView",
            "grid_template_rows": null,
            "right": null,
            "justify_content": null,
            "_view_module": "@jupyter-widgets/base",
            "overflow": null,
            "_model_module_version": "1.2.0",
            "_view_count": null,
            "flex_flow": null,
            "width": null,
            "min_width": null,
            "border": null,
            "align_items": null,
            "bottom": null,
            "_model_module": "@jupyter-widgets/base",
            "top": null,
            "grid_column": null,
            "overflow_y": null,
            "overflow_x": null,
            "grid_auto_flow": null,
            "grid_area": null,
            "grid_template_columns": null,
            "flex": null,
            "_model_name": "LayoutModel",
            "justify_items": null,
            "grid_row": null,
            "max_height": null,
            "align_content": null,
            "visibility": null,
            "align_self": null,
            "height": null,
            "min_height": null,
            "padding": null,
            "grid_auto_rows": null,
            "grid_gap": null,
            "max_width": null,
            "order": null,
            "_view_module_version": "1.2.0",
            "grid_template_areas": null,
            "object_position": null,
            "object_fit": null,
            "grid_auto_columns": null,
            "margin": null,
            "display": null,
            "left": null
          }
        },
        "f31f7b85df254b139ec5169c8f07d021": {
          "model_module": "@jupyter-widgets/base",
          "model_name": "LayoutModel",
          "model_module_version": "1.2.0",
          "state": {
            "_view_name": "LayoutView",
            "grid_template_rows": null,
            "right": null,
            "justify_content": null,
            "_view_module": "@jupyter-widgets/base",
            "overflow": null,
            "_model_module_version": "1.2.0",
            "_view_count": null,
            "flex_flow": null,
            "width": null,
            "min_width": null,
            "border": null,
            "align_items": null,
            "bottom": null,
            "_model_module": "@jupyter-widgets/base",
            "top": null,
            "grid_column": null,
            "overflow_y": null,
            "overflow_x": null,
            "grid_auto_flow": null,
            "grid_area": null,
            "grid_template_columns": null,
            "flex": null,
            "_model_name": "LayoutModel",
            "justify_items": null,
            "grid_row": null,
            "max_height": null,
            "align_content": null,
            "visibility": null,
            "align_self": null,
            "height": null,
            "min_height": null,
            "padding": null,
            "grid_auto_rows": null,
            "grid_gap": null,
            "max_width": null,
            "order": null,
            "_view_module_version": "1.2.0",
            "grid_template_areas": null,
            "object_position": null,
            "object_fit": null,
            "grid_auto_columns": null,
            "margin": null,
            "display": null,
            "left": null
          }
        },
        "595564808a484c9f9e48595fd1330579": {
          "model_module": "@jupyter-widgets/controls",
          "model_name": "VBoxModel",
          "model_module_version": "1.5.0",
          "state": {
            "_view_name": "VBoxView",
            "_dom_classes": [
              "widget-interact"
            ],
            "_model_name": "VBoxModel",
            "_view_module": "@jupyter-widgets/controls",
            "_model_module_version": "1.5.0",
            "_view_count": null,
            "_view_module_version": "1.5.0",
            "box_style": "",
            "layout": "IPY_MODEL_57be1ec2d7894fc08050e5182b3655e7",
            "_model_module": "@jupyter-widgets/controls",
            "children": [
              "IPY_MODEL_ca5cbd89d52b4fe4accb3e16c106b269",
              "IPY_MODEL_5179264a2dfc443a89ceaea5119acbb5"
            ]
          }
        },
        "57be1ec2d7894fc08050e5182b3655e7": {
          "model_module": "@jupyter-widgets/base",
          "model_name": "LayoutModel",
          "model_module_version": "1.2.0",
          "state": {
            "_view_name": "LayoutView",
            "grid_template_rows": null,
            "right": null,
            "justify_content": null,
            "_view_module": "@jupyter-widgets/base",
            "overflow": null,
            "_model_module_version": "1.2.0",
            "_view_count": null,
            "flex_flow": null,
            "width": null,
            "min_width": null,
            "border": null,
            "align_items": null,
            "bottom": null,
            "_model_module": "@jupyter-widgets/base",
            "top": null,
            "grid_column": null,
            "overflow_y": null,
            "overflow_x": null,
            "grid_auto_flow": null,
            "grid_area": null,
            "grid_template_columns": null,
            "flex": null,
            "_model_name": "LayoutModel",
            "justify_items": null,
            "grid_row": null,
            "max_height": null,
            "align_content": null,
            "visibility": null,
            "align_self": null,
            "height": null,
            "min_height": null,
            "padding": null,
            "grid_auto_rows": null,
            "grid_gap": null,
            "max_width": null,
            "order": null,
            "_view_module_version": "1.2.0",
            "grid_template_areas": null,
            "object_position": null,
            "object_fit": null,
            "grid_auto_columns": null,
            "margin": null,
            "display": null,
            "left": null
          }
        },
        "ca5cbd89d52b4fe4accb3e16c106b269": {
          "model_module": "@jupyter-widgets/controls",
          "model_name": "DropdownModel",
          "model_module_version": "1.5.0",
          "state": {
            "_options_labels": [
              "B",
              "C",
              "Below E",
              "D",
              "E",
              "A"
            ],
            "_view_name": "DropdownView",
            "style": "IPY_MODEL_fe202fc1fe9741368c26443329a8d529",
            "_dom_classes": [],
            "description": "CLASS",
            "_model_name": "DropdownModel",
            "index": 0,
            "_view_module": "@jupyter-widgets/controls",
            "_model_module_version": "1.5.0",
            "_view_count": null,
            "disabled": false,
            "_view_module_version": "1.5.0",
            "description_tooltip": null,
            "_model_module": "@jupyter-widgets/controls",
            "layout": "IPY_MODEL_cfb76ccbfbd9473c9978bf1d2d090977"
          }
        },
        "5179264a2dfc443a89ceaea5119acbb5": {
          "model_module": "@jupyter-widgets/output",
          "model_name": "OutputModel",
          "model_module_version": "1.0.0",
          "state": {
            "_view_name": "OutputView",
            "msg_id": "",
            "_dom_classes": [],
            "_model_name": "OutputModel",
            "outputs": [
              {
                "output_type": "stream",
                "name": "stdout",
                "text": [
                  "....................................\n",
                  "List water stations belonging to class B\n",
                  "8         Peppara \n",
                  "9       Aruvikkara\n",
                  "10    Kottuvamukku\n",
                  "11           Ayoor\n",
                  "12      Aruvapulam\n",
                  "          ...     \n",
                  "85      Pazhassi  \n",
                  "86    Edamalayar  \n",
                  "87     Malampuzha \n",
                  "88    Thannikudy  \n",
                  "89    Mananchira  \n",
                  "Name: Stations, Length: 82, dtype: object\n",
                  "....................................\n"
                ]
              }
            ],
            "_view_module": "@jupyter-widgets/output",
            "_model_module_version": "1.0.0",
            "_view_count": null,
            "_view_module_version": "1.0.0",
            "layout": "IPY_MODEL_c95b57563995487cada9fdc1f98ec1c7",
            "_model_module": "@jupyter-widgets/output"
          }
        },
        "fe202fc1fe9741368c26443329a8d529": {
          "model_module": "@jupyter-widgets/controls",
          "model_name": "DescriptionStyleModel",
          "model_module_version": "1.5.0",
          "state": {
            "_view_name": "StyleView",
            "_model_name": "DescriptionStyleModel",
            "description_width": "",
            "_view_module": "@jupyter-widgets/base",
            "_model_module_version": "1.5.0",
            "_view_count": null,
            "_view_module_version": "1.2.0",
            "_model_module": "@jupyter-widgets/controls"
          }
        },
        "cfb76ccbfbd9473c9978bf1d2d090977": {
          "model_module": "@jupyter-widgets/base",
          "model_name": "LayoutModel",
          "model_module_version": "1.2.0",
          "state": {
            "_view_name": "LayoutView",
            "grid_template_rows": null,
            "right": null,
            "justify_content": null,
            "_view_module": "@jupyter-widgets/base",
            "overflow": null,
            "_model_module_version": "1.2.0",
            "_view_count": null,
            "flex_flow": null,
            "width": null,
            "min_width": null,
            "border": null,
            "align_items": null,
            "bottom": null,
            "_model_module": "@jupyter-widgets/base",
            "top": null,
            "grid_column": null,
            "overflow_y": null,
            "overflow_x": null,
            "grid_auto_flow": null,
            "grid_area": null,
            "grid_template_columns": null,
            "flex": null,
            "_model_name": "LayoutModel",
            "justify_items": null,
            "grid_row": null,
            "max_height": null,
            "align_content": null,
            "visibility": null,
            "align_self": null,
            "height": null,
            "min_height": null,
            "padding": null,
            "grid_auto_rows": null,
            "grid_gap": null,
            "max_width": null,
            "order": null,
            "_view_module_version": "1.2.0",
            "grid_template_areas": null,
            "object_position": null,
            "object_fit": null,
            "grid_auto_columns": null,
            "margin": null,
            "display": null,
            "left": null
          }
        },
        "c95b57563995487cada9fdc1f98ec1c7": {
          "model_module": "@jupyter-widgets/base",
          "model_name": "LayoutModel",
          "model_module_version": "1.2.0",
          "state": {
            "_view_name": "LayoutView",
            "grid_template_rows": null,
            "right": null,
            "justify_content": null,
            "_view_module": "@jupyter-widgets/base",
            "overflow": null,
            "_model_module_version": "1.2.0",
            "_view_count": null,
            "flex_flow": null,
            "width": null,
            "min_width": null,
            "border": null,
            "align_items": null,
            "bottom": null,
            "_model_module": "@jupyter-widgets/base",
            "top": null,
            "grid_column": null,
            "overflow_y": null,
            "overflow_x": null,
            "grid_auto_flow": null,
            "grid_area": null,
            "grid_template_columns": null,
            "flex": null,
            "_model_name": "LayoutModel",
            "justify_items": null,
            "grid_row": null,
            "max_height": null,
            "align_content": null,
            "visibility": null,
            "align_self": null,
            "height": null,
            "min_height": null,
            "padding": null,
            "grid_auto_rows": null,
            "grid_gap": null,
            "max_width": null,
            "order": null,
            "_view_module_version": "1.2.0",
            "grid_template_areas": null,
            "object_position": null,
            "object_fit": null,
            "grid_auto_columns": null,
            "margin": null,
            "display": null,
            "left": null
          }
        },
        "c1b7e39bb8dc49c6abd4f7a766cdc581": {
          "model_module": "@jupyter-widgets/controls",
          "model_name": "VBoxModel",
          "model_module_version": "1.5.0",
          "state": {
            "_view_name": "VBoxView",
            "_dom_classes": [
              "widget-interact"
            ],
            "_model_name": "VBoxModel",
            "_view_module": "@jupyter-widgets/controls",
            "_model_module_version": "1.5.0",
            "_view_count": null,
            "_view_module_version": "1.5.0",
            "box_style": "",
            "layout": "IPY_MODEL_768a8ccca32b4fb088cdd667f125d4f3",
            "_model_module": "@jupyter-widgets/controls",
            "children": [
              "IPY_MODEL_5cc90de047114ed0889f2e5bbeb9df53",
              "IPY_MODEL_e1a62c5e60ba47f6a515cbbc61a57c96"
            ]
          }
        },
        "768a8ccca32b4fb088cdd667f125d4f3": {
          "model_module": "@jupyter-widgets/base",
          "model_name": "LayoutModel",
          "model_module_version": "1.2.0",
          "state": {
            "_view_name": "LayoutView",
            "grid_template_rows": null,
            "right": null,
            "justify_content": null,
            "_view_module": "@jupyter-widgets/base",
            "overflow": null,
            "_model_module_version": "1.2.0",
            "_view_count": null,
            "flex_flow": null,
            "width": null,
            "min_width": null,
            "border": null,
            "align_items": null,
            "bottom": null,
            "_model_module": "@jupyter-widgets/base",
            "top": null,
            "grid_column": null,
            "overflow_y": null,
            "overflow_x": null,
            "grid_auto_flow": null,
            "grid_area": null,
            "grid_template_columns": null,
            "flex": null,
            "_model_name": "LayoutModel",
            "justify_items": null,
            "grid_row": null,
            "max_height": null,
            "align_content": null,
            "visibility": null,
            "align_self": null,
            "height": null,
            "min_height": null,
            "padding": null,
            "grid_auto_rows": null,
            "grid_gap": null,
            "max_width": null,
            "order": null,
            "_view_module_version": "1.2.0",
            "grid_template_areas": null,
            "object_position": null,
            "object_fit": null,
            "grid_auto_columns": null,
            "margin": null,
            "display": null,
            "left": null
          }
        },
        "5cc90de047114ed0889f2e5bbeb9df53": {
          "model_module": "@jupyter-widgets/controls",
          "model_name": "DropdownModel",
          "model_module_version": "1.5.0",
          "state": {
            "_options_labels": [
              "BHARATHAPUZHA",
              "PAMBA RIVER",
              "MANIMALA RIVER",
              "CHALIYAR RIVER",
              "PERIYAR RIVER",
              "ACHENKOVIL RIVER",
              "KABANI RIVER",
              "MUVATTUPUZHA",
              "MEENACHIL RIVER",
              "VAMANAPURAM RIVER",
              "SASTHAMKOTTA",
              "KADALUNDI RIVER",
              "SHIRIYA RIVER",
              "CHALAKUDY RIVER",
              "KARUVANNUR RIVER",
              "KALLADA RIVER",
              "MUNNAR RIVER",
              "PERIYAR (THEKKADY) RESERVOIR",
              "VALAPATTANAM RIVER",
              "THODUPUZHA",
              "TIRUR RIVER",
              "KARAMANA RIVER",
              "BHAVANI RIVER",
              "ITHIKKARA RIVER",
              "PAMBA",
              "POOKODE",
              "KORAPUZHA",
              "KADAMBRAYAR RIVER",
              "VEMBANADU LAKE",
              "NEELESWARAM RIVER",
              "ANCHARAKANDY RIVER",
              "KUPPAM RIVER",
              "POOKODE LAKE",
              "KAYAMKULAM LAKE",
              "PALAKKATTUTHAZHAM THODU",
              "CANOLI CANAL",
              "AKKULAM",
              "PARAVUR LAKE",
              "CHITHRAPUZHA RIVER",
              "VELLAYANI LAKE",
              "KODUNGALLUR LAKE",
              "PADMATHEERTHAM POND",
              "KALLAI RIVER",
              "RAMAPURAM RIVER",
              "PUNNAMADA LAKE",
              "MOGRAL RIVER",
              "UPPALA RIVER",
              "ASHTAMUDI LAKE",
              "BHOOTHATHANKETTU RESERVOIR",
              "NEYYAR",
              "PULLUR RIVER",
              "KAVAI RIVER",
              "KARAPUZHA RESERVOIR",
              "KARAMANA",
              "PUZHAKKAL RIVER",
              "KEECHERI RIVER",
              "THALASSERY RIVER",
              "KARIANGODE RIVER",
              "CHANDRAGIRI RIVER",
              "MANJESWARAM RIVER",
              "PERUVAMBA RIVER",
              "KORAYAR RIVER",
              "MANIYANKODE RIVER",
              "PAZHASSI RESERVOIR",
              "EDAMALAYAR RESERVOIR",
              "MALAMPUZHA RESERVOIR",
              "MANANCHIRA POND",
              "MAMOM RIVER",
              "AYROOR RIVER",
              "CHALAKUDY  RIVER",
              "MAHE RIVER",
              "UNTHITHODE"
            ],
            "_view_name": "DropdownView",
            "style": "IPY_MODEL_0ae3b8c3e37c42e7ae6caa80f87dcd16",
            "_dom_classes": [],
            "description": "Source",
            "_model_name": "DropdownModel",
            "index": 0,
            "_view_module": "@jupyter-widgets/controls",
            "_model_module_version": "1.5.0",
            "_view_count": null,
            "disabled": false,
            "_view_module_version": "1.5.0",
            "description_tooltip": null,
            "_model_module": "@jupyter-widgets/controls",
            "layout": "IPY_MODEL_ffd3b6473de341b3be6bfdc9d060ea3d"
          }
        },
        "e1a62c5e60ba47f6a515cbbc61a57c96": {
          "model_module": "@jupyter-widgets/output",
          "model_name": "OutputModel",
          "model_module_version": "1.0.0",
          "state": {
            "_view_name": "OutputView",
            "msg_id": "",
            "_dom_classes": [],
            "_model_name": "OutputModel",
            "outputs": [
              {
                "output_type": "stream",
                "name": "stdout",
                "text": [
                  "....................................\n",
                  "Statistics for pH\n",
                  "Minimum pH of the water body is : 6.0\n",
                  "Average pH of the water body is : 7.437500000000001\n",
                  "Maximum pH of the water body is : 8.5\n",
                  "....................................\n",
                  "....................................\n",
                  "Statistics for EC\n",
                  "Minimum EC of the water body in µmhos/cm is : 56\n",
                  "Average EC of the water body in µmhos/cm is : 420.0833333333333\n",
                  "Maximum EC of the water body in µmhos/cm is : 1566\n",
                  "....................................\n",
                  "....................................\n",
                  "Statistics for DO\n",
                  "Minimum DO of the water body in mg/l is : 2.6\n",
                  "Average DO of the water body in mg/l is : 6.304166666666667\n",
                  "Maximum DO of the water body in mg/l is : : 8.8\n",
                  "....................................\n",
                  "....................................\n",
                  "Statistics for BOD\n",
                  "Minimum BOD of the water body in mg/l is : 0.3\n",
                  "Average BOD of the water body in mg/l is : 3.5416666666666665\n",
                  "Maximum BOD of the water body in mg/l is :"
                ]
              },
              {
                "output_type": "stream",
                "name": "stdout",
                "text": [
                  " 29.6\n",
                  "....................................\n",
                  "....................................\n",
                  "Statistics for TC\n",
                  "Minimum TC of the water body in mg/l is : 4\n",
                  "Average TC of the water body in mg/l is : 616.5\n",
                  "Maximum TC of the water body in mg/l is : 3000\n",
                  "....................................\n",
                  "Statistics for FC\n",
                  "Minimum FC of the water body in MPN/100ml is : 0\n",
                  "Average FC of the water body in MPN/100ml is : 338.5\n",
                  "Maximum FC of the water body in MPN/100ml is : 1500\n",
                  "....................................\n"
                ]
              }
            ],
            "_view_module": "@jupyter-widgets/output",
            "_model_module_version": "1.0.0",
            "_view_count": null,
            "_view_module_version": "1.0.0",
            "layout": "IPY_MODEL_2ebff98c4c694ec69b33fd447c3ee784",
            "_model_module": "@jupyter-widgets/output"
          }
        },
        "0ae3b8c3e37c42e7ae6caa80f87dcd16": {
          "model_module": "@jupyter-widgets/controls",
          "model_name": "DescriptionStyleModel",
          "model_module_version": "1.5.0",
          "state": {
            "_view_name": "StyleView",
            "_model_name": "DescriptionStyleModel",
            "description_width": "",
            "_view_module": "@jupyter-widgets/base",
            "_model_module_version": "1.5.0",
            "_view_count": null,
            "_view_module_version": "1.2.0",
            "_model_module": "@jupyter-widgets/controls"
          }
        },
        "ffd3b6473de341b3be6bfdc9d060ea3d": {
          "model_module": "@jupyter-widgets/base",
          "model_name": "LayoutModel",
          "model_module_version": "1.2.0",
          "state": {
            "_view_name": "LayoutView",
            "grid_template_rows": null,
            "right": null,
            "justify_content": null,
            "_view_module": "@jupyter-widgets/base",
            "overflow": null,
            "_model_module_version": "1.2.0",
            "_view_count": null,
            "flex_flow": null,
            "width": null,
            "min_width": null,
            "border": null,
            "align_items": null,
            "bottom": null,
            "_model_module": "@jupyter-widgets/base",
            "top": null,
            "grid_column": null,
            "overflow_y": null,
            "overflow_x": null,
            "grid_auto_flow": null,
            "grid_area": null,
            "grid_template_columns": null,
            "flex": null,
            "_model_name": "LayoutModel",
            "justify_items": null,
            "grid_row": null,
            "max_height": null,
            "align_content": null,
            "visibility": null,
            "align_self": null,
            "height": null,
            "min_height": null,
            "padding": null,
            "grid_auto_rows": null,
            "grid_gap": null,
            "max_width": null,
            "order": null,
            "_view_module_version": "1.2.0",
            "grid_template_areas": null,
            "object_position": null,
            "object_fit": null,
            "grid_auto_columns": null,
            "margin": null,
            "display": null,
            "left": null
          }
        },
        "2ebff98c4c694ec69b33fd447c3ee784": {
          "model_module": "@jupyter-widgets/base",
          "model_name": "LayoutModel",
          "model_module_version": "1.2.0",
          "state": {
            "_view_name": "LayoutView",
            "grid_template_rows": null,
            "right": null,
            "justify_content": null,
            "_view_module": "@jupyter-widgets/base",
            "overflow": null,
            "_model_module_version": "1.2.0",
            "_view_count": null,
            "flex_flow": null,
            "width": null,
            "min_width": null,
            "border": null,
            "align_items": null,
            "bottom": null,
            "_model_module": "@jupyter-widgets/base",
            "top": null,
            "grid_column": null,
            "overflow_y": null,
            "overflow_x": null,
            "grid_auto_flow": null,
            "grid_area": null,
            "grid_template_columns": null,
            "flex": null,
            "_model_name": "LayoutModel",
            "justify_items": null,
            "grid_row": null,
            "max_height": null,
            "align_content": null,
            "visibility": null,
            "align_self": null,
            "height": null,
            "min_height": null,
            "padding": null,
            "grid_auto_rows": null,
            "grid_gap": null,
            "max_width": null,
            "order": null,
            "_view_module_version": "1.2.0",
            "grid_template_areas": null,
            "object_position": null,
            "object_fit": null,
            "grid_auto_columns": null,
            "margin": null,
            "display": null,
            "left": null
          }
        },
        "d36c2c0b9edf417b906557c19c2593f2": {
          "model_module": "@jupyter-widgets/controls",
          "model_name": "VBoxModel",
          "model_module_version": "1.5.0",
          "state": {
            "_view_name": "VBoxView",
            "_dom_classes": [
              "widget-interact"
            ],
            "_model_name": "VBoxModel",
            "_view_module": "@jupyter-widgets/controls",
            "_model_module_version": "1.5.0",
            "_view_count": null,
            "_view_module_version": "1.5.0",
            "box_style": "",
            "layout": "IPY_MODEL_57dbc5791d6b413c9a1925ea8392c8c7",
            "_model_module": "@jupyter-widgets/controls",
            "children": [
              "IPY_MODEL_61133056188a484b8e275e8ef943b0d1",
              "IPY_MODEL_61e776c51f3a4a409be6a00d1cfab0ff"
            ]
          }
        },
        "57dbc5791d6b413c9a1925ea8392c8c7": {
          "model_module": "@jupyter-widgets/base",
          "model_name": "LayoutModel",
          "model_module_version": "1.2.0",
          "state": {
            "_view_name": "LayoutView",
            "grid_template_rows": null,
            "right": null,
            "justify_content": null,
            "_view_module": "@jupyter-widgets/base",
            "overflow": null,
            "_model_module_version": "1.2.0",
            "_view_count": null,
            "flex_flow": null,
            "width": null,
            "min_width": null,
            "border": null,
            "align_items": null,
            "bottom": null,
            "_model_module": "@jupyter-widgets/base",
            "top": null,
            "grid_column": null,
            "overflow_y": null,
            "overflow_x": null,
            "grid_auto_flow": null,
            "grid_area": null,
            "grid_template_columns": null,
            "flex": null,
            "_model_name": "LayoutModel",
            "justify_items": null,
            "grid_row": null,
            "max_height": null,
            "align_content": null,
            "visibility": null,
            "align_self": null,
            "height": null,
            "min_height": null,
            "padding": null,
            "grid_auto_rows": null,
            "grid_gap": null,
            "max_width": null,
            "order": null,
            "_view_module_version": "1.2.0",
            "grid_template_areas": null,
            "object_position": null,
            "object_fit": null,
            "grid_auto_columns": null,
            "margin": null,
            "display": null,
            "left": null
          }
        },
        "61133056188a484b8e275e8ef943b0d1": {
          "model_module": "@jupyter-widgets/controls",
          "model_name": "DropdownModel",
          "model_module_version": "1.5.0",
          "state": {
            "_options_labels": [
              "Pazhassi  ",
              "Vandithadam  ",
              "Oravambrum ",
              "Valayam  ",
              "Kooloopalam  ",
              "Ezhur ",
              "Nilambur  ",
              "Kuruvanpuzha  ",
              "Vadapuram  ",
              "Mundayamthodu ",
              "Areacode ",
              "Koolimadu  ",
              "Elachivazhi ",
              "Estatemukku  ",
              "Pullur  ",
              "Kuttiyolpalam  ",
              "Padikkayam  ",
              "Kakkamoola Left  ",
              "Kakkamoola Right ",
              "Vaavamoola Left  ",
              "Vaavamoola Right  ",
              "Agriculture College",
              "Punnamada  ",
              "Bhoothathankettu ",
              "Canal Shutter",
              "Boat Landing",
              "Mangalam ",
              "Thrippalur  ",
              "Karanchira  ",
              "Karuvannur ",
              "Thondara",
              "Kottikkal  ",
              "Erumeli  ",
              "Pazhayidam ",
              "Valakkayam  ",
              "Manimala  ",
              "Mallappally  ",
              "Thottabhagam  ",
              "Kalady ",
              "KWA Aluva  ",
              "SDP Aluva ",
              "Muppathadam  ",
              "Kalamassery  ",
              "Malankara Dam  ",
              "Muvattupuzha  ",
              "Peruvammoozhy",
              "Ramamangalam  ",
              "Piravom  ",
              "Vettikkattumukku",
              "Murinjapuzha ",
              "Chalakudy Bridge  ",
              "Pulickakadavu  ",
              "Mupliyam Bridge ",
              "Thekkady ",
              "Kakkiyar",
              "Thazhathangadi  ",
              "Ramapuram  ",
              "Ithikkara",
              "Uppukadavu",
              "Thazhepalam  ",
              "Thalakkadathur  ",
              "Mangattiri  ",
              "Kallai Bridge  ",
              "Kanayankode  ",
              "Purakkattiri  ",
              "Anapparakadavu  ",
              "Thaliparambu  ",
              "Ancharakkandy  ",
              "Chengalayi  ",
              "Triveni Upstream",
              "Parassinikadavu  ",
              "Valapattanam  ",
              "Hosdurg  ",
              "Mogral Bridge ",
              "Uppala Bridge  ",
              "Neendakara  ",
              "Paravur  ",
              "Oil Tanker Jetty  ",
              "Kodungallur  ",
              "Kayamkulam  ",
              "Canoli ",
              "Padmatheertham  ",
              "Pathiramanal  ",
              "Irumpanam  ",
              "Brahmapuram  ",
              "Njunagar",
              "Near Malankara Dam ",
              "Near Mooppilakkadavu Bridge",
              "Near Pappootty Bar & Restaurant",
              "Near Vengalloor Bridge  ",
              "Thookkupalam Near Chittoor",
              "Pambar  ",
              "Nallathanni  ",
              "Kundala  ",
              "Muthirappuzha  ",
              "Near KSEB Head  ",
              "Oruvathilkotta",
              "Palakkattuthazham Thodu",
              "Pallathukadavu",
              "Thiruvallom",
              "Moonnattumukku",
              "Kannankottukadavu",
              "Eloor ",
              "Pathalam  ",
              "Purappillikadavu  ",
              "Chungappally  ",
              "Feroke  ",
              "Manakkakadavu  ",
              "Kumarakam  ",
              "Punnathara  ",
              "Anakkayam  ",
              "Shornur  ",
              "Pulikkakadavu  ",
              "Palapuzhakadavu ",
              "Kainoorchira Bridge",
              "Palakadavu ",
              "Kottenkode  ",
              "Puzhakkal  ",
              "Vadakkancherry  ",
              "Naragampilly  ",
              "Arangottukulumbu",
              "Parali  ",
              "Lakkidi  ",
              "Pattambi  ",
              "Kidangoor  ",
              "Thootha  ",
              "Kuttipuram  ",
              "Thavannoor  ",
              "Nariparamba ",
              "Thiroorangadi  ",
              "Muthankara  ",
              "U/S of Panamaram ",
              "D/S of Panamaram  ",
              "At DTPC ",
              "At Forest kadavu",
              "At Thonikadavu  ",
              "Kanjirapilly ",
              "Vettilappara  ",
              "Peringal Bridge  ",
              "Yendhayar ",
              "Hajiyarappally  ",
              "Manikuth  ",
              "Kooriyad  ",
              "Silt Depositing ",
              "Second Deepest  Point",
              "Karapuzha Dam ",
              "Peppara ",
              "Aruvikkara",
              "Kottuvamukku",
              "Ayoor",
              "Aruvapulam",
              "Konni ",
              "Kumpazha",
              "Kallarakadavu",
              "Thumpamon",
              "Pandalam",
              "Pallipad",
              "Chennithala",
              "Perumthottakadavu",
              "Pathanapuram",
              "Enathu",
              "Pamba Down",
              "Kallooppara ",
              "U_S of Mananthavadi",
              "D_S of Mananthavadi",
              "Thavalam  ",
              "Deepest Point  ",
              "Edamalayar  ",
              "Malampuzha ",
              "Thannikudy  ",
              "Mananchira  ",
              "Amaravila",
              "Mamom",
              "Ayroor",
              "Mangattukadavu",
              "Vamanapuram",
              "Urukunnu",
              "Punalur",
              "Kochupampa",
              "Vadasserikkara",
              "Athikkayam",
              "Ranni",
              "Kozhencherry",
              "Chengannoor",
              "Edatua",
              "Thakazhi",
              "Pulinkunnu",
              "Theekoy",
              "Bharanganam ",
              "Kadappattoor ",
              "Pookode ",
              "Boat Jetty  ",
              "Kottathara ",
              "Vattolikadavu  ",
              "Rayoram  ",
              "Pathipalam  ",
              "Meruvambai  ",
              "Irikkoor ",
              "Nambiarckal  ",
              "Kakkadavu  ",
              "Padiathadka  ",
              "Yethadka  ",
              "Bakkilapadavu  ",
              "Swargathodu  ",
              "Vani Nagar  ",
              "Sullyapadavu  ",
              "Angadimogaru  ",
              "Bajrakkara  ",
              "Chandrapura  ",
              "Kanjikkode ",
              "Maniyankode  ",
              "Sasthamkotta ",
              "Ambalakkadavu  ",
              "KWA Pumphouse ",
              "Kottakuzhy  ",
              "Vilanthara ",
              "Pottakannamukku",
              "Unthithode  "
            ],
            "_view_name": "DropdownView",
            "style": "IPY_MODEL_002a8334bb5a49f4a6f4a8bfe2fcb6dc",
            "_dom_classes": [],
            "description": "Stations",
            "_model_name": "DropdownModel",
            "index": 0,
            "_view_module": "@jupyter-widgets/controls",
            "_model_module_version": "1.5.0",
            "_view_count": null,
            "disabled": false,
            "_view_module_version": "1.5.0",
            "description_tooltip": null,
            "_model_module": "@jupyter-widgets/controls",
            "layout": "IPY_MODEL_55fdae0cf3364d58b18363336ed77af4"
          }
        },
        "61e776c51f3a4a409be6a00d1cfab0ff": {
          "model_module": "@jupyter-widgets/output",
          "model_name": "OutputModel",
          "model_module_version": "1.0.0",
          "state": {
            "_view_name": "OutputView",
            "msg_id": "",
            "_dom_classes": [],
            "_model_name": "OutputModel",
            "outputs": [
              {
                "output_type": "stream",
                "name": "stdout",
                "text": [
                  "....................................\n",
                  "Statistics for pH\n",
                  "Minimum pH of the water station is : 6.7\n",
                  "Average pH of the water station is : 7.35\n",
                  "Maximum pH of the water station is : 8.0\n",
                  "....................................\n",
                  "....................................\n",
                  "Statistics for EC\n",
                  "Minimum EC of the water station in µmhos/cm is : 36\n",
                  "Average EC of the water station in µmhos/cm is : 64.0\n",
                  "Maximum EC of the water station in µmhos/cm is : 92\n",
                  "....................................\n",
                  "....................................\n",
                  "Statistics for DO\n",
                  "Minimum DO of the water station in mg/l is : 6.3\n",
                  "Average DO of the water station in mg/l is : 7.199999999999999\n",
                  "Maximum DO of the water station in mg/l is : : 8.1\n",
                  "....................................\n",
                  "....................................\n",
                  "Statistics for BOD\n",
                  "Minimum BOD of the water station in mg/l is : 0.1\n",
                  "Average BOD of the water station in mg/l is : 0.65\n",
                  "Maximum BOD of the water station in mg/l is : 1.2\n",
                  "....................................\n",
                  "....................................\n",
                  "Statistics for TC\n",
                  "Minimum TC of the water station in MPN/100ml is : 40\n",
                  "Average TC of the water station in MPN/100ml is : 270.0\n",
                  "Maximum TC of the water station in MPN/100ml is : 500\n",
                  "....................................\n",
                  "....................................\n",
                  "Statistics for FC\n",
                  "Minimum FC of the water station in MPN/100ml is : 5\n",
                  "Average FC of the water station in MPN/100ml is : 82.5\n",
                  "Maximum FC of the water station in MPN/100ml is : 160\n",
                  "....................................\n"
                ]
              }
            ],
            "_view_module": "@jupyter-widgets/output",
            "_model_module_version": "1.0.0",
            "_view_count": null,
            "_view_module_version": "1.0.0",
            "layout": "IPY_MODEL_0dbad91f8c624c3e8cc2e02a060db20a",
            "_model_module": "@jupyter-widgets/output"
          }
        },
        "002a8334bb5a49f4a6f4a8bfe2fcb6dc": {
          "model_module": "@jupyter-widgets/controls",
          "model_name": "DescriptionStyleModel",
          "model_module_version": "1.5.0",
          "state": {
            "_view_name": "StyleView",
            "_model_name": "DescriptionStyleModel",
            "description_width": "",
            "_view_module": "@jupyter-widgets/base",
            "_model_module_version": "1.5.0",
            "_view_count": null,
            "_view_module_version": "1.2.0",
            "_model_module": "@jupyter-widgets/controls"
          }
        },
        "55fdae0cf3364d58b18363336ed77af4": {
          "model_module": "@jupyter-widgets/base",
          "model_name": "LayoutModel",
          "model_module_version": "1.2.0",
          "state": {
            "_view_name": "LayoutView",
            "grid_template_rows": null,
            "right": null,
            "justify_content": null,
            "_view_module": "@jupyter-widgets/base",
            "overflow": null,
            "_model_module_version": "1.2.0",
            "_view_count": null,
            "flex_flow": null,
            "width": null,
            "min_width": null,
            "border": null,
            "align_items": null,
            "bottom": null,
            "_model_module": "@jupyter-widgets/base",
            "top": null,
            "grid_column": null,
            "overflow_y": null,
            "overflow_x": null,
            "grid_auto_flow": null,
            "grid_area": null,
            "grid_template_columns": null,
            "flex": null,
            "_model_name": "LayoutModel",
            "justify_items": null,
            "grid_row": null,
            "max_height": null,
            "align_content": null,
            "visibility": null,
            "align_self": null,
            "height": null,
            "min_height": null,
            "padding": null,
            "grid_auto_rows": null,
            "grid_gap": null,
            "max_width": null,
            "order": null,
            "_view_module_version": "1.2.0",
            "grid_template_areas": null,
            "object_position": null,
            "object_fit": null,
            "grid_auto_columns": null,
            "margin": null,
            "display": null,
            "left": null
          }
        },
        "0dbad91f8c624c3e8cc2e02a060db20a": {
          "model_module": "@jupyter-widgets/base",
          "model_name": "LayoutModel",
          "model_module_version": "1.2.0",
          "state": {
            "_view_name": "LayoutView",
            "grid_template_rows": null,
            "right": null,
            "justify_content": null,
            "_view_module": "@jupyter-widgets/base",
            "overflow": null,
            "_model_module_version": "1.2.0",
            "_view_count": null,
            "flex_flow": null,
            "width": null,
            "min_width": null,
            "border": null,
            "align_items": null,
            "bottom": null,
            "_model_module": "@jupyter-widgets/base",
            "top": null,
            "grid_column": null,
            "overflow_y": null,
            "overflow_x": null,
            "grid_auto_flow": null,
            "grid_area": null,
            "grid_template_columns": null,
            "flex": null,
            "_model_name": "LayoutModel",
            "justify_items": null,
            "grid_row": null,
            "max_height": null,
            "align_content": null,
            "visibility": null,
            "align_self": null,
            "height": null,
            "min_height": null,
            "padding": null,
            "grid_auto_rows": null,
            "grid_gap": null,
            "max_width": null,
            "order": null,
            "_view_module_version": "1.2.0",
            "grid_template_areas": null,
            "object_position": null,
            "object_fit": null,
            "grid_auto_columns": null,
            "margin": null,
            "display": null,
            "left": null
          }
        }
      }
    }
  },
  "cells": [
    {
      "cell_type": "markdown",
      "metadata": {
        "id": "view-in-github",
        "colab_type": "text"
      },
      "source": [
        "<a href=\"https://colab.research.google.com/github/RemyaRS/Machine_Learning_Case_Studies/blob/main/ML2_Classification_and_Analysis_of_Water_Quality_Using_MachineLearning_Algorithms.ipynb\" target=\"_parent\"><img src=\"https://colab.research.google.com/assets/colab-badge.svg\" alt=\"Open In Colab\"/></a>"
      ]
    },
    {
      "cell_type": "code",
      "execution_count": null,
      "metadata": {
        "id": "EJAPGtQzxC0A"
      },
      "outputs": [],
      "source": [
        "#for complex mathematical operations\n",
        "import numpy as np \n",
        "\n",
        "#for dataframe manipulation\n",
        "import pandas as pd\n",
        "\n",
        "# for data visulisation\n",
        "import seaborn as sns\n",
        "import matplotlib.pyplot as plt\n",
        "\n",
        "#for interactive analysis\n",
        "from ipywidgets import interact\n",
        "\n",
        "#for implementing complex machine learning algorithm use sklearn\n",
        "\n",
        "#from sklearn.model_selection import GridSearchCV\n",
        "\n",
        "import warnings\n",
        "warnings.filterwarnings(\"ignore\")"
      ]
    },
    {
      "cell_type": "code",
      "execution_count": null,
      "metadata": {
        "id": "mt8U61lNxSHN",
        "colab": {
          "base_uri": "https://localhost:8080/"
        },
        "outputId": "e1164646-9991-49e6-e5e4-9ca3ae04daf8"
      },
      "outputs": [
        {
          "output_type": "stream",
          "name": "stdout",
          "text": [
            "Mounted at /content/drive\n"
          ]
        }
      ],
      "source": [
        "from google.colab import drive\n",
        "drive.mount('/content/drive')"
      ]
    },
    {
      "cell_type": "markdown",
      "metadata": {
        "id": "w6A1Dg_Bn4aX"
      },
      "source": [
        "#Source of Dataset : Kerala State Pollution Control Board Data\n",
        "https://www.keralapcb.nic.in/cmsadmin/fileUploads/PCB%202020-water_and_air_directory.pdf"
      ]
    },
    {
      "cell_type": "markdown",
      "source": [
        "![image1.JPG](data:image/jpeg;base64,/9j/4AAQSkZJRgABAQEAeAB4AAD/4RDQRXhpZgAATU0AKgAAAAgABAE7AAIAAAADaHAAAIdpAAQAAAABAAAISpydAAEAAAAGAAAQwuocAAcAAAgMAAAAPgAAAAAc6gAAAAgAAAAAAAAAAAAAAAAAAAAAAAAAAAAAAAAAAAAAAAAAAAAAAAAAAAAAAAAAAAAAAAAAAAAAAAAAAAAAAAAAAAAAAAAAAAAAAAAAAAAAAAAAAAAAAAAAAAAAAAAAAAAAAAAAAAAAAAAAAAAAAAAAAAAAAAAAAAAAAAAAAAAAAAAAAAAAAAAAAAAAAAAAAAAAAAAAAAAAAAAAAAAAAAAAAAAAAAAAAAAAAAAAAAAAAAAAAAAAAAAAAAAAAAAAAAAAAAAAAAAAAAAAAAAAAAAAAAAAAAAAAAAAAAAAAAAAAAAAAAAAAAAAAAAAAAAAAAAAAAAAAAAAAAAAAAAAAAAAAAAAAAAAAAAAAAAAAAAAAAAAAAAAAAAAAAAAAAAAAAAAAAAAAAAAAAAAAAAAAAAAAAAAAAAAAAAAAAAAAAAAAAAAAAAAAAAAAAAAAAAAAAAAAAAAAAAAAAAAAAAAAAAAAAAAAAAAAAAAAAAAAAAAAAAAAAAAAAAAAAAAAAAAAAAAAAAAAAAAAAAAAAAAAAAAAAAAAAAAAAAAAAAAAAAAAAAAAAAAAAAAAAAAAAAAAAAAAAAAAAAAAAAAAAAAAAAAAAAAAAAAAAAAAAAAAAAAAAAAAAAAAAAAAAAAAAAAAAAAAAAAAAAAAAAAAAAAAAAAAAAAAAAAAAAAAAAAAAAAAAAAAAAAAAAAAAAAAAAAAAAAAAAAAAAAAAAAAAAAAAAAAAAAAAAAAAAAAAAAAAAAAAAAAAAAAAAAAAAAAAAAAAAAAAAAAAAAAAAAAAAAAAAAAAAAAAAAAAAAAAAAAAAAAAAAAAAAAAAAAAAAAAAAAAAAAAAAAAAAAAAAAAAAAAAAAAAAAAAAAAAAAAAAAAAAAAAAAAAAAAAAAAAAAAAAAAAAAAAAAAAAAAAAAAAAAAAAAAAAAAAAAAAAAAAAAAAAAAAAAAAAAAAAAAAAAAAAAAAAAAAAAAAAAAAAAAAAAAAAAAAAAAAAAAAAAAAAAAAAAAAAAAAAAAAAAAAAAAAAAAAAAAAAAAAAAAAAAAAAAAAAAAAAAAAAAAAAAAAAAAAAAAAAAAAAAAAAAAAAAAAAAAAAAAAAAAAAAAAAAAAAAAAAAAAAAAAAAAAAAAAAAAAAAAAAAAAAAAAAAAAAAAAAAAAAAAAAAAAAAAAAAAAAAAAAAAAAAAAAAAAAAAAAAAAAAAAAAAAAAAAAAAAAAAAAAAAAAAAAAAAAAAAAAAAAAAAAAAAAAAAAAAAAAAAAAAAAAAAAAAAAAAAAAAAAAAAAAAAAAAAAAAAAAAAAAAAAAAAAAAAAAAAAAAAAAAAAAAAAAAAAAAAAAAAAAAAAAAAAAAAAAAAAAAAAAAAAAAAAAAAAAAAAAAAAAAAAAAAAAAAAAAAAAAAAAAAAAAAAAAAAAAAAAAAAAAAAAAAAAAAAAAAAAAAAAAAAAAAAAAAAAAAAAAAAAAAAAAAAAAAAAAAAAAAAAAAAAAAAAAAAAAAAAAAAAAAAAAAAAAAAAAAAAAAAAAAAAAAAAAAAAAAAAAAAAAAAAAAAAAAAAAAAAAAAAAAAAAAAAAAAAAAAAAAAAAAAAAAAAAAAAAAAAAAAAAAAAAAAAAAAAAAAAAAAAAAAAAAAAAAAAAAAAAAAAAAAAAAAAAAAAAAAAAAAAAAAAAAAAAAAAAAAAAAAAAAAAAAAAAAAAAAAAAAAAAAAAAAAAAAAAAAAAAAAAAAAAAAAAAAAAAAAAAAAAAAAAAAAAAAAAAAAAAAAAAAAAAAAAAAAAAAAAAAAAAAAAAAAAAAAAAAAAAAAAAAAAAAAAAAAAAAAAAAAAAAAAAAAAAAAAAAAAAAAAAAAAAAAAAAAAAAAAAAAAAAAAAAAAAAAAAAAAAAAAAAAAAAAAAAAAAAAAAAAAAAAAAAAAAAAAAAAAAAAAAAAAAAAAAAAAAAAAAAAAAAAAAAAAAAAAAAAAAAAAAAAAAAAAAAAAAAAAAAAAAAAAAAAAAAAAAAAAAAAAAAAAAAAAAAAAAAAAAAAAAAAAAAAAAAAAAAAAAAAAAAAAAAAAAAAAAAAAAAAAAAAAAAAAAAAAAAAAAAAAAAAAAAAAAAAAAAAAAAAAAAAAAAAAAAAAAAAAAAAAAAAAAAAAAAAAAAAAAAAAAAAAAAAAAAAAAAAAAAAAAAAAAAAAAAAAAAAAAAAAAAAAAAAAAAAAAAAAAAAAAAAAAAAAAAAAAAAAAAAAAAAAAAAAAAAAAAAAAAAAAAAAAAAAAAAAAAAAAAAAAAAAAAAAAAAAAAAAAAAAAAAAAAAAAAAAAAAAAAAAAAAAAAAAAAAAAAAAAAAAAAAAAAAAAAAAAAAAAAAAAAAAAAAAAAAAAAAAAAAAAAAAAAAAAAAAAAAAAAAAAAAAAAAAAAAAAAAAAAAAAAAAAAAAAAAAAAAAAAAAAAAAAAAAAAAAAAAAAAAAAAAAAAAAAAAAAAAAAAAAAAAAAAAAAAAAAAAAAAAAAAAAAAAAAAAAAAAAAAAAAAAAAAAAAAAAAAAAAAAAAAAAAAAAAAAAAAAAAAAAAAAAAAAAAAAAAAAAAAAAAAAAAAAAAAAAAAAAAAAAAAAAAAAAAAAAAAAAAAAAAAAAAAAAAAAAAAAAAAAAAAAAAAAAAAAAAAAAAAAAAAAAAAAAAAAAAAAAAAAAAAAAAAAAAAAAAAAAAAAAAAAAAAAAAAAAAAAAAAAAAAAAAAAAAAAAAAAAAAAAAAAAAAAAAAAAAAAAAAAAAAAAAAAAAAFkAMAAgAAABQAABCYkAQAAgAAABQAABCskpEAAgAAAAM4MwAAkpIAAgAAAAM4MwAA6hwABwAACAwAAAiMAAAAABzqAAAACAAAAAAAAAAAAAAAAAAAAAAAAAAAAAAAAAAAAAAAAAAAAAAAAAAAAAAAAAAAAAAAAAAAAAAAAAAAAAAAAAAAAAAAAAAAAAAAAAAAAAAAAAAAAAAAAAAAAAAAAAAAAAAAAAAAAAAAAAAAAAAAAAAAAAAAAAAAAAAAAAAAAAAAAAAAAAAAAAAAAAAAAAAAAAAAAAAAAAAAAAAAAAAAAAAAAAAAAAAAAAAAAAAAAAAAAAAAAAAAAAAAAAAAAAAAAAAAAAAAAAAAAAAAAAAAAAAAAAAAAAAAAAAAAAAAAAAAAAAAAAAAAAAAAAAAAAAAAAAAAAAAAAAAAAAAAAAAAAAAAAAAAAAAAAAAAAAAAAAAAAAAAAAAAAAAAAAAAAAAAAAAAAAAAAAAAAAAAAAAAAAAAAAAAAAAAAAAAAAAAAAAAAAAAAAAAAAAAAAAAAAAAAAAAAAAAAAAAAAAAAAAAAAAAAAAAAAAAAAAAAAAAAAAAAAAAAAAAAAAAAAAAAAAAAAAAAAAAAAAAAAAAAAAAAAAAAAAAAAAAAAAAAAAAAAAAAAAAAAAAAAAAAAAAAAAAAAAAAAAAAAAAAAAAAAAAAAAAAAAAAAAAAAAAAAAAAAAAAAAAAAAAAAAAAAAAAAAAAAAAAAAAAAAAAAAAAAAAAAAAAAAAAAAAAAAAAAAAAAAAAAAAAAAAAAAAAAAAAAAAAAAAAAAAAAAAAAAAAAAAAAAAAAAAAAAAAAAAAAAAAAAAAAAAAAAAAAAAAAAAAAAAAAAAAAAAAAAAAAAAAAAAAAAAAAAAAAAAAAAAAAAAAAAAAAAAAAAAAAAAAAAAAAAAAAAAAAAAAAAAAAAAAAAAAAAAAAAAAAAAAAAAAAAAAAAAAAAAAAAAAAAAAAAAAAAAAAAAAAAAAAAAAAAAAAAAAAAAAAAAAAAAAAAAAAAAAAAAAAAAAAAAAAAAAAAAAAAAAAAAAAAAAAAAAAAAAAAAAAAAAAAAAAAAAAAAAAAAAAAAAAAAAAAAAAAAAAAAAAAAAAAAAAAAAAAAAAAAAAAAAAAAAAAAAAAAAAAAAAAAAAAAAAAAAAAAAAAAAAAAAAAAAAAAAAAAAAAAAAAAAAAAAAAAAAAAAAAAAAAAAAAAAAAAAAAAAAAAAAAAAAAAAAAAAAAAAAAAAAAAAAAAAAAAAAAAAAAAAAAAAAAAAAAAAAAAAAAAAAAAAAAAAAAAAAAAAAAAAAAAAAAAAAAAAAAAAAAAAAAAAAAAAAAAAAAAAAAAAAAAAAAAAAAAAAAAAAAAAAAAAAAAAAAAAAAAAAAAAAAAAAAAAAAAAAAAAAAAAAAAAAAAAAAAAAAAAAAAAAAAAAAAAAAAAAAAAAAAAAAAAAAAAAAAAAAAAAAAAAAAAAAAAAAAAAAAAAAAAAAAAAAAAAAAAAAAAAAAAAAAAAAAAAAAAAAAAAAAAAAAAAAAAAAAAAAAAAAAAAAAAAAAAAAAAAAAAAAAAAAAAAAAAAAAAAAAAAAAAAAAAAAAAAAAAAAAAAAAAAAAAAAAAAAAAAAAAAAAAAAAAAAAAAAAAAAAAAAAAAAAAAAAAAAAAAAAAAAAAAAAAAAAAAAAAAAAAAAAAAAAAAAAAAAAAAAAAAAAAAAAAAAAAAAAAAAAAAAAAAAAAAAAAAAAAAAAAAAAAAAAAAAAAAAAAAAAAAAAAAAAAAAAAAAAAAAAAAAAAAAAAAAAAAAAAAAAAAAAAAAAAAAAAAAAAAAAAAAAAAAAAAAAAAAAAAAAAAAAAAAAAAAAAAAAAAAAAAAAAAAAAAAAAAAAAAAAAAAAAAAAAAAAAAAAAAAAAAAAAAAAAAAAAAAAAAAAAAAAAAAAAAAAAAAAAAAAAAAAAAAAAAAAAAAAAAAAAAAAAAAAAAAAAAAAAAAAAAAAAAAAAAAAAAAAAAAAAAAAAAAAAAAAAAAAAAAAAAAAAAAAAAAAAAAAAAAAAAAAAAAAAAAAAAAAAAAAAAAAAAAAAAAAAAAAAAAAAAAAAAAAAAAAAAAAAAAAAAAAAAAAAAAAAAAAAAAAAAAAAAAAAAAAAAAAAAAAAAAAAAAAAAAAAAAAAAAAAAAAAAAAAAAAAAAAAAAAAAAAAAAAAAAAAAAAAAAAAAAAAAAAAAAAAAAAAAAAAAAAAAAAAAAAAAAAAAAAAAAAAAAAAAAAAAAAAAAAAAAAAAAAAAAAAAAAAAAAAAAAAAAAAAAAAAAAAAAAAAAAAAAAAAAAAAAAAAAAAAAAAAAAAAAAAAAAAAAAAAAAAAAAAAAAAAAAAAAAAAAAAAAAAAAAAAAAAAAAAAAAAAAAAAAAAAAAAAAAAAAAAAAAAAAAAAAAAAAAAAAAAAAAAAAAAAAAAAAAAAAAAAAAAAAAAAAAAAAAAAAAAAAAAAAAAAAAAAAAAAAAAAAAAAAAAAAAAAAAAAAAAAAAAAAAAAAAAAAAAAAAAAAAAAAAAAAAAAAAAAAAAAAAAAAAAAAAAAAAAAAAAAAAAAAAAAAAAAAAAAAAAAAAAAAAAAAAAAAAAAAAAAAAAAAAAAAAAAAAAAAAAAAAAAAAAAAAAAAAAAAAAAAAAAAAAAAAAAAAAAAAAAAAAAAAAAAAAAAAAAAAAAAAAAAAAAAAAAAAAAAAAAAAAAAAAAAAAAAAAAAAAAAAAAAAAAAAAAAAAAAAAAAAAAAAAAAAAAAAAAAAAAAAAAAAAAAAAAAAAAAAAAAAAAAAAAAAAAAAAAAAAAAAAAAAAAAAAAAAAAAAAAAMjAyMToxMjoyNyAxMjo1Mjo0NQAyMDIxOjEyOjI3IDEyOjUyOjQ1AAAAaABwAAAA/+ELFWh0dHA6Ly9ucy5hZG9iZS5jb20veGFwLzEuMC8APD94cGFja2V0IGJlZ2luPSfvu78nIGlkPSdXNU0wTXBDZWhpSHpyZVN6TlRjemtjOWQnPz4NCjx4OnhtcG1ldGEgeG1sbnM6eD0iYWRvYmU6bnM6bWV0YS8iPjxyZGY6UkRGIHhtbG5zOnJkZj0iaHR0cDovL3d3dy53My5vcmcvMTk5OS8wMi8yMi1yZGYtc3ludGF4LW5zIyI+PHJkZjpEZXNjcmlwdGlvbiByZGY6YWJvdXQ9InV1aWQ6ZmFmNWJkZDUtYmEzZC0xMWRhLWFkMzEtZDMzZDc1MTgyZjFiIiB4bWxuczpkYz0iaHR0cDovL3B1cmwub3JnL2RjL2VsZW1lbnRzLzEuMS8iLz48cmRmOkRlc2NyaXB0aW9uIHJkZjphYm91dD0idXVpZDpmYWY1YmRkNS1iYTNkLTExZGEtYWQzMS1kMzNkNzUxODJmMWIiIHhtbG5zOnhtcD0iaHR0cDovL25zLmFkb2JlLmNvbS94YXAvMS4wLyI+PHhtcDpDcmVhdGVEYXRlPjIwMjEtMTItMjdUMTI6NTI6NDUuODMyPC94bXA6Q3JlYXRlRGF0ZT48L3JkZjpEZXNjcmlwdGlvbj48cmRmOkRlc2NyaXB0aW9uIHJkZjphYm91dD0idXVpZDpmYWY1YmRkNS1iYTNkLTExZGEtYWQzMS1kMzNkNzUxODJmMWIiIHhtbG5zOmRjPSJodHRwOi8vcHVybC5vcmcvZGMvZWxlbWVudHMvMS4xLyI+PGRjOmNyZWF0b3I+PHJkZjpTZXEgeG1sbnM6cmRmPSJodHRwOi8vd3d3LnczLm9yZy8xOTk5LzAyLzIyLXJkZi1zeW50YXgtbnMjIj48cmRmOmxpPmhwPC9yZGY6bGk+PC9yZGY6U2VxPg0KCQkJPC9kYzpjcmVhdG9yPjwvcmRmOkRlc2NyaXB0aW9uPjwvcmRmOlJERj48L3g6eG1wbWV0YT4NCiAgICAgICAgICAgICAgICAgICAgICAgICAgICAgICAgICAgICAgICAgICAgICAgICAgICAgICAgICAgICAgICAgICAgICAgICAgICAgICAgICAgICAgICAgICAgICAgICAgICAKICAgICAgICAgICAgICAgICAgICAgICAgICAgICAgICAgICAgICAgICAgICAgICAgICAgICAgICAgICAgICAgICAgICAgICAgICAgICAgICAgICAgICAgICAgICAgICAgICAgIAogICAgICAgICAgICAgICAgICAgICAgICAgICAgICAgICAgICAgICAgICAgICAgICAgICAgICAgICAgICAgICAgICAgICAgICAgICAgICAgICAgICAgICAgICAgICAgICAgICAgCiAgICAgICAgICAgICAgICAgICAgICAgICAgICAgICAgICAgICAgICAgICAgICAgICAgICAgICAgICAgICAgICAgICAgICAgICAgICAgICAgICAgICAgICAgICAgICAgICAgICAKICAgICAgICAgICAgICAgICAgICAgICAgICAgICAgICAgICAgICAgICAgICAgICAgICAgICAgICAgICAgICAgICAgICAgICAgICAgICAgICAgICAgICAgICAgICAgICAgICAgIAogICAgICAgICAgICAgICAgICAgICAgICAgICAgICAgICAgICAgICAgICAgICAgICAgICAgICAgICAgICAgICAgICAgICAgICAgICAgICAgICAgICAgICAgICAgICAgICAgICAgCiAgICAgICAgICAgICAgICAgICAgICAgICAgICAgICAgICAgICAgICAgICAgICAgICAgICAgICAgICAgICAgICAgICAgICAgICAgICAgICAgICAgICAgICAgICAgICAgICAgICAKICAgICAgICAgICAgICAgICAgICAgICAgICAgICAgICAgICAgICAgICAgICAgICAgICAgICAgICAgICAgICAgICAgICAgICAgICAgICAgICAgICAgICAgICAgICAgICAgICAgIAogICAgICAgICAgICAgICAgICAgICAgICAgICAgICAgICAgICAgICAgICAgICAgICAgICAgICAgICAgICAgICAgICAgICAgICAgICAgICAgICAgICAgICAgICAgICAgICAgICAgCiAgICAgICAgICAgICAgICAgICAgICAgICAgICAgICAgICAgICAgICAgICAgICAgICAgICAgICAgICAgICAgICAgICAgICAgICAgICAgICAgICAgICAgICAgICAgICAgICAgICAKICAgICAgICAgICAgICAgICAgICAgICAgICAgICAgICAgICAgICAgICAgICAgICAgICAgICAgICAgICAgICAgICAgICAgICAgICAgICAgICAgICAgICAgICAgICAgICAgICAgIAogICAgICAgICAgICAgICAgICAgICAgICAgICAgICAgICAgICAgICAgICAgICAgICAgICAgICAgICAgICAgICAgICAgICAgICAgICAgICAgICAgICAgICAgICAgICAgICAgICAgCiAgICAgICAgICAgICAgICAgICAgICAgICAgICAgICAgICAgICAgICAgICAgICAgICAgICAgICAgICAgICAgICAgICAgICAgICAgICAgICAgICAgICAgICAgICAgICAgICAgICAKICAgICAgICAgICAgICAgICAgICAgICAgICAgICAgICAgICAgICAgICAgICAgICAgICAgICAgICAgICAgICAgICAgICAgICAgICAgICAgICAgICAgICAgICAgICAgICAgICAgIAogICAgICAgICAgICAgICAgICAgICAgICAgICAgICAgICAgICAgICAgICAgICAgICAgICAgICAgICAgICAgICAgICAgICAgICAgICAgICAgICAgICAgICAgICAgICAgICAgICAgCiAgICAgICAgICAgICAgICAgICAgICAgICAgICAgICAgICAgICAgICAgICAgICAgICAgICAgICAgICAgICAgICAgICAgICAgICAgICAgICAgICAgICAgICAgICAgICAgICAgICAKICAgICAgICAgICAgICAgICAgICAgICAgICAgICAgICAgICAgICAgICAgICAgICAgICAgICAgICAgICAgICAgICAgICAgICAgICAgICAgICAgICAgICAgICAgICAgICAgICAgIAogICAgICAgICAgICAgICAgICAgICAgICAgICAgICAgICAgICAgICAgICAgICAgICAgICAgICAgICAgICAgICAgICAgICAgICAgICAgICAgICAgICAgICAgICAgICAgICAgICAgCiAgICAgICAgICAgICAgICAgICAgICAgICAgICAgICAgICAgICAgICAgICAgICAgICAgICAgICAgICAgICAgICAgICAgICAgICAgICAgICAgICAgICAgICAgICAgICAgICAgICAKICAgICAgICAgICAgICAgICAgICAgICAgICAgICAgICAgICAgICAgICAgICAgICAgICAgICAgICAgICAgICAgICAgICAgICAgICAgICAgICAgICAgICAgICAgICAgICAgICAgIAogICAgICAgICAgICAgICAgICAgICAgICAgICAgPD94cGFja2V0IGVuZD0ndyc/Pv/bAEMABwUFBgUEBwYFBggHBwgKEQsKCQkKFQ8QDBEYFRoZGBUYFxseJyEbHSUdFxgiLiIlKCkrLCsaIC8zLyoyJyorKv/bAEMBBwgICgkKFAsLFCocGBwqKioqKioqKioqKioqKioqKioqKioqKioqKioqKioqKioqKioqKioqKioqKioqKioqKv/AABEIAzkF3gMBIgACEQEDEQH/xAAfAAABBQEBAQEBAQAAAAAAAAAAAQIDBAUGBwgJCgv/xAC1EAACAQMDAgQDBQUEBAAAAX0BAgMABBEFEiExQQYTUWEHInEUMoGRoQgjQrHBFVLR8CQzYnKCCQoWFxgZGiUmJygpKjQ1Njc4OTpDREVGR0hJSlNUVVZXWFlaY2RlZmdoaWpzdHV2d3h5eoOEhYaHiImKkpOUlZaXmJmaoqOkpaanqKmqsrO0tba3uLm6wsPExcbHyMnK0tPU1dbX2Nna4eLj5OXm5+jp6vHy8/T19vf4+fr/xAAfAQADAQEBAQEBAQEBAAAAAAAAAQIDBAUGBwgJCgv/xAC1EQACAQIEBAMEBwUEBAABAncAAQIDEQQFITEGEkFRB2FxEyIygQgUQpGhscEJIzNS8BVictEKFiQ04SXxFxgZGiYnKCkqNTY3ODk6Q0RFRkdISUpTVFVWV1hZWmNkZWZnaGlqc3R1dnd4eXqCg4SFhoeIiYqSk5SVlpeYmZqio6Slpqeoqaqys7S1tre4ubrCw8TFxsfIycrS09TV1tfY2dri4+Tl5ufo6ery8/T19vf4+fr/2gAMAwEAAhEDEQA/ACw1GLStUieZtoyM57c12uua9puu6P5VtbJNNtwDn/A15zrl5b3upNLHAYosdDnmtjwfqcVpqsaToJEcgAZxj/OaxjF3OWzMnWvC5tYba6fy42uGwY8nPTPp711LS6lHaLpWqWSh5W/dTEMAB06/n2rr9T0vT73ULSa5nTyycrDt6cH3p/ja3hjtbaaKAkiUBTk9MNW9ikmeSeIdLitdQzIR84G4qeOAKy7O0024d4pHOScDBFeha74duNU0dZhBscg7ZM/0riZtDv8AQZYnaIyO3O4LkdPxosFiiCmnasIrclplOF963otGm+3QveOsclzxljjHb096zIdI1N9WS8ktm2xMDkpjvmtbxRLMJLRimxzyDvx020kx3Oo1jQ4tO8NiyhR55nw6uoyOcf4Vo+FvCn9oQQ3d0wEm4Ej05+lM0rWWbQLG4k2ytFhJFwCSAo/qa77SUtoV86BhGjdUI6GtLqw1roWF0q3iVdhwwGKE06RH3ifj0/yKur8x3Hoeho5DH61mzRKwYxtAOeafTVAUHFGTSRQ6ikBpaYBRRRQAM2WOPSqSSkXBB6Vdx1K9aozwuCWDgH1xQBaVwacfaqVu7hT5g3e4q2hHG5+tTzIVx1RS7k5TnNR3F2kMypkc980v2gfNjDc8Ypp3C49H3Quz8EKSKbFJkc1HPII4f3jDcwwBUNs8jtjPy/SmFy4ZdxwKcrVEVSPLHjj1oa4iDAJ1PvTTGT76XrVSNpJJM/w/SrRyq07gLRTcmjJoAdRTcmjJoAdRTcmjJoAcOtOqPNO3e9MB1FIDmloAKKQnBpN3vQA6iikY4XigBaKZuNKGJoAdRTcmjJoAdRTcmjJoAdRTcmjJoAdRTcmjJoAdSr96kozigB9FN3UbjSAdRTdxo3GlYB1FN3GjcadgHUU3caNxpgOopu40bjQA6im7jRuNADqKbuNG40AOopu40bjQA6im7jRuNADqKQHJpamwBRRRRYApR1pKWiwDqKbk0ZNFgHUU3JpRRYBaKKKLAFFFFFgCiiiiwBRRRRYAoooosAUUUUgCiiigAooooAKKKKACiiigAooooAKKKKACiiigAooooAKKKKACiiigAooooAKKKKACiiigAooooAKKKKACgdaKKAHUU3JoyaAHUU3JoyaAHUU3JoyaAHUUgNLQAUUUUAFFFFABSGkyaM0AFFFFABRRRQAUUUUAFFFFABRRRQAUUUUAFKOlJRmgB1NoyaKACiiigAooooAKKKKACiiigAooooAKKKKACiiigAooooAKKKKACiiigAooooAKKKKACiiigAooooAKKKKAPmm9AuLLNzbiPaONgAJp1noxUxTWUjiYngO2a9GlstElaS0unhhkVTyXxn9feqltpVpoUr3bzi6t+CEQ5I/lRaxzC6Jpt5dSRnUtrSQLuXb7jHeutuJbWXQ0fWgECjK8Z55+vvXHSeJbWTxBayWUMqIB8yFRxwfes/x9ev4jgtbJ2EKyOMH/AL6H9aLlLY6xtUtG094CSYP+WT/5965DxDdSweSNytHj5SwzxVPw/aX6240xrh7hVdQu0A7OT7Vr+Ifh5ePHDcw3DGY/xHt+nvRzDIJb7U9T09lsoYxu9Bj+tcBrmpXM1yLa+jIkgPXP0/wrW8UjU/Cmo2ha6UBcfukOcck9x7VRvlXU/Lv5pvtDNzkYyp4wOPpUog1ND1Ca1sljTJeXDhWOeuK9s077JfW6hJP3vVwBjBrgvBel6Tq+lqtwqi8AAIJ56Dtn612+j6bpmjs6xtg9cseladC4bm8g+QJ2Wn4GOKjjnjnhzbyo6A/MA2aMjd8vTtUmw7PNLQDxRQAopabRQA6im0UAIMsOKp3kUhhY5wOvWrtNcIykSDK0AZNjqG4NEwzg9ai1W7mihDWozgcn0p2qRui/6Ohx9Ko2AEUjNc/LIV+Wo5SCob83qBZHKyfWrmkyXEFzsuGLIfuknPFZ9xpzi7+0PGXV27CqxkuYb+QRLs2kqhPYZ4ppWA66e28+cEscA5Aq3FGII6wxfNpsOxW8y4KEgjnJp2l6nez3H7+Fgp+9xVAa10GkgJQ4NVLeFhcpv5//AF0y6mn+2Ytvkj7n1qX+05ElWJFL5OCQKCkaalV4ApSd1QTXCwReZ9w8Zz71FHeRPeGC2++F3Z/HFAy1RSZX+EYNGW7niqAWikciVcjtSKMYpgOopGaQRNtqgl2wnCN6c0AaFJmmADylYf3qkBzQAKeadupMYpKQATzSZpaKYDt1ITmkopAFOFNooAfRTKKAH0UyigB9FMooAfRTKKAHbqN1NooAdupVOaZThQA+im0UwHUU2igB1FNooAdRTaKAHUUUUAFFFFABRRRQAUUUUAKvWnUyigB9FMooAfRQOlB6UgCimUUwH04dKip46UAPoplFIB9FMooAfRTKKAH0UyigB9FMooAfRTKKTAfRTKKQD6KaOtOoAKKKKACiiigAooooAKKKKACiiigAooooAKKKKACiiigAooooAKKKKACiiigAooooAKKKKACiiigAooooAKKKKACiiigAHWnU2igB1FNooAdQelNooAKKKKACiiigAooooAKKKKACiiigAooooAKKKKACiiigAooooAKKKKACiiigAooooAKKKKACiiigAooooAKKKKACiiigAooooAKKKKACiiigAooooAKKKKACiiigAooooA8As/Dl1c3yDVZHUIwImEh5+oBrqpPD8Eun4tNRIAIByu7P5tW4k1le6Osl5aJayEcBVA3e3Gag0/RrW4XdDLJGFOdoOAefpV7mKVzl/Feg3mm6Ha3mnyK7wgGUhACQQB6+prnbnx9DJbrFdaTiWH7kgkzz9NvvXr15aXFxZSQGCN4igVd65zg15h410iytYbc6fbRLMzAzYQDA5/8ArVnJWY2rGRp3i3UYNeFzpkaNv25jJHPHuK66bXtYvgt5eXkdqVYk22VOR9ePX07V5CZp7TUlbT3y4YYOevqK7W61Wwv9FiS8gZNSVRuK4wemf696kzcmUPHGrSeIrqCV7RrSNcbpsmTPX2H+RTdA0F73T5niuwqwjeM4O7GT0z7Vra1b3eq+HY7exijV1OWAGD0Pv71zWkTzabqawSu8Y2srx7uCSKSbA7HwJqz6XqT3VxaPIu4qWVj/ACA969XntVu4zPHcCOOZDjKcg/nXnXhSwuYpWlJXyXG5VI9a6LTru61O8S2u5DCv8OCemf8A69a30KjuNsrLxFol65hlE9tI2c4HA/X1rtrR3ktomk++VBbjvinWUH2WDydwlOOCeasKmwDd1700kzdaiDI607NBINNokrDY7NGabRUiHZFGRTaKdgFLKOppsjHyS0YDHsCcVk3v2uS9gkhyI9w3DPvVp7yNdwY7XGAKdkBGupEMVuocL6gZ/pUd1CJJI5I0DLjJ56Cr7RpJAPlDZ74qo1xFabpWjyqIQQfzpOyJZIUH2ViVGNvyD3rz7UrieG8mt75mh80lkYLnv/8AWrvft6XEKTxqNoz8tcf4xtDq2y4tnMbKACAcY6/41m2+hFzb8Pxo2np9pKyOv3XLe9bkPlLAzhlC9Ca8l0/VbzTrmOOW4d0VgWXceRnkV0Vx4jmu7ZYbC3Zcnnn3+tNN9QudPJHPJKRD80WNwYnFNS/htflcDd69ax/7T1E20cAj2kAc5/8Ar1YtNIuSwmvJCy9SuataofMy/M8mpqIgcRZzv9f84rRs7JbZd3V8Y3e1Z/2mPcLS2j2Bec1r2wKwhX5NOxaJuZF+VQPxqlcyi2VmkYgD2q4W2/dqGWFJUIlGVPWm0ynYrWN0skL4dSQegOfSrazL5asT2NYV7pT6ZuuNPkY7+qk1W0bVjPdG2ucM2R15x/nNTd3JvqdQ1ziMgDOelVJIkCiQ/eIpDdwLN5JYj6VFf3a2ifKdwxkZqhj7WR0UrPxzxzVmO7jMmwbif901moTeWSTodvzf1pthqRS+aBkBOev51EpWYmzeyGXj9abkVUlmk8wBeATUxTZgluavoUiXNGaaDkUUhDqKKKACiiigAozRSHrQAuaKaOtOoAKKKKACiiigAooooAKUHFJRQA7NLTKcOlAC0UUUAFFFFABRRRQAuaM0lFMBc0ZpKKAFzRmkooAXNLTadQAUUUUAFFFFADtwoJGKbRQAUUUUAFOBGKbRQA/cKKYOtPoAKKKKQBRRRQAUUUUAFFFFABRRRQAUUUUWAUUuabRUgOzRmm0UAPooooAKKKKACiiigAooooAKKKKACiiigAooooAKKKKACiiigAooooAKKKKACiiigAooooAKKKKACiiigAooooAKTNB6U2gB2aM02igB2aM02igB2aM02igB2aM02igB2aM02igB2aM02igB2aM02igB2aM02igB2aM02igB2aWmU4dKAFpM0tMoAdmlpo606gBM0ZpDSUAOzRmm0o60AOooooAKKKKACiiigAooooAKKKKACiiigAooooAKKKKACiiigAoxQOtOoAbijFOooAbijFOooA8Bu5boJHBd3iyW7plGUglTnHp9a3/C3il1tfsyNHlTgYPJ5NS6V4chmXLjMirtCMf/AK9aOleDPI1JJTGqLnJAP/16uJlE1rnXkstJe5KkyL94Y+n+NeX6nrmpo09xdxhIZojs2g5/X6GvYzptrJvSaLdETtI+lcL418KyCwmuInXaIyEjwOOD70NahI8jvbmHU72CeLMTxtgjsM45/Su30K3jsLeW61dxKHXMZz6/lTPCnhJZEla6RZE27gR6jPvV661yxtbZtKms/wB6G2x5bqB+HtSsZM4jTvEn9mahJMd4kC/KCBz0q9HdQapIl5eybJZHGM4AGDTb/SI7rWHEds4Tbx8p9q0dN0PTbrSJ4p5miuY1Zo1we2T6+wrNqwy9qviO1t47ZYGKm3UIduCGwMetdJJqVndaPDLHcx5zgNuG4de1eOTXMkUrWr/PtY7ifT/Ird0K3nE0VzuY2fmDAJ4/z1qLj2PTvD/jNIj9nlVjzgOwAzyfeuxl8RWgsw+8F8DjI/xrzKSxa4sBcrHsRScFR7+1anh3T11CA+cX46EuauLLizuk1iFIElm+UMcfStOKVJ4xJAwZT71ykWlwXKrE82Ap6buv61tPE1lZolrnpV3NLmqQOMH65phYBsfyrIOptaQF7vnjirVlqcOoW4eAjNIZeJwP6U3f68fWg5A3E5b0qlcznPz/ACUrmbepeI/eHDLtC54NUri1iumJx93BJ9a5DxH4oGmTRx2c3mZHzYPar0fi+x8mEySbQU+fB74+lJyC5v8AmvDIixj5e9VfEGsWdnZypM+3epHJHp9a5i/8aWTM32N2Yr6Z/wAK5nX/ABBb6taRuCxdTgrk+9YuZLZJ9v1A6okdrLmNydo/yK7tbSddF2TmNZCoJJJ68V562o29np8LWo8yfH/fPSobnxndyLHDKWOPlIB/+tShV5XqZ3Ogi0IW199oln37RuIHTit+112wt9PJQjzM4IJHHP1rzp/FLC4ZdxCgYYE9vyqC11KOeQoXwrk4Oat1OYLnrenXiXi5R1kJPABrZcxxxAEYfuK4PwxLb6TZS3bXHmtkgJnp0+taWj6hqN/qGbiJhE5G0/kPStqfwlxOpaMFRheeu7vTlkCJtP51IrKEAPbimM8PerNkSJ8kjLNwAODTXnjiYb2HOcAHrWfeXSraSFJg8gBPH0rOinN/a/KSJ1zik6gmzXW9hnk8sdqzH0KE6n9qTgn0/D/CuYN5qdjqTeZGzRg9a1W8a20RihCZd2APPTn6Vnz3ZnfU6GKyjhdC7gF8556Yqre25bLFsp0BPcVnTa7BJqUcUhKjaD19RVjxJN5Om4hfauODTuVcz9Q1qKztxZxsNqnduHX/ADzUmgXj3rFwi4yfmPXvWBpf2OS0ee7k8xucA96fPrP2IKllH5ff/PFRJktna2epfvp1kAxESMn8KVRPeSeepAiB7VwMesXLxPvbG5ssfau10d5DaxRK37t+/wCNEJXLTNtJFICqckDmhp0B4OfWqdtayw3UmSSrdP1qeKzKht55PStiy1upQeeab0pQM8UADnb05pTwoPrTfrTUk3kj+7TAfmjGaSnDpSAMUUUUAFFFFABRRRQAUopKUdaAFxSEYp1IaAG04dKbTh0oAWiiigAooooAKKKKACiiigAooooAKKKKAClzSUUALmjNJRTAXNGaSigB1FFFABRRRQAUUUUAFLupKKAF3UbqSigBd1G6kooAXdRupKKAF3UbqSigBd1OHIplPHSgAooopAFFFFJgFFFFIBc0ZpKKAFzRmkooAXNGaSigBc0ZpKKAFzRmkooAXNGaSigBc0ZpKKAFzRmkooAXNKKbTh0oAWiiigAooooAKKKKACiiigApCcUtIaAEzRmkooAXNGaSigBSc0lFFABRRRQAUUUUAFFFFABRRRQAUUUUAFFFFABRRRQAUUUUAFFFFABSg4pKKAFzSUUUALRmkooAUnNJRRQAUtJRQAuaM0lFAC5pRzTacOlAC0UUUAFFFFABRRRQAUUUUAFFFFABRRRQAUUUUAFLmkooAXNGaSigB1FA6UUAeS6zNdrfW13pu9YgwZ9rYyOab/wsO4hv/KSPO0cg59PrXF+G4Jry7T+0JJEt8f62NQR1HQn8a7XStGew1RZNOZb2JvvBzyB+H41FjnibGneOY7mbF7iGLHOAetZnjzVJ777PHpsuLdpQrOuRkYbg1uDw/Y3cspuNOdTMcFlDY659asWOiW2nz3FnLbM8J5j4Pt/9erii+W5zOhRzWd/FbuVETAbcD72eufzq94g8HWV7fLfvsinj+6qqB6+3vWmmmyw2wErFEhYlDjgZOawtY0r+0NUi8xi24Z3joOtXKVhchU1m1afT/tljJHE9uMusQK7gMnB/SvPptVn1nUPKtoEtWUNukQYzgc9/avTJPAj3CyzRXu6OXgrx/hV+x8CabpkKiEBbmVGXcSe/B/nRIfLY+f5lBurgGRXkWRgTjk80+11y6gVbIO4Q8hCx2qfYVveL/Clz4b8RyvLCzWxYsspB2sST0OKxL2yee5muFtWhhLZLYOBxWC0dyXLoeh+GNcuY9MewvG3iUfITk7evTn3FdxpuiyppUf7103AHcrYJ4FeQ+HLeOciTzdjR9Cxx6/4V6P4e8WQ2ztbzrLcbRj92oI4/GmpajidJa+HRDAZI7qeSUHILPnH6Vv2yv9kAkYsVHJJzVLS9Utbhv3KSISOjDHP51rYwvs3WtZO5ZTlsoLuFhMi7W45Fc1f2kvh+zP2BmdieBn2/CuvcKqbMZB6EU17WISL396kZxUHjK4s4ma/t33qBls8fzq9p/i/TtXs2eXAIPcfSuhu7GO5tTDMAyNkYBrhPEHhOS0Ux6N5as3zEMT/gaUthMo6lpWn3ZeWwnWTbC3LDv+VYx0pbGCKS8l3I5Of8/jVTUotS0ZDZXKl2kQqcD1/Cs+1sbj7ZtuZI7cqhZBM20njPHFcck7mTNf8AtPQ7K4mSK3Ys0YwcDGc9elcnaXjPeqJGGxjx6jmui0mPTru6EV3IWkDFTtwR/OuX1y0bTNUEUdvKGzlMqeatQA635reELa2qyM4++wGa5jULn7NetubEoY7wOx71uaNr+qahbDTGTyJAPl8wYJHX+lc1qk0um63JFeKrvuOWz97k81fIkFiW71O1u1CiMrKxwWHerulaZd6lZytY4Lw+v4/4Vzd032m8UxK20+grdm8TiI2sWnxSW7Rptl3LjfwBx19/zolHQho1NHu5YLlIrqdiGbayZOM4r1IeK7W20+MWDK8iHDAg8DmvIBeQlB/Zcb/a5Hyxx146VoWNhfOGT7R5UhGX3cf0qYzsrDi7Htkl8b/RRPZSKGZMkgEEEda89bxZdW0l39qmfGSqfMeDntzUXhXVb2xvo7ZPNmRWKnYueua9EudBt79YwyMu75iSO9bxXMbJnAi/ubd1n81niyC2CeRU2peK9kSSaenkso+YjjPT0q3d+BLi1iZ9N8sJ/dYnJ/SsO68LanHC9xcCO3jTqSSP5islRbJcSJfFt7LdbGPm+ZwFJJx+tR3Nu0N4okYLcffAP+fpVCOCPTbd9Ra8811c7EjIJbjsKz5NRfUfEpm3PvfHEoCleg7UVI8kWzPlszprWae+mLEF54uBz1x/+qr15r82o2JsbweVJHwcdR7d6xbK+Om6yhZ8ScEge4q/4kks7u8iuIkYyOAZnA4DZOc8/Ssac/dGWtL083ELukeIo1LAjHUVThZ7vUng3fdOMvz6/wCFW9J1m8cjToGWGIHJduMjv/OtLWFs440iE+24kX75IwTxW1udJlxK8XhprmRDDdbizbWQEgYr0KwsfstrHDtXKd8e+a5rwoo0vT3F9Krsrbl55PAHt71c0/xpZySzJOQj5wFYgE/rVKXIVc6hgwjPGB6igAbUJdie+TVJNZs/KSXz4wpH3SwzWVH4xtZL6SJxsVejMQB/OtPapjudB5gaQw7fm9VqvLePBuXys7e561z898kd6JrDzBkj7yityxufOUNISZGHccU+a47MqPJd3L/uiyZ9DVq0s7mHJmdjuPrV9V3HqM+1OJ2HGcn0oKE2YTnrSCnZLUhFABS4pKdQAmKMUtFUgGnrSUp60YoASlHWjFA60AOpDS0hoAbTh0pMUo6UALRRRQAhpM0ppMUAGaM0YoxQAZozRijFABmjNGKMUAGaUdKTFKOlAC0UUUAFFFFABRRRQAZoHWigdaAHUUUUwCiiigAooooAKKKKACiiigApR1pKUdaAHYHpSNS5FI1ADaM0UUAGTRk0UUAKp5p1NXrTqQCMeaTJpW603B9KYD6KM0ZFIAooyKKGAUUUVIBRRRQAUUUUAFFFFABRRRQAUUUUAFLSUUALmjNJRQAuaM0lFAC5ozSUUALmjNJRQAuaKSigAooooAKKKKACiiigAooooAKKKKACiiigAooooAKKKKACiiigAooooAKKKKACiiigAooooAKKKKaAKKKKYBRRRQAUUUUAFFFFABS0lFAC5ozSUUALmjNJRQA4UtIKM0ALRRRUgFFFFABRRRQAUUUUAFFFFABRRRQAUZoooA8H+HepWZs5bG9AZlU7SfXj/GurbxdZaRKqw22RnDNz/hXhvhzVpbfUgUyQTgnPuK7zXryUWMEsUS7HBzkfSufmkcyaPWV8VaVJZpL56puUHBPQmp7fWYtQhZrPEpxjcD0r57gN3qbSos+1U6KCfWu+8OHV/D9lFbhsvcDKhiSeuPX2ojKd79C7voekWcTnTZYrw7pHyV9uT/8AWrntHN2Nau479VeKNiEAxnGSB0q1pd/frA01whYtxtz93qPWprC1is72W+klbzJznY5yBk5/rXT7sg5mA1GLTNTjSd8I4wE/GpPEV8lh9m1KQkQpn5R74rN8S2Vv9qt9RlfIjYfIPxNWt9v4ktPswwdq4CsM9f8A9VK9xczZ57q9y3jfXZYInP2dSdinnufp2rov7O0RNGFlcwhZmO1ixIyTmr+h+CP7I8RG6Xb5Yz8o/GtXVPD0OpsssyIkiSBuAOQBT5bjcVa54bcWg0zxBNbRtiJj8vze3/160jpGp2Ni95aFpQx3Db2BrpNZ8HxLqzzyReapIwVx8uPrXW6Rp62OheZCFuI8ANERkjgfhUqGoIzvhrfzXNi5uFLSYOd3UdK9ERt0gUnC4rC0XSYrRvNt4vKDdUAA/lVvVJZILHMZw+78ua0lboWaLIAvztxuOKgecRPsGWzVFb+SS3EI+aQoCD71y114puNFZ1vY/Ml7Bf8A9dZ3Qro79GPlnK9KxvEtu7WZmhbD+WOB9az/AA14km1eNpJvkA65z059/arGoazaNd+W7HYVC4/E0nJA2jMuIoxo7/2q6XEmwkSCEAjr6V5hqwF/rQgtGIBHEjHGMD3r1nVtPjs5InMrvbuhU5OQOa5LUdG0a9jFxaSSRz79vykDvg9qzkklczOIuJbjQJ0+dG3nOdo/+v6VbS4t7zWYbm5UzHIxzwORXT6zpWlpbQRzRK7qoG9lBz+lczp/hzUTq3lW6MbfcMvnp06VjGd9gszuW0SG/eC+tYEjCrtYoRnoBU1x8OtL1GZLu43FhGBjaef196XS9JvdHs5t927BgCqMxOOv+NWH8RarYabuFkZmQZBHcfnXTG7Lijz+Dw+mk6jqcNtELllhZEQj7pKgg85rhrt5mvpEvIRDIrYAr1Xw800/inVL2eNgXdeM8D5V/wAKxfiH4XSTUoLy3YYc5bbxz8vtTnZKzFJHL2V79jaLCfMDu3fhXRWt/LO7FQAzDk5qm+gslirSgZI+UjtVSW6S3iWOAsJR1Oa4KrtsYvc6rSdRt7HUImnz94lypP8ASvTdK8U2Gq3P2axJ3AdWY/1FeKaNmdJzO+DgYLc+tXVmm00RzWFztkPUoSKzp4iUNykz3VpIQxjLq2P9qsmeYXU7WskQMTAgljx0ryix1rVryeNra7llbcNyhznr7mvRrK0uLywTzrhopCvzZY5r0adRtFuTM67Gg6bB9nZYnlByBjp2/pXF3gMOptcjyAJCNoCrx0FdH4k8LpB5cls/nTMMsW/H2rh7u3mtbkSXeDE3T/Zrnqyk372xnd31J9XZtLuLW/vGV/tBYAAY4GMfzpl9r7XQAhi2xMeT6/pRq+zxJ9lhs1O23TGD2IAyf0rY0bw9bahpMMUcqNKGy/HTjp0opRXKVcytEe5F+LwbpEjYHZ698fpWnreux6psMtqYDG2OJPcew9KkuXg8KX01rOVkWVcIVHQ4/wDr1zF5cmS4lZ8NG3IxW3MoJRGjq9Ymgh0eC406+bzmADqXJ4wfU1g2U+91kMpaQnt9a5WW7klTy0ZsBux7VpaddG3mRIyC56Bqbi3qw1O+WZGkgizI02MkBj0IrobDTGNwm6IYZP4vrXOeEYLjU9QkmuPklVMDHQAA4rqvC17/AGrfPFK7Awt5fXrjH+NRGOoLc6mLSYSASB+VXIrdIGAUZxS71U4Rs/SkM6K+0MN5BxXQopI6U1YVLqG4aQRHDKealllRXAOM+9ZMSLaJNKUYs5JyCKrOLm+nSVX2KvUE9adhG+CGHJwPal47dKht2IhCnk46mpAfWiwDqKTNGaLALRQOaXbTQCUUu2jbQAlFFFABRS4oxTASilxSUgCiiigAooooAKKKKACiiigAooooAKKKKACiiigAooooAKKKKACgdaKB1oAdRRRTAKKKKACiiigAooooAKKKKACiiigAooooAKKKULmgBKKXbRtoAF606kAwaWgAooopAMPWinbaTbTASnLSbaUDFDAWiiipsAUUUUWAKKKKLAFFFFFgCiiiiwBRRRRYAoooosAUUUUWAKKKKLAFFFFFgCiiikAUUUUAFFFFABRRRQAUUUUAFFFFABRRRQAUUUUAFFFFABRRRQAUUUUAFFFFABRRRQAUUUE4p2AKKTdRuoswFopN1G6mgFopN1G6mAtFJuo3UALRRRSAKKKKACiiigAooooAKKKKACilAzRigBR0paSlpAFFFFIAooooAKKKKACiiigAooooAKKKKAPjLTZre3uDJEehyvvXY6f4hGoQC2vCEQAgZOK8+i3EKmMYPBFaKJtkQM5z2wcVySkch2unyabZ3gfflfMbdgj0+td3p8tnd2InuL1PtSxkw/MOP8mvNdKtmiSOSba0Tk5yParCn7DGjx3JBU/MCc8fnU875Sk9Doj4s1CNpY3fEAbAbHWt/wAOT22oyI9xdZyPUelecXFyt6CRINvUgcVd8Pa9FGzQM+0ocKQPwohNjuepw6Agt5Qlx9ouFPyoDnt7Vf8ADGnXFvcyPfxeTPxsGCMjn1/Cp9BtkgtROX3GQ8sx/wA+la897ZwjfLdRqVIPXmutFqxPcvLJA6Dhh0qpbSST2bRzKQ4+UHFEOt6dcO7rODzgADNXQoTOMYPStTR2sYcvh55LWWN5v9Z09qi0Pw++jo8bS70Zia6EcUYHPvQRYzrlWspxcBiYxyQO9YOoXk19qURtc+Vn5uOnT/69ddJGkqhX6A+lcl4le40a2eTT4FKHljkZ/wA8mpad7jtY272GWHSC9pF5kyqCuMn0ryXUba/t9Q/tC/R2kPG3b0/T2rZtvFusSWUcyzbQjkFSgPGK6TTNZsdbs0aW3Utn5yVz/Ss5SU9EZyPNl1q+024kkcFElAwCP8+tH/CTkQszKGfNdX420fTZbdpGVl2j5NgIxnHpXCap4VfTNMtrzzvNFxg4ztwCM+tcjik9WRc0LTX7zU3XyA+1HDYZeMVr67rUVj5DxKDOAvyLznpmsVVfSvDrywmOQyxMAVIyh5/wqG1v3so0mv4VmQgfM2DnP5+tNON9w5jcm1n+22t4mHl5PJP0rc1/Vv7LmS2hPmY5ynOK5zVtWsUtLSbS7cbBgysD0OPp9KqX/iqzllkaKMPvHUvnt9K0c4x2KudlNqrywWcyJuGfm4+ldlYSK6x5VdkgzjPQV4FP4nnaAxwvtVTkDd0qzpfjnUoI2M0xIUYX5qdOtzOw+ax63B5ka6q0AWQvOvyg5JGyvNdRF3a61KsqOAzFgrLgDvTdA+JEtszOUDhnBky3UflVjxL44ttQiD29vGjkcksM9varqu7Fe5ka5qK3Vss7T5kU+X5S4OMc5/WuWtLoyTFZFIHqa19E1SF7thPCsiuTuyOg/Kq2qRWX2ySS3nCqvIj2+3rWEoXlchgZXgVlhbcGqaS/1CGzUW1uzEf7JrLtb9HuPmX2UZ9K3LS/kdo422DcfQVyVaYGZo2t3mmXEr20myQc816JpXxBTVtNS3ml2Trwx45/ziuWS103UrmaG5xaMq5Uhc5OPbFN0f7BpF8zuguERtu77vXIHHPrXRGdhKdy/qniG8s7ieaK53IOB09aztJvLvV7C5nu5UeOFGYjPoCa6q+s7HVNKlgitMSkbsqc/wBK8sne40tpYFd0WXhlyR2xWuk9Cuhr2F9c2N7JPbfKkhKkfmP6077VPpV0YxcBlm+bC4OM/wD6qyrSUsoV5eD26V0J0vS5dOW5nuSJVHHU/wBfer5eVaCIY9ZlNrJDJGXYg8kc10Xg3wbdavMLu6BW2YnggjsfasPQltpLvDKM54LH71eg+HfEEun+dDc8WqD5AiZx17gfSik09ZFJ2IZPh1DJqLta/cRzkZNctr+jTaTqOAgDZG3r6CvQ7DxTZ2cMl3c3SskjEleh7V59r9zeaxrCXy5MQcFeeMDH+FXVrJKyHc6PwvNfXxS3h/dSKvzlh1GP/rGuph0KOyuI7u3k2sjZkHqf84rhm1f+zdNj1GEkSKwRtox0IH9a7DRvEttf2sssrbVx93B9vaik7q4Lc6iPUxJGcLt4rHu7c3dzklsc9BWlptumoQ+YsZQfWtaK1ihAVQPfIrZmqMfQ5GkhaE7gF7sMelbkAOzbIQdvTBpIreKHPloBnrxUgUCmWOwB0oo4FJmkAtFJmloAUHBp26mUUAP3UbqZRQA+gdaKB1oAdRRSE+lMBaaetGaKACiiikAUUUUAFFFFABRRRQAUUUUAFFFFABRRRQAUUUUAFFFFABQOtLijGKYC0U3NGaAHUU3NOFABRRRQAUUUUAFFFFABRRRQAUUUqjNACU8dKTaKWgAooopAFFFFABRRRQAUUUUAFFFFABRRRQAUUUUAFFFFABRRRQAUUUUAFFFFABRRRQAUUUUAFFFFABRSE4pNxpgOooHSioAKKKKACiiigAooooAKKKKACiiigAooooAKKKKACiikJINAC0U3caNxoAdRTdxo3GgB1FN3GjcaAHUU3caNxqwHUjdKTcaCc0AJRRRQAUUUUAFFFFABRSgZpdooAUdKKKKQBRRSE4oAWim7jTgcimAUUUUgCiiikwHClpBS0gCimk0ZqgHUU3NKDQwFoooqQCiiigAooooAKKKKACiiigD4jhWeVwAMc1d8qXzgGPIFVOYmylT2+rmM7Grz0+Y5FqaLarMtibfeV2njk0xLgySMGkL+YuAM1nzFZZN471Pb+X0Y/rWyh7o7G5pkEMscrSbVKjkY+tOt/wCzhd7ImcSE87SB/SsjcEk2ryrdK0xLA1hvRczx8YFSlyk3OxbxrdQWKQNPImOxY/41t+GLiPxSxiuiWQ8F16jr659K4rQtIn125iM5WVGI3DPv7V6lYeG/+Ea1K0m02FFjYYfBJ64/xNdSKUX3K0/hTU/D139o0qT7XbbiSjnOP5e1d9ZT/aLfzShQt1U9qcZ4Y3RZWUPIoOM1OFIwG6DpWptFWCimyPtFZ1zr9hat5NxcxJKDxlwMfrSbsW3Y0xnPyjJ7Cqd3Y292P3kbznOGjGMD86rWvifSLy8aJLqEzIM/6xfm6cdfeub134i2FgkyxNifO0BcH29azdRLRkORD4q8KF4mbSS0BUbniU4xz7VzUGleINE02RoQ7Lgt972+tdr4f1qO60dLm+mjDsd4BYA8gdqSPxpb+fIlxEzRAdQP/r1npuiHZnmkniTUb12hvdzbMAxkk/19qWHUrzUI5bG+sl2J/qcjoPzr0Bhpniexul01BbznjfIcA9fc+leZ6i82gXU9hqFwIeTiRCCDzjv9KiVNPVmbiZVw0djA0VvcyTWxGJNzZ2jvSvey6jDDBbwmS3UYHuOM/wAqyrKwvNQtp5bI+WkMbE57/pWdIL3T5FnRzG7EAkjGe3p71n7FJ3Fyna6dZw3DGztL7EbffjJPB/LHYVi6jpbx3EkNrEwWHgnI54zVBLqR94JzNjqK3bV2s9FE/wBoiZ2B3KzjI60WQzlZo5IVcSBh+NOtLC9vIB9jDPu7Z6VLd+QZjKxHmOf4TmoBdXFrMtvASRIN3Tp/nFCST0Fa5saZoKWrypqMzQSbDtBPGfyrCunK3zxrtnRWxuH/ANeia8lnkPnHO3qPUVQZgQ3lxlSDkVq1fUpKx29rBYRaKJ0uEilAyygEHoPauemliub5MuEjYjL1AupXUunhDuAHHIpLBba4843kgR9p25OOaqMrg0a09pYW5Rre4MhYHB98fSobO7EZInlIYNxzUen6s9pbG1yHClttZiTfaL7N3+6TceTxU1I3Cx08txGyr+8kWZuCWNTW01jEGjmaSRjyRkYz19K527tJIrxYtPkDxvgcc1ftIWg/cXEe8Hk9a5JwaMowZ23hjxWqaikewYHDbh2rM+IHh2Se/F7asAkzAqq8dgP5imeH3i8ydbmAKgzjOR6VqS6pDewxQ2ZMPlZyeoPOaVOqlKxu1ZHnl7Z3FjNGLgeWu3qPpW1pF/ZPoNxC0XnyGQgMQDjgetdgXh1GwNvHYB3jU7pXLAH8vpXP6fpMEdjKjSCE7jwDx29a1eKSWiuQUtIt7q91RLCwGZZDtB/ukkDP61vR6gfDLXela5cTmVx8ux+O/rXPPPNLdC3t5C5jOVOB1/CtG/8ADV8+ni5kdGZ1z1Pt7VrGpDlv3Fcx1ka4ZgsrPGegY5IrTstRvWtnaJswwdsn6+tQ6DbXNnBJFLCZR18tASX6cVb8Sxx6NBGmnwSwxXXEsBU5Xt359fzp2jIa1NY2lzPpKKVYCbDhc8ckGuh8N6TcadfRpqbxLBK3RgT/AJ6VyGhavZaa1ncTXBM6kgIcYAxgd/eu803x3DqWq/ZHtQZicrIpyP51rD3Sloej6dPBJB/oR+QelXC2XXC/U1y48UaXZXxillVcgfxD0HvVk+LNKaWOKO6Qh88b19M+tbNq1y1Kx0FITisG48XaXaxSbrtN8a8LuX/GoND8ZWeqQogYJICeMjnk+9QpplqdzpM04dKgivFdSyNkDrVeLc16ZF+6TxVrUq5fHWnUjbS24+lNphcfRTKKAuPoplFAXJqTpUVKv3qAuSbqAc02ikFx9FMooGPoplFAD6KZRQA+ikHSloAKKKKACiiigAooooAKKKKACiiigAooooAdQelNopgFFFFIApw6U2imA6im0UAOopB1paACiiigAooooAKcvem0UAPoplFAD6KZRQA+imUUAPoplFAD6KZSjrQA6iiikAUUUUAFFFFABRRRQAUUUUAFFFFABRRRQAUUU1vvUwHUUyn0AFFFFIBrdaSlbrSUwHjoKKZRSsA+imU5aLALRRTW60rAOoplPosAUUUUWAKKKKLAFFMPU0U7APoplFFgH01utJTl6UWAbRT6ZSsAUUUU7AFFFFFgCiiimAUUUUAFFFFABRRRQAUUUUAOWlplFAD6KZQOooAfSN0paKQDKcvSlopgFFFFIAooopMBwpaZRSAU9aSilHWncBKUdadRRcAooopAFFFFABRRRQAUUUUAFFFFAHxUSq8Dmo0tVdtx4pZ2Td8pwe1Ecbv1bIrmULHJECm1jsOcUttDJPLtUHNWI/KhOXTNaFldW/2gOoCge1X0KZG1nNbw7pI2yPu8daks5WjXeIsseqniukXU7a4RVJQrjpiqOp3FrBHlIQfoBWbM2RWHiC9sdQ8y1YIo/hCj2rdf4k6vL+6Zfu87s/8A1q5TSbWfVLww2ZA28k/l/jXQ2fhZ7268iS5WOT7vOe/4V0IpMlh8a6tfanCWmYbff2Ne76VLdPaKbv756c147Z/DXVoXfyDHJ5IyG555xXrGlQagqxNeOAuOQueOa1RtF6mw6krzXnfjy0+bbaxM0rfMzBTxk16N8hkGx2b15qKa1jlm/exh93QkVDLkeHx288ZYwRyLIqlmbBHFYMttc3EM1yvz7H53+uff6V9A3Ok2kiyHyVGxTngc15Zq9vDJps6aaqCcSn5MdcNXPOnz6mEkzH0TW4IYJDdl/N2iNYwxwCK0JPEVvNZrFax7ZXOOR/8AWrjbi31Cx82/u7TYinsOpz9fes9vEDiaKSJQoJH+etc0lOOxNmet6Rp73NiNt15RHzMFO3H615z4zKR+ImX7R50YGDv57n1pp8WX2l4kLb42HI5/x96y9R1Cz15/PEPlsepwP8963hJtK5RLEuoaZp5cBxbNxuA+97VN4m1+31DTbW2SwEUkajLg8sfl9varcd1qU8MelX5CQW53bufm/X3rHvtMvr2+JSBip4jYe3Wt1G6GZ6faIWSd0IyOQOafc3gVGKudmN23PpTry6utJjaK8gYgHGT/APrqO10ebUtQi8rdtkYIQT6mlyBYredDdSRlo2HcfMRXQaM1lKrzTAZj4GeeP8mrPibwhL4Z+zzyR+ZHJHnAx6D/ABriWu5orki1yqFeVz05o5Asbmm3Fnc+J0WRP3DOoOeMjIra8WWNnA0R0yFQr8Eg59K5bRZ4JdUj+1ERqCMt6ciuttBa3EkltDcJKQd6kgnHU/0pzVkI5tA9jcLHdjKn5tu3HH+RWl4Q0i18RalNHd/uVjXcDnr0+lWdTsxq8LSI6K0HyfKCM4//AF1zFld3mlTNJby7SeGwTWUADWIo7HWJ4IZSI43ZQ2OtVI7nbjzl81c9elGpSNNcmRzuZuSarn/VirkBri+S38tlc/KeT6c1JZaxIb5pCd654B4qomlz3FqZoucDOKyw08Fx8/G04qalO60Hax6DHdSXW94FwpHZsUyxnHmeWVYOAc4brWHpmreW6gn5T1rcs8NeFx91x1rzZ4eS1RLZrvqk8bhbT5V2AFAfvcetOQPNZrMUwG5ZP7vtWN9pS3vmYHdt7VpDVytmUVR85yK5KcJRi+YRcubKG3VJrYLl+G45xUrTNcQrC8jKgGB81c4+p3Zn8kfMTwo9/wA6szvqNlZ+bNEAG7tzj9fetIYeq9SWWdPZtO1vzXkZkXnPJA561D4g1ZHtpDMDPNIcK3TaMY/wqlaazFFG4lbfI4xj0qxGbK8tz9oPPavSpJw3LRzG5fLKiQknkccg9+a1tIvbiyYtAxV8cSlskUlzpttBI3lHcpGR/nFVrEr9q2vwtdDlcZvPf3F5fMZmbcB6+1W0vxbBXYt5i/dO41HfWi2LI68w3HyhvQ9KLPTnvLgQTHaqAlG9eP8A61ZOMmB0tmtpq2nF3Y/apGwq7jzxVrRo30XUt7RM6khV7YJrK0a0MMyCAM7I/WvRdKsGuYraW7Rfv5Xj0arp05LcpGraX26GOERskk3OMfj1xW7FGIkKDnHQ+tRQRRtIjeWoCZAOPapwcgGuy2hoKQCg55zS5FJRSGOzRSDrS0AFFFFAC7TQBjk06hvu0CE3ClyKZSigaHZFFNpw6UigooooAKKKKAHA0ZFNooAdkUZFNooAdkUZptOFAC0UUUAFFFFABRRRQAUUUUAFFFFABRRRQAUUUUAFFFFAAKXIpKKYC5FGRSUUAOooooAKKKKACiiigAooooAKKKKACiiigBdppQDmlHSigAooopAFFFFABRRRQAUUUUAFFFFABRRRQAUUUUAFIQSaWigBu006iigAooooAQjNJtNOopgN2mjBp1B6UAMpQcUlFADtwpDyaSigAp24U2igB24UbhTaKAHbhRuFNooAD1ooooAKKKQ0AGRTwRio6UdKAH7hTaKKACkyKD0pKAFyKMikooAXIoyKSigBcijIpKKAFyKMikooAXIoyKSigBcijIpKKAHUUgpaACgdaKKAHbhRuFNooAduFG4U2igB24UtMp9ABRRRUsAooopAFLSUUAOyKM02lHWgB1FFFABRRRQAUUUUAFFFFABRRRQB8SvJGAdygn61XFxh/wB3xUJLBTv6npToZwhwyVBzGnFIZtoJIx7U26s5S4MeNtQNcHC+WuM1ajlc4WZsA0cugFZg0EoYnH0rUtZXvlEcc2DjpxVb7OkshG7cq81Na6cVnNxHLsUf59aycRWRLF9p026eSzkGMdu9XrDVnWYS3GVkJ+X3Pah4wNgVPNw3zYbHFXdaSwuBaJZW5tyFO6XfuAPHbArRXJsdBa/EjUbCVIonJRUAl2gH5u4qPW/iVrF7dkWjpBAzAEtjj9KwE0i2vNP8mK823EbeZISuN+ePX1qXTdM/tGxEIsXW9AyyvJgE/jx3FaXdilfodjpXjzVbC1jVXhuXkzzuHH5D3qze+NPFc0Q+z2T4zkusZIH04rO0LwVJLC5dmhvI8bEI3LznvnHpXQSaJ4rsdIxGIZXc4wFTjp71W6K94wrTxhr03lRTLILe6cIZWTGM8emK1IdGSbxFbfZwFjjBaSdyQpJAPXp1zW3oFoLXTYLLXbaNWT51YqOuf/r1uQNpjTNaW/zSHBxsIGOvWpihq/U4/wAWWFzeWc1nGYdkvEZDcMc54OOeBXmfiLwNPoWii+1C4WJ+gjc7exPce1e0alrNgdXTTpLV/wDRlDBlUnnkdh7VQ8RvY+KNQGnrbNLaBfmkkQjaence9Vyoo8BtIJXt5ZiI5cAcbj74qSMxx2EiXQVHblAjZJ6dc16X4d+HltJqt4I7rAgYfK8fysDuwOTjjFYvj3w09tqKww2+1ZF/1iJkLyfT6VjKKWqFY55L+61qAIzMCg++gyDXZeBdT1S3t5XuYvOtrY4Hy8knOO3qKp2ng1rfT3mu5vs9uik/IMk/kfrTfBNreah4gkhs3drCNsujts8zG4jk+4op1FezA7a5jPiaaG2udOa3W4G5pNrfL3rlrzQr7TvEge3RntocHO08ng+leiab4mivLqexXSfJe1ygl84Hocf3f61jzeI00iea2vI45JZCCuQG4x9DWeIxMKTsNnOeJNdu9dsItNtLXdMPlJIOR07D6Vx2oeAb2x8pr1zDJcNj5lxkYznke1ekR2wtb+PV3mhRZDkR+WP89/SulWW38QzRx3sMe1DuWVsDB9BU4fEqb1M2z5/0Pwbc6pfSw3bfZhB8r7sgljggc+xrWTwpP4ZaeS6mjjdlJiBbG4YPqPQipLLWbu08X6naX9s6mZgkp6eVlVG7p2HNdZf/ANm6t5STyF2iQKCxIzkAf0q8RiKdONybnj6XF41yWjbJZidnYn0qTVLS5s1DXcPkmTs2R/Ouu1zw1ZaPcC9tnMip82zBwDzVLW9atdesUa7t8OoO0r/9YV59DF+1d4rQLs4gyjbgkZ96TzyVxgY+tLc2bpmQISuTjHpTNv7rPlmvW5XJbGiNWG9uFA2MFXuBUM7CdiT1xRHp9xMss1uG8pBk/lUMmZI1TPfnBwacYyXxIdyBGZIiCrA4znFeh3Npb6fodnNb3YlZ1YuMj5Tk8VwnkPtGYyUztzvrSLO9gEjeQKx6MxNTJ6WaJaRfgUTySFXzu5z6VNDdtA2Gw231rMtW+zqR5nzYp1mz3EjBj0NcVSKlohWL0N5Jb6tHfRtlo3Vgvpgg/wBK6S+8X6fqmmSR6km6fHy84/rXKLY3MkoWLoTjPpUmo6NNBbo6qJG74x7V0QlaNm7CsjPgf96W/hLYC+lTQ3JMckbKQ3aohpl45SSMYOcEVabSryBDeP8AcXr0/wA9qmU4dR6Ghp8saRh7np6Z5q1d+VMV8mParfxZ5rnhK5YMPmLdu1dNbpHbW0U92wYY+6KpRVroC5p9/FPYm0uHR1XlCG5B5rqfD0MGpRfZ3bEqAiPH8XH+Arib24W8kxpVosIHU7h/gK3PB8sy6pF+8/fKSMD6EVor3A7rwkyWlzcWU8OJgSy5zz0FdXpttPPYkDhVPykfU1zxjubXXLe8a3yAAspH1JrvbaJbdSIB8jYNbFIrWEE0TBZHYgEnkVoNjccdKNwbtSHrTNAooopDFHWlpB1paACiiigB26kLZFJRQIKKKKBhmnjpTKeOlAXCiiikK7CiiigLsKKKKAuwooooC7ClBxSUUBdi5ozSUUBdi5ozSUUBdi5ozSUUFIXNGaSigYuaM0lFBF2LmlBzTacKBpi0UUUFBRRRQAUUUUAFFFFAC5ozSUUwFzQDmkpRQAtFFFJgFFFFK7AKKKKpAFFFFAC7qXdTaKAHbqN1NopMB26jdTaKQDt1G6m0U0A4HNLTV606mAUUUVIBRRRQAUUUUwCiiihgFFFFIAJxSbqG6U2mgHbqN1NopgPoPSgdBQelIBlFFFMAooooAKKKKACiiigAooooAKKKKACgjNFFACYpaKKACiiigAPNJilooATFGKWigBMUYpaKAExRilooATFGKWigBMUYpaKAExRilooAAMUUUUAFFFFABRRRQAUUUUAFO3U2igB26jdTaKLAPBzRSLS0rAFFFFFgClBxSUUgFzRmkopALmnUyn0AFFFFABRRRQAUUUUAfDzoChkT5yD8oPrVMM73BYYyByvau40nQoLzwrNNEQ865YKpyenpWfp+lWjWUxdSJx2PB71BzGFbE/eZssDwh6V2fhTw43ie4t7f7MTu5ZzjgZx/WneC9M0y61v7HfQsvmAjzGyAuAT6+1d1beHrjR9Xs/8AhG5pGKKPM+TI+968+1bxjeIGFN8Lbyxad7DM8I6Fzk+/Yd65C+tpNOke11BTD838P1/+tX0mlxNahWn2qZNoI9TXAfErRUvdQhkMDBdoLNg4HXrScRnJaR4dsotKe+lu5GZwQFLDH8vat/QtG04NG11BHdQucFCoJGeh59Kt6V4Nnns0bT54pY/7obP8q6bRrSWykNvdWByOjgNgVKiOxxniqx0S4vo9K0OzWC7jUb5dqgt1HUD2rPsLy4tb9J9aincR8F0I+bnPOa9Nn0K2uWmuJImWZSdrRgnPNc142maDTbYr82JAGQjDYw3OPSqktA21KuneK757iSHTbZ23kFTLzwM+hrtrTxbaQaW8mq4tZYVG846twDjrXlrahcXF/b3VvCRFDgMFGc9P8K2fFc6azoCRWd2qBgDJGhBOeOvcUlsLmHt40h1e6l1i8GyxjQ+XHJyrHr0z7GobHxjeS38ItYoPLkLYcKdwH51z2j+DbkaUoMISN22oMt19T7V6boOj6ZFaWq28kf26MMCN3/16URp3MOU3ep68PsWoSQsq5lCORjk/1ruLeK0hsmeZGfAOXfB3fWqtzeWPh1Xvr9Iw0gwzM2ARntz61Ztdc03ULEGE74pOgBBHp1zVFGBqF79gsZZRDaorH5MIc9fr71ycPj2Kzu1tNWt47tJecyLu2/mfaur16/sLWaNLy18w84VST1xjvXmOveHL3UtdeWxt5FhlyUGw8DJPpWXxOwjb8S6vYajYbtFuWiVjxAThRwewrjbPWtTsFE2428kbMAVJCuDxzz/nNaV/4A1m3udthBLIMg7vLbA/Sub8SLfxwQWt8kkE0JcYZMbunqPasZUXfQDei8VXq/Mlz5bSHLmMkbj781sxXdrLBNeXYWR1BAdxk5x/9avOdM07UZVWRILl4weXWEkdPXFaGrSTSRL5EpkhUfPgDg/hXHXwrk7shtnVR6zFqSJaykBUb5X7gZ/+tXUabqllE62N7NJPHnfHKTkr2xz9P1rxyJbkMs0IZ4gcPtGcfWuzktbTVrW2EEzQPBbJvHHLd+/vU8ijGyINC7+zXniG9ub25zcTpgqh5PAGTke1Zw+xW908haWYgqACQfb0rAs7y4/tLzrmAghcCVQSD0/CuhtYbJtstx84bJJz0P51yVKUn8TGdRaaYdU0aYix3g/MfMAPHFczqGg6bB4YbaBDckkAYHv7Vdt9TjR1+zhlixtO3mtGz2aldxwQxFwpzgc9/wD69FCuqMuRIXU4ax0prvRXsVtw8quGacAfKC2ev0Feiad4G8MXXhq2a42RvGoEkgUbmOB1O2mXXjE6TYy6bDEF8xijsAOMGsAPLdeT9kuyYlOZEAB7f/qr1vrUmtDVFKfT4tLuJ4LmMGC6QiIWo2qDjHINY2m6LplhI9zqsLSgyExomOmec5Hpiu51S9t51jewCwSQjDJnII69TWBeK06+SmIxJkszcAnrxWFXHT9pYzuYN+tvr+tuuiWQtLZR9xVCgnJ549iKq30TQ2UcEkIR43ClgOTnmti20KOOTCSgPnJOay5ndL2VG27UIcnPXArSVaTkrjTI7PRTd2M7/dkXBUnr1rLTzLaZ1BwwODit3VdSjfSo5LU7SOGwc9xWB9oIk8zaW3c8CroWk3cZ0eirJNG3nSMqkckHkCtLcCPKhLMq/wATHk1zthq+xgqYDA8g1rJqLSMHZ4129RuHNYVYttkyNe3GlmEeZJIs+cBQRg/pVTVdOv7rZBEdkU7BVQdDnioV1M3sg8iNQY+d2ev+c1LLfTx6pbS3O4m3dXAA9CDSoqN/eJ1K994fm0/ULO1vLf7PGqgtKmAGyOM/j/OuqvfhzObGK7tp3mjEYfarf/Wrp5jp/jfTLW3luoo59gG0uByAD6+1c9qeieIdF1S3jS6ZLXYFICg8ZPqPavWjFW0NFsZ/h7w8L60UTkxPNIE3A9Bkj0rpdL8LReGNTe8lkhngi5O4ZYk5A7DuRTYba7htLaOGJh574DMpAHzYzTtW8D6xLbCaOUOQ2SEyc5I9qfKM7a21yxi043WqttjuDlB9R/8AWNV7T4g2dzqAhhjP2bgGQDp+v1rKfwnc3ulWdnfHiFR6+/8AjVyD4fJb6S8SSFdxztHOetIaOut9Vtp7cyQyK6gnnHOKyNXvb6S4gazLJEwB+U4z1q3oejR2FuIDFhQi5yTk1qmBZMBcKi8KD1AoNBLYs1upk+9jmpKXGFApKBijrS00U7NABRRmjNABSjrSUo60AOwKa1OyKa1AhKMmiigYuTTqYOtPoEFFFFIAooooAKKKKACiiigAooooAKKKKACiiigpBRRRQMKKKKCApaSigFuLmlHSm04HigsWikzRmgBaKKKACiiigAooooAKUUlKKYC0UUUmAUUUVIBRRRVIAooopgFFFFABRRRQ9gCiiioAKKKKpAFLk0lFMBcmjJpKKl7gLk0ZNJRSAXJoyaSirAXJoyaSikwFyaMmkoqQDNFFFUgCiiimAuTSZNFFABRRRQAUUUUAFFFGaACijNGaACijNGaACijNGaACkNLmkNACZozRRSAM0ZoooAM0ZoooAUUtIKXNMAoozSZoATNKKSlFAC0UZooAKbmnU2gBR1paaOtOoAKKKKACiiigAooooAKKKKACiiigAooooActLSLS0AFFFFIAooooAKKKKkApc0lFAC5ozSUUAOFLSCjNAC0UUUAfENlrFzpqlIbhgjcEAnpWrYeI4YI9giEjPnLN/wDq96ybrw/e6bKzzoCsZyfeq/lYjVnXy3zkY71MWtjm5tLHr3gMaVfuTdOsVxKxEZ9DjNeh6Jb3Giaw9rMvn+YOH9OR9a+ftIttTFut3ZgqYjuXJ9eO31r37wBq02paSbrUVzJGCGb8j3NbbaCWxo+IrKS8hjhglKT8sMHoRgjvTdF0mU2pGvSLLv8AlG/B4H4mpfEdm5sfttjO29QSDniuctp9d1DTyiSRGUH5S27296q1yjefSf7Euo5bCRhCCMpzz/nFbCXov4W8qIK+MZ9aydOvtTu4D/asKIydcA4/UmtPT4k8zesq5PRRVMEOht7pbV0IG8njpXH+MvDF1qmmBk3LLE2TtPUYPvXoXPXd81RzblgbOSpPzVkzTofPD/anujZDdaADaCR944/Cum8JeDr23nfzp1mWRQ7byOp+pr0K48P6Xq10klxbr+7OV2AZz+I9qz5/DqWmryXE99JbwFfkQNgYyfamnYk2dK0WCCzUswdR/DisbxDpcWgSpqltI5/eKpRQf4iAf51Z0XUbu3ulsnMVxE3R0ByOe+TV3xRLN/wjVyYoo5XQhgGGc4OfWiUrjTsWLjT7PXtNjjuog8cigDI6HrVbRtAi0m3eEoGQfcOOlUPCuvXFz4cFxdqqkHaQAflOB7+9aGleJ7W/uvs6SA+x7/5zU3HcZJ4WS81DzLn5guCMj/6/tWvFptvFt2WyMVGOgq4obOBwffuKOF+bcV9iaYxhgQRsUhUnOD0ryb4o+GZNQYXdpZhxBy6pgHnb/ga9akdUU7mIBO4kelcn9tgvdfu4rS7+RVCvGx5bII4/WgHseW2/iCLw94dhKwwkFsPGwBI+Ue1cj8muQS/ZUMDyfcVQdp4x7DrW38SfDoh1wRaesjqXJYMR1y3sKv8Aw9tLl1Nlc6cpjPAlKjKnPbn3qJRTM7lSw8KX2j2qxzxiVblN4woxwM+p9azpZDZOZidh8wxyL6Y5r1qHWbbQLldP8QonlkN5cxGQoI/+uK8u8c6NeTX0s2itHcWM8hkRo89yfp2xXNKlcT1OduNUCzPFCoKbwBz7V2sdtayeHbd48K5+9+leaRQeZIY9zBwcE56HtWvBqVzbWvkiRmWPruPWsZUSbGvezvaybbZtylugHStDRNXuo9QhNsArHhjn3Fcrb+II5GbMYGT6c/zq8b6OIRtAXWQHkg1zzo6kOOprapte/le7DfMxJZMn+VOtrmCytWkRi6ugGACDUVlqclnH9q8kXaPkFJBnB6eo9ap3upW0ypKIvsrgcoowKmMeQa0NGOz+xRLdy3BdJOx//X7Vial4n/evaxxZII2kf/qqxcapBe2SWcIclTweP896jsdEKXQnkhLNg4zjHSs5ckZXmSVbTXJVuA7KcehrQtNW0+5mnS5t1BkUgNjpxj0q00GnRQH7Qn7w9FUCudntXgkZzEyRE55xmnZVX7g0aEMNs0ctqYwUkbKtjpzmqV9Y2dtD5cT5kj+XpWzoD2lzbzGaRUEQzhup6/4VlTyWMolmBzvckL3FdMITgUYm9PLPkj5+5pkc0zPhSSSQMV0kmmaQums8c4ScqTg9zzx0rCVNk2+JSSuOa64vm+IaOobTLmxgtZXjKRSKMsO55/wrpNE8LX+vNBcFQIpJAMnHrj19qxYvFUl5pcGm3iqzR4KkA+mO5r27wfpsFv4ftjvbbhipU8Z3H2reKj2Gec3fhDWfDviOM6bmRjlgOMAYPvVjXdavdU0OOSdXS9hk2OB7DP8AM16fc6tp2ZVmlAlhGFk9T0IrP0lND1Em08jfKx3OSBlu3HFNOzGiz4eslvtBtJ50XMZ7r/tH/Ct0RJHlGbAOMDFcvq+rXugZg0+3WSEHIAHT9R61l2vxG23mzVLdYyRhRj2+taXuao9A+RJAGUEfSnMyKp3OoyRgVxMXje4k1KKF7dVjmGUcg4H61n6jqer3kK38UTNbgniLjGDg5yfY0gPRh97cHXGKbHLGf+Wik1yGm38l7p6lJGEhABUnkGtm00h4kUyzMz45waANlmJ6AEU2mRrsXGWP40+gAooAzS4oGJRS4oxQAtFJmjNAC0UUUAFFFFAAOtPplO3UCFopN1G6gBaKTdRuoAWik3UbqAFopN1G6gBaKTdRuoAWik3UtIAooooAKKKKACiiigAooooAKKKKACiiigBR1p1NHWnUAFFFFABRRRQAUopKAcUyx1FJmloAKKKKACiiigAooooAKKKKACiiigAooooAKKKKACiiigAooooAKKKKACiiigAooooAKKKKACiiigAooooAKKKKACikzRmgBaKTNGaAFptLmkoAKKKKQBRRRQAUUUUAFFFFABRRRQAUUUUAFFFFABRRRQAUUUUAFFFFABSjpSUoOKYC02lzSUAA606mjrTqACiiigAooooAKKKKACiiigAooooAKKKKAHLS00HFLuoAWiiikAUUUUAFFFFABRRRQAUUUUAFFFFJgOHSlpuaXNID5YvoDHJI90xfc/zYHQYrV0XSdA1a3kt79/35X91k4weff6Vzcc32lR5kjAMfmLEmrulX0emX6Swssr55yua82E2nc8xT1MTxBYPoM0tuxcQq52lBnIzgVe8LeMr7RY5BbBzAw5DL9PatXxFraa/E1vNBErocqyxgE89+KyLfRZdQmNrGvl7RncBgH/Oa7oVFI2U0z27wVrp8XaTIssDIoXAOOO/+FZ1zaanoviNPKm2WzE4yBjv6irHwqs7vTNLmtrsqoUjbhBnq3euw1e2iurUCaMSOn3Sowa7IySNVqWDGs0AMyHD+gqBNJit7tZ4AwIBHfvU1kjC3WNyxC9MmrnGO+frSbKUWMQHvVbU/PNqVtUJkPQ44FW80x+RncQfrUbFdDkLi58Q2UDFkEi9go5/lXJa9qyyxRb2ZLneTIjcYOP8AGvT9SsBdWp/flTjtkV51e+GLBL2e5v7xvlJxwT3+tRK5Jx+p6/f2euCdI5tsZDgqmRx+FTa/4x1nWDZPZ2Ny1tAf3zLETuzt9B7Gp9V8R2S38ZsxDcRxj7rRY3c9DkVm6d47ltLyVrnToltDkKqgYzz6D1rHmsS2dRqnjSPStAt4bVFSCVRJIrHBDEDI/QVw58RHTPEFvqNiizRMRlVbOOR/hTX1vT7o3c2pW7Tu8hMcasVVFzxxjHrWCl7ZxgtAjKT0ViSB+lLnRNz6P8F+LP7ctV+0wbJQOufrj+VdFqN9Dp1qbu4ycdAK+W7HxHqenMJLGeROem84rttD+L02Ba69EtxEPUc/yNaKrEv2iR63Pq8V6BbRsFeb5VBI5zxVOy8Nw6eZ7i4XbI/O/J7Z/wAa81v/ABxptw8mp2M7I1rIGgT5hwBnnjnkVZ1/4wJqWhxwWH7mVkw7kk5PHsPem6itoJ1E0ZHj7TZze3F/ZT7lHIxz/Ef8ao+B/FY0aP8A09/mzu5wO9YFxr87WjwyzP8AMuSWJbNZN8guI1SJ2V5GAG3PI6VnFykQdV8UPEaeIbm1ltCxIBAUDOeF9PpXDR6ve2bC383yih8zacdemOfpW+t7dQWAgZYXMA4ZrYEj6n8K565iutSmNxHAHYsT5gUAflVXtqxp23NRNcabT2hlUxFzvLY644xWSNR2M6q27dXRnRreHTQt+d0h+YlePX0rFm0q1aQtaSfKOoNZRqKexSkmMtbcSws7YXuKat4wJjJqybU/ZswE4HXnNZI3+f06GiM4t2K0Ne1v7u15Rsof4cVbWObU23sv6VQhLIivIMIc9s1bGomyZPKyS6gjKkf56Vz1o66GbRpOiWd0pgGBkc10dntuYld7pUAHIBGa5V7mBrc7iWbHrUNpNK7ERO6+nJNceJo+0iS4NHaIkAuFZ5sKP4mAFc14ivLi5vjEs6zp0Urjjj2qzaXX2qH7Pc7nI6bciqjaZcpclihSMfMMjJOKjC/uvdIT1MhIbu3uk8qMsp+/gGug8Q2VgbCymt0RGeFTIQ5Pzc57/SqaXLRyPiNmz8vKkVDdebBHHDdAokgym454/wAivRp11JlrUxokuHZo7VJJj22pnH5VJFK8DbbxWQqeRjFdToOmPaySXUYCxBCcthv89KcdEGqRzzb0LlicbAOM0PFxUrJFbEnhaTTr/XU85F2KmQzNjJz9a9ZsvF1hok0tgzwtbW6b1IlHJxux19zXjGnaWUjlazVlkhPr16VefRZo7Jrq4neRJOAu/kHp6+1aRxkW7Bc9KuPEehXWlvLcW7MskzMDGSerA+tZN7rUttqcMumWsiRbBiTaT3P1qx4Us9CtdPT7ZMs7vHnymPQ4z3qe1W1vZzumSKEceURkn6Gtm76jTOg0fTZtXt1kvZCjZzgj3qxqvw6sNQaOUbyy9SuT/Wo/D0rOwcb0XcAAST3rrTexW5KvIBlRg7un4VrDbctTRzOneBLfTdUW5F48qxx8IVHHNdNp1mbWxWGaQMnI2YHcn/GnQ3sEylY2U5GCcVYVgzFs5PHaqKuV4LKC3mYRQYLc55q0vCgE5NODncW4zTMYoGOyKSkxS0DFHWlptGaYDqKbmjNFgCgdaXFGMUgFopuaM0wHUU3NPABHNFgEop2BSYosISilxRiiwCUUUUDCiiikAUUUUAFFFFAAOtPplLuNAh1FIDk0tIAopCcGk3GmA6im7jRuNADqKbuNKpzQAtFFFIAooooAUdadTR1p1ABRSE0maAHUUUUAFFFFBYUo6UlGaYDqKTNLQAUUUUAFFFFABRRRQAUUUUAFFFFABRRRQAUUUUAFFFFABRRRQAUUUUAFFFFABRRRQAUUUUAFFFFABQelFFADaKXFBGKAEooopCuFFFFAXCiiigLhRRRQFwopuaM0BcdRRSE0BcWim5ozQFx1FNzRmgLjqKbmjNAXHUU3NGaAuOopuaM0BcdRRRQFwooooC4UUUUBcB1p1NozTGOopuaM0AOopuaXNAC0UUUAFFFFABRRRQAUUUUAFFFFADx0opuTQCc0AOooopAFFFFABRRRQAUUUUAFFFFKwBRRRRYD46S4QRBZep7Vr22lzhfOt4sqBnmmeGbW0F1/py/OpztY4z0roLnVYVdxaRhWUjaAc1wRgcHKinpNqX162W6gDRyZ38dOCf516DNoa3Md1Pp8IjSEEhgMdq5PWPEF9JYWuP3M0cahcoBnj6Vv+DfGVpFts9R+d36nIAzkV10oC6nUeC765lt5ILiAF4yMtjqMn3rrvM5OEHA9Kq2TxXQIXaOMjB7Vc2hUKCuh6HTEMBWwKUrhhTQafnIpmglBEZU7zzRQRxmplsAzCMNoTdXB+MrTzpDBYRhJJGIYsO+c9q7/ABvGa5XxldXGmW6zxKWC/MDt9eKl7EyPAdU8PXej3UkN8fmByCh6ce9U7W6SDEcoaSMk43c811fijU2vZluLmaNjJztDDNco9ul1DKZceZkeWAf8+1cktzJlS5jna4d0xECxx7jtVZGjaUrMuMd6t6jcSxWsEc3EqgA/TFUba6T7QPtEZIzUiHlzub7PudB0NSWyF1LyQkmrz39r5jRxx7UwP5VRuLmONCYj+tAWLwtIm/elAqLwVA61nX2yK7RIo9nUgnpTTfkQgRqVTack1ltcNKwWMGTc2OBnvTjGV0wsdlaWlmmkm+vz9oDNtCjnHAPf61p+FrTRpLc30soTypBhHx06+ntXDNb3VoULxSBMZ6Gta1sr3ULeQ2VuxO0jgH/Cur2qiB2d7bLiW/sBFJYvxKSDx2/xpJ7BLbQkm0xFa2kAdmx0yP8A9VcgNR1jRtOksrqF0gdlDEoeOfce9dBqHiO1uPDlrp2lnBSNVlbI6gc+vtWdSopR0EZN1Kz/AL113QONoP1rEsoLcai6SuVVzx+tWh54hNtHygO5j7f5NPsItzN9oQ4U8HFcEZcmgo7kkkP9lsTGfNjl4APOP84rMYRLP+8+XJre1E2MkCpIwDjtu/8Ar1h6hY/vonjjZlBzxmrpfFc1e5OIz5irAQY+u5ulSardJN9n/wBWxijAOwH39as2dpNqVhKIPlEQHy45/wA8VTFnHY20kl/A58zjOCK254uWoitG0SIcnJqJbydbgLbgjPpU9qiTSAPwO1dJpenxsweUAso+UevFZ1LWE3crWFwtvEHaRxL9auDXL5SZZJFKgbQr5Oc/jVebSWmmnlc+WmTgmn2gERZLhvNjxwR2P4V580nsZtGpHqZurVYxYR7ic7gv/wBekvfDV3qq/apxmNRhQP4R/k1DYai1pBcJcJlG/wBVx9f/AK1RwaxO8UdvO+FL/d444p0k6epURlpdNo7fZZZfPTPKE54/T1rSgubWa6SWH9wnO5Rx2qnqt1ZyXZTA4HJz7VRWeMvttwWA9OazlKTuymb0d+lmtzNHGPJDElsdelczfatJaamGimMsTcmMnIHSrWqiaHSmmhRiTweO1Q6XottqAhae5UMTyu4etaYeNKL5piNvTX0cxJNqMv2eeY5jPH5dD61rHyTfWy26qxifDNjr1rEn8PhZVAiaSFOhUE1raPLLa73ELBF7EH2r0p4yjayA6278bLpc0ZVEeLHYH/Gm6et/4vuHvYZXihVsYBwP61nQRQPNKZ7Y3G/AXqO3tXXeFmhsJBbyOLbzMbY2OM9fXmtaHLP3kwW5t6PozaZEDNIZD7nP9K3YxxnbjNVbm5Ftdxo0ykEbeoqxE6GHc7AqAR19a6+ZGyaJaKavlzYL9EHFIvzKGHek2maNqw+ikyaWkIKKKKpAFFFFMB1IelJRUAFFFFNAFKDSUVQC5p1MooEPoplFADjRTaKkY6iiikAUUUUAFFFFABRRRQAq9adTKKBCt1pKKKBhRRRQAU5e9Npy96BC0UUUgCiiigBR1p1MooAU9aSiigB9FFFABRRRQWFFFFABTqbTqYBRRRQAUUUUAFFFFABRRRQAUUUUAFFFFABRRRQAUUUUAFFFFABRRRQAUUUUAFFFFABRRRQAUUUUAFFFB6UAFIaSigT2CiiikSFFFFABRRRQAUU00lACnrQOtJRQA+kNNooAKKKKACiiigAooooAKKKKAClHWkooAfRTKKAH0UyigB9FMooGh9FNHWnUFBRRRQAUDrRRQA6im0UwHUU2igB1FNp1ABRRRQAUUUUAFA6iiigB9FMpV60AOooprdaAHUUyn0AFFFFIAooooAKKKKAPjcapI+qOQmwN90g/SrlpA88XnJdkThs7Dnnn607SfB91qUrmCVkbb8pY8Dp14q3FoLW11FC0kfmq3zMM88/SuSN18RwWsdEmjy6roqXd/dpALUDJx16D19663wj4U0S4hDC4WZvvF8Yx0rCvtKi1Lwq9nbRu86YLNHj2/wAK42zv9Z8IbQ8zhH+XbISf5Y9K6oSVtCep9I6dZxWq7o5Ny4wOc9Ktt8uT614j4a8bXkesRLcXIMMpAAUnA/X3r2WG4FxHE6OWV1B6+1b8rkbRkyYEg1KAQMnp0qPIPSno/O09+KmzW5vF3H4+Yr3FQz3EcQUO+3d0qUlUU7zgx9T6151rfiKG41aPzJ5Ft1cMqoerdh/OpbViZSsdvf6nbWVnvll2Z6ZBrxjx54x1GOWWBZ0mt5HIXBHC54qTxv4xmltykwVABgIwOSOPevK726M7ieGPKd89KwlU6E3uX7uNU03z7mZmmB/djfn1rCgup433eeWbPT0qadftMRkT5gB09KyGd1m2hB+VRyp6g0a4m+2FjeTfMpyPpVeaSLzfLilyR1wppmnaalzqMS3j+XE55I+lO1SyisdTuItNJlQjG49uB9KORE2JY7gqhTaH/wBqq0kqkEE4PpirdrplzDb+eNrRkZ59arC3kurohlUD6UlFJl2HeXISIpsogHzHH+c16t4Q8A6TqHhR7oPh1+fzCnTBJ/pXm8+ptczWUN5Am2BhvVRz1z6+hr1nwfPeaNeWkF6yTaXqSNsjXOV2j346sK6oy6BY5q+SNUktJrdTuOIXABLfh24FXdI8OajoFqLi5Zo1ZCdu3Pf2PtXp1/4O0yz8vVPs4VVGRvA/w96xNe8VwwRpHqDxeSVLoEB6jtyaUqUGRY4XXvMl0GZrq1D+YRsKgE9fQcjtXHLaNJp7LbxPGy8MQD14roZvHqaXqU88Fqtx53yrG65AHIz1HrVWDxb5emXLW9tI15cSE7MDaoODxzmsnTXQLFGBVtpds7YHlnJxnNQ3OqmLbBDDuLH5SB1/Sq0mqwTziNkG1RliRzn0qqmqt9rYRqoVRxkVyVKKbuCikdPbeG11mESvP5Uyrkrn/wCv71RllWxvTbTuGCjk4zVO1u727jLQZU7uT7VLd2ymYqH/AH2Mk0opxVijU0u4NjM7ov7uXr29f8a1dUudOvtJiiYKHU8jb7fSuUvL2RbVV/iUYzWfFeTY+dqXsU3e4jRFsgOUYfLyKsw6jKJVQNtdRhfesTc5b5CRV+3szImXkwcetOcEQdTb6lay6W0V0370t0A9hUWoy2ckKnTf4Rh8jHP41ySzPbTsu7IqzZvO6ySucIp5FYyw6augexpOZlh3bg/tnpWc0swIlUFmDZ64qJ53km/dNwOop8t08a4MS/XFWqaS1CIRG5vLlS4ILOox7V0ul2i2zsJkG49O9Y2hG5vJisY4HWt8utqGMoIYcVErOLiimXYCt9FJbFFx6HFYl5aHRLlFnjaKQkbADnP5UyGaZLnzWd1Un5ChwQa6G8gkvTBPq2/yx0lz8x/P6VyxXs/iQhtlr5t1jAVZlI+bPY4q/DM9zOzoAqN/CKof2VpwkPkvJC2N3UYOe/SrGmlbaQtHliP426VlUte/Qm7N2wmNpdot0cjcCMDFSXGoPd+KreZj5VtCCNw+hH+FZ1/qv2wJJb2oQ9Mgf/XrPJu5WcM7KDzwa7aVZ00lANXodLqXi+RvEqKu5rdZsBuenPbFacvjZ0nW2I2IzqQc9R37e9cpoenXurXaoIcjdu3Gu0t/h6JJZG1AqpJGz8vpXoxU5K6LUGjcsvFVm0Z86UKNoxgE5/Slh8T28tx5MchLdgEP+FZ8fw7to/nSaQ+ysP8A4mt7T9Ct9PgUJb7n7uwGa0pxqLWRautyWHU1edYi3zEjjFaWRWNb6MF1hrmK4OMZKZ9h7Vr1qarUdmlpo606qQMTNGRSHrSUxD6KKKVhhRRRRYAooopgFFFFABRRRQAUUUUrALkUuabQOtFgHUUUVIBRmimnrQAuRS02nUAFFFFABRRRQAUUUUAFKpx1pKKAH7hRTKeOlAgooopAFFFFABRRRQA7IozTaUdaAHUUUUDuFFFFAXClyKSimFx2aKaOtOoGgooooGFFFFABRRRQAUUUUAFFFFABRRRQAUUUUAFFFFABRRRQAUUUUAFFFFABRRRQK4ZpMig9aSgVxcigmkooC4UUUUguFFFFAgooooGkFFFFA7DTSUppKCQooooAKKKKACiiigAooooAKKKKACiiigAooooAKKKKACiiigAooooC4o60uRTaKB3HZFGRTaKAuOyKMim0UBcdkUZptKKAuOooooC4UuRSUUBcXIoyKSimNC5FGRSUUDHUUDpRQAUqnFJRQA/cKaTk0lFABTsim0UAP3CjcKZRQA/cKNwplFAD9wo3CmUUAfKFh4wv0ZhbzCJSpBG1T6eorodJvZr8LNdR+eVPC4xu59vpXAtYkQmaJ9rDovrV6z1TU9MntpGJWHcN30zXNTkp7nDbmPQF1N7PVo2+zSWUTE7vlJB692roLmDS9bCWl5cxyyOwCICM+nY+9Y11qml61ooeOdfPijVmG0jrj2rpvD+ixyaCl69oEvQ37psjn/JrsjSVronl5XY56XwNb6TEJbeY4jYsQ/G3nPHNdbo+tXJ0pYtKBumQAE46cD0zXJ2V9MNbez8TSSLE27aATz+Wfatazmh0mZptLuMQlziMg5NbKSjozRHW6dq93JIBeWRhU/xc/wBRW7kD5yRjHHNc9pviKC9aQPb4VehJz/StyNxPArAjocKFqJSTLizgPiP49XRWWyso/OnZQWyff/61eMO2r6nqE09mxKRtvQYzyB9K9t8a+EodUnNyqKJTEoBIHXJ/xrkNA8KxaAuzUGe4ucY2If8ADNYcjbJb1OG1qK6ubGKTUo7hrjpu8rA4x9K5g3SRXSw3bFIeh4rrPFt9fXF+8Sj7PbxtgKSM9q42+tvtNyAo3ADk1jKm7lIfetZwXvlWcp+zsPmbrx+dVZk0+OZNk7SZ++cD5fTvRYWZuNQjhl+VJHCZPvXS3nhe00rw+L1iJXkYqwx0GcD+dPl5Smc6YPkMyyZgZsRtnkj1/KtjSbm3e1nwIVcqeZJMVn2sEXIlZhEpyi+1aSeC2voGvbe8EcajJQNjP60EnP8A2uaSZ4TKuAxwEIIPNXoxbLBiQsk/oRgGqs1k1pdb4EVhEeeRzVq81mPVbZYorRIp0GCwxz+lOxZXWIy3X2kgLI3DEnr/AJxWu+pXKyWixuv7k7l+b6H+lc+LghsSsRipJJPPs3KBxtxhwTU81mB6dquu+LPE2k21tpEMxiVRuMce8dP90+1chez61LdeXqFtKDH0DoV/pU3hr4j6n4dtYrSGMEYHLjk8fT2qDUvGt1q85zAiNjBIAGf0qnMgp20X+mSXF83A4Cj8anElrLdxSQS+Qo4JGCcfjWVNNKCfm5bsahjvGhBjMQLYySCKhTsBZntoJbqYWe5gpDbsd8VSdtlwqvkE8Zqyk6RYaFiGPLLg81BcyeZKkpTHNNyTA2kne108xBSVk6Njp/nFRW8rxy+YG+bplqj/ALQM0EcSIPlOf0pkzfMA52/SsmrsCe+vHlQhgpZR8zZrOEuYS4Jx7jirsNvFcz+SWIDYy1XfELadaWNvZ2kWWUDe4H1Hp7VokBkW94wl2s2R61ZNyd3ytis+BU3ls1Kkigs3XB6VMkVYmup/lBGc+tRw3sw+QOSG6jHWkmnUqPkpiEGRWxgCnFWQmjQjk44+U1KIXYGV9xx04qirkzAjpWxaTmT92+NvaoqK60Iehq6Astm63CXG1GI3KVHAzzWtqF9A0LDb5xY5yPr7VkefBDCY+cY5xUf2vKhYQCPevNcZJ3Qk7l63DzJvQJH5Y3KWbvV24vYLnTXN7KwmU4BAGO9UBd2M1n5M0hhkXnIzz7cVCkIms5xvDAEY/KtfdmrMZoWOqJBp5hMqlM5GSM1fsNcjMP2aRQ+7oM1x9rZtM8iMWG08c1dsYZYLhSx+YdAamVDnVl0HY6FL+4hjEW3aufvEe9WU1GSKRGWXzM9QFBNYH22aaPbJgc1rQRRJY+ZuxKAME1nRjyPULHsfhLVrF9AV5zDDJGuGLOAe3ODWk3ibTQokhlMsJ+86YbB/OvD7LUPJAR55CHPzgEgYrprq+todE22BxGpGfm+91r1Y1/c0M+aZ6dZeJLK9nMMbKo7FmAJqa5vpIXC26mQlOQoz3rxuG5WW4guIHnBQfMqORniu/wBI1kXMfmRRyow4/eMTn8xWlKpOWkik5dS7Jrf9jzRRKrSy3DgMCPu5P/166SKXfEjMMFhkgdq5ea1l1ly1uFjmQjlk/qcVraTb38ERW6cPs46j/GtjVM1Q3XHrS76aFAUMDye1FUjS4pbNGaSimA7fQGptKOtADs0ZpKKAFzRmkooAXNGaSigBwOaWmjrTqACiiigYuKMYpu6jdmkIdmjNJRUjFzRjNJTh0oATFGaWm0ALmjNJRQA4HNFMzijdQIdmjNJQOtAx1FFFABShsUlFADt1G6m0UCHbqN1NooAeDmikXpS0AFLSUUgFzRmkooAXNGaSigB2aWm06gAHFLmkooKQuaM0lFMYuaM0lFAC5ozSUUALmjNJRQAuaWm06gAooooAQnFGaD1pKAFzRmkooAXNAOaSlFAC0UUUAFFFFAAeKTNB6UlBLAnNFFFIQUlLSHpQAmaUHNNpRQA6iiigAooooGhDxSZpT0ptBQpOaSiigh7hRRRQAUUUUAFFFFABRRRQAUUUUAFFFFABRRRQAUE4opG6UAG6jdTaKYDt1G6m0UAO3UbqbRQA7dRuptFADt1G6m0DqKAH0oOKSikAuaM0lFAC5ozSUUAOBpaaOtOoKQUUUUDFzRmkopgLmgHNJSjrQAtFFFABRRRQAUUUUAFFFFABRRRQB8cai6xRKYzkjkD1pbbWT9nCXcYlTspGcfrTS9vMgLMOOcZprPFEvyoWz7V5sKjR52xf01Iru5k8mUwKwGVBwPWvVNC8eQW2g2kc0iyTQyAZbknqfWvHI7K6KmW2GfM7Dt3q+dD1ZrGO7hhfy1bBIU47nriu6lUctA5W9T2LX/s/iOe1udNZUnQEsE464/wrO0jTYp9QvItTmMbxk7WzyOfpT/Cul6rpnhmK4a3ZpZGHO09Nx9veud12QWniK4bUWkUyLuIVe+4/SuiUeUOex0VhqEWm3r2T3GS/3ST9K7ex1OaKzWSYx+VGCd4zn6V4xa+I9PurBra6gIu0+7Lkgf4d6LnXLuOzSyjuVxMwAIIOOf8A69ZyqR6j1PQNd+ItjJbXCIIxcQOVAI9Dj1rj/B3i+aXxlLLdfMZyCqjoOVHrWNc2FvaXUcMhWe5uRuZg/TPPOPoa9J8LeGLG1t2Jjj+0nhWVyePz9a2pzp73GcV8SPD9rqc51bzo4XLbfL6Z6DPT29ao6D4Y0qz0/wD09/MmmUMhyOQce31rtfGGhW0m2a7CgcrtLkdcDPWuWu7fQ9H09ZTeh7hFChQwIX261Xs4/EO7OT8S6Ta6NfRNaNv5DFG/h9+grnJNSvH823klcxllOwnjHWtrxHq9tqE6FQRLjkmuekgaW4MiuvbjNcT3NIvQbdXPnTeXGPL2jZ8vGcU23v5YwyBmCAYI9aWDTpbidzGGcK5OVGeaS8iW2YxkY3dc0i7jbdjPcSISFUc59c1UKAXjEEjB7d6RV81tobYy9z3q/a2zFt/G1epNAyteNE6o4jUHcMnFd34Ij0m6sbi31MLGh2ENgZGMmuFCCSURdiwxV25SSzkEUW4h1BIX2FAGxr1vAPEDJYwRzW68KSM45NVotD3XEcjkgHrntzSWUiRWnnM37w/wnrV2+1T7VZxrEyhh6Ee9cc27kGXqMEVvcMjIJMDgkdKy8LyyLgmtK4BZDt/fNjnZzj8qz4oJ2zngeh6itU7oCqPMQO+Bwp5oEzzIOtT/AGRlY+YcDvmnQhFfC4I9q0QxbWXZ94c1oPbLLAXZsnFVG2BWbsB1qETSbfvYB6e9Jv3rDRMk/lLtDYYE80+SQ3cezOT61kSyOtwQMmrtmxhO9xj68Vo1oMryq9u+wBufWk5TBL4z2rsbv+y3IMXzMegz1/WqDaS11OCIDs9s5rN1kviJMITJvOWJGOAaeHxENwxWjqsFrZ26r5ZEncHPFYckj7T3B+7itotSV1sCLnnhY/l4NS290RtO45rOiVmX5gR9atRW4EYbcPpmomijcF7u2/XmryGAqH3YPeucgnCN8/TNTpdeYzBQeK5+UiSL2qTQz7UiA3Kc59aXTZ5kyo5z1FUUaNRvY4YHoT1pIp5lnaaLnPG0daOVE2Og+2eTEX3bHz0FJbTy3su4E7h0NYUbyNMftGeTknHTNa0ZlijBtlJz0IGc1MovoGxtXFrJHaqz4jdum2ptIW8vZDasAVHVm68c/wBKz7XUGnuwNjuYuSm3n1rQg1OOW4kUZt5W4AYY/nSjRdg3LFrc2w1CW3uOD0/WtK0jhIeORwqYIQe571h22i3d1deeiMyg/OwUnH1rsn8Mx6haQxWYdpvMUl1BIAzzmtVQdrInU0fDNokEhW1HnPwSW5xXcxqt1cpsiVQvYDpWZpfh57L7KsUiA7cSHPX5a6q0s0tYjgc+9dlOHLGxcFqWY4cjOegzTgAudvGevvTVbCg56npTqs0DFFFFMAooooGOxQaKD0oEJmlFNpRQMWijNGaACkzS5ptACg807NNFLmgBc0ZpM0ZoAKWkzRmgBc0ZpM0ZoAXNKHwKbmkIzQBJ5gpM0zFGaAHk+lJmmg0uaAFpKM0ZpALmgHmkpR1plDs0ZpM0ZoB7C5pwPFMzRmgkfmm5puaXNA0LmjNFFBQ4E4pcmmilzUgLk0Kfm5pM0ZpAS8Uh9qZupQaBC0UZFGRSAKXNJkUZFAC5ozSZFGRQAuaM0mRRkUAPooooAKKKKACiiigAozRRQAZozRRTAKKKKQBRRRQAUUUUAGaM0UUwDNGaKTNIAJ4pM0p6U2gBc0ZpKKAFzRmkooAKWkooAXNGaSigBc0ZpKKAFzSUtGKAEopaSgAoPSjNBPFADcmjJpKKYxcmjJpKKAFyaMmkooAXJozSClqkIM0ZoooAM0ZoooAM0UUUAFFFFMAooooAKKKKACiiigAooopAGaM0UUAGacOlNpQeKTAWijIoyKkBaM0mRRkUALmjNJRQAuaAeRSZozQWS8Uh9qZmlBoAXNGaTNGaAFzRmkzRmgBc0ZpM0ZoAXNGaTNGaCXuLmjNJmjNAj4kRXCt1yRVyC3aaPa0jA1JIFhzkZIHB7Un21NoVUJb1FeUqjeyOEs2Md3Z3GRMWj7gn/wCvWnp/jPULa1ks2jVoA2QD9KyftDhVUYO7qDSyny5jG8JRcckitI1JRfMHM9j2nQfHk974Zl8m2QvCFKguAOM54P0rNNmfFkjavDd2qXEQ2yW8sYIz36kD+L9K8ttILlZR9kvmi3fwhsDH5VpTaZIlufsEkxuW5k8ojBPftXdCr7RD5bnR634RlsV+3TmDYDysO0fyPtWZc2llcxxXFs5Ro1Pyk9/8imw6LqTaWLi8vZVilHyjdwPrx7GoLbRriVRHPKktsWALRk7hz71zV5RWjdjWxYjtLy5txMqq0g4D71yP1rZ0bxPfaROq3hfIPHJOR+Ga5fxHZP4avLaOzaZredQ2MjjOfp6Cut0S5g1HTxb31vJDI/EcuABjpz170qNFyfMmJo6PxJNaapo8OpyXJCJyyAn2/wAK8p1/ULLVrsLaoUt0G0sFPJ556fSvQdU8E239llE1yVFbk5kG0f8Ajtcrb+E5bGYgXaXll1LKScfoPau+V7WRNjil0C6vln+zEyeWhYnIzgfjWQpMLbUYl1OCrV6Tp+oWHh77XcGNZp3jKwqoyC3GM9PSuD1mSC5njmWMw3O6R5OAFOcEAd6ylFR0RS0NrTolRLcWrfvJwGdfTIzWf4r0yXTNSMN3gEjIOKdpF1dWdg96LZnbaNhI4A49/em694nPiGZ5rtItyoQAAc/zo5WVqzAt1QTYZyzduDU8rTWyMJGZY35HFS6dDCbd52nEMic7CcZ61BqF9JesgeZvKXjg0rGiIRdMCJVUZVgatyXsk0vmSfKNoGQfaq0dri3kIV2HXI+laGiaOuvatFYpcpDlckyE4HGewPpSsJtIttFGNLjnWKQkAfNu46VWtbeSSZUVw2RnjtV3UmuNOFzoiTmYwsR5iH5Dg4479vSs6GU2cx2YDdz60ezj1JJ5phZT7U/4FUUl6shzEMZ605Hglud0zD5utbNvp2kRW5lLktIeFGOP0rOfLEdmYMkkTRNvclscDnmsvzHLsI121umxiW4dgNwTmqErxEuUXGDRGSET6NYPLdRm6y8Gf3gz2xWjqdhZRXjrZbnGPlXaSF4+lZVpczqpETYyOa6LTtaFrEYx/rzwXPQCs5X579C0cZKpNw6lxgH72MH6UqP820Mzj3rovEWgWkSf2hbTPMZBuYZBweM9ves7Q7VdRvIrUBUeU4BauqMoyWgrotaL89wnnkcHjdz3rp7PU1guGjfyyO2Fqv4u0C38LaeiTRy/aM43DG3nJ+vpXN6dJvnBAVmxnd+FcuJpKbvsSdDqOjpqlyJTKqhuox9awNQtILXzYVZSY+F+X2zWnFMyzESLx2x2py2unzLIbgYkxkk45pUanIuR7DW5yMK+Y53Mcexq9HDiJj2ovbOOG6H2diynPCdaY0rQ5SXKBl3IW7j/ACK6uaLKEyrYHfNTW42FjUFshMPmspwelTBiVO1WP0pON9UJtCTDfGxHXtVyFRHYqw/1ueaqK2xRvB69acZGH7xMupBOB2qLBoaLPC0WXOCwAP1q/wCGpy+vQW8nzwD1rAjiE6EucAcgeua0bS01PT7qGS3gYeb9wkf59K0glfUzqbaHu8vw+sb2aO+0xFtw+N2APp7elX4/hjpc8Lecv7zg+aBjHNcX4a+JN/ocaprCrcRMQoABJXn3Ir1DSPG+lakIo1uFiMy52fhmun3EENFqJYeB7TTY5Ybdt4kH8Q+n+FEmnXWm2bw2cUSl1PzhVyB/k1vLd2m1WM4LAc80ySW3e3Mm9CiqSxbuPappyi5DujibVNQtNcje5uHe3IGcE4Bwff1xXoKEMMId2PUV5xqXjq1stWNlJbbbdzhWK88c+v0rVufGTvYyPpCozxnDAg5/Q/SiUkp2GmjsgVyQ2AfpS1w3hvxRqN7cY1C2ABONwB9fc12ySB03Ci9y7j6KaHz2NLupgLRQDmigBd1Gc03BoA5oAWiiigAooooAKKKKACiiigAooooAKKKKACiiigAooooAKKKKACiiigAooooAdRSZpc0FBRRmjNABRRmjNBIUUZooGhR1p1NBxS5oKuLRSZozUhdC0UmaM0BdC0opKAcUBdDqKTNGaAFopM0ZoGLRQDmjFABRRijFAEgbijdUdGaQiTdRuqPNLQA/dRuplFOwD91G6mUUWAfuo3UyiiwD91G6mUmaQEm6jdUeaM0ASbqN1R5ozQBJuo3VHmjNAEm6kpmaduoAWik3UZosAtFJmjNFmAtFJmjNFmAtFJmjNFmAtFJmjNFmAtFJmjNFmA7OKN1NJzSUWAfnNJSA4ozRYBp6milpMUwCijFGKBhRRiigAoopM0gFFLTd1LuqkIWik3UbqYC0Um6jdQAtFJuo3UALRSbqN1AC0Um6jdQAtFIDmloAKKKKACiiigAopN1G6gBaQ0bqTdSYC0UmaM0hi0UmaWgBy0tNBxS7qQhD1oHWiiizKuOoozRmiwXQUUUE4pBcKKTcKNwpjFopAc0tIVwopQM0YoJYlFITg0bqYHxvZ3X2hRA689ATVi40p7WPzAuS3THNZGfKkUozKE+bcM810uj6h5irLe/vYlPTFcVKmjjsY0M7Wsytj94DyG7Vrz3t1eztI6ptUdBj/Cn6tYw6rfiXS4TEpHIPfr9Ks22hSWVhDcXU6+ZKwVk68fn7UTh0DlMa7uJJbqJ4CIgOoP4etbGnXV3BKZbaYE9zgEVP4g0GBdLhu7WVTIx+ZF7cilspRDYLbrEq5QFiUyc49fwq6S5TVRO4WSyOn2MDTI7sQCm4ep96xPGElvo0kK28ioGBJUNn09frXG/2vNFIpfevl/dfcasSaZqevadJfoz3BUhVR35wTjPJ9qioo1hk8uryarGheMyLGAFbFd9ovjaxj0BLa6t0UxKQcnBP+c1xOjxJDo81jOgiu4nwSRnPQf0Peqd5BcCZo4UDbxwBjgVjadNWQM7o+JUkUSR24FuTyWPFa97rCaj4VeHTRDEgAEhDA88V5XFJffZ/ss4ZEB45roLFJrfTRbxFnacAgBseh/pU08RKL1JOA1kC1mLo3mqvKYPftWVFPsuDMyZHHPUZNdtP4ZxdRR3TbEWQeYCQePzpktlo1lJLp08e8TMrRkDlcc9ce4ropV4VLuQ0rmVP4ivL6ztrG4Xy4I8Y+QDIxj0rNi0E6jcXE1quIolJPXniu2vfD0dwPOto18qG1QHgctnk/rWPo1pILWdo5vLBB3J68VVTEQitGVexzUuniSeIlGUchuvOKqPCftU0McfyKeD+NdJeTyXc4igtiHHBKjFUmsZbUu12CgPtWUKkG73DmMxUuEikitreQhVOflNdd4HbTdLtr+41S3KXRiHlliRzhvf3FWLV9MmW7ljlEZEDMVKHk447Vjrpmo6havfSOqxLkJjABHTkZrtjU00JavqY93qJuLp5I1KmRjkn86zzEF2+bJlsc10Gh6baapfGCaURsnU471lahbGC6lEa+ZtYZP4VN7hEqLIiS8DNab27x2Iuy3A+YLmsoRh5QdhUH3rWVDHbfZ5Q8kjqCg34AH+RUOnzGnQpxXb+aZUbG4cg1EpklkYu4UMfaulg0C2Wxn+0NtvFOIkHIIx04464rLvLeO3VQ5XGRkbORWvs0kZLczZ4lgkJWXzMr0Xtz7VBHcSGR44jjPc1JeMqzPtYFc4+VccUabEqTGR+Y29Rk1DiuSxqzYklurOyA8/eJEGQFBx/nNO8PyPas980jeZAcoNg56f41LHLbtCxyDuwMMM4xW5pMujxmMXajGOQB1/SuVNxZmzm9T1DWvEU2b996DnlQP5AVraJp9vZ2LzXGNx4AzVLVzM14IbXCRnj5RjrTJXltYEhdyVHPJzTqSchlx1aW8LRH5KoX8yhmCjoOamsrg5LZq3Lp1ldW77WZZXHr7Vy35XqBm6Kg+2NLKAU28ZPsak/tK3hZ2u7cT8bVAP3fyqiYJoHMMcpwtWbfTPJ2zXG51fkjNenCpDl1J5ifRfCmp6rYyX1iN8JOCmPujnPb2qpqGkS2LlCW3/xAL0rZ0/xjcaHZS22mAR7jgBxkd/8a1NJ1iwvrWeTUoke7ccnbwDz2xW7nC2hLdzkNK0+41O6azgG7au7n64rqNA8IXuoRyeSF/1bAL3JrFt5W07UJLmwk2yg5A7VLo/iy/0XVIZhK5jjcMyhjg8g1kmmy0NfRZYdbW11MNCkTkFcYJx+XpXbyalp1zqVpa2MqweQoBMhA6Z9T71kaj4t03xHfWzGFYbh3bzJNvb8vrVrWPDmlJOLmDUMkryFyPWnKyEwvtNkmhluXPnxH7pTpnHt9Ki0OyZ2lP2oQtGAVQsM9/WptS8WW/8AwjVvY2USoyt85C4J5Pt71V0qazeOWWd2R2A+bJrmlN3EXE1y+jvAwuJG3HbjaK7XRvHMttdR2V4ubdVO4nHOTn0965mO90ryFFpGjyY5LL/iKzLfU42vD5sY4B561EZSjK6DlPW9SGi67bxM6osmP3Z3/T3q34f8Mx+VJHdmMpIMkh+c8V5tHrkH2yxijmCAnDcH0r2W3urSDT4zbtvUj5mwcmu2K59QtYZpOgRWEbwwxDGchmY+5/rWtGnl/KKVGV9kiyZjbgADmnuoDZWtErGkRmfmxilpSc896SmUOXpS0wHFLuNADqKbuNAOTQA6iiigAooooAKKKKACiiigAooooAKKKKACiiigAooooAKKKKACiiigAooooAKKKKACiiigAooooAKdTadQAUUUUAFFFFABSjrSUo60AOooooAKKKKCkFFFFBQq9adTAcUu40CHUUgORS0AJRRRUDClFJSimIKKKKoAooooAKKKKAENFBoqRhRRQKQBRTsCkIxQAlFFFABRRRQAClpBS1SEFFFFMAooooAKKKKACiimk4NADqKbuNG40AOopu40bjQA6im7jRuNADqKTNGaAFopu40bjQA6kNJuNGaTAWm0ZoqRhRRRVIAooopgFFFFABRRRQAUUUUAFFFFACr1p1MBxS7jQIdRTdxo3GgB1B6Gm7jRuNACUUUUDCiiigAooooAB1p1NozUsB1FNzRmkA+im7jRuNUIdQTim7jSE5oYDt1Gc02jNSA6im5qTAoGIv3qdSdOlJuNAh2cUbqaTmkoAD1ooooGfG0up2xsmiW3Gxm2o+O+PrW34VgaeU7mXyVGT+tcVHOCQvbNX7K4aF22sRnHeuZe4cx3ep3LWkcs1rtZEOAR/DzXMtezSzxeXKZy5G7nO2or6+uJoI/LzhVAbAzVRLuNJvm3biOwqPaXewHV6hor6VpEWrRXLTozAshOcYP0FdYniPQbjwdFLHbA3gjUN8o64Ge/1ryKS9upU+yr5joxOxAM4qNRdWTeTdeYjNyPlrRK5Skd5oVvF4giNhLGBtGVbHXt/WqV9f6n4V1IWyP5UIOM89O/865e21eewuQYZdknbpWnd+Jzq1q0d5EHmQcOeB+n0osugHVWGtaPduFvH3TScqwx8x61qoLF5Xu0l2yQja6Z79a8w0jVPsV6JZYQyDjANdvpP2SSdZ4v3MbcuHJ5Ofc+lYVbxjdg9iqfEEE95MLgDYh60tp4hj+0ERSbfL+ZD/s9BTtZt7DUmmJkQFBxg4zx7H2rh0Sa0un2glMkA+1clFKo2Sd1qkclzIjyzlmlO7g/hUEVnBp8w/tVN11cD5M9gOn6EVBp9xCunfvyVb+9npU8F4i38brP5g6AsBSjFRbuUnYkbX57a0uI1TCRDyxx1UHjvWZZataNdRy7fcr68102orHdaXMjPGgYAkqQSeRXGTWsFtZrBBJunY4UVcoQcbkt3OqtvE2nBzMlooccbdvp+NMuL62123lMtqAAew/+vXOWfhaadGLTBHUbjk+vNXtLkjgla3u383acfKcfyrlhT1umIyLmD7PcxssQchgsigdRVjV9c36L9lija35AXjHcZ71sXN9DaSpbLBhQwJLf/XrQur22v9LkjaxXyyqgyAng1t9alTdnsaRlpY4XTprUadIroVuM/fA69KguzHbwERvljw2fWn6nYNbSg28ihTztzVMNutkUj5s9BzmvTpyjOPMmCjYr26G5mWOR9uDmrsDSXGrSQiXzPLj2RhTyADWUbe8e68oWk5ZiNpEZ5r0zw7FYaBNptwLSVpFUG7EyMoD7eeT749K3TVrlPRHO+HNTME7Xt7HmRThA46t27+1aWsW9tqun+dYqv2hizSL6c5/xpZra2gtxeeXi13hiIyXAA65PboaydV1m1iD/ANnnAkXHX2pc3MtDFPU5+EoJSs6AoGwcetXYjDDNho/3Z6cVjWQlubtlzjvWlNcOGEJYfL7CsHe5rcsvaHzFkRP3bE4pssihyNv3aYt7kAE5I4qKWfdSsRa5opcmJcS8ydqoXF2803lv1PSq73Pmdai83Y26lGIJl+GYxxEVo6ZqMdtIJLlN65AzjpWDHNzzUyXCISrnlunFKVG+o5LQ6HVJbAYuLcYZ+e1Z6X7hQfvDfgD8Kqr5TDMjtj3FRieJXYKMgHg+tDp3VkZ2Nc263TMCgBNSpZR28eAfmPWsD7czE7VYYHWnpdu645oVN23Cxfu9PXyHe3lIkHLc9qzjbvEiIH3PIeKspcOiVELrMnzjFNJx6lIctu1uwNwnzAcYqQXIJIIYZ9au2pilhJZhn61UltghLLzVasN2WDfRhtxT5W4FK11hDtOBVB90jJGzABTmp40jml2GXpgcYpON0VyliC7nVk8rpjnFadpiWFzCSz7TuzTV0t7q8htLMF2PVscCvY9D+G0LaJJ50RimZD8/zfN16c1vTjFxsxnmXhnTG1a9EbITImcfkf8ACvVPDV9f6LILbVbbdbFfkJHUce/sa6fwz4Us9ItojFF5Uq5y0mRv4x3Namr6ebyzUMqrz90dutbwtHQTMvRtZlub2RFg/cfwnHT9a6NG3CqttYJBs2J0HUVbpt3Kig70UUUimFFFFAgpV+9SUq/eoAdRRTWoAdRTKKAH0UyigB9FMooAfRSL0paACiiigAooooAKKKKACiiigAooooAKKKKACiiigAooooAKKKcOlADadRRQAUUUUAFFFFABSjrTKUdaAJKKbRQA6im0UDQ6im0UDuOopo606gLjl6UtMooC46im0UrBcdSimUUWC4+imUUxj6KZRQA+imUUAONFNopWGOoptFFgF3UA5pKKVgHUU2inYB1FNoosA4UtMooEPoplFMB9FMooFcfRTKKAuPprfepKUHigLiUU7NNoC4UUUUBcKKQ0lAXFzRmm0UBcfRTaKBjqKbRSC46im0UWFcdRTaKAuOoptFMLjqKbRQFx1FNpRQFxaKKKAuFFFFAXCikPSkoC46im0UBcdRTaKAuOoptFAXHUU2igLjqKbRQFx1FNHWnUrBcKKQ0lFguOopB0paYXCiiigLhRRRSsFwpd1JTs0rBcTOaWkJ4pKLBcdRTaKdguOoptFFgufChhliYblIOeMmrcTyB02jPrzSTNLeys102fRR3rS04Wj27W/k7ZCOCRXI9TAh+2zrC0ceA27nPpUwtJJFWaFlkYdRtx/Oq995NoEgdfmDHJFSRaj9mAEXT3rPl1A1rLW10yA+ZaQSSkHBaIEr+OKxtS1B7kvdzAyc/w8bef/r1NJJLqBAG0ep5pslzBHZPau/zg44/z7VadgK1ilndXkKXEmORufB45rof+EbxdYsFa8gkx935efxrmYVihkZpP3ykcA8mtzRvFWp6TCyaaxhJIIByOMn0PvV86KM/WtEvNHuwLmNrcOx2Kzhs/kae+rXU+2DzTEFOBtyMit7V5bzXtOi1LUnWR1b39P/r1zcVxaOuXHmLn5h3FZ1JRcbMHsaMUM/nA+czAjn5utaNxoFx9jWQMNzgOF3Dofxqnpt9arqMISDdDn5lx/wDXrR1pryW7aTTotkOPlBHQZ4rgvyPQkgsbKZ7hVlIKryVJ4IrpmtrFrWIRxKXB52rj+lctHczQsPPjGWXBYDpWsl1LFaRC3bLyZxmsZc27A1SulR3ywagLhInjBYq54HPoPasS60uzS9a8jEiIh/dF2Lbu/wDOt437T2ccV0itJFGvIH4VZ1nUNPltoLdYsHvwPerd+QDnDfG0UPO3yt94j0/yazL5kMv2nSh5inlj0/nVnWIFNvvwfLHSszTrn7L++yDGP4TSp7AWWSW5dmupMtt+laOnZFn9nV2dSfmG734rB1C6EjeazbBUWm3TJeI8UpxnHWnVo80GwOmvdEt7gpujfdt7GsCz0KeK/XeNqK4wGwc/rXWnV30+NGf59wqnDdre3rC92xqy7lZu1Y4es0uUq4txofmOjtIYZVwUCHr+VNn0/WIdPubuQ+dBuP3nBwePU1E8s6yN5c5kiU/wntWh9oRtFY+a7tuyIyeowKtTqRm7sL3OYn1cxWMlsZU8iRSvl+WehGDXK3bRy4WLgjOK6fVpbNmkkjtfneMr0+6SOvWsTStCvNRvGZIwUX6+9epQn7t2ZrcTSYktYZHmH7wngdeOKZdFGbciZc9q17vTXseXix2PFUNRtjDJFcK2FJ5FNVEzQymLLIMgqDVpYnfoMn61PNAk6qUO4+1Onge3aLP8Qp86AzpomVwsYyT70SQvHH++XBPTvU72l0uJNucGtKD9+qR3A2k8ZrRNEowi6gAKeT7VPCA79iy9iK6HxF4VjsPDiX0U+XODjPt9K5CFpECNuJJ61cmuU13RvRoZ8RhVz9BUNzpV3GSYwMA8/MOP1qrb3DrKGBq29/IwdT3NYk8pUbMSjJ+vFEc6B+vH0qu8jHdn+EZpifvuRxWkVdBY14ZleTDfdxT7iGIxkoecelZMYO7DHGOa0UDbFwc5pSiFhbYlLcnceCasLOPJG88t0pj6bcNgrwGAqQ2EqRDd/DUBylaNCdzsc56Vs29vZnS2eFczrjPbHP8A+us+0t4ZpEEjbVzzW9Y2mmwSO0kuYh97kfh+tJ7EtkVjfHT1fLSLKfuOGP8ASvZPAfjy51TSlsHR2u4UbbuYnfkk5z04471w+neEbTXNIa4tr+IbT9zdz0Ht716X4XstH0i2s3tcpdKGVyMfNluK0pJ2J5iB/Ems6ddvNrIMlqjfKi/LtGcD19q6jSvFljrEixo5VmGQpB/nip9YtYtb0l45XXaQP0IP9K5xNMjsPDqnT4t08Z4cDqMVuk0w5jt0LCMurfJ06U/HAPY9K5vT/EzP5SToyEDBGO/51ovq7RSKZI94boQP/r1RcWahB3be+M0bD6URyu6BmwAelO3UFjCMdaKVjk0lABSr96kpV+9QA6kYZpaKAG7TRtNOooAbtNG006igBu00bTTqKAEHApaKKAEyKNwptFADtwo3Cm0UAO3CjcKbRQA7cKNwptFADtwo3Cm0UAO3CjcKbRQA7cKNwptFADtwpQc9KZSr3oAdTgabRQA7IoyKbRQA7IoyKbRQA7IoyKbRQAUo60lKOtAC0UUUAFFFFABRRRQAopcim0UAOyKMim0UAPoopD0oAMijIptFA0OyKWmU4dKChaKKKBhRRRQAmaMikPWkoEOyKM02lHWgB1FFFAwooooAKKKKACkyKD0ptAh9FIOlLQMTNGRSHrSUGY7IoyKbRQA7IpCaSigBc0uRTaKAHZFGRTaKAFNJRRQAUUUUAFFFFBYUUUUCYUUUUEhRRRQAUUUUAFFFFABSikooAdkUZFNooAdkUZFNooAcTxTaKKACiiigAooooAKKKKACiiigAooooAUdaXIptFACmkoooAcDRkU2igB2RRkU2igB2RRkU2igB2RSZpKKAFBpcim0UAOyKMim0UAOyKMim0UAfDSTMJFUNtBPoDTrmJ4HUwTF2fvjpUIT5wT61MkgEoLcgVykWL8FsDEv2lgWIyXY4rOEbGR2znaflA70+8uvOjKhipPC4pkSv5kaxt065p6dQsa2m28N3L5b5hdRy2Sf0qjd2T2+pukb70JPzn6mtGzuktVPmRBpG43cUy6nEqnbEA5+lZNxCxXWCFGaW4OXHTnFaum3sFn88g83cpw2OR+FZKwO0yG5yI2PNXHhWS8ijsvmXpj1zVOmBq293HJuuGj3xD5xGzFc5qDTtItru8aeQCJXcBQWPH681Pb6ZNcWs8vlOhtG8tkHQ4OP61JeWy2+jxXKzMkwb/V8j1rKUZR1QnsaU/h+CwGIwGmcfIwJP6Z96jsnljSSK7V5WX5T8uOR9KyrfVrzz42eQykDjJzir0eszw3yr5KSmRix4HeuSpFz+IEii6ubvbJG0YHUEHkVeuALW3haLL4z1GMZxWhqd7BLqizm3VNoztAHNV5rK8utJkmgh3I7dRj5eamFJmqjGxlPdXaXG6JwSw56dPSnXF/McZwzjtnpVO7lGlxiOUlpdoOT/Ks6G/eRTKqFj3raVN2sYy8jfm1CW5sEjkUBBnNZN4sbxbYjgdxUCakZcqBgD+GnWp+1TlW+WiNKyGloV542nwrN8tCt9lljaLA2n1qeOyee3MjPtxVGSFgrAsWAPWtbpKwWOviv3voV3EZQcAYOa37WyFxY+deKAi+vGK8+sb0wQgoefett9cvJ7UW7SeXETg4PWuKdFuV4km3qGn2sNmZtPIbdwUDk/wBat+GzBaW5uL9VYBdoUnHpXN2d5H5gtknYk9ck1Bd6nJaXj2pkLxli2Qen+cVUad90Uje1DTbW4ZM4SV3B8sc5Hp7U1tJbTULWDgMwyVHOP5+tY6a15RF1MdxPyj29/wBKH1mdj50TkoTzkmtnGSjZBZFu2glu3K3ZON3UirQ0W288i7VXixx8xH9azf7Skd0WFhg8mjUNUXKxLIwk+prnSqbJhqMuvD3kXDSaf88bHIQ9v51Fe2rXflKU2NEMHHNSRarNAyZkz1yKjfUhCszNy8hyKqmqrdmGo4WTQDDsGHuMVR1qMW6xvEwyRnjt0pFvJr9ly5TJ9aoajM5uBEzFgveu2NwRFc6ve3NoIppsxr0XaP8ACsuWTK88Z6D0qecbW2+tV/LEisT/AA10LY0CGNx8ynd7Yq8gBVWbhscioLaQIuKXLPISOmaLIZIY0BZuoI6VUd41b5W2+1aCwMyHPpVeSwQnJPNVFpARKxZDtUHjqTirKs4WMEhcHPBz3qEQFAQSQvarWm+U2oJHPkrTugNG2uJruZI45ApHygHHNXL/AE++gkMTkkscZVcgVveFv+Efstft5dTQPBIWUDb0IB9j3Ir1c+ENH1cTyWE0RSRdyZUZH54pWRm2zw7UfD13a2aMkMmO7MhGK3/Bug2uo6RqCXMzQOiqVdl68n1PtXW+LNYj0zS20vULJDIVISZVHpx0B9R3rzy31W8bMEB8qN2ILIcZ9OlKyIaJND1aTStYCQkvGOXHQDmvRYvH4k1CAxQqbeP5S2RyTj2+teeWGhyPrJtZG2OxwzGuhs/DRs7i4eaYfZ7cfL/tHGfWsueUXoybHsWl39vd2OZXUPL8yru7Hmq8Op6fbyNa/a1Ub+CCDn9a5B70aZodtqCh3QjZwTxwB/WsSTT5FTzlmmZ5jujBY9P8itFOT3YJHpOq61p1vdBBLGTIu0BSDyQK27MBtJjaLMhKgjK4x0rxzT7DUk1JTdRNPICCm5gcHt1Neo6DNqv7qOeIImOmR6fWtU2axSOjsJTJbYkGHB/SrO33pEiVASBhu9OqyxpFJin4zRtpgJtoC4NLRQAUhOKWmtQAbqcORTKcOlAC0UUUAFFFFACE4pN1DdaSgAooooAKKKKACiiigAooooAKKKKACiiigAooooAKUHFJRQAu6nDkUynDpQAtFFFABRRRQAUUUUAFFFFAxc0ZpKKB2FzRmkooExc0ZpKKBC5ozSUUAOBzRQOlFABv9qN2abSjrQULRRRQAUuaSigYuaM0lFAmxc0ZpKKBXYpOaSiigLhS0lFAC5ozSUUFC5ozSUUCYuaM0lFArsUnNJRRQFxQcUZpKKAuxaSiigQUE4opDQAZozSUUALmjNJRQAuaM0lFAC5ozSUUALmjNJQOtADqCcUUhoHcM0ZpKKAFzRmkooELmjNJRQAuaM0lFAC5ozSUUALmjNJRQAuaUGm0hOKAH0UzdT6AA0maU9KbQAuaM0lFAC5ozSUUALmjNJRQAuaM0lFAC5ozSUUALmjNJRQAuaM0lFAC5ozSUDrQA6iiigAoJxRSHrQAZozSUUALmjNJRQA4HNFIKWgAooooA+D4rh1yJBTo5lZ8GrktnHCzJcZWXHAPFUjBtclefpXMQTFoycYGR09qsW2wZ3AF/WszcVm54x61as3Mkz54wKOW4F/7wx8x2+lVJLwibaA+QetQqZXmcojN64zxTBFiQu0Z9+TWbgB0V5qdtLbRxum5B1ZOveteyt9NhVdQ0y6IMTIfKYjr68dsiuQdUafrsfONq/MKtRyi3tlWRMu27JDdPTitVK4Hv3hrXLGLRJrjVbNZJrk790I+R84OeTnNcN8Q30q7htbvStsU8jhDAvXnd2/AVL8Prqc6Yx0eUSXY+UwSgYbgeucd+g7Vi3Mt3Za8v2uBI5I5VfbnIXHoSOauykrDQaRopn0qRzaPFKRjew+tVI410a8UzGR5lGBsx/WvYbHxVoVv4ZaK+uI2nkjJCqF4Iz6fWvMFtbfVtTubu7ulgiLExg45BPGeR61nKnEHoO1maFZ4L28LCJuAIsYBz1OfpWh4P8TLDDdWVyT9mlIwfQfN7+9Vj4Y1G68MLJcnCGUAIBliuDnjrTLsaFH4TXTrYyQ6mr/O7gjjdnufSspU+wlIZ4gOjTasI4YlnhCAiQ4J3ZOR+VcvbXP2S5lQQjyz0OOlT3yWDWiJZLNNMoCuFDHLDqetM8O6ZbXWoLFfRSFD9773y8jrzWapybCxn3oRHe4hRmLY+7U1mPIeG7nX92R8yevFdfrC6ZolqLbRVjlPVsvnGfqT6muMuL9ZZ9uP3n/jtXfoA+a6WTIQMiehq3pz2fkv5yRlcc+vesadhJMVR8j1xUSSNavswDu96TpcyA37bTEutzQoNueBWtqnhMWWi/2g9wGYchM+x9vauZttVuLeYFc7PQCujguluh5V3KSsg4U8Y7VzO9J2ZJyqHfcK4yOcHFXLy0e3h+1sGNuT8x71oTWUFhdEq6FW6Dd0q3bxx6k6WpuIxzlQxAX8609omtho41rmaSFxEy+Vn5S3WrlpcM1mYmn2DuoPWl1XSpLK+l3AAnjr8vTsahjtnhkjxHuD9SDxW6aaGPhZobhXRiyg9KgnuJpz5jbt2eoraktjEvzhAgXcCGzzWXY6mLbVIDKivEHGR+Ip04pyKSIDfKkfIYOD3qQ3RlG44yGwCa2ddj/tqdrmxsZI02qvCEjIrm7m1FmzJcvtYOcqTgiteRKQWLQuSpGDjHSmlt7F2OSaoyyBT8rAn61JHNkYbj61PLYaRakRfL3vye2aqXQMMAZVwW/WpPmdeT+FS3hNzZrtwoj4OetMt2sZkMrO5D/IMdRVy2+8uXyuOp71SjVEkOQw46kYFaUclq1mFVD5oGDjPJoILEN3EJGQknIwKCqy3aQL1f8Ai9KoRqyqSBz79aVZpITuAJfscdKpRuBsalax2f8Ao5kVmQbySecdOK6K98HLaaDHq9hMhKqVdJjySc4xge1ci9r5mnve3EqvMRgIG5HfpTLnVr+5BWWdpIXZWCgAYIGO1PkAnngnt5fP6MQCCeoPfFbfh/Xbu21SCI3UqhhhgD1rlhdzS/LO5G08Blxx2rS0/UEt7nzXTLR+vai1hWPo+6tvD3ivTf7IWQGdYyQcjOSP/r14jrOmJoPiKWwWV/LjkPykjJwT7e1bul+JY9S8RRXKXIsrkgBcAEHoO/HYVk+LdN1q+1ia7k/0pF5LRoO54+6KAsR6lqErXRuMyeZtyGHU80y1167vbURNIu0AnBz60zQYNUt7vzzauyqnzI6HjkeorQgs9LlsxcXFwY7iaUKY1X7oyR61yyTuTY63w14jlurBdFeKORXxtBB4xz6+1dZ4ljurCwtzYxo0kEQGxc/L1ryCFVsdRaWw8yV42O3g8jkfyrqNI1K8vNeja6b93s+ZC/JOelaREztPBl9PPqzXGqQzs7EKuQMKemeteooodFJRhjoy15VceMZYXaDSdImzkAMY2w3HqQa39B8eNe2z22o2TwSQDDHnA+pwPStotFROxvtQi022ee5wI1HJPWi0u47uEOgdYyNwkbGK5e91L/hIdN8r7IJbR22h45Ce3tXQaWqwWKRqWWIKVCFef8a1WxRfByMhlYditLmkHCgdABx9KCQOpx9aYBRRR0ODQAUYoJA6nFFABgU4Dim5pQRjrQMXFGKMj1ozQAhpKUnikzQAYowKM0ZoEGBRgUUUAGBTWGKdmmtQAlFFFABRRRQAUUUUAFFFFABRRRigAooxRigAoyaMUYoAMmjJoxRigBVPNOpqg5p+D6UAJRS4NJigB2KMUUUDDFIR6UtKKChuKSpPxpjfeoExKKKMUEhRRijFABS5pKKACiijFBQuaUU3FKKAFpCeaWkPWgAzRmkooExc0ZpKKBC5ozSUUALmgHmkpR1oGLQaM0hoGGaM0lFAMXNGaTFGKCRc0ZpKKAFzRmkooAXNGaSigBc0lFFABRRRQAU7FNp2aADFGKM0ZoAMUYozRmgBtFFFAC5pKKKACiiigAp2KbTs0AIRxSU49KbQAUUUUAFFFFABRRRQAUYoooAMClzSUUAGaKKKACiiigAooooAKKM0UAFFFFABRRRQAUUUUAFFFFABRRRQAuaM0lFAC5pKKKACiijNABRRmjNABS5pM0ZoAXNGaTNGaAPibVtOksNsrzm7ebjczZK/n9Kzkyh+Y4rZ0VbSDUYxqELTI7DAjAJHPvV/xD4WkFxFNaRMIZj8uRyOnWsF75BzrW8dwoSLDSv0qSexudIuSt/Gqhl4Iwf5Zq7f+D9Z0mNbtbdyoAYMoODn8Peq7RXviCVpWk80xqSEHU+w/Ona0rAWNA8P6lq9zMdLYFdhZySB0B9SPenT+F720i+03TNtLlWGeP51d0+3vNDvPJnnNrIQu5QccEe49DXoVtrei6nov9i3uQQAd/GSePf2pyA8+g8NQzWvmWc/m3G77p/+v+FVr7RZVlMbBln25CA9cCtwaZJZMbqwPlzRtkq/fv2/Cr73s+pXSTxDZdIhU7epBGD+grmUmiTL8OaxdeH4x+43z4wDEQpHHrVaaHU72Y3txJIxf+9Jnb+taU89pZTjzJJYrnHzHjBNLHq9rDp7oxLAtltmOTir57qwGPPb3cEe65k3Z+6B1/nS6JbyX161vLdFFPOJMnmotRv47qVDApQL0/SqUt6wmRlTJX7xYdaytrcdjp77xVqunXAhafzEUbU2kgZ6+tc1qF/LeXYmJO8n5hmoprpJ8/wYOVxSRIUcMWUq3XnmqC1mbdgLq3ha9WJAiqOeOf8AOamsfEFoJmZU2tIMEqMf0rMM0giKLLmEjlWNY/meS2Ivl54JpFy2N28/ftLLbufm9TXPzRSDcVf58+tXZrl44MhJMkcnHBqluWS3Mikh/Q1CWpMCy9lMm9Ij5nlDc7AdqZPbu9vFIuMPnDY5GK0PCHia38Py3K3cAuYZ4mRgBluce4qrLcSaksv2aNYYQ5Zd3GATn3rqitAluUldlmAZ+RSyXtyHDiUgqeOTVeSLMmRklepFV5pEJG4PnNZyWpo/hND7fPPMfMYtx61LHfFUxHuWQdMGqemzQwXgafLI3ZetXrtUa4MkO5VJ+X2HvVOKa1J+yEupzXqqs+9yhy2WzxU+nyG4kKyOVQfd60mnBLe4zK3mBuGx3FWLfa97KZFAiz8oHXvWcYwTJJWt8iRZLksCMKCT61hywS2M6yFBIoYHnFdAmkpeszJMqbefmP8A9asG9S4SfazZjzjIrfmtoirnVQeI7iXQ1jtY4YwSAcJ83B9awru2+2m9nkZWmLkjcme4qS10W5khjNrOu5wSApOeBk9qtaROdOulnvV86MPskRuoOPwqtWFzn2gSFcSIN/biogpz84HtXfSeGtPvPD7auJQFAJ8sn5+M9sY7etcPem2RsxCTOeM44pyRN7jfJlMoK9KkJOTG3Q8mpLWRpGGOB70XW05CHLetcz0dx2GC1WeNs/w9KrwwSJuZRwDU9uXbhWA9c1fhZEhdWHJPBo52IzkRzl2pc7jmrU8bLCNuDk84quUIX0+tUpXAUgOuC+3HpTINtpJGHG8BgefrVeQtk8irNtEbm6V2IEY6itYsDqW0m1vfD817FEpuW2hEwOzD+lcrOssF3mZME8SLXW6bq0FnqcQgSQoEA+YDGcc96peKgrXslwgUtM2cL2602wKGjC3+1Br2WRFj5DoSCO/aui07xLPpeoPLaXTXdofvJcbmB644PvXLW6xlwzMyHuF6GtK2W2Mo85f3ftWfNqB2l3q9tqekjVWuGtLxvl+zQEorcZ7cf/qrnGjiMnmbmViRuG7pVIJFJeNEk42AZTcenNXY9Otb2G3a2RvODZlLYw2Dx+lRKdyTqdCu9Ktgkj7ZJuhDrn29K6dvDkS63DqWmzo0jkO1uRhR7c4HpXnqWLafIWlBQMRsK9q2bnW/saifzlMyJgMp6n3rndTk1A9bu72Kws7d7mK1ik3YIWMZHPtWTqWk6hcXoksAi2d4gZ3QAH+965rg7TUX1i0N+7Ru6sCVkzyB6Y+leleD9dlvNNbbb4SJNoUj2xxzVU6kZPYDe8I6dDY6eLaNt8KDr/tcf0rotqL9yuL8LNc2V5KdRVkjuHIjA6AnHr9DXYttGdpzj0rvUnsi47Dt2eCKGYdHXIrF8Q6nJpNn5uPlwDke5H+NSaJqp1K035B4zmnZsfNY1i37sGhn+VWI+YdKr3F5BbjdK2EUZP4VWGqQ3dzC1odyYyfyo94LmgXUna69aXdnjGAvSsDW9SuEYXFuhaOM/Ngc961bG8+2WaSrzkcgdR9aavfUaZaopCcEAg/WgkBiM5x3quYq4tOphYCl3j0NK9wuK3Sm0pbIOO3NJ3XnrQFwoox8xHpQQQwBB570CFzQTxTcGgCgQtFFFABRRRQAUUUUAFFFFABRRRQA8dKKTdRuzQAtFFFABRRRQAUUUUFIVetPzUdFAx5pKQGlzQAUUUUAFFGaM0AFIetLmmmgTCnU2jePegkcTik3UhbdwKbg0AOzmigcUUAOopu8e9LvBoAWijNIWAoAWim7x70bx70AOptG8e9JuFAC0Um4UbhQAtFJuFG4UALRRRQAUUm4UbhQAtOHSmbhTg3FAC0UZpu8e9ADj0ptG4GigAopQM0YoASilxRigBKKKCcUAFFJuFG4UALRSbhS0AFFBOKTcKAFopNwo3CgBaKM0UAFFJuFG4UALRSbhS5oAKKKTcKAFopAc0tABRRRQAUUUUAFFJuFAOaAFoopCcUALRSbhRuFAC0Um4UbhQAtFJuFG4UALQehpNwoLUANpV60lKDigB1FJuFG4UALRSbhRuFAC0Um4UbhQAtFJuFG4UALRSbhRuFAC0Um4UbhQAtFJuFG4UALTKduFNoAKKKKACiiigAooooA+Y/AeqaDDYz3WsQAvGhKZYjnj/69TeKfHem6xbxRaYFiaJvlGQfT/CvM5byRLY28WAh796z97A/u8Bh3FcsL9BJXPWI/i5La6P8A2bqFmkqqgVW456D+77V53b3iWV9E0O5dnznHOcGsaWczyYlZtw9+KszIBAsgl+YDFa2d7sLWdjvdWk02+8OLevPu1EkFUzzweOM+gHatDwtruh38MVh4itvsc6IAJyxGcD8PSvOdKWWW4Q+dnJ4D84ron0C8u2aZ080Y4KsBj9arlctiHJI7LxZ4fjjha+0S432gPzNnPY+59K53SNSeGyu3hGZF2gOe3XNYjazrNih0q+edI36oZSQe3Y4oXURFayxqvlScYX+8O/SolBInpcrahdSXl80kxLEE9PrUcsh8rj5Rmo0m8yT5MDJ+YkUuo+WY8Qvkg4Jrnki49yUPiMYOTUclyQpVhUdurMUUHcT1FWr63VGTcO3IFHMrFlaG1LKzse1WmiAjX5qiDs6MqcLjpTXICBXLBu3NShNalyOFJmEbyhQe+abc2ojuFWL50Q5zWdJIUwuW3exqZb6ZE8sr17nrV2bB6ot3Woi6xEqBQowazSRDdZYZSm7jHMcAlj15q40Qmt8ImWPrTUdRRVijM7TsBEq5PoasR299bwFXjZY2GS2KhNobKXc8oJXkY4rTm1iabTxGwBXp0reLQSRnLOYUYMuaqMwkPzLVwgyD5tu36U8CAWsixrmUDIzUOzZe8SmoUfMgJIrZ027gNq63K9eR7dK0/BvhKXWrC5uZNqrH9D/e/wAK1tP8AfalcuxWJud/tXVGg5RMHVilbscmVZbaO4iQ7A4OcdaurIZbfIjIJ9K1Nejh0iMaNsDhXBSVRgt7frWNb6ubGXy3tw+OgbB4rnnh+VjpzVRXRXZ3BeIF1bHHFKqZIErZA65Feh+EtO03xNun8mOOQLj5lGM8H096z/FXguTSZpmnZdm0lfLXHb2raOHaVzN1Y81jj7K7lspmeCT5j8sY44zwf51bAuILuBrmPzImO+bA+vp+FRaXpkV20ke9tzH5Wz93Ga0Ibp7aZrGdRK6cAt/GPxreEEPnSI725a4jaLTY5fJIwVAJrnZII7eRkmRt7c854rrNH8QWkV8bWO3UJKwRWZc4zx6VqXvg6O9DPu8y4lyUVCAMdf5Vlbm2Dm5XqefW0burMhwoNWI4lIO05JFPvdMu9Fme1uoyhY/L8w/ofaoo1kt4tzkBs4Gea55U3c6E1KOhTy0Nyw7Zq3BL5wIPY1SZpp7o8p19Ku3Fs2nqu4g+YNwx/n2qfZisXUGFTuM1BekE/LxUMN4VOwkfiKbPPuPapcH0DlYkdsrn5jUy4i+UcVUVzuGMnnnBp8kjyNhI2475o2FaxPLIqYAJ3DnIqGSZ5ZAZNxApIbaSXLMWB6YzStA6NhicfWi4i3bRrMeTir6ARkKo3H0rLiBiOckfjVlbkcbSd3bms5XsBpRadvVZW+Rs4PNWZxLp0q/ZX7Z9azFu3YEGRsH3NT/byHHmjcPX0rDlkST3F/d3vlrcvhc+grrv+ETguvDv26zl82Vfvx55PH1rn7aO11CHA+8vTFdH4bv30652zt+7HROx6dRUqpGL94nmRi6GWstbRL8NDA7Bdh49K9r8LNYafZv+/UiU5UZ6D868l1to7nWftKBRnGAF+UcDnH4Vom+udOtYXt5i+8chsnHHb86qOIhGVkLmR715ti0KDzY5GUbhgjrT4tRjmbAUYHB5ry/wbeasmnzSPH9pkZjtEjA4GB6mq+t+Lr+xZ4kHkFv7p749q66lfkV2WqitY7D4gXEAslgbO9wCAD2yDWNY63baf4SlC5SYAgc+1cZc+LjqKxrfmRyihVcsc5xzVZJp5EIRmkRjkqTmvOqY5qVkZTZ6BpN7LP4dZ9UlyXJVecdSR2/Co08QSaHJFHHCWgY4L+nH0rl4by5k01rfdkR/OuDjnk1Laas1/YvFfFFMZwOOa1+uruXzI9LfWdNg08kyK/mHkZ6cf/WrVsLi0eANA6xpjJ56149HqSfZzbSKzOx5OelaGi67MbmaxEzGEgdScjjsfxrSGLTeoc6PWEvopWaOF1fHcEU+NkdBhhn615pJqp0qOQ2kzkk872J71c0bxmsiCMkllX7zE81osXSbtc0Tueg5Reppdwriv+Et+0OBENzIwLY7itIeIJZruGOG0YI4ySWHpW0a8JOyEpXOj3jp68UxpEj+ZyAF96p3U00VuzwrmQH5VNZ8keoz2lw94yqoQkBBjsfeujpcdzWbUbdt3luC2AeDUtvdR3FupJIIrl9Ehm8nz1+dSxVt4zXUJ5Ue2ONFAPXinbS4c62JaKbnFKDSK5kxaKSigoWikpaQgooxRii4BRRRQFwopQBS4FMVxtA60ZWlyooHcdRTd4oMgFArjqKZ5gppl5p2C5LRUXm1IGB6UikxaKDmk5oHcWikz60ZoC4+g9Kbuo3ZoAKKXimscdKAFopu6lB4oELTKdmkxQAL1p1NHFLmgBaKTNGaAGnrQOtLtoA5oAdSNS4pr54oASik5o5oAWik5paBBRRSc07ALRR9aKQDx0FB6U3caM0DEooooAKcv3abQzhQMdaQD6ZQX+XIopgKvWnUwcUu6gLDs4pN1ITmkoHZjt1LuplFAWY+kak3UE5oFYSijijinYAp9M4p3NK1gBulNpTnHNJQAUU5QCOaQ4FIBN1BbimnrSGmTzIXdRuplFOzDmQ/dShuKjPtQrAKwfhh0pWYuZEu6iollThXyGPepNwp2Y1JMXOKN1ICCcUEAdKfKxj1OaWo1bFO3UuUVx1B6GmFmP3advXoQSfak9BrUbSr1oyCeVKj60owrctkULUV9bC01utLnPSjjvTsUNopcCkbjpS2AKKOi5xk1Q1nWbTRLZZbskBun+QKaTZN7F+iqWm6pBqMXmQnIxz2q6WUMoAJyOal6OwXCihVZ8kfKPegbTnnkVVguFFAK9/wpxAx90j3zUOVguhtFIc9ulMe4jijZpDjb1NUtdhklFV7e9hvYWltG3BeCP8AP1qyB60r2FcSihhgZFNzQHMh1FJgsvBAbtmlbATGfnpvQa1CikUMw6gGg8dOaAFopuaA2OozQA6ihhjkkCoZrqK3AMzhQehNOzC5NRTYpFkUHcMHo1AOQWyAvapWorjqKFBA+cg56EUhYA9aqwXFopCaTNILjqKBSUDufB3lTmFmcEoBzj0qU/ZhZ/uY3L49BV7SLhJ1Mdzhc8c0slrGJMBgVB7Vio32J5rGNFbvIGIibPckUskZWMYU59K7zwPpmmXWozxanIIIHXlnPXqfUVzGsWaW+pzJYEtAjfIx78VrytR1M3UvIo28MzquF27eciu28L67p1jZOt/LIWX6e3vXH6fcTRXQVFUmRgCGPSuovdNu7Y21yIIWjZQT849KIOwp6kfiTxBaa0qK1tsdeRMo+vv71X0aTT9ShlhuGka6RTsJxjHOf0Aqe+totcVDbW/2fa4OMn/PeqFl4fuLuci23eZGTkgY47/yqU+ZBH4R8tt+6It4twBwTiqraaj5kX5Av3l9TS/bTpkl1aTqT85yc+//ANaoHvS052A7T0rnmtbGsNh/zo2bdNpXvUiQ3F+rGc7MH73rUUcuJPmpZJirExnv0zWfKUPKNZx/J+8z39KhRzPcq0owF603zs8tTtwVd9FrAWZjatcCSPkgYIqO7vfMwFjwB3qCNFnZiTioLhfL+6c1qgB5gZS27BxT7e5eKTPmcVSdh5YZutKHVo+tau1gNBoo5mfccGnmAx267GyPSoYJARzWgL+NbVoiBkiuaV7gVfLUpycH0qOEiJyJUyrccDtRDKpk59amkYbzIh6HsM0le9wWx1GgeKBoNu8NihUS/e3jjv6H3rfXxRLq2iz2yypFgbQQerccVwCfv4cuxH/Aau6Nqy6c7xyNujJz90f57V306rS1Od09WbaRl2fUNadUvbcfurLPzE9QcH6Dv3rk7mJ7m9mnkVo5mOVTHb/9VLquuNeyYQPt3DL4/rRpmpy6fOXyrLIMfMAex9frUVKl5F048isaula8tlarbQhonz+8fA44+vtXeax4jh0/ThbxyretMhG4nO3OR2xXlM0gN28hG4yHOBUgupBCRk7c9T2rb2nQwnTtK5PJcSWGqG7jnQtncUzw2e34ZrrTBZ614bkvprKOW5b7pQElOh9fc1kaLb+H51c6tNtJUbWBJwcH3HtWlaa5o2gW0kcUj3gJ+UKpHp6E+laJ2J3Oaju2WM4tdqwqW3Y9OfWrWi+KWtL77TOzGOPpjtnI9ax55NQ1N5TaoVt8fNx2xz2qzaaHZSac8slyEdPvAnv+dYc1jdxuS+M9bs9cv47mISHaoB4Hqff3rm5JPObdHuVdwzuq1aFV1MOSHjQ4571Y1e7WaZzHb7F24GO/FTJ3VzaKsrGbFbvLL+6bnIq1f2tzAw86Xc38Az0FQQOBglSMfWrdvdJbsMndv5O45xWfMMzxJKG/eId3rip42L9asX9nFxLG2S3UZrOUmFmz3qlqikaMDCOT5jjIwKnS4lWQqOh71nxn5Bk96sJtHKnJqHEiRM7yQ/NnIJpyzeauTUewyqSfvelRIWhQ7hU8o0hZp2XrTreQO49aotcNKelSLIwXHSk1oHKaasQ+KuoxC7SuQ3U+lYSSkd6nE5x1P51KjdCaOo0ry4tzI3PpWrb6oEmxLHn0OP8A69cPDcEHhiPxrWsrsQ4ZznPqa5KlByMXE6o3+JGLRcY44q9Z6sHlWJguAMj8q5pNQWQdQKu2eoRFhGZlB+grzpQnF3QuU66917VY445bOTy4V67M81DqV41yLVZImaUHc7Ee+ayWuFhjDSyF4x0A9aZPq0xhWaFgYzx0H0qZYmcrJi5epdv4rCWZZ3ZFKKCUzzmqray9sTLbs0cZ6YrLvbqCVFTOWPJwar/bo2geBeMetafV3OSbHbmOotbtNSkjFqzxlzhunPNJrlm+n3EbWm5nxlielZ1vo92unLdwXCptB9Kv6TrxsYvKvgJyxwehqKtFUXpqHKTQ6o1xLvWZFIGCM01r5YpBK2zeDjPrUt7a2j741jMbv8w6j2plnoUxkM16T5GRtAHX1rbDxhUdmG2pWPiU2955chJV+Rt//XV+yntpXc73DsOnFb2laRo9zqUayxbkC4KnIPQ+9XpvC2jx6nbQ2qFMMPk3MSPzNek8sja6ZLrpaGVpepwacu6KNnkDAsSB6/WuosvFL3t3EUkWMDtn2q4miWJlQtFjaCO/NKNHtRdb0jwM9s120MB7JXMJVr7HVG7Q4LguWHUUwXYkicdFPGDWauxDtQEYHUk07Nd/s9LE+1ZpRyKqKkYGwAE49anEinleorJSTbVhLgCl7OyN4zVjR3ZpQeaiWZCBg1IH3cVk4Gymh+6jdTNuKcDUWL5hd1PHIpmaM0nEOYfRTM06lyhzC0UgxSNIFqlEpSQpOKN1MEoIpfMFFh3QmKMVCW5PNJu96LGXMT4prA1Gr+9SqQadhp6jcGmkHNWFxTGXLGgohwakU4pdtO20WuK9hwlzxS+ZTNtGKOUOYHfmm76Rl5pNtFh3Hb6UPzQF4oI4osHMO30hao6QjNLlC5LuppamqtBTmnYOYdvpfOFM201UosHMS+bmk30BKNtKwuYN9G+kIwaSiw+YmEnFHmVDSHpRYLk/nUhlzVbOKcjZzRYXMTeZR5lR0UWHck8yjNR0uKewcw/dijzKjYcUi8UBzE6ncKdioN1G6iwuYnxSVD5lKJMn0osHMS0VVa+iBPmyqu31Iqhc+ILCNv3lwuc4GCKLE85s0DbzmqkNyLm3EiDch7024l8pCT8sagknNNRuHOWDcIH21LXi3iXXrqXXXKSsqxsQmD1GSK9F8J6kbrRYzcTF9vUkVLVg5zpKMVCjiQsUJaPHpTTLGFPmuq+g3UkrlKZYxRioDPv2rznHGPSgTFjgHDCnYfOT0VH5gK9CHH61BNqtlbRnzrlFbHzAsKkOct0VSg1azuZALW5Rm9MirTAmXcGGQOaFuJz0H0Vj3XiC1gkeGRwJAOMmuH1v4g3ttJ5dqAdpPTH+FWTznqFHmV5r4S8eTapdPHqPy4J9B/QVP4t8VTWOmGSykEkJfC7SM9D7e1NWDnPQmkyKburmfDWr3V7o6XGqlYwR8pJA9fYe1bUN1ZygkSoxHpJT0DnLm7ApjPXB+OvGMul26xWjbCw7YOevtTvA3iqXWLaSO9kXfGMjJAz19vaq5Va4c53W6jPNcj4l8TS6fbCKzwHfk9D/ADFQaf43j+wql9zMnIOcc/hWbaTEdtSE4xWHZ6xCkQmvJB+9PyfN0/zkVTvfGlrbatHZkghvvkHtz/hVXRNzp5D5a7qyNX1qGysZp5D80YyB604avY3dlM8cyiFQckt7V5z4su7G2sSNPZpJZic/MT6e59a0g4t6kTk7Gz4W8fX+ua8YpLQm2QkBtv1969Cwa8M8O6q+kKWhhYSugPT/AOtXqk3iG10y0ikvbpRMwxt4/wA9qU7dCYyZvklRmkEma878W+KTHp63GnXG9myNox3wKoeFPFF4nlwqryu5ycnPb6VmttTVSkeqFsUb6iWXdyzrHnqCRTjJEvImQn6ioaXc1XM+hYEoAUDqRVbUtVttIt3muQSqqWIHcD8axL3xZZ2d+1o0ZJ25LZ75/wDrVx/ibXrjWItwUrDECfr+lJcq3ZUlK2iOt0zx3puq6h5FvFIDnHIH+NdNI+7G1cDrXgmjeIJLLW43QBELYJIH09K9ts7pZ7OGZnWRGUMMN0OPatOWNro5+dp2ZcEm2l8zcarTXcSkFpY8em4U5TFKAyMCOwVs0jTnLiHNC/NVcM3Rj8vpXLeKfFT6Zpk6jCTspC8j0PtRa41K51F/dRWVpJNcZ2KOcV47408TRaqVt42OIj3/AB96t6P8Qj/ZVzb6tIJC+dqkD39vpXn2paj9pupGt8KCxNGxLkdho3ju601GESh0A5AH/wBeuw0j4pWl5NHHer5HHJIA7f71eHm9YN8x/KpI7sdc4qGru4KWh9QafqVnq6A2U+8d+Rz/AJzUk1wsG7ZGXKjJA714H4S8VS6PqClScfWun1r4hXjzExkIHGM4HHH0ovYfMdYfiJpkM7w3kLo8bkdB6/71b+ja7a65ayTWmcK5HOPQe/vXgM4lvrn7TJL5kTPmTAA7+1emaHrpW0htNBtV2BRuLPjJ/EH2pytclSPQZJNluzegNec+MvFU9mj29uu4nqMe4967TVNW+wac7XJjSd42AUMD2rxTV7ie/wBTmZ9zLu64x3rSFkaXOp8E69tYpey+QjHJzx6V6dbXX2jGORXgdrfDTL6Jgpx716z4V159RtEkuJoUYdRuUcZrKTVwOsY4XFMqGG/tJZzHG6yN32vmluDuUx5CuegzVxs2O6W5Bqk00Nk7W67mUFvyrA0rxadRujaCM+bGcNx9ff2qn4p1+TRrYwA8yxsDz7f/AF64HRdXFpcTTSHBkYnOfr/jVytYycn0Pb/tKFfMl+UKuWqrpWv2WqrJHaNlkPPT/GvNLvxgkNqbey3FpRmRic8/j9BWR4TluI9ZNzby4BcZyeOtYmiloe5UjMEUsTgDk1l6XqP2okXDxhx0IcYqe51G0bdFJIrS46K3b8Ka3By0Kl/rGn+Q5+04dQeMivM9f177Vf4jleRF4AGK0te1cXFw9t5YVF6kfSuOvL2JbzyohhcDn3rfSxPMei+GdWdNktxer5Q/5ZlvpXRal4itbOxSeM+ahz0wf615PZ3a2K+YDn2zTJ9X+027J5mRzxmue6T0Gnc9K0nxrZXk8v2iTYF6Lx/jXT2t5aXiboGz+VfP1rMY5CwBHvXWeF9XVZj590Y8dM/hRzDPXc5pK881bxpdxRNHazhlx1Cr/hXM/wDCZanlt1wRz6D/AAoGe07qTNeP2Xjq+gYHz957ggf4V0dt8Qw8f+lRAt6hsfyFAHy9p9ukhWST5ADx712Xgrwa3iHUZWmBS3GMMSPf/CuSjmKsqvGQFPOBXfeE/GEthbrp8ce7zjtAA5HJ9/essPN3sYVG0tB3iXRNN0WTyYH8xYuJGQY29vSqFpo9l4k0B/siiCeD5jwBkAevHqK6rVtJK6TPPdnCzHcU7nkGuO1W4trbRAtlIxV+Ni4yODXVVetkYQberORmsmt9WEMLLJhsB8d6u6jqt5AUtLl3CY4O7/PpWQXKSmbeSQeCav2FtJrD+ZLMq46ZNcbk0dSinuLaa49u67ycbhnrWnY+Jbi2SRLdVXzM/OBz3/xrEXRrlhmEbgPrWvpWhyTxFmwHTnH5+1RGbgtC+VJWKsVnHqVzN9pl/eOSTlSe9Z/2SS3uAhG5Rxmuhjb+z5pJnX7vH61NZ39pv86eEuGXIwOn61nKo27iTa0MGa32qGPAqudqdDmrt7dpd3UjRqUjXoDWdIc8joaadzRaisN/J4xTQxI2npTQ5A5pN27pVWuNi5kjY7en1qNpGbrzUixu+aa1o45qkhFaRN788CklREjwjc1YEDbsGh7ZjUXdwEjLGTEfOOtWLe0nvbkRwqWPcZxVeGFxlxxWxo96tijOP9b2/WtFqD2Kz6fJb3Bjddr9hmiaznhtmaTcgUZbDU7UdTn1C8DQ4BX/AOvRLfXJtpEfBGCD+VDST0EtSpD58sfyySCM9Dup8iCHbhndSvzNu71PC888ccFtCWfB6Co7jTJLYg3MbRu/LZGOabWlxczuVo8nCuWCZ456+1PmBK42EbTkc9q0Gs0e3G35iOcjtVJwYm+bkHioau7jbuWrZDOUCrglRye9alhZxTxvDL0/iOOlZEMcvEiq21R2FbOiTiXUPLHzhxgj8qtKTlcTs1qbEegeG7exedr0yykY8racKfyrEtLjT7S6aEWf2ncxC9Bj8x7VoXXhy+WSSWO2fDn7oB6CsNLO+tdS32tuzSg7iuDW7k0jDlii5ptpqFnqMtncR+WJFOEyDkceh96x9Sb7LcSxozAliCvbrW1BrN/datBeXoCiORdw56ZGf5VT8VXEep6352np8saAt7nHP8qUoplxbMS3tJLk4tycg/NjirF3HMsgiZcMCOpzmm2+oPtZFTa2etLl5pg7c5rOTtGyOiysRfZ38tgTgk8ClisxuO9smrDI24VG+6NiT61mtSSKQPHkMxI+tQ3MREaORgHvUjz/ADbupXnFOub5ri3VPLxj2rWOiGVCX3hV6EetSIWjOSeR2zTre1a4k44wM1oaTo0mq6kbboFGcmqilJ6mcmVoLkltx47YrQjjjnh/fYWqOo2UlnfPbx8qhxmkMDmH5nxWb0djRPQqS4iY7R3p6PuT5uKhkOTRvxGRTtdDuWQB2oBA61AjnbSNIc01FIVy7CRnrVtmYooT09ay42I5qykzHFZzWhPLc0I52QAA96m87ynEmQG9MVUjBfA7nirBtpETr+dc/KloQ1Y6OwvJrqNEliBjY4Brp3is7fwyIHtws2Sc8HHJP9a4WyvrhlWJXUbPmq9fX0klscvuOOgriq04pprcW6sUFuorfUH8w7wGOMjoOagurpZpHkj+RPUVS3SFmDoQCeuKljCquwck12OjdqxUYpGnZeILm2tWt55ndGIC/Me//wCumPqTrdLIvbopOcmp7PR4p4UeZsFjkfgaaNKlGqGFY2dc5XirWGfa4m4m3/wkU19NE8ibMLgkfWt3TPEF1d+VYwqJGB5z2Gfep7LwfK8JhWLDMuQTn/CpbPw5eeHYXuZl3SZ4xn/AVLwU90jOU0lob8F7a2UY86MR3B43gd/wq3MtzHq8FzETMS4JOe341yFlDfeI9RdMbVUnnn3+tejeH4pF0tILlcmAbd3r/nNerRhNq0jknJN3NRJWkkRWQKdpJp6kqcDBNJvAbKjJxik2Fzx1r0tlqZOWo8s275hilOR1pOIx8zDd0pHXcMscCs002N2SHijmo0wq4ByM07dTcRJkolK9GqaK8feAelV8Cl4HI61k4lqdmakdwD1NTGRDjDVjrIRUhnPFZunY6FVNUHPSkJwcVnLdEVKLwHg9azcWaKaLmeKZ5tQiQt0NG6p5WPmRMZiBTC+7rTM5pKpIzlJ30HhsDigSE9KQe9GV/hq1FD5l1F3UjNx70rOSMcihT/tZpcocyGBiKkRz2qNt+7gUOMhdxxRy3GpK5YEpHU08S5Gc1UUHsalWRxhTipcC+cnD7ulNLletVbu7SwjMk5wMZqjD4js7hcpIE9iR/jU7ESqJGwJC3T0zSeZ8pOeBVN7+JLRp2PyqMlhXOp4+09tS+y54zgnj/GncFUizrTMOMnrTt9Y0XiXTTKytIOOnI/xqhceLrJIXIfkDjp6fWnoHO+h0puFV9pb5vSpMtuCn+LpzXj114rm/twXaljApORj/AOvXTaT4/tL1mSXKZ4BOOP1o0Fzs7rcM4zzTXcDHvXFXnjmGO7WK2O5e54/xqGP4gxPdvFIPlUDJ4/xpFczO784L1NL5mWGO/SvO2+IBOqLb2y7oz1OPr710y+I7U3K2ysDIxA7d/wAfegXM0b5Yg4PWmLKCeDXO6p4ps9LlWK5Vtx5BwP8AGtDTNWh1a0ea36K239B/jTsUpJmsJR0zS7+cd6iRgOD1FMMmJST0FNIq6J87qTcAcVh6p4ltbF/If75+bPH+PtWVqHjSKNFjiOGPf/JpSsiHM7HcMdaXBK57V55J41ntGUkblPXj/wCvW9beM9Ont0aeTa/px/jR7rI9qjflBVNx6etJbtuZvwqkdRhlsRNBIGUnpmlsbgyu5IxwKGtNBqqm7GnSbhkjuKi3mnLIQOlNLQvmQ8MCcZp+5duc8VD8wO6sbxJqf2Gx85WwPT86zfmHMbMl5bR8PKAfoahbUrQf8t1/I14/feJZb2QkOwHTioI7lowJmnY98ZqHJIzc2j2g3kIg84yAR5xup0NzFcJuhcOvqK8i1DxRLPpf2eAMPfH/ANeneF/E0uljNyWYZ6fjVKSDndj18YPQ0hZQDg5PpXCJ8QVuN6oNvOOf/wBdU5/E02GkFwuAM7c9avQn2khnxB106fdJHau2WPIBI7D/ABrjP7Rurg+YXbC4PLZ61V1m6n1C5kuJjkDkfl/9aorVXezaTpkVm52NVFM9j8K+KLafTYrNnBnP8IBH61p6pJcX8MltYxllA+dtwBHFeNeEGYa9FPLLtjU88+4r05vFOnWAneCUNIV5GR6fWtISRnLTY5j/AIROa81Z5LzMcUZPJYHPWsq81y505mtbCaSFO2HP9Kn1nxfPqayRwDy+Tzj3+tcffyO8SSKDuzzRO1io67nZ2XjnUobYWwmkJIJMhc/4+9UrjxVq73Ad7lyoPTef8aybeTMCFsEmoL2CQ/OpwK5PatOyNuRWPS7L4lxW9mv2mINMowMjORWnY+ObS7sJbjAWQDhcH39vavHYXd12gZqTz5Ij5SNgHrVqqyGj0VvH0z3RIOAMjHNcjres3E181w00hU/wBjzVKKFmKkN2qLUmVIih5YjApRk3uI19C1aaG6S5jkdU3DPzHjmvR7rxGINFS5E/zuo9een+NeKaa80bGNuB1rWXV3lf7LK/yKOP8/hRzNMLGjrmt/bbxJ4ZTn+LGRWJNNIZd0p+pJzUxih8w5bjtVJ1WSRgoJx3odSw+VFnTL0Wl27hsAk8ip769Ywm3VjLEGyoJ6ce9UIIX8zCkCrd1az2seY13is3VYcqL7eIrw2iWv2hxEB0ViMVHHrN3bnMd1Nk/wC21ZMRkY72GCD0qae4Y4ULziqU2w5UO1HU5dT/AHdwfMIGQW5x+f1rQ8MP9h8yeSR0bsqk89fSsKwEq3hWRc55H6VoLPIlwUC4FVKpJIOVGjqerSz3QklJZB0BPQVSN4JpC6fKMdKjuJ2LBSOKbcyCOH5R1HNZJuW5RojVbg2JEkrMV+78x4qg96ZGWV2LyngsTVOxuDI7I3SpJHVHIH4VoieVEk/iC5tofswmaNG6gMefypI74XLQtOdqqDyec1SmsPtDbyelSRKsKbX7VW2o1TUjbe7ilWPyNoZVALBcVmaxqlzql8kjsdoHTNFrIBJ7VDc2hmbMZxUuqlob0cLKr8JJ5sksaRbs9eM1o6RqcmjyGVcFu2a5iVpLWcZapTebo+TzWcvaTd0dMI0qStPc6a68YapcTlxeOAewZhj9abH4v1CHrcu/1dv8a4/7Xszk9ahe+Pal7GbE8TCOyOyl1y5vZDNKfmIwDmph4gIgWIxhlUZb39q4iG9lOcHirVvO5bk1hUouXU6qFWL3R0V+9rdhTAgiPUlRjBq9aeMb3TrIWiyuUT7p3nnt/SsKH94vBpskG3JJzWlKU4e6c2KhTlqjZ1HxZcXFuPJuJVk9nNbHg3xjd298kd5M0yMcDexPr615/IrBvai2uPs14H3YKkYFdSk2ea4n0VqWotBCl3A2/cM7M4ryrxxr8OpoqRKRL35q9beJ7ebRVW73bgBjp6D3rz7WtQE1ySlaxYRIg+3IJBbtxUDoBMxD/KahhkJYux6UTTZ6U2rhuDhCo7Edaj8wDoaiMvBzUYfJotoI29ObeQTxjvVrU5XYoFfIyBj1qtZSJHZ5PXFJC5uTz2PFZNF2NaByLVUB2Lj5gO9XtM1+bR7pZIH2p0CnJFZn+qg5qqsv2htijpzUyQKKR1t34qu9TvYp52DAEZXnFTHUrPyHkmVUlY8Jt/8ArVyyxeWwYNz6Uy9vSrBW64pJvYrYu6jexy7WKBAO+Kgi1aW3X/RrmaPP8Icj+VZ15KXtutZkbSFhzVezT1Hc7nQPE9/pTy3DzSSMTxucn19/erWoePtWuLpbiOdkK/whj7+9cfDIwj+Y0yaU9qlaENXdzY1fxDd6wyvdyksOxJNV7W5DNh+gHFYpLu4x0q3H8q9eaptsa0NCZ2lUCM7G6Grujan9jcxfwgZ3eprBaR/MGD1qeA4kyDz3qeZlWR3beNSLAxW8KJIo/wBYowa5my8V3q60J5bl23fIQWY45zUcUUJjLSNgmqge2gmb2GQaakDSOp1BpPs0t08mC449+K5hXQzZlbn1xUsuptc2u3d8orN8wtJxWl2RY0pboY2q+R+NRhoVbEDEmqckoQc0+1uE25PWo5Soo0EndOGIH1FOMkhYNHgfTiqUl2pQ569qWG8U8ZqXoUbovg8AVgAQOcjrWdcvuyYyPypI7lFVi1NS6jYNTi7jewy3Vi24sAD3xV9QuOZGP0NZJuQDgdK1LKAzx7gacnYI6nL6dPpjZ+0QZY+makFxZ6ddpdW1uyMhypbPP51yNnd3CtvZgNvNT3usTXahGk+VeuM1z03bUwlq7Ha3/iOe5sJLmSUSOR8kfHr/APXrjNL1WS3uTLOgfd1Vvw9qoC9mVyF3SL/D83SuiittDg0XOoPIL6T7u09OPof510uXMrhy2MW4jt7q9O4GKMnPAzU1xa20NmXsZmLLxtxjP61p29rZvDgOHk9WGfpWVqKNY3G1iNrcjFc0ir2LNlLNa2jmR+SOhFMs9UuLcuVOcmoFuftXXgUkoWKMlenSsU7lp3FutRlvZmHl7VzjrnNVhPNBut1cdeAQKjt/NcSED7jHNSvKhlaRogwY53ccVTWhVtBHtrry95UFf9k5zUTH5ANuDjpV030QgxFIwPoc1Rkbd8x53c0olRGKueT070rKmPkOTTfNBQr3IxUzeUlqNhzJWqKY2HcCccnHIqwHR1OWwaorMyRkj7x60Idyk55pklxAmeWp7vEO4rPWXavzHmgHzO9Z9QLhQAddvtVaRwJRt54p0ZduJeKjlt2B3JV7IT2GbiCdi7T65qWNGZgHbjvx1qMI6jJFCyHdTTurhHY2bS+On3SywICVGMH6VZ1TU5NaWMOFBUYIGKx9xRN7UiX7x8pCp9+KSd2R1L5truLzI4lULsPO6k+zxrFEkr5fPPHSmwaqZlVnG0sduc1XuZhHdKwO8Z5pjOns7gWVtJHbwrN5i8sxxj+fpWONOurW6aaGQKyHdlSD09qsw3SvEoh6Ec4pLaaIsf3rF24wSauNVR0M2nc6CDxff/YowVHyKVOVHPGPSsU6xci+aeIqHYYwQPX6VGtw0O4SBcZPGKybi5T7SW5Ue1KcrjVNs2Fms7u5aJj5QIxmoJdNVARZzg4zlvXP41mxyB/mb5Se4q/ZhYFMjuzDuCazdQu1jCmi2SbI2zjq+KsWsixxgD5ynfpmukMVheL5cNsqE9X2j/Csq+0SW2BkhX5FHJGOazU7uxSZEJw3JQA+maguZVkXGNv41W3upO7tULSlmODW0RkbLtfg5qXBVNxOfbFM2E8088ritOgFm1RnA8s4J4NbgvF0xRJDt83BB561jWbiNhnpWo1nFdAPuPFYqdmZsyppbi4Z53Xh2Jz+NVpizx/K3NbN0gSHyoh8g71lyRFFyKu93ctbFFYmLYNNkjZXxjI9amZm6inLNujO4VohkK5A6UMvcdqeWB6UL905pgET7uCMVajX0wfxqkRg5FT28i8gk5qJ7DNCJ8EFQTjnpVg3oJHmLkH3qGyfy45CwBG09aXyfP2sOB6VzMzkXW8iSIi0JWUjnvxTkDwIit82TyTxin2c6Wc4aO3jcqMtvUHIrrr59B1TwwZIvKt74AkKseM9fQew71vRpRqJ3MW9TFtrSC4jTz3C5P3iMVma1pbWt+fsbCWMDO5aTzZZbOSPzMCMAArkd6Zay3MaMrsz7l4LHNZXlrY0TNHRr+MzWsd2uyKPJL5685xXplhqnh2S6tpWZIyqAE5znC9eteRpZXVxbtIiYiQ4JB9aZveDA3t8nHWto12jN0mfQ6eL9DR1EdxG2P48gVheIPFtrLFIlvtmDcLg+1eKyXMhX9zK4XudxqaHUZ4mTEzEZzyTzW/1vSxn7J3PV/COrw2d1Ks52vJyARj1rVj8cRWVw9vPGQS3ygHO79K8jOrTvdRzxu2VGDgkVclnluryO6Sdi7c7Tn5aPrL6EypHuen+JtNumw0nlPtyVb/GrVvq1nI0jC4jG04ADDmvKrMma2CScTjkuO4//VVZb+6tbmXYVKgnGR71Srya1M/Zana6/rUseqwxQyqNzA/eHTmuos7gzQoJGU8dQ2c14s+o3up3AnugqiP7pXg5/Ous0DxLNbkC5XcB0yc1rTndlypaHo+4McIpBHH1o6Dng+lcVqPjt7W4QRxKqsOorZbxTaCyWVvmc9sGuz2isY+zZvncoGR+XNOQFuf58Vx934xZMfZ1yPer2m+K4Z0Auhhj6Vk6iD2bOikkSFcyuij3YVHDdwzsRC6yY64bOK4nxLrv2gbLXcB7HHrTPC1y8TSvLI6jKkjJOetNTTBxaO/LAHGD+VIWCliew496w5vFempMIpJSrdzg/wCFaCapYvb+aZwy7sjIPT8qbasJXuX/ALSI1Qu2AeuT0qRLpZPuFW9cNXE+KfEqWMJiUH98P3ZH4f41zml+J7yyDPJI7Z6ZYmpuitT1/wAwBSw5wKdvAjVn4LdhzXnmj+Nbq9kW2aPO89fSunvNettLtN1zJvkxkA5OKVr6lqdlYu61qy6Tpr3EihivRd2M81n2Hie3bRRqV3+6U/wg59f8K4zW/FJ1GB0YqUboGBPeucF7NJZ/ZGkYw/3FbA/zzUN2E7s63WfiPcmTbaKNueCCDx+VU7P4g38cyfaF3Rn73Qf0rlVlt0bpvI45FFxIJE3IgGO1T7RF8rPRP+FkRInMWf8AgX/1qs6f8QbKVm+0qACQAd3SvKJjKU4jFOtYJpmCsu1epNHtENRZ69rnigWNqlxZbZkcAj58Y/nWAPGt21wjuNi56Ag/0rmCstxb+Q0rGOPgcmqMc8hl8s/cXoTUOqVys7PxL4rfULFFjXaVHJDZz09vauct74zwB95DemaqXLSkKseCDwagkj8hhtbavpWMqlw9mnudQPFUtvpslpOd6yIUGTjBI69K5+G1CSG4bqSSDmqepSqY1I6hgc1NZzvOgEjfKO1TzmkacSeGScyOQ7csTUl5ny+GJPpU8So7bgdoAxiqjzbbrDDctL2hpyIj839xtPTHTFUvN8tW2Hb9K0pY0+meapTwoAfej2guQSCd5OEJ3etWVhwdznn+L3qK1t/I+ftU0kmfmJwB+tPnFYil8xJA1sSp+mauafdXK3y3EshR1IOfXFVkvY5G2Koz64oundYwE69yKqNSwnG5p6vqEuqyDzG5UYBrsfhxJ5enXNtO4U+YWBJ9lFed286qoMh5FaNnrL20jPauy7vQkVXtTJxaPappkgiM0rBUwTnPpWPd+JdMht2Y3K7vTIrzW/8AFWpzWbxSTN5e0/xHrj61yst9K/MkjHJ/vGrjK+orM3/E2vre6h/o7/KB978TVf7Wk6I78lffrWAJI5XKkYJPWtm3tY4YNxbd7UqkilBss/blkTa7Z9BikFzDgbwRj/aNVSirMG28Hmm6kUMJ8oYOO1YRui/YxNDSvENzHcbBKTErD5eK9P0XXbT7D5s0iqdoyCwrxewh2Dk8mtCSWfygomdQOgDHmuhVVaw/ZR6Hsen+KNPv7loQ4Ur3z1p+pa/Z2duzeepZR90EV4pZ3N5bSlt5APcGrVxqcnl4lZpAfUk1m61mRKDR3Uvj5JFYIAMcfe/+tXP6xrcupRbZH2r/AHc5ribnVI1l2qu05pZNRd4eGP51V+dGK0OhtDaLktjoe9VrydHJWPgZ9a5kX8vTcfzq5bXIf7xyaycWaLU11lCICX4HbFONwGXK/wAqoNKOFAzVlZVghyy1NmVy6EKNJHI5xnJJ9KC0hOQCT6ZqBr4M529M05bpl+YDpWiTM2tSRUk5Ei8HtUjttjRU4Azx61Qn1KQtjGKbHPI7AntUyi7nRHYnSVrVvlOOfWo5rxhl8kHvznNZ+oXMgkBXpVObUCV2kZrWEWZyV2a8esK/7srtP97PWtKIrPgMQc9sVyUbAkMVrYivhDMpzxmnOLsC0Okis4oPnlfAxxxVa/cPbkxN06CkkuvtSpk4TvUkyWptwokw1cLVmWpFPToZR8z8bugp91bPbhpH+bP4YpJbryFVIm3HFRXd5NNalWHatEWlcdFdu8Q8rqoxjNVXnae4UkElTlgR0pLO2kEZl83aR/DnrViMC4bCBVJ4YgU3oOxJPdbwCkOzAxkHNU0BWRnZs5PGTitedraGz2YBfHXFc9dy7MfMcE8AU4rmCxqM7zRgKoGO+6nR3CwEjgn0qKxliFsQxOcVUuUYktGTRKmxGvBOhfcV/WrzXbxW+xvnJ9eK52zZ1/1prSku/NcHGBmsXHlAjkdkkyeM00XaPME6NT7nYHWQtkY6VkyyZvP3Yx71cQN+CMwyF5HBJ6VUuLlxcEpj86geRkhJmdie3NZrXO5iQW/OrSuwNP7VJLIVOQQeuKhlunV9jEt+FMguSzKIwCcc0OrmfdIBxzRJWAkt3KEnGCakBO4kjOaaoyMiori6WJcd6EAkl20cow/HpTLm4aY5Hyj25qptadtwqzHIscW2Rc471stguk1cvWrg2+cnP0pJ7p4gSflqD7Wi2/7pf0qpcXBlX95xXCqTc7npzrQhC1Jla4uHmnyGzVR5Jd+M4odyJP3fJqMu+ctXqqDS0PJqLmle5JIHIBByaQBtvI59Kia52uMdO9OExZt2OKT5kRoty9boxA4wCOT6VNE5SXDdPWliuEktNifK+OtQo20bG5b1rF2NYzaNaK42pwcVGLtmlwxrOM7KcZp6Z8xG96xdjXmcja+V0O8bayL10BGzhweuetaEj+ZH8npWLcK3mZPTNOJLia1neOYwH5UdqoTxhiWJpgmKRDFRNdZHWt4mVrDGUoCA3WoixHWnecC1RStnpVANkbd0oiDFuRUDMV4HU9KmtvN3fOOKBpF+NcpjzMD6VcgmWILGvJJxmqBkVR15pYmBlQ54DCs2apaG6ZP3WHP61RW6SKb5DzUUs27hCai+x3LkMgqGQbS3G9QxUj3qtO/2iUbQD75qAS3CR7HAFRxS+XNls/hULcCS8jfaI1I/OgWhVNwOfwpJJN10Cc4+tT3EzKNsdLm1sBAp7FsH0pryBevNVJjKrbj1qPzGP3q2itALTXShTxg/WmCZ2G5T+FU5yMDBoinKx8U+UC8tywGSOfrT7ScmQsT+FZyXG4GlhlZWJFNx0JudXDdQNABKuCB61mXbK8zFQQCMCmQ+bJDuOKmVW8vMigjtWHULlVXaNNvOPWpIZ0VfU1DPI+cCPio42wuNtalEl3I0n3Rj8antwhxl9vtVOQ/7WKiklI+4aBovXhwp8vmq0Nzh8EnPtREZHX5gSD71p2mlqq+Y6dfXFZyGRfasx8frxSQTAMcnrU8+ntJGzDCBemO9YrytbTEdeaI7jexoTM3zFf4Tx71qaXqDRW/znFYcchuXAJ2g1d8wQ4RF34605igcRfW4tpjJEGK9vaoURp2IJ+UjpSFWkZYweM9S1S/2Zd5VocsM87RmueDDQoujW+5G+6ScULK7MPmNW7m3c3HlvyVUEgVDHFySvOOuO1XKelkBNCJFj44HrTrlJBCJGcykdAe1Pt5Qu5W5XHFN8zYx2/Nn+Gpj5hZElqI4U3F2dT0BxUskb+SS4yhIIFPjD/YQvldO4qtcXjkqp+6OorFE2Ldo2y1m7FuvvzWa7bY1CntThcMd4wQDVNGO0hjWqHqPEjZxmllnBQAdcVCGy3HNN25Y1VkaRHoeC3cUKQWyBg+tJnappqtu6CgsnPy87uvWpo1THC81DFbtKTk/SgubdsMKYCzxZ6LzTFQqvBwamjuBI2CKjcbpMA/hSLdrD0uDPMgPzbR83vzVxlkSENjCMao2biG4RmXhhz7c1sz30U9iIVAG09fxo6GDTuZ7t8tQRqGfn1q2Yty/KM/SqTLtkGDz6VArMuvseLy+M1UktxHgbtnHNTxwMBvY4+tEhjZh5nIxTQ0inGFDbN24dqcj7GZR0NOZY1Zmi7DNRRDexJ61VxmnZTyW8RaIkfSmxzs0m4p8wOQcVWSZ402qKtQkiMtkZqXYhrUSQytKJTkjOCK0LrStscU78pIAQtQ2UytuEwHJ4zVq6vjMqID8sfArNpi1MoWbqH+XdjpUh8/7LtwQaEuZYJWD8g1PO7yW4aPrUyQyKO5kNuUZjxVm21C4e3aBZm8s9RWUrNHnfzntWhaPEsZCYBbrzQlZXAqXMW3d3qjHFzzwPStpYld23MD7Zpk9hiPcneqjOwyhsHFQzfK3FLIkkUg3ZAz3FO2iTvWqkpIQQXGz8qv22ouTsBIFVEttmWZTj1xSiQD7qH64qHFAbgR3tcqN/NVVhycTx7RS2LXHlbkORnpTrm6L8SD8qyu4vcy1uZdzaqEkMT8AdM1mJudghBwc5IrQnDRyMi5Iaq8kDxop3bc810wlc3ixViT7EzhW3L7VXDfKmcgn1qxFLzy/yjqMVHKPMk3LnaPatGy9B4UMOKdsCgY4NNVtq1IIjIMg/hWUriZbtgj4DnOTVi4BtsGJ8j2rMVHWQdcZq67h1CDn3rOwiUzSMd7HK46VbsV+2yGRW8tlHBrKmjnjK7WyualtJykvDYHfmtItxWhDSLVyWiuC0krNzgn1rQFxBdRqruTgd8Vm3chkhxGu4Z61RYzQsCCB+NO4HX22stb6LJag/K3b8/8AGsRHaaQ7gOTwaqrIrQAsxFTW7IZUCnn/AOtUSV9imzQFkhh2Jhc9akh0Iom7qf4cdqRY5Gx5Zz9K0raaeJcYz65rSnBX1MmyTTibRShjBb3rRiiU7nKgM3JFZrFi+8n8qv2ZL8seD611RpxM5NlmO6aNiATyMVFKsshwI94+lSFVUk0sd0y9MD61TglsShLe2K8OuB1x71NOQMZ6Cka638Y568VBKxaM0rWHcbdyiVVHUAcVpacZDGNzE46VgoxLYPrW1BOIYRkgfU05XsKNr6l28mEi53YxVFb9lOFJ296rXcjycRHcD1xzTYiI4CGGSe9ZK63NHZ7GrBMHyzU6DU5o5XW2kKj+LFZAnbaQARVONrmKZ2XIVuuRVxbM7Iv3kks96Wdy5z3p5kkVQS7DPVazxI7OxDc1ZS4c24EmMgcmtUw5UXLq+u79YlmcyCPhM/w9P8KlkUizAc5rPgvEBIwSfaknvmZduDWc2y0kbWkXjWX72DiTGMj0qDU7m5vLgtJls+tVbGcooPvirk0pbJXHSpjVcVZkySvsY7CXeVJIx0FVM+Wxc/f9avxyb7pt5FUZwGlKqc/Stk+YyegtqTDLuHc5Na5JlQFetZ0a+WmW54q5aSbmDdh2qKi7HRTaHIz+eFfJHpViWV0G2FMqfvCovtEf2kZIH41PK7bSYRn1rBJmmlxGujBABGvlk9cVnlzNK/8AOnTTs+Fbk+gptxIEh2op3Ec1SiS2iKO7eKYqsh4qwblLhv3/ACPesXa8UnmNk5Oakmk85cxnFXyJkpo0Z3jYbR90cgVDbzlJMF8Cs9JnVcHJOal+zySEEZGfaj2ZV0ba3Q3D5sjFRyXR35VsVQaNreMDOT1pqyZXlhn61nKBXMakU7XUg2g4XrRd7TMi/dHel0qeJI2Bxn61FOUknPzDH1rLlHzE90xitx5bZHpUDuXtQzrjbQjCT5M8D1qtfzukJjxx2xVpDdh8ZUqGj4NSm6TdtaQ7u4rGtLiQHbhsfSr175P2cbFPm45PNactzJstZjbmnqwfaoO0elZVjIwJ808VKZj9pGDgUvZiNO6wi7Ox61UxCOqiotRvuVVTk+xqiZ3PXIqlGxLNIwQyruUAdqlWTyY8A1mwGRm4yBU0hYHBNPlC7NCO7kkIXbu9KfcPjCyLjPWqFjetHccjIFWMvqFyxztC9B60nYonWIxgOOlTrIHAyKVVIh2EZqGVxGvPy49awlqtBp6lpkQLniqlxcrtwOSKzLvVSuVBqrFfjcXYg/jRCk2KTLdzYNeHeBg+tZt2klsMbiBWhHraltqgfnVTUZROMgiuiMeUz0ZmJK5b1qxE8qHdjiq0KEzYWr21/LxxWsthl2z1QI2HTcavSyyzwF8nH92sS2ZLeQvLhvxq8mpKVJGAvpWRonoVULmQ845NTNeNEMBSxp8SiZiyjqc1ZEKDgrknvWbdg0M2aSXbvZSB9Klsp3k3BcnP6VoP5bRiORRSxm3tIyY1yWpqfugylc2bFNzNWZKgRRgZrRu53lzjgVns+0DPzfSt6UrojqCLujHO0VHcTKZF8sYGabcOzoNnFMiUB1B5qpD0NgaiyW6xgGpFtjPiRhjNVnjEuwJwetXhcCGEK+OlYSimylaxNFHBD0wGqRpd3GNwqg88R53Y/GoGuXH+rORSskQ5Fm5S3J3D7/8AKoVkeLLLuJpqSNJIuV57mrkqPlANuCeeRUbmnMRCSaRclaqzbmkAZO9XWlaPIUZ+lVzMGkG7Gc9KfK0Fy1DcRxIFZfmqK7uTCgcd6ZOBvDHj61HNIlxJ5RxxRqFyxb3iPGGkGfrV2aaAYAkLD04rI2+X8mMU+N2Zj0/E1LQXJb+8jZljiXb7062kjIG7lvWsm4MzSHcMDNWbWBioO6qjELmlcKpt2w2DWOt8tujq43N2NT3pdVGG/Cs6SMbgzfjWqiSWbDdJc+arY3HJqa9vsMwHUDrVOFjDLlOQeeKhuZMzE9a05UwNK01JnXZk5q0xgfH2haw7ZxGwYda2I/3+w7SfWspR5RIkN1aodkYK/SrUSW8sJ3HI96fNZw+UCE5qkQq7xnAx61ipXdinqiWM28eVBAGfWsu7bf0qRYgSee9RyqAOa0ihFVRs+YcGoJZGY8mpJZMAgGqrNzzXTFuxLEfggCpI3wuM8VG/OMc03OKoknSZkY5Y9eKlimfcWDnPp61BEnnMFB5qeWwlgKyIGO05wBWcrIpIu20DzNukbaKtKI1kKmTOOlY8l1cKv3WX8KLW4/eAvkmsXZmyub6My8L0qC5jBbGce1V7q+bAWIEe+KjiWST5pJB+dZOLuDEnIRMLVZf3nSOrLoC+NwP40jwSQDKcj1FaxIRXeJgOF2+9V3zswG5qzJK7RNkilsbIzKWk4HvVDI7W0eSRGb5sf41rmJAoUgCp7dI7aIglST05quQ01xgA4qWxlSa0DMdnrUUaG3mQOP4hV+7RrZgf6VOsUVxGGbA9aQXYxIDMdyEVYTzY+Pu47jvVd4ki/wBVJTPMfactUALcyPK+0E0iuIFWMrk9abbSiWTBHNaK2kbqGYgH3NF7ASIn+jhzEDVd54ouSuamdbh18uI/L61RuoGitzuBJx6Vl8TNLaDvNhuW5ArLvV2SfIeKSBJGckZB9KdNaSlclWP4Vuk46GZWAEn4daeY1C4U4qq+9CRyKjErFsZrVAWWAQfL17mlibA5qMEmgHb1FORB0enJFJbgs3GOlX4ZbQN5bYAHNc7DchIcDIp4uYwMknNcsosDprn7K8JCKo461gXDrDIUD570lveM7YOdtJqRhEW9Qd1Zpu5VylOxPOMio7VxNMCOFzyKRUkni+TimmI2swVT1711PVBc6O3lhhZGQDI/wqS61nICbiPaqNpZ71WQSrnHTcKL1IIl6hn9jXNyts0Ro20zSlRJyh65qhrUEMZ3W2N3tVFNTli+UDg05pvO+fqatRaKZXicjHmferSt7tbYZJ61lyNuYt3qBpGkODkYrRGbMi3snMgbP3TnFbVnfNbWxDKMk4pJLdVhLKcHFY7yf6fln/d46V53N2HdM2ba1W81VVCgNMODj6moPENnbaRfi3t8YP38CpdPeFFkm80iWLmPp34/lXP3N891qDO2WJ+9uoXNzDJGTCho+5qxawKHE0lQrKZZNij5m4AFaCwPBCFukPPQgV0dBDp7tolMSAKD6VlSqqtu3Ese1PnbnKkn61D5m84Yc+tZJMuwhfIxUlnbrNchG6EVWkBB4ohkkWYNGCeMVohWH30As7g7Kqhjnd681anjmcl5Rn6VCcbQADwKopJjDljT7f8A1pVqVGVeoNMYFmzHx9aZZY+0+VcADoKZeyeZJvFMMZKHP3jTY4mfCkjrQIsaayhnaUZUDj9alkeGUNJEgUg+lSBVgjHTnrVWaUFtiKQDSC5IAHXBpxAWIpVYuW+dOF9DT0czjanBz3oDQuwXPlJtqMIjSeY3WoZ4mjO1iMgVGJNyjnNTYWhee4jZdtUGctNsHTNPjgMh4IH1qdbby2BbBPtSdxMdLaiOMY71R/1UlaUkh24YH2rLmJa5296VmIkE/wC9xU7y+WwA71Qb5Gyaer7+tUkwNIyhYxUIuyDVcsTxSBPUitEkPlNOO5inP7xcfhVtUTb8jfLWI0okPANTROFHJbFZSiRZluYxoT8uT64qqjbJOvBqV5ldcAH8aa0KsmYuvfNNRVtQ1J1IB3Crcd1uQBqzIyVG1zUgkUKRnmocV0CxpXlvBcwLng+uKjh0dQoaNtw96jhni2hXyae+oLD8kOR9azcWFjRmhT7CI2iGc8HArE+yvG+GbCZ6Vdg1U78Mc9zmq99MkzlgePSqUAsTwS+XIFhPy45rRsba0ubn95jb34rnLefyWJ5IJ5q9aSZkzGcKeuetTUWmhPKW9W09EIMPTNZV1CDCM/exVy5uZFATBYk9hUMsEu1ZHU4+lFJtbhqZRs3SMv2qWAoYxvHy5wa0mIaEISB9aWe2gW0AQFiQc49a6VJdR3KWo2qxpFJb/cI5xUCSCOQlOhNW0by7Nopu/wB0VQijZPvqcL7dauVrDTuW0y/40xi0L81OHUwh0yMdj1pfLa4wQM5qLFE0UqPHhhmohFErZHX0xVtdPkto/MYDaeMDrVyDSI5Nso6ntUtO+hL3KUasIRtGFzStp5upBgVtC2VZgj7QAOmeasyrCihoflx/epcsuxPMjnbzSJ7UIkv3evWoLeKQyOyj7nSusu5RfRorOm5evNFrawbGCDLd/erpxfUlsxdMuXilO+tBr4PLimNbqspIH4Cn2+n75N3HPQV0chn1NC2COoJq5hY0BWmR2ZjhzwMVWMh3HJ+XtVxpik0XBKCcntUMsqtJkVXaUdB3qKQ4HynmtlBpERkmaKK5BZfSmrI/IaqsN28aYP0qdZCUJINGhew4J8xZetRTSygfN0+tNWR9xCfnQZGLYlGfpQldmTfYt2MmyMhu9W0eIow7mqyNE8eVOMDvSQyQeZkkgDrWU1roawvbUn1CMwQh0pkMi3Fsd3UVW1DUEICbvlp1nLD5Z2nOfSmoSWrQ7MTEaMRSuBswOlRunmT/AC/rVkxMm3PP0ok7IqKtuMt4CgZvaiJA7EtV5HjWL5vSs65kCMWjYbaSTYmTQPh9p6A5qea7ji6d6owXlukLGUkEjg+9UpJkfnJIz1qvY31ZOpZnl8vLp/FzT7CDe/mtUAKsqk8rjtVxHxH+6BPsKastEZtMha5VJij9M1dRlWPdF0rLZEkYl+CDVuC5ijhKnJ+lEotlQdtxk88ccgZ+uauRXjPF+6PAHNZmpCKaLKZB96h0+d48xgE7ulLltE05tSyJpBdsx9adLeryT1qWOFskuOT6Vn3SKG2HrUqwmyXzlmzjvUsNoB1p1lY7I97lcdetLNKAfldR9TVN9iU7FhNOjZh061JdBbaIAVVgeYNksuMVFeXBk+WpvIdyKS8ycZqHIY5NQSRsZRj0pzbkHNaKN0TdmlbMqAjPamq3zvjvWbFcEycGrsTYbJ6VEoNDV7l9CFTNR7lnLK/bpVcyEnjpQXCjO1vyqFY1bLCpFCKjkBkGFqobgPNjmte3eJUGQeO9W720IW5SjsZjyP51FJFKkmPL3Vvw3KMdqc1P5ixtkJx71k5tFHL/ANmXUsqsFwM9M1ffSpfKXcvNakuoGNt67R2qnJrEzNjgj2qed3Ie5XaMQQfMMGqAm3yYOcVrx3XnH94o/GleSDaSiDIp3kIhS2jCDZ1I5q5bxRwruP3h0rPNwpf93keuasK3mYzmk7l3LhkbkrWdeiRyC/TtV15fLj6HNRs3mxjcPpWTeobnPXFvuPNZ00bRHCdK2tQUrkrishpDuO6u+l8JEkyNYnC7h1NKPOEXzfzqeGb+90p8soaGpd7ijcjsZkikLSjIwaJ7uSV9sCcU7TLU3Fx82NuK6CNbS0UAoS3tTlJbFGBb2FzKuXXHPrV5NOCD5jk1sG5zCeAFz+NY95dCF8xnk+tRuBdt4hEny1KhzkntVayuldRv6kc1ZeVFUgHrWcosaepUuJsPipbcCVWz2FZl3JiXipra5xGwAbOPSqVP3S2R30hR9i9KqH5Eq5IFY5c81VmXPQjHrW1KNkZO5WZyTxSwBvPJ24p6MkZ+YFvpRcXgClgpFU0xal6MmJPNZsjpiq11cMzZHSqtuzTwkbu/SlnLKQhpqPu6jV7EkkvmMqqM8c1rafah4xuWsiBxCd3Uenetq1nuHQPGAq/7Vc0miXctPZGMZHFZlzcvETg1qz3bCAbuTjnFc7dzF5KmKbLuS2t67swbpU2+MOH7g1VstoViwpr8SZ/hJro5dLBcuXd/HNHheoqKzj3kSt1rOuzGkg8sMD71o6aWaMgkciocWtwuWnbfNk9qkiWPO5qqzP5WQeT7VniaQpjNRa+wXNWeWDfwAfwqF5gF/d/LVBJVUc5LUruXX0q1ELjnnYv87ZprtuHNVx8n3uaa0m7hQa0SKLEJYyHHSofLd7naOp4p9uXU80oZkm31ppYCzBYsjAso/StaBvKXGAM+lYSy3E0wCvxnvWtEpijUyOCfrXNNt7iReaVxGQ54+tZ11IoTiqmpakynamSPaqJvN8AU53VnGm73LexorOoTrUF1MCKzWuCoxzTpZt/QGt1FiEdi3ApCNww1R7iOQQKQEjJbBHtWi0JZMXVVwtRb8GoS+CTg4oJLrlaYrF23kMcgMajJ5roredvLBkjB9jXJ2xxMnzYNdQqrJENr4IrmrPsbJFi5Ec0YLQKPoBWNOiRz5RcVfkLpgbicVXuCGXPc1nF+6aaWKdxPlaWxla4lEKDvyarTfKDmoba7mtpQ0Q71vGN0Zs6u70kRWoaM4ciqLz7IynY1dhuGubVWcNux6Vl3SHaVH3qzW5KIhGrN83QmtUJmxxGPxrN02NZZ/JnPXPStSaf7FD5YIKnpiqKKkMgjZVm5J6VaEu1wY6jgS2lXfK3zdhTZDsfKK236VAWC7lllUmQcDoaqW1w5bAbAHUVYn1BZEETfLgY5qo1t0aE7s+lFmFjQVBJyKJpUiiIcZ9KfbI8dvmTjjpWbcylpDjgD1qLMC1pkbSuWPAq5cs0YwH+XtVSw33HCEKO+amu4MHHJxzRZPQCey1CS35mGY6J5Wk/iyKprO00fk4wB61bWJLZcyMD9DWWz0NLqwW8cYkDOoHviia8iQFQao3eoqFZVPFY/ml5sk8V0K7V2Zli4YSzEiqmxVm5rUt4oipLGq93Cm/K9KtNARvhRuXvUQkLMPWlCk9ximAgSDHY1RJOGdjg1btrQsxLelUxId2QOKureBIwDnNQ+WwncsRx+W3FWZIUmt9zjJ9KqxTK3JqwlyiNx+VczTuTqUWyvyxJt+lSfZRcrx1q+sokbJTj2p8Vv5allZR7E03JpaFRMORLq2fapIX2NJC29j5rHNa8kx3/NGXHsKTyI1XzJE2/WlFu5qmZJRVk65z0qMStbyEN901ZvJYsfKMEdD2rJurkTYQZJHftXWrNFOSL+Vk4jWrEVt8vzpWXbTywNxggVsW+oeavI5FQ4szbRXuYwuRnisi9thtyi81qzW91kLLyx6baz5I3yylm3DsTXkR3JjuZiFx8udvrz1pJYlDfLTJQ3nNycqfm5pscuZevyd/Wum5q9y3bKsbgj7y85q3Pe3N0m1gAq8Z4qs5R48RAhf73emNKwh8otgeverSuIGXctVcYlq00qqOKrffkyKksGXdTVRg3ytipY0LE5psg2Dnr2prca3GT+aVwJP0qurMOCMkVMZQFywqKKcNMQQNv0qyx4BI6U5AB1p5nj8kkYz9KhkY5G3pigRYLoBUP8WVqMANHlic57GpE+X6UAOcsVUk0gcCQZGadIodQVNAjCgM3WkSwJURFRUUbNG2U65qQRiaYLATj3pZ7R4sZbj2oENuZWZlL96jUANheg609o3cLt52+tOfA6gBj6UAP3kD5aX7YRtVuoGKhVmU9vxpfL8xs0mBe+0q2Ae5qrcbBdAj0o8s5Aaop1+bOTxVRAjlG4ZH96mrxQSduB65puT3qg6k/8GaYu5jxRuPl4FEUjKeg/Kg1RNAAPvUsjc/LTFO7rx9KUgDpUGQqsakEzJx61FE2ZMHpWi1tF5JYZzQBSkbeOOtMWNh1NPKqM7c5pVYEYPXvSsA5eB1qs7kzfeqx5O4cE/nUL2wQ5cnP1osAxyytlWpySk8M1RE/McUzZz1P50WAss4HANOiumj6VXUDvmh2x0quRAaAuVfB+bOatG4d9gP3Mc1jAkjG5h9DU8cjAjLuQOxahwQFpw0j/ACnipkZ0UbTux1FVopSG+boanjxFJvUkg9iay5SXEWaJpWVmBHtTbqMRx+Y5wB/DitGC5id1ZlGR2xxT7qGG8DSFec9AOKblpYiOjM6LTfPtDcJLgYJK/wCT7VZsUe1ZZCpZPcUQShbhYMbUyAQK6jUbdE8PK0SxjgYIXntVRZdzI1C5e6hHlAKAcmm6Pes16kLd+BVfT7Ka7QRvMVyeeT0q5Np/9m3sWwliCDn8qvm1JkdBHo8puGmkXdnp9KS7st8JATFXrTU3+yqZOOAKoS37TzFFPHtW8VcxZz0tncRXAYE4zVn7RNYlZVBbjpWjdkIAGpihZIdxVW29iKt4eS2KbMmG9ZnaRhye1a+m3A8wPLwPeqBs0jkLgde3aph842Dgd8VHsp3sZc2p0M9zHLbnyiOnaufllK1LbSGBWQEkf7RzVaf5lJrppxcdyJaiLKWNPLNnmobUgt81TSrIzfIBj6V0OSa0IirEgBcDHUc09rp1j2baS2DK3z46Ut3cKowoX8qxUbs0crkK3TxqfrTTPI/O6q0jll5OPpUAJ6bmx9a6o00ZrRl4XZDhQ3FTu/yZB471kIM8knP1rRtRvXDcis6lNI157IbcR71zk1JaO0fypk561LJgLjA/KktJQk4DKCD7VnL4SYzZbV5FYEipXueu98UXV3GmNq/pVJz9qOAAPoKyUVJam0ZNhueSbiU7c1YmkhWHYeWqERGHtTra2N3eZk6e1Q/d2KHC3D2Z/dluc1VjtW3fKe/St27cW0ZjjCj3xWHLeFDkYBz1xTjNt2JbNdLR0s90ihR9axzNKJ8QvgUs+pXEsAXzHxj+8aLG385uv41cYrm1MnIWWOZoztzmm2drcF/nzjvWsuy2wsmD+FTtNEsDbVAJ74pc4zHvgYY6g0+c+d93NWJnFyCG5PbFXtK0vaGd1x0x+tTKV1Ya3F+0OWwFNZtxHJJebsEDIroJUjg5UAn3FZskheY4CjPtWJQ+e4CWaqp5xWKzkyfOGNXJwwlx1FaFjaxSqCYwfXcAapOxLK8MzNDtAIqpIx8zmtqaOHftgAxj0rNmgBk5zVXEVuWkGBniob13jXpV7zI7cY25PXJqtMxvOAFH4VcZWBFS1RiCx+tXI5MqQaljSGOHaM5xzTEs3k3bM4NDlzGvQlRgFz1pHugARintafZ4csT+Jqk8g2ttHNJRRncekYL+ZmrDXe9Ai/Ssn7RIrEcYqeJ+QWHHtWlkkNSNmzMkSkjknpVrdcC3/eNzVCLUkWPaF57ZqCa8umOAePeuSSuyuY1rWWIgifn8aiupYk5iQfnWWzMse9nOfQGoPOkkyAx/OmoakPcu/a95O4hT6Zq1BGGt2ZmrnJN/ngMzbu3NbSRzpYfcYjB6NVy0QhgO2Q4PerS3R24HWs6JZGkAMbY+tahsD9nLKcHHTvSbTRYrGVo/vU+KRkjO8/SoEhmHEhO3606RAE4LH6msWluF7alO9nDHFUDCJFznrU1zHlu9NRVWPJJz9a6qew+a5VeEp0NRSswjqdmLOQelRMdykN09qq12I2tG2i33d6utbrI27dWHp115alc8VeFw6jcrcVlNe8A++nMShV9Kw7qZpJBWwgF6T5nQccVRurREnxFk/WtFG2oBYpKGyc4q7NIEXJfke9QedJDEBhRgelZN1cSSPw1DVwJbm7Ak65qaC9/dnA7Vjyoc5Yn86vWePKP0FaW90sdNdO7cHFKsrGEK351C6fNkU5yRCB3ogrITFEoj75qGaQumKai5b5iadK4K5WrJHWqkAANjmtKFoknXzRvqhZR+a45561vW1vZiMPNuLj0//VWVSTSsBM0dpclfLj2EDGOasMht4McYqFriBGHlJzim3MsksXBI/GvPbbYETXIIIasm5YNMNvrVl4Jz16VWaBl+Y9q6qYDom2xtTI5Q7EHsahmlMa4XvTI5EjG585atb2dwHyr5t0oFbcVultZq7HBxWJFIFuA/UVbv73zoxtOBjtTb5gC4uFLHBzURZSPlqoASucn86dHKoXIP51KjYAKt5me1SjO2nho2hLHrUQlzkAVQEEzMG4FETnPIqQPuzkDNSRRFj92puUhwYAZpCQ4qCTzPMZQMYOKVA3Q859KXMMmgcxycDNTzzNt+9RBBshZ2HIHGapu5mY9iD2qfiAjLk538mo8HdnFOc7Tk017gFe2fpWsVYCOUgdal3Kw4qo+ZDz+lG5o/u/rVAPlOTtBxQp2rzzTPvcnr7UYft0q4pNAI77+gq3bqpi5qkx2kKRyauQgiPA60m0gLWnwo95h1GM9a3blkgH7scY65rn4La4aUMSyjtg4q5dPJGNu9iW45Oa5Ze8Xcne7Ur1qoZWd+ORVJxNuqzCZIl3MFP4VHJZBcju1cRk4qlEJHxj1rVNx9oUqyqD9KrJauJiQwx7VrF2VgNWxuHihCuRUVzOr3Py9Kps7BtpY/gaY2Ryp596zS1AHuTDc707VLJefaVAZuaoyA8k1AcqwIJ/OtXHQDpNNgRstI/Q8VauLmJW8tSPzrDgupIYsqRz61TuLiWWXcWIPsazSC5tahHEsauSMkZ4NUY5iJE8uXHzDrWbI80n35XI7AsaaGcMMcc1qkHMb5vtuRNJxVF5Ve4yr5Wq8Bku5PKRQx9SKmltGjPlsNrDnipaTJuaK3y2yjyzT11gSfKRzWQLeXvyKQK0coCj5vepcECZqpP+9yOKZc3Esy4BNSR2TGESHrSPGFU4rG2pRmSIcHc3NJHtHU80l0GViwJ/OqW/5+SfzrpivdsBqrIQww3FSuwkTrzWaLhRH1NPSZOOW596jlsBbjizkZq3aaZ5zVVto2mlIjPfvW7bobOElzyATWbmBNBo8CR/ORn/PvWdeWccD7hyM9qfLqLN0J/OmCZnHzLu+tJbiexV+0JHxihCJpN6nA6YqcWwuG+VQD9KsQaPIJdxOFx2okSLHMYV6Zp7JK7ggkLV6OziEPzn5qk8sOu2PArnm2hoprJsIUDJov2E0IAOD7VN9kZGyGBNVEtJWmJcnH1ojJlFB4d8RjRCxbqfSs8aPeCUhI+D3red2gYhQvPfFWGuSLTdnDYq1NkPcxIvDdyVJZx9KRbCW3Yqc1oQ3soXd5jEn1JoF+pY+aBn6VqpsBEvcsCBuNUJoUu3kZeH9KdbwTW8iu5BTPNUtR1lVlMUSYPqK82MdS4x1MafK3EsRHK9fzp7aTIlqtwPud6iJczs7nIPStFb92IiI+XHSt+XqW9yFJ1a3EUI/Gmpp+85lOKapjG4j72e1adqA4TewHHf6ValYRiTwFKYikcity4tla4aNRuT1Apt1YC2t1dUyveiy7jUrlW0s3dN9QTqFDb66DSL+EWhhniwPWnavBpUGklrWTM7N0OTxg+9NLUtHNRWyXKECs25tzDcMo7cV3Xg+xibWrdJUEsRIZ/YVofEfwvay6wbjSGWOMplgvODk+9VYObU81ggZ4c+9TS/usA+lSWU3k3KRumQhByeKs6gqzfvFx+FIq5nId0eR60NNxikThq07HTVnRnk4GKQrmeofyww6VI4d4xipniSGTZGdwBpudsw38CgRCsbI+VOKtrBvw7Pk+lVTL5zZHFNafymHNMRqIogX5u9VWi3tvHSoFuS/Wh5Cw4NOwDnYdKFmEQGagB+aluBlV+lTJAWlmEvSiRcio4AFUZ6VqaRaQ3c8izShBjjP0NJOwGG6FmwtOQbfv1NeQG3u5IkkDoGOCKgxjrVcwD+Gb5elDLtoBxGPrSM3mLgU7mqIi+01IrZWowPlxQh2cmpMiRWw2auR3G5dnrVNXDVKi5cHNMZKV2vUDAiZj2zTpT8w5qKTIYAd6pajsWkudi+9RvKZeTUjWU3lq4I29TVWYbW4ptCHfKeB1oxSI2RQfm6UhAU70qRbqdDF8+GNOkt3RsrnFTcCMR1KkOSBTfMIGMUK2DyetGoybZuOB2qyjKF2N1qsjAdKmSQ7s46UbIHqT7QnzU77SSg2dAeaYHEqtniq+5U+Ve9YOLuZyRssIbkoIvv4rf04O9oY7lDsQelcdBM4cYRjs5yK6fSdWN7JHazDah4469P8A61GxAsNqJ9Q8yNSsQ6fWtw6bHPIrk/drYfS4YIVEa4Q9OO9Vr6f7NsWPAx7VUXeQMpzxIR5aHOBiqKWy20m9qfO7zTEuevpxUbDyeV3H616EbJGLbIbm1kuuVpixPbRFWqwPtDdEIpsltMyHcDiuhT8xO5TknGMUyBGMhIrQj0pWXczHP0pwtzC2FGQfam5q2hDTI4IQWO6oriIdB0qzMrouQDVX99KOuAP9miMu4tSL7KVXIqWAMqc1LBC0zBWfv/drQeFYIyF5P+7SnUUdEgdzHMhEjZ9KqyKXy1Wp4pTIWIIH0qlKsnQZ/KrpyRCi0yvJJzikjOTUqxMeCjE+uKtwabO/Kofyro9pFdSrMpxDg1ftfljJ9Ke2iSjkZqxHp0ix4waxnVi+orMqs+9sVagh2Kz4zVZ7G6V8ohI+lWY7e5KEFGrF1ItWuVHXoRSyl3xtpyBgcrT4oZBJvZThevFOuZHMxMKE564FQmrWTOiMQa7jRCJeuOKjsnkM2Y+lVfslxLllRnOeRitGyinif5rdx/wE1LaK5WOvmYoS3WsWWMv+dbt35hBzEyg8EkVTitcKd/3OuauDitTGd07Cafp8k8O1RkVo2eltDGzOcYqCO9WCLapwQeMGmC9Z/vEgfWiV27oyaY64hxIGLZxTJGebCDhO5qFbnLHPPNEk+VIXrWPLI0sXYEgtplHU1oXV2/kDYMBRXP2c6JdAyHn3rQe+FwzRqPSk4tC5rMatw8yndVCWVmnEcfUGr4j8tcHvTYbVBMXY8ikPnQWtq+8NL25p11etCxVBgNU0lwjYRT09KqS2yyy5BzQHNcdFILWLczZZqgmu9xzS3EoRNhrLlcl+KtQuS5WNGO4V4irDJz1qe1t0LZJxWfbKRGZM98VpW4KW5YsKUovYFIttbRgjFMkuVtvlHWqwvA8m0mo9ivPu3ZqFdGt9Ca5u/Njwao+SCMjvVvyfPbaKk+ylFxT5mmZqLZkvb4NTxA+SqhelWZMIuD1qKGQRqxrXmdh8ttRoIj6rzTZp3A+YYprvv596Y7rnDGhLURVdiSTup1vNsJzVkWsDrktj8akAtIl5IrS2oynJIruJB94cV02nT3MtmFDDGK555beSURxY9a3rBhFCFc8VjVYGikphTO0Me9OjYXLZZMVSWYNJweM0y7v/ACVwvXHauTU0sTX1ygHljrWXNcbFqlcX7O2arSXJfaDXQqTavczk9CSW6BaoJJ+OO9OkTCbqiiiacgLW8VyoUR6n5d1QPJkHFaSaTcbeKz73Tp7f5XBP0oU1c1SuiC2l2Ak+tXFuHK+1OsLAbcyA4x3qWa2fpEvH0pzs9bk31IVvTGMJ3pFndn3GnJYHO6Q8002js/y5xTclYYt1c74wB6Vnh8HJq1cxGNcHrVE8MB61UNQCaQNirNtxF+FVGXBqe3G5gM1q1pYse0oVqC28Zp9yBHhcdajxtjAqY9iZDDxTfKPl80o61OqE0PQi4y2OOM4rWt54xBjOTVBYiOQKnRNkJY1z1JK9h3NGCSRmG1Mj6VLNc7flcYqlb3wSIgetRyz+YazUUUlclub7avFUGuy6kUkg3Zqu8fXFaRjYLCSfvGArVtbCJoFM/THFYaZEwye9a0lyy2qBDTkronrY0RaackZIfJ9Mism+aLcRH07U6FS675MgUSFGX5QMUQ0KsZc8jKvy0y3BMdTzwlm4ojXZWz94LEkBwDu6U9ZEVjULvgcUqjevSoasFiWGVHl/GtRbiGGME1jBfKOakFxu4NZuLeoXsakgivEG3jjrTUaKzU5G41m/anRwAOK00TzYd+MkDNQ0wuWJWhmtwc4JrKuBtbag/Grjoxj5GKznOHbmrpRaQXIX/wBqqzxb5Cy9KdIctSA7RWttRpjGPl0pGRT9vm9aVE2e9D0GVGL7sR8tWlb6beXEOVX9DUKWnnSjBxzXVWU4sbER5BOKynV5dB2OaGhalu3BM49j/hWppuizo2+6XA/Gt8XhEI3Ac1XurzdtxxXP7RyCxFK8UZ2qOnFZOoAvIu3rnirUsgySfWsyab94D6HNa0xEiny1/edaYHZmPp2qtLcbzS25JbrWstQW4eaxmCOMA961oEtI7cbpMv8AUVVjjjViXx+NRxq005Vf9X61i3qWJLtaY+WcipvIwvNOe3gh6tzTsiNfvA/jVoTMycjftqCQcirkpZpM4GKYYi5HFU5qwriMcRj6VWxlq2RYl4xiqstgydxUJiMzDM5A9asR2jsw+tSrC7SAY6d8VuQSRW8YDhc+9XzaCILGKO1TeB89Q3Svcy71+93q1JLHLIdpH4VWuSV+7WKTXUViLzTGMPTVkTzdxqo7yu2Cpx61NbxkMM1dyo7mhJqX7valQ+fuFRXCZXioFb92R3pKN2WPmIOd3SqEoQtxUpVsnJNKIMjNarQCtsU4qWGNTcItKUIOAKu2US7gXqJzv0A2IYIbdFYH5iOaWT96Cd3QVTlnHKA9OKiFzs461y8juBOZNh5Wpo75QpG3tVLe0nQGnCBudx4NaJCY5b4LPnpzVt9UyQqt1FVI7ZB98ioZoVEm2M570SRBptPhgC/WmzXbr904FVktpGj7mrCogjIZeaycbjQsN8qEMXy47Uv9qkviqEqqjEgYqiJP3x5q4wHc6ENuUs/fpUE10gUrWZ9qIOzcefepWj3RZzzRKFtRDmu0jwKikZZMMKhEOeppkjeWcZpxVwK8mo3EqbRKR6cmqBYhi8g8w9zVlUcxkkY4qKZBHHz3rgibRIC+795jC1KbgeYPp1qMToIGUjpU8cBQK5XcH4rS9kDIbZw24gZJNX/LZ9nzlAKbBpzRS4fhM5zWzDp1vIg2vz9azchFhJEisnKW24kcMcViXl3cMnlSfIM52+1awvPJZY8ZGadqFzDcRhTGB8p5NZxUluJGGt4jQ4jIOOpAq7ouirrcsgkuQmFKrkHrxVWKKFEcAR9fWqTzbCBG4TnBKmupSNYnqmleCx4cRLqC7N20ikFQfu/n9a5fxOuoaZfM0jOqzfOFkfcMEn0NVNI8R6jp9q9ur+ajD5Wx06/41iahf3F/cmS5k3MpwRVXIe5W1KRLlVkiiCBRyyADJqglyxG1jxU90UypzhVOcetU3HmtlOBRc0ZJg+aMDIrStrpmZogcADn2rOiH8Peui0u40+HS5vtKEyuCAfw+tBJlSxrFdYRt3c1HenziBF19qsmJnj/cxNgk4JFQvDLAu5iAfegCqgWNcZ+aoXjZuWFLkmYZq3gBQTQBAkYEeRTUYHI7npV1Sghximy24QI4Hai4FXOxvm4psrFuRyq9TTyu9qjW3Jm2E/fNG4Em8mP5e5x+NPim8uQfOV45watWmn293rcNvI5WGR1DEemQK7HxL4X0rTrW0l8PrdXT7cTBkBUZ2jt9TTsBw3mIxJ5553HvTXX5cjpWhd6O0Mi+U28H5njXnbVyLww58Pzajb3UaKoJMbNgnAPbHtVKIznkDMwGPlOcUqsA5x0BwauxQW0mns8l35bRf8s8jkmrWmaWJbAXU/yQg5LNx2H+NPlNEZTIQ/T60ksZPyqOa0LmBJpmS2k3wqQQ3rVSWORpDvj2lAAp9azMinkocd6kSVyeB0qxBbgkl+tJJBydlA1uRqxaTLdKWQqzMc42mmCNgetPWCVEZ9uVJzVoosQXLPEwaXgA8c81VlO5qeJidqheM4NPdkFNiZDuRV6806F18xQT944FOIRo2wO3FNihedRu+UKc5pEmncWbW0Mc0g27/u+/+c0+3trm6DLBEXKDLcjiovk8lc3G5gMBMjiul8BalY6ZPP8AbUEks2QAf+A+49KdgMA2sMliZo8HrjjvzWSYZdrM6kDPBzXq2lfCp9at7u7h1CNtvzRxh/Y/7PqKv6P8JdR/tWFtRWI2gVgwYsM/Kcfw+uKOUDxxMpj36VcUSLbrK6Yjkztb1xxW/wCM/BreGbye5QxbBKQgVifX29qwU1GSaCOKRcqudv51DAtQwA2xc8Z6VasNJW7tHYDMq9qoRyiVghOAKuW+qtYM62z45xmoJkXbd47C0eOS2V5GBXkDjOajsSbbUEuVXIXkp6cVWmvpLnDStuJPaltpQkrtnPGBWciDsbnxibhogqbEB5qsuvW93Nuddy564qg/h+7t9Pi1O8jY2snyLtB69fT0Fdb4C8GxatKpGTBIrA57ckVKTvcaaNXSdM0rU0in8xUyoGzb7fSuhPg/SLiPiVV/4D/9atPSfhfY6WWdn3gsWAz6/hWhN4KsnjLqxUV3U05FcqZzDeCrUf6u5U+nH/1qZ/whDH7jqw/Cteb4fgDMNwM9tx/+tVN/Bt/HkLcWxX0Ln/Ct/ZkaGVJ4HvN37vb+BFB8EX64zbhz2wV/xrQHh/VLZv3f2Z/+BN/hVlLTVwP3kEJx02lv8KXs7aidjEPgq9P+ssyB/vLUMngi7HEVuP0rozdatDwsLD/dUmopNc1lBtFvMSO+yrimToc6vgW/VgVgAOfUUk3g7U1P+rBP4f410CeIdYH37eYDudlWk8UTou6QS5/3RRJdw0OMbwzfJlZ7QMOwGOtQjw0+/wDeWJA/4DXfHxjH5Y371OerAD+tSReKLKb/AFk4H4j/ABqLS6BocRFoEMaZNmPrhacbALxFAB+ArvY9d0p22tPGf95h/jVlrrR2XInh/wC+xSdGT1DQ81Wy3N86Y/KrUWlRtjKjH0Fdi7eHXY7poRzz84/xo+z+GnjP+lwZ9DIP8aydGQaHC3EEcD48tSPoKltLKC5LEMqBRzxXUT6d4TIzJcxH/ckB/rVX+zvCTHEc7D15X/Gl7JlJJGXaaTpotZVnKmQscDb1/StOy0TRjaqZIUB2/MSo/wAKeuieGTyl6B9WWp18O6IU/d6sqhu29eKXs3HY0TRDp8Hh2ykkBjjkOehjHHX2pl/f6Srk29pER7Rj/CpB4R0lX3JrcQJ/6aL/AIU4+ErFj8uuQv8A9tB/hUSUiro5TWLiO8t/LhtFj+b7wAHY1gXFrILUxlMD1r03/hCLeVMR6lBnrkyf/WqnP4Blc4j1G2I/66f/AGNaU+axhON3c8emhlS5wAeB61dgtZrn5UQk/WvR5fhjOW3/AGq3Y+u8/wDxNSWngTVLVsxT22P99v8A4muyMktyOQ8zbTriBv3sZX8RUUsbIpIGW7CvR7n4f6xM5YT255z95v8A4moP+Fd62V4a3b2DN/8AE1j7SRq4HCado89zcCSRCq+uRWv/AGbFaszZ5PSusTwTrkUePKjP03f4VSufButhvmtic/3FY/0pe0b0MZQ0OTunIfiq0krkDYeTXTS+DdTP37KY/RD/AIVEPCd+uFGn3HH/AEzNIz9mzKtLFnj3N1I9alFm0XJrZTQdSjXb9gucf9czVO90q+QcWlyPrHQUqbOZvkfzc44qBIC3atOfTrvHzwvjP8Smq5snX78ePwrogQ6bK7wuI9oO3nOM0M7jCLIdvfk1MYWHCxjHvmrVvZ7vvMV+lEmiVBlWGHDgvwPWrQiVQzq2SOlXxEFUCKNifUimSW820scDH8NYto1UGMhZI13E81LJPHs3FsfhTEhkl4C1JJpzGPMnAWsnuaKJiXjvI+YvmWo4zlcNxV9rbEu7zlKjsDUzy28saxxDDDqa3TshyjdGXOVjg4PNZLzlmwTg10l5p6mNT5yjPbNRppsMRy7qfxq4zRn7NmEssi8EkjHrUEkrs3f866eSwtpV6qR6ZpYtAikOU2j6mm66i7WHy2OZiVhhhkNmultQwtd8jZq5H4egRh5pz/u8irj2ttFHtw+PpXPVxMew+UyvN2kEHioLk+b83XFaj3Vpar8o3VmXM6Tkuvy4rNK42Zk7BetVllDPzxjpUty+T98fnVeOTZJwQc16EFaN2ZMu+aGXaTWjo2nNLcB1+7ms5RJIw24rf0ovAhJ64rnqz6IuMTVuEEEQGccVkSyxiT58SD1IqLU9RcggVmRSNvHncGsacd2zS1kbSmE87QFA9KoXl5tB8leB3q6gJtiQPl9azL26ijhZMfNWlkzDqVEuJZWwck56ZrYhieKEF05NZWmW5kZpD1HQVfWeZ4nEwKgDjim9NCzO1EN53TqapSxhZEJ9as3KBnBJqOQKyjHJ7VrTkBWkwTxSIxRsini1llk4U4+lalrpBK7n7Vs6iKM3552yRVgxYiG4YNXpzDCu1BzWezuzYwfyrF1EKWwiRgnirEMRbnHFPt4GI+6a07XTbiVchcD6GspVDMpIox8oyaeYXaLay4zV8WcscmNnaoZluN3CHA9qycrsCp9g2R8Cqc8bxjOOPrWxGZHTa4wahnsjIuM1aZojHG8gcUhz3rWjtBbqN/NQzKrtlF6Vr7RDZjspL5UVZgt5riRFAOB15rRhsXkOdtadpH5LYKdRjNJ1E0Z9TOvkWztwByaxvNJ5AwK2dZtt0oKtn2rPe0Yx56GlGQ+YgDqepqHJPIHFONs4PFBeUDAxWqkUnclgjRzhqsNEqDC9azjJOBj3qzFM4YbwelTKRRHMfmw3FQMVX7p5qe6mZ5MRrxjmq+zZ8z01JWIZKkjNgsvA71tRSFIlbHy1j2lq0lwDDlg3JroI7V3jZZlwoFQ5oDNvNR2/KOKzjLuJJPWrd9EkL4VBVcNhRkDHbFa05qwEOxic4pCn97gU8lz0FQMXabbTclcaHbtv3OakjR8ZkGKfHb4GTUvXg1EmUOgieSQbOB61ct4XluAGkO0e9QpKsEZqsL8xyEj1rJrmQr2N65lESbVbdWZNduzDaM1TSeW5uBz8venynypBzURhqFx0szsTUYUMPmqF5fnOOmab5hPAraKsMkaJd3FSwptbNVVZlbmraTkRnbwcVMpagI4LzcnCmr1vEkCHe+B1zTLO1MyhphWqtijxtjgYrBy1FcwJ5k84kNuX1qAxStyshI+tPurRkmYDpmmeaVXArVPQL3LFvCXwC2T6VdjtHZhsTNQ2oXyS7HFaFs0hQ7Bx61nKQySSBhEAPlbHSqJtZnf5ycfWoLy4lhmA3ZzRHcyMOTVx2ETN5cJ2kjI9qo30hZhtY9afHDJcXD5PGafcDymCBdxzxVDINPEklztyT+NbU0VsqgO43jqMVStraVV81VwarXEsjSkScHtWfMXylktExwgB98U5fJVcFhu9MVHbxusR8xcDHWhLfLF88ZpphaxDcuB0qjE2ZPar90yqMCssNskrVAW3aNXG44pvm/NheRUTncwJqNn29KpgXdygdqaZgPutiqayF1NIFYt1o5bgXml+UEHJPWkhceYpfoCDVZX/AIfSkeTAOKjlA15LpCPkAH4VXF2wbl8j0rPjmKj5jTjcK5wOtCWoF2S53t8rVLCSHDscj1rOLgLkdajM8hXA6UOIcpvDUSrYQZFV5ryXfgNWVHI4PJo88lsms7BylueeUn5jxVZXw2TxSSzboyarmQmtIxDlLUbB5xz9Ks/a8tsU5x1rMAJywxx60Gfy/lGOepq+W5D3L8l1kYjOTVbe8jHd1qCMxLIDhSfXNXIJlLNgUOFgKUs0m1kXnIxxQY3liXnkdsU+ymhU7pecc1KLhZZz5QwK8Vto1K0Vg0jkv8oA5rc0+4srdT9o+fA+UYxisd2nWZgG4PvWhpEEF9N5Uicjqf8AP1p86UdRNu5NE/2iZmLYizxVv7daW3yopY/U1rJp1ikeEQED2H+FWrC10YSH7RaKx91X/ClGUWWrHMrNFPLg7UPc7s4p11YGOAyC6RwegGM/zrvdE8G6XfrNF9iYbhw/ye3tRrHgrSra3+x2ccovMFg7MuBjn0rflb2CyPMI/wDWsp/DjrVeS1SJj5zZLdEC/rmtNNKu7jU5rGBMzwsR19Dj+lZ91pOqW5aS5BG09c9P1pezktSk0W1/0WzVNmd3Rs9KyPK82+dVbGWIrc0hbS6x/aFywC9uf8K0LDRdNvJbuVZ9gjlYRnHUZ47VaXcdkzlNQtjYRfZ549zdQ+7r+FZbHauV49q2NaLm+ZJZN6gfKax5F3HAqmuxcUraiwvmRWBGR6nFdcnh52srbyplZpGH3VBxyfeuJ2lWww4717R4KvPD66KrS/OUU53jJHP0qkkS0jhbsvp1wbZ5VbaOoArJuZvMmIY7h+VWdfkjn1q7azJ8gPlcmqCQNPPEkfJYVL3FYhcKsmScY608Srsy2c/wjH3q2NY8I6joMUE+qx7UnOCcjjr/AIVL4d0C01aG9e6u/KW3TdEOeThvb2FILGJ53AUoAd2MFqlmv/NhRPJCjHBDZzWlpHhbVNWtp57e1E6xclzjpx6n3rBMTIgDDGO1KyEWYVHrWho8EF1rUMdywijJwX6+vasiJjuqZXaN96k7genp709hGktktvMs0x+SKVfun746n6V6pda7YppNjFphilimiAmiONyEAfxdeufyrg18PGLXLTSpbvekzK28knHIH9a9HtvBWlaJY3E+ozwhPLDJIE5zg+3uKtMDik1e20OS9W401ZxM52bpcbRkc5wc9K4u6uZJLt/3jrA3/LNScCul8RX8d/ar9njhKRcCbZy39e9cfLJMWHAwf7vFXoBEq75CQ21N3JI9K1hf3D6e9uyrLAx2BQwX054rOt7czSxxuSqMTu5qxNaGzglJdgiyHy8HrRcq7J4r2OGxaNI+D09qrNMWO9huPQc9KT7RGbfiPH4UwMGUYrN2JJAxj+br7UPLuXIGPxpF+YYqJzjIqNbjGFiW61Zt7wpG0TLuHY5qlu+alDYOa0iF2WY4/wB6Pm4J9KfJAjSY34/Co0bIz6VOkYdd5PNEgI3tJNuI+cc5qBJXiYq54q9umxhOBVWeAp87cmpuIAR/AfmHP51og28KQTKd0ykEgHGay4znDAYJ4xShSHLE8r2qlIR2uk+M7uK6jj06RrZMYYls5yfcVr6h45uxo9xYyXklxcOQUdW2bfmB7ewrzqOWMKjN8hz/AA8d6mYlWLr8xOME0cwrssT+beW/maheyyFW3bGJOePrWbESzKFP3c4BGKvOHkjDrjHelWyd4vMGFb+HHepKKuHWQg9T71KqSAbHIYfSkEEiyfvmw3atCHT/ADITIZOT2qWhMfbIq2zgygfKf4c1WtDhmVujNw3pitBdHme33pkjvzUd3ptzZna0eBsVl6d6nlJsbs+r3N9p1vpTzM8UThgip944I7dOtdhpEzaB4cYvvsbjB2KWLbuT/wDWrz/RxdQ3O9UJlV/XoK19avdVumWa+lyE+4hJP9fah3UdDOS1PV/AWuy3wL6hqgwDgRtjJ4+tehSfOuRxHjOQc18u6ZrL2d19r+YgADahwM/T8a72w8f6tJayhC2WU7FLH2961o1JIPeR7CIU8oM0jKT0HJqF7EyE5c7fp1qt4Q1Jtc0RJruPa4/xI/pXQeSOgH0rqua8iMT+zMHIkI/D/wCvSSWD4AEpH/Aa2/IpGt80XBwVjnjpchPFx/45/wDXpP7JfcSZ8/8AbP8A+vXQ/ZqPs1VzsjkRzUuiO/P2jA9PL/8Ar1Rm8Plj/ruPTy//AK9dkbYYpn2Ve4pOTe4ezvscE/hgyNzKMehT/wCvUZ8Jt2ZT+H/169ANnE3BXNAtYl/5Zfyo52g9mect4Sn875fT0/8Ar09/C94i8P8Ap/8AXr0P7OhOdu32pWgRqr2ku4uQ8vk8GXsndR/wMf41GPBN8h3Bl49XH+NenfYov9n8qPsUX+yfbFLmbDlPKZvBepMciRB/wIf41GPCGoop5U/8DH+NesNp8R/5Zr+QpP7LhIPyqPwo0Jszx5vC2pq3Uf8AfY/xp40DUYx82T7b69XbSIS38P5UHR7bGCuT7Yo0CzPIJNIvQTlX/BzUIsLxG+9L+Zr2B9EhIOIh09BVX+wYGPKL+QpWQ9TzQWV0Y+Zph9GP+NV5YLmLpcTj/gTf4161Hodqv3kU/gKZL4bsZesa/kP8KNEGp5J/pzRfLezgZ/vH/GoTPeqMfa5/rvP+NerS+DrVl/dgKPTA/wAKz38DQs3BH6f4UWQannK3d+ox9qm+u80q32pxfMt/KMepP+NegHwMnY/yqOTwGDGcfN7cUi7s4ePXNXDcX7mrX9u60Eyt4eP9kGugfwS8Z+WH+VOHhSVYmBjxn6UCdzmh4m1kf8vf/jgoj8X60jkC5U+3lL/hWw3g+cZO3+VRx+D5d28r1+lKyJuykPF2t8kzr/36X/Co/wDhMtYHVoW+saf4Vfm8M3A4VePwqBvClx/DD/KiyHzSKTeMtVP347cj/rin/wATUL+Mb/8AitLdv+2aD/2Wrr+Fr2MZ8j9RVOfw5dfxREfQiqTaFdkJ8WzyD95YW4Psq/8AxNM/t0ucmzjH0wP6Uv8AYE6DiJj9SKjbTp4/+WJ/SobbYrDpNRLL8kCpn/a/+tVJ5pi+4pu9gauDTZ+vln86f9gmA+VGB7EGpsO7K8DS/e2Mv/AaWSWR3CPkIeuRira210BgmT/vqkNjMSC25vqc0WBFS40eyEPnJcsrd12k/wBayUaKOYjBY9sCt6S0eT93sxTLfw/+/OXwV6Cq30ZpfQxZoWb5ngfb2O41EeFw6M3vk12K6bI6mOTG1RxVcaMX6iP/AL5p2QuZnKlVEfy7gc+pqRHAGCzD8TXSPoiBeTGP+A1H/YkPeSP/AL5piephA7/lWVx75NW/sqtDhpWJ9ef8a000WISjayt7gYrRXRo9lZSV9xWOPmsR/DKT/wABqJbNMbXfg9eK7hfD8WMnvTX8MwyHngd+lMz1PP7nT7deQ+arxW1sHO7Ix075rv5vCdoRyx/T/Cqp8JWeTiXZ/X9Kv2krWFbU5y2S23Dkj8DWrCVAIQZU9DVmTw1BF9y4/wA/lTEsRCdvmZA71la5ZQuNPjl5abbn/Zz/AFot9Ht2bMl2GP8AuY/rV+TT1m6SUyXRyjfupT+dD5nsUT/YUEPlpKNv0rKuPDS3D5+1Bef7v/1601sblY+HP501tLunGS7D6NUKEkTyojttEitYgPtAY+y//XpZrBZhtVsDvxUkOlXAUgyv17tT2sLmPpI3507TCxU/4Rjeu7zB+X/16SPw2AedvH+fWlkOoxsQGfGePm/+vUElzqEPJZv++v8A69Ne0WwWLg0XYPlVSaa2lT7Wwdoqmur3a9d351I2tTshzn86PfKshjaAxbc8gP4f/XqePRERsMR+VVTrLBRuz+dSHWH6jpStLqLlTL62EUQ7flU5laOHy0UD3rJXUy/U1Y+3qxqZXFyovRqywkt8x9cU1WVsgqM1XF+pXbULT7Xzng1KuHKiU26ByWbB7DFZV6ZBLiPJ/CtYXMeRuGeKrS3cIl+4PyqryKsipFFLIo8xCeKnS1UOuRjn0qyl5GR0A/Cmtcxbgam8ibA1m6/MknHptqzFF8g3nn6U5b2DywD/ACpweOZPlbFLmktSXFGTfWLzzAp0qhdWs6SFVXdwK6XzIokILc1W+0RbsMAT64p+1kTymFb6VczcldtWx4fXdk/yrWWUH/VtipjID0ak681sNKxjHQEJBHGPb/69RyaOA3/1q2t3+1QU3DO6p9vUHqYB0bGQGxn/AGakh0GMnMr7/bbj+ta5wDyc09RnpT9pNozfPfQrW1lBaIRDCHb1zjFR3Ftdzjase3Pv1q9nYfk696eDKykl8UuaYrTMgaDC6/6Z8rf73/16rHQrZJD5bYHqTn+tatwuR+8kYn61Rxjd8zY+tXCc0VqVbvTYUgJV1z9KxoYFNw24jitiWMshyzY+tU0gjRuQSSa6Yya1Y1chnRfKyGxjtVJpV3ZB/StOa3RjtAPNSDSox1T+VVzorUw5XMnCk/lUKxuX5U/Wuk/syP8AhUA/SnfYEVegzTU1YdrmLtMSjbUc29k3da13stykgdKYLQeWQRTU0gsYeWCj5STViCBpWAIKZPpWtHbxL1QE/SklUgHy4/pR7RIWpT/s8hvv7vwq3FppOMjIp1tbTzMMnH41sQ2Esa5L5/GsJTQa9SrKpjiCQrg/WkDyx2+6RsMe2KvfZged3NVLqFpAUFQpJhp2MW4l8wkA8+tVYovMYLn8cVrJo8hbJq3HpKoNwFaqSD0KENm2BFuyG74q4Q1mu1H3j6YxUjI8QLKOnFQQRTMSJe54qHKIamdPFLcSF1Q4WmEeSmXOPbFdC8kVhalXQEsM9Kw7mVbrO1KpPTQNSCO/CfdFacDwiPzZV3nrz2qrDpqmFTt5xVuW0dbXCp1BquZdWGpHPqGV/cYHtVSG2muboM3IznFRf2ddeZlQQPrWhp9rdwXBeQ/Kwx1pNwexSmye8wNsYIGO1VZpjFb7VT9au3dvGWL+Z81Y91I/IHOKmKd9y+a5FuZuWTP41nyfMdx+X2qy7XAT5R+tRJbSSthxXRG3cBI33ryNo9aikyDxyPWrZtJIztAyDULWt27YjjyKtygtyXJIgXODtOKcHZO4P41eg0K8lUkxH8xTm8O3n/PH9RUe2itg50Z4ch84zn3pZSSRjua0BoF2F+7jHvQuh3bc7Txz1pe0h3DmRlvuHHJ/CkiG1ixzyMdK1Tol2w+7J/30KYNIuUPzI2Pcg0e0guoKSKfTnOfbFNMh7L+tXDZzLwY6WHTJ5pvlXAxS9rAvnRSyx9qeQQuAv45q8dIuRJjbUklmUGChpe0gHMmZYQ7SGOM0gTBOc8e1X/7Olk5jQ5+tW4tDvJ2OxAOKftY9B/Mh0Xw7e+ILqOC0hdgzAMRnjmvcPDnwo0Cx0cRarbm5uXUEksybTj61y3g2K60ODzd6xuSMHn1PpXcHxNG9m4luj57D7wJ4renVp9TkqyknozjPE3w98IaFG89xeeQf4UXc/r/te1ecrFavcSfYFLRDoxB5r0LUtPsL2Qvqt1JdFjnDHIH5is9rDS7QBbeJQp9FA/pWksRQW6IjKb6nlUdvmQ/LxUzRvb4ZDgVc3KrkYxnioZJBKwj4rwZI7i9aWqXcId22sozn1ognayuCIV+ZuC9NtRIWWCIHJrai0tYZFFywAPVvSs3T5iWLY2rzxq27lj2+tW7m0FqgAkbefXFaNtFpOmKWW63ygfdGSP51ovoK6np/2+SXYp5VdvX9fet6WHM3Kxl2cF+lsWt70QQq3DKRk/mKv6Hqd4ZH8xw4QMTK3BIGfwrI0jUBZ6iLK8jZ1LgBc8DpVnWrW4iQyw/J5mVRYzuznjtXXy2NOY09LvdPtPEA1SzuQZpWIkBI5PJ/rTpZbrUY7tZ0URSPweePlxXC6Pp93LrH2O73QRo7HzDwM8/T0rqfDk/m3kkF3KzxRdNoznp6fWnzc2gnLQyP+EKmuhO9rtKrySc+/tXNT6QI7W5VpwGjYjAPfNemapqcNlaSRQFo0l+UnBz/AJ5ryjWplinnSKUsCxyc9eahqxpB3MaWR2yAeVPWp4IpZHJ8vKoMs3PpVeSRPMIUcFufpXpngvwV9q0JtRupAIZuMEdgSPWklc0k7HmkzAyZUY7g06BmHyg8elaniW2tLTWZoLMgrGxXj2JrNhHzCpegJ3JmkZUbrg4Bq7ZbbX51b94RlG/u10ngnwtH4iuJraZljLgbd3H973FZvizw7J4b1aaz3b/L4BH1I9T6Uhl+58VS6roAstVb7TNv+QnsMH0+tcgszRtNxtYsAhPYZ5rWudNns7eO7mCriQLjcOnX+lZtzbK1wGRt467cYHPvQB0Wk+JZtF0OeHTp5Y7iUYYooORxxz9KzdHsbfVXeCaVYCqkg5/x+tdn8OPC+n6pcSteyrwv3SM+nvXOaxpC6ZdXEtudq542t7UEFK60NLC0kmdsgHCN/e5rGV2WQODgsMEf0rbvtZa40eGzlTLKcg59wfSsyO1N7NtQgMOD9aiTAEvJBJuR8SLyn17Uk81xNJ++kLMeTStpksN0qEM7MQBtGea3o9FXTdHlubxW89h8qMpDfl+NNMDFt/36nZG3HylsdfaoLyJ4MGSLKds5rR0/VUtbUwNCNzNu57cD29qpX08t9IAxCoDxjvVXApJuyEUbN3PFXftl1dw/ZdplWE8cdO1NktZFWNzG6qvQspGadBcvAH+zpln6nFFwGHmNYQrMcHcwHShbfdMFiwQMDJPrW94d1K3stOvUuYEkluIXVCxHykjHpWHsYXBYnBDZwD1BNSncC7NpFzbTgHy2DDPBOP5VVa1R5BnjacME5BrVs9QtLTUxHdbpLQj52JOR/WtC5ttD1UO+nXH2aOLswJLcZzyRV20A4q6h8mZgp4zxmo2yGIqS6hH2mZVl3hW+UkYzzUPPVhimhkqOR34q2snyDBqmtSk7U4okI1I5dsI3Go3UvzniqYlLRADsc1NFcdjUAJJEgbO4q49KilICnYCXPU1dIBTcFyTU8Vk8kXmKoNTcky1j3FAWIAOc1bSQSMQC42dwK2Nbv7Q2cVvBY+XL3Pf+VZ2n2r319Db27bXkODlfancBSh+yiWeIrGz4KAdBilskdJ8HPlRDcrY6jqRXW694XOj2ohefzJ1XfKAv3RyPU96u3mnaRY2Ra3bzCVDMpBBXA6de9MowtN8Of8JTfolpwWBJPpgE+/pWlp/w71i7vprW3UL5X3i27k8e3vRoGu2+iW11PaYWV2+QE8rz/ga2LPxBrPiB92ml4JA2WKLnP6D1FNDR0Vp8NdXXS7YowjZpArg56bj/ALNR+IfD2pW9s1k1l9puGAWKbDZQIQT0HoK7G58UCwtYPt0u94ImcxxnkkcjOOlTWfjR9TubSaDSyqyoVDOc87eeq07Dscf4W8DXOrQpfMQj3C8o2RhTj2qtquitpuoj7RAZVQ4AUE56V7LodtIloFmRUT7qhQBt/KkvNAtryeKVkGI2ycjO7n/61Vy3Qcp4wfA897bi8toWj8+QkIQcjv6e9dF4W8KX76wGl3Ri2HzEg84I9vevVI7aBMbUXA4UAdKlWOOIsI1Ck/eI71FuUOQitbSGzgEVugRe4HrUx5IJ7UUVrcuwtFFJTuJoWmknNLTT1ouTYXJpNtGaN1Fx7CBcUtGc0UXC4daMCiii4+W+om1fSkZF2ninUYzRcOVEOwelOVOuKk20q8VdyeUj8qmtHk81Pmmk80XFyog8hfSjyQe1T5pM0XHyormADlRg0nlGrOc0UXDlRTe2LGm/ZMVcK56GjZ70XFyori3A7UvlEdKsfhS/hVCsUZIm7VA6SjGD+da23PakKIPvLn8cUCa0MsF9uG2kfWm+U2c7QV7CtMxIf+Wf61G0CrzkgegoJsZzW7P91Av51H/Z8q9CBWmscUn3ZMUrWwHWWgLGUba6H3WpUhuN3zru/OtH7L6S1H5TK3+sz9KAsRrZlxygA9OaZLpVsfvoKtcjqxz9KjlkcLkcj1qWFikdFsT1wPxqN9C05gR5oBPvV8JvXcSCPY0wwRehzSW4WMxvD2mngzDP1qF/CVrKQYZhx71qtaJ15qNmWLhcitbEvQyX8FB/+W4/P/61RN4LljbdFICfXP8A9atsXir1f9af9qRlyJsfjSaJTMH/AIRq+6F9wH1/wqVPDt76/nn/AArRlupQf3cw/MUi392o++r/APAhSKMufwveTLtYR+vU/wCFZk/hC9DcKhH1P+FdG+s3kfIgB/4GP8Khk8VXUK/NZq3/AAMf4VaWgjAh8Kzqcy2pY+qgkVdGgbVw1rIP+AmrP/Ccy85tFXnpvH/xNC+O48/vLT/x7/7GoaAgXRlPDoQPcUjaOij5HOfSrY8b2snBtv8AP5VZi8SabL9+ILn3/wDrVAWMR9DaQfKRn0JqrP4XuZF4t1fHQ/N/hXVjUdHm6SbT9TUg+xv9y+Cj8/60IEjzu48K6pn5LUY+jf4VnzeFNXJINkceoVv8K9Rls42GU1NR+H/16pPp0zMfL1VfptH+NVYqyPLZPD+pW7YNpN+CH/Co20rVIj/x7zf98H/CvVfsN1EMtcpJj/YH+NQNqj2/EtsH+if/AFqa0EzzmK11EjBSVPdkxVhI9Tj+7Kq/73H9K706xCy5Npj/ALZ//WqpcataH79mT9EI/pTEcrFLqiof30JOf7x/wp4uNWPV4G+rH/Ct0app2DnTZG98sP6VVudW0xf+YdMPoW/wo0KsUFku+s9tA/vlqgund1OLSD/vpqnm1HSZVP8Aotyp+r/4VlT3Ol7iNlwvuWejQLEUqS9TaRgexaqzFCCr2uD/ALAJq5HPpbHaWk/Fmq7BY6ZLkqSf+2ho0EcxLbeYeLSQj/dNV5rfYuGgK+xBrtH0q0x+7I/7+/8A16qy6RaOvzzEN3HJ/XNGjA5S2jtM/vkNX0Oj/wDPNv0/xrS/4R2Fz+7lyP8Ad/8Ar1FN4at4h/x8kf8AAP8A69Q4gV2/sfb8qOD+H+NREWLnCsce+KRtJt0b/j7/APHf/r1GbKBG/wBfu/DH9azsBYFtaY5kA+hprWlgTlpefqKdFb2rLh7gxn02bv61J/ZVlJydQ2/WP/69KwEDWGn4yLlBn/aFMGj2Mp4vUH/AhV//AIR/T3QZ1JQcf3f/ALKqk2h2ceQmpg/Qf/ZVXKOxLFomnAfvLyNv+BirA0vTtuI7pOP9oVkjSrcNzqP/AI7/APXq7a6Va5ONQ6j+7/8AXo5V1BoJdMtDkmdGP+9VQ6dbs2PtIX2yK0n8ORyn5NUQfUD/AOKpf+EMmYbo9VhK9s7f/iqfuE2M9dHiP3b6IfVx/hTP7Llf/V3Cj8f/AK1X28GXn8OoQH/gaj/2aok8NanEvFzEf+2q/wCNK0AsU3064iXJuVPtn/61Rslwi/6xT+NTzaHqatmWZCns4/xqF7G4iX5iD/wIUcsAsVjLMD8z4PtUsNzL/wA9TVWZXB+bg/WolLA9alxXQRtQl3b7w571a+xu/JdR9TWBFKwb75FWvPkx/rCRS5Q0NN7GTHySxn/gVQjTrlydpT8Cf8KzXuZF+4W/76qBr+6H/LQr+OafLYvlRsNpt2w2gr+v+FRLoeobvlVWA6df8Kxm1C5Tn7Q1Oh1u/EuFmbbVJX0E4o220jUl5MSk/j/hSPaXQ/gH61mza9fqv+sY/hUX9t3TfxGnyCsaJgulP+rH61GbG+kbIj4+hql/alyeSxq3DrM6rik4lJEw0+4C4aI8+gNMOmzdrd/++TTv7ZuM8H9KmTxDKn3iPyH+FLlHYrnTrhR/x7P/AN8mo2imQH/R5f8AvmtIeKCAOFP4D/CgeKyzbfIQg8dB/hQ4j5UUYVk/jgZfwNXrSEPKUclQwpH8RKTgwqPy/wAKa2tpgbYhknqD0/SsnFjUVfU0RotsWIEmCB1zWRqXlaf8wyead/a8jPgcH1zUVxdLdxjeowD3NNQL9wgXXYQBlCP8/Wmz67AsPlwxneeM/wCTVSd4vMCLGMetQOyZVggyDVuNiWovY3bC3nvNpmGxG5yavzabhwVbcQOKwU1SVAmD8g7Cra6y+4YzWTiTyokudNe4DeZ1HAqTT/C8snKID+f+FU5tUlfJ6YqzZ+Jbq2T5MfmP8KXJK2gcqL50K5jkCLAfl4OAannsbiNUX7Mx59DVOLxreB8mNT+I/wAKml8a3MuMxJ+Y/wAK55RmPlRKbJ2XEkez86guNKnePCDIzx1qN/EbS8yKM+3/AOqoX8QyNhV4Gf8APapUKiNGoIqnwrcSMWkIH5/4U1fDQhOZGDD0zVyTW2YYLGom1Rfulsj1zWl5pGUrdCWLQFuV2xIg/E1BdeHTHKCgUfnVi31SBP8AlqVqzLqtsXH70H8ahzqIgox6bFHjzkU0rSw2p+RcVbe8tJBw4z9aik+yOvJU/jU+0n1MpxbZCNXQjavB9ajk1Fk+YuSPTilEVpzjH50eVan7xGPrVqUmRysadbXyxtU571SfVrs5EKNzx0rUSCxGMAZ+tTqlsBwFp6GnIZdpe3R4ljz9RWhGSctKm0EcU9hCW+UgU/KFcMcik2raByFcpbs3Kg09FhjYsgwcdKUeSW4py+T5uRz7VnzMXKyj5k0l0dqnH0q+kIdf3qBjUhUHmJcUnlCNx85NRKchcjew5F8kFhGAB9ahOoRhWGQG+tW5DH5JXJ5HpVS206zk3PLJg++f8a0hKTD2cxgnMiDfwO1QyXMUIO3AqeaGEZEcq4HvVCSyWRj+9X8//r1ShNyuTKjJq5Ml9CygEgn0zQbgj/VKMVW+yWcX3pRuHXn/AOvVmFICvyvkVs1bcUKEjgZW81gV5PampbSecGKDNQwrIBnI4q07um1mJpHWSWtzd2mpByny9v1961r6S4uLMnJG488+1ZSz72HmbuOmBWtYyz28bvcoXiYfKFGTVR3E0PsNCur60klticIAS2fr/hXYeEmvr947OaQmGIbTyewxR4Div7qznjSMLDJkAtkf3q7vw14cTT0lLEF2Yng1309jJowf+ET0+HXmJLSMTuG7B9PatvRtFtpbe4e5gQ+QwMfyjqScfyFdDcxMzE2qAz4xls4zVSC8vF1qO3azdQOXfadpIHHNXEzscfeXegzPPDeWogeOdxKQo5Pft61gaW9rbqXsrdTk7sgAZr10+H7K8kumuIVP2iVnkySDknPH41xx8N6N4egE85JVzzk9Pbr7VL3Cxg+MdBn1fSobjTIQjbCXxgen+Brw/UIngu5Yrn76uVb6g167r2tyafod7JAUWJziPJ5xk/414xe3JupjK38Rya5pbnbTWg1YS8qLGMljgD1rudbvNZ8M2NrpEd8wWaLzBtdvlyA2Ov8AtVwonwymMkEHOcVPLcyXLnzHaQkAZYYx+VDdjVRuRyO80rmZiZGJJYn7xpEkaOZd3IBpsjBmRW4CjGakUFHOcFfai7YWSO38N6zHHIs8N3HBJDjgq2e/p9Kh8RaydS1SaWVllZx97B9Se9ccXfARcbc5JWp3nUqY2UEYwDUNO5m0rmvJqe+xzOfPU9FbnH51mlwrjkqG5Cg4xVMK0cmAcP6dqtLI6RtsUg8ZYj+VFncTR6r8P9J1j+wp7nS7NZxP0d8Ep90+ori9USOxuntb6+kmmQ/vQGOM/j7Gk0jx1r2g6bLa2lzthlGWGBx09vasK51F7nrEqNjl+fm960vZCRd1G4sZXijtUCsFPzY9hS/2XeWdnDdAqqSgMGHcEVSsr77NNvkhWTjGecdKjluDNKzmMEE7gF6AelYtalvYtx6tNb3CusillkUhjniuivfEsusR+ZcQxOyIqiQLzwMdz7VzMbyLAwZQm/otRAmJlI3EDOVI4osSW9Q065itft00BWF/uupAJPWtPwXBpEurSrqiSSwwp5gUkEZGD3FYct5NLa7JDtiHBQ1VSZ4Fk2FVP3WOe1NIZ3/jTxDpOq6VFb6TbJbmElSdgBwCPT6GuISfauy3ILHqcVpWHh4Xtm12uZQACQOaqyPa+QUSHyhGcMG4Y/hTsIrTHy364qMOonRjIW56GpSVVi0pGFPQmnssci5CoQB0zyalIq5LPbvcM5QqW+lWNHtvN1W3tJREonlSNyV7EgH9DV7Q7XSorCVdUt7truX5o1hjBwOOuSPQ1Wm0V7C6RoxIuSG+ZeRW0UFzsvEHw4t7HTJdV3KbONVG5QOuQPT1NeZXio8zeQcx5+U+or1/Q9a1jVPh3daCoMsZfOAvzMN+eMDnpXmN9YnTryW2uVaNlJAVxg0SQXMbJyB71OgyKWW3kWQb0ZN33SwxmiPAYqeopRVh3uCIdxwcU9VKHJ5oOHxj1qzC8ajDcH3qZGcia13SxgIMDnNSpdvB5SISE3c81DOvlSKVcKXH4YqzbLIkK4CMinLNnis+XULnUQaf/bWsQwQLbmaQBQfL9cCl1/wbf+DpEu7lgCx3Dy+CP85qvYlJl+3QzLb3UPIXPJI6YB+gr0HwjfWHim3Fhr93I99n90nygEDk+/QVoohc8tt/FU9xqklxdym7WVdjpKS29c55zXX+HzaapozXssKGU5MhdQTgEgfoK1PFHguO78RpbWdgotftG2aWLczBcHp29K5nX/C0uhx+bDexuGYAwq2WUd+MVfKTcbceHYruyvL61jAjVscADndV/wAO6mNN8OtHDOYL4nG4Eg5wO4qvo0st3pr6ePNW2Yjc6LnnOf5gV3tv8H7e90u1O9t5w5c/xcfSmoiuU9MOnW+nPf6y8s10yEMxbO4c8cj0AFdt8O9Ss9YsWi8lVEcjeSHUHav/AOoU+38H/ZNBuLK7wwRCYsZyTgnn8TWV4X0Ex6oJUtV2RkiQNnPQjinYuLPSjNBbowWUtgbmB6N7VDY6rb3u4QmVo1OCxbhPpXM6z4Xmktmh0d1jWUZJkOMH24PtWxoVpPpNhDbvLu253hejck/1osXz2N5lAxjGCAQfX3puKgM+WJ6DPA9KTzqLC9oWMCjHpUHmUeae1Fh3J8NRg96g85qDMe9FguT4ppHNQCfPrQZeaLBcnxS8VW82mecaLBcucUcVT840ecaLBcucUcVT8/HXNHn/AFq0iHUsyzlqVd24VS+0tR9paiwKoaGDQQTWf9qenLcuajlLuXdpo4HWqf2iSjzj360WE2XOKZxVX7QPejzDRYm5bXGaRsVWWQk0M5qkguWAUH3qXdHVJm55ppkA9adguX/MFIZQBms7zzSGYniiwvaGj9oFHnqfvVm7jSM+PvHFFhObasjTNxGKoatfCCwkmjkCsvA6+hrGn1uzjvvsrzBX9SRj+ftUGpy2t3AsPmRMG6sG60hRczV0uVZLQTSShi5z0NX2uIj94E1xUc6afEYQgf028imf8JHbQN5c0Iz7f/rpe71NPfaOxeRW+7IQPSqcrspytwV+hNY0SRXiiW3wCfQ5NTSxrbQl5mAA9eK0i4HP79yzPd3CruS6Y9vvGsu81W+i/dI5YN7n/Gs2bX7H7UYzvAA6gDGc/WltZbS8mYNNtYDIyQKqVSLXKjaMJbs2Ib6SOz2LJJv6n5u9Qtq2oHdsYnjAyT/jVSyt7hL4ebMfLkJCfh/kVrtYlc/Mpw2Mg1lRi7tmVRpOxUGt6lGnzLn8f/r1AdfvcnfCD/n61daBi22CVJT/ALDZxUE9ncNgH9K3uRYrDWZnb5rdfy/+vTpLxXXcwZCewPSlGnzZ53flUhtCFwd2fpRcNioLmI9ZpB/wKpoyAPlmk/76pwtcHlSauRWwReQ35UXFzMy7iaVlKieQd/vGsmW5lViDNIf+BGuimtDIxADY+lZ81kY88MT9KpPQW5hBndyQ7fiakMDuv3qtG1LSZdTntxU32Q7eA35VDYrGeEKU1y78Lwa02tiAOKVLUFemDWVjTmMJhPG/3j+dWkvZo05OT25q3LYFm4pDp7hRsUk/SmlqLmuZk2q36ngnH1/+vUS69fRchyPxP+NaElpddDHx9DWVd2cnnMCMH/61WInPjDUE43n8z/jQfG96vQKfz/xrO+wkfeqhdQJu4TH0qkB0SeOL1j88MePcH/GnHxrL/FDD/wB8H/GuaitwvzAkdqn+yeZ/HUM0ibg8aSn7kMOP9w/41DL4tmk/5Yw/98f/AF6xmtfL+VSeeaj+zSjq1IlrU1x4okOQYYP++P8A69UrnXDJkmCEj0CVXNuWXjdn6VRuIpVBAJz24oKTGz6nvk4gVPoKcuoS7R5blfXBNVBFIW+cg1bW3wmRigoDqdyP+WzfmaibUrxm4uJAPZjSNCzdFqJ42C4GQfYUAWE1q9h6XMn/AH2adJrF7J/rJSfxP+NUUtpH6k0z7M6n7wNAF77U7j5vWnvJkCqyKxUA4q0sJZR0rOW4D1b5c1HK5NT/AChdp61GYu5IxUgQSsfLH0qrv5q3LtK4qo2BVgJ5nzVOsj7fkOKg8s9cVOi/LyDQApmmH8X6017m4C8TuvsGNNePPt9ahdcDG78qAHC+ugf+PmT/AL7NOW+uR/y8yf8AfZqBVXuzU3y/9ugC9/aFwVw1w5HuxpGvJSv+ub8zVRYWZsA7vapPKIXlaAATs2d7lj70F81E0bAjAwKQZHUVXQHoiwhqwG+U1UUkAHBq1KjW+0SAnPdayZHLcikeq7Nmp3dTj3quXV87MnaxBpI0sQyVGj7ZKmdSR6VDt5961iKxO0+RUStg00qR1phOKoC2JMjFToflrPRvmyelXEOV4GaTXUuOxJvw2KVl3io0BZ8YIPXmrKW88qZjidh6hawlNIfNYrLCTn5uM0yOCbfiM8ngc1rQ6BfSruWFuefun/Cr1rpptMmYFZByueOayVeL2Iuc60ckTYn61PFgjjpTtVcvcYcjOexqJPljFaqTY7k+BQ3+rqDzPepQ2Y6ErsCq33qYqipGHNRDIrR7DJkQZqdVFVkJ3VMr4OKkB8qgRmq6gbTUsoZkwCKg8t1GMj86ACPlyKsmMbSfSq0YIbtmpssSBkc0AOXpSfxU4KVHOKbjBzQArfdqHHGamJyuKZjC4NAFdjioQ+DU0kZJ4IqNo8HFACGZtvynBpFmm/vn86a8ZHBIpAmO9JoCylxKOpzUod3qtHhe/wCdXbeGSX7hX8TSsIY8zqvJ2heMipYZ8wsyyMTg4ya1LTS79omC28TA9GJbn9KvN4SN1afvt0cnbYMj9aRSgc95svl7mk5+ppq6hIq8OzY6jNXz4Ukspv3jhk9j/wDWqaTSISoC5QNwSKmbtFmqgipbSPNG00btwOmaZa3Fw8rsqnqRnNaV54bjs7NXtbsfN1BIzUP9jTxWfmRXABIzgn/61YR9409noN+1zxKTI7j/AIFTRqpHesuRpzmKWQ59aRoZAPuN+VbezOWULM1xrHrz7ULfpNGQ3y1hmNycFWA9cURRunAyauNMFobaWK3YHlzEevNWJPDUq2+5Jz09ag0tGbquMEV0TNttdu4Zx610U6eopVLHGXGkzoOXJx3zU1nE0SEFqvXhfkdvas7y2JPWprUyYVDjvPCOCOgNaEQS7QMeMVmJak8jn61atldEYHj6V5/MizVS0R4wF6+tb3h6xhmuBHczgqP4SPp71zdjdvCwD42e9dHpsSXeoFLPjjr36irg76j6HrPh62sbW3RLSRcjqv510VswM/AAHsa5bQvDv2bSVkaabzm+8d/uasaRNcQeJPsKu8sZyT5jZPf/AArvpvQho6RXNvIWuHXc7YXippm3yZUYxgk4qG+Npd3saMNpiIYbePz/ADqxb5a/lQ4aPauB744q4tIzC1mjnLzeaoMcjKwJrh/Euh3WtaimyX/QlYbgpzz+fpV670jUjqd/FBceUruXABI6tWVLqM3gzSby71G5M6KSArksM7c/0pPuC3PKfisw0+7g02F8oBkgH2U15y65XitrxJr83iDXJtQkRSpJAXHAGMevtWKXyMj7ormludsNENVCTgdamRWiPzc1GCAFPTJrqtB8KzaxIvkEt06mrUOYHKxjW2mXGoSBbeIknqcV6T4P+E8epBjqEzZx93Yfb/aru/BvgGKxKteQKzeWDyAefyr0e20u0sm328Kox9FAraMUtzmnNnk+jfCPSrfVJo7qFnhGNpJI9feupX4VeFPs5xYkv/vN/jXciJTyQM+tL5YzxkfSq5YkXkea3nwt8K6Vam6ltN3lA5zK3J6+vtVfTPCnh7X/AA3I9vp8cLI7Lv8AM3HqQOOPSvQtZ0ldX0mW26CQ5JHXoR/Wuc8PeGpNJkNhGSsL7iSTznk/1o5YjuzwjxR4Un0y+kgij3xFiAQOnJ/wrmJbCeED7SuE7V7r4s0K/sLp/s4+0B2LAy/Njk147rH2m3vDbXXDkcBuRXFVdmWpIxim4Yj/ANX3qxb6Rc3sscEIZFcZDYzU1ppk11ewwQMC8rYx2r0yztk0WzRTY/abizfE2AMAAY7+9OKujRvQ8ljWZfmlyeNmCOmauLpV3LZG7+7Gh7jrW7NaxX7XEmxbd7dSZYwMds8fhUd3dTT6bDYWrR+U5G7aCGHI71XKxXOdmgacKxBx/sin2mj3l2xdLaQxMM52n6V6VoHhzT7VB9pUz7ohgNg8/iK9F8P2ml6jpctnY2UcQjgcoWQbifqPrVKDsLmR86rPe6cGhg3qckMN2BVE+ZJcFfL3O3X5q9H1zw+0Iu5r9EijMhWBlHLENg5/SqVlommwaG99OyG4jfBjK5JGB7epo5Q5kczb6fNPHHa/ZCZ5Dwxf3x/WpG02fTb5EucBs8KEzW1qeqwf22p0jMawrkk9ex7VjrNf3OphpzJcPMzbBu/xqETc6WK3trsrdx3CrcxjDx4xx+fqa6q60G1g8SW2pahJGdNuNsar5g4yQCevsa5lPBd+NMGoJOoZm2NHzuIxnr+NczrN7fCT7HPdTmKPlFMh+U9f61qrIE7nvmh+FbSz1C1vrS+ihtczfLgNkFSB/F71xHxD8Cm5hn1GPUoZJYzkKsa5Yc/7XvXGaB4mvwRBPeXJVFwi+acdD2rUfWStuZJJpJJHTDLIxK/lSbRVmcRd3s17HEJwAY8jhPes+VGjbd/erp7Sys57eRpJGErZ2op4z27VjXcZDvG+N0Z4UdagpbFUKyKp7seKsRLIy+WYt8jHANa2gaT/AG4JD9yOFdzevbp+dRTWt9ot0IpoTl2GxmOePzpSiyG0aVr4Zmu4IRezJE3B2nHTt3rvNM07RraFtLmtfPbbneM/T+nrXmkupXE9xw77lCjcW6Yr0vwxZXS2R1KWUOrptGM5zwacbGdyzo/w0uJdOa4gl4Ynho+ep9WpPCWkr4T8UXdzq06qY8mNXUAnIYcc+9eseFCseiASuZdrZyeWHJ71ieMPh7/wk98LtJSvy8c//WrZJDsyho2reZcza1bxG4tN5ZgOfQ+lcpJBceM9Wn+xWH7syL1k24XGG6gelen+EfCkfhnRzp+9pIm6q5yDwB6e1aFpoVlYXHm2cKwse8YC5/IVWguVnGXngTTNG8MLNZxSJLwZBlj82Rnv61z1z4k8RWUsElvdP9mXA2eT0HPevZZYllhMcvzIeqnkGs86Dp72zwtApR/9kZH04pOwuVieH9ZGs6XHNcLl8c8Y7n29qu2lt9lllZEH7056dOaj0/TrfTbcQWy4TOecZ65/rV1Ttzzn60i1cVwVjCnnmo6UjA+8Tz3NJQVoNOe1HNOzRmgNA5peaXNKDQA3mlAJBzTqM0wGKvzUpXmnDikLc0AN203bT91NzQK4m2jbTgaWgLkZXmk21JwaMCndCsmR+XR5dODn2p+aNB2IvLpVTFSUn0pBcbtoK07mlxmkJsg281Jtp2ylHNMQ1Rg0jVKVGKYwpqwiLGaYy1KTjimnmnoMg20Beal2UBOaNB8qGbacq/K3AP1p+00bal7Ba2qKD6PZTSfaJ4AW+tVtR061SIeTCRt9zWseI9nbNMmBmB3cA+lTYamzEt9IWeIs3GRgZqhL4Kt523XE5z7A/wBDXSCMom0ZxTlyvYH6iolC5oquhh2/hW2t/wDV3cq49m/xp1z4ZF7HtF4+B6g/41skMTz09KeWJGMAfSmoIz53c4uXwD5jnbc7cDrsz/7NUa+BrgXTyLeFdqnjy/8A7Ku5UFlxkj6UsgO4tkjIwcGkqaTbLVSXU4b+zNbaVEtJ0kMWQOFH9fasPWdE8dzRyiKXYjHom3P6GvTre1jt5mliXDN1q55jAA55Heqi5xehMowlqcR8OvDtxpmksdVnlku2P8YPHX3+ldmdOj3Elwcgdv8A69TJKAD8qnPcijcuOgqzMh/s+L+/+lL/AGfDjsfwqXcPQUcH1FA9OpWOnw+1KNLjx/rB+X/16n2j1NO4oC0Sg+lKxwsgz9P/AK9VptCLf8tR+X/161igJzyPpTWX3P5076CaXQxV8OcbtwPPp/8AXpDozDgY/KtglhwGOPrSKzL3J+tS7isZC6S38UYobR2ZsbMD1rWaRz/ER9DSpI4I5z9arQOVGK2i7W6Z/ClOlHjCn8q3N59BThIT2A+lPQHFdDnZ9IJT5UOfpWPceGZ5XZwOvt/9eu73H1NI3PJouTys84k8K3PYfp/9eqE/hKZm+6fy/wDr16kwHpUbGM/wL+VNMOVnlx8KTLF909fT/wCvUa+GLoN904+n/wBevUT5Z42L+VKBERjy1/Kk9SkrHmq+G5scoSfpUM/h6cdEP5V6eVhT+AflTWSB+qL+VKxTPLP+EfmH8D/karS+Gp3PCPn6GvWxFbngrSGK2U525+tFjOzPE5/Dl1HJ9w/lUn9gXQhyEb8q9ems7KVtzJz7Af4Ui2lnjGzj6CixdzxiPTL0EqYGx9Khn0y8VyBC35V7gLOyC48lf++RUD2GmlirRjP0H+FFmFzxJbG8H/LFvypqabO3WJvyr20aRYN91F/If4VH/YlgvSMfkP8ACnysLnjg0+VR/qm/KpY7WUceU35V622i2B6oB+A/woXQbEnKKv5D/Cs5RdwueUfYXLjMbDj0qJ7ZvM27D+Veuv4ftmYMVUYGOAP8Kpv4atPM3gDP0H+FLkYXPKZdPcZPlt+VUpbUjI2EfhXskvh+BowDGMnoQBVK68GxZTy0DMxx0FNJsVzyRbdjxz+VTR27jIAJx7V6iPBUcTZkjXPsBUR8IK0oKxgL324puLW47nmEkcnRlIH0qu8TAcHj6V6DrnhqRdLlktEBlToDjpg1zui/YJLdYNTULKCQxx7n61k5xRVmc8ox1x+VLsPt+Vdo2h6c7Zt9jr2+X/61A0O2PWAJ9QKcWpbAlc4vawzg9vSiJJJI25/Suq1TSobXT5JYYVLKODgVB4esVvNPeS4gIfP8OMdqtqw+VnNKrY55prKfSuyPh+3J/iX8R/hVebQYQ21HOff/APVS5lYJRbVkctEByOSc5xirUl87QgPDkHjP+RW+fDwiUOgUsR6VlahYSxT28HTfIAKhl01ZalJlLINsXNUJ0n0+bLRHbLyK71/C0x09buzJZFHzhj3/AM5rHuxNdxBbi3UmPgbBjj8aiLK5TntvmJu6GoNmH5raTSZZEMiowUdsimRaUZ3Jww/GtkyJIyHWoHjNbc2lOrYAJ/Gq81kU/hNVcnlZnxRZIyMirm7y1AUc1Ys4Y1mUyDjpzWrcaGJwj2rckdKzqStG5ai1Eg0vSp72QoVwrLjd6V2OmWNvoWngXJWU5yQR7/j60mm6f/Z+nE3cm2QtlQvesbxdPcQ2IaAFjIMcH6f414M8R7SfLE5pO70H+IvFyW2fsmyNSeMY4H5VlWWqLqsZZpgWxwK4S8ivgG+0B3ycgM2eKXRZnjvFkidlSNgxXPBwa6Y0rK6Y7M7m80Qyx+dnn/PvVBrSSOP7hYfStJPE1jJEsUzEHHartlq1iYHzsZR/eXJpxqVIySew9jlN22TDoRU+QV+XpWxLbQ6kHltEAVRnpWU0JXPGADivQhUjY0WpVeo6szIirkE5qHy2ZcopH1NXcb0GqcNTg3zUgjcDJ7UqIzN0NJNMVx8jHjFQsxq08P7vI61XKMQeKuw9yJWO41JuO4fWkiid3I4HNSvEUYBuee1RcB+SVqMMdxBqX5gMAY+tQsh3ZLDJpiTuO3UhJNOMTD3pyxnZyMGgqxXbNQvnzKtOpFQSdcgc0XCxDISGFN3UrFmb5xgetMO3PWndIQ7ecj5c1ahmdOh21WAAwVY1MjFuAoNMC79vmWLKzSfgxqxBqdz5PM0mf981l7XyRtOKnRikeORis9bhqi+NSuG+9KT9aVtSnIAZgRntis0s78jke9Nd8jGApz1Aqd3ylxnrY2JbszQj5ySPelXUGeHy8/MBislJSq4XmnxM6Z9c55qWlE6OfQeYy05MtWP7TnHG1MD/AGB/hUKuc5bmkZwad2YS8yV9TlKkFEPttA/pRDqDbuYE/T/CqjkUfKBletaJsyZ0FrqQB2tCvPp/+qr8lwDFuCfrXO2kmOvWtUPiDcWb866Kbe5DV0QXVwpXlcVRW4X0p1w/mbjVJW+Yg1FaQRikc9bglcirlrBvDFqgshuYIe5xWtBCURgozXkzmkPmITbxuqoOua1fDtwun6lAo+87AfqKoCHnJJzntUoZ474SwLkjp7VFOslLUOY9lt5bt7iMJ91gMDFZF1rV1ofi55HQ4APb3NL4U8VI0Mcd/CyyR9H656+1dFp02maprk09xslc52hkwOpr1Y1YyWgcxo2Wr2dzbveyR4yP8966G3W3Ci5hX74XFY622n3VhNa24EKsepHTitS0tvssT+XMHjjQZJ6DA+tavQlamH4v1u18NaLe6jLKiz4G0MwH8Q/xr5a8WeMtQ8U3Ia6kCxqOFGOf85rs/jJ43fXdbfR4sCG3YqWVvvYYjnj2ryiQ5ckce1Z813Y2jC2ogZlBYHHbFIQRhhk+v1puDU6AmFtqDGPm+bmkldm+yOw+GnhxPEHiQPcAeXB+8wcgcFf8a+idIi06z1EWdqse/aPutnt9a5j4M+GtOm8JwXtsVMzyAPzzjP19hXZaF4bNnq91cTEn5/kJ/H3rdrlOSo23obsEQidt3XGKnVdwJqUxgkP3IxijbilccbdSIDNLipNtG2i5ViCWFWkBVsCnGJBz1qXb7UAKPvDj2pOWgJalWS2idl81fu+teEeOfh3q2ra1cX1tgR7cLnPoPb2r3fUJI7aylll/DL47147d/ESKDWIYJkZYkcFvnLAjPPanGMZK7M52voc1efD+Tw14Wtr2bcb12+QAH+8Pb3rV8PeI3sbGazljaG9kO6YyDG7pz+Y9K9LuVsPGGhW72j/JEQ4+XPcH2/u15trXhx/EnjOQQXsdmkZKEhBk4J4xketQ1Zjjfqcz4s8TWmqX3mWcKp9rXy5XJ4yePX0rG0+GGa8iNvGFlhPIU58z6flXr198GLK0tTLG/mXCRlxGBkEj33YrzGPw5rWj6hPqQsX8i1lyw9Rk0Fm1P4nks9UTyrKaK6aMRrFImO5OfWrtn4juRbfZUtpJL5VJlCJnav8AkjtV/TbfTPiBfJqTbbJ4oAMFsc5z/s/3qk8D+Ermz8W3d603nwPGV5G7+77n0rRbEvcy4rC41vz7SwlDmJfNaJ+CGYEnAAPoa8+ub6bStQltbm3Kp1kVgQ3XHA/Cvcb3wNe2njGC8012jinBLYGO31965L4peAIdPmOozagqyXXG0R9Mkn+9UMR53plha6jI01zOsfOGyQK3bPwzdQ6tbPBdLDbE5SZjgAY9cY56VzVpp91cSPBaqSoG9mQ54HsK795rq18IW7xCOZVIVg7hWBBAHB561CiB6Rp/h+ya2SW2fz7pW5CnOePavJPiHpPl3U8s8f2eZiMBsjPy+9e3/Dg3k+gxSalbLDMwGwgg54X0H1rl/GfgHUbq+i1KeQXOyZf3QQdPz9vSr5dAW54VpaEXm1HBZU/oafJrF0WSBkGAMZ9a9W1H4RXEEt9qNgdvl28Uoj29S4OR97t9K84TRLi1M1xqNlISw3DkgLzS5S+Yq6bZS3+tRorKNrq2AfcV1es6fbXd1Ba2OmzNOqgSyhCRnH19jXOaKs1qxuGBlU9MLtI/GvUdF+z6X4WudZuCCXC4Rjz1x1/H0pcpLb6GVafDeW2ktZrUsvmKGkyD0/L6Vy/ijULzXtZijQj924ijX1JwP511t18Uri30+2ENsFhIAdi2SBz/ALNc7pOoR6743tXt7Vvs3nI+5UOOCvt9adr6GUrkQ+HXiKOIXP2dtpwWXY3Qnr933r0Xwz4cneCGzU7Hhly6n6Y9K9C0q9tb6FoZtiCEBSWOOB04/CsG41JbbxukVqm+Bxy0Y/2j6D2quSw0VrWz1XwhetNbqbhJmAKhScfpXeWcgu7NZ5I2SRlBZcdM1Ya3WUIXRVAHRjmnInlJsVQBnnmnsaoaPu4CH8qQDZkk9alpGoGRffNOxjindKaRzSEFLtpMUc0AKRikowaMUAFFNIOaMGgAzQDzSYoxTGPzRmm4oxQA7NNJ5oxSYoAXNOpmKbg0EskJxSZpoBpcUCFzRmk6UZoKQopx+7TcUYNABmnI3WmYpyigkfuo8zFNxTSOaAHmTimq1NxQoNAEwOaRqbg01gaAEbrSUhJFRsxoAm30obLVFg0YNIoscUEZqvz6mnLkZ5pg9hzLSgfKKbRQSBApMClooATaDSbKU0maAHKuKSReKQtio2koKWxNs+UU3GTikEvFHmA0AKUxTcGnbl9aQkHpQSJik3Y4qRaQjmgBu+n7qTA9KdQAm6msac3SmUAAGaNtKOlLQAbKNlIXphkoAmxRjFRK9SCT1oAWjtSeYKjaYhjgcUAObrSEJTfOP92meaf+eX/j1NALhKeoSomlOOY8e+aaH3UwJnRCfwpvlrUTPtHIJP1qNbghuEJoAsLCu40kkCmozcj0INRvdAKTzQIVrYUiW4BNQG+UdQacl8pPQmgkseStQyWsZkJKkmpDcoy/dP51A90V4VePrVICVYAOiGni0jP8VVUvHz90/nVkSj1pgK9lCqZY5FNWGBfuilLbhjNKFyv3hUsBGSL0phhiPY0jwuDkOMfWkDY6sPzpASlFVRg/IB8x9K878X+PYdMle202UM+MEgg46+9dR4invRaFLQ4DDtXnw8NxyStNqRDE9V28n8c1x4jEOitCuUqaF401Wa+8y5ffHn0rW1zxrdTQ+Xboy+4FU7qO1sYCtpbhePWsJrlnZsrnFcccROqNRLa+JpCQu9icfMMCq00lrcx7nQkEnmsm5DBjJGnPtVWXVJlgRTERkn+f0qvZylqbqOhqusYXFnP5R9yKztQvvEVhzcN5n0X/AOtUKhpCJDuGecZrRt767RBHcwbwepYZ/pR70GZ7Myf+Ev1AxeXMcAnBBFWLXx7fWSNBGvHritK40vTb8BNhjmfphTxWvpnwf+22BmjvlBbkBk57f7VddOTluHMc5Z/Ey/tAVIzuOegpX+It5JN5jZA+grov+FJXpwUu1H/bIHP/AI9UM3wX1NR8txu+kQ/+KrblNE1YzI/iTOPmO04pt78R5bm4gkSFT5bhvyq8fg7q8a/IQ2f+mY/+KrIuvh3qthdJC8TFnYKPk7/nS5Rpo6jSvi9sYW7oqwycHJHX8/eq+qeNptP1BpWRTBMMrj0yTWF/wq/X8bxZF1znIIH9a0pPB1+2k/Zbq1eSXovPK9O/4Vlaxo2iX/hZcG3EUW71A/8A106L4lWoj2NZEe+P/r1z8fwz1okIkZQD/ZB/rUFx4G1a0YBoZHOeSF/+vVRa6md0dNF8SLNJTizZvw/+vUsnxI0+VsSWJA+n/wBeuUs/A+sXV8I0gK/XA/rXoFv4J0WBVN787Dtgj+tcdTFKDsQ5pFO38ZaFd4je2wW9/wD7KtzT/spTzgu2M8jNFt4Z8PBm2RrG2Plyc1R1S6hs0azhbA7H/P0rlqV5VV7pjKpfREl81vdSl5ZwNinaMisuHUr0zCFITKoPy8GuUnvLyG4H7wuNwHBrp7LVINNEFxMMvtJIP0qfYpRutzFpo3H0tLqP7RfKI+MMDxg/5NYsnw8tFzJDcKu/1aop9elv5yIQ+xzk8nA/Slvm1GCDNpMZFx8wPYVCi4apj1Ma68A3iTF7eVJAD2JP9KZd+EdTtrcSbc4GcAH/AAq/o/ied7l7W5jZWB4JPXr7Vuya5LaRE3W1Q3Cb8HNUqlS+w02ncztBtJHtlEx8o56HiuoGg+farsdOfU1j22tLM+JhEmRwQB/hVK9OqDdNZ3+5STiNcf411Qrcu5vF8xrXfhWQJnen5n/CsmXwvct8kUTn6Kf8KxpNV8RKcSRykepaus8O61fNFi8PPqVroeLikaclldmF/wAI7eWkm37NIGPQlTUtrot1Ix8xCPwNdZdTb4XkjclwMjNcPfeNX068aO4TjPBB/wDrUo1FNkJpuxopobszL71Inh1y+MfzrBbx6DkCMj0Ib/61Qr46aNt3zf8AfX/1q6b9C3TuzrP+EQZuW+XNULnwy0LZQ5xzn0qTTPizbW9k0clqGfpuZs+n+zWYvxBieZpHIBPRSMj+VFheyZfj0ORl5+amPomxstGePY1EvxD9PLH/AAEf4VIPHyOCJDHj/dH+FActhTo8k65j+XFQnS5V4bkipU8cW2CMr+C//Wqey8X6U1wftuNv93kf0qJ3toNK+hmPpknpSRabMRyn6Gtm98Zaa77NOs+P73Lf+y0+z1dJYwxtGPPYH/Cj6xTgveK9mjn59Ok2keWT+BqhJpsob/Un8jXpcVxbXFuAY0jPuvNU510xpwWYFh2Fc8sXRtczkrOxwMem3TnbFAxz1ODV+DwzfMNxGz6g/wCFdxZS28UxKRLs7krWZ4l8SRwfu7RV3e3/AOquR4yo37hJiQeGr9pCCfl7HB/wq8fCjhcyPz6VkQeIr6RiGfaPrU767d9pNw781r7SvJXZN2PuPD00YOwcfjVH+zXRsbCxPGMGus0mWe+t14yMd6XV2jsoQWjw7HAIFZPGqHudQ50c9F4ellXcfk+tNbw/MsnyncMdRU8up/Z7UtcSZPYBsVW0nxDNLqYSNGKnrnkdD7UKtUerJ9oyOexaD71VGgNdXdR287OFb5j146VAfD8zQmVY8oOc5rqp19+YqM+5y/kEmpYLYu2K6C20SW5fEKcj3zV+HwnfJ8xhJHsK1jVUnZGyaZzK2pU59KtNlrfaK6A+GLs5AhZSfUU0+GLno6lce3/166vgXMzKejOSaCQCrunaDLdqzAV1Vt4figHnXZHljjkf/XqQanZ2zm3hUbV5DAdf85rysRi9bRMXOx5JaptcE8c1uWZPlkbc571z8cwBFaMFwVXIPFcdSLY3oaL7YznG7J59qrwTlLiM44yM0yLUQ8hjx9atyCBlHzAEe9YcrRLbSNpNXms4T5EKuXGAWHT9feuh8Maku2Nr0pGzHLOgIxxXGxuWtv3bAgVJb3txHHtWNj9BVUcXKm7CjJs9rtpoIrwx3HzQyuBG6/xf55rnviz47h8J6ImmaUStzcowY85A49MdmrzXxF4ku7CyjxN86dOnvXmuq6vd6xK9xfzb5AQEBA6f5Ar3aeIVaHMjammypdTy3Vw9xM5aV3LEk9c1E2CSw79fambiaUISwq9mdQ9ULsqqMljgD1r2L4YfB9tYQanrsTLbdoyVO4YBHY+tZPwj8EQa3qT6lqzCO1tsN8xxn73/AMTX03pF7pzWEcGmFSIwFQBs7gAMHrWkZwXXUmVSOxm+HvC2l+F90OkKURhxHwNvvwBW7Im8jAxjr71G9pG2oC4wwkPVcdKtba0lKUjNEW3v+GKNtS7aMUrLqS43IttG2pdtG2kaLREWKOgJAyccZp22kIAxn1pA9jzrxxHq1wwQvJBAe6tj1968t1Twndfbo7e0Uzm4IBZiCQDwTXqviXRNSuPF32i6YyWKjhUGe7e3v611tnpUN4ILlEEYiGAGJB65oWhhYy/BHh46F4ditZdrEgE5H+fWoE8BWUfi2bWpN0m/O2FcbepOcY6812BU5Cdh6U4pjiqbuap30KljbGC18uZmkIO4Mxy30z6VHe6RaXsM0DRqsUoG9cD5qvbaNtIdjx/Vfhjex+KYToaSQ6fsG/awABy3YY7Yr0jw94ctdCsEhTczsDubjjn6VsqtO201KyFykJiDtucl3Thc+lee/FvRo5fD63ckIm8rBAIB9fX616PwzbMPn1C8VznjSC5m8OywwRrJ7HP9KQcqPBPClxpGjTTLqjtaXkiFVCcKM/QH2rS0jwa2v38kj3sk1p5hdGifAGST3HsK47XtK1CfVbiSW3dWjIIQqckAD2r1/wCF9476fEuYrSGFQJPMbaScH19xTp67kHoXhjSn0/SYYDK8vlADLNnHArWEY3o5UPz36UlrPBcRhoZFkx97YQanO0nKfdPSiUmnYCJ4A6uG6uDk9sdhXn+ueE1jguJNTmSSJ8+UkY6DsDkfWvRKyNcW4khEVtKse485NFx8pxOmeDdEudD2wRoZ0VjtRQCOvXiuY8QQ6bPpTaNC7LOjHfjoMEH09jXp9vJp9qrRbGM4Ulm7/hzXjfjHw5BbeJGvrZGlkuWYhWBB59h9afMF3Ez9L0GwuLeeC5uRN5TEBPbj1FdB4GkudFnks4tDjEkYOWdVJXPOeD7155c6Xren3sha1uUUsWGIjtH44rvvhdcDU4bzSNQk3yXo2+b/AHOq/wBalaEczZqanZ6jFdX2oPfGOJkVmSNiFXk9vxqr4M8RXcsjy7FaBeFuHGc9PfNek6J4QjstPa0vfnO8rnnlAflNbdpoNhb23k20AVF9zV87CxxVj4+TSpPs2vbpppGAjfOev1+orq7DxPpd4TGJsylQV4Py1jeJvANrrdqlvbH7KA2SSef1qp4b+Ha6DqLbSLiHaN7OSB0OOnvU3LR3Y5jDj7p70n3uRzRCixRiNVjQD0Y0/lvvPux09qLl2I8GlxT9tLtouKwzFGKfto20XER4FHFPK5o2U0BGQM0mKl2UbKAIsUYqXy6PLpXGRYpcVJ5dATFFwI9tG2pdtG2i4iLbTdh9Kn20baLhYgC460uKlK5o8ui4rEe0GjYKk2Yo20XLSI9tG2pNtG2i4WI9tKBT9tG2i4uVDcU0rzUm2jbRcOVEe2kCkVLto20XDlQ3FNK5qTbRtouHKiAqO9MMYq0UpNgouHKittpdpqby6NlUBDsPpRtIqfbTWWgRFg0lS7aaV5oCwylwadtpaBWIyp9KTafSpaKQWIivrTDHUrdaSmUQ7KNmam20FcCkIh8n3pQm33p9FMLCigjJ4pKcOlAWEwaWiigLCN92mVKOetIwFBLIwwpdw9aMCjAoACoIppSn0UANCUpApaAM9aAG4FMY/NwM1NgUELQBDhj/AA00gjqr/nUpbHSo5JKaAbs3cYb8TR5JH3RQJKkWSmBE0bj2+tNUunXFWwQw5oMamlcCqSh/g571FIY9pynb0rQWFaiktw3FFwMh9nZKiA+b5RtrUksPSofsDUxWKjM6r94VRnuJQ5AcD8612s2PFZ9xpzmVqpCsU1vJFPMo/WrSXTetQtpUh7ULYTAdD+VMRYluwI/9ZtPrUAupSfklJ/E1BNZvj94Dt+lRrZDtu/Kok9RXZanvLhBwVPH8WTVRdYuI2+eGM/8AAf8A69WI7MhT1NMeAL1WlcV2Rya1v/1kWfYU03Om3WBNaEH1AHFMnMaLymaghlg8wFrbIz15rJwT3NOZkk3h6wvVJiZl9iR/hXN6j4Xa1k/dfdYkZ9a60SW78CMrQbW1bktj6msZUI2GpannE2gXKN8oytRS+GJriNTt4zXpn2GzccyD86Y2l2JbBk5+tEYWNudo87h8ITuwHQfWupsvASzIDPdyZ9N3/wBat1dGsx0l/WpjYNH92YfnVxpp7mU2UY/AumwyLJ5paRf72CP5VpR2At1Eds+APSkSzcfN5oJ+tMeymHIkAzWsKSRFycS3kJ5mLf7pPFOOr3kYwHP4k/41TW1miyrHdu54pslnKedp/KteW7J5mWotcujKd0qLg9wf8aztS12ZtSt2byXCyAklT/jSG0nOQYmA7HB5qpNp90DuihYkdDg1E/d2LR2ltq6zWYYeXjHO1SBWUddgXU/mjtwiE5JjPPWuenGqR2w+Q/QA/wCFR2a3U3yywsp7kgivNq4hxWxcmbep+NIVdl0+1t3kP/TP/wCvTLHX5rsMlxZ25YDICp/9eufu3s7CUhmBkPvWbHdXDX3mb9kHYnvXmVMVUqe6kZczRuz3rfb2P/HvICcBeK56eaa7uWkUlUHYGsjxbqC3bCKOTaR/FxUekt5MRmmuISuOm+oVFvWTE43Ra1HUI0UNC8nmpnJzxXOXPiSK5LLMnzrxmrl1Eby+BtyrKTghTmiTwZNJdo7sBGwyev8AhXXSnCmtQpxSRmWV1BHN5k6ZXcDzzTdW1IXryeUvlooXYfX1/lXaWfgnTA2SSSDWgdAsYvkEXy+vNN4iN7o1bTOK0U6nHZ+YkCyQkcPjoOPepE/tneZLf96h6qCf8a76zto7AiKIuUbkADp/nFLKkm5kjWQDH92uZ4pN7BFXPOLszrMs3lCOVTyKmnzrtpsnlO9B8qqeh/GuyMEgkIlAIb1qCW3trTLQwbpX4OM1rHFJbA1Znm15aarpbJ57u0ZPXd0qxbapeWOySOUMpOcPk/1rrLiNLk+VdQ49M5rI1LwqLg77RG3D0BIrpUozV2VobtnrxvrFftYj6dQDSm6R4i1nKx+hrD0/TZDH9mvDtxxXUWulw6YP3YLVyz5UDehh/bNYuJvIiWQo3Vt3/wBen6l4LTVNPja5lEU/fP0+ldN9puUQm3hHTrzWW99eJIxvRhe3FZRqWehmopO5xk/w61HzG+zyGRR0wetY954Y1CyYrNCxx7iu7fVwrMYptrZ4HHNauma47FY7kA7uhNdH1uUFsU6jPIW0i5ZSAGQ+majbTJ4wu5Q2Dkn0r3dvILEywDaTw3PNV5BY7gVhDYPTJ5/Wqjmcdmg9pI8S+xykfIuaRbWYth0wK93tLzTVkCzWIC9ySf8AGus07TPCuoAYEayAZI8z/wCvXdTxFOZqpuS1PmCC0uJJ1SAAnPSup0vwZc3bLNfjZH7df619BX/hzSvs5+xQpuxwQx/xrnf+EemSRxIuU7AZrDFyrKF4mcm7nI2Gmadp8YSC2WTHVpFB/pVqS8itI8W0KFe/y1c1GwurdD9htnz7qa5q4tNVZvKmVlz/ALP/ANavKjSqSd2TqR3+t/aJhDGux2/jHGK0dKskgtzc3wLdwTznpVWGM6Wm6VS79uKoPrGoXV15e1li/wB2tpUm9LCu72NDU/EkaW7fZ4goUEHA61xU19NqFwzgEc12NxaR3MK45wPmplvpFuEIUc/WtabjR3NbHO22mz3KZG7J9D3re0zQobVDLqMhRR/e5z+latncx6WBHIwI64z0qS9u9OuFBkXcc5AB9PxrlrV6kno9DKVToWLa6gtoQ1iRsA7Cuf17Xbi6cQQIsjs2BkdOvvVlofPYNboyL6EVvWkscFmFSEGQ8MTngVzwVnzSOXrc4+38MzbBNqjswPO0Hp+dXDaxwqsWjxKZO+RyP5e9b9npLXF6XXLgnkY6VsjTYbeNxI6o2Omea1+s30RqmcK1tqgt3gSEee3fv/OtbTJdSFi1rcF1LDHLfX396maOCDfN9qCNnjcQKd/afmXKiJ1kHGdpzT5au7CSuQQTy6DIZZJy3OdpJPX/APXXp3h7V7XVNOVkkQt34NeS+INNa/8AmjDB8cHFY+k3Oo2Fx9nTfjPZf/rV0Ua3sndji2j6R+xIkIllVWG0kHFchquowpNImFUZIHHvWbYXF9/ZXLyDIwRt+tUriO325u4fMbOeciqxGYKa5SnJszNanudvkEHy2561z7XcQjG5MYON3rXY+fFcEKkO2NRgD0rOvNMDRjZH/FnvWVCpD7Rk43PGEfPtVuORlXrmqiRE81aiTA5rrm0dEkOV28wMg2kdTU0LXEsxK5cfWoJGK429+tT6bqK28xXGR3rG3MZyWhp2UjgFQDn0zWm93/Z9iZndSf7hFZkurWtvbmRAN7Z7Vymo6lc37Fd5CZ4GTWEMK5zuKEStqOqT38u6Zjt/u5qiyb+RxUjrzSrtUZbpXv8AJThTXIdkI2Ili+UkckHGKuWVjJc3QjRcnuRziqpX7zxkg9cZr1HwV4etTpC3zNukfk5//V7VhiKns6XP1IqS5Vc2dD36d4aFrExjZxhscZ5P+NammalqekxrPDLhYxhQWHSoLqMQWYkRc4rMkllnX5JG+bkrngV8rTr1p1bnmT5nK56zoXxItrzyYbuIRzyuE3Fs5yfpXZtqFkjKrXKAsM4zXzY/npNEqjawYYYdR71oXepamWE8dxI+3Cgbj249a9/D45tWkbxrW0PfbvVbazVGkYbXPBqwl3A/PmADOCfSvNH16G78EQtd5F1DGoOe5wB/jWTpvjJ9Wu5tNjcpJKcIRnqcD1967FW5jojUTPZIZo7jcImDMp5A/wAacuTkkAKOpzmuT8NjUNPuGiuDvjcD5iTnof8AGuqRQMxISd3PNdUdjXcXFG31FPyKCRVARvDGw4UZ7luaBHGgwFwPY4p9IaBWAbR0X9aQ8mimFuTQFrDuKXA9aZuzS7TQMf0oz7U0AjrS0ABYg8VG6iSJkcBg3qKk25o20Aclq3g6zu7k3kiL5nlN8oTqe3f2rySz8KazD4sbAnFnJM+djlQBk44B5r6H25xv54IpiWMMMZcouM56ULQVjnvDeiXOiXbZummidc7GXp+OT6V0KH5BgU9W+8SMZ6UImFAo63GkNqKS2jkkDuuSPerG2jbQVYz7rSLO8uVmkjKsP7px/KuG+ILHR4UvLa1SQQnjcAc5IHcV6TsrM13RLbXbA2twOCcdvUe3tQRJHkdz43iXR0vb/T483I2DoccZx93j61ymiatZaf5mp2JMSbsbASST7H8K9V8RfDW1m0BLCxP70SYUnHHH0rlbT4dLYXOnW1zAqxxShpuB8w359PQ0EWPTPC3ie31vTLfYrJJ5S5LZOfl9wK6EOrfIpUMOq7utYNnoltY2qNpgXqcEDGB6dqDpF8NSWdrhgp7BjQVY3Tkr/t56nmg7txOeSADgcGnBeBS7aB2GN8wxgD8KRRtHTNSbaUDHWgZHu/2f1pc+1PwKTbQO1xM+1O20m2nUDsIBiloopXCwUUUUrhYKKKKoLBSEZpaKAsJtpMU6jGaAsNpdtLtooCwmMUZ9qD0pKAsITz0pM+1OxmjbQIMUYp22grgUCG4oxRRQAYppPtTqNuaAG59qdijbRQAYoxRRQA0rk9cUmz3p9FADc47UZ9qSirHYKa1OoxmgGtBmKQipNtBWkQQk+1NqQrSbaYDCcUm72p5Xik20AMPNJipNtG2gBm4UhYEUFOaNlAhtFP20jDGKBgFz3pwX3pFp9IQ3b70bfenUUAMK4HWmMD61NjNMZaZLIcH1owfWpNtG2gBuaM+1O20baAGbuelOxx1xSbfmqQr8ooAZj3qNlO4/N+lTbKjZDuNADce9ROuf4qm2Go2Q00BEBjvSg4pRGSad5RpgN3t2pwlYdv1o2MOlG1vSpAf9o2jp+tQvdEnhf1pxQmmGHvQAq3Tdx+tSLOWH3f1qJY6ljXGaoBvzZzTGUs1WcCm4G6gNyERZ/wD1U7aMfcqcYp20Urj5SibdS2WXI9MUhto+ygfhV5kBFN8uluS0VBaKVJ6fhULWiE8itIJhTTBFlqBWMW70+KRcbcVnDSol5+bP1rqmtt9QPZD0p8yEc+9gix/e/SqUmms3Kzke23/69dTNYp5dQCyULxSck9AOVaxljP8Aryf+A/8A16WOBy3MvPuK6CayHpVOTTVd8gkN7VNh3KBtrk/dfj1zVTyL/tOW/D/69bElhLswkrA/WoVsLqMff/Wnawm7lSOO+T5mlOKZcTXuMLJirT296T975frVeW3uR1P61ogGW91fjqd31qy+pXgXlR+YqoBcRqcVG0spPzGqlork9TSi1idkAdB8oxThrEo4MYC9/wDOKrWsbMucjmrC2u8EMRgjmsl7xfQlTUd8gBjDA+prK1rVpYJDHFGFHZh3/Srj2QDDy5MbaJ9OhvFCufmHesK1PTYhSucZIyI32i7Pmk9s4xVW71O3dBEuVA6AZrd1HQvLJG7co7VjHT4t27yhwfQV5EotPYpK5yurQz3EmLdHcewrd0TwnPcWYN3MYQP4Smc/rW3p2o2NpcBJ7dDj1UVtRXcVxGNmAvtWNRztobW0KFhotpaOojj3sP4jxV65trcABn2tTprlIgBEMN61lTwy3F0GMh/OvOkpvVkxhclM8iTrDGuc/wAYpJtRjt2KXDBjjrjFQX16mkQl5PmbqDXHzasdSvJHbhRWlGjObH7NnRT69HHJmOT6e1SW3iMyElZAzDnGOtcHdXCoTjPtVfSb+SO9BbJXIrv+qJGjjZHrEVxFfqGuF2H2NZ95an7cvkudv/66yzrsYt0CDDVetNQMiFpU4A4NZyoKKuiox5iG/wBKnMwZGLk+nFVxBq1jGMDdHn0Ga6WG5t5IVJPzE1JMjcfNmPHArPmcUKVNo50QPcR7zH5b9z1rY3Ytydu84+lTkwOm3AB+lOPlRrtHNZNtmKg2VLaRnBVl2ilnWB1Kywb/AH3Yq4FiEDFfvdqpyEBuayV7j9mzndR0VDIsluNmOcYzUH2iTKRC1O5eN+ev6V0NxdxwEBu46VS+2pJP8sePfFdT53DYXLYu2t4DBGlyh4UCrv2a0mjLRsVOOmDUcKiRFLIMY64qbekf7sAANwTjpWUaDbvYOUpTaYrJlpio+n/16gttOube4EtrI5B4PzYz+tWZphv8otlfWo/t32f5fMwvatfZVW9BvQ6Jbi/EKky+WB6tmpotXmjG4yq56ckVxF7rM8qlFmYD6msr7VMr4Nw5PX7xruhGpa0hpXPR5fErBSrwI/uGA/pVZtfgmB820Rm9cj/CuKjnmYf6wn6mpPtGO9aJSQ7HRzahaSth7VT77un6UmbRkytqi+/H+Fc9vLr8p5qxDNLjaelZzck7i5dSe68hc7MLxyPWqsksdvZm4dtvovrUtzbxtFlmO4msHWo5nVIYG3KOorknJVdAm7IgvtYjuH4G0sMZz0qLw2Gn1AzXcpMUJBJPTHWsHU5ZYJEjEeCT/jVyyupE0uaNRtZhg/iDXSqCcTBwbO+fU4LpmhsgoA/jH+FP0ezupNQYzSbodvXHv9a4CwlvLaMrb5LN0Oa7nSNSltNHEd5xI7Y/SuepS6GfJZmlqWuR6S2LJ1bsapXet77Vbk3Cln6jPT/OaxbqzFzvIDHceuaWPwzGyI00shHXG4Y/lVwpUYK73NYopanfTXUoSPLqf7oxWl4e0q6iQSFWPPc+9bNrpVrFGphjBI9QK6KONbayzlenYVlWxDdkjVRuVI7aaS1w8QJOOeKms9GtYpfNkChvQrU8N6Hj2R/e7U1nIbLmuGdS+5lJWLVxc4CxxplfbioJIlncO0fAHTNPhnjkzkfdqV7iNRWfMkrkFR/KhhYJHgiq8N2JQQIyce1WWuopSwbChfbrXPN4thivJIIoFGzvjr+tNKrU+FAeSZ29KuW6LIvPWqG7DZNTxSEHcDgV7k4tmzuy39jkIfYuRWVLGtvuOdprRk1r7PCVUAk8GufluGnkLSHinTpsnlYNPkY3ZFQu4brSEA/d6VGy12cli0rDl5Xkb6mhiLLlTtbtUKZxiOtnR44TMpuBkVfOoot1LEumabIbhGu4neNl67TXZ6QFgttlqzJGpxtI6VJa6cbryfJdVj2jsD2rZXSoLS3GH3k8n5cV4mMxDaaMKk+ZWEiupniEZy6+mKb5Uke6SNSGJzjHSrViVSTAXj3rTMcckZ2Abj1rxva2ehz2OckjEhV5uue9N0i/ktroowzGjZC/jmtqfTY3iO9wPoaz/stsULxP8yHBHrXRCq90JR9425dY0vUGIv41ihC85bGT+dcXpuq6TYeOEv0bzraNgQAR8pyp9fal1pxCoI5QckdKx9KgiaYiOHKP1LV6tHEqKuy1UUZWPorw1rVhq8azWl1GuTwpcZ7+9dDq19JZ6dJMis7KONoz3r550y/k0nUla1LbFIJCtxXcP8RpJ4WiPChQCDz/AEreWYQSNPbK52/hvxVF4jt5ZIItpH8P92tSz1O1vZJYrW4WV4SBIAwO0nPp9DXj2j+ITorNJaDasnysucf09qm8P6yNF1u6vXmYwXTKXUk8HnH6tV4fMqT0kaKunoew3UwgjR3kKevTmplbeA+35D0964K58cxNeLbzRh4iMhgc46+1dhp2qQXFunlMCmPXpXoRrUqmsWVzl7jOccU0qCchSfwqlPq0Ec/lmWMf8CFV/wDhIrF5mgjukEiHBGa09pHYPaI0mIXsQe3FSISR1rGk1uzR1WS4UljgHtmr9veRMBiVDn0YVUZRl1KVRFoqx70m7b1GaejbuRzTHuEU4OCR2p8jT3KumJvJ5HApcn1oSRJBlcD2p3HrSly9wsJ2pGUN97mjI9aWloVYDzjPbpRk0UUIAyaMmiiqHcM0D5elFFBLFOWznkZyfeuY1/w7PfXcd9G3zeci/wDAeM/yrps4BNKAwj3E5XOQKBGbpVjJY23lE8bi351qHkfNyaZuKjnknmhW3UAOooooGFLx3pKQmgeg7ApMim5ppPNAMkzRmo80ZoESZozUefejd70gHk0mTSA8UtADs0ZqPNGaYEmaNwHWo80daAJNwpN9M20uygB2+kyaTZS0AGaKKKADNGTRRQIXcfWjJNJRQAUUUUAFGaKKADNFFFACilwKQdaXNACGkpT1pKAEwKMClooGJgUuMUUUAFFFFAhCo9KZinmmUAG3NGylzijfQAmyjZS76N9ACbKTy6dvo30AN8v2pDEvcU/fRu3UAM8tR2oKjPSnUh60AN2j0p2xfSkp1ACFB2FN2Zp5OBTd1UiXYTYB2o2L6Uuc0UwDyx6UeUvpSeZijzKBB5S+lO2gdqb5lG/NADsD0ppQE9KM00yEGgBfLHpS+UnpTPMNJ5poAeIUHQUvlL6VH5po800AS+Wo7UbFqLzTR5poAGRMnioyqninFs1ExODigB3lJ/k0vlA9Kg+f1pybxmgLEvk+9J5YB5puX96bvYN0NAydUX0p2F9KhEjeho3H0NAE21T2pdgqJWIbpT99Ah3lbhxTTAw6GnKxPQ4p4BPekBD5cgPD0hic/ebIqYqc9aAOetSVZFaSIFcYqBomH3eK0tgNIYxQtxNKxjSROaakRWtWSMelRCIE9KsjlM2RVByV5qIrC3X+daklqDSPYwkfLTRLRm+VGRgMB+NRvaxN1cH8auvYD+EmomsD6mqFYomyh6cH8ap3GlwHkKPzrWNi38JNV57SUdMmnfQLGN/ZSISVJGfSpEsQFOCwPrirTWNxnPmED0x0qSO1kX77kjuNtGiHYx5bIo2Q2TQscikdV961ZYCT8oP5VBJaz7Rtx+lRO7HZFGWPgk5J+lU/7P8AN3vt7VoSm4j6oD+VFuXcncuM1w1YXQHDatpcizM6Ic564PrRp0slvFjYR+FehTabFLb5ZMn6VgT6I0fCgflXFOk2O7Mf+0QzYkFBu0ZwUODTb3S5Y2LYOPYVjPI8EpByMVzSoOxSdjcvrRNRh2OA3Fc0+k/Z2eNBtzWlZ6ozT4PT61LK3mSl8is6TcGapnKXOkvzhZGxwMLTdP0uUzDcJF57rXW5fZ8ir+K1HAzB/nC/gBXW6pXMig+kOm1wOlbNrcFLRY+/Q1MHBiwRmqRlCyEbePpWTk5aDUkiZrqJCM4BHTmmzarM0nytlcAA1jX5kkmAjz17UxdN1O4lVINwXg8ito0brVClO50SWl9cx+YmSD7f/WrRaynj/wCWcn/fNUbJNU0+3CSMD9SKtxapqMvXafwFRKgnuZXHLbXG7IjkHuVpksUi/wCsVvyp0uuXlup3qpHpgVk3Pip93zxL+f8A9aqjhoCuyxLKYZFZVJI9qSTxBJEuPKZsf7NZsviMSEFIRgdf84qSDxFb/wDLW1U/h/8AWrrhR92yAsjXHl5eJwD/ALNV5bnz87XYDuuBzV1NcsJEINsq/h/9ao7fUbBpCDCB/n6VXsQKSswGACB9Kjlg8wDtW8kllKflSnTW9s0fyjFa+zEcs8GON1MVWTgHIrWmgiD1G1smzK0/Zlx3Ka81ahtIm5lcD6mnRW+T0pJLbA+dsVDpgxs7R2kZeHDkdADmrEHny23mBivtis2SEpl0bcB2JrWsjJJa7QOfYVwYmnLoZ63I2nb7M25cY6n1rLgjkluy65IzzxXSppzugjdeH746VdttAS0G8kHP+fWvNlUVONi1bqYD6EL8o7W/CDrz/nvU8fhK0wWK8HqATzW9LfW9svkj8TUS6rAiGMKGJHB96lV6rOd3uUoNHsbYAIjBh0qf+zYbiTMkTOQOGIIxUV9qaWsG9sFvpVOz1K8v9wR9i4yCBQ5TerYK9zT2rGfIAIH0qaO5j2iAME29cnrWPdTG3jzLcHcOpxVa3vbbUD5ayMrr1YgjP+cUcspo0sbk7bmBixsHUZ61E6JGQnmZB7VSe4iWLbHOMr15qpPqTXS7rcbSPU1nGhK7ux6nQJcx2sWS+APpU9tfWl4SAfm9jXMW1xPJxOgYehIGa0LSWOR9sKrE/wBc1MqDM5Jmld3gt0YqpXHc96o2upfa5tocNzyM9KslpE/122Ren3aqX19a6JatcIse5+R8o4/zmoVNt8oktCHxIscIQ71Bxng/WuVWW3BMryBt3GMjipX1iPU2aa5cttONorJn026kumNsG8phkZFe3hkqS1A5qWQ54qF53Ap8hGcjtVaQs3SuqyZ0KxHJKx61AJPmqZ1ZlqDb83Q/lVx0L90nU7hTgmabGCe1W44SRSnUSM2SWtgpfcKvW1sY5tr/AHT0+tNiVkUBQc1e5lVQFOR7VxyqXM2kaOnT39pysmE7DJq7Lr94MCXkZ9/8ayg8gQBzgCoLm/kYqiAMMdRXO6MZmTR3lhfrNaK2PmxWgl4oj6c968/sNUuLd1JX5R7V1FtqMdxb7yyjPYkZrneEhcWhPLdEsTu/CsZ5pxMWhODnmq95OYr5Srg4IPBqtc3UiYZfvMa3jRhFWQ1uboEN8yx3oy+OtNW1t7IuG+4ozWUl+yqJG+8BzUM2qC5jYqTnHORUSwjnsRKneVxl74kitZybZepweKtprMM1qJgP3h61zrJHLMSByT3qbyWgXK4I9jW8sHDkS6l+zjY321ZriKOReJAeaeNQluG3qdxTGRWAl0wcEDA70+2cxXLMrYV+tcawqSehm6dtjqIb25/eMrbcjtWjp/iTUbSz8uG8ZQeo3N/jXPW9wjQlWcFj6UxIZVbO07a5+SVPbQn3jcn1m+kl815i5+p/xpLLUw+o+YDiTHzH3rDaSRJPm4Wo0D/at6HAJzk1SjUavzESckda2qSzRNE/JJ4NXbHWryEoit8q+5/xrMs4fk3feGOop91LFawMDKqsRxkisYSrqWjHFyPTNI8alYwkjElBnjP+NYWveNri1Ek9ueffPp9a8wtNQuFumdJwoB5PHIrTtr+OVWa8zJGeMDrXc62Igrtl88k7M7rwh8RJrq98u/AIY4zz7+9enLfWptxIzAK3PSvCVsIJo1lsv3e3nmm32pz28aR3N15cfYnArajmL2aubxq9z1xvFMP9trp6opyQA2PXH+NdKqsVB+9kZB9K+dbOWXabqzuRKyc5yD/L6V0Fh8SL6zszBISOg3MAOleo8dFOzQe1PaBKVfyzT8kn0A4rx618e3sl8JHZfL/CtB/H/m70WTa24YzgdquOLhKXK9BxqXdj04742yOhp/1rC8Pa7Fqtiqo4eRRyAR/ntW4p3deCOoPFdi12Nri0U1ZAzEcjHrTuPUUDQUUhOKNwpXQ7i0UmaM0wFopM0ZosAtNal3CkJBosydRKKKMUWGJRS4oosMBj+KjCUYB60bVoADjt0pKXgdKSgApV+9SUo4NAD6KTcKNwoAWik3CjcKAFopNwo3CgBaKTcKNwoAWik3CjcKAFopNwo3CgBaKTcKNwoAWmHrTtwpp5NACUUUUAFFFFABRRRQAUo60bTS4xzQA6mt2pdwpCc0ANooooAKKKKAA9KbTj0ptABRRRQA2iiigApyHGaZmlBoAkzRmo6KAJM0zdSU0c0WC44nNFAU0uKpEsSig8UUCCilxRigBKKXFIRigApp606mnrQAlMp9N2mmAlFLtNG00DEopSMUlACZozTSDmjBoAWlVwvWkpGUN1oAk85KPMz06VEIQe9PChRikId5lLmmYowaYx4OadUa8HmnbhSEKRnrSYFNbJPFNw1MZLgUcVFk0AkHmosUTUhLD7tN8we9KJB2poBjPJTC02eOlSF80eaRxVC0I8t/FRmn71PWlyvpTQnYahG75ulOYpSHbimEKfWmKwpeIdRmjzIv7tMwF6CjPtU3CwhaLJ/dA/hR+6bjywM98VGQdx5pCD60XCyHvbRmoHs4u4p/NNfdj5arQi6KkunJ1JyPSo0skH3OBVhlIOc800SNu6VLimgHLb4FV5bSFv4avRvxyDTZDjtU+ziMy5tLgeEjb/ACrl9c8Loyl40/lXdq5IwRRJG0i4IXH1qJU1sTrc8UXSpoZ/9XwKuiyJwWSvS7nTkJ4jGfxqNdNj24aPn8a5pYVMtM89SHKlSOBxUKWWXwB1rtrnSowzlV702w0pGkGR3rFYcLs5qHTH29KRtKd3wQfwr0KLS1C9B+dH9mBH3cCtVh0iW3Y4y08Mx+arvu6+o/wrorfR4I0BHp3x/hWp5QLABj+VTmFfLxyTXVGnZEqTOP1q3hTism1skQcPJj61v63abmOK577KyKdsR/WplC3Q0TIr+2tSjb3bPuf/AK1c7NZ2hkPz/wCfyrVuLZfMJaJg30NZ72nzElaaiuw7mf8AZYEyI5CAasWtjG7f6008Wic7l+mKu2dkgPSqC5VnsIhn96fzpkVpGoyJckdq0rixDZwpqsNOIU8dqLgNtsibCy7PxrQktpnXMd0WPcEmq9rpRLguCc+1aD6O6Dcny1neQGQ5k37W5PrTWSRW+9Vx4JFJAFUrmKYjofwFK8iotXL1pA7/APLbH41KLF5nIJVj9Ky7TT5n+Y7/APvmrptrmNv3aH8jVpsG0Nfw/fyswi2AE9q0bDSNRtCPMB2+xrCuobz5gS+4ngbeKrT3F/HGAkjLj2/+tSlFS3Bao9DdJooNsav8w5yapTNJHCd7Ov41yGn63f27bTMzDPOVH+FdJb6o15EAxOcdwBXz2Kw0nPRaEtMrSwfaVwxIB7561OmkTRW3+ix+YT0J7VNFdNDvV4y2DwQKmh1O4ZCFIQAdK47T2IsZdzock/l/aHKkfeANXmjt9PhAsoxlhtZsdqDeyBzuwd3XJxULphWYE4YcAetKMJN7jS1KF7Gt2vlFBn6VR/s1oV3EADpirk1vIMeW2Hz3pzWokQC4kO7HO3pXbFOKNbGNJZMG8yJATVqW3SCPzHPzAVp2sESnakn/AH1T72xtnkCiRfxNJyl2Cxzsd5LLMFUEL6irps7gYezclj15rUhgitXVUCP/AMCrSF9DAu0RHd7c1jKcuxEkU7QyW8G/UJSvpz1qS703T9WtQHG9ep4H+FRXU63cixMM5PfjFTMxgiCW6jaBzWabUuYzszLGh6Rp8rbIxhzxwP8AD2pz2cjALB8qDpS5zC7y43L92q8WrSSrtJVdp9a6vaSaCzPLnjzUEkWKvsmOaj8kyqTXpxkUZwIU8ijaDzirSWZZj5nTtilWIbB7mm5hcgjQE1oQxjbVVIxtzznNWYnxWEtR3NCBkH3hSvcCNsrxVYyUwyj+IAiuexmayhZ4MhsmqcdrN5v3MDNJC2whoW/A1rpcrJGCPvCpndLQl6or+Q6J82BViHIj2qeevWs2/vJi21SBUFnczq5Jb2rL2dRq5PKa+Qys7jnHHNQeasnB6rVYXBzgseuaj3ASE5PNKKlHcqOhPcsxQbOnSqqKwOB0NaESo8eMmoZB5PTn61vGpJFEPkdCOtTMGWIZFUnu2WfIxj3rTS7jkgHmAD6V2qV4pgURH6U5Y2JqwkYP3alWPcdtQ2Igi3Rtlck1oJqE6ph1pqAKuGVfriq/mfORnj3rCdJSCxJJqKfxrTluklhKpw3aontlkXKruNQxQSLc7sY28AdqhU1Eicbm5Ya79lhEMo+Y8VT1m5W5YEORx2NVJ4meXzG2j1xQVLjgKcetONBJ3CKsR2WDgMxChuTW9DLaxgoW4I4rAEZjVhwM0JksGJ5FXKCm7Ckrs6vTfEMMUn2WYbYySFf/ACKy/EcE15c/uZDJD2wfc1iyb3ZWxnaSQO1aGm3sizEzDj07VzyoKm7xJ5SXRLiSxsJI5CwODkHmrj6hBPAq+SW55I//AFU22ngeV2kjBVhj5hmtTS49N8uUMcMT8q9u/tWTqyau0FjKuvlKPBMUGOVovNUghgSYD5k4bB61FrllNCxmXbs7YrCSOSdW80sVPbPFdFKfOtRpWZ6J4Z8UNp7xT28jYbqMn0/+vXrOg+KYNak8oyBZe/PWvAtBt5ooHaVEKD7vFbek3lxbXy3MEmyQNjHOMVosbKnVUWaqdj39biJpjBuBZe4qYADo2a8y/wCErm0u8aSby382MqpIPXAx3rY8J+L01y4lgmZYpIzgDB56+59K9mOJpzdkaRqJnbZzRUavnaNy5704Hc5VSBj1rf3djRWY40UmRwByckGnbchsA5HSi9tAuJRSkoPWk68jpRcLiUUUE4qhhS5puaMZoEx26koxSZoELRQDmipe5SCiiikAUUUUAFFFFABRRRQAUUUUAFFFFABRRRQAUUUUAFFFFABRRRQAUUUUAFFFFABRRRQBIOlIelJuNJuzQAlFFFABRRRQAUUUUAB6U2nHmjFADaKdijFACbaQrxT6SgCLFLjFSYprDpVgNooxS4pCYlNFPxQFApiFFFFFACHrSU4jNJigQtFFFAwpDS0hoASmnrTqYxw1IQtFM3GjcaAH0U0HJp1ADG60lPIzSbRTGRnrRTiOaTFACUUoGads9KAIjntQM45qYLikOM80AR80+l+WjigBKKUYNLgUANoobg8UmTQAh60UUUALxQcdqQLn1pSuOlACU09adimkc0AFOpuKdQIOtGKUdaWgZGy0m2pgoPWjYPegCHy6DHxU2MUUCK/l0eXmp9tKBigz5SjJDSJAMZq6YwetN8sDigdrEKxAVFJHVrZ9aayButAyskdPx2qYRgUnlDOeaAITGO4zSeWPSrQUUuwelAGbLZq4Y46moLWy2SdK1jGcn3pEh2npSsBGsWBTGTPFW9tMaMDkZppaiKQgw2af5fNWdtG2qFYyLyxWXqKzDpilTyPyrpHjz61E1uijhRSY7WOMu9IVmOOfwrPl0MnoP0ruZbRG5C4PtUX2NfSkM4P+wHz939KtW2hsO36V2YslPapY7NV6ClYDiL3SrhV+Raz49OuujLgV6RJaBhyKrNYLu+7xRYDk7XTXBXJ/StOawIi9ePSuhiso+PkHHtVmSyRo/u4+lHKB51JZHcfl/SqM9m3TGPwruptLO87Fz9aiOjZ4eMH8KLAc5pthmIZ/lWkNPZlz5Y/KuistLSNceWPyqyLMIuBmiwHDXGnHfuaMYHtWRfaeGBxHj8K9Jk09CDwTWfdaSjL900+S+pSZ5rDpOS2Vxz6Vdisnh+6K6xNGDScA1O+igJwGrKdJSHcwrC3eUfOtSyWSxscLzW3Z6XJG3AOD61prpaMPnXk8VwSwZBwNzYuzbhxSQIwOxxwBXY3miHcdm7H1rHmsZIpMbRxWMsJy6gtzn76CQHKLVXypmXlTmutW2343oPypHsk3cLxWfspF3ONa0uIzuGRRKBPHlSwYV181iJVwF/KqM+kKPupj6UeyZSZzNulxHKHJLBfWtJbuUuFMSn8BWra6QGkAcHHetddEtwu7y+R7CspUJMlyOWYNu3+WM9sU8D93+8O0mtybTjuPlrgd8Vm6lpsrR5xgisJUZISMuW3DxMitn1NUf7FIGVbGf8+tWovOjZg+MU4Tnoc1bg1EDzpofkP0pIYCY22irQjO0g1ZitMxjHH0rf2qSMuYzrazZmbeOO1RNZ4jX610cFllOKjmtdn8I/Ks/rCk9g3OWNvhfxNNWIit2S2G4/KPyqjPbEn5Rj6VftEgKZU01EJfAGavbMdRUEh2nK9fapU0wI0i8olmbHtTVupfNyOAKuKRNHtIGag+wNGcZJzzTurAQM0kk2/tVmA/e9c0CFYuXapooo5VJVsV2U7ONhpXKTuRJSbzmpJY/L3d+Krv9wYqZU1crkJ1uXT7tWhdCRcNWYwzGpzjmjeAwwan2SE42LkmzipNoMYxUEIWU9an8l4zkZIqlDpcViSG52MAa0IyXG5ayYlaSQ8VetneNscmsai5QsWpDt+9TJBGMfLkmpQTIPmWmtFlCo796iMwuJC5Q/KcfWpppXMfC/j61EcJAUPX1qshJO3e3HvQ48z3Ao3Mdy8mQT16Yp8TTxLhv5VeEQ3glu9WZLRZIcqa6fs2EZAkld8GnN5i4FW0smDVN9jYuMiua9mTYzwJgRhsCrQR9md4q8um77iPPA9K05rHYhEUat+Aqua+4WOaU3PlhGPfnitQfZlsgd+2UAc5q5/Zkz9YQPxFI2jSOu3yuT/tCsakbvRiMoXEtx+7kbclbi2UTaeI0X5m7/nVQ6BcqQVi4/3xWrZwXceFMQAHXLA1yVVJL3WFrkUdu8EConPtTm0/dA0u/ax7VoxwsQf3ZJ/3qQQTO4SVdqVzuV3dkSiyrG7GzSO4bLocgntWlpt2ljcpcvE2V5yB97iq76JOkm6M7lbjBP8A9eoW0y+Em3Bx6eYP8a0oynGpzXM+WXc7Sz8YvrszraOILiNeFYjnn/69dDpOuXv9oR22psqye5xnkew9a8pTTb6ym+0QrsYdSrDJ/WtUaneXEfmuWEyDhs8/nXrLEtu5tGTR66+uWqli0qKVOMbhVhNQhaFZVmXDe4rwhtTvJLiSS5kkUcDAY9u9W4vEl0kCrbyO23sWNdDxqXQftLvY9wW5iuPuEfnUoOBivIvD/jCa11IGdi6SyIuC2QO1eq294lxEpgZWVxlj/d7110qqmrmyfUsUhpAS3ynj3pjNg4z0rqba6Gidx9OHSoN3vTlak5K9gloSnpTaUHIoxS5hLUBS0AUUXuUFFFFABRRRQAUUUUAFFFFABRRRQAUUUUAFFFFABRRRQAUUUUAFFFFABRRRQAUUUUAFFIaSgB1FNpR1oAWiiigAooooAKKKKACiiigAooooAKKKKACjGaKWncBMUh606mnrRcBKKKRadxWFopxHFJii4WEopcUYouFhKKXFGKYWEpDS0hoBoSo3+8akppHNIkjop+KbmmMF60+mg806kIKKY+c03n1oAceppD0ooPSmMFpWDEfLTN22kM+KAHbHo2HvQrlqdmgBu00bTTs0+gCLBXmjdT26U2gBRzS4ptGaAGnqaKdSHpQAq07GaiwaUZ9aQiTFNI5pOfWjBoAMUlLik3UxijrS0gOTUi0AIvSnU6ikIbto206kPSgAxRihacaYxuKaRzT6KBMjxTMVPioaBWExRilooCwoFLilToafigLDQBiggYp1FO4WI8UhXNS0UXCxFspClTU09aLjK7JSGPNWMUYHpSuJlUwik8kelW8UYHpSCxTMQFPWMVZwPQUYHpVXCxXMYNJ5A9Ks4HpRii4WIViAqQoCKdRRcLEBtznIFJ5R3YI5qzmii4WIDEV6U8xipKKLhYrmMZoa3Vl6VPiii+gWKAtAD8opxtsjGKu4oqY6BYpR2zBunFWPLAxxzU1JVuSCxCUyxBFZ8+nh5SSOK1sUjCoaTCxgvpo7CkXTAy9K3No9B+VJtHYCp5IhYxl05YuoppsEftW2UB6gUzyR6fpS5IjWhlJp6LyBU32VQuMVoeVR5VPkiS1cyDZAhsCq8+n74jxW6YvSo2irGdFSKWiPOtQ0dRcOQec9KzZLNoDjZnNeh39hu3MFXn2Fc5c2bCTkA1yVIJaAeQNGC2FrTtLdDDnNT6bFHLMxwC6jIH5VNbxvK0m5cBTXiynoc46CEKG2c8c1DNbvICVQkVfht4m3+crKAowfWq/2qOIFIlJ/CsFO2ormJPEysRt6VRfarHfxWzdRuzeYwxmqd5AvkggZNaxnzBzGPPjHy1UZ1HfJ9KsXD7R0qkTubgV2KJoTxOoOScVcWaN0PzAt2rN2mgM0ZzVyjdCFu43kbHIplqrw5yTTmdnOaVVatoJpFxIpZGLHdUTnK4HWppFqDad1Xdl3sKyFoPpVeCLe3JrRgj3HB71cGnrGQR0rKVSxnKRRhiMYBX1rUSRfJG+qtzLbwNjqw7CkivYJxtdStRzPca2JWmSJyVxSW94PO5qrPOrH5adBtP1o5XJAawu1I4qNrl1OVGRVMvtqN7nsKz5GiTTDLOvLYPpTRbbWJqnb3AByTVmSfzVwhpaoBZJI14aQCtOzRDbgh81z7xnPzHJNXraR0iCg1o72A2UVcjPAqwIhvBxVGBiY/mNalmPNXmueUrAWIrdJGQ5xjrV2EpHK3G8VFbWTu7EISPxq7b6axBzGf1rGVawEJufNk2QQIzegFTRRF22yxrG30qQ232VlkQfNmpbm5dEWRQAe5NY+1bIGR2p5OMr61PDp5eQEq2D0x3pFuI5UErSrgdRkU9tXhtoWdh2+U0XbC9ixHpobcELIfc1HeWPkW4aR8kDr61m2fiGGS6O6VVBPcgVpu8V84X5ypH3lGQawe4bmdc6lsteHHHb1qCxvkuJvm61Wn0JrjUGVLh0UdAVGKf8A2ULKMu10pYHGARXVCSSHymw4aThPkA6k96zrosr7VO3PepLS5aI5m3MpXjimzXe98olXdvYXKUbsiKMCQbgf4qxftn2fzNvy+ma37qUTriQYNZD6d59yB2qo1EnqVpYzdM1CVb1omO/51Kmu403xVe6Uu0OWDkcEngfnXMwaT5V1vA6VZYH7QCw+UAj9KUsS4yTiZNtM9otvEMNxY280cisZMDjPJrSadFkCSMBIeqmvHNPvYP7MNuGYTRnK/liltNY1E6lDeEmQxHBXHbI9vavap5jGVlItTPZN43YzzUgOOtZNvfo+jRX7/KWA3j06f41Lb6jaMMpdxkdgXGa7pSinzI15rmsh5H1qcYJwOtZ0N5uzggjHWrsABj3BgTVRkmaRHsMcd6bTjyMnrTaplBRRRSAKKKKACiiigAooooAKKKKACiiigAooooAKKKKACiiigAooooAKKKKACiiigBDRilooAbSjrSUo60ALRRRQAUUUUAFFFFABRRRQAUUUUAFFFFABRRRQAUh60tIetACUKDRTqAFFOxTQcUu6gBcUbaFbil3UAJikYfKadSHpVAR4prU+kYZpg9hlKBxS7aOlBAYpmwU+jbQMYVAHFNqRl4pu2kIb1oxSkYooAjPWg9KU9TSUxjduetBhB6U6nLQA0JilwafQBmkIZin0u2kpgNbpTaeRmk20AJjNGDTgMUtADMGjBp9JSAZilUUu2nKMUxibaNtPopCGbaj2VPSbaYEQTmnqDTgMUtIAooooAKQ9KWigBAKcaSigAozRTT1oAXNR4NPooAZg0Yp45pdtMYidDTqQDFLSEFFFB6UAJmlptKKAFpp606mnrQAUUUUAFJSjml20AJ1oxSgYpaAG0lKetIehoAMijIplFMY/IoyKZRQA/IoyKZRQA/IoyKZRQA/IoyKZRQA/IoyKZRQA/IpDz0ptOXrQAmDSgU6ikITFMyakqOmAZNGTRRQMaxqMk+lSsM03bS6iKU8bPn5sCsW6tCZPv10jIDmqU9rlq56kLgeG6fBJa3e7GVbjr0rVDJaQuMbmk7+n+c1nmWQ8r93vVg/vAm418hKbZypj4ZpSwQkOG9ulJNFjLLECc9qsFEt4w68k1Zgw6YYcmsW3sXZGFeQyNwOuOlUVTyyRP0roJYS9w3OKo3kSJ98bq2pPuFkcvewqGwVqm0KqvA5reurTz5Plqs1iVbaR2r0FUZehkRxbz0xSS25xgD8a14rQBjR9myxwKv2vKrsHYxkhKDG3NW4bdZFA+6celaS2RPani0dP4RirjikK5iTaeQ4+cYz6VGbAA53j/vmtWeAF+pzUTW7VoqsZFXuUltwvRuntU5cNAQTg+tOMDAGqskT+WcVL5WKyKckYMjEsGPrimpFtbJwfoMULG+7n1q3HDxzV+7YehXgtsn5qtJalWBHSnyDH3KILhvMCuOKtSS2HoV7hCtUj0JJrSumDdKzZFwpq9HuOyE3nbkHFOE7qoKn9ahwfLNRq79PSnyU+qCyNOJ3dctzirttIx6isy3dgwB6ZrbtEVl4qWo8oWRYhkIYdx6Vt2b7GUsNorHhG2bgD8a00hmYg7hj0rzp2ZlLR6HSw3lvDDvLdunSrFjercg+UCef71c5NbSNa/Lz9KrwJqFtAWhytckoxFdnXXUctxu+yAOQPu5Ax+dc/LHqJlaOUF0z8wU9K1NMvmcNNImxmGMCrC3H2RJGUAmQ53Htz/wDXrHbYdkUY7eFIRu3r6ryamW1XULWSONtpXoCvXirEN8N2Z1Uj6U6S7ibP2bZvxkZFJSlewmlYwpPCdyI2ll/cgHjBB3fkataWJ7METO+F4AJNbcOoS3FuouzFhDwMHmmXM9nKxIVwx5wuMVnJu4loUbzUreCPeZdjt0+U8/jVaMRyxbjOJC5zjHSleKDUZDFNE4X14qSDS7KzOAzLnpkj/CtYP+YpMW6lYhEG1EAwCEzk1BgpGTnefQcVoiW0tmAllVx6PziqsTWo1AypLGy9l7V2KUUhmc8kb5VyYyvOSCc1Xiui8hEaHA/i9a35YbS9uD5u1CeBs4FZd7ps9rNttJRtPuaxlOmzN3uXXi8mLcQGyOxqvHsR90kXmIeo3Yptl58lqVSIs3+1Uy6ZcSECZTGD6Vlu9BamRK81nfF0A2N+lSR6nDbTBvNwW4PtWq2nQPGRIxOP8+lZk2gWMhywkPoVI4/StY0m3dk8rLn/AAleoWkkMUdx59qxyy7a6U3VnOGvLeVkJOfKBPFctb6Zax25jZ5VHYkj/Cpre1W0UYlkZcdSetejGdRLVmkbrc7WPXzHaIUOCTggt71r6b4lEWDMSR6ZrzpLiMP8zIB2zV2DWbeLCyvET9DVxxM4vVlxlK567BqVtcxrJvCbjjFW1UuflwR65rzC31+2SNS0ilc8Be1dFp/iWA7N0pCk4rupYuD0Zq5anVjOTx0NIzhetRw3Mc8avbyAqR39aJSx6YNdt+Ze6UmS8GlqFCR1qYMCMVegwooopWASiiigAooooAKKKKACiiigAooooAKKKKACiiigAooooAKKKKACiiigBMUuKKKACiiigAooooAKXFJTqBoTFGKWigdhKSlNJQIKKKKBBRRRQAUEUUUAJiloooADSY96WigAHFLSUUAO3UFsim0UXAKXGaSnoeuad2A3afSmnrU2RTGGWouwsR0uadto200FhvWkIxT8YprUBYjbrSUHrRQQxh60Yp+2gLzTGN20AYqTbRtoAZT1Py0baMYpCFz7U3FLRQAmMUZ9qD0pKAF60YoHSloATFGKWigAoAzRSigAxRilopjExQTilpGoATOTilxTV+9T6AExRilooAbRQetFIQUUUUAFIRS0UAJijFLRQAgGDTs+1JRQAE5ooooAKD0ooPSgBtAOKKKAFzSHmiigApcUlOoAQDBp2fakooACc0UUUANPWkpT1ooAbt96NvvTqKuwDdvvRt96dRSYDdvvTakqOkAoGTS7fekX71PoAbt96NvvTqKQDdvvRt96dRQA3b70oGKWigAooooAKjqSo6YBRRRQMKKKKAG7PmJzTWiz3/SpKKTSe4HgKKqx9cetVo5ZGmI3kqOgxWu1rGAORu9KrfZcM3y4+lfDKrFnGiJLoltjrn0rQt5nDfO2MdKrQablg+frntVwQRKxaN97DsaltSloU2RlWuZWAfbj+IjrWfdSNDIY0bcw7irM8k7c48snggVA8QVN2cv3Jok+UVynGJI+7Z91qGYyE7jg1rwxLOv3gfwqpeWpGVRMN65roUyeZmUsro+WUkfSr8EsEnSPH4mq7wSr1Wp9Ptd7Ek4qpT93UakxQ7eYQpwKgkkfcevX0q88PlOaBHEVB4zjmpUojuUUjMhGV/SnG2AViy5xWjEseMAZNSyxqlsxK/pRKrZ6FJmCIfNBwuMVXktWwcdK2ECyRERryOvFLBZNKhyK2jUbHc5t7LnKihLVh1Nb5scMRUEtpt71r7QLmOkOfuimPGB94c1tLaCPqKZLZBxkCmqmoXOeliPUDiqMx+YAD61v3Nvt4x+lUGsc5JH6V0xkVcz1j3DAFLFZTGXhDtz6VowW2Gxj9K0oYjs4UcUqlRpBczGtNiglcetXbJP7jACoJ4riRio6HimwxTQtgE1nGd4jubS2yOOWGR71as7eEt87ZP1qjaK4OZCcEVox2oDAgmuZy0Ie5s2jrbof40HQVqKFvI0DLsQ9jWRalViKkHI7kVaa7IVEAIHqK5ZMQ9rCOPLRfcHbNZb6fc3c5eGUx7TwMVsGCVlHlN8pPIzU/wBmNuqyYPvisEyjLC3cEYjny49dv/1qsRRxxRmRADxyM0t9fER4C5Hriqtpm5zhiB3FaW6g9ircy3hm3wjCA9Mf/Wq9DKZrXft/fd/b8KbJaTCX923y0JD5Acqx3FskVFrsktzIBAGL7ZSD+NRtaGWJGlOSO9QS+fIxZlOEUmp43eaFQDg1q46oTZBdWIfBzuNPSBLSEMOTT5LedGU7uvXmrFykaW65OWqJ3SFcILlZthlAAHY8Vcmto5oWnYB4x0GaoraRzWxffsbHSpILuK2thayOx3d+azUHuWloRCW4e6WJnKR44IUYqwsghz5828ZOM4FU2vpPs6wwQhpOfmbjv71IhWa2XzgBMpPGetbRdh2IjeQ+YVQEA1FKUA3M2V9KmSNNx+Rc1VuwygrtHPPUV0wrBzIHb91liSnYYrPu5mW3xGGB7HFTLqIKeS0Y+Wq73fm5QxqFPQ11xqc2hMpEMk32ezSSZw7A56+9MTUkuGUoMZ61RvlWMkSyEjsM1RjukTITtROndGiWh28UXmoPJPbmrtsuGCu+SD0rC0a5lkgDA9Tg81p27AXhJb9a86XNCRN9TpYru9ijVoHIUcYx/wDWrb0vxBcfduf14rkY7xy3lh8HPFTPO8K5d/yNeph8Y46MtM9COsneMYI+tXItSjkwAcMa8wXUbhl3QyHjsTUkHiiaFvLlHzeua9COIbNj1oSoU+8M/WnZXaOa84h8VucDd+tb2n+I0YASnOenNdUanNoB1OP9qj8c1Bb3cNxGCPSpxjt0rUAooooAKKKKACiiigAooooAKKKKACiiigAooooAKKKKACiiigAooooAKKKKACiiigAp1NpaCkLRSUUDA0lKaSgkKKKKBBRRRQAUUUUAFFFFABRRRQAUUUUAFFFFABRRRQAUuTSUUALuNG40lFNAKScVGxNPPSo2qgG0UUUiXuNyfWlUncOadigDmmA+kNLSGgBMmiiikIKKKKACkwKWigAooooAKKKKACiiigAyaMmiigAyaOtFFAAOKMmiigAyaMmiigAooooAKUUlKKAFwKaetOpp60xhRRRSEFFFFABRRRQA3NGaDRQAUUUUAFFFFABRk0UUAKDzS00dadQAhNJk0ppKACikooAWikoqwFopKKTAWkwKKKkAwBS0lFAC0UlFAC0UUUAFIxxRSNQAm404HIplOXpTGOqOn0ygQUUUUDCiiigAooooA8UZYpZFk2gjPNSgqx/d8AVz9hcmeFo/MKsB0YYpY5Lq1DggsD0wK+JcNLHGb0xwgdW3f3hVQI7zBoBtB6mqdrquFaOYbWb1rVN7E1iEh69zXLKEoy0NIpWB7V2baTuwOtVJ7ZW+U1p6f90gupGOuahmjC3JZyCM9jUyc2PlRnwweSymFs1LerJuWRUy2MVouLeOElXRMf3mxWaLpLqbEM6MV6gMDWzhJbkkYid4dkg25pgsfszqQ5/OrkrN5iEDIx0xVlpoZLfewC8ZwTg1ndXsBRuLNZodwc5+tRWtnAUK7Pn7n1NXLSYPPtwCp96vgxqx2KF+pqnLQDEisJUmxHwCatXWbciBzuyuf0q814kEqmRSAD6USeTfsZcHI9KwW9wtdGBbJIZHdF28kZrWtLd3zubtTmsNi7lYbM5wTzVm2h2ff3DI64rfmuiIrUz7i0EIL9ST1qjLYIy+Ya2Xso7h2K3CYX+EsM0u9EQRrGWP0pPmsVbUxTbeb1pTaFEO2r8xRSfLIbH905prMBGM9TWkJyW5V9DEe1eeTDVHPYFV+grTmWQ/PCAad9juJEDOFx9a64YiwjASBt+MUFSrMPet77H6Kc1BJYsH5Qj8KftkyomKkbB8kd6uJaj74Sr8loFTJU+5ApbJI55CiuTjtiodS5VxILbeM42mra2EiLuQ1ZtbEy3HlqGHpkYrQNt5W5WP3euKylITM+BXlURS9AauiEBdkdRAjzNsasSfapcm3mCuQGPrWDkAsVu+7czdKdJNeFxGnKnipUaKONjLIBt681aj8lrRpEfOAMY5NFyChPGkVvsmTlupqvZ+SkbtGcbatRXu+VreUbn7Upso2IDYjz1560Nha5XRmk3OG6U1d00ZxHk+uOtW2sEhjKo6kt0waLKKWKQI4+UcdOtOI+QzhcXJXytnA60zzCzbI49j/wB7Fb401HnLFsA9qeLWBmMXp3olNx0Jasc+gnMm2STcfXNXJ7QGNdrc5q3eRW0MBAI+XnOeaxbm+hjARZPnPTpU/EUjSNgqqN8xDYHGf/rVRuYth+U7qgs9WaUESDlSRluK0kKTyKi4Jb0ORWl7KwmN8uSSz3SBRx2rMkjkzvBfC+9byyRmLYVA/GneQ0keIjhe+RWTkJ7GGhOPmL/nUc8TyLmHJI65re+zBR+8P6VGbcsrG2IfH3vatI1bGdjkZlKN7/xVXmj85MRsQB0rpp7ALlpEbnrwaoyC2hYJDGxPuK6oV0NaHOJY+cSsrn86Z/YrRTjyujVtyGNpwgXDZqOcz2zcoSO2BTVVNj5mZ101xYKIoW2nuaqWN5eyyEeYSoPPJrXhVb9gbgrkHnntVYGK1uHFqu9O5HNbpr4ir6HQWkyy26c5YAAn8KuPBNLHiN8fjWRYyxFQQcdyBW7p3l3FwsYk2luhbgVwzlaVzSmyJNK1CWUbWAB471pxeCpDA1xc3GOhIB/+tVg6FNHb74bgs2fu45qVNF1qeNViJGR/EMf0r0qHtZP3Tsi0jLm0uJBstMM47tVnToJ4WKysGORjHarMPw/1IXYkmnwT1GK6mw8MRWXXl+N2Sa9WMJvSQSXUfo4uNgyOMVvoTgZqO3iKIFUCrKgAfN1rsgrIzAE0U/K4puKtgA60tIBilpAFFFFABRRRQAUUUUAFFFFABRRRQAUUUUAFFFFABRRRQAUUUUAFFFFABRRRQAUUUUAFFFFABRRRQAUUUUAFFFFABRRRQAUUUUAFFFFABRRRQAUUUUAFFFGaACm07NJigBKKXFGKAGMMmkxTyKMVSAQLxRtp+RQSKYDaKKKACmnrTqaetAmFFFFIkKKKKACiiigAooooAKKKKACiijFABRS4pKACiilxQAlFLijFACUUUUAFFFFABRRRQAUUUUAFFFFACGkpSM0mKACiiirAKKKKACiiigAooooAKKKKACiiipe4DD1pKcVOaTaaBiUUUUAFFFFABRRRQAUUUUAFFKBmjaaAHDpQehpM4oLDFIQ2iiimMKKKKACiiigAooooAKKM4pM1SAQ9aKDRQB4HPoxe4EqSiFM5bHYfnTb15LC1Ji/frj71Wz/p5bKqqY5AHWnx2Es0RjVQI/avhVLU4zjY9UM95zGeCdw9K3rdHuYS0LFEB5rXh8OW0amQRMJO54wafYaJJNuZmCAH7icA0TrReiDVIghcJ5UcTMeeTzWgZIIJ1M53Ljml1KNLRBCsSK+OCorO2Q+Vi4l+c9ATXKptsjnZW1KKa6n2WeSh6nNQxMdIkCG3RnPOcj/PetIXkoTyoYY9n97Bz/OmfYlupV89UI6kkVvKo38RstXYfJfSTQRzrbL6YDj0qQxyqNkltgv0ywNRyrZRlIgxjVT/AAYFPvzfy3CT2koKgZAJOKXLDdDas7Ew2wR58sKw460RXtvtInOHXgVRRPOJ+3zzK+ekbDH61cXTLZoWY+a+fu7iK5pXuImhniukdbho+RhRjkmrENv5cDeWMCqFpoqKyzGI5U5B44q67SRMVkY+Vjt1puOhS2IJTwi7ySWPH4VemtbhrcOGG0ehFUVmszGWjLZB/ixmo1nmVCI5mZW7MamLtuCVmS+TBHCx3HzRyfemx2txOyTq+FHaop4p7kLGigMe69601sZrC0QzliwHCg8V1ym+VWKaKNvpyW93LvfcMcZqCa1Z5OW2png1NPcwfZ5GfzfOA4CkY6Vhvq9y0iRvENueOOv61MeZoys7m9a2cUa4d8/hSlysm1F3KKhsrpppgskKggcYFO1LVba3jBiVlkzggdKzcWmVYjlvTHJgQjNRxiS9mberIM1VW+Et4nzct610G4m1P2fO8L+BNVK6igsylILa3Qq4LnHvVWGyEU/2iFdobtV9tsIJuWGc45qO51izgiXYHkI/u4xSjJi2Hnz/ADEdX2c9qti3ZZwZZd271rMbWxIimK3U5OCGHT9anmvGeSJ3TaAR90e9KUtRp6XNMRR/aggAXAHOKjvrTyphMR5q1ZXyri2Dw5LgchqezR3NmEDMm3723qKydxpp7Fays0nWTeBICM1DdqYMLD908bQcVpWtvHbIRGQFIwSetL9ggkw+5SFJOT15quawcrMS0iijuXmmRs/71OedpWXYh2k9d1aFzbhiVMSLEf48c022sSLd445YjHngrncKtXYcrIJrRhEsiy8+maha5jgxK1wSycFcHrTr2P7HgxmSXHUMc1XfyLmIOLJi2MnaBzVKSJ94muNf8m3eZYywZSP88Vmad4kha7ZppGTnoc+/tV+GzF/E0Ox4BggZwMVRk8Iotu73LFjnCFT159xW3uWuyXc2hcW2o4UgbG/iWseTR7K8unXzXQx8jrTdNtZbEMmJFKcjPcVJqWpwRRhyjox4J4qFKLdolokk0+yihHkyF5BwRg0llNPbRyF4NpH3SSPaorCezmRWgmUyMed3UVbv/OkkjCmR0Ufwn61E9GFiRbhLhhtG2pRNJDKuxsr3BrMtxEsbDfIZuyZHNPg1ASB7W+hMJOdrY545/pUxi5MLG41/G0YWVUyfanw2sYG9ZNoPUL3ri7e6u7642xwqI1bBYg9Pzrp4pkt0I34jAzz3q5QsToyW4f59owV9xUAtYJnJEa7h1OKsw3Vte27CMRswOORUDK9oc7TtJ7VhKVti0l1KCaPbG7aSZ9p7DHelvNHeRgYwWXFa08IYK6hMAZyw5qo+pToGyxCLxlaITaeoe6cXcWc1pLM3lsBjHWk0MFWcG3LhupauvtUnvpAreW0bHJ83Jq5qUNhAiqq+U4/554ANdfteaNkZz3sjj5LtLa4aOK3AJ9fWtSwN01uZNiqy9ORTtQ0hLiNZIHDPjPPXn8KrWVtMm77U8ij0Q/40vaQkrdRwTRL/AMJTc2DB5Ji75wF5rqdI+ITIsQ1CLajD7w6jj2FcomhpJP5qxlof7z4zVubTGW3IAJHGwjtXTDHSpP3CrzuexaVq9lrNuJLZiSPXP9R71clU8ZAry7w5qM2i25DMd56B+nb/AArprDxnFKrJelBJkbdg/wATX0GGx1Op8b1OlSajqdRGcGpc5rPsr+O7AZWHPTFXGlVAATg5xzXfdPVBzIkp1NB+Uk846YoD560Skh3HUUvFFNK4XEopaSjlHYKKWiiwWEooopCCiinBcigY2inbaTFAWEopaSgAooooEFFFFABRRRQAUUUUAFFFFABRRRQAUUUUAFFJmjNAC0UmaUHNABRRRQAUUUUAFFFFABRRRQAUUUUAFFFBOKACkPWjNJQAU6m0uaAFopM0ZoAD1pKCc0Va2C4UUUUBcKKKKAuFNPWnUYoExtFLikpEhRRRQAUUUUAFFLgUYFACUUuBQaAEpw6U2lHSgBabTqbTAUdaWm0uaAFopAaWgY09aKKKQgooooAKKKKACiiigAooooAKKQnFJmgAPWiiiquAUUUU7gFFFFABRRRQAUUUUAFFFFS9wCkPQ0tJSAZRTtoo2imMbRTtoo2igBtFO2ijaKAG0U4rxSYoAVadTVp1IQw9aSn7aTaKYxtFO2ikIxQAlFFFABRRRQAUUUUAIaSnEZpMVQCUUuKMUAfPunWt3GgWfLb+NwHSrbxSWvzCVvpitSOI20gWThVOQTVLWVZkDxNx7CvznmczjLMeqtHYxknGOpI68UkGprfStFa/K+M5rNjeWTS5BIq4QAj5fpWbo1ytvOWZyC3HQ+1VGDV7mcrmuJNsr/a2aScHjAoRBfuVdNrDpk4q/BDEDvkK/vOhZc0kslrbSbN4LHuFOayvaRdNLqNWTyH8hUyTT2hRThm+dh92idIlnLQybj61US6K3YeX5gOK3eoublkIbRZ3MQjJbPXmryWhEOxGwy8YNammtbNG8yoPNI4BFV/sl3HKXuAoDrkEY4/WsZVLKxtJ3ZUe0aOHJTc9V0s55mHmSGMemOlagLmExlh1+8etMji2th5s5qVd6iK1ss6zeXFIWUHnimapdzW10jW0RnAHzqBn0/8Ar1obRA2IxndxkU6e0ESBsHL1qvMaKEFzb3sJk+ytG3cc02Y+XFmOJvyNWYrqK0dovKXkelJd3ohjB8sEfSoZRS88lMtuRx04qS3lmuhsmdmYdOKf58NygdlCk9gKs2kcGcq2D61onNqwNjUtrdd+YlZsf3zSyadbmATiICRTwAxp7YbEijaCeatSTQwwryGY9sUtImXNqZgvsbhHF+8XirHlWV5ZoZkAkzzzUbeTHcb1U5PWnF4TKI0HLc8dqV2yuYxr/QWlvg9scAelaempMjpDuy33SK2YLdfsrDB3Y61n/Z/s0nmQ7i+7JyaXM3oxp3EuI4ZJljuV5b8Kn042Su8SiPjsW+tV7hLoQo0yqOMZ4zUM9lHIsbRsyP3K8Zq4ikbJsIZkZjGhA6Yasq90uWRMpCMD3NTtqH2aFIgfu9TnrT4NYVQzMQVx0PNXoJaqwzSoZIAQwxtHzCmRlo76Rh/qnNR/2o9zcHydqq3B2jrTFjeGR2eQkdgQaVkP4TWluIrmUCMEJ3qheXKwSrHaOC57E/nVYaoDP5EKgH1xUc02SxVV80DgkVk5ou5S8Q6wJAsal8gfNtGR3rP0jWGt5G+0NhcjbzWvo2nx3V7m62sCejDIqG88OQx6rKZThMZQL0HArohUVhp3Zswa5btAUXDM3TmmjUJbX5okx68Vn2WjL9qRg+EUce/FLr15LYRho4t6H2+tTbnYpGgL8agpMYPmAdQOBToL144QlywbDHGDWPpOrJdQt5SqjYOQoxmkuLLULjMsbiNVOQCRz+tbSpcsdTJm5dXQnkYfZtxxxuJUVQSFrgmK4hjCezmlszdXFkEfHmA8t7YrZlsoktkQyKJOpI61xOm4vQtGbFpmn2OJQgBb/aP+PvVhtTs7PiRTz0pkm64iESBTtYjJHP8Aniia0Dqsckas3qQK0hq/eId7lMzwvqQls0kD5B3bOO1W7lUvnUX6u3+2EwB+WKmvlt9LtgIIizEdapRXheLdI4C90I61rLTYNTM1rR3Fz/oMpihI9OvX1osrfUYolgC/uzwWcYzz24ro5YxPaNOm0gdARmswx3El4rSzFYSDwAcChSb3KtYitdCuFvC5nVE6nBrUgtirMzM0iLyDjg1HHMljC8iSNNz/ABZ/rWHe+K3iuhCLZ1jYclSQB+laKkpBe50tyz6hYEW5VRyCc9Kqi1aztVtj+9eQZ4/OszTZxcg+VO6qTkjcavTK+5HS5YFcjJz6VLpJAOlmkS32SQMmzocHrWTY3kks0gvQSoPAq/FqMgswrOszbstvXPGPerH+hNb+aIhubrgf/WrJzUNAt1Io0t2lEkWVOAApqe70+VrQyOdi+ppLd4redWKhhjPIqe8v1u4HRQwHYU6dFzfMF7Fa0ElramB5lmXqNuP6fWpYrlFjbzHCsv3VJHNUYLK5M2QSFXnrTLlY7pmDNsMfBK8GnTinuNSN1ZbeRNsxBc9Oaz7y3hRtyfKw681nn7bIEDJtjB4cEZqK/iu0DSiVtijkE5zx9a09nK/usqUvdNXTtamsJ9yvlR24rak8XyX0sabSvzj5sVyWhq1yWaRN31rTfTpiQ0C7dxz94cVqsznQfIyIzPU9NulkswfMB6ZGRV4zxivL7O81SyukQtmNcE85z39avy+IZ47g3Ds2f4Y8HB/CvbpZjFwuzaM0d8Z1bhetPRs151HqmozSb1lKqTuPOMe1dbY6xbSRxRyXKiTv1rqp4qNR7l8yNzFFRrOigDeHyc0RyrKJBEcvjoa600+pSkSUZpm3fyG2460ABj97JHpWnLpcLjqKM7etG7NSAU8dKZTqBodTaM0UFCGkpTSUEsKKKKBBRRRQAUUUUAFFFFABRRRQAUUUUAFFFFADaKdQelADaUUlKKAFoopD1oAWim5ozQA6im5ozQA6im5ozQA6im5ozQA6kNJmigAooooAKKKKACiiigAoooqlsSFFNzSjrTAWiignFABRSZpCaAHU2jNFIQUUh6UmaAHUU3NGaADNGaSigBc0oOabS0AOpCeaTNFABmnUylzQA6im5ozQApOKTNFJQA+im0ZoAdRTc0A0AOopM0hNADqKbmjNADqKbmjNACmkoooAKKKKACiiimtwCiiiqAKKKKACiiigAoooqXuAUUwnmgHmgB9FFNakA6io809elAC0UUzNAD+tG2mKeafmgAxiiiigAophPNAPNMB9NbpTqa3SkA2iiimMKKKKACiiigAopDSZqkA6im5ozQB4tPqCXlrEUYdeT+dLfajHFYrGI0Zj3xWfZ2y5LhMIfujceKjmDrdr5ikpn0r88aSWhxrU0bBpjavuRAkgGcg8d6z00eWa8BtlRwDn5a0TbiWH5iVTAxis1HOl3YMMhOT0/wA/SlTnd2ZTWljcurWZbWJpgvy/wDOaqNbSO4mS22gD7zCppNReWRftDOiqAT8goN758wEEr+WOvyCl7OPNuY8tiu8ttZKRICHI4Brn31RVvGYfKFPetbV7VxHttEaZc/fUE1k3Xh0NHHt37pOW2qSRW9KMZL3mE4u9zqNN1Rbq2jeOPleCQPatHUJJViG6TKk5Jz90Vx1nb3lpCbGzDFHOS7LjH+cVt2st9axul1tkG042nOf0rmq0kpaM0V7am7ZQwTRjCtIpH3lxVK9W0tpD5uY+fl3Y5qumqXMaoRCyx89v/rVJOLW88uWTOcZIP/66cZOPQdyeO9EajMeFPRiKq3OrXUs6oq5XOB7/AK1Jq9tHfwxJbSBFB55+tZ0ds9jcRomZcHsKfOupSuXJJipMky5fptp4vYXhC3cflntuFUdSW4kmD7TGOvI61Yt5/tUQQqCy1Nr7D5rFhLINN50aExkDAFNvI5dv7mFlA74qU3DwWbMjZkHBQDpRpt0X+aRd7N/CTQqrhoLcypZr2ZXxkRoM5FZmm63Jc3zQIheRT1/PPf2rrLnUPOthDJakKfvMAelRWttbQyKdKVVY/fc84/PPvW8XGa1RDiLFdOUAWDe3fA6frS2tjKZWmbgjoPSi5S380Brj973AxUrXARRHIeDxkVjzWlyk3ZI2oSwwuVIO3rVSO9kntpHQjc3K471UuprawnGWMiydQP8APvUwtjHCt7Zk7C2dpHQYrT2d9UXFk13fqtqj3T7VWQcmozqUUpEcEe9iOMCtS40u1uYf9NiOwgsCCeMVTvYrOws1ntQCw4AJ+g9aaUVuU9TMutNuJ42cv5TdcMaksdFf7GTcOSPr/wDWq7HN9sjSRonQBRkqpbPtUszyXMPlWts0eP4nyKJR6oqMVuVNPsks73cGUxDnBrTgurbUbqSJRGMcZxWbLp0r24Ekqsec7Tmq9pFDp6SGKOUyZ67SazST3KcUy7caZBDclw4ST+6ar3liUiJfKh+j1lahfS3F4ywQvvI4OCecVDYXWsLdBbpHZFyApTHH5VqoKW5imacUsNiikHc+a0mK39rJ/C5Hy578VUnEEUIkWMtKeo54plvPMDvYKwHPXGKei0NFpqWnK2FkGlOXUfd9aqWutx6hEIJbbdxgjHT9aCbnU5Sy7VSPrz/n0oSPY5ZAHPcCmrITdwj8KtHcrcWr+WAwbbn0/CrMlhLNJtuZSoXpg9arXE15KMxSiHbztOPm9uabpuqeXJJ5zhpR0XI96Uuao0K12akBiiHlHKBepPpUKw71e63M4H3cHr/nFUJ797lt7HBzyuO1UXnuvKVFysTNjp71Lpu9hy91aG9btGW/dHD9SvpSGW6a6/d8gVjW2kXlvIbgXKlH525Gf881b8x4ejFWPc1EtHYlSuad9fAQ42FG7h6gSCxurUtcMA3bb1qrcX1rcg29wCoIwH96nj0qC2tUmmn2RjlST1/WtI32NEKLhLSAQRbsd91JOdTNvGixxohByWB9aZezkx/6Md6n+IDNXMlrNJZlMxwcAdvyq/dj8RMmiKJ1trMRXWzcx7Uu+AOIpo0MOMByOlZt3PLdAqtmy7ehOarW9j5ysL2OQbvTNXCcY6ma3NuHTNPjYPbyqxDBgo7n06VVuZiZCJ0EQLsACKSDR47BBLHM6gHIDD/E1dtGhu7hkvJRtAyCQBzUOpGTLIbWHTZYzCSFkCZbGOK1LGGKK3MKqHQ9DVO40mSRUks3CqeWfrkelTS3trbiOIzEydCABUVYJxvEd9Crqd9DpUTyvHkdhj3rGsfFtteyLC0IiY+o/wDr1oapZ2N+c3MjAHoDx/Ws99CjtocwW8rDs6oTXRh7yjysykzbg1JZXaKF1ZiMEDtQ3h4jN1v3eZztB6/p71zeg212J/tEb43NtIYAd8V1039opIkTTR7Nu4YIyOPpXLXozjsMgh+0R2/kzKevCms++t55m2lgidw1alvPIJiZ5l49cVXvz9oSQB1bI4YHpxWEYVLbjburEcGyytUjjPzN3WppIpYlCvdGJn5wx6VjadLNC7JLkoGOGxW1Pco0ieeGKMNqtitYUk/jIUR/9oz2uFMiSIRjzOapP4mjW9CzZLRjaF9e3rVPXVxbrp9skrSFt+4KTx1/rWbaQWCXCmRpPtC/eXH/ANf612uMZJKLKOhF1czRPI7sEc8JnpU9rYojJcl3OOeorKv9WiQfJI68YKlB0rPtvFN0twIrBQ0efm8zA/ofero0ZqWjA7y31m7huBJErNCPl/zzWhb+I5oZHmRSCe3+TXIzeJ0+xgRW6rdY+Y7uP89axbnxnLbx/NH+99RyP5V3upWg7ItVGtD1C38aNHIVurR3XuQOn610NjrlreKphHlhhnB+leCaJcatqF47x3apHIc9FP8ASuk/tK703Ie5BkQYDcfSuh4qcI3Zamz1/wC0JLIArA59KsqMrlefWvJND8UzXGoQu9wrIvUZX1Fej2WopfKjQMAO+DmurD4uNXc1jK+5q0ZxSbhgAdaQgg4PWu7Toa6IdkUuKjHWpN1ArgRSYpc5ooHuJijFLRQFhMUYpaKAsJiilpDQKwlGaKQ9aBC5ozTaKAHZozTaKAHUUDpRQAUHpRRQAmKBx1paQ0ALmkPWkooAKKKKACiiigAooooAKKKKBXCiikNAXFzRmm0UCuOzRmm0UBcdmikHWlp2HcKKKKoQmKMUtB6UAGaa3bFFFAhvNKDxS009aQC5ozSUUAKTxSUUUAFFFFABRRRQAUUUUAFFFFABRRRQAUUUUAFFFFABRRRQAUhpaKAG80o6UtFABRRRQAlGRQ3SmUAPpaavSnUAFFFFABSUtNbpQAuRRTKevSquAtJkUtR0J3AfkUZFMopjH5FGRTKKVibinrQOtJRRYLj8ikY02iiwXCnAgDk02kPWiwXJNw9aZmm0UWC48HmnZFRjrTuKLFLUdkUZFN4o4osOyAjJoAOaM0FqLCHZpGpm6gHNFhC0UUhOKdhi4ozSbqSiwmx2aM02iiwrimkoooKCiiigDxjTr+G5Zo4rcMOgAGMfpWzHplvd3KxSbYyBkkjOKxfCH/H031/wrUvP+QjJ9P6V+dN6nBFjdVg/s+FvKUSoDtBUe9Y81klxMgjb94rDI210Om/8ecv+9Va1/wCQ/L/n0pQj7xqtiC40ySZQEdcKBu+XrWfcpJbssduoj9TxzXRSf62X8KwtR/161MtJGbLmmrNAnkNGrr3yQc1J9inSSSUxgAggLkcZqlY/8fi/Wuju/wDVr/u1nOD7lwdzHtI0hmCTY2sP7tNWDaHBbf8AKdtTXX+rX6Vnw/eT/d/rWD5oq9y5bEt1NLFaKCihRkdqwdW1GYeVFajblRlhW7qf/HgK5yX/AFifSurDyctzMbc6jNaxqDOWI5OAa1dPup5lS5Rw2R90jpWFff6mT/dNbfh7/jxir0PZQl0HzW0C98RRfbhFeocL8vAPUZ9q0TNBDb+ba27NuHB3Y/pXNa9/yFB/vn+tdhZ/8eKUqkFFaEPUpabPIfO+0ALvx94Zx1qYQJ5iy27NuXqAcZou/wDj8f8A3V/lU1l901wct3c0WxLBeedCyfZgFxznBqosE+H+xDyxuGWPI69MVow/6uT6U21/5B9x/vr/AOhGrirSQyK8iiigjnuEXzMc4FUpczxt5alQejMau6t/x7j6VHef8eEH+6f5mofxk2K9np6lv9KQTDsSRxV/W7wW1nDbQRrGhjHzAD+n0qnb/wDHuaj1T/Uw/wC4K67XQ0hbe41K5jRhLmMfKVPp+dWZYoNQiFrLujZf4lPH5fhSWH+oX60Rf8fxrmi+WQxtrDPpb/Z4JxcAtkhl+6Px+laKXfys6jew4MfTNU4/+Qofp/Wi2/10n1rqlU5mNMtXJu4djxW8ahhkqdpxVd90mUlUKzd04xWmfuj/AHRVCX/XVjKI7kUcdvbyCQw5KEZY8570TSzXczPaxR7VHOAAasz/APIPm+n9KzdL+7N+H9abdjNE3kSPCWfYh9CAao6pozLDE1jcPI8n3kRiuKmk++auaH/r3oT6mnQo6dZTRoIyHjbHIL53VfngiKIgjaBlGGIPU/hWl/y+L9aNT/j+tFyTJmhsmQIspyeCxBqeLw7YfZzNa5abuWbr+dZaf8fA/wB4Vck+6annaloA6HQZZHElw0ca5xgAHP5GtE6FEI0RirKpzwtUrL7o+tbyf6sVLqS5gWpj3NjBZsJnDso4wG4/KoLxLS7lAhXJxnAGK09X/wCPb8v5isqP/j7/AOA/1ovd3J2ZRaCGO+8q8h3IMFSB0qvqt55yiD5vJj4UYP8AntXU6h/rl/CsnUv9Sfw/nWidlc0Rj2uprFJFZyJ5aEcSlCw/QVft9Xgl22eSsitt4BG7J+nvVyf/AJBMX+9/SsaT/kabb/fX/wBlreMFUjdkOJtSacZ2A3tDj361WlElpfm3jZZefl3f/XrY1f7y/wC4K5Z/+Rgg+g/ma44K9RxJirM6Oa+ENkftcEbMoJwAOK5tNet5L7bJEoQE8KMZH5VPrH+uk/3f6Vxtt/yFm+p/rXbGjEs7RtZW7vGhtJHigxnZuIx/Ks3UIDczxy2k3lurdGfOazG/4+2/3f61lt/rx/vVpFKMrAdvYw3F0fJulVzj5XDCqP8AaV5Z3xtL5pvJJwGVjx+Wak8Nffj/AN5v5V0l/wDwf73+NEXyTujJnE3NhqFszz2EsyQs4IVnPH6112ieatus2pXIkJjXHykkcfjVjW/+QEPqKp2X+rg/3P8A2WumrTUkUP1G6sYxsU/Mf4gD/hWXPPBHGCJSyfxYO3FVJ/8AkJPXP6n9y4/3l/lXLGioyuBt6jq0FokItJVfefmUqePxrYVrS/dVe6KFeijOAf8AJrzUf6yP6f0rbs/+PwVrOmnED0W0sI5E2+Zvm6eaeeP/ANVV5vDttaXRujGXYHliw5/D8al8Nfeb/dq5qn/HrJ/nvXmTi4ptMCheeGYddsxc2pWMq3IGBxg/SuVl8O3EF2+wYC/xDj+tdroP/ILP1/pVq7/48X+ldGHlLlvcDy690u/nDFXcKpwShx/Wqxu9Kt7Mx3c7GUdmjZj+eK9Atf8Aj1m/3jXl+pf8hl/rXbh8RKUrPoT1Nm016z0nTUGmhppskncCMZPuPesu+8XtLdKtwpBYknB4FQn/AI+W/wB3+lc5ef8AIR/4Ea9KFqj5WjVHZ6PdvFKsjFkj9A3WvTPD3iOC2RRFK7H+JWJry9f9RDW7Yf6l/wAK5K8fZVPdJlJpnvmlX6X9qs33PbOe1aDYLnJrkfA3/IAH0H8hXUr9wV7uHnzU1c6YSbQ88dOaKQUtbmgoOKXdTaKCkPBzS01elOoGFIeKWkPSgBN1G6m0UA9hc0lFFBAUUUUAFFFFACg4ozSUUALmjNJRQAuaCc0lFABRRRQAUUUUAFFFFABRRRQAUUUHpQSJmgnNJRQIKKKKACiiimgAcUuaSimA4HNFIKKYxaD0pKKAEpCcUtIaQgzSGiigAooooAKKKKACiiigAooooAKQnFLTWoAN1KDkUynr92mAtN3U6o6QDg2adTF60+gAooooAbuo3Uh6mgdaYx9FFFIQUUUUAFN3U6o6AFLZFJRRTGKDil3U2igB26jdTaKAHbqQnNJRQAUobApKKAHbqbRRTQAeKBzQaFpgDfLSZpX6im0EPcXNGaSigBc0ZpKKAFzSHmiigAooooABwadmm0UDQ7NGabRQO4E0HpRQelAxtKp5pKB1oEPzTWPNLTT1oGFLmkooJYuaM0lFAhQc0tIKWgpbCZozSHrRQB//2Q==)"
      ],
      "metadata": {
        "id": "cSXrkrkKxcHA"
      }
    },
    {
      "cell_type": "code",
      "execution_count": null,
      "metadata": {
        "id": "IwOmB5lWxVV7"
      },
      "outputs": [],
      "source": [
        "import pandas as pd\n",
        "data = pd.read_csv(\"/content/drive/MyDrive/newkpcbclasswise.csv\", encoding = 'unicode_escape')"
      ]
    },
    {
      "cell_type": "markdown",
      "metadata": {
        "id": "zSB7K19uxvHI"
      },
      "source": [
        "Dataframe is a data structure having some rows and coloumns\n",
        "\n",
        "Coloumns of dataframe may have data of different datatypes\n",
        "\n",
        "Shape of dataset tells the number of rows and coloumns"
      ]
    },
    {
      "cell_type": "code",
      "execution_count": null,
      "metadata": {
        "id": "rToeHuJsxxKX",
        "colab": {
          "base_uri": "https://localhost:8080/"
        },
        "outputId": "6bc7769d-512c-48bc-de90-8df8d020d04d"
      },
      "outputs": [
        {
          "output_type": "stream",
          "name": "stdout",
          "text": [
            "Shape of Dataset: (220, 15)\n"
          ]
        }
      ],
      "source": [
        "print(\"Shape of Dataset:\" , data.shape)"
      ]
    },
    {
      "cell_type": "code",
      "execution_count": null,
      "metadata": {
        "id": "Qawu_qgmx2_S",
        "colab": {
          "base_uri": "https://localhost:8080/",
          "height": 357
        },
        "outputId": "8f84b055-947d-4f84-b64c-8f1a65a689a3"
      },
      "outputs": [
        {
          "output_type": "execute_result",
          "data": {
            "text/html": [
              "\n",
              "  <div id=\"df-5f9a0682-5f4f-434d-9585-12242511dd87\">\n",
              "    <div class=\"colab-df-container\">\n",
              "      <div>\n",
              "<style scoped>\n",
              "    .dataframe tbody tr th:only-of-type {\n",
              "        vertical-align: middle;\n",
              "    }\n",
              "\n",
              "    .dataframe tbody tr th {\n",
              "        vertical-align: top;\n",
              "    }\n",
              "\n",
              "    .dataframe thead th {\n",
              "        text-align: right;\n",
              "    }\n",
              "</style>\n",
              "<table border=\"1\" class=\"dataframe\">\n",
              "  <thead>\n",
              "    <tr style=\"text-align: right;\">\n",
              "      <th></th>\n",
              "      <th>Source</th>\n",
              "      <th>Stations</th>\n",
              "      <th>ph_max</th>\n",
              "      <th>ph_min</th>\n",
              "      <th>EC_max_µmhos/cm</th>\n",
              "      <th>EC_min_µmhos/cm</th>\n",
              "      <th>DO_max</th>\n",
              "      <th>DO_min_mg/l</th>\n",
              "      <th>BOD_max_mg/l</th>\n",
              "      <th>BOD_min_mg/l</th>\n",
              "      <th>TC_max_MPN/100ml</th>\n",
              "      <th>TC_min_MPN/100ml</th>\n",
              "      <th>FC_max_MPN/100ml</th>\n",
              "      <th>FC_min_MPN/100ml</th>\n",
              "      <th>CLASS</th>\n",
              "    </tr>\n",
              "  </thead>\n",
              "  <tbody>\n",
              "    <tr>\n",
              "      <th>0</th>\n",
              "      <td>KADALUNDI RIVER</td>\n",
              "      <td>Oravambrum</td>\n",
              "      <td>7.5</td>\n",
              "      <td>6.5</td>\n",
              "      <td>138</td>\n",
              "      <td>42</td>\n",
              "      <td>8.7</td>\n",
              "      <td>4.0</td>\n",
              "      <td>3.9</td>\n",
              "      <td>0.6</td>\n",
              "      <td>80</td>\n",
              "      <td>12</td>\n",
              "      <td>40</td>\n",
              "      <td>4</td>\n",
              "      <td>A</td>\n",
              "    </tr>\n",
              "    <tr>\n",
              "      <th>1</th>\n",
              "      <td>KADALUNDI RIVER</td>\n",
              "      <td>Anakkayam</td>\n",
              "      <td>7.3</td>\n",
              "      <td>6.3</td>\n",
              "      <td>117</td>\n",
              "      <td>57</td>\n",
              "      <td>9.2</td>\n",
              "      <td>5.3</td>\n",
              "      <td>4.4</td>\n",
              "      <td>0.6</td>\n",
              "      <td>72</td>\n",
              "      <td>8</td>\n",
              "      <td>40</td>\n",
              "      <td>4</td>\n",
              "      <td>A</td>\n",
              "    </tr>\n",
              "    <tr>\n",
              "      <th>2</th>\n",
              "      <td>KADALUNDI RIVER</td>\n",
              "      <td>Hajiyarappally</td>\n",
              "      <td>7.6</td>\n",
              "      <td>6.5</td>\n",
              "      <td>140</td>\n",
              "      <td>60</td>\n",
              "      <td>8.3</td>\n",
              "      <td>4.6</td>\n",
              "      <td>2.1</td>\n",
              "      <td>0.6</td>\n",
              "      <td>61</td>\n",
              "      <td>20</td>\n",
              "      <td>40</td>\n",
              "      <td>4</td>\n",
              "      <td>A</td>\n",
              "    </tr>\n",
              "    <tr>\n",
              "      <th>3</th>\n",
              "      <td>KADALUNDI RIVER</td>\n",
              "      <td>Manikuth</td>\n",
              "      <td>7.4</td>\n",
              "      <td>6.3</td>\n",
              "      <td>117</td>\n",
              "      <td>59</td>\n",
              "      <td>9.0</td>\n",
              "      <td>3.5</td>\n",
              "      <td>2.6</td>\n",
              "      <td>1.2</td>\n",
              "      <td>60</td>\n",
              "      <td>12</td>\n",
              "      <td>28</td>\n",
              "      <td>12</td>\n",
              "      <td>A</td>\n",
              "    </tr>\n",
              "    <tr>\n",
              "      <th>4</th>\n",
              "      <td>KADALUNDI RIVER</td>\n",
              "      <td>Kooriyad</td>\n",
              "      <td>7.4</td>\n",
              "      <td>6.5</td>\n",
              "      <td>145</td>\n",
              "      <td>63</td>\n",
              "      <td>8.6</td>\n",
              "      <td>4.0</td>\n",
              "      <td>4.4</td>\n",
              "      <td>0.8</td>\n",
              "      <td>49</td>\n",
              "      <td>12</td>\n",
              "      <td>28</td>\n",
              "      <td>6</td>\n",
              "      <td>A</td>\n",
              "    </tr>\n",
              "  </tbody>\n",
              "</table>\n",
              "</div>\n",
              "      <button class=\"colab-df-convert\" onclick=\"convertToInteractive('df-5f9a0682-5f4f-434d-9585-12242511dd87')\"\n",
              "              title=\"Convert this dataframe to an interactive table.\"\n",
              "              style=\"display:none;\">\n",
              "        \n",
              "  <svg xmlns=\"http://www.w3.org/2000/svg\" height=\"24px\"viewBox=\"0 0 24 24\"\n",
              "       width=\"24px\">\n",
              "    <path d=\"M0 0h24v24H0V0z\" fill=\"none\"/>\n",
              "    <path d=\"M18.56 5.44l.94 2.06.94-2.06 2.06-.94-2.06-.94-.94-2.06-.94 2.06-2.06.94zm-11 1L8.5 8.5l.94-2.06 2.06-.94-2.06-.94L8.5 2.5l-.94 2.06-2.06.94zm10 10l.94 2.06.94-2.06 2.06-.94-2.06-.94-.94-2.06-.94 2.06-2.06.94z\"/><path d=\"M17.41 7.96l-1.37-1.37c-.4-.4-.92-.59-1.43-.59-.52 0-1.04.2-1.43.59L10.3 9.45l-7.72 7.72c-.78.78-.78 2.05 0 2.83L4 21.41c.39.39.9.59 1.41.59.51 0 1.02-.2 1.41-.59l7.78-7.78 2.81-2.81c.8-.78.8-2.07 0-2.86zM5.41 20L4 18.59l7.72-7.72 1.47 1.35L5.41 20z\"/>\n",
              "  </svg>\n",
              "      </button>\n",
              "      \n",
              "  <style>\n",
              "    .colab-df-container {\n",
              "      display:flex;\n",
              "      flex-wrap:wrap;\n",
              "      gap: 12px;\n",
              "    }\n",
              "\n",
              "    .colab-df-convert {\n",
              "      background-color: #E8F0FE;\n",
              "      border: none;\n",
              "      border-radius: 50%;\n",
              "      cursor: pointer;\n",
              "      display: none;\n",
              "      fill: #1967D2;\n",
              "      height: 32px;\n",
              "      padding: 0 0 0 0;\n",
              "      width: 32px;\n",
              "    }\n",
              "\n",
              "    .colab-df-convert:hover {\n",
              "      background-color: #E2EBFA;\n",
              "      box-shadow: 0px 1px 2px rgba(60, 64, 67, 0.3), 0px 1px 3px 1px rgba(60, 64, 67, 0.15);\n",
              "      fill: #174EA6;\n",
              "    }\n",
              "\n",
              "    [theme=dark] .colab-df-convert {\n",
              "      background-color: #3B4455;\n",
              "      fill: #D2E3FC;\n",
              "    }\n",
              "\n",
              "    [theme=dark] .colab-df-convert:hover {\n",
              "      background-color: #434B5C;\n",
              "      box-shadow: 0px 1px 3px 1px rgba(0, 0, 0, 0.15);\n",
              "      filter: drop-shadow(0px 1px 2px rgba(0, 0, 0, 0.3));\n",
              "      fill: #FFFFFF;\n",
              "    }\n",
              "  </style>\n",
              "\n",
              "      <script>\n",
              "        const buttonEl =\n",
              "          document.querySelector('#df-5f9a0682-5f4f-434d-9585-12242511dd87 button.colab-df-convert');\n",
              "        buttonEl.style.display =\n",
              "          google.colab.kernel.accessAllowed ? 'block' : 'none';\n",
              "\n",
              "        async function convertToInteractive(key) {\n",
              "          const element = document.querySelector('#df-5f9a0682-5f4f-434d-9585-12242511dd87');\n",
              "          const dataTable =\n",
              "            await google.colab.kernel.invokeFunction('convertToInteractive',\n",
              "                                                     [key], {});\n",
              "          if (!dataTable) return;\n",
              "\n",
              "          const docLinkHtml = 'Like what you see? Visit the ' +\n",
              "            '<a target=\"_blank\" href=https://colab.research.google.com/notebooks/data_table.ipynb>data table notebook</a>'\n",
              "            + ' to learn more about interactive tables.';\n",
              "          element.innerHTML = '';\n",
              "          dataTable['output_type'] = 'display_data';\n",
              "          await google.colab.output.renderOutput(dataTable, element);\n",
              "          const docLink = document.createElement('div');\n",
              "          docLink.innerHTML = docLinkHtml;\n",
              "          element.appendChild(docLink);\n",
              "        }\n",
              "      </script>\n",
              "    </div>\n",
              "  </div>\n",
              "  "
            ],
            "text/plain": [
              "            Source          Stations  ...  FC_min_MPN/100ml  CLASS\n",
              "0  KADALUNDI RIVER       Oravambrum   ...                 4      A\n",
              "1  KADALUNDI RIVER       Anakkayam    ...                 4      A\n",
              "2  KADALUNDI RIVER  Hajiyarappally    ...                 4      A\n",
              "3  KADALUNDI RIVER        Manikuth    ...                12      A\n",
              "4  KADALUNDI RIVER        Kooriyad    ...                 6      A\n",
              "\n",
              "[5 rows x 15 columns]"
            ]
          },
          "metadata": {},
          "execution_count": 6
        }
      ],
      "source": [
        "data.head()"
      ]
    },
    {
      "cell_type": "markdown",
      "metadata": {
        "id": "jJ1WnY_u6PPm"
      },
      "source": [
        "#DATASET CLEANING"
      ]
    },
    {
      "cell_type": "code",
      "execution_count": null,
      "metadata": {
        "id": "qQCmTSNmx7Cp",
        "colab": {
          "base_uri": "https://localhost:8080/"
        },
        "outputId": "ff9d8afc-6efa-41bf-d5a2-2950fe8b59b3"
      },
      "outputs": [
        {
          "output_type": "execute_result",
          "data": {
            "text/plain": [
              "Source              0\n",
              "Stations            0\n",
              "ph_max              0\n",
              "ph_min              0\n",
              "EC_max_µmhos/cm     0\n",
              "EC_min_µmhos/cm     0\n",
              "DO_max              0\n",
              "DO_min_mg/l         0\n",
              "BOD_max_mg/l        0\n",
              "BOD_min_mg/l        0\n",
              "TC_max_MPN/100ml    0\n",
              "TC_min_MPN/100ml    0\n",
              "FC_max_MPN/100ml    0\n",
              "FC_min_MPN/100ml    0\n",
              "CLASS               0\n",
              "dtype: int64"
            ]
          },
          "metadata": {},
          "execution_count": 7
        }
      ],
      "source": [
        "#Since missing values should not be present for a better machine learning ...find the missing value is present or not\n",
        "data.isnull().sum()"
      ]
    },
    {
      "cell_type": "markdown",
      "metadata": {
        "id": "E1-q74hiI57v"
      },
      "source": [
        "No missing values present"
      ]
    },
    {
      "cell_type": "code",
      "execution_count": null,
      "metadata": {
        "id": "U8pLNjzHyeZh",
        "colab": {
          "base_uri": "https://localhost:8080/"
        },
        "outputId": "a3b13a1a-ac30-4dc6-a71f-f80db6d7a810"
      },
      "outputs": [
        {
          "output_type": "execute_result",
          "data": {
            "text/plain": [
              "B          82\n",
              "C          75\n",
              "Below E    25\n",
              "D          15\n",
              "E          15\n",
              "A           8\n",
              "Name: CLASS, dtype: int64"
            ]
          },
          "metadata": {},
          "execution_count": 8
        }
      ],
      "source": [
        "data['CLASS'].value_counts()"
      ]
    },
    {
      "cell_type": "code",
      "execution_count": null,
      "metadata": {
        "id": "wbBy7ZWaHo2i"
      },
      "outputs": [],
      "source": [
        "from sklearn.utils import resample\n",
        "# Separate majority and minority classes\n",
        "# Separate majority and minority classes\n",
        "data_majority = data[data.CLASS=='B']\n",
        "data_minority_1 = data[data.CLASS=='A']\n",
        "data_minority_2 = data[data.CLASS=='C']\n",
        "data_minority_3 = data[data.CLASS=='D']\n",
        "data_minority_4 = data[data.CLASS=='E']\n",
        "data_minority_5 = data[data.CLASS=='Below E']\n",
        "\n",
        "# Upsample minority class\n",
        "data_minority_upsampled_1 = resample(data_minority_1, \n",
        "                                 replace=True,     # sample with replacement\n",
        "                                 n_samples=len(data_majority),    # to match majority class\n",
        "                                 random_state=1234) # reproducible results\n",
        "\n",
        "data_minority_upsampled_2 = resample(data_minority_2, \n",
        "                                 replace=True,     # sample with replacement\n",
        "                                 n_samples=len(data_majority),    # to match majority class\n",
        "                                 random_state=1234) # reproducible results  \n",
        "\n",
        "data_minority_upsampled_3 = resample(data_minority_3, \n",
        "                                 replace=True,     # sample with replacement\n",
        "                                 n_samples=len(data_majority),    # to match majority class\n",
        "                                 random_state=1234) # reproducible results                             \n",
        "\n",
        "\n",
        "data_minority_upsampled_4 = resample(data_minority_4, \n",
        "                                 replace=True,     # sample with replacement\n",
        "                                 n_samples=len(data_majority),    # to match majority class\n",
        "                                 random_state=1234) # reproducible results  \n",
        "\n",
        "data_minority_upsampled_5 = resample(data_minority_5, \n",
        "                                 replace=True,     # sample with replacement\n",
        "                                 n_samples=len(data_majority),    # to match majority class\n",
        "                                 random_state=1234) # reproducible results   \n",
        "# Combine majority class with upsampled minority class\n",
        "data_upsampled = pd.concat([data_majority, data_minority_upsampled_1,data_minority_upsampled_2,data_minority_upsampled_3,data_minority_upsampled_4,data_minority_upsampled_5])\n"
      ]
    },
    {
      "cell_type": "code",
      "execution_count": null,
      "metadata": {
        "id": "Ml8II2vUTLcW",
        "colab": {
          "base_uri": "https://localhost:8080/"
        },
        "outputId": "e2077ced-09a4-42a8-b83e-83db7ad7d828"
      },
      "outputs": [
        {
          "output_type": "execute_result",
          "data": {
            "text/plain": [
              "B          82\n",
              "A          82\n",
              "C          82\n",
              "D          82\n",
              "E          82\n",
              "Below E    82\n",
              "Name: CLASS, dtype: int64"
            ]
          },
          "metadata": {},
          "execution_count": 10
        }
      ],
      "source": [
        "data_upsampled['CLASS'].value_counts()"
      ]
    },
    {
      "cell_type": "markdown",
      "metadata": {
        "id": "yNmt38tjKebd"
      },
      "source": [
        "#Checking Classification Models"
      ]
    },
    {
      "cell_type": "markdown",
      "metadata": {
        "id": "IH1Qw1fk-yon"
      },
      "source": [
        "Now model needed to be constructed for predictive analysis, by training and testing data\n",
        "\n",
        "Evaluation matrix gives scores to understand the accuracy of the model built\n",
        "\n",
        "Here logistic model needed to be used for machine learning\n",
        "\n",
        "Logistic Regression Model - Its a probabilistic model, performs great in case of multiple classes"
      ]
    },
    {
      "cell_type": "code",
      "execution_count": null,
      "metadata": {
        "id": "RCWY7jE_-YLy",
        "colab": {
          "base_uri": "https://localhost:8080/",
          "height": 504
        },
        "outputId": "2579e655-a1e0-4d94-9c35-e097a3c16e8e"
      },
      "outputs": [
        {
          "output_type": "stream",
          "name": "stdout",
          "text": [
            "Shape of x :  (492, 12)\n",
            "Shape of y :  (492,)\n"
          ]
        },
        {
          "output_type": "execute_result",
          "data": {
            "text/html": [
              "\n",
              "  <div id=\"df-251c46db-7562-46f5-97f8-071cb9c4bec0\">\n",
              "    <div class=\"colab-df-container\">\n",
              "      <div>\n",
              "<style scoped>\n",
              "    .dataframe tbody tr th:only-of-type {\n",
              "        vertical-align: middle;\n",
              "    }\n",
              "\n",
              "    .dataframe tbody tr th {\n",
              "        vertical-align: top;\n",
              "    }\n",
              "\n",
              "    .dataframe thead th {\n",
              "        text-align: right;\n",
              "    }\n",
              "</style>\n",
              "<table border=\"1\" class=\"dataframe\">\n",
              "  <thead>\n",
              "    <tr style=\"text-align: right;\">\n",
              "      <th></th>\n",
              "      <th>ph_max</th>\n",
              "      <th>ph_min</th>\n",
              "      <th>EC_max_µmhos/cm</th>\n",
              "      <th>EC_min_µmhos/cm</th>\n",
              "      <th>DO_max</th>\n",
              "      <th>DO_min_mg/l</th>\n",
              "      <th>BOD_max_mg/l</th>\n",
              "      <th>BOD_min_mg/l</th>\n",
              "      <th>TC_max_MPN/100ml</th>\n",
              "      <th>TC_min_MPN/100ml</th>\n",
              "      <th>FC_max_MPN/100ml</th>\n",
              "      <th>FC_min_MPN/100ml</th>\n",
              "    </tr>\n",
              "  </thead>\n",
              "  <tbody>\n",
              "    <tr>\n",
              "      <th>8</th>\n",
              "      <td>7.4</td>\n",
              "      <td>6.1</td>\n",
              "      <td>94</td>\n",
              "      <td>14</td>\n",
              "      <td>7.9</td>\n",
              "      <td>4.5</td>\n",
              "      <td>5.5</td>\n",
              "      <td>0.8</td>\n",
              "      <td>500</td>\n",
              "      <td>100</td>\n",
              "      <td>200</td>\n",
              "      <td>80</td>\n",
              "    </tr>\n",
              "    <tr>\n",
              "      <th>9</th>\n",
              "      <td>7.3</td>\n",
              "      <td>6.0</td>\n",
              "      <td>186</td>\n",
              "      <td>70</td>\n",
              "      <td>7.7</td>\n",
              "      <td>5.0</td>\n",
              "      <td>4.3</td>\n",
              "      <td>1.1</td>\n",
              "      <td>600</td>\n",
              "      <td>180</td>\n",
              "      <td>500</td>\n",
              "      <td>79</td>\n",
              "    </tr>\n",
              "    <tr>\n",
              "      <th>10</th>\n",
              "      <td>7.9</td>\n",
              "      <td>6.8</td>\n",
              "      <td>220</td>\n",
              "      <td>99</td>\n",
              "      <td>7.6</td>\n",
              "      <td>5.8</td>\n",
              "      <td>2.3</td>\n",
              "      <td>0.8</td>\n",
              "      <td>680</td>\n",
              "      <td>280</td>\n",
              "      <td>210</td>\n",
              "      <td>90</td>\n",
              "    </tr>\n",
              "    <tr>\n",
              "      <th>11</th>\n",
              "      <td>7.6</td>\n",
              "      <td>7.0</td>\n",
              "      <td>130</td>\n",
              "      <td>118</td>\n",
              "      <td>6.9</td>\n",
              "      <td>6.0</td>\n",
              "      <td>2.1</td>\n",
              "      <td>1.2</td>\n",
              "      <td>410</td>\n",
              "      <td>170</td>\n",
              "      <td>210</td>\n",
              "      <td>70</td>\n",
              "    </tr>\n",
              "    <tr>\n",
              "      <th>12</th>\n",
              "      <td>7.7</td>\n",
              "      <td>6.6</td>\n",
              "      <td>139</td>\n",
              "      <td>61</td>\n",
              "      <td>7.5</td>\n",
              "      <td>6.2</td>\n",
              "      <td>1.9</td>\n",
              "      <td>0.5</td>\n",
              "      <td>600</td>\n",
              "      <td>380</td>\n",
              "      <td>280</td>\n",
              "      <td>110</td>\n",
              "    </tr>\n",
              "    <tr>\n",
              "      <th>...</th>\n",
              "      <td>...</td>\n",
              "      <td>...</td>\n",
              "      <td>...</td>\n",
              "      <td>...</td>\n",
              "      <td>...</td>\n",
              "      <td>...</td>\n",
              "      <td>...</td>\n",
              "      <td>...</td>\n",
              "      <td>...</td>\n",
              "      <td>...</td>\n",
              "      <td>...</td>\n",
              "      <td>...</td>\n",
              "    </tr>\n",
              "    <tr>\n",
              "      <th>208</th>\n",
              "      <td>7.6</td>\n",
              "      <td>6.9</td>\n",
              "      <td>42600</td>\n",
              "      <td>66</td>\n",
              "      <td>8.2</td>\n",
              "      <td>4.5</td>\n",
              "      <td>2.7</td>\n",
              "      <td>0.7</td>\n",
              "      <td>750</td>\n",
              "      <td>31</td>\n",
              "      <td>170</td>\n",
              "      <td>5</td>\n",
              "    </tr>\n",
              "    <tr>\n",
              "      <th>201</th>\n",
              "      <td>7.9</td>\n",
              "      <td>6.4</td>\n",
              "      <td>33250</td>\n",
              "      <td>218</td>\n",
              "      <td>7.9</td>\n",
              "      <td>4.1</td>\n",
              "      <td>2.4</td>\n",
              "      <td>0.1</td>\n",
              "      <td>5000</td>\n",
              "      <td>400</td>\n",
              "      <td>4600</td>\n",
              "      <td>200</td>\n",
              "    </tr>\n",
              "    <tr>\n",
              "      <th>202</th>\n",
              "      <td>7.7</td>\n",
              "      <td>6.0</td>\n",
              "      <td>41810</td>\n",
              "      <td>97</td>\n",
              "      <td>7.0</td>\n",
              "      <td>4.1</td>\n",
              "      <td>2.9</td>\n",
              "      <td>0.3</td>\n",
              "      <td>9000</td>\n",
              "      <td>700</td>\n",
              "      <td>7100</td>\n",
              "      <td>100</td>\n",
              "    </tr>\n",
              "    <tr>\n",
              "      <th>199</th>\n",
              "      <td>8.0</td>\n",
              "      <td>5.9</td>\n",
              "      <td>37180</td>\n",
              "      <td>113</td>\n",
              "      <td>6.6</td>\n",
              "      <td>1.6</td>\n",
              "      <td>2.7</td>\n",
              "      <td>0.4</td>\n",
              "      <td>52</td>\n",
              "      <td>12</td>\n",
              "      <td>26</td>\n",
              "      <td>4</td>\n",
              "    </tr>\n",
              "    <tr>\n",
              "      <th>198</th>\n",
              "      <td>7.5</td>\n",
              "      <td>6.0</td>\n",
              "      <td>39650</td>\n",
              "      <td>74</td>\n",
              "      <td>6.7</td>\n",
              "      <td>2.1</td>\n",
              "      <td>3.2</td>\n",
              "      <td>0.8</td>\n",
              "      <td>63</td>\n",
              "      <td>17</td>\n",
              "      <td>48</td>\n",
              "      <td>8</td>\n",
              "    </tr>\n",
              "  </tbody>\n",
              "</table>\n",
              "<p>492 rows × 12 columns</p>\n",
              "</div>\n",
              "      <button class=\"colab-df-convert\" onclick=\"convertToInteractive('df-251c46db-7562-46f5-97f8-071cb9c4bec0')\"\n",
              "              title=\"Convert this dataframe to an interactive table.\"\n",
              "              style=\"display:none;\">\n",
              "        \n",
              "  <svg xmlns=\"http://www.w3.org/2000/svg\" height=\"24px\"viewBox=\"0 0 24 24\"\n",
              "       width=\"24px\">\n",
              "    <path d=\"M0 0h24v24H0V0z\" fill=\"none\"/>\n",
              "    <path d=\"M18.56 5.44l.94 2.06.94-2.06 2.06-.94-2.06-.94-.94-2.06-.94 2.06-2.06.94zm-11 1L8.5 8.5l.94-2.06 2.06-.94-2.06-.94L8.5 2.5l-.94 2.06-2.06.94zm10 10l.94 2.06.94-2.06 2.06-.94-2.06-.94-.94-2.06-.94 2.06-2.06.94z\"/><path d=\"M17.41 7.96l-1.37-1.37c-.4-.4-.92-.59-1.43-.59-.52 0-1.04.2-1.43.59L10.3 9.45l-7.72 7.72c-.78.78-.78 2.05 0 2.83L4 21.41c.39.39.9.59 1.41.59.51 0 1.02-.2 1.41-.59l7.78-7.78 2.81-2.81c.8-.78.8-2.07 0-2.86zM5.41 20L4 18.59l7.72-7.72 1.47 1.35L5.41 20z\"/>\n",
              "  </svg>\n",
              "      </button>\n",
              "      \n",
              "  <style>\n",
              "    .colab-df-container {\n",
              "      display:flex;\n",
              "      flex-wrap:wrap;\n",
              "      gap: 12px;\n",
              "    }\n",
              "\n",
              "    .colab-df-convert {\n",
              "      background-color: #E8F0FE;\n",
              "      border: none;\n",
              "      border-radius: 50%;\n",
              "      cursor: pointer;\n",
              "      display: none;\n",
              "      fill: #1967D2;\n",
              "      height: 32px;\n",
              "      padding: 0 0 0 0;\n",
              "      width: 32px;\n",
              "    }\n",
              "\n",
              "    .colab-df-convert:hover {\n",
              "      background-color: #E2EBFA;\n",
              "      box-shadow: 0px 1px 2px rgba(60, 64, 67, 0.3), 0px 1px 3px 1px rgba(60, 64, 67, 0.15);\n",
              "      fill: #174EA6;\n",
              "    }\n",
              "\n",
              "    [theme=dark] .colab-df-convert {\n",
              "      background-color: #3B4455;\n",
              "      fill: #D2E3FC;\n",
              "    }\n",
              "\n",
              "    [theme=dark] .colab-df-convert:hover {\n",
              "      background-color: #434B5C;\n",
              "      box-shadow: 0px 1px 3px 1px rgba(0, 0, 0, 0.15);\n",
              "      filter: drop-shadow(0px 1px 2px rgba(0, 0, 0, 0.3));\n",
              "      fill: #FFFFFF;\n",
              "    }\n",
              "  </style>\n",
              "\n",
              "      <script>\n",
              "        const buttonEl =\n",
              "          document.querySelector('#df-251c46db-7562-46f5-97f8-071cb9c4bec0 button.colab-df-convert');\n",
              "        buttonEl.style.display =\n",
              "          google.colab.kernel.accessAllowed ? 'block' : 'none';\n",
              "\n",
              "        async function convertToInteractive(key) {\n",
              "          const element = document.querySelector('#df-251c46db-7562-46f5-97f8-071cb9c4bec0');\n",
              "          const dataTable =\n",
              "            await google.colab.kernel.invokeFunction('convertToInteractive',\n",
              "                                                     [key], {});\n",
              "          if (!dataTable) return;\n",
              "\n",
              "          const docLinkHtml = 'Like what you see? Visit the ' +\n",
              "            '<a target=\"_blank\" href=https://colab.research.google.com/notebooks/data_table.ipynb>data table notebook</a>'\n",
              "            + ' to learn more about interactive tables.';\n",
              "          element.innerHTML = '';\n",
              "          dataTable['output_type'] = 'display_data';\n",
              "          await google.colab.output.renderOutput(dataTable, element);\n",
              "          const docLink = document.createElement('div');\n",
              "          docLink.innerHTML = docLinkHtml;\n",
              "          element.appendChild(docLink);\n",
              "        }\n",
              "      </script>\n",
              "    </div>\n",
              "  </div>\n",
              "  "
            ],
            "text/plain": [
              "     ph_max  ph_min  ...  FC_max_MPN/100ml  FC_min_MPN/100ml\n",
              "8       7.4     6.1  ...               200                80\n",
              "9       7.3     6.0  ...               500                79\n",
              "10      7.9     6.8  ...               210                90\n",
              "11      7.6     7.0  ...               210                70\n",
              "12      7.7     6.6  ...               280               110\n",
              "..      ...     ...  ...               ...               ...\n",
              "208     7.6     6.9  ...               170                 5\n",
              "201     7.9     6.4  ...              4600               200\n",
              "202     7.7     6.0  ...              7100               100\n",
              "199     8.0     5.9  ...                26                 4\n",
              "198     7.5     6.0  ...                48                 8\n",
              "\n",
              "[492 rows x 12 columns]"
            ]
          },
          "metadata": {},
          "execution_count": 11
        }
      ],
      "source": [
        "# Remove label coloumn data from the dataset to avoid cheating in case of model formation, \n",
        "# and rest dataset is stored in x variable and label is stored in y variable\n",
        "\n",
        "x=data_upsampled.drop(['CLASS','Source','Stations'],axis=1)\n",
        "y=data_upsampled['CLASS']\n",
        "\n",
        "print(\"Shape of x : \", x.shape)\n",
        "print(\"Shape of y : \", y.shape)\n",
        "x"
      ]
    },
    {
      "cell_type": "code",
      "execution_count": null,
      "metadata": {
        "id": "ksOtscNa_CuN",
        "colab": {
          "base_uri": "https://localhost:8080/"
        },
        "outputId": "7a26256a-be80-4a57-e493-83502a963df6"
      },
      "outputs": [
        {
          "output_type": "stream",
          "name": "stdout",
          "text": [
            "The shape of x train :  (393, 12)\n",
            "The shape of x test :  (99, 12)\n",
            "The shape of y train :  (393,)\n",
            "The shape of y test :  (99,)\n"
          ]
        }
      ],
      "source": [
        "# Creating training and testing dataset\n",
        "\n",
        "from sklearn.model_selection import train_test_split\n",
        "x_train,x_test,y_train,y_test = train_test_split(x,y,test_size=0.2,stratify=y,random_state=13)\n",
        "\n",
        "print(\"The shape of x train : \", x_train.shape)\n",
        "print(\"The shape of x test : \", x_test.shape)\n",
        "print(\"The shape of y train : \", y_train.shape)\n",
        "print(\"The shape of y test : \", y_test.shape)"
      ]
    },
    {
      "cell_type": "markdown",
      "metadata": {
        "id": "8yvuNrNIK9ag"
      },
      "source": [
        "Scaling"
      ]
    },
    {
      "cell_type": "code",
      "execution_count": null,
      "metadata": {
        "id": "5ANRYCOoZ-ya"
      },
      "outputs": [],
      "source": [
        "from sklearn.preprocessing import StandardScaler\n",
        "sc = StandardScaler()\n",
        "x_train = sc.fit_transform(x_train)\n",
        "x_test = sc.transform(x_test)"
      ]
    },
    {
      "cell_type": "code",
      "execution_count": null,
      "metadata": {
        "id": "JhFcqcRwF9Q0"
      },
      "outputs": [],
      "source": [
        "#Importing confusion_matrix, accuracy_score, classification_report from sklearn.metrics library to obtain confusion matrix, accuracy score and classification report\n",
        "from sklearn.metrics import confusion_matrix, accuracy_score, classification_report"
      ]
    },
    {
      "cell_type": "markdown",
      "metadata": {
        "id": "nXeAApjawyt4"
      },
      "source": [
        "###Naive Bayes Classifier"
      ]
    },
    {
      "cell_type": "code",
      "execution_count": null,
      "metadata": {
        "id": "KfqVzwmHV6kt",
        "colab": {
          "base_uri": "https://localhost:8080/",
          "height": 606
        },
        "outputId": "5e000a37-c47c-4e92-9c5f-a4d25d1236a5"
      },
      "outputs": [
        {
          "output_type": "display_data",
          "data": {
            "image/png": "[encoded data removed]",
            "text/plain": [
              "<Figure size 360x360 with 2 Axes>"
            ]
          },
          "metadata": {
            "needs_background": "light"
          }
        },
        {
          "output_type": "stream",
          "name": "stdout",
          "text": [
            "Accuracy of the Naive Bayes Classifier model in % is: 78.79\n",
            "              precision    recall  f1-score   support\n",
            "\n",
            "           A       0.94      1.00      0.97        17\n",
            "           B       0.78      0.88      0.82        16\n",
            "     Below E       0.71      1.00      0.83        17\n",
            "           C       0.62      0.62      0.62        16\n",
            "           D       0.94      0.94      0.94        16\n",
            "           E       0.71      0.29      0.42        17\n",
            "\n",
            "    accuracy                           0.79        99\n",
            "   macro avg       0.78      0.79      0.77        99\n",
            "weighted avg       0.78      0.79      0.77        99\n",
            "\n"
          ]
        }
      ],
      "source": [
        "#Naive Bayes Classifier\n",
        "from sklearn.naive_bayes import GaussianNB\n",
        "\n",
        "# Specifiy the model\n",
        "model= GaussianNB()\n",
        "\n",
        "\n",
        "# Fit the model to the data\n",
        "model.fit(x_train, y_train)\n",
        "y_pred = model.predict(x_test)\n",
        "\n",
        "# Now accuracy of model needed to be checked by comparing y_test with y_pred\n",
        "# Its done with the help classification report .... by importing it from sklearn library\n",
        "\n",
        "#To print confusion matrix\n",
        "plt.rcParams[\"figure.figsize\"]=(5,5)\n",
        "cm=confusion_matrix(y_test, y_pred)\n",
        "sns.heatmap(cm, annot=True, cmap=\"Greens\", center=0.6)\n",
        "plt.title(\"Confusion Matrix for Naive Bayes\", fontsize=15)\n",
        "plt.xlabel('Predicted Values')\n",
        "plt.ylabel('Actual Values')\n",
        "plt.show()\n",
        "\n",
        "#To check accuracy\n",
        "print(\"Accuracy of the Naive Bayes Classifier model in % is:\", round(accuracy_score(y_test, y_pred)*100,2))\n",
        "\n",
        "#To print the Classification Report :\n",
        "cr = classification_report(y_test,y_pred)\n",
        "print(cr)\n",
        "\n"
      ]
    },
    {
      "cell_type": "markdown",
      "metadata": {
        "id": "ZMS6oJtmw3ue"
      },
      "source": [
        "###Logistic Regression"
      ]
    },
    {
      "cell_type": "code",
      "execution_count": null,
      "metadata": {
        "id": "pQHjXlp-Cq42",
        "colab": {
          "base_uri": "https://localhost:8080/",
          "height": 606
        },
        "outputId": "199d72d5-3c66-47a0-a2d3-fba63092f781"
      },
      "outputs": [
        {
          "output_type": "display_data",
          "data": {
            "image/png": "[encoded data removed]",
            "text/plain": [
              "<Figure size 360x360 with 2 Axes>"
            ]
          },
          "metadata": {
            "needs_background": "light"
          }
        },
        {
          "output_type": "stream",
          "name": "stdout",
          "text": [
            "Accuracy of the Logistic Regression model in % is: 88.89\n",
            "              precision    recall  f1-score   support\n",
            "\n",
            "           A       0.85      1.00      0.92        17\n",
            "           B       0.80      0.75      0.77        16\n",
            "     Below E       0.94      0.88      0.91        17\n",
            "           C       0.92      0.75      0.83        16\n",
            "           D       1.00      1.00      1.00        16\n",
            "           E       0.84      0.94      0.89        17\n",
            "\n",
            "    accuracy                           0.89        99\n",
            "   macro avg       0.89      0.89      0.89        99\n",
            "weighted avg       0.89      0.89      0.89        99\n",
            "\n"
          ]
        }
      ],
      "source": [
        "#Logistic Regression\n",
        "from sklearn.linear_model import LogisticRegression\n",
        "\n",
        "# Specifiy the model\n",
        "model= LogisticRegression(C = 1e08) #Choose c as large\n",
        "\n",
        "\n",
        "# Fit the model to the data\n",
        "model.fit(x_train, y_train)\n",
        "y_pred =model.predict(x_test)\n",
        "\n",
        "# Now accuracy of model needed to be checked by comparing y_test with y_pred\n",
        "# Its done with the help classification report .... by importing it from sklearn library\n",
        "\n",
        "#To print confusion matrix\n",
        "plt.rcParams[\"figure.figsize\"]=(5,5)\n",
        "cm=confusion_matrix(y_test, y_pred)\n",
        "sns.heatmap(cm, annot=True, cmap=\"coolwarm\", center=0.6)\n",
        "plt.title(\"Confusion Matrix for Logistic Regression\", fontsize=15)\n",
        "plt.xlabel('Predicted Values')\n",
        "plt.ylabel('Actual Values')\n",
        "plt.show()\n",
        "\n",
        "#To check accuracy\n",
        "print(\"Accuracy of the Logistic Regression model in % is:\", round(accuracy_score(y_test, y_pred)*100,2))\n",
        "\n",
        "#To print the Classification Report :\n",
        "cr = classification_report(y_test,y_pred)\n",
        "print(cr)"
      ]
    },
    {
      "cell_type": "markdown",
      "metadata": {
        "id": "WQEYAdO5w7jW"
      },
      "source": [
        "###Decision Tree Classifier"
      ]
    },
    {
      "cell_type": "code",
      "execution_count": null,
      "metadata": {
        "id": "Fzw9oZTfQQF1",
        "colab": {
          "base_uri": "https://localhost:8080/",
          "height": 606
        },
        "outputId": "fcc61374-78a9-41e6-825e-eb3b69cec9e9"
      },
      "outputs": [
        {
          "output_type": "display_data",
          "data": {
            "image/png": "[encoded data removed]",
            "text/plain": [
              "<Figure size 360x360 with 2 Axes>"
            ]
          },
          "metadata": {
            "needs_background": "light"
          }
        },
        {
          "output_type": "stream",
          "name": "stdout",
          "text": [
            "Accuracy of the Decision Tree Classifier model in % is: 92.93\n",
            "              precision    recall  f1-score   support\n",
            "\n",
            "           A       1.00      1.00      1.00        17\n",
            "           B       0.80      0.75      0.77        16\n",
            "     Below E       1.00      0.94      0.97        17\n",
            "           C       0.78      0.88      0.82        16\n",
            "           D       1.00      1.00      1.00        16\n",
            "           E       1.00      1.00      1.00        17\n",
            "\n",
            "    accuracy                           0.93        99\n",
            "   macro avg       0.93      0.93      0.93        99\n",
            "weighted avg       0.93      0.93      0.93        99\n",
            "\n"
          ]
        }
      ],
      "source": [
        "#Decision Tree Classifier\n",
        "from sklearn.tree import DecisionTreeClassifier\n",
        "model = DecisionTreeClassifier()\n",
        "model.fit(x_train,y_train) #Training\n",
        "y_pred = model.predict(x_test)\n",
        "\n",
        "# Now accuracy of model needed to be checked by comparing y_test with y_pred\n",
        "# Its done with the help classification report .... by importing it from sklearn library\n",
        "\n",
        "#To print confusion matrix\n",
        "plt.rcParams[\"figure.figsize\"]=(5,5)\n",
        "cm=confusion_matrix(y_test, y_pred)\n",
        "#sns.heatmap(cm, annot=True, cmap='Wistia')\n",
        "sns.heatmap(cm, annot=True, cmap=\"YlGnBu\", cbar_kws={'label': 'Scale'})\n",
        "plt.title(\"Confusion Matrix for Decision Tree\", fontsize=15)\n",
        "plt.xlabel('Predicted Values')\n",
        "plt.ylabel('Actual Values')\n",
        "plt.show()\n",
        "\n",
        "#To check accuracy\n",
        "print(\"Accuracy of the Decision Tree Classifier model in % is:\", round(accuracy_score(y_test, y_pred)*100,2))\n",
        "\n",
        "#To print the Classification Report :\n",
        "cr = classification_report(y_test,y_pred)\n",
        "print(cr)"
      ]
    },
    {
      "cell_type": "markdown",
      "metadata": {
        "id": "-PLOSc-6w9u-"
      },
      "source": [
        "###Support Vector Machine Classifier"
      ]
    },
    {
      "cell_type": "code",
      "execution_count": null,
      "metadata": {
        "id": "uDyeqnVXHefd",
        "colab": {
          "base_uri": "https://localhost:8080/",
          "height": 606
        },
        "outputId": "932bf45a-210f-4b68-8c6f-ae1b973750d8"
      },
      "outputs": [
        {
          "output_type": "display_data",
          "data": {
            "image/png": "[encoded data removed]",
            "text/plain": [
              "<Figure size 360x360 with 2 Axes>"
            ]
          },
          "metadata": {
            "needs_background": "light"
          }
        },
        {
          "output_type": "stream",
          "name": "stdout",
          "text": [
            "Accuracy of the Support Vector Machine model  in % is: 82.83\n",
            "              precision    recall  f1-score   support\n",
            "\n",
            "           A       0.77      1.00      0.87        17\n",
            "           B       0.57      0.75      0.65        16\n",
            "     Below E       1.00      0.94      0.97        17\n",
            "           C       0.86      0.38      0.52        16\n",
            "           D       1.00      1.00      1.00        16\n",
            "           E       0.88      0.88      0.88        17\n",
            "\n",
            "    accuracy                           0.83        99\n",
            "   macro avg       0.85      0.82      0.82        99\n",
            "weighted avg       0.85      0.83      0.82        99\n",
            "\n"
          ]
        }
      ],
      "source": [
        "#Support Vector Machine Classifier\n",
        "#from sklearn import svm\n",
        "from sklearn.svm import SVC\n",
        "model = SVC()\n",
        "model.fit(x_train,y_train) #Training\n",
        "y_pred = model.predict(x_test)\n",
        "model.score(x_test,y_test)\n",
        "\n",
        "# Now accuracy of model needed to be checked by comparing y_test with y_pred\n",
        "# Its done with the help classification report .... by importing it from sklearn library\n",
        "\n",
        "#To print confusion matrix\n",
        "plt.rcParams[\"figure.figsize\"]=(5,5)\n",
        "cm=confusion_matrix(y_test, y_pred)\n",
        "sns.heatmap(cm, annot=True, cmap=\"inferno\")\n",
        "plt.title(\"Confusion Matrix for Support Vector Machine Classifier\", fontsize=15)\n",
        "plt.xlabel('Predicted Values')\n",
        "plt.ylabel('Actual Values')\n",
        "plt.show()\n",
        "\n",
        "#To check accuracy\n",
        "print(\"Accuracy of the Support Vector Machine model  in % is:\", round(accuracy_score(y_test, y_pred)*100,2))\n",
        "\n",
        "#To print the Classification Report :\n",
        "cr = classification_report(y_test,y_pred)\n",
        "print(cr) "
      ]
    },
    {
      "cell_type": "markdown",
      "metadata": {
        "id": "hoTnTGrbw_jG"
      },
      "source": [
        "###Random Forest Classifier"
      ]
    },
    {
      "cell_type": "code",
      "execution_count": null,
      "metadata": {
        "id": "qcJY1f4ua1HH",
        "colab": {
          "base_uri": "https://localhost:8080/",
          "height": 606
        },
        "outputId": "491bfead-345a-406e-96b4-717c21c492c0"
      },
      "outputs": [
        {
          "output_type": "display_data",
          "data": {
            "image/png": "[encoded data removed]",
            "text/plain": [
              "<Figure size 360x360 with 2 Axes>"
            ]
          },
          "metadata": {
            "needs_background": "light"
          }
        },
        {
          "output_type": "stream",
          "name": "stdout",
          "text": [
            "Accuracy of the Random Forest Classifier model in % is: 95.96\n",
            "              precision    recall  f1-score   support\n",
            "\n",
            "           A       1.00      1.00      1.00        17\n",
            "           B       0.83      0.94      0.88        16\n",
            "     Below E       1.00      1.00      1.00        17\n",
            "           C       0.93      0.81      0.87        16\n",
            "           D       1.00      1.00      1.00        16\n",
            "           E       1.00      1.00      1.00        17\n",
            "\n",
            "    accuracy                           0.96        99\n",
            "   macro avg       0.96      0.96      0.96        99\n",
            "weighted avg       0.96      0.96      0.96        99\n",
            "\n"
          ]
        }
      ],
      "source": [
        "#Random Forest Classifier\n",
        "from sklearn.ensemble import RandomForestClassifier\n",
        "model = RandomForestClassifier()\n",
        "model.fit(x_train,y_train) #Training\n",
        "y_pred = model.predict(x_test)\n",
        "model.score(x_test,y_test)\n",
        "\n",
        "\n",
        "\n",
        "# Now accuracy of model needed to be checked by comparing y_test with y_pred\n",
        "# Its done with the help classification report .... by importing it from sklearn library\n",
        "\n",
        "#To print confusion matrix\n",
        "plt.rcParams[\"figure.figsize\"]=(5,5)\n",
        "cm=confusion_matrix(y_test, y_pred)\n",
        "#sns.heatmap(cm, annot=True, cmap='Wistia')\n",
        "#sns.heatmap(cm, annot=True,  vmin=0.0, vmax=100.0, fmt='.2f')\n",
        "sns.heatmap(cm, annot=True, cmap=\"BuPu\")\n",
        "plt.title(\"Confusion Matrix for Random Forest Classifier\", fontsize=15)\n",
        "plt.xlabel('Predicted Values')\n",
        "plt.ylabel('Actual Values')\n",
        "plt.show()\n",
        "\n",
        "#To check accuracy\n",
        "print(\"Accuracy of the Random Forest Classifier model in % is:\", round(accuracy_score(y_test, y_pred)*100,2))\n",
        "\n",
        "#To print the Classification Report :\n",
        "cr = classification_report(y_test,y_pred)\n",
        "print(cr)"
      ]
    },
    {
      "cell_type": "markdown",
      "metadata": {
        "id": "D-OO_WyExBz1"
      },
      "source": [
        "###X G Boost Classifier"
      ]
    },
    {
      "cell_type": "code",
      "execution_count": null,
      "metadata": {
        "id": "-mvBU1UGfUWO",
        "colab": {
          "base_uri": "https://localhost:8080/",
          "height": 606
        },
        "outputId": "5b7ab09b-8e71-4ed0-9db3-1f3e26c86790"
      },
      "outputs": [
        {
          "output_type": "display_data",
          "data": {
            "image/png": "[encoded data removed]",
            "text/plain": [
              "<Figure size 360x360 with 2 Axes>"
            ]
          },
          "metadata": {
            "needs_background": "light"
          }
        },
        {
          "output_type": "stream",
          "name": "stdout",
          "text": [
            "Accuracy of the X G Boost Classifier model in % is: 94.95\n",
            "              precision    recall  f1-score   support\n",
            "\n",
            "           A       1.00      1.00      1.00        17\n",
            "           B       0.83      0.94      0.88        16\n",
            "     Below E       1.00      0.94      0.97        17\n",
            "           C       0.93      0.81      0.87        16\n",
            "           D       1.00      1.00      1.00        16\n",
            "           E       0.94      1.00      0.97        17\n",
            "\n",
            "    accuracy                           0.95        99\n",
            "   macro avg       0.95      0.95      0.95        99\n",
            "weighted avg       0.95      0.95      0.95        99\n",
            "\n"
          ]
        }
      ],
      "source": [
        "#X G Boost Classifier\n",
        "from xgboost import XGBClassifier\n",
        "\n",
        "# Specifiy the model\n",
        "model= XGBClassifier()\n",
        "\n",
        "\n",
        "# Fit the model to the data\n",
        "model.fit(x_train, y_train)\n",
        "y_pred =model.predict(x_test)\n",
        "\n",
        "# Now accuracy of model needed to be checked by comparing y_test with y_pred\n",
        "# Its done with the help classification report .... by importing it from sklearn library\n",
        "\n",
        "#To print confusion matrix\n",
        "plt.rcParams[\"figure.figsize\"]=(5,5)\n",
        "cm=confusion_matrix(y_test, y_pred)\n",
        "cmap = \"tab20\"\n",
        "sns.heatmap(cm, annot=True, cmap=cmap)\n",
        "plt.title(\"Confusion Matrix for X G Boost Classifier\", fontsize=15)\n",
        "plt.xlabel('Predicted Values')\n",
        "plt.ylabel('Actual Values')\n",
        "plt.show()\n",
        "\n",
        "#To check accuracy\n",
        "print(\"Accuracy of the X G Boost Classifier model in % is:\", round(accuracy_score(y_test, y_pred)*100,2))\n",
        "\n",
        "#To print the Classification Report :\n",
        "cr = classification_report(y_test,y_pred)\n",
        "print(cr)"
      ]
    },
    {
      "cell_type": "markdown",
      "source": [
        "##Random Forest Classifier gives maximum accuracy : 95.96 %"
      ],
      "metadata": {
        "id": "lJ5vbZ2i7nhx"
      }
    },
    {
      "cell_type": "markdown",
      "source": [
        "##Adding new coloumns to dataset having mean values of each numerical features \n",
        "\n",
        "(pH,BOD, EC,DO, TC, FC)"
      ],
      "metadata": {
        "id": "HiG_EIA_uwgL"
      }
    },
    {
      "cell_type": "code",
      "source": [
        "col1 = data.loc[: , \"ph_max\":\"ph_min\"]\n",
        "data['ph_mean'] = col1.mean(axis=1)\n",
        "\n",
        "col2 = data.loc[: , \"EC_max_µmhos/cm\":\"EC_min_µmhos/cm\"]\n",
        "data['EC_µmhos/cm_mean'] = col2.mean(axis=1)\n",
        "\n",
        "col3 = data.loc[: , \"DO_max\":\"DO_min_mg/l\"]\n",
        "data['DO_mean'] = col3.mean(axis=1)\n",
        "\n",
        "col4 = data.loc[: , \"BOD_max_mg/l\":\"BOD_min_mg/l\"]\n",
        "data['BOD_mean'] = col4.mean(axis=1)\n",
        "\n",
        "col5 = data.loc[: , \"TC_max_MPN/100ml\":\"TC_min_MPN/100ml\"]\n",
        "data['TC_MPN/100ml_mean'] = col5.mean(axis=1)\n",
        "\n",
        "col5 = data.loc[: , \"FC_max_MPN/100ml\":\"FC_min_MPN/100ml\"]\n",
        "data['FC_MPN/100ml_mean'] = col5.mean(axis=1)"
      ],
      "metadata": {
        "id": "ihuFshOslOhT"
      },
      "execution_count": null,
      "outputs": []
    },
    {
      "cell_type": "code",
      "source": [
        "data.head()"
      ],
      "metadata": {
        "id": "IABbqQt8XNl0",
        "colab": {
          "base_uri": "https://localhost:8080/",
          "height": 357
        },
        "outputId": "5e0d4e7b-e6c6-4bf8-969c-f7f2b4fbf0cf"
      },
      "execution_count": null,
      "outputs": [
        {
          "output_type": "execute_result",
          "data": {
            "text/html": [
              "\n",
              "  <div id=\"df-6ed275b5-2e10-4168-9bb7-569b9bdeeabf\">\n",
              "    <div class=\"colab-df-container\">\n",
              "      <div>\n",
              "<style scoped>\n",
              "    .dataframe tbody tr th:only-of-type {\n",
              "        vertical-align: middle;\n",
              "    }\n",
              "\n",
              "    .dataframe tbody tr th {\n",
              "        vertical-align: top;\n",
              "    }\n",
              "\n",
              "    .dataframe thead th {\n",
              "        text-align: right;\n",
              "    }\n",
              "</style>\n",
              "<table border=\"1\" class=\"dataframe\">\n",
              "  <thead>\n",
              "    <tr style=\"text-align: right;\">\n",
              "      <th></th>\n",
              "      <th>Source</th>\n",
              "      <th>Stations</th>\n",
              "      <th>ph_max</th>\n",
              "      <th>ph_min</th>\n",
              "      <th>EC_max_µmhos/cm</th>\n",
              "      <th>EC_min_µmhos/cm</th>\n",
              "      <th>DO_max</th>\n",
              "      <th>DO_min_mg/l</th>\n",
              "      <th>BOD_max_mg/l</th>\n",
              "      <th>BOD_min_mg/l</th>\n",
              "      <th>TC_max_MPN/100ml</th>\n",
              "      <th>TC_min_MPN/100ml</th>\n",
              "      <th>FC_max_MPN/100ml</th>\n",
              "      <th>FC_min_MPN/100ml</th>\n",
              "      <th>CLASS</th>\n",
              "      <th>ph_mean</th>\n",
              "      <th>EC_µmhos/cm_mean</th>\n",
              "      <th>DO_mean</th>\n",
              "      <th>BOD_mean</th>\n",
              "      <th>TC_MPN/100ml_mean</th>\n",
              "      <th>FC_MPN/100ml_mean</th>\n",
              "    </tr>\n",
              "  </thead>\n",
              "  <tbody>\n",
              "    <tr>\n",
              "      <th>0</th>\n",
              "      <td>KADALUNDI RIVER</td>\n",
              "      <td>Oravambrum</td>\n",
              "      <td>7.5</td>\n",
              "      <td>6.5</td>\n",
              "      <td>138</td>\n",
              "      <td>42</td>\n",
              "      <td>8.7</td>\n",
              "      <td>4.0</td>\n",
              "      <td>3.9</td>\n",
              "      <td>0.6</td>\n",
              "      <td>80</td>\n",
              "      <td>12</td>\n",
              "      <td>40</td>\n",
              "      <td>4</td>\n",
              "      <td>A</td>\n",
              "      <td>7.00</td>\n",
              "      <td>90.0</td>\n",
              "      <td>6.35</td>\n",
              "      <td>2.25</td>\n",
              "      <td>46.0</td>\n",
              "      <td>22.0</td>\n",
              "    </tr>\n",
              "    <tr>\n",
              "      <th>1</th>\n",
              "      <td>KADALUNDI RIVER</td>\n",
              "      <td>Anakkayam</td>\n",
              "      <td>7.3</td>\n",
              "      <td>6.3</td>\n",
              "      <td>117</td>\n",
              "      <td>57</td>\n",
              "      <td>9.2</td>\n",
              "      <td>5.3</td>\n",
              "      <td>4.4</td>\n",
              "      <td>0.6</td>\n",
              "      <td>72</td>\n",
              "      <td>8</td>\n",
              "      <td>40</td>\n",
              "      <td>4</td>\n",
              "      <td>A</td>\n",
              "      <td>6.80</td>\n",
              "      <td>87.0</td>\n",
              "      <td>7.25</td>\n",
              "      <td>2.50</td>\n",
              "      <td>40.0</td>\n",
              "      <td>22.0</td>\n",
              "    </tr>\n",
              "    <tr>\n",
              "      <th>2</th>\n",
              "      <td>KADALUNDI RIVER</td>\n",
              "      <td>Hajiyarappally</td>\n",
              "      <td>7.6</td>\n",
              "      <td>6.5</td>\n",
              "      <td>140</td>\n",
              "      <td>60</td>\n",
              "      <td>8.3</td>\n",
              "      <td>4.6</td>\n",
              "      <td>2.1</td>\n",
              "      <td>0.6</td>\n",
              "      <td>61</td>\n",
              "      <td>20</td>\n",
              "      <td>40</td>\n",
              "      <td>4</td>\n",
              "      <td>A</td>\n",
              "      <td>7.05</td>\n",
              "      <td>100.0</td>\n",
              "      <td>6.45</td>\n",
              "      <td>1.35</td>\n",
              "      <td>40.5</td>\n",
              "      <td>22.0</td>\n",
              "    </tr>\n",
              "    <tr>\n",
              "      <th>3</th>\n",
              "      <td>KADALUNDI RIVER</td>\n",
              "      <td>Manikuth</td>\n",
              "      <td>7.4</td>\n",
              "      <td>6.3</td>\n",
              "      <td>117</td>\n",
              "      <td>59</td>\n",
              "      <td>9.0</td>\n",
              "      <td>3.5</td>\n",
              "      <td>2.6</td>\n",
              "      <td>1.2</td>\n",
              "      <td>60</td>\n",
              "      <td>12</td>\n",
              "      <td>28</td>\n",
              "      <td>12</td>\n",
              "      <td>A</td>\n",
              "      <td>6.85</td>\n",
              "      <td>88.0</td>\n",
              "      <td>6.25</td>\n",
              "      <td>1.90</td>\n",
              "      <td>36.0</td>\n",
              "      <td>20.0</td>\n",
              "    </tr>\n",
              "    <tr>\n",
              "      <th>4</th>\n",
              "      <td>KADALUNDI RIVER</td>\n",
              "      <td>Kooriyad</td>\n",
              "      <td>7.4</td>\n",
              "      <td>6.5</td>\n",
              "      <td>145</td>\n",
              "      <td>63</td>\n",
              "      <td>8.6</td>\n",
              "      <td>4.0</td>\n",
              "      <td>4.4</td>\n",
              "      <td>0.8</td>\n",
              "      <td>49</td>\n",
              "      <td>12</td>\n",
              "      <td>28</td>\n",
              "      <td>6</td>\n",
              "      <td>A</td>\n",
              "      <td>6.95</td>\n",
              "      <td>104.0</td>\n",
              "      <td>6.30</td>\n",
              "      <td>2.60</td>\n",
              "      <td>30.5</td>\n",
              "      <td>17.0</td>\n",
              "    </tr>\n",
              "  </tbody>\n",
              "</table>\n",
              "</div>\n",
              "      <button class=\"colab-df-convert\" onclick=\"convertToInteractive('df-6ed275b5-2e10-4168-9bb7-569b9bdeeabf')\"\n",
              "              title=\"Convert this dataframe to an interactive table.\"\n",
              "              style=\"display:none;\">\n",
              "        \n",
              "  <svg xmlns=\"http://www.w3.org/2000/svg\" height=\"24px\"viewBox=\"0 0 24 24\"\n",
              "       width=\"24px\">\n",
              "    <path d=\"M0 0h24v24H0V0z\" fill=\"none\"/>\n",
              "    <path d=\"M18.56 5.44l.94 2.06.94-2.06 2.06-.94-2.06-.94-.94-2.06-.94 2.06-2.06.94zm-11 1L8.5 8.5l.94-2.06 2.06-.94-2.06-.94L8.5 2.5l-.94 2.06-2.06.94zm10 10l.94 2.06.94-2.06 2.06-.94-2.06-.94-.94-2.06-.94 2.06-2.06.94z\"/><path d=\"M17.41 7.96l-1.37-1.37c-.4-.4-.92-.59-1.43-.59-.52 0-1.04.2-1.43.59L10.3 9.45l-7.72 7.72c-.78.78-.78 2.05 0 2.83L4 21.41c.39.39.9.59 1.41.59.51 0 1.02-.2 1.41-.59l7.78-7.78 2.81-2.81c.8-.78.8-2.07 0-2.86zM5.41 20L4 18.59l7.72-7.72 1.47 1.35L5.41 20z\"/>\n",
              "  </svg>\n",
              "      </button>\n",
              "      \n",
              "  <style>\n",
              "    .colab-df-container {\n",
              "      display:flex;\n",
              "      flex-wrap:wrap;\n",
              "      gap: 12px;\n",
              "    }\n",
              "\n",
              "    .colab-df-convert {\n",
              "      background-color: #E8F0FE;\n",
              "      border: none;\n",
              "      border-radius: 50%;\n",
              "      cursor: pointer;\n",
              "      display: none;\n",
              "      fill: #1967D2;\n",
              "      height: 32px;\n",
              "      padding: 0 0 0 0;\n",
              "      width: 32px;\n",
              "    }\n",
              "\n",
              "    .colab-df-convert:hover {\n",
              "      background-color: #E2EBFA;\n",
              "      box-shadow: 0px 1px 2px rgba(60, 64, 67, 0.3), 0px 1px 3px 1px rgba(60, 64, 67, 0.15);\n",
              "      fill: #174EA6;\n",
              "    }\n",
              "\n",
              "    [theme=dark] .colab-df-convert {\n",
              "      background-color: #3B4455;\n",
              "      fill: #D2E3FC;\n",
              "    }\n",
              "\n",
              "    [theme=dark] .colab-df-convert:hover {\n",
              "      background-color: #434B5C;\n",
              "      box-shadow: 0px 1px 3px 1px rgba(0, 0, 0, 0.15);\n",
              "      filter: drop-shadow(0px 1px 2px rgba(0, 0, 0, 0.3));\n",
              "      fill: #FFFFFF;\n",
              "    }\n",
              "  </style>\n",
              "\n",
              "      <script>\n",
              "        const buttonEl =\n",
              "          document.querySelector('#df-6ed275b5-2e10-4168-9bb7-569b9bdeeabf button.colab-df-convert');\n",
              "        buttonEl.style.display =\n",
              "          google.colab.kernel.accessAllowed ? 'block' : 'none';\n",
              "\n",
              "        async function convertToInteractive(key) {\n",
              "          const element = document.querySelector('#df-6ed275b5-2e10-4168-9bb7-569b9bdeeabf');\n",
              "          const dataTable =\n",
              "            await google.colab.kernel.invokeFunction('convertToInteractive',\n",
              "                                                     [key], {});\n",
              "          if (!dataTable) return;\n",
              "\n",
              "          const docLinkHtml = 'Like what you see? Visit the ' +\n",
              "            '<a target=\"_blank\" href=https://colab.research.google.com/notebooks/data_table.ipynb>data table notebook</a>'\n",
              "            + ' to learn more about interactive tables.';\n",
              "          element.innerHTML = '';\n",
              "          dataTable['output_type'] = 'display_data';\n",
              "          await google.colab.output.renderOutput(dataTable, element);\n",
              "          const docLink = document.createElement('div');\n",
              "          docLink.innerHTML = docLinkHtml;\n",
              "          element.appendChild(docLink);\n",
              "        }\n",
              "      </script>\n",
              "    </div>\n",
              "  </div>\n",
              "  "
            ],
            "text/plain": [
              "            Source          Stations  ...  TC_MPN/100ml_mean  FC_MPN/100ml_mean\n",
              "0  KADALUNDI RIVER       Oravambrum   ...               46.0               22.0\n",
              "1  KADALUNDI RIVER       Anakkayam    ...               40.0               22.0\n",
              "2  KADALUNDI RIVER  Hajiyarappally    ...               40.5               22.0\n",
              "3  KADALUNDI RIVER        Manikuth    ...               36.0               20.0\n",
              "4  KADALUNDI RIVER        Kooriyad    ...               30.5               17.0\n",
              "\n",
              "[5 rows x 21 columns]"
            ]
          },
          "metadata": {},
          "execution_count": 22
        }
      ]
    },
    {
      "cell_type": "code",
      "source": [
        "data.dtypes"
      ],
      "metadata": {
        "id": "c2bHP5jFhrpI",
        "colab": {
          "base_uri": "https://localhost:8080/"
        },
        "outputId": "c7b5b649-422c-42a7-8628-c54d03f428ad"
      },
      "execution_count": null,
      "outputs": [
        {
          "output_type": "execute_result",
          "data": {
            "text/plain": [
              "Source                object\n",
              "Stations              object\n",
              "ph_max               float64\n",
              "ph_min               float64\n",
              "EC_max_µmhos/cm        int64\n",
              "EC_min_µmhos/cm        int64\n",
              "DO_max               float64\n",
              "DO_min_mg/l          float64\n",
              "BOD_max_mg/l         float64\n",
              "BOD_min_mg/l         float64\n",
              "TC_max_MPN/100ml       int64\n",
              "TC_min_MPN/100ml       int64\n",
              "FC_max_MPN/100ml       int64\n",
              "FC_min_MPN/100ml       int64\n",
              "CLASS                 object\n",
              "ph_mean              float64\n",
              "EC_µmhos/cm_mean     float64\n",
              "DO_mean              float64\n",
              "BOD_mean             float64\n",
              "TC_MPN/100ml_mean    float64\n",
              "FC_MPN/100ml_mean    float64\n",
              "dtype: object"
            ]
          },
          "metadata": {},
          "execution_count": 23
        }
      ]
    },
    {
      "cell_type": "markdown",
      "metadata": {
        "id": "Rwd6Fa4vnriG"
      },
      "source": [
        "#Terms in the dataset"
      ]
    },
    {
      "cell_type": "markdown",
      "source": [
        "![image 2.JPG](data:image/jpeg;base64,/9j/4AAQSkZJRgABAQEAeAB4AAD/4RDQRXhpZgAATU0AKgAAAAgABAE7AAIAAAADaHAAAIdpAAQAAAABAAAISpydAAEAAAAGAAAQwuocAAcAAAgMAAAAPgAAAAAc6gAAAAgAAAAAAAAAAAAAAAAAAAAAAAAAAAAAAAAAAAAAAAAAAAAAAAAAAAAAAAAAAAAAAAAAAAAAAAAAAAAAAAAAAAAAAAAAAAAAAAAAAAAAAAAAAAAAAAAAAAAAAAAAAAAAAAAAAAAAAAAAAAAAAAAAAAAAAAAAAAAAAAAAAAAAAAAAAAAAAAAAAAAAAAAAAAAAAAAAAAAAAAAAAAAAAAAAAAAAAAAAAAAAAAAAAAAAAAAAAAAAAAAAAAAAAAAAAAAAAAAAAAAAAAAAAAAAAAAAAAAAAAAAAAAAAAAAAAAAAAAAAAAAAAAAAAAAAAAAAAAAAAAAAAAAAAAAAAAAAAAAAAAAAAAAAAAAAAAAAAAAAAAAAAAAAAAAAAAAAAAAAAAAAAAAAAAAAAAAAAAAAAAAAAAAAAAAAAAAAAAAAAAAAAAAAAAAAAAAAAAAAAAAAAAAAAAAAAAAAAAAAAAAAAAAAAAAAAAAAAAAAAAAAAAAAAAAAAAAAAAAAAAAAAAAAAAAAAAAAAAAAAAAAAAAAAAAAAAAAAAAAAAAAAAAAAAAAAAAAAAAAAAAAAAAAAAAAAAAAAAAAAAAAAAAAAAAAAAAAAAAAAAAAAAAAAAAAAAAAAAAAAAAAAAAAAAAAAAAAAAAAAAAAAAAAAAAAAAAAAAAAAAAAAAAAAAAAAAAAAAAAAAAAAAAAAAAAAAAAAAAAAAAAAAAAAAAAAAAAAAAAAAAAAAAAAAAAAAAAAAAAAAAAAAAAAAAAAAAAAAAAAAAAAAAAAAAAAAAAAAAAAAAAAAAAAAAAAAAAAAAAAAAAAAAAAAAAAAAAAAAAAAAAAAAAAAAAAAAAAAAAAAAAAAAAAAAAAAAAAAAAAAAAAAAAAAAAAAAAAAAAAAAAAAAAAAAAAAAAAAAAAAAAAAAAAAAAAAAAAAAAAAAAAAAAAAAAAAAAAAAAAAAAAAAAAAAAAAAAAAAAAAAAAAAAAAAAAAAAAAAAAAAAAAAAAAAAAAAAAAAAAAAAAAAAAAAAAAAAAAAAAAAAAAAAAAAAAAAAAAAAAAAAAAAAAAAAAAAAAAAAAAAAAAAAAAAAAAAAAAAAAAAAAAAAAAAAAAAAAAAAAAAAAAAAAAAAAAAAAAAAAAAAAAAAAAAAAAAAAAAAAAAAAAAAAAAAAAAAAAAAAAAAAAAAAAAAAAAAAAAAAAAAAAAAAAAAAAAAAAAAAAAAAAAAAAAAAAAAAAAAAAAAAAAAAAAAAAAAAAAAAAAAAAAAAAAAAAAAAAAAAAAAAAAAAAAAAAAAAAAAAAAAAAAAAAAAAAAAAAAAAAAAAAAAAAAAAAAAAAAAAAAAAAAAAAAAAAAAAAAAAAAAAAAAAAAAAAAAAAAAAAAAAAAAAAAAAAAAAAAAAAAAAAAAAAAAAAAAAAAAAAAAAAAAAAAAAAAAAAAAAAAAAAAAAAAAAAAAAAAAAAAAAAAAAAAAAAAAAAAAAAAAAAAAAAAAAAAAAAAAAAAAAAAAAAAAAAAAAAAAAAAAAAAAAAAAAAAAAAAAAAAAAAAAAAAAAAAAAAAAAAAAAAAAAAAAAAAAAAAAAAAAAAAAAAAAAAAAAAAAAAAAAAAAAAAAAAAAAAAAAAAAAAAAAAAAAAAAAAAAAAAAAAAAAAAAAAAAAAAAAAAAAAAAAAAAAAAAAAAAAAAAAAAAAAAAAAAAAAAAAAAAAAAAAAAAAAAAAAAAAAAAAAAAAAAAAAAAAAAAAAAAAAAAAAAAAAAAAAAAAAAAAAAAAAAAAAAAAAAAAAAAAAAAAAAAAAAAAAAAAAAAAAAAAAAAAAAAAAAAAAAAAAAAAAAAAAAAAAAAAAAAAAAAAAAAAAAAAAAAAAAAAAAAAAAAAAAAAAAAAAAAAAAAAAAAAAAAAAAAAAAAAAAAAAAAAAAAAAAAAAAAAAAAAAAAAAAAAAAAAAAAAAAAAAAAAAAAAAAAAAAAAAAAAAAAAAAAAAAAAAAAAAAAAAAAAAAAAAAAAAAAAAAAAAAAAAAAAAAAAAAAAAAAAAAAAAAAAAAAAAAAAAAAAAAAAAAAAAAAAAAAAAAAAAAAAAAAAAAAAAAAAAAAAAAAAAAAAAAAAAAAAAAAAAAAAAAAAAAAAAAAAAAAAAAAAAAAAAAAAAAAAAAAAAAAAAAAAAAAAAAAAAAAAAAAAAAAAAAAAAAAAAAAAAAAAAAAAAAAAAAAAAAAAAAAAAAAAAAAAAAAAAAAAAAAAAAAAAAAAAAAAAAAAAAAAAAAAAAAAAAAAAAAAAAAAAAAAAAAAAAAAAAAAAAAAAAAAAAAAAAAAAAAAAAAAAAAAAAAAAAAAAAAAAAAAAAAAAAAAAAAAAAAAAAAAAAAAAAAAAAAAAAAAAAAAAAAAAAAAAAAAAAAAAAAAAAAAAAAAAAAAAAAAAAAAAAAAAAAAAAAAAAAAAAAAAAAAAAAAAAAAAAAAAAAAAAAAAAAAAAAAAAAAAAAAAAAAAAAAAAAAAAAAAAAAAAAAAAAAAAAAAAAAAAAAAAAAAAAAAAAAAAAAAAAAAAAAAAAAAAAAAAAAAAAAAAAAAAAAAAAAAAAAAAAAAAAAAAAAAAAAAAAAAAAAAAAAAAAAAAAAAAAAAAAAAAAAAAAAAAAAAAAAAAAAAAAAAAAAAAAAAAAAAAAAAAAAAAAAAAAAAAAAAAAAAAAAAAAAAAAAAAAAAAAAAAAAAAAAAAAAAAAAAAAAAAAAAAAAAAAAAAAAAAAAAAAAAAAAAAAAAAAAAAAAAAAAAAAAAFkAMAAgAAABQAABCYkAQAAgAAABQAABCskpEAAgAAAAM0MwAAkpIAAgAAAAM0MwAA6hwABwAACAwAAAiMAAAAABzqAAAACAAAAAAAAAAAAAAAAAAAAAAAAAAAAAAAAAAAAAAAAAAAAAAAAAAAAAAAAAAAAAAAAAAAAAAAAAAAAAAAAAAAAAAAAAAAAAAAAAAAAAAAAAAAAAAAAAAAAAAAAAAAAAAAAAAAAAAAAAAAAAAAAAAAAAAAAAAAAAAAAAAAAAAAAAAAAAAAAAAAAAAAAAAAAAAAAAAAAAAAAAAAAAAAAAAAAAAAAAAAAAAAAAAAAAAAAAAAAAAAAAAAAAAAAAAAAAAAAAAAAAAAAAAAAAAAAAAAAAAAAAAAAAAAAAAAAAAAAAAAAAAAAAAAAAAAAAAAAAAAAAAAAAAAAAAAAAAAAAAAAAAAAAAAAAAAAAAAAAAAAAAAAAAAAAAAAAAAAAAAAAAAAAAAAAAAAAAAAAAAAAAAAAAAAAAAAAAAAAAAAAAAAAAAAAAAAAAAAAAAAAAAAAAAAAAAAAAAAAAAAAAAAAAAAAAAAAAAAAAAAAAAAAAAAAAAAAAAAAAAAAAAAAAAAAAAAAAAAAAAAAAAAAAAAAAAAAAAAAAAAAAAAAAAAAAAAAAAAAAAAAAAAAAAAAAAAAAAAAAAAAAAAAAAAAAAAAAAAAAAAAAAAAAAAAAAAAAAAAAAAAAAAAAAAAAAAAAAAAAAAAAAAAAAAAAAAAAAAAAAAAAAAAAAAAAAAAAAAAAAAAAAAAAAAAAAAAAAAAAAAAAAAAAAAAAAAAAAAAAAAAAAAAAAAAAAAAAAAAAAAAAAAAAAAAAAAAAAAAAAAAAAAAAAAAAAAAAAAAAAAAAAAAAAAAAAAAAAAAAAAAAAAAAAAAAAAAAAAAAAAAAAAAAAAAAAAAAAAAAAAAAAAAAAAAAAAAAAAAAAAAAAAAAAAAAAAAAAAAAAAAAAAAAAAAAAAAAAAAAAAAAAAAAAAAAAAAAAAAAAAAAAAAAAAAAAAAAAAAAAAAAAAAAAAAAAAAAAAAAAAAAAAAAAAAAAAAAAAAAAAAAAAAAAAAAAAAAAAAAAAAAAAAAAAAAAAAAAAAAAAAAAAAAAAAAAAAAAAAAAAAAAAAAAAAAAAAAAAAAAAAAAAAAAAAAAAAAAAAAAAAAAAAAAAAAAAAAAAAAAAAAAAAAAAAAAAAAAAAAAAAAAAAAAAAAAAAAAAAAAAAAAAAAAAAAAAAAAAAAAAAAAAAAAAAAAAAAAAAAAAAAAAAAAAAAAAAAAAAAAAAAAAAAAAAAAAAAAAAAAAAAAAAAAAAAAAAAAAAAAAAAAAAAAAAAAAAAAAAAAAAAAAAAAAAAAAAAAAAAAAAAAAAAAAAAAAAAAAAAAAAAAAAAAAAAAAAAAAAAAAAAAAAAAAAAAAAAAAAAAAAAAAAAAAAAAAAAAAAAAAAAAAAAAAAAAAAAAAAAAAAAAAAAAAAAAAAAAAAAAAAAAAAAAAAAAAAAAAAAAAAAAAAAAAAAAAAAAAAAAAAAAAAAAAAAAAAAAAAAAAAAAAAAAAAAAAAAAAAAAAAAAAAAAAAAAAAAAAAAAAAAAAAAAAAAAAAAAAAAAAAAAAAAAAAAAAAAAAAAAAAAAAAAAAAAAAAAAAAAAAAAAAAAAAAAAAAAAAAAAAAAAAAAAAAAAAAAAAAAAAAAAAAAAAAAAAAAAAAAAAAAAAAAAAAAAAAAAAAAAAAAAAAAAAAAAAAAAAAAAAAAAAAAAAAAAAAAAAAAAAAAAAAAAAAAAAAAAAAAAAAAAAAAAAAAAAAAAAAAAAAAAAAAAAAAAAAAAAAAAAAAAAAAAAAAAAAAAAAAAAAAAAAAAAAAAAAAAAAAAAAAAAAAAAAAAAAAAAAAAAAAAAAAAAAAAAAAAAAAAAAAAAAAAAAAAAAAAAAAAAAAAAAAAAAAAAAAAAAAAAAAAAAAAAAAAAAAAAAAAAAAAAAAAAAAAAAAAAAAAAAAAAAAAAAAAAAAAAAAAAAAAAAAAAAAAAAAAAAAAAAAAAAAAAAAAAAAAAAAAAAAAAAAAAAAAAAAAAAAAAAAAAAAAAAAAAAAAAAAAAAAAAAAAAAAAAAAAAAAAAAAAAAAAAAAAAAAAAAAAAAAAAAAAAAAAAAAAAAAAAAAAAAAAAAAAAAAAAAAAAAAAAAAAAAAAAAAAAAAAAAAAAAAAAAAAAAAAAAAAAAAAAAAAAAAAAAAAAAAAAAAAAAAAAAAAAAAAAAAAAAAAAAAAAAAAAAAAAAAAAAAAAAAAAAAAAAAAAAAAAAAAAAAAAAAAAAAAAAAAAAAAAAAAAAAAAAAAAAAAAAAAAAAAAAAAAAAAAAAAAAAAAAAAAAAAAAAAAAAAAAAAAAAAAAAAAAAAAAAAAAAAAAAAAAAAAAAAAAAAAAAAAAAAAAAAAAAAAAAAAAAAAAAAAAAAAAAAAAAAAAAAAAAAAAAAAAAAAAAAAAAAAAAAAAAAAAAAAAAAAAAAAAAAAAAAAAAAAAAAAAAAAAAAAAAAAAAAAAAAAAAAAAAAAAAAAAAAAAAAAAAAAAAAAAAAAAAAAAAAAAAAAAAAAAAAAAAAAAAAAAAAAAAAAAAAAAAAAAAAAAAAAAAAAAAAAAAAAAAAAAAAAAAAAAAAAAAAAAAAAAAAAAAAAAAAAAAAAAAAAAAAAAAAAAAAAAAAAAAAAAAAAAAAAAAAAAAAAAAAAAAAAAAAAAAAAAAAAAAAAAAAAAAAAAAAAAAAAAAAAAAAAAAAAAAAAAAAAAAAAAAAAAAAAAAAAAAAAAAAAAAAAAAAAAAAAAAAAAAAAAAAAAAAAAAAAAAAAAAAMjAyMToxMjoyNyAxNDowMjozMQAyMDIxOjEyOjI3IDE0OjAyOjMxAAAAaABwAAAA/+ELFWh0dHA6Ly9ucy5hZG9iZS5jb20veGFwLzEuMC8APD94cGFja2V0IGJlZ2luPSfvu78nIGlkPSdXNU0wTXBDZWhpSHpyZVN6TlRjemtjOWQnPz4NCjx4OnhtcG1ldGEgeG1sbnM6eD0iYWRvYmU6bnM6bWV0YS8iPjxyZGY6UkRGIHhtbG5zOnJkZj0iaHR0cDovL3d3dy53My5vcmcvMTk5OS8wMi8yMi1yZGYtc3ludGF4LW5zIyI+PHJkZjpEZXNjcmlwdGlvbiByZGY6YWJvdXQ9InV1aWQ6ZmFmNWJkZDUtYmEzZC0xMWRhLWFkMzEtZDMzZDc1MTgyZjFiIiB4bWxuczpkYz0iaHR0cDovL3B1cmwub3JnL2RjL2VsZW1lbnRzLzEuMS8iLz48cmRmOkRlc2NyaXB0aW9uIHJkZjphYm91dD0idXVpZDpmYWY1YmRkNS1iYTNkLTExZGEtYWQzMS1kMzNkNzUxODJmMWIiIHhtbG5zOnhtcD0iaHR0cDovL25zLmFkb2JlLmNvbS94YXAvMS4wLyI+PHhtcDpDcmVhdGVEYXRlPjIwMjEtMTItMjdUMTQ6MDI6MzEuNDI2PC94bXA6Q3JlYXRlRGF0ZT48L3JkZjpEZXNjcmlwdGlvbj48cmRmOkRlc2NyaXB0aW9uIHJkZjphYm91dD0idXVpZDpmYWY1YmRkNS1iYTNkLTExZGEtYWQzMS1kMzNkNzUxODJmMWIiIHhtbG5zOmRjPSJodHRwOi8vcHVybC5vcmcvZGMvZWxlbWVudHMvMS4xLyI+PGRjOmNyZWF0b3I+PHJkZjpTZXEgeG1sbnM6cmRmPSJodHRwOi8vd3d3LnczLm9yZy8xOTk5LzAyLzIyLXJkZi1zeW50YXgtbnMjIj48cmRmOmxpPmhwPC9yZGY6bGk+PC9yZGY6U2VxPg0KCQkJPC9kYzpjcmVhdG9yPjwvcmRmOkRlc2NyaXB0aW9uPjwvcmRmOlJERj48L3g6eG1wbWV0YT4NCiAgICAgICAgICAgICAgICAgICAgICAgICAgICAgICAgICAgICAgICAgICAgICAgICAgICAgICAgICAgICAgICAgICAgICAgICAgICAgICAgICAgICAgICAgICAgICAgICAgICAKICAgICAgICAgICAgICAgICAgICAgICAgICAgICAgICAgICAgICAgICAgICAgICAgICAgICAgICAgICAgICAgICAgICAgICAgICAgICAgICAgICAgICAgICAgICAgICAgICAgIAogICAgICAgICAgICAgICAgICAgICAgICAgICAgICAgICAgICAgICAgICAgICAgICAgICAgICAgICAgICAgICAgICAgICAgICAgICAgICAgICAgICAgICAgICAgICAgICAgICAgCiAgICAgICAgICAgICAgICAgICAgICAgICAgICAgICAgICAgICAgICAgICAgICAgICAgICAgICAgICAgICAgICAgICAgICAgICAgICAgICAgICAgICAgICAgICAgICAgICAgICAKICAgICAgICAgICAgICAgICAgICAgICAgICAgICAgICAgICAgICAgICAgICAgICAgICAgICAgICAgICAgICAgICAgICAgICAgICAgICAgICAgICAgICAgICAgICAgICAgICAgIAogICAgICAgICAgICAgICAgICAgICAgICAgICAgICAgICAgICAgICAgICAgICAgICAgICAgICAgICAgICAgICAgICAgICAgICAgICAgICAgICAgICAgICAgICAgICAgICAgICAgCiAgICAgICAgICAgICAgICAgICAgICAgICAgICAgICAgICAgICAgICAgICAgICAgICAgICAgICAgICAgICAgICAgICAgICAgICAgICAgICAgICAgICAgICAgICAgICAgICAgICAKICAgICAgICAgICAgICAgICAgICAgICAgICAgICAgICAgICAgICAgICAgICAgICAgICAgICAgICAgICAgICAgICAgICAgICAgICAgICAgICAgICAgICAgICAgICAgICAgICAgIAogICAgICAgICAgICAgICAgICAgICAgICAgICAgICAgICAgICAgICAgICAgICAgICAgICAgICAgICAgICAgICAgICAgICAgICAgICAgICAgICAgICAgICAgICAgICAgICAgICAgCiAgICAgICAgICAgICAgICAgICAgICAgICAgICAgICAgICAgICAgICAgICAgICAgICAgICAgICAgICAgICAgICAgICAgICAgICAgICAgICAgICAgICAgICAgICAgICAgICAgICAKICAgICAgICAgICAgICAgICAgICAgICAgICAgICAgICAgICAgICAgICAgICAgICAgICAgICAgICAgICAgICAgICAgICAgICAgICAgICAgICAgICAgICAgICAgICAgICAgICAgIAogICAgICAgICAgICAgICAgICAgICAgICAgICAgICAgICAgICAgICAgICAgICAgICAgICAgICAgICAgICAgICAgICAgICAgICAgICAgICAgICAgICAgICAgICAgICAgICAgICAgCiAgICAgICAgICAgICAgICAgICAgICAgICAgICAgICAgICAgICAgICAgICAgICAgICAgICAgICAgICAgICAgICAgICAgICAgICAgICAgICAgICAgICAgICAgICAgICAgICAgICAKICAgICAgICAgICAgICAgICAgICAgICAgICAgICAgICAgICAgICAgICAgICAgICAgICAgICAgICAgICAgICAgICAgICAgICAgICAgICAgICAgICAgICAgICAgICAgICAgICAgIAogICAgICAgICAgICAgICAgICAgICAgICAgICAgICAgICAgICAgICAgICAgICAgICAgICAgICAgICAgICAgICAgICAgICAgICAgICAgICAgICAgICAgICAgICAgICAgICAgICAgCiAgICAgICAgICAgICAgICAgICAgICAgICAgICAgICAgICAgICAgICAgICAgICAgICAgICAgICAgICAgICAgICAgICAgICAgICAgICAgICAgICAgICAgICAgICAgICAgICAgICAKICAgICAgICAgICAgICAgICAgICAgICAgICAgICAgICAgICAgICAgICAgICAgICAgICAgICAgICAgICAgICAgICAgICAgICAgICAgICAgICAgICAgICAgICAgICAgICAgICAgIAogICAgICAgICAgICAgICAgICAgICAgICAgICAgICAgICAgICAgICAgICAgICAgICAgICAgICAgICAgICAgICAgICAgICAgICAgICAgICAgICAgICAgICAgICAgICAgICAgICAgCiAgICAgICAgICAgICAgICAgICAgICAgICAgICAgICAgICAgICAgICAgICAgICAgICAgICAgICAgICAgICAgICAgICAgICAgICAgICAgICAgICAgICAgICAgICAgICAgICAgICAKICAgICAgICAgICAgICAgICAgICAgICAgICAgICAgICAgICAgICAgICAgICAgICAgICAgICAgICAgICAgICAgICAgICAgICAgICAgICAgICAgICAgICAgICAgICAgICAgICAgIAogICAgICAgICAgICAgICAgICAgICAgICAgICAgPD94cGFja2V0IGVuZD0ndyc/Pv/bAEMABwUFBgUEBwYFBggHBwgKEQsKCQkKFQ8QDBEYFRoZGBUYFxseJyEbHSUdFxgiLiIlKCkrLCsaIC8zLyoyJyorKv/bAEMBBwgICgkKFAsLFCocGBwqKioqKioqKioqKioqKioqKioqKioqKioqKioqKioqKioqKioqKioqKioqKioqKioqKv/AABEIAuADcgMBIgACEQEDEQH/xAAfAAABBQEBAQEBAQAAAAAAAAAAAQIDBAUGBwgJCgv/xAC1EAACAQMDAgQDBQUEBAAAAX0BAgMABBEFEiExQQYTUWEHInEUMoGRoQgjQrHBFVLR8CQzYnKCCQoWFxgZGiUmJygpKjQ1Njc4OTpDREVGR0hJSlNUVVZXWFlaY2RlZmdoaWpzdHV2d3h5eoOEhYaHiImKkpOUlZaXmJmaoqOkpaanqKmqsrO0tba3uLm6wsPExcbHyMnK0tPU1dbX2Nna4eLj5OXm5+jp6vHy8/T19vf4+fr/xAAfAQADAQEBAQEBAQEBAAAAAAAAAQIDBAUGBwgJCgv/xAC1EQACAQIEBAMEBwUEBAABAncAAQIDEQQFITEGEkFRB2FxEyIygQgUQpGhscEJIzNS8BVictEKFiQ04SXxFxgZGiYnKCkqNTY3ODk6Q0RFRkdISUpTVFVWV1hZWmNkZWZnaGlqc3R1dnd4eXqCg4SFhoeIiYqSk5SVlpeYmZqio6Slpqeoqaqys7S1tre4ubrCw8TFxsfIycrS09TV1tfY2dri4+Tl5ufo6ery8/T19vf4+fr/2gAMAwEAAhEDEQA/APpGiiigAooooAKKKKACiiigAooooAKKKKACiiigAooooAKKKKACiiigAooooAKKKKACiiigAooooAKKKKACiiigAooooAKKKKACiiigAooooAKKKKACiiigAooooAKKKKACiiigAooooAKKKKACiiigAooooAKKKKACiiigAooooAKKKKACiiigAooooAKKKKACiiigAooooAKKKKACiiigAooooAKKKKACiiigAooooAKKKKACiiigAooooAKKKKACiiigAooooAKKKKACiiigAooooAKKKKACiiigAooooAK52bX9VfVr+107S7OaKymWEyT37xM5MSSfdETYH7wDr2roq5ex/wCQ/wCIv+wgn/pLBWkEtboyqt6JO2v6Mm/tjxF/0BtL/wDBpJ/8j0f2x4i/6A2l/wDg0k/+R6tUVXu9vz/zItL+Z/h/kVf7Y8Rf9AbS/wDwaSf/ACPR/bHiL/oDaX/4NJP/AJHq1RR7vb8/8wtL+Z/h/kVf7Y8Rf9AbS/8AwaSf/I9H9seIv+gNpf8A4NJP/kerVFHu9vz/AMwtL+Z/h/kVf7Y8Rf8AQG0v/wAGkn/yPR/bHiL/AKA2l/8Ag0k/+R6tUUe72/P/ADC0v5n+H+RV/tjxF/0BtL/8Gkn/AMj0f2x4i/6A2l/+DST/AOR6tUUe72/P/MLS/mf4f5FX+2PEX/QG0v8A8Gkn/wAj0f2x4i/6A2l/+DST/wCR6tUUe72/P/MLS/mf4f5FX+2PEX/QG0v/AMGkn/yPR/bHiL/oDaX/AODST/5Hq1RR7vb8/wDMLS/mf4f5FX+2PEX/AEBtL/8ABpJ/8j0f2x4i/wCgNpf/AINJP/kerVFHu9vz/wAwtL+Z/h/kVf7Y8Rf9AbS//BpJ/wDI9H9seIv+gNpf/g0k/wDkerVFHu9vz/zC0v5n+H+RV/tjxF/0BtL/APBpJ/8AI9H9seIv+gNpf/g0k/8AkerVFHu9vz/zC0v5n+H+RV/tjxF/0BtL/wDBpJ/8j0f2x4i/6A2l/wDg0k/+R6tUUe72/P8AzC0v5n+H+RV/tjxF/wBAbS//AAaSf/I9H9seIv8AoDaX/wCDST/5Hq1RR7vb8/8AMLS/mf4f5FX+2PEX/QG0v/waSf8AyPR/bHiL/oDaX/4NJP8A5Hq1RR7vb8/8wtL+Z/h/kVf7Y8Rf9AbS/wDwaSf/ACPR/bHiL/oDaX/4NJP/AJHq1RR7vb8/8wtL+Z/h/kVf7Y8Rf9AbS/8AwaSf/I9H9seIv+gNpf8A4NJP/kerVFHu9vz/AMwtL+Z/h/kVf7Y8Rf8AQG0v/wAGkn/yPR/bHiL/AKA2l/8Ag0k/+R6tUUe72/P/ADC0v5n+H+RV/tjxF/0BtL/8Gkn/AMj1X0/xLr2paZa30Gi6csV1CkyB9UkDAMoIziDrzWlWT4U/5EzRf+wfB/6LWq93lvb8/wDMl8/MlzP8PLyLn9seIv8AoDaX/wCDST/5Ho/tjxF/0BtL/wDBpJ/8j1aoqfd7fn/mVaX8z/D/ACKv9seIv+gNpf8A4NJP/kej+2PEX/QG0v8A8Gkn/wAj1aoo93t+f+YWl/M/w/yKv9seIv8AoDaX/wCDST/5Ho/tjxF/0BtL/wDBpJ/8j1aoo93t+f8AmFpfzP8AD/Iq/wBseIv+gNpf/g0k/wDkej+2PEX/AEBtL/8ABpJ/8j1aoo93t+f+YWl/M/w/yKv9seIv+gNpf/g0k/8Akej+2PEX/QG0v/waSf8AyPVqij3e35/5haX8z/D/ACKv9seIv+gNpf8A4NJP/kej+2PEX/QG0v8A8Gkn/wAj1aoo93t+f+YWl/M/w/yM2x8S69f27TQ6Lpyqs0sJD6pJnMcjIf8Alh0ypx7VY/tjxF/0BtL/APBpJ/8AI9U/DX/IKm/7CF7/AOlUta1VLlUmrfn/AJkw53FNyf4f5FX+2PEX/QG0v/waSf8AyPR/bHiL/oDaX/4NJP8A5Hq1RU+72/P/ADKtL+Z/h/kVf7Y8Rf8AQG0v/wAGkn/yPR/bHiL/AKA2l/8Ag0k/+R6tUUe72/P/ADC0v5n+H+RV/tjxF/0BtL/8Gkn/AMj0f2x4i/6A2l/+DST/AOR6tUUe72/P/MLS/mf4f5FX+2PEX/QG0v8A8Gkn/wAj0f2x4i/6A2l/+DST/wCR6tUUe72/P/MLS/mf4f5FX+2PEX/QG0v/AMGkn/yPR/bHiL/oDaX/AODST/5Hq1RR7vb8/wDMLS/mf4f5FX+2PEX/AEBtL/8ABpJ/8j0f2x4i/wCgNpf/AINJP/kerVFHu9vz/wAwtL+Z/h/kVf7Y8Rf9AbS//BpJ/wDI9H9seIv+gNpf/g0k/wDkerVFHu9vz/zC0v5n+H+RV/tjxF/0BtL/APBpJ/8AI9H9seIv+gNpf/g0k/8AkerVFHu9vz/zC0v5n+H+RV/tjxF/0BtL/wDBpJ/8j0f2x4i/6A2l/wDg0k/+R6tUUe72/P8AzC0v5n+H+RV/tjxF/wBAbS//AAaSf/I9H9seIv8AoDaX/wCDST/5Hq1RR7vb8/8AMLS/mf4f5FX+2PEX/QG0v/waSf8AyPR/bHiL/oDaX/4NJP8A5Hq1RR7vb8/8wtL+Z/h/kVf7Y8Rf9AbS/wDwaSf/ACPR/bHiL/oDaX/4NJP/AJHq1RR7vb8/8wtL+Z/h/kVf7Y8Rf9AbS/8AwaSf/I9H9seIv+gNpf8A4NJP/kerVFHu9vz/AMwtL+Z/h/kVf7Y8Rf8AQG0v/wAGkn/yPR/bHiL/AKA2l/8Ag0k/+R6tUUe72/P/ADC0v5n+H+RV/tjxF/0BtL/8Gkn/AMj0f2x4i/6A2l/+DST/AOR6tUUe72/P/MLS/mf4f5FX+2PEX/QG0v8A8Gkn/wAj0f2x4i/6A2l/+DST/wCR6tUUe72/P/MLS/mf4f5FX+2PEX/QG0v/AMGkn/yPR/bHiL/oDaX/AODST/5Hq1RR7vb8/wDMLS/mf4f5FX+2PEX/AEBtL/8ABpJ/8j0f2x4i/wCgNpf/AINJP/kerVFHu9vz/wAwtL+Z/h/kVf7Y8Rf9AbS//BpJ/wDI9H9seIv+gNpf/g0k/wDkerVFHu9vz/zC0v5n+H+RV/tjxF/0BtL/APBpJ/8AI9H9seIv+gNpf/g0k/8AkerVFHu9vz/zC0v5n+H+RV/tjxF/0BtL/wDBpJ/8j0f2x4i/6A2l/wDg0k/+R6tUUe72/P8AzC0v5n+H+RV/tjxF/wBAbS//AAaSf/I9H9seIv8AoDaX/wCDST/5Hq1RR7vb8/8AMLS/mf4f5FX+2PEX/QG0v/waSf8AyPR/bHiL/oDaX/4NJP8A5Hq1RR7vb8/8wtL+Z/h/kVf7Y8Rf9AbS/wDwaSf/ACPR/bHiL/oDaX/4NJP/AJHq1RR7vb8/8wtL+Z/h/kVf7Y8Rf9AbS/8AwaSf/I9H9seIv+gNpf8A4NJP/kerVFHu9vz/AMwtL+Z/h/kVf7Y8Rf8AQG0v/wAGkn/yPR/bHiL/AKA2l/8Ag0k/+R6tUUe72/P/ADC0v5n+H+RV/tjxF/0BtL/8Gkn/AMj0f2x4i/6A2l/+DST/AOR6tUUe72/P/MLS/mf4f5FX+2PEX/QG0v8A8Gkn/wAj0f2x4i/6A2l/+DST/wCR6tUUe72/P/MLS/mf4f5FX+2PEX/QG0v/AMGkn/yPVfUPEuvabpl1fT6LpzRWsLzOE1SQsQqknGYOvFaVZPiv/kTNa/7B8/8A6LaqjyuSVvz/AMyZ86i2pP8AD/I66iiiuc6gooooAK5ex/5D/iL/ALCCf+ksFdRXL2P/ACH/ABF/2EE/9JYK0h1/rqjGpvH1/RmhRRRTAKKKKACiiigAooooAKKoaxrVjoNh9s1OSRITIkQ8qB5WZ2YKqhEBYkkgcCmaTr+na2ZlsJJfNgI82G4t5LeWPPQmORVYA4ODjBxRuBpUUVC1zGl5HbFZfMkRnUiFygAxnLgbQeeASCecZwaAJqKKKACiqlzqlnaahZ2NxNsub0uLdNpO/au5uQMDA9cVboAKKqx6naS6tPpkcuby3iSaWPaflRywU5xg5KN0Pas7VPF+j6NqLWN9JdfaEhE8ggsJ51jjJIDO0aMqjKt1I6Uh2Zt0VHb3EN3bRXFtIssMqB45EOQykZBB9MVJT2EFFU9M1Wz1mzN1ps3nQiWSEtsK/OjFGGCAeGUioZPEOlxaZqGoSXWLXTWkW6k8tv3ZQZbjGTj2zQM0qKRWDorKcqwyDS0CCiiigAooooAKKKKACiiigArJ8Kf8iZov/YPg/wDRa1rVk+FP+RM0X/sHwf8AotapfC/67kP416P9DWoooqSyO4uIrS1luLlxHDCheRz0VQMk/lXNL49slgkmvNN1KyT7HJe25uIkH2qKMbmKbXODgg7X2nnp1xf8Y2FxqvgjWrCyGbi5sZo4gO7FCAK5LX/FGk614XntdKgg1CePSLp7iVSC2m4gI2vwSjsTt2nB4PpUSbUZNdF/maRinKKfV/5HaQ+I9Ilawik1C2t7nUIlmtrWeZFmkUjPCZyfwzU6axpkmrPpceo2jahGu97RZ1Mqr6lM5A564rxzWdVt4bGGFZbTT5YZNIkmWXc090imE+cpLYjiQFgTtIJByR36KO809PF0dhEyXsn9rTymycGO9tHZH3TjaxDwkHA3KBhhyTgDSSs38/0/z/rpnG7gm+y/U9BsdY0zU5riLTdRtLyS2fZOlvOshib0YA/KfY0l7rWl6dd29rqGpWdpcXRxBDPOqPKfRQTlvwrhPAN9Yy6zYWlg0V+LbSmiW4VTHcWKKyf6PcoGKeYTk5+U/K3HUmHxjc2NpqPi+21UoLvU9Lhi0yN+HuSFkAji/vMJCDgcjcDSelv6/r+t9xpXbX9fP+vuOv03xnpOreLb/wAP6dKJ7rT03XEiSxFVbIBQDfvJGeTtwDwTnit+uM8HLKnjLxUtwcyqbISH1b7OM/rXZ0dBb6hRRRQBk+Gv+QVN/wBhC9/9Kpa1qyfDX/IKm/7CF7/6VS1rVU/iZFP4I+gUUUVJYUUUUAFFFFABRRRQAUUUUAFFFFABRRRQAUUUUAFFFFABRRRQAUUUUAFFFFABRRVTU9Us9HsWu9Rm8qFSFyFLMzE4CqqglmJ4AAJNIC3RVDSdasNbt5JdOmZ/Kfy5Y5InikibAO10cBlOCDggcEU2417T7S7itrmSWGWa5FpFvt5AJJShcBW24I2g/MDjIIznimBo0UVC1zGl5HbFZfMkRnUiFygAxnLgbQeeASCecZwaAJqKKKACiiigAooooAKKKKACiiigAooooAKKKKACiiigAooooAKKKKACiiigAooooAKKKKACsnxX/wAiZrX/AGD5/wD0W1a1ZPiv/kTNa/7B8/8A6Laqh8SIqfA/Q66iiisDpCiiigArl7H/AJD/AIi/7CCf+ksFdRXL2P8AyH/EX/YQT/0lgrSHX+uqMam8fX9GaFFFFMAooooAKKKKACiiigDlvH3/ACCNM/7DNj/6UJXPePLiaPVNfm0uTbLb6CiXDK5Tbum4yw+7hPMOeSAc16DqGmWGr2bWmq2VvfWzEFobmJZEJByMqwI61HYaLpelWL2el6bZ2Vq5JaC3gWNGz1yqgA5pdLebf3qw/wDgfg7nmUemLGbzSXi0Oztmv7Ux6JBNLNaSuYnPlO/kqqh8K3CsMrkglucvUrg20aDQRc20tnpGsxpG0iyG3ZZY8rGygDYvRe4AA7V65H4b0OLSX0uLRtPTT5Dl7RbVBCx9SmMH8qU6HYR2qRWFrb2LwwPBbSwW8YNsrYyEBGAMgHGMHAyKe13/AFtb+v06uLtb+ut/6/Xp5Vrml6Np11rdtoUUUNu+h2LPHb/KvNyfm46EjknqetaN5aabYax4j0SGxC2M97p4isLdlhhllcElZPlICNtG/gkj1JrqfD3gS00ia7mvo9NuWuYkhMNppq20ARWLZMe5gWLNknPYYArfutF0u9W5W902zuFuwouBLAriYL93fkfNjtnpS/r8bk9f67WPHtHsLa51rRvN06wklstW1WK2SONZEhEalkRCQPlVuV4GOwFQWLX1n4X+2J/Z+nyX3h2Se7eyupZLi7O+PfcSfulVHUNIMlictgHC8ew/8IzoI2Y0TTvkmW4T/RI/llUABxxwwAAB68VNaaJpVhLcy2OmWdtJdnNw8NuiGY+rkD5up6046L5fpb8b/h9z6t+f63/DocRoljBovj7xBb+DNP0/5dNsSLYzm3hBLzZOUR8EjB+7yTnvmkvofEF5461UWV5pmlXLaDB9o86F7pFJkn+6+6PGPUqfpXb6boWkaLv/ALH0qysN4Af7LbpFuAJIB2gZ5JP4motS8MaDrN2l1q+iabf3CKFSa6tI5XUA5ABYEgZJolqUpWv8vwt/keRXCvqOjWaRWNgljZ+FoprSTUr10NiwLBp4ykTl3G1DkBTjGPvVvTxWQ8QPqmoGK/kGoWcD3sBMd1aO6RAQbZE+eF9xZgCOHPGQSPRr3RdK1I251HTLO7NqwaDz7dX8ph0K5Hyn6UkmiaVLqyapLplm+oRrtS7a3UyqPQPjIHPrTv7133/W/wDX9Il7WXb9Ev0v/Vzh/h1a3el+Ej/wjOjaUyy6nei4MlwbUgLcOq4CQvuwowM4wAB9K+pzRx/Dn4gwvIqyi6vEKE87nRdg+p3DHrmvRbPTLDT3newsre1a5kMs7QxKhlc9WbA+Y+5qGfQdIutUi1K60qymv4RiK6kt0aVPo5GR+Bpdb+Vvy/yHezv53/P/ADOB1mCyi8Qz6leKl01pcWSG4hfy7zTSdgVE3qQ0b5JYKwOGYYJ6UvDK3jeLNP1G4j022ubjWL+Ce6FzI91eIvmgQtGIsKqBUI3PgBRjlsV6bPoulXWpw6jdaZZzX0AxDdSW6tLGP9lyMj8DRFo2mQapLqcOnWkd/Mu2S7SBRK49C+MkcetCdvx/r+vxE/ht6F2iiigQUUUUAFFFFABRRRQAVk+FP+RM0X/sHwf+i1rWrJ8Kf8iZov8A2D4P/Ra1S+F/13Ifxr0f6GtRRRUlhRRXP+OWu4fB17d6fNNFcWQW7XyHKs4jYOycdQyqQR3zSGld2OgpssscELyzOscaKWd3OAoHUk9hXkGm+JtR1nxObCPUrnyNb1WO8sWinI2WcRkDhSD9xvIXOMD9778pqN7PcXkkS32rXVnqllqfm3Uty8UM/ljKeTGJCYwn3cgLu68g0pPljf8Arb+l8hpJy5f6/rqevwzRXECTW8iSxSKGSRGDKynkEEdRT68US71W00eO20lNWddM8P2l3ayx6msUMMsgdmeczTLvT5ANpDKoBwBxXeeEVmvfEXiO9vLy7la31AwQQtdOYYkMMTEBM7TySckHHOMZOdXG0mu1/wA7GaleKff/ACudfRRRUFBRRRQBk+Gv+QVN/wBhC9/9Kpa1qyfDX/IKm/7CF7/6VS1rVU/iZFP4I+gUUUVJYUUUUAFFFFABRRRQAUUUUAFFFFABRRRQAUUUUAFFFFABRRRQAUUUUAFFFFABXL+McpqfheeU4tYtXXziTwC0MioT/wADZfxIrqKiurW3vrWS2vYIri3lXbJFMgdHHoQeCKOtx9zz7xidI1GS8trW3kM39s6ZDfyhjslYyJhRz1CkZ4HUda5u50LSG8cfZW0qyNvD4rghjiNumxE+wA7AMYC5VTjpwPSvXYNF0q1sYrK20yzhtIXEkVvHbqsaMDkMFAwCDzkd6bc6DpF6kq3mlWVws8qzSiW3RhJIoAV2yOWAAAJ5GKcfd/r/AA/5P7wvv6W/P/M8q0xbxtWi1G4i022uLjUdSgnuRcyPdXaKJgIWjEWFVAqEbnwAoxy2KrW9vpmh6X4buxFLapL4SuprqaywtxIxS3ywY9XxwCemB2FevpomlR6jNqCaZZrezpsluRboJJF9GbGSPY04aRpoWFRp9qBBCbeIeQv7uI4BReOFOBwOOBSWi/rs1+o7+9f+t0zivh9F9g8W+ItNhs7PT7eKGzlW0spN6IzK+WJ2qN7BVLcde56n0GqGn6DpGkvv0rSrGyby/K3W1skZ2Zzt+UDjJJx6mr9Nu5CVgooopDCiiigAooooAKKKKACiiigAooooAKKKKACiiigAooooAKKKKACiiigAooooAKyfFf8AyJmtf9g+f/0W1a1ZPiv/AJEzWv8AsHz/APotqqHxIip8D9DrqKKKwOkKKKKACuXsf+Q/4i/7CCf+ksFdRXL2P/If8Rf9hBP/AElgrSHX+uqMam8fX9GaFFFFMAooooAKKKKACiiigAooooAKKKKACiiigAooooAKKKKACiiigAooooAKKKKACiiigAooooAKKKKACiiigArJ8Kf8iZov/YPg/wDRa1rVk+FP+RM0X/sHwf8AotapfC/67kP416P9DWoooqSwpksSTwvFMoeORSrKe4PBFPopbjMaw8JaHpc2nzWFgsUmm2zWlo29j5UTEEryec4HJyevPJquvgTw6l2tyLGTzEMhQG6lKoJAQ6qu7aFbJyoG3POM810NFN67i2Oc/wCEB8Om3toWs53jtYxEiveztvjDbhG+X/eID0V8gdhWzZaZaafLdyWcPlveTefOdxO99qrnk8cKowOOKtUUXYBRRRQAUUUUAZPhr/kFTf8AYQvf/SqWtasnw1/yCpv+whe/+lUta1VP4mRT+CPoFFFFSWFFFFABRRRQAUUUUAFFFFABRRRQAUUUUAFFFFABRRRQAUUUUAFFFFABRRRQAUUUUAFFFFABRRRQAUUUUAFFFFABRRRQAUUUUAFFFFABRRRQAUUUUAFFFFABRRRQAUUUUAFFFFABRRRQAUUUUAFZPiv/AJEzWv8AsHz/APotq1qyfFf/ACJmtf8AYPn/APRbVUPiRFT4H6HXUUUVgdIUUUUAFclbaPNqHiHxDLFrF9Yhb9F8u3WEqf8ARYDn542OefXHHSutrG0P/kMeI/8AsJJ/6SW9aQbSdv61RlUipOKff9GQ/wDCMXP/AEM2rf8Afu1/+MUf8Ixc/wDQzat/37tf/jFb9FL2kv6SD2UfP72YH/CMXP8A0M2rf9+7X/4xR/wjFz/0M2rf9+7X/wCMVv0Ue0l/SQeyj5/ezA/4Ri5/6GbVv+/dr/8AGKP+EYuf+hm1b/v3a/8Axit+ij2kv6SD2UfP72YH/CMXP/Qzat/37tf/AIxR/wAIxc/9DNq3/fu1/wDjFb9FHtJf0kHso+f3swP+EYuf+hm1b/v3a/8Axij/AIRi5/6GbVv+/dr/APGK36KPaS/pIPZR8/vZgf8ACMXP/Qzat/37tf8A4xR/wjFz/wBDNq3/AH7tf/jFb9FHtJf0kHso+f3swP8AhGLn/oZtW/792v8A8Yo/4Ri5/wChm1b/AL92v/xit+ij2kv6SD2UfP72YH/CMXP/AEM2rf8Afu1/+MUf8Ixc/wDQzat/37tf/jFb9FHtJf0kHso+f3swP+EYuf8AoZtW/wC/dr/8Yo/4Ri5/6GbVv+/dr/8AGK36KPaS/pIPZR8/vZgf8Ixc/wDQzat/37tf/jFH/CMXP/Qzat/37tf/AIxW/RR7SX9JB7KPn97MD/hGLn/oZtW/792v/wAYo/4Ri5/6GbVv+/dr/wDGK36KPaS/pIPZR8/vZgf8Ixc/9DNq3/fu1/8AjFH/AAjFz/0M2rf9+7X/AOMVv0Ue0l/SQeyj5/ezA/4Ri5/6GbVv+/dr/wDGKP8AhGLn/oZtW/792v8A8Yrfoo9pL+kg9lHz+9mB/wAIxc/9DNq3/fu1/wDjFH/CMXP/AEM2rf8Afu1/+MVv0Ue0l/SQeyj5/ezA/wCEYuf+hm1b/v3a/wDxij/hGLn/AKGbVv8Av3a//GK36KPaS/pIPZR8/vZgf8Ixc/8AQzat/wB+7X/4xR/wjFz/ANDNq3/fu1/+MVv0Ue0l/SQeyj5/ezA/4Ri5/wChm1b/AL92v/xisnwr4duJ/B2jSr4h1OESWEDCNEttqZjU4GYScD3JPvXa1jeDv+RF0H/sG2//AKKWrU3yv/L1IdKPOt9n1fkQ/wDCMXP/AEM2rf8Afu1/+MUf8Ixc/wDQzat/37tf/jFb9FR7SX9JF+yj5/ezA/4Ri5/6GbVv+/dr/wDGKP8AhGLn/oZtW/792v8A8Yrfoo9pL+kg9lHz+9mB/wAIxc/9DNq3/fu1/wDjFH/CMXP/AEM2rf8Afu1/+MVv0Ue0l/SQeyj5/ezA/wCEYuf+hm1b/v3a/wDxij/hGLn/AKGbVv8Av3a//GK36KPaS/pIPZR8/vZgf8Ixc/8AQzat/wB+7X/4xR/wjFz/ANDNq3/fu1/+MVv0Ue0l/SQeyj5/ezA/4Ri5/wChm1b/AL92v/xij/hGLn/oZtW/792v/wAYrfoo9pL+kg9lHz+9nFeHPDtxNpczL4h1OIC/vF2oltg4uZRnmE8nGT2yTgAcVrf8Ixc/9DNq3/fu1/8AjFTeFf8AkDz/APYSvv8A0rlrZq5zfM/8iKdKPJHfbuzA/wCEYuf+hm1b/v3a/wDxij/hGLn/AKGbVv8Av3a//GK36Kj2kv6SL9lHz+9mB/wjFz/0M2rf9+7X/wCMUf8ACMXP/Qzat/37tf8A4xW/RR7SX9JB7KPn97MD/hGLn/oZtW/792v/AMYo/wCEYuf+hm1b/v3a/wDxit+ij2kv6SD2UfP72YH/AAjFz/0M2rf9+7X/AOMUf8Ixc/8AQzat/wB+7X/4xW/RR7SX9JB7KPn97MD/AIRi5/6GbVv+/dr/APGKP+EYuf8AoZtW/wC/dr/8Yrfoo9pL+kg9lHz+9mB/wjFz/wBDNq3/AH7tf/jFH/CMXP8A0M2rf9+7X/4xW/RR7SX9JB7KPn97MD/hGLn/AKGbVv8Av3a//GKP+EYuf+hm1b/v3a//ABit+ij2kv6SD2UfP72YH/CMXP8A0M2rf9+7X/4xR/wjFz/0M2rf9+7X/wCMVv0Ue0l/SQeyj5/ezA/4Ri5/6GbVv+/dr/8AGKP+EYuf+hm1b/v3a/8Axit+ij2kv6SD2UfP72YH/CMXP/Qzat/37tf/AIxR/wAIxc/9DNq3/fu1/wDjFb9FHtJf0kHso+f3swP+EYuf+hm1b/v3a/8Axij/AIRi5/6GbVv+/dr/APGK36KPaS/pIPZR8/vZgf8ACMXP/Qzat/37tf8A4xR/wjFz/wBDNq3/AH7tf/jFb9FHtJf0kHso+f3swP8AhGLn/oZtW/792v8A8Yo/4Ri5/wChm1b/AL92v/xit+ij2kv6SD2UfP72YH/CMXP/AEM2rf8Afu1/+MUf8Ixc/wDQzat/37tf/jFb9FHtJf0kHso+f3swP+EYuf8AoZtW/wC/dr/8Yo/4Ri5/6GbVv+/dr/8AGK36KPaS/pIPZR8/vZgf8Ixc/wDQzat/37tf/jFH/CMXP/Qzat/37tf/AIxW/RR7SX9JB7KPn97MD/hGLn/oZtW/792v/wAYo/4Ri5/6GbVv+/dr/wDGK36KPaS/pIPZR8/vZgf8Ixc/9DNq3/fu1/8AjFH/AAjFz/0M2rf9+7X/AOMVv0Ue0l/SQeyj5/ezA/4Ri5/6GbVv+/dr/wDGKP8AhGLn/oZtW/792v8A8Yrfoo9pL+kg9lHz+9mB/wAIxc/9DNq3/fu1/wDjFH/CMXP/AEM2rf8Afu1/+MVv0Ue0l/SQeyj5/ezA/wCEYuf+hm1b/v3a/wDxij/hGLn/AKGbVv8Av3a//GK36KPaS/pIPZR8/vZgf8Ixc/8AQzat/wB+7X/4xR/wjFz/ANDNq3/fu1/+MVv0Ue0l/SQeyj5/ezA/4Ri5/wChm1b/AL92v/xij/hGLn/oZtW/792v/wAYrfoo9pL+kg9lHz+9mB/wjFz/ANDNq3/fu1/+MUf8Ixc/9DNq3/fu1/8AjFb9FHtJf0kHso+f3swP+EYuf+hm1b/v3a//ABij/hGLn/oZtW/792v/AMYrfoo9pL+kg9lHz+9mB/wjFz/0M2rf9+7X/wCMUf8ACMXP/Qzat/37tf8A4xW/RR7SX9JB7KPn97MD/hGLn/oZtW/792v/AMYo/wCEYuf+hm1b/v3a/wDxit+ij2kv6SD2UfP72YH/AAjFz/0M2rf9+7X/AOMUf8Ixc/8AQzat/wB+7X/4xW/RR7SX9JB7KPn97MD/AIRi5/6GbVv+/dr/APGKyfFXh24g8HazK3iHU5hHYTsY3S22viNjg4hBwfYg+9drWN4x/wCRF17/ALBtx/6KarhOXMv8iKlKPI99u7NmiiisToCiiigArG0P/kMeI/8AsJJ/6SW9bNY2h/8AIY8R/wDYST/0kt6uOz/rqjOfxR9f0Zs0UUVBoFFFFABRRRQAUUUUAFFFFABRRRQAUUUUAFFFFABRRRQAUUUUAFFFFABRRRQAUUUUAFFFFABRRRQAUUUUAFY3g7/kRdB/7Btv/wCilrZrG8Hf8iLoP/YNt/8A0UtWvgfy/Uzf8Rej/Q2aKKKg0CiiigAooooAKKKKACiiigAooooAxvCv/IHn/wCwlff+lctbNY3hX/kDz/8AYSvv/SuWtmrn8bM6X8OPogoooqDQKKKKACiiigAooooAKKKKACiiigAooooAKKKKACiiigAooooAKKKKACiiigAooooAKKKKACiiigAooooAKKKKACiiigAooooAKKKKACiiigAooooAKKKKACiiigAooooAKKKKACiiigAooooAKxvGP/Ii69/2Dbj/ANFNWzWN4x/5EXXv+wbcf+imq4fGjOr/AA5ejNmiiioNAooooAKxtD/5DHiP/sJJ/wCklvWzWNof/IY8R/8AYST/ANJLerjs/wCuqM5/FH1/RmzRRRUGgUUUUAFFFFABRRRQAUUUUAFFFFABRRRQAUUUUAFFFFABRRRQAUUUUAFFFFABRRRQAUUUUAFFFFABRRRQAVjeDv8AkRdB/wCwbb/+ilrZrG8Hf8iLoP8A2Dbf/wBFLVr4H8v1M3/EXo/0NmiiioNAooooAKKKKACiiigAooooAKKKKAMbwr/yB5/+wlff+lctbNY3hX/kDz/9hK+/9K5a2aufxszpfw4+iCiiioNAooooAKKKKACs7V/EWi6AsTa9rFhpizEiM3t0kIcjrjcRnGRWjWH42/5EDX/+wbcf+i2qZOybKhHmko9y7pOu6Tr1u8+h6pZalDG2x5LO4SZVbGcEqSAcHpVmO8tprqa2iuInngCmaJXBaPdyu4dRnHGetebXZudTkvrdtUvtPj0fw7bXdp9kunhAlZZCZHCkCQDy1G1sr145rGs3RtW8SatPqGo6dd31vpKt5E8sjM04G6JE3hVZj8itxs3EggZrRxtJr+uy/L/hzNPRef8AwH+p7FNeW1vcQQT3EUU1wxWGN3AaUgZIUHkkAE8dhUOp6vpui2Zu9Z1C10+2BCma7mWJMnoNzECvJ9Dvru58ZaFa3gvEWw8RXtvDFfXP2iaKP7FvCPIWbcQXPO5vqa7i+VZfi3pKXPKR6RdSW6t03+bEGI9wpA+hNFtvPX8Ljvvfp/nY6mGaK4hSa3kSWKRQyOjBlYHuCOoqteaxpmny+Xf6jaWsmzzNs86odu4LuwT03Moz6kDvXn9ta6deeIbHwzouqahFox/tK5l+y3Mls32hJ0BiV02tsRpHwAcdOTiuP1rW9Tkg0vUTfTrfLobRG7jco8gGowR78rj7yjJ9cmkldrz/AMn/AJDl7t/L/Nf5nuUep2E2pS6dFfWz30KCSW1WZTLGp6MyZyAfU1arxuGz+yeMvEFpaXeo26an4mgs7iVNQm3LEbRZSFJf5SWXaGGGAOAQAMXPNvrjxFZeHG1XUxYQeIZ7PzEvZFlmg+xGYRtKG3thmxuzu4HOeacVzL5X/L/NfiKXuvX+t/8AJ/gesUV5Fqa3wj1fUYtc1eKe38UQWMCpfyeXHBI0EbpsztbIdjlgSDyMGrDjUY77VNEtr/Ubuxs9bRBaf2syXk8RsxKYop3cOSHO7BcHaCM44pJXjzf10/8Akl+I1rfyv+F1+h6rWfZ+ING1HUJ7DT9Wsbq8t/8AXW8FyjyRf7yg5H41z9pezyfCq/msNQn1G6gtbuOOaaIxyh0LqEYEkl1ICk55K571ly29nZ6R8OTpaooS6hjgZOpja1kLDPcEDJ+maOrXp+N/8g6ff+B6JRXk2iRXeoaf4Wt7zWdWZdaublr2UajMjuIhIY40ZWBjHclcFgnJNUbe+vLjwvDaS61reoXUMurOkNrdNHLKIrgok0k/mLhIxgbOd2RhTjFJ6K40r7Hs9Qw3ltczTxW9xFLJbuEmSNwzRMQGCsB0OCDg9iK8WvdY1TUfDOs65Lq2oxXVh4Z0/Ubdbe8kijWdklZmKKQGztGVYFT3FbEl7qupaxrdt9tvJ7ddbiVrG31E21xNF9hV/Kt2Lrg7/nKqy5AbnrWkoOLafT/NImMuZJ/1tc9XorymyEuvatZ2LeItYntYtIvCzRXEtnIZY7kIvmbGDF0xtJz82CTwcVN4Iu7/APtTwhc3GqX90+uaFLc3y3Fy0kbyr5JVlQnbH99h8gGc85PNSo3/AK9f/kX+AeX9dP8AM9GOqaeuqrpbX1sNQaLzltDMvmmPON+zOdueM4xVa58TaDZNeLea3p1u1gFN2JbuNTb7vu+Zk/LnPGcZrzzxV5Wn/GNPEMjCMaXZ2IlkOBiGaaeJ8n0G5WP+7XKXAdZ9a1nyJJ7jVl0vUfLUKHkVtRfylGSBnyxGoyR9RSir2+7+vkaONm16fjb/ADPbLfxT4fu9Km1S113TZ9Ptzia7jvI2ij/3nBwOvc1e+3Wn2iGD7TD506GSGPzBukUYyyjqQNw5HqPWvMPGmm3mqaV4i1rUtHk0q1ubC2sjbXEkTSz4uMln8pmXADYHzE8npVex1QaB42sdMvyzSeG9N1FF6lpLb9w8Ldyfk+X3ZDQtf67X/wCB/SJSu7f1/W6/4c9Wk1CyigaaW7gSJJBE0jSqFVy23aTnruIGOuTiodQ1vStIkgTVdTs7F7l/LgW5uFjMrf3V3Ebj7CvP/F/hiCDwDo9xqHnNqFrqFnM+y5lWIzSXcbSMYw2xjudsFgSO1aeoRwXXjnxVDfqJIl8PQKFkAKhGa434+pAz9BSfuxbfS/4K44rm1X9XdjrbvW9KsL+2sb7U7O2u7r/j3t5rhUkm/wB1Sct+FXq8VsHe7+GXjC41TLXi6HaHe4+ZcWSuuD1/1hY/WrOoPqUtt4m1T+29WgurDV7KG2WK9kWOJXjtg48vOxgfMbhgQDyMHNW4Wk49v80v1IjrFS7/AOR63cXltaGEXVxFAZ5BFEJHC+Y56KuepODwOeKmryLU0lsfGFtpIvLy5tLXxJYPALy5ed498EhYB3JbGRnBPGTjFdT44S7n1SwijnvjaLbzySW2l33kXQcFAswUOhkjTLblyeWX5W4FZp6X8/0T/Urrby/Vr9Dr1u7drx7RZ4jcogkeEON6oSQGK9QCQRn2NS14zrLm/fWdattZvJZ7XwfbXlve2c0lp50gM7LIyKwyCRnY2V55Bq1f67ejWrHUrW/1O6k/tSwtJ2SUxWdssiR74THvxK7eZv37DjIG4Ywb5Xfl/re39f56Cl7qv5X/AAT/AFPULbWNMvZkis9RtLiR1d0SKdWLKjbWIAPIDfKT2PFTJeW0t5LaxXET3MCq0sKuC8YbO0svUA4OM9cGvI/hr/yN+k/9g7Vf/TiKs+KLcxeJ/Hes22pXlpeaZpFrcW4t7l4l3qkzAuoIEgyMbWBHXii2ifr+Da/QFdycV3t+X+Z6zVHVtc0nQbdJ9c1Sy02GRtiSXlwkKs2M4BYgE4B4rzGTXdeu/FV3exwakhs9Xs7RZf7QigsUgdITIjxPMpd281sHy2OdgU9q7fxNon9tazo3k+IZNHurRppoVt0heWbKbCVEqsMANydp+91FJppJ/wBbJ/qJO5oy+J9Bg0ePVptb02PTZTiO9e7jELnOOHztPIPetJHSWNZI2V0YAqynII9Qa828Pavc694w8Pvq5WaWGz1WHeqBUleK5jh8zb0BKg9P7x7Vd8Oahc6V8Gr29tE3SWMd+1qoHG2OWXywPbAX8KJLljzf1u1+hSTclE76orq6t7K1luryeO3t4VLySyuFRFHUkngD3ryPxFc6h4b0S7h03WtTmN94ZnvpJ5r2SV450aMCRCxPl7vMPyrheBgCut8b2Kad8GvEVvHNcT/8Su4YyXM7zOxKEk7mJPXsOB0AA4pyi4q/9aNr9BQalJLv/wAD/M7NWV0DIwZWGQQcgilrx+PWNcl8QTXFvFqQWw1Syso5zqEUNikDJDvR4nmUu7eYxBEbHOwKe1aFpc6hZ3k802uXNte3UN75dzcXf2jTrpl3MjRneVg8oL8w2LnDZ3YzSkrK/wDWyf6ii72R6hRXE+B2kt9Vu7K4u9UWX7JDM1lqM5ufmywaeKcuwKPgfIMbcfdXOK7ahqwJhRRRSGFFFFABRRRQAVjeMf8AkRde/wCwbcf+imrZrG8Y/wDIi69/2Dbj/wBFNVw+NGdX+HL0Zs0UUVBoFFFFABWNof8AyGPEf/YST/0kt62axtD/AOQx4j/7CSf+klvVx2f9dUZz+KPr+jNmiuP8bRNea/4V05ru9t7a7v5VnWzvJbZpFW2kYAtEytjcoOM9qx7nXdW8KyarpWmzG+8jUrCG0fU5ZJjHHcsFZWcnc207iCSTyM1KV2l3/wCGLbsekUV5lF4p8Q22vXelwyae97LrsenNcSRztEAbLzS6xGY7fmH3VYAj3Jas3UvidNpVxo+o65OiPFNqWnyQW7tFDdzxyJHGdrMduTz8xO3J5ot/Xyv+qL5X/Xz/AMmev0V5ld+LPEGla3qFs62Et+raTAzZnMAa4kdHIQyEDHYgAnvnjFqHxrrslw+hf8S5ta/tptMW7FtILcKLcTmQxeZuzt+Xb5nXnPanyt7f1t/miLr+vn/kz0OiuZ8LapqfiPw7qQ1YQW95DeXVjvs9yqAjFAwySQe/WuGtfEmtPN4NnfUpfJ0q3iTW0LsftEk0n2VS/Izh0duc9KSV2l3t+P8AX4jeiflf8ND1+ivK5vF2uaL4dudZS8sI7a4nvrxJdTlMnmCOQrFbQp5ikFkUtkZA/unNRL411bS9U8Va3d6hbPp0dtp7W1rOjokDTgBCXMm1VG7LkKN3X5ccpa/1/X9eQPR2PWaK8ytviJquomCw0e+0HUrttYXTm1G2VntXRrdpg6qshO5SMFd5ztPIzx03jGDWptL05LH7RPELpP7TXTpTbzSQ7SG8ttwK/NtJAbdtBAOadv6/r1D/AIf8/wDI6eivPbLX307Sfsfh/VpNQub3VhZWserxymXTsx7mSYOwkk2hHYZIJDAZx81XdM8X6lLrVro9/HaNdR6nNYXkkMbKrhbfzkdFLErkFcglsc896Er7f1t/mv0E3y7/ANb/AOTO1orz3RvGev65rWm2MC6bbpOl9LcSvBI5CW92IQFAccsp6k8HnGPlqWy8Za9/Yj+J72zs5vD8llcXarbgpNbCPJQOWciTeAfuqu08cjmk9Fd/1/VmNXb5Ud7RXEeBvHD+JNUutPn1HRtSeO0huxNpD7ki3lgYX+d/mUqOcjOfuis/UviLqemapHYS2ls8yeIBYXJVGASzZVZZeW6/vIwTyM549HZ3t/W9vzYr6X/ra56PRXjeueMte1PT9WltJYbAtomp3NpPE0+ViinCI20Shd7KCQ+MgkEcZBlk8SeK9D/trUjqVneJpeh2N5PDPBKVmz5xYRr5v7tiAMuS2SBx6OMW1f8Ardr9BvR2/rp/mev0VwVz401hZ7vVIIrH+w7HUodPlheNzcSbyitKJN+1QrSAbdpyFPIzUy+MNUmt9M8pLRJb7XbvTCzRMyokfnhGxuGW/dLnnByenGFZ2v8A10/zGldX/rr/AJM7eiuH+G+pamvwzXUvEF+uoSIbiQSBGVtiSPwxZ23H5Tg8YGBjjJgi8X+J7LwvLr+rWFhcWc+mLe2v2XMflSuRst5NzsXzuHzqFHB4HFFtWv6/rRk30/r+up39Feeap4x8SaCt9Yagul3OpwixlgmigkihdJ7jyWUoZGbKnPO7nI47UsfjXXLLVnsdUGnzrZa3Bp15cQW8kYaOeENGyqXbaQ7qpyWBHpQlf+vRfqVayv8A1tc9Corym7+Kt5Hbxu97oGl+dHdXkD6k5VbiCOUxxRp+8X944BbcMgcfIc1dvviDrX2bUdV09NPXTNOhsrhopoZGlmSdVZlDBwEIzwdremO9Ja6ktpOz/r+ro9JoryK113XrTxXqK6hqMd5at4ths44wJ4zCjWwfCkTY24x8hBUtuYjkAbth421l49L1K9SwOma4JvsMUUTiWArG8kfmOXIfcqEnCrg4HPWj7PN/Wyf6j62/rdr9D0CivOdF8b+JLgWP221068m1TQG1a0trVGgKSKI/3TO7kEMZB82Fxjv1rKu/HGpaiy6edUsp57PWdLV7vRy0cciTSkPEf3j5wUZT82D6DpV8j5lHzt+NvzJ5ly839bXPW6xvB3/Ii6D/ANg23/8ARS1s1jeDv+RF0H/sG2//AKKWhfA/l+pL/iL0f6GzRRRUGgUUUUAFFFFABRRRQAUUUUAFFFFAGN4V/wCQPP8A9hK+/wDSuWtmsbwr/wAgef8A7CV9/wClctbNXP42Z0v4cfRBRRRUGgUUUUAFFFFABUF9ZQajp9xZXsfmW9zE0UqbiNysMEZHI4Pap6KNxptO6MLU/BmhauIBf2bsIYRABHcyxCSIdI5NjDzE/wBl8j25pL/wToOpXtxd3dpL51zHHHKYrqaJSIzmNgqMAHUjhwAw7Gt6igRz9h4G8PaZqEd7Z2Ui3Edw1yrvdSv+9aPy2chmILFeCT16nnmr+saBp+uxxLqMcu6Fi0UtvcSW8sZPXbJGysM9wDz3rRoo33DYwrnwZoV1ptrYtZvDDabvINrcy28ibvv/ALyNlf5v4ufm75pt34H8OXscEdxpieXb2y2kSJI6KkQdHCgKR/FGhz149Ca36KLvcOljGufCWiXaX6zWZJ1CdLm4dZpFYyoqqrqwYFGAVcFSOmetLaeFNGsVsRb2jA2Ez3EDvNI7iR1Ks7MzEuxDHJYnrWxRRsG+5ky+GNImgnhktN0dxepfyjzX+adGVlfrxgovA446daivfB+h6g9y9zaSCW5uVunmhuZYpBKqCMOjowZDsG35SMjOeprboo6W/r+tF9wbFTTdKstI01LDT4FhtkzhMlskkliScliSSSTkkkk1nab4N0PSb5LuxtJEkiBWBHuZZI7cHgiKNmKRAjj5AOK3K5bxHq2vReKNL0Xw82nxG8tbmeSe9geUR+UYwMKrpnO/HX0PbBOo0rqw3X/CQk8PWOnaDYWjx2Vx5scNxe3Fsy53ZMdxFl42yx5w2QSvAORX0X4baTaeH7Ky1WHz57dp3LW88sS4mkLvF8rAvHkgbWyDtBIrJsvHZl8SaNfX6agsF5osryWlha3F2qzLMqk7IkY8YYBiBwfetjwLqk+qeD9RvZJ7qQnUb8RNch1kRBM4Vdr4ZcDA2kDGMYFD0g36/g7AtXbzS+9XNCLwJ4ch0m601LBjaXdmljMjXMrF4E3bE3FsjG9uQc89eBT7nwVoF0LgyWcivcXKXTyw3MsUiyqgjDo6sGQ7AF+UjIznqa4bwt4z13QPBWh3niiW31C1u9ElvI3QSfaFaGISYkdmYSFlyc4XB4561ma38QdY1jw7d22leIdFe7hfT7n7XpBd1jWW4CNA22bO5SBk5G5SRtXOauSfO49f+D/wP60Etr/10/zSPU7Dwto2mSRPY2QieK3e2VhI5JR23vnJ5JbkscsT3p1l4a0nTm002dp5Z0u2a0s/3jnyom25Xk8/cXk5PHXrXE3PxE1nSrq207UILK4vY9eXT72SGF4kFqyKwmVWclT+8QfeYdahuvifeRw2nnX2h6Qb172e3uNTJWJ7eGURxoMyLmR8g5BwBk7TU30v/W1/yb/ELf1+H6fkd3qXhfR9Xa/Oo2QnOo2gsrrMjjzIQWIXg8cu3IweevSo5/B+hXLbpbAE+VbwgLK6gJA/mRDAP8Lc+/Q5FcHdfGFP3F1DeaPZwLZWl1JY3sv+k3fnjJWH5xjYpzna24nHHWtf/hMtcTVVllGnf2Z/b50fyVgk84g8LJv37QQeq7Tn1FOzUuXr/wAG35v8ROStzf1tf8l+B2upabaavp8ljqMXnW0uN6biucEEcgg9QKyNb8F6XrWsw6u8Qi1GNEge5XdueASCQxEZAwSuMkEgE+tZnju51GfV9D0PS45pDfGeWVYtQey3LEowGmjBdBlwfkGTgDpmrvgq9u7zwUPPmmub23kuLd/OxvDxyMuwtn5sYA38bvvEDOKjZcy6f1/wCrdO5ualpdnrFmLXUYfOhEscu3cV+ZHDqcgg8MoP4VS1nwpo/iCeObVLZ5JEQxloriSHzIycmN9jDehP8DZX2rkPAkOpaHqmm6d4stb6PVrywZ1nfxBcX0UrJs8wNE5CRv8AMCNgYYyA3re8eeM9S8JyPcRvpkFjBAsoW7O6a+bcd8USiRSpVRu3FWHPTg1VrNL+uwruzN6/8HaFqd9Hd3lkWkRFjKxzyRxyopyqyRqwWQKegcHHapZvDGj3EV/HLZ7k1G4S6uh5rjzJUCBW68Y8tOBgce5rkrvxvrttqd5Pt07+y7PXYNKaEwSGaRZRFhw+/apUy9NpyB261Bc+I9e1XVdDvoJ7e20ebxC9ksESuszrGJkJd9+1lZkJ2bRjAOTTSej7/rZ/qn/wwtNX2/S/+TO0uPC+j3ep/wBoXFnvuvtEV15nmuP3kalUbAOOAxGOhzzS614Z0vxA8D6nDKZbcMI5be5lt5ArY3LujZSVOBlScHAyOK53x/fC31TRba9n1RNNuPP8+PR2n+0u6oChxB+82D5sleMlc8Gr/he81LUPhjaXTzfbNRlsWKSB13O+Dt3EYAboD0wc1G0W10/r9CvtJdy+/hHQpILmE6eixXVgunSxo7Ipt13YjABG0De3IweevSqlx8P/AA1dXHnS2MoffFKAl5MiiSPGyQKrgBwFUb8biBgkisLwLHeaJqttpHiO3vYtXuNO85ZZNfudRjmCFFkysuFjcMynCqRg8NXoNW7p3v8A1f8AzJvdWf8AWiMfTPCei6PeRXWnWXkzQxyxRt5rthZZPNcYJI5fn26DA4qHUPBOgapq8mp31k73UyxrMy3MqLMqElVdFYK6gknawIPcVvUVIzFuPCOiXWuLq89mzXaukhxPII3dBhHaINsZlHRipIwMHirGs+HtO1+OFdSilLQMWilt7iSCWMkYO2SNlYZHBAPPetKijpYOtzEuvCGh3em2lg1m0MFln7MbW4kt5IsjB2yRsrDI688981pW2nWdnpkenWttHHZxx+UsAX5QmMYx6VZoo3A52DwF4ct7C8sksZHgvYPs8yy3c0hEXaNCzkxoOypgDsK19S0y01fSbnTNQh86zuomhmj3FdyEYIyCCOPQ1boo3BaO6MOTwboUmrxam9k32mMowAnkEbMgwjtHu2MyjGGYEjA54ptv4J8P217NdR2BZpRIDHLPJJEnmZ8zZEzFE3ZOdoGcnNb1FAGRovhfSfD8ksmmQSrJKqo0k9zLOwRfuorSMxVBk4UYAz0rXoooAKKKKACiiigAooooAKxvGP8AyIuvf9g24/8ARTVs1jeMf+RF17/sG3H/AKKarh8aM6v8OXozZoooqDQKKKKACsbQ/wDkMeI/+wkn/pJb1s1jaH/yGPEf/YST/wBJLerjs/66ozn8UfX9GQ+JvD99rF5pF7pOo29jdaXcPOhubRrhH3RNGQVWRD0fOc9qoP4HmurV31DVRNqFxqdtqFxcJbbIz5DKVjSPeSq4THLMcknnpXXUVKdndf11Lauch/wgf/FTSav/AGj9/WF1TyvI6bbXyPLzu/4Fux7Y71Vi+GNo9xnUbpby3abUZHha3xuF2QSM7jjaARnvntXc0Uulvl+n6F8z/r5/5s4C1+Glyj+Zfa+bubdpxMrWm1mFpIWGfn5LAgE9iM4OcUzXfC76NJd61bXN1JdTa0uowyW+mtdfZSYBCweFHDyoVBzs5G4cYBNehVwl/wDEWfR/GHiCy1PR7n+ytJsre4FxAsbOxkZlPHmZIOAAAoPytnqua5pP+vT/ACRKSX9fL9TQ+HWn31h4anbVBKJ7zULm7HnR+W5WSUlSUPK5GDtPIzg81Wj+HMEekeKrEajJnxBNJIkoTDWe4EqF+bna7M4PHLfjVqfx9a2lysN3pGqQmNY2vHKxMtisjlYzLtkP3sZ+TcQOW208+OrL+3f7MjsL6TdPJaRXQWMQzXCIXaFcuG3YU8lQuRjdUvXTyt8lb/gf0wT1v53+ev8AwTNu/hxI+m2dnp+rrbJFo7aPM8tp5rPEwGXT5xsckck7gfTvUcXw3uRHeRT6zC8d3Z2kTlLIqyT22PLlUmQgLkAlCD/vVX8OfFG51HStP/tDw1qUmp3yXMsUFmsG10hkCsQWmwv3gPmIyVbHVc6+nfEfSb/7PK9pqFnZXdrJdW17dRKsUqRqGkAAYspUH+JQDg4JpttXf9dX+d/mJLa39bf5IdH4P1Ge9sb7WdeN5d22pC+YJbmOEAQtEI44zI3lj5txOWyc+vGn4j0GTW47KWzuxZX+nXIubWd4vNRX2shDJkblKuwIBB54IrJPxI06PT7i6u9M1S1eH7OwtpYkMssc8nlxSKFcjBbPBIYY5UcZz9Z+JN1bQ240zw/fG8XWIdOvbO48jzIt6hhgibYSysNpDED+LFPW6Xmv0X+Q76X8vw1ZebwLcSwz3curqdclv478Xi2mIUkjTy1UQ787NmQRvycn5ulNHga/iEF7a61CutLqEl/NdSWJaGV3i8or5QkBChMAfOSMDJPNWvFfim98P6v4ftrPTpL9dTuJYpYIlUzHbCzgIWdUByBkscYzVnTPGenarPZQ20Vysl3DcS7ZEAMJgdUkR+eGDNjjI4PPTKV1t/X9WC17J/1v/wAEz/DPgN/D9/Y3Uuqm9e1t7uFs2+zzTPcCYtwxxjGMd8546Uy08AzxWkmlXutvNoa289tb2MUJiISXIPmvvIk2gkL8q475PNRaP8QLjXfGWm2Njo9yNJ1DSBqCXMnlB0JYAFv3udvYgKTuI7ZNams+N7DRdXaxntLyYQiE3VzCqeVaiV9ke/cwY5IP3Q2OpxQ7tJPzX4v9bgvdk7bq35Il8PaFqml3Ek2sa42pHyI7eCKOAwRRomfmKb2DSHPLDAOAABWP4h+GsOva/q+qjU5bZ9R0k6esaoSIZCcicfMMsMIO33RzWDrHxO8SWN14he28OsbXSr+2sYg6xEkyNHuZm+0Dqr/KAvGVLH7wHYReOLN9ZTT30+/iUzraPdOsZhiuSm/yGKuTuwRyAUzxuzS+JXf9XX63/HuHw/12/wCG/DsZk3w0t5LOG0TUHjgi8Py6JgQ5Yh9uZc56/L0xznrTZvh3c3ui63Z32sxNPq2lQ6a00NkUWPyxIA4QyMTkSDjd2688dB4a8SxeKLJryzsL22tclY5rpUUSkMVbaAxbgr1IAORjNYF38RHk17SrPS9NuPsN5fz2j6hPEvlS+VFKzeVh92Q8YGWUAjOM9armf9fN/qwS/D/gf5L7iabwFPJezRLq6ro9zexX9xZG1zI0sew4WXfhUJjUldhPX5hmmQ+Ar6LWrKY65G2m2OqzanDaCyxIWlEm5Wk8zBAMpIwowODnqG2fxLsjodhfXFreXSSWEV9e3MFukcdpFISFd0aUkAlW4QyEBTn1qf8A4T+GG/ubM2l5qFwdUk0+2htLdEYskAmwWeXB4z852DsQMZJ7ydu36WX+Qr2Vu/8Ak/0uaPhnwxJoXhqXRLy8jvbYyTeUUgMTLHIxba3ztuYFj8w29uKybfwBdvok2kav4hmurJdP/s+0jgh8nykyNsjjeyySjauGwo4PHJqpP8Rr2+1vw1a6BpUy2uqPMbqe6jjYwiFtsse3zlwykHLfMMY2h+g1bX4jaPPa3F1cQXlnax2bX8E08a7bu3UgGSMKzEjJXhgrfMOOaWv9eV/+D+I/6/r8PwKs/gK91Nbq41rWorjULh7MCaCyMUaRW8wlChDIxyxzlt3cYHGKl1XwANTtPFUJ1ExPr8kU0UggybOSONFRh83zEMgbt6e9Z3iD4m3NjpoOneH75dRi1Czt7iyvBCHSKdwFYYm2ncMhSGOG+8AAa0bXx6jQyr9hvb+9bUbizhsbWCOOU+Vy2S0xQhR1csoPGFGQKN1b+vs/8Aak1Zr+t/8AIWbwPc20Gmjw3q66ZLZ6d/ZjyPa+b5kPHKgOu1wRkNkgZOQabf8Aw/8Atul65Z/2rJ/xNYraLzZozI8fkgDcxLfOWxknj8akm+Ilh5dodP0zU9SkurSW7WG2jjDIkThJA3mOoDKWxjPY4ya6TS9RttY0m01KxYvbXcKTxMRglWAI47cGnq9f63f63/Eiy/r0X6WOSk+Hsz+Ipr4atGLWTWIdX+zm0JcSJCIim/fjaQAfu5HPWn2PgGe2ktILnV0n03TFmGm24tNjwmRWXMj7yH2q7AYVeDzk812lFT0t/W1vyRXW/wDXf9Tg7j4Ypdabp9lNqrhLPw/LorMkGDIHEf7z73H+r+7znPWo2+G9/c6sdQ1DXreSSSawmdINOMSg2shZQo804DBsc5wec44r0Ciq55N3+f43/MXKrW/rt+gVjeDv+RF0H/sG2/8A6KWtmsbwd/yIug/9g23/APRS018D+X6kP+IvR/obNFFFQaBRRRQAV5/4z8V6ppXjLTodMuo49N09Yp9YjMasXjnmEKfMeV2/O+R1246V6BXA6l8NI/EFx4luddurgT6qfKthaahcRRxwrGFjDorKrkNuYhgw+bHNCdmn219fIe6t3O+oqno8d9DotlHq7RNfJAi3DQsSjSAAMVJAOM+oFXKbVnYlaoKKKKQwooooAxvCv/IHn/7CV9/6Vy1s1jeFf+QPP/2Er7/0rlrZq5/GzOl/Dj6IKKKKg0CiiigAooooAKKKKACiiigAooooAKKKKACiiigAorkdR1TxJdeOLrRNBu9KtIbXT4bote2Mk7SM7yLtysyBR+7HY9apWPxIgkEEmpIbfbp1xc3MEUBk2yQzCF1WTcCfmyANnOQdw6FpX/r1/wAgl7u/l+Nv8zu64rxVpmt3vxA0CfQrgWRhsbxZLqWza4hXcYcKwDLycEj5hyvcAiry+ObX7DcyT6XqNvfW08ds2mSLEZ2kkwYwCshjO4HrvwMHJGDSHx5ZvZW722majc389xJbDTI1iFwkkf8ArAxZxGAo778HIwTkUut/62/4I07f1/XYdofgyLQtQ0+4gvHlSy01rHa8Y3SFpFcyEg4BJB4x3q7ofh/+xdJvbL7T532q7ubnf5e3b50jPtxk5xuxnvjtXNXvxOt7XU7WdYHl0eTTJLyYrH+/hdbiOIggsAAu9tw5I2nHodi/8c2FnqVzp8NpeXt5BPFbJDbiPM8siGTYhZ1GQg3EsVAHem1ePk7/AJ6/iJOz08n+H+Rj6P8ADOW30m00vXtZXU7Kw02XT7VI7TyGCyKFdnO9gxwMLgLgE53HmpbvwFq2p6LdWeqeJjPKyWyWpSzKQwiCQSKzReYd7sQAzArkAAAVdn+IFkbG0k03T9Qv7i6hml+zQRp5kCxNtkMm51A2t8pAJJP3QaWz8YSL8JrfxdqFujzNpa3skEGVVnKBti5JIyTjkmm7u8v66/8ABGui/rp/wDP1v4aDXNY1PU7jVmiudQ0b+zmEMJCRTZB+0KN/B+VcDOflHzVbbwNcWVnow8Paslhd6VYNp4nntfOWWJgm4lQ6kNuQMDk4Ocg0n/CQeINE1O1g8RRWd+l/BNJBHplu0ckcka7/ACvnkYSErnDZTlenPDk+JehzeVJaJd3Ns5tRJcxIvlwtcttjVyWBB5BIAOAR60rPZf1v/myb6X/rp/wP+HuMfwNfwz/8SzxJc28Nxb28F+8sZkuZ/J4DrMHBR2HDEhs9sGppfA3mRhf7QxjXhrGfI9Dny/ve33v0qW88d2NtfXFjb2F/fXkV6LKOC2WPNxL5QlbYWdVwqHksV54GTVWD4k6bd6ZbXdjpmqXUty9wBZpFGJkSByksjBnACg44zuOQAM8Ua35v66P9Ewcbrl/rZr/M19f0O51O4sb7S75LHUbB3MMssBmjZXXayOgZSQRg8MMED6VW0rwtd6XDFbxazKbZkuWvEWEK1xPM+/zVfOY9pL4UZ+8OeKo33xL0qz86SGx1G9tbe0gvri7t44/Ligm3bZDudWONpyFBb0BrT8X+Ix4b8O/b4/LMks0VvCZQxUPI4UEhfmIGc4HJxgUNNaP0GncraN4V1C11e0v9d1v+1ZNPtntbMi2MTBXK7nlJdvMkIRRuG0deOao+LPAFx4ju9VktdYjsY9WsEsrlXs/OZQjMyFG3rtGXO4EHPYqearaZ8RZUtli1Wym1C7l1E2Ft/Z9obd5m8ky/PBO4eE4BGHPo2dpyNCw+Iljf3FrGdJ1W1iuLtrFrieKMJDcqWBhbDk5yp+ZQydPmpu9/66/8P+IbL+un/DfgyKfwA9zZXcM2qL5l1rNtqzOttgAxeVlAN54Pldc8buhxyg8B3aatZtDrSJpVnqj6pHZmzzIZH3llMu/G3dIxHy5Hqas6d8QbDUtasLCHTtSSPUnmWyvXjTyLgRAlmBDlgOONygnqBjmoLHxff3nju10tYbYabdJetFJtbzD9neKPOc4wXaTt0C/iJttL5/cl/kvu9RaJNf1rf/Nmnrvh67v9YstY0fUYrDUbOGWBWuLY3ETxyFSwZA6HOUUghh75qvp/hG40zTINMtNbuIrEW9ylyscYWSaaZ9/nLIOYypL4A4+Yegp+ueN7LQr+e2lsb67WzgW5vp7ZEMdnExIDPuYE/dY4QMQASRVjT/FMGp+JL7SLKwvX+wMqXF5tQQKWjWRQCX3NkN2U4xzgYJWrVv6/rX7ytb3K+jeGb+11qLVde1dNUura1aztmjtfICRsVLM+Xbc7FFywwOOFFdJXJat8Q7DR77U4JtL1SaHSXiW9uoIkaOESKGVuXDMORkKpI9Mc08/ECxihvxeabqVpd2Twp9hljjM05mO2LZtcqdxBHLDGDu24ou2v6/rqTazOqorkpPiHYxW0W/StU+3SX/8AZzacEiM0c/lmQK37zZgqAQwYjkZIGSLNr43srnW49PNjfQrLO1ot26xmE3CoWaHKuW3ABucbcqQGJos/6/r0+9Dem/8AX9Wf3M6SiiikAUUUUAFFFFABRRRQAUUUUAFFFFABRRRQAUUUUAFY3jH/AJEXXv8AsG3H/opq2axvGP8AyIuvf9g24/8ARTVcPjRnV/hy9GbNFFFQaBRRRQAVjaH/AMhjxH/2Ek/9JLetmsbQ/wDkMeI/+wkn/pJb1cdn/XVGc/ij6/ozZoooqDQKKKKACvNvFXhrW73xJ4iksdMkuYNU06yihnSaJVV4ZnZlYMwYHDAggEcHkV6TRRsD1VjzTxV4Ovr7xVqU8Ok3Wow6rHbqki6rJb20DJkN58STIZBjBGA5JyDgVHdaD4muvGumX97pt5dfYNaeY3P26PyBaMkiRiOEycFQ67yVDHHBfgD0+ihaB0fmeaeCvDWuadrOjnUdLktYtNtNRtpJmmiZZDLcRyRsoVycFQ3UAjByBxmF/AusX3g/w9pE9uIJINMvbW6YyoRC0sRVehOeT2zXqNFD1Vv66/5jTs7o8lTwZq89jO0OgXVpMDp8eb/V3u5pfKuVkkKs8zqsQAyo+Vic8DgVd1jwxrv9uavqVrpkl0jeILDUIYopog88UUSK5Xc4AIIPDFc4r02iq5ne/wA/xT/QX2XHvp+Fjk/Fttq513w3qmkaXJqCafcTPdQxyxpIEaFlG3eyqTkjvj3rAsNA8QaHdabqa6PJfTSf2kbi1guIla2a6mSVNxdgCFC4YqSc9Aa9Loqf6+8abR5v4N8O65oWq+GZL/S5NkXh8afdPHNEwtpg4f5vnBIOMAoG59BzUfxD0DxJrlxqEFrp93qFuUtpLAQ3qQwxlJA0odC673OPlLAqPVep9Mopt3af9au/6k21b7/5W/Q8z1nwrrl1p3i82+ns8l/q9ne2kXnRhpo4ltywBLYBzGw+Yjkdcc0y38I6gfFjzS6JetHPqy6mLm41V/s0CEKxU26ThTMrAgHYy9DuPSvT6KW1v67f5IcveVn/AFv/AJmB4I0270jwbY2OoxeTcxeZvTcGxmRiOQSOhFcfD4f8RR3Xh/STor/ZNH1K6nfUBcReXJE8c4jKrv35/eKGyowemRzXp9FALQ8js/DHinS/DWk2tnoskOqw6PBbQ39nepG1tcLuytyDJtliG4EAK/O7jODWrp3hXW4fGUd/cWg8geIri9aQSp/qWsvKD4znl+Mde+Mc16PRV87u5d7/AItP9BNXVv62seX6F4M1q3vtE+2WfkxW9xrLTv5qHy1uJSYjwecg54zjvisyw+HOrPoEmmnSZrW5tdFewW7v9WluVnl3RkeQvnMsUR8vJyinlQBgGvY6KlNp3X9b/wCY3ruee+I4PFfiXQWZvD7Wy2uoWFzb2DTwm5kEUyvMSwkMeMAbRuB4OcZAFTTPD+v6LrH9vDRZrp11TUXNjFcQiVobgoUdSzhMgoMgsDgnr0PptFF7bf1e1/yDpb+uv+Z5xofhDWNP1G1nuLZfn0zURPtlUiOe4uFlWMc84GRkccfSup8C6bd6N8P9C03UovJu7Swhhmj3BtjqgBGQSDz6Gt6inzO1v63b/UVtb/10/wAgoooqRhRRRQAVjeDv+RF0H/sG2/8A6KWtmsbwd/yIug/9g23/APRS1a+B/L9TN/xF6P8AQ2aKKKg0CiiigAooooAKKKKACiiigAooooAxvCv/ACB5/wDsJX3/AKVy1s1jeFf+QPP/ANhK+/8ASuWtmrn8bM6X8OPogoooqDQKKKKACiiigAooooAKK5288d+H9P1S5sLu5uY5LR1juZfsE5ggZlDAPME8teGU8sOtbkF3HcTTxxrKDA4Ri8LopJAPyswAcYPVcjOR1Bo8w20JqKKq/wBpWn9r/wBl+b/pnkfaPK2n/V7tuc4x14xnNAFqiiigAoqGa6jguIIXWUtOxVCkLuoIGfmYAhBx1YjJ4HNTUAcZfjWNJ+Il7q1n4dvtWtbrTILdHtJrdNsiSSsQwllQ4w68gGufi8Ea7aTxyf2bY3rvo96s8c0gMDXM9ysxiPIYjG4bsAcDpXo+patZaRFBJqM3kpPcR20Z2M26R22qvAOMk9elM1fW7DQ7ZJ9SmZBI/lxJHE8skr4J2pGgLMcAnABOAaadlf1/FP8Az/Icvef3fh/w35nEppWvzaHfJLol1NY/aLd7XS9Sv1lu41U5lMc6yna3QoTLwR1XoC10zxNY3mma5Ppt5qBs5LqGPT5LuF7uO2lCbNzs4R3Vo+cuThurEc9vpOsWOt2ZudNmaSNXMbq8bRvG46qyMAysPQgGr1GqJPLtN+H+oyXixatbKLa80fUIboiRWEUtzciURgZycAnkDHy1VtPA+unwpo99rdjcz6xFqkl9qNpp+ofZ5nDRNCojlWRACFEZxvAIBGe1et0UXdv67t/qPff+tLHmWmeHdc8OC0vrLw/57T2d1bzWUF6HkgaSfzY2eSeU7+p3kMTuPygjpsWfhW/uPgnbeGboLaaj/ZCWzBmDCKYIMZK5BAYds12tYWq+MtH0bVG068a9e6SFbh0tNNuLnZGSQGYxRsFGVbqR0o5nZrv/AMF/qwS1v/XRf5GHc/8ACRapqthqcnhu4tm0WCeRIZbmAm8uGTYqxlXICcsdzlT0461gWHgjVdA8G+JdFvXjNrqFq2pjUN0aLb3pG6RCBg7A6qynnAyCeK9Rsr221GxhvLGdLi2nQSRSxnKup6EGm6hpljq1r9m1Syt72DcH8q5iWRdwOQcMCMg96TvrbR/1/XyQRsrf1/X/AAWeY6JbajaeH/CPiOe3W71W7uri9uLFZo4pZjcxsxWPzGVWZF2cEj5VPpisvRvDuo6npen66NKv74ebqsL2unao1m4Mt2XRt6yx74/lIPzHqCAa9g1HSdO1exNlq2n2t9akgmC5hWSMkdPlYEcVYhhit4Uht40iijUKiIoVVA7ADoKptNuy/wCGEtFb7/U8suvA2tx+FPEunW2nQCS78OWdhaxW837tpo1lDIpkcsANy4LnnPU812finSLzUPDtmthEst3Y3VtdpA7BRIYnVmTPQEgEAnjOM10ZOBzVC11vT7zQRrNtcb9PaEzCbYw+QZJOCM9j2olNt8z9QUeny+/Q4lfD2t6j41sfEU2lvYxvqqzSW0s0RkhhS0liDvscqSXcDCluMZ74lXwxq32KKJrTBHimTUGHmpxbmRyH6+hHHX2rqtF8S6f4gDHTk1AKqBw91ptxbKwPQq0sahvwzVzU9StNH02a/wBRl8m1gXdJJtLbR9ACTSa2/rqn+g27xt/XX/M8fXUb3Qk8KWK2SvHpEd7HbXcNzFIl4VjMcZTYxIyzKrbguGIHPWu4t/DF3YeMfDM1tEXsNN0m5tZpy658xjDtyM5JOxjkD610lnomk2F/cX9hplnbXd1zcXENuiSTf7zAZb8avUXd79f+H/zF3/rt/kcB4m0bXf7Q8SQ6VpZvofEVjHbJcCaNVtJAroxkDsGK7WBGwMcg8Ctjwnod3o2reIGuY9sFzcwNbSFgfMRLaKMnAOR8yEc46V09Yl14x0Ky1gaZc3rJceYkTMIJDFHI/wBxHlC7EY5GFZgTkYHIojpoupXQ5zXPDWrXln44S2tN7aq0Bsx5iDzdsSK3U8cqeuKj1/wzrM/izUNYsbLz1ibTZ7ePzUU3BgeUyIMnhtrjG7AyRz1I6l/Fmix65/ZL3bC68wRE+RJ5QkIyIzLt8sORzs3buelNbxjoS6x/ZjXjCfzfI3/Z5PJ83p5XnbfL3/7G7d7ULpby/CxMkne5ykXhzW73xJba7caa1p5+vJeSW0k0Ze3gSzaEF9rFSxbspbgj0NQ6b4LvrLxgm/SbqaFNYn1EahNqshtVjfewCWwmAEoL7cmPbjJySa7/AFbWLLRLMXWpStHGziNFSNpHkY9FREBZmPoATRpOsWOuWAvNMn86EsUOUZGRgcFWRgGVgeoIBFCfVdP+B/kipNtWf9b/AObLtFFFIQUVmQeI9KudcbSILrffKjuYhG2MIyqx3Y28F1HX+RrTo6XDrYKKKp2WrWWoXl9a2c3mTafKIbldjDy3KBwMkYPysDxnrQBcooooAKKKKACiiigAooooAKKKKACsbxj/AMiLr3/YNuP/AEU1bNY3jH/kRde/7Btx/wCimq4fGjOr/Dl6M2aKKKg0CiiigArG0P8A5DHiP/sJJ/6SW9bNY2h/8hjxH/2Ek/8ASS3q47P+uqM5/FH1/RmzRRRUGgUUUUAFFFFABRRRQAUUUUAFFFFABRRRQAUUUUAFFFFABRRRQAUUUUAFFFFABRRRQAUUUUAFFFFABRRRQAVjeDv+RF0H/sG2/wD6KWtmsbwd/wAiLoP/AGDbf/0UtWvgfy/Uzf8AEXo/0NmiiioNAooooAKKKKACiiigAooooAKKKKAMbwr/AMgef/sJX3/pXLWzWN4V/wCQPP8A9hK+/wDSuWtmrn8bM6X8OPogoooqDQKKKKACiiigAooooA8e8SWuqTx/EloNQsYNLWaM3lvPbN5syC0iLKk3mARll+UExtgmoYlh1LxfdWV9BnSr/wASQLdW04yrj+zVZI3B4I3heDwSBXqFx4T8OXer/wBq3WgaXPqO4N9skso2myBgHeRnIAGOas3Gh6TeQXcN3pdlPFesHuo5bdGWdgAAXBHzHAAyfQU4uy+SX5f5fIqTv/Xlb+u55dp1lYX+sadoN/BBc+GU1TUo7a2mw0DeWF2JtPBCEzbR0G3j7ow280fQNTZ0iJ1mwtfCcr2c9+u9vllba/zAcjHDYzxkHvXqE/h3RLrR49JutHsJtNix5dnJao0KY6YQjaMfSpzpdgSSbG25g+zn9yv+q/559Pu/7PSpkm1a/wDVmr+uolv8/wD25Ox4ncNqGpI19cpprT2OlaXLbajf3kiTWZZcl4kSFyxd8qcFd2ADkVoPoGmT2rajNZxteyeM3ga46SGJpyrx7uoRhnK9D3FeqyeHtFmuLOebSLCSawULaSNbIWtwOgjOMqOO2Kn/ALL0/Zs+w223z/tO3yVx5uc+Z0+9nnd1zVtrn5vP9U/0M1FqnyX6fo1+p475I0vxbFZaPCtvDY6/frZW0K7UhzpofaijhRuYnA4yTV6xt/C2leB472G6vIL3UPDqyXsemsFa63FAZncqR5u9iu9jnDN1xx6kNI00XYuhp9qLgSmYTCFd4kK7C+cZ3FRtz1xx0qK38O6JZrdraaPYQLfEm7EVqii4J678D5up65pX0+SX3Jr8blW1v/W9/wADx4Rmxu9R0yOzstOgtfE+jlLKwk3wwM2wsFO1eTgE/KOSfrXo/iJli+IHhKa5KiAvdRIW6ec0QKfjtWQVrW/hbw/abfsuhaZBt8vb5dnGuPLOUxgfwkkj0J4q7f6dZarZvZ6pZ297bSffguIlkRvqrAg0X0t5/ol+gW1+X6t/qeS+KGlE/ijUNBUyazFrlsuj+WAfNuxbxq6ckAjbuDc8AH0rMnktdB0TTbjQGkLeLNJbS3mdf3r35lHzSAD7+ZZy3+7jtXs9voek2iWiWml2cC2WfsqxW6KIMjB2YHy5HHGKybzwhFd6/p10rWlvpthctfLZQWQR5LpgwMrSbsEfOTgKCTyWPSiNlo9tPutZ/f8Anb1Kcnv/AFvdfj+voeb6/o2lw2PiJ76KMXumavptnp7kYeG3H2fZGh6hGJckDgnPpViwS9k8YrqdzDpdtdN4hu7Vr1ruRry4iCyBbcxLCQECBWGZNvyhuCa7TXvAY8QeIkvry5smtg8TFX01DdII2D+WlwCCsbMoJBVjycEZ46IaHpI1dtVGmWY1F08trz7OnnMv90vjdj2zS1a1/rb87a+v3miXKv630+V/w+7yv4f2NppuqeAZrC2jt5tR0K4N5JGuGuCohK7z1bGTjPQHArtbVlT4vauzkKq6JaEknAA86euih0nTrZrU29haxGzjMVsUhVfIQ4yqYHyg4HA9BVTVPCnh3XLtLrWtB0vUbhFCLNd2ccrqoOcAsCQMk8e9VKV3f1/G/wDmNu6fnb81/keRx29xqMGh2bWOm6jpk1vq17BDqd00EIH2kGOVSI5Mssb5XgYDEgjFQ3Gm2+p+EvE+qaoYtR1Gz8NWM9vf7XykqwyMJoy4DK2RndgN9K9q1HRNK1e1jttW0yzvoImDRxXNukioR0IDAgEU+TStOmS5SawtZFuoxFcBoVImQAgK/HzAAkYPHJoTSVv66/5/h90/aTPKtVstJ0bXNX06G0khsr+x0wyWtm6xLczyXLpmQkEYfCq7EElc9TVDRrG3v9asNG1GwsPsEHim8gGn258y1jX7CWMagqAUDE8FQPYdK9iutF0u+WZb3TbO4FxEIJhLAr+ZGCSEbI5UEkgHjk1Fa+HdEsZkmstH0+2lRgyvDaojKwTYCCBwQpK/TjpTUld3/rVf5f11UldJL+tLHlXha1s9UbRNK12KKbR7f+2PItpxmIPDdhY+Dx8ke7b6AcYxXTeFl05vgDapqdzLBpraS6zzw5Z0iIYFhwxJxz0NdfP4c0S6sVsrnRtPmtVlM6wSWqMgkJLF9pGNxJJz1ySauW9na2dmlpaW0MFsi7EhijCoq+gUcAVLd01/XX/MpO0ro4/w3DHo/jY6NpGo3l7pjaSl0yXd690YX37UKs5LKHXPy52/LkAc1yvj2y06+Xxvd63HC97p4tU0+SU/NBGyqRsJ+7ufeDj72MHOMV6lpeiaVocMkWi6ZZ6dHI290tLdIgzepCgZPvTNQ8O6Lq91Hc6ro9hfTxKVjlubVJGQHqAWBIFF9U/63v8A8D0Ito1/W39M8ulNrL8RNHv7G0jAvNeubKe9uJg11cBYZVeHaFGIFKrtBY84OB1NLTyLm1v9Fub5tOj8F6Ze2z3fls/2dpGKwyDbySIEzxz81etyeGdDkvpL46LppvZJFla5a0Qu0ifcYtjJK9jnI7VV8PeG20l9UutSuYb+/wBWnEt3LHbeTGQECKioWYgBV7sSSTz2oW1vL/gf5l31uv61b/yRi+A4LLTNZ1XTLSwi02VILed7WxlV7Mq28LLGNilXYLlgR2HJ6lt5ptvr+qajomiW4t7IahFdazfMxPmzr5biKME/ewke48BRwMknHW6Xoul6HbtBoum2enQu29o7S3WJWb1IUAZqhceCfCt3qLahdeGdHnvXfzGuZLCJpGb+8WK5z707+9f+un9fcSlZf1/X9fM4W8cN4T1K0z/p3/CYRqqZ+bcbyOReP+ueD9Kv6NcaRa/DvyNft5Lhl1ySKS3jOJWujekoRyD94q/X7vPTiu5bRNKbWBqzaZZnUlTYL026ecF/u78bse2aQ6FpB1j+1zpdkdS27Ptv2dPO2+m/G7HtmlF2il/WiS/T+rauTu2/61v/AJ/1fTP8VT6faLplzd2TX1/FeD+zLdJCpe4ZHX1AwELkk5AAJxkCuQvvCcQ8QeGrbxElvfyajqd5eXkQTMDM1uw2bT95QAo564yRziu/1bQtI163SDXdLstShjbekd5bpMqtjGQGBwcHrTNP8N6HpCRppWjafYrFI0ka21qkYR2G1mG0DBI4J7jikhS1t/Xf/P8AM8m0fS7bTbXw9f6XbJFqA8Q39gk6j5/IT7UEgz18sbEwnQYGBTvD39k6LeeDtbRUF/NoN7eag68PcSBYi7yer7twyee3avXl0nTkWJY7C1QQzNcRbYVHlytndIOOGO5snqdx9a4+1+GMB1g32qXdtKyliDY6dHaPPukR2a4ZSRKx8sKSFQYLcc8Ve7/rs1+pbavf8Pnf8NiroenyaZ8S9Et7nBuW8PXMtyR0aZ7iJ5D/AN9May/F9vbXFz421K9jjbV9JS3/ALHlbmS3zGGQxnqpaXcDj72MHPSvUzZ2zXy3ht4jdLGYlnKDeEJBKhuuCQDj2FV7vQ9Jv9Rt7++0uyub21/1FzNbo8kP+6xGV/Ci+3lf8W3/AMAju+9vySOV8D6bav4p8WanNaxtfrqphE7Ll40NvASqnsCeSB1wM9K4zV0ubnxrqlhHZ2d/bXfiiNLi0v5jFb3GNOVlR2CPxuUEDackAV7NBaW9s8z21vFC07+ZM0aBTI+ANzY6nAAyewFVbrQdIvYLqC90qxuIrxw9zHLbI6zsAAGcEfMQABk+gpX29Evut/kNaJ+r/X/M8khsIb/Q7OPUm03WBZWt+VshPKv2aJbgjzbeaSIAyRABASq9MhgOt68Ol3GpDXpGbUI4X04rebxFqGnbxHsVdybXSTdlwrDO5hgnp6TdeG9DvrW1tr3RdPuILMg20UtqjrAR02AjC/hUk+g6RdanBqVzpVlNfWwxBdSWyNLEPRXIyPwNNOzv5/5/1+ttBf1+X+X/AAO9+iiipGFFFFABRRRQAUUUUAFY3jH/AJEXXv8AsG3H/opq2axvGP8AyIuvf9g24/8ARTVcPjRnV/hy9GbNFFFQaBRRRQAVjaH/AMhjxH/2Ek/9JLetmsbQ/wDkMeI/+wkn/pJb1cdn/XVGc/ij6/ozZoooqDQKKKKACiiigAooooAKKKKACiiigAooooAKKKKACiiigAooooAKKKKACiiigAooooAKKKKACiiigAooooAKxvB3/Ii6D/2Dbf8A9FLWzWN4O/5EXQf+wbb/APopatfA/l+pm/4i9H+hs0UUVBoFFFFABRRRQAUUUUAFFFFABRRRQBjeFf8AkDz/APYSvv8A0rlrZrG8K/8AIHn/AOwlff8ApXLWzVz+NmdL+HH0QUUUVBoFFFFABRRRQAUUUUAFFFFABRRRQAUUUUAFFFFABRRRQAUUUUAFFFFABRRRQAUUUUAFFFFABRRRQAUUUUAFFFFABRRRQAUUUUAFFFFABRRRQAUUUUAFFFFABRRRQAUUUUAFFFFABRRRQAUUUUAFY3jH/kRde/7Btx/6Katmsbxj/wAiLr3/AGDbj/0U1XD40Z1f4cvRmzRRRUGgUUUUAFY2h/8AIY8R/wDYST/0kt62a5aym1iPX/EQ0yxsbiL+0EJe4vXhYN9lg4wIn4xjnP4VpBXT/rqjKo0nFvv+jOporG+1eJv+gRpP/g1l/wDkej7V4m/6BGk/+DWX/wCR6XI/6aH7SPn9z/yNmisb7V4m/wCgRpP/AINZf/kej7V4m/6BGk/+DWX/AOR6OR/00HtI+f3P/I2aKxvtXib/AKBGk/8Ag1l/+R6PtXib/oEaT/4NZf8A5Ho5H/TQe0j5/c/8jZorG+1eJv8AoEaT/wCDWX/5Ho+1eJv+gRpP/g1l/wDkejkf9NB7SPn9z/yNmisb7V4m/wCgRpP/AINZf/kej7V4m/6BGk/+DWX/AOR6OR/00HtI+f3P/I2aKxvtXib/AKBGk/8Ag1l/+R6PtXib/oEaT/4NZf8A5Ho5H/TQe0j5/c/8jZorG+1eJv8AoEaT/wCDWX/5Ho+1eJv+gRpP/g1l/wDkejkf9NB7SPn9z/yNmisb7V4m/wCgRpP/AINZf/kej7V4m/6BGk/+DWX/AOR6OR/00HtI+f3P/I2aKxvtXib/AKBGk/8Ag1l/+R6PtXib/oEaT/4NZf8A5Ho5H/TQe0j5/c/8jZorG+1eJv8AoEaT/wCDWX/5Ho+1eJv+gRpP/g1l/wDkejkf9NB7SPn9z/yNmisb7V4m/wCgRpP/AINZf/kej7V4m/6BGk/+DWX/AOR6OR/00HtI+f3P/I2aKxvtXib/AKBGk/8Ag1l/+R6PtXib/oEaT/4NZf8A5Ho5H/TQe0j5/c/8jZorG+1eJv8AoEaT/wCDWX/5Ho+1eJv+gRpP/g1l/wDkejkf9NB7SPn9z/yNmisb7V4m/wCgRpP/AINZf/kej7V4m/6BGk/+DWX/AOR6OR/00HtI+f3P/I2aKxvtXib/AKBGk/8Ag1l/+R6PtXib/oEaT/4NZf8A5Ho5H/TQe0j5/c/8jZorG+1eJv8AoEaT/wCDWX/5Ho+1eJv+gRpP/g1l/wDkejkf9NB7SPn9z/yNmsbwd/yIug/9g23/APRS0favE3/QI0n/AMGsv/yPWT4UufES+DdFFvpemPENPgCO+pSKzL5a4JAgODjtk/U1Sg+V/wCa8zN1FzrfZ9H5HX0VjfavE3/QI0n/AMGsv/yPR9q8Tf8AQI0n/wAGsv8A8j1PI/6aNPaR8/uf+Rs0VjfavE3/AECNJ/8ABrL/API9H2rxN/0CNJ/8Gsv/AMj0cj/poPaR8/uf+Rs0VjfavE3/AECNJ/8ABrL/API9H2rxN/0CNJ/8Gsv/AMj0cj/poPaR8/uf+Rs0VjfavE3/AECNJ/8ABrL/API9H2rxN/0CNJ/8Gsv/AMj0cj/poPaR8/uf+Rs0VjfavE3/AECNJ/8ABrL/API9H2rxN/0CNJ/8Gsv/AMj0cj/poPaR8/uf+Rs0VjfavE3/AECNJ/8ABrL/API9H2rxN/0CNJ/8Gsv/AMj0cj/poPaR8/uf+QeFf+QPP/2Er7/0rlrZrkPDdz4iGlTeRpemOv8AaF6SX1KRTu+1S7hgQHgHIB7gA4GcDW+1eJv+gRpP/g1l/wDkeqnB8z/zRnTqLkjvt2Zs0VjfavE3/QI0n/way/8AyPR9q8Tf9AjSf/BrL/8AI9TyP+mjT2kfP7n/AJGzRWN9q8Tf9AjSf/BrL/8AI9H2rxN/0CNJ/wDBrL/8j0cj/poPaR8/uf8AkbNFY32rxN/0CNJ/8Gsv/wAj0favE3/QI0n/AMGsv/yPRyP+mg9pHz+5/wCRs0VjfavE3/QI0n/way//ACPR9q8Tf9AjSf8Away//I9HI/6aD2kfP7n/AJGzRWN9q8Tf9AjSf/BrL/8AI9H2rxN/0CNJ/wDBrL/8j0cj/poPaR8/uf8AkbNFY32rxN/0CNJ/8Gsv/wAj0favE3/QI0n/AMGsv/yPRyP+mg9pHz+5/wCRs0VjfavE3/QI0n/way//ACPR9q8Tf9AjSf8Away//I9HI/6aD2kfP7n/AJGzRWN9q8Tf9AjSf/BrL/8AI9H2rxN/0CNJ/wDBrL/8j0cj/poPaR8/uf8AkbNFY32rxN/0CNJ/8Gsv/wAj0favE3/QI0n/AMGsv/yPRyP+mg9pHz+5/wCRs0VjfavE3/QI0n/way//ACPR9q8Tf9AjSf8Away//I9HI/6aD2kfP7n/AJGzRWN9q8Tf9AjSf/BrL/8AI9H2rxN/0CNJ/wDBrL/8j0cj/poPaR8/uf8AkbNFY32rxN/0CNJ/8Gsv/wAj0favE3/QI0n/AMGsv/yPRyP+mg9pHz+5/wCRs0VjfavE3/QI0n/way//ACPR9q8Tf9AjSf8Away//I9HI/6aD2kfP7n/AJGzRWN9q8Tf9AjSf/BrL/8AI9H2rxN/0CNJ/wDBrL/8j0cj/poPaR8/uf8AkbNFY32rxN/0CNJ/8Gsv/wAj0favE3/QI0n/AMGsv/yPRyP+mg9pHz+5/wCRs0VjfavE3/QI0n/way//ACPR9q8Tf9AjSf8Away//I9HI/6aD2kfP7n/AJGzRWN9q8Tf9AjSf/BrL/8AI9H2rxN/0CNJ/wDBrL/8j0cj/poPaR8/uf8AkbNFY32rxN/0CNJ/8Gsv/wAj0favE3/QI0n/AMGsv/yPRyP+mg9pHz+5/wCRs0VjfavE3/QI0n/way//ACPR9q8Tf9AjSf8Away//I9HI/6aD2kfP7n/AJGzRWN9q8Tf9AjSf/BrL/8AI9H2rxN/0CNJ/wDBrL/8j0cj/poPaR8/uf8AkbNFY32rxN/0CNJ/8Gsv/wAj0favE3/QI0n/AMGsv/yPRyP+mg9pHz+5/wCRs0VjfavE3/QI0n/way//ACPR9q8Tf9AjSf8Away//I9HI/6aD2kfP7n/AJGzRWN9q8Tf9AjSf/BrL/8AI9H2rxN/0CNJ/wDBrL/8j0cj/poPaR8/uf8AkbNFY32rxN/0CNJ/8Gsv/wAj0favE3/QI0n/AMGsv/yPRyP+mg9pHz+5/wCRs0VjfavE3/QI0n/way//ACPR9q8Tf9AjSf8Away//I9HI/6aD2kfP7n/AJGzRWN9q8Tf9AjSf/BrL/8AI9H2rxN/0CNJ/wDBrL/8j0cj/poPaR8/uf8AkbNFY32rxN/0CNJ/8Gsv/wAj0favE3/QI0n/AMGsv/yPRyP+mg9pHz+5/wCRs0VjfavE3/QI0n/way//ACPR9q8Tf9AjSf8Away//I9HI/6aD2kfP7n/AJGzWN4x/wCRF17/ALBtx/6Kaj7V4m/6BGk/+DWX/wCR6yfFdz4ibwbrQuNL0xIjp84d01KRmVfLbJAMAycdsj6iqhB8y/zRnUqLklvt2Z19FFFZHQFFFFABWNof/IY8R/8AYST/ANJLetmsbQ/+Qx4j/wCwkn/pJb1cdn/XVGc/ij6/ozZoooqDQKKKKACiiigAooooAKKKKACiiigAooooAKKKKACiiigAooooAKKKKACiiigAooooAKKKKACiiigAooooAKxvB3/Ii6D/ANg23/8ARS1s1jeDv+RF0H/sG2//AKKWrXwP5fqZv+IvR/obNFFFQaBRRRQAUUUUAFFFFABRRRQAUUUUAY3hX/kDz/8AYSvv/SuWtmsbwr/yB5/+wlff+lctbNXP42Z0v4cfRBRRRUGgUUUUAFFFFABRRRQAUUUUAFFFFABRRRQAUUUUAFFFFABRRRQAUUUUAFFFFABRRRQAUUUUAFFFFABRRRQAUUUUAFFFFABRRRQAUUUUAFFFFABRRRQAUUUUAFFFFABRRRQAUUUUAFFFFABRRRQAVjeMf+RF17/sG3H/AKKatmsbxj/yIuvf9g24/wDRTVcPjRnV/hy9GbNFFFQaBRRRQAVjaH/yGPEf/YST/wBJLetmsbQ/+Qx4j/7CSf8ApJb1cdn/AF1RnP4o+v6M2aKKKg0CiiigAooooAKKKKACiiigAooooAKKKKACiiigAooooAKKKKACiiigAooooAKKKKACiiigAooooAKKKKACsbwd/wAiLoP/AGDbf/0UtbNY3g7/AJEXQf8AsG2//opatfA/l+pm/wCIvR/obNFFFQaBRRRQAUUUUAFFFFABRRRQAUUUUAY3hX/kDz/9hK+/9K5a2axvCv8AyB5/+wlff+lctbNXP42Z0v4cfRBRRRUGgUUUUAFFFFABRRRQAUUUUAFFFFABRRRQAUUUUAFFFFABRRRQAUUUUAFFFFABRRRQAUUUUAFFFFABRRRQAUUUUAFFFFABRRRQAUUUUAFFFFABRRRQAUUUUAFFFFABRRRQAUUUUAFFFFABRRRQAVjeMf8AkRde/wCwbcf+imrZrG8Y/wDIi69/2Dbj/wBFNVw+NGdX+HL0Zs0UUVBoFFFFABWNof8AyGPEf/YST/0kt62axtD/AOQx4j/7CSf+klvVx2f9dUZz+KPr+jNmiiioNAooooAKKKKACiiigAooooAKKKKACiiigAooooAKKKKACiiigAooooAKKKKACiiigAooooAKKKKACiiigArG8Hf8iLoP/YNt/wD0UtbNY3g7/kRdB/7Btv8A+ilq18D+X6mb/iL0f6GzRRRUGgUUUUAFFFFABRRRQAUUUUAFFFFAGN4V/wCQPP8A9hK+/wDSuWofGV3rWm+HbvUtBurCBrG3luJI72zecShV3BQVlTb0PPzdelTeFf8AkDz/APYSvv8A0rlqTxTZXGo+ENYsrKPzLi5sZook3AbmZCAMngcnvTrXvK3mLD2tC+2hzkXja80izUa9G2sXP2RL+4Oj2PkpZW7D70gknYtyG+5liFPy8UkHxEdPEPiKK/02ZNJ0uC3lgu4hGxl8wcDAkJJckbflHfdjiqt7o2v6bPeS6bpDai2q6JBp5CzxILWaMSDdJvYZT95/BuPyng5qqPDnibQp9ag0S0nk8+w0+O3vIpol3iABJYxuYMsjLnaSNvqwpytd2/r/AIbT18xK9o/j+H+b+42H8fPcanpFpaWElpLPq502/tr5VMsH+jtMMGN2XJAQ5BYYJ79NPXNX1P8A4SCy0HQDaQ3dxby3UlzeQtNHDGjIuNiuhYsX4+YYwTz0rhtH8H67D4sgu/7FurWyGvJqAa6vo55Fh+xNEd7GRmZw4GeW+8MEjJHaa7Z6jZeK7HxDpmny6msdpLZ3FpBJGkpDOjK6mRlXgqQQWHB74xQ7af10/wAynfp/Wr/Qji8Y3VtpdoNV0S8k1i4uJrdbCzRQ0vlMQZUMrIBGVAYEt/EByeuPrHxM+zuLiwCLp50WfUC8lsZJo5I5kjKFPMQHG5gVyOR1qw9j4ogvtI8Q31k2qXlu94kthayRI8UMzAxqpcojFAiAktzk4J78pqfw+8Ry6VcJDYrLPdaNfI6rOgCXE92swiBJHQZGenHXpRG3Mr+f5P8A4HzB7af1r/l+B01l8RL7+2/EX9q6TPBp+l3ENlaxRxRtPczyBCqhhMRlt4wNoABBLg5A05PiHYxW0W/StU+3SX/9nNpwSIzRz+WZArfvNmCoBDBiORkgZIxZ/C2tpd67fQWPmSf27aalaQ+cgNzHFDErgEnAb5XA3YGQOg5pYvDmt3viS212401rTz9eS8ktpJoy9vAlm0IL7WKli3ZS3BHoaIpNJPy/9t/zf3feLq/X79dPwXrc05/iVZW006zaLrAhtr1bCe4EUTJHOwXamBJubJdVyoIB6kDmrCeP7V4HQaRqg1NL37EdKKw+eZfL83hvM8rHl/NnfjHvxWTfeGNXm0vVoY7Tc9x4nt7+IeanzQJLAzP14wEbg88dOlR6n4d1UavrV2dDOo21xq8VwiwXQhuvKFosZkgk8xNjhxj5mXK7sdRQrOKb/r4f8393kxpb/P8AN/8AAOy03XrPVPD41i2Lrb7XLrIuGjKEh1YeoKkH6VzOn+KtfNroes6pHp66VrcsUaWscLrPaeauYy0hcrJzgEBFxu6nHO34fsdUl8IGz8SOxuphMrb3VnSJmbYrMvBYIVBI7g8nrXOWOk+ILrTfDnh7UNJe3i0WeCS51Jp4jDcCBfl8pVYvliFzuVQOevGTTm+a+7r+Fv0Id+XTz+/oaUXxFsp7Xz7bR9VlEl41jaoFhVrudWdXWMNIPu+WzFm2rjvnIBF8RrC506O4s9K1S4uJLm4tlsVjiWbdAf3p+aQKAMd2yewNYSaLqOh6L4euLi1V76w127nSx+0RLJcpM1wAIyzhC+yQPgsOAehrO0e31/VdJaSGwuptPuNX1I3drZXqwvvM2Ii0m9cxqQ4YKTn0YcVL62/rYu21+/8A8l/kjqrr4naVDb/aLTT9Sv7ddNi1SWa2jj2xWz7vnO91ORsOVAJ9AecTN45t4tT1O3WKe+eCe3gtba2t1WSZ5YvMADPJtbgE5bywAD161x2keCvEUPg3UrG40tormTwlHpUaGeI77hDOCoIYgA7lIJwMNzgggX18Lazbz6rNNoYvoZprBhElysc7LHbeW7QuJF2SK3Qll4zg8g1Ukk2l/Wv+Qaaen6L9W/uOg/4WNZSvZQ2Okare3d3HcOLWFIg8RgdUlRy8iqGDN/eIOOCcjM+h+PbDXbywht7DUbeHUoGmsrq5iVY7jaAXUAMWUjP8SgHBwTWToGieIx4o0nUtZimMUFnfxZuJ45JYVkliaGNyp+ZtqHJG4ccsepPDvhrVrCHwSt3aeWdLguUvP3iHyi6YUcHnJ9M0aaf13/4An5FnUPGWpWPxcsvDht7Y6RcWiM821vOSd/NKDOdu0iEjpnJHNYlx8SdbOoeL47SDTxa6UkX9nSSRSMXJmaGQyDeNwDo+NuOnWr/i7w1rd7r2sapo9osk8enWb6cXkUCS5gnkk2HJGMggZOB83Wsm68BayNJ1CzjtWla40SytjIk6oZLhbiSSbB3Aj7+c8deDmkttfP8Ar+vIqdle3l+l/wA/wZpeI/F/ijwtbajaXH9lalqK2H2yymhtZIIsiVIykkZlc9ZAQwcZ54451tJ8ZT6tq3h63SCKOPUrG5mukOS8M8LRo0YIOOGZwevQVF4g8D28fhXUoNAtri51C7ESmW7vZLiV1WRW2+ZM5IUcnGcVga7oes6D8QbrWdPiB0meynEDiRcxX1w0UewLnOGZFbIGMlqFvb1+/W39d0u5K3d/6/p/g2bOveONY07wvJq2m6Gb2N7to4p96LFDCJRGJJAXDsW5YBAeMZx3u67r+tDXL3TvDy2Stplgl9cG8id/P3lwsSFWXYf3bfMd2Mj5TU3ibw/LL8O30PRYPMeOKGKGPcFyqOnckDotUtd0/WrHxNqWo6Ppj6mmraZHZ7Y544/s8qNJtd97DKES8ldzDb905qXoml8vu0HHV3fl+ev4FW48b6tqNrc3/huGzFpYaXDqU0d3G7vc+YjOIkZWAjIVfvEPyw44q3dfE3TbUXcn9l6pNbWKwPd3UMUbRwrMiurcuGYYYZCqSPTHNY7eF9d8PWF7pmj6edSi1HRbfT0nWaNFtpoo2jLyB2BKEMDlAx+UjHSpLvwdqsfh/wAXafaW3mm8itYrI+Yg84RwRoTyfl5U9cVbtzO23T7/APhjOPNyq+9v8rfqX9S+IUkRS3tdNnsr6PU7K1nt9RRc+TcSbRIpjcjkBsZOQRytdDrviKPRJLeFLC81G7uQ7R2tmI95RAC7Zd1XAyO+TkYBrj/EnhXWdQ8YT31pZ+ZbvdaRIr+agysE0jSnBOflDA++eM1veMrG8uZdPntdHm1KOEybzY3Qt7yFiBtaORpEXbkEMCeRjgjIpPSPz/Rfrcpay17f5mVcfE6ODU5p4NPudQ0RNHg1Tz7SNRJEjtJud97r8oVB8qgt14PbXvPHum2eqR2v2a8mhLwRzXsSp5Nu8+BErZYMd2R91WAyM4rmLjwt4ou9L13+0YhdX994WjsBKJUHm3IM+V7AH51+bAHNVPEXhvxTfqlu2l3l6trLYTWflX0ccESRGJpUMZkG+UsjYLArg8MOQaSXMl5/hd/p/XQuSW67fpH9Wzb8N+OtT1jxRZ6bcwWiwzvqas0aMGH2a4WOPGWI5DHPHXpjpVnVvHlxovjbUdMn0m5vNOstNhvZJrKJWeEM8gdn3OMqAgIVQW64B7ZPhPwnrem+L7C+vrLyreJ9XLv5qNtE9yjxcBifmUE+3fFWfEem+Il8Xa9NpeiPfWuraNDYRTrcRIIpQ02WcMwbYBICSAT0wDziX8Mbb2f36hpzS7X/AFX6G6/jrTBrC2ccF1Nb+dFbyahGqG3imlAaONju3ZIZeQpA3DJGah8d+Jr3w9HpMemtGkuoXhgaR9OmvtiCJ3JEMLB2OVA4PGc1yUPw+vrDXWtxplzfwyX9pdJevqkkdpEkSRBt9usy7pAYiVOxhkrk8Yr0LXbzWLA2k+j6Z/acIkIu7aN0ScoVODGXdUyGxkMRxnHNNpW0/rb9bkRb69jBTxNqd9Z6JaaNqel3l9qnnv8Ab/sMqwRpF94eQZd4bJVSC4wck9NtV7HxjrmvyWunaRHYWeoql015JcxPNEDBN5JVFV1PzNyCT8oHQ1WsvD+u6NLpuujTGvLpby+mudOtp4xIkdy+4BWdlRipVM/MBy2M4GWaToGv+Gb621mPSn1Ga5S9F3ZW08SvC81x5yHLsqsF5VsHPOQDS/r52dv62G9tN/0vr+HzOs0nxRb3vgeHxJfqLOH7Kbi4UtuEO0HeM98EGs1viLYW+nX11qOl6pYPZQR3Jt54ozJLC7bVdAjsCM8EEhh3AyMsTwjeN8IJfDEksS302nyRM4J2CVwSeeu3cfyrE1nQ/EPiaO/vJdEk0+VNPhsoLaW4hZpn89ZJHBRyoQBRjJBPPA7j+Jr+uonpG6/rb9LnT+JvEt7pHw91HX7ewa2uraBpUtr4K2CDgbhG5GCOeGzzzg8Uo8bWP9ujTTaXhj+0LaNfhF+zrcFN4izu35wRzt25OM54pfiBpV5rfw/1jTdLh8+7ubYpFHuC7myOMsQB+JrlYvBl/D4vkL6Tc3EUmrrqK3smqyC0jTAJH2ZZhmUMCAfLK9CSelC3/ry/S4Suo3W+v5f5nQwfETSXE0lzb3tnaraS3tvczxpsu4YyA7xhWLcZXhgpIIIBrT0LxJFrc91bPY3mnXtqEeW0vBHvCOCUbMbspB2nvkYIIFcbZ6H4mEd3aW+iRWcDWNxHcWl1ciXTryZsCPyog7PGnB3D5PvdCea3/BlprNvdXpvbS907TGjiFrZX92tzLHJljIQ6u+IzlAoLHGDwowKatb+v6/roOWm3ce/j6wTWriwfT9RENrfJp89+Y08iOZwhRT8+8g71GQpAJ5xVS68Y6hD4D8S62kNsbnSbi7igQq2xhE5C7huyTgc4I/CueFtq2u6v4k0S00xmtW8S2876h5sYjiWNbeRgylt5Y7cDCkc8kYp2p/DOC/8AB/ippvDOnT6/e3d5LZXEkMJmYM5MZEp5XjpkjHtRFKyb7f8AyL/V/INLP1/+S/4B13jTxLdeGtEsb6zthcvPqFtbPFsLMyyOFbaMj5sHjJxnrTP+E8svsRb+ztQ/tEXn2H+ysRfaPO2eZtz5nl/c+fdvxjv2pPHGn6pe6Jp39i2f2y6tNStblofMVMojgtyxAzjNcrqHhDVtSum8QXOl3yySaz9tbS7XUFt7oQ/Zfs4AljlVQ+RuwJAMcZ7Ulazv3/8Akf8AgiXT0/HX/gFzUfirJa65Z/Y9Bvr3SZNLub24aFIvPjaGRUcbWlX7h3BhgknbtyM1uXnxG0SyuNUgZbmWTTdOi1GQRIp8yOQkKqfNy3A4OB8w5rndE8Ialp2vaHPPomyyey1C2u4orrzjbGedZFMjSyFpCQDuKlvmJwMVgaX8M/Esf9jfb4kJ/tIw6i3mqd1jD5XkH7xyT9ljyBn/AFjZA5xSUXZP+tX/AMB+lwfV/wBbL/J/No9IXxtYnXBpxs74R/aFtGvSieQlwU3iEndu3YI527cnG7PFVP8AhZGlC2u7mSy1CO2htJ723naNNt7FDxI0WHzxkYDhc5BGRzWEfBd6vjG43aVdXEE2rjUVvpNVkFpHHgEj7MswzKGBAJjK9CSelY1t8PtYg8PXOlxaJcm4tNGu7KO7u9WeZLiR1CoLeMzFIlIHzbkTHAHHNQtY3e//AAP89P8APcuKTnZ7X/V/p/SPSND8V2+t6lcWH2C+sLmGCO5Ed4qDzYXLBZF2O2ASp4bDDuBXNa58Qbyz8UXljpv2VodOnhgnhltZmMzOFY/6QCIoMBxjzM7iCOOta2k6LqFt8QptTnt9to2iW1oJN6nMqSSFlwDngMOcY5rI13w5rDyeJ9KsdNa5tvE0iOt8ssapaHykifzFZg5wE3LsDZJwcdaqy5v67/5E9H8vyV/xN/x14gu/Dmgw3On+WLi4vIbZWktJboKHbDHyoiHchckBTVrwrqkmr6MbmfUrXUJBKyM9tYyWflkdUeKR3dWHcEg8jgVDd6h4jhtpXstDST7LeiMQm4RpLy22jMkZLKqPuPCuf4TzyDTPCOm31q+s6jqVubObVr/7Utozq7QKIkjAYqSu4+Xk4JHPU9aUdnf+ttPz/IT6f13K0XxD0yW6nj+x36QpFcyQXLJH5d2Lc4lEfz7sg8fMFz2yOaLb4h6ZJBdTX1lqGmxwWA1JWuo0/fW5/iQI7HOeNrANyOK4668MeKr7Wbe7vdKvLi6SDUbe4uZL+No381CITFGZMJHgBT8qtk8g8tWhqngrWtREccVuiFfC62QeSVdouVkRwhwc4+XqARSjrv8A1pL/ACX3hJtbf1rFfq/uOi8OeLbzXPF2p6Zc6VPpkNnZW06RXaqJi0jSA5KOylcIuMcg5z6DS8Y/8iLr3/YNuP8A0U1Y/hqDWbnx1q+taros2lW9xYWtvCk88Ujs0bTF8iN2A++Mc8j3yBseMf8AkRde/wCwbcf+imrWNueNiKvwS9P0NmiiisjQKKKKACsbQ/8AkMeI/wDsJJ/6SW9bNY2h/wDIY8R/9hJP/SS3q47P+uqM5/FH1/RmzRRRUGgUUUUAFFFFAHLyePLFLlyLDUH02O5+ySaqiRm3SXfsKn5/MwH+UsEKg9+tbsuradBHJJPqFrGkUwgkZ5lASQ4whJPDHcOOvI9a8vlv7WL4dX/g6SeNPEMt7PBHp+79/JvumZZQnUoVO7f0AzzxTNa1awg1C+0eW6jXUZPF9jMlqT+8Me63/ebeuzgjd0zxnNVFczUe/wDnFfrcmTau/X8n/kdvo3xF8L61oMusxaxZ21lDcvbSSXN1EgV1cqMncQA2Ny88gg96s2vjXQJtBttYu9Rt9NtLqV4oXv544d7K7LgEtg5KkjB6V5p4Y1PTtOm0m61i9toLLT9U1iK6MzqFtZ5J2MXmZPyFk3gZxncMdRlPCeo6NpNvouoa3JBa6RJpl/BayXACRhzdEmMZ43MgGF6kKRik7dP60b/G34jd07f1vb8D1u/17SNKe2TU9VsrNrpttutxcJGZj6LkjceR0pzazpiamumvqNot85wtqZ1ErfLu4TOfu89OnNeP2Elvoehzw+MQIWvfCdta2MN1w8rDzd0CA8tJ80fyjnpxxXZeArWWDxLrZv1Bv1s9OinkI+YsIORn65ptWbXb/g/0/UG7W8/+B/n+Buv400SDxRcaBe3sVlewrCU+1SpGs5l3bVjy2Wb5DkY7jrV+fXdItdUTTbnVbKG/kQyJayXCLKyjqwQnJHB5x2ry7xle6ZF4i8e2F15Q1LUNHtoLFGxvuJCsoWOPPVtxU4HPftVXxHqsVt4g8h5rPTp7fX9Na7ikLPcXOBEv2gsWxHEASnC4JHUEkFRXM0u/+dvw/ruD0Tf9bX/Hp/SO2074seE9Sgt549Riit5p7iEzzTxLHCYTyXbfhQwwVPcEHjNbz+JdLS4jVru3+zyWjXgu/tUQi8sEDd9/cR8w+YAr6kEgHzPwVJbT6z4ftt8UlxaavrQliyC8LGRyNw6qSpyM9jXLy/N4SZW5H/CK6ouD6fbVGKaV5Jf1s3+gm7X9f1SPd4fEuhXNjdXtvrWny2tkxW6njukZICOodgcKR71Ppur6brEDTaRqFrfxKQGktZ1lUEgMASpPYg/QivKfEwjt/H+pSzgJptmuiXF4AMIsSzTfM3oqnaSegC+1dR8OLqwvtW8ZXWkPFJaTa0HjkhIKSZtocspHBBOTkdc5pqN7+X/A/wA/wHf9Pxv/AF8zf1PxZpukzXkd15x+xpEZGjTcC8rbY4hzkuxxge4yRmmaf4utLiS7h1W0udCuLSFbiWLUmiXERJAk3o7JtyCD82R3AyK4y/jle01+9MTTGy8WW1xcKoLN5MYg5x6KvzfQVS8c6lYeJbXxLqWh3cGoafbeG5beW6tnEkTSPIGCBxwSApJA6ZGetTFXt5//ACKa/F2Bvf8ArrZ/5no8vi7w3DFFLN4g0uOOZnWJ3vYwJCn3wDnkrjnHTvViXXtHhv7axm1Wxju7xd1tbvcoJJx6oucsPpXmfjmXTNJuvFUetGKKK+8MJBpscmAJSnnb44x3YExnA5xg9qx/E2r28KGFZbPTpYbjSJZ1l3NcXaK0JEyktiOJAWBIUgkHJHdxV5W81+La/r+mPW1/L9E/1PYYfEeiXGp/2bb6zp81/wDN/osd0jS/KSG+QHPBBB9CDUEPizRWsbC5vNRs7H+0CVto7i8hzK2cbVKuVc/7pNecWqqkegyRqoZ/G99lgOWybkfy4rF0270+w8B6e13PAsl1okkDWeoKRFqKedJ+4hkVg6zEkdA3BXjPInt/XS5co2k0v61a/S/9XPbZNZ0yLVo9Ll1G0TUJU8yOzadRM6/3gmckcdcVm33jTRbPXbXRY7uO81K4nMBtbaaNpIWEbyDzFLAqCEIBPcj615pO1w3i68s7rUYbKe51ywu7bTTYtNfSRqkOGRzMoEa7XVjsbaA/UnFTaXe6aus+DdJaSL+3LTXr5ryA485C0dyS7DqA+VIJ6jGM4q1G9v66L/Mzvv6f5/5aHrOlalBrGlwX9pu8qZchXGGU9CrDsQQQR6irdcx4GyLXWkHESa1diIDoAXycf8CLV09Ruk++v3j6tdm19wUUUUAFFFFABWN4O/5EXQf+wbb/APopa2axvB3/ACIug/8AYNt//RS1a+B/L9TN/wARej/Q2aKKKg0CiiigArldW8eQaTqOpW7aLqt1BpUaSX15brCY4FZd2SplEjYAJO1D0711VeOeLptPbxR4zsr7xe2jSXFrbrHpyvBm+/dH5djKZWyflxGyk5x1pN2Y0rux7BFKk8KSxMGjkUMrDuCMg0+qWjPLJoVg9zbC0ma2jMluOkTbRlfw6VdqpKzaIi7xTCiiikUFFFFAGN4V/wCQPP8A9hK+/wDSuWtmsbwr/wAgef8A7CV9/wClctbNXP42Z0v4cfRBRRRUGgUUUUAFFFFABRRRQAUUUUAFFFFAFbUNNsdWsns9Vsre+tZMb4LmJZEbHIyrAg1JbW0FnbR21nDHBBEoWOKJAqoB2AHAFS0UAMmlS3gkmmYJHGpZmPYAZJrB0Hxjaa9eJaixvrCWa2+12ovERftMGQPMTazYHzL8rbWG4ZArS1xpU8Pai1vai8lW1kKWx/5bHacJ+PT8a8x8GX9jpmtWd1HrsmuWVjoEgvZ5VVm0jyyjeT8igjPzZR90n7sc0Rtd3/rR/wCS/HyBp2Vv61X+Z3+q+KG0/W10qy0PUtXuvs4uXFk1uojQsVG4yyp1IPTPSreua5FoHh6fV7y2uJEhVWaCLYZCSQAoywXOT/ex71w/jW48CX1zcXeuWUZ1OfSVfTL24TDTg7ii22TuEoYg4UB/mXr20fGD3MHwYd9ZcJcx2lsbp5DjDho95J+uaPs6/wBb/l1BvVW6/wDA/O+hqL42hi+2R6rpN/pN1bWr3Yt76S3UzRLjcyyLKY+CQDudcZGcA5rWGvaT/aUOmvqVmmoTxiWOya4TzmT1CZyR7jivMfiJquneKLPUrvw9e2+pWuneHdRFzdWcqyxI0ixhIy65G47WOM5GB6invfafZ+IhZq0d3cT6lYzPpVypjuWfy4VW5t3RstEiglgy4yrgkDg1FXt/XW39fotUS0V15/p/X+Z6dDrWlXOqzaZb6nZy6hbjdNaR3CtLGPVkByOo6is698aaDa6Pq2oW+o2+oLo8Ty3kNjPHLJHtBJUqG4bg8HFefw3dt/bZ0rSXS9vFvNRMVtIpivtNldZi0sgRiHhckBdyjhkOScYxdZu9Ov8AwVFHoDRs2meD7y31JI8ZtmKRhYpQPuvvVztPPDUkrr5f5/5fiUl7/K+/6r8z2iLXtKmsftY1C1WESLC7NOoCSsQBGxzgPlgNvXJFPtdZ0u/vbmzsdStLm6tDi5ghnV3hPo6g5X8a8vGnzn4mWehRRkWd+bfX3YjKloYTER7HzFgbmsfw9DqF3psNhBq1vca1ZaFfwSWllp5SW1lfbkXMhmPzFxlfkXdyelEtL/P8F/mmiYLmt8vx/wCBZnrNh4w0XVfEDaRpV7DfTpA80klrKkkce1wpRirEhssOMUzVPFsWn6pLp9ppeoarcW0Sz3S2KRn7PG2dpbe65J2t8q7m46dK5Lwhqeh6j8QtOGgSQSC28NiCYQgfuiJUxG2OjLzlTyM8gZrSOt6b4V8b+I28Q3kVimoLbz2klw20ThYyhjQn7zgrnaMn5xxzRL3V9/4NomD5m/l+KT/U6a08TaJe6YdQg1W0NqsKTySNMq+UjjKl8n5cj1xU6azpkltHcJqNo0Ek32dJROpV5d23YDnBbcCMdcjFeHi2a0fwxcXNq4sdDs7U+JY9+3CtJvt1dcHJiY+YwyML9cV0kNtcTfFC58M26sLW2uJvEMMij5P3sXloPf8AfNK34Cm1b8fw/wA1dleV+34/8G33npFr4i0S+v5LGy1iwuLuNmV7eK6R5FK/eBUHIIyM+lNh8S6Fc2c13b61p0ttBKIZZo7tGSOQkAIzA4DZIGDzk141HLb3uleHtM0NlbXrPwxqNrcJGcywT+VGCj45D78nB55z3pZHh1DTLmaPVLHVI1j0e1lGn6cYLeLbeLiJy00hMoBIK4GARnrihRvLl/rdq/4fiO2if9dP8/wPbNN1bTtatPtWj6ha6hb7ivnWsyypkdRuUkZrKsPFT6lq09pZ6DqclrBcvbSajvthAHThuDN5hAPHCdazvCBx458cKOFGoW5AHqbWOualXwqfE1n/AMIpYJY+KP7bY30eMXZi3MZnlwS3ksvK7jt5TGDgCeq80vxt+CCWkX5f8H8TvP8AhMvDB83HiPSf3MXnS/6dF+7TON5+bhc9zxVi48R6JaWdrd3es6fBbXhAtppLpFScnkBGJw2favN/C1laiw+GTC3iyDdMDsHDGFyT9c81m6Dc6ZpUkFx4geGHT5rTVrO2M2BGZDetmJc8bmXACjkhTiiWn4/gn+drC62/r+up6jrHizTNH0aHVGdry2nR5IWsysnmIsTSlgcgEbUPOe49a0INTtZtGi1R5Bb2skC3BedgoRCu7LHOBgHnmvKNGH2/4S+bnMWl+DhEgz0llg3NkeoRE/77NdH4gRm+EejsVZ7eL+zpbtQM5gWSJpMj0Cgk+wNVKNpyj2aX3tr9Lh/K+9/ws/1sdZH4l0KbS11OHWtOksHYot2t2hiZhnID5xng8Z7VPLrGmw6fFfzajaR2c23yrl51Ecm77u1s4Oe2OteXXcthrXiOW/0xoLzR7rxHp3lzRYeKeZIzvZWHDYwgyO6n0rsPiFDHPp2ixzIsiNrlllWGQf3opLW3m0vvt/mS3a/km/z/AMjWt/Fvhy8e0S08QaXO16WFqsV7GxnI4ITB+bHfGasprmkyaw2kpqlk2pIu9rIXCGZV9Smd2PfFeX6vbwpD4ydYkD/8JXpp3BRnP+iHr+J/M06xntzNpuih4z4kh8UT3c0HWZIjLKTKw6hDEwUMeDkD2p20T72/FJ/hfX0LkrJv1/C/+R6K/i3w5Fbz3EniDS0ht9omka9jCxbiQu45wMkHGeuK1Y5UmiWWF1kjcBldTkMD0IPevGoC2meEvBV/HfafpNpDd3jTXeoWxlt45H8wKzgPHgnLAMWHJHXNeh/D2H7P4D02MSSSoFco8lv5GULsVxHubauCMDceMUujJvqjfgtLe2eZ7a3ihad/MmaNApkfAG5sdTgAZPYCpaKKQwooooAKKKKACiiigAooooAKKKKACiiigArG8Y/8iLr3/YNuP/RTVs1jeMf+RF17/sG3H/opquHxozq/w5ejNmiiioNAooooAKxtD/5DHiP/ALCSf+klvWzWNof/ACGPEf8A2Ek/9JLerjs/66ozn8UfX9GbNFFFQaBRRRQAUUUUAFFFFABRRRQAUUUUAFFFFABRRRQBT1XT/wC1NPe1F5dWTMQy3FnJskjYHIIJBB6chgQRwQRUOiaHBodvOkU891PdTGe5urgqZJ5CANzbQqjhQMAAADpWlRRsBm2ukfY/EF7qME+2O+RPOt9nBlQYEgbPUrhSMfwr05zpUUUAYWveFo/EDsJ9V1K1t5oTBc2ttMoiuYz1VgysV6kbkKsQcZ4FbccaxRrHGoVEAVVHQAdqdRR0sAUUUUAFNkDmJxEwRyp2sy5APYkZGfzp1FAGfoWkx6Ho0FjHI0zJuaWZhgyyMxZ3I7EsSce9aFFFD1AKKKKACiiigArG8Hf8iLoP/YNt/wD0UtbNY3g7/kRdB/7Btv8A+ilq18D+X6mb/iL0f6GzRRRUGgUUUUAFFFFABRRRQAUUUUAFFFFAGN4V/wCQPP8A9hK+/wDSuWtmsbwr/wAgef8A7CV9/wClctbNXP42Z0v4cfRBRRRUGgUUUUAFFFFABRRRQBkz+K/DttrH9k3OvaZDqRYKLOS8jWbJGQNhO7JBz0rQhvLa5mnit7iKWS3cJMkbhmiYgMFYDocEHB7EV5H4lTV7hPiRbWlhZz6a08bXVw90yzwqLWIs0cXllWYKMjMi81PFq17qnim50kanfLp19r8UG9Ll43SEaeswjRlIaPcwydpB5PrTiuZfK/32/wA/mOS5f67K563UX2q3+2fZPPj+0+X5nk7xv2Zxu29cZ4zXmVjNe6lrFn4WutT1I2EV/qEX2mK8kjnlSEIY0aZWDnaZCCc5OwZJ5zX1GwafUpC/iC6v5rLwvI6ajY3TW5ndJWwxMTc4I5GcE5yO1S5JJPo9flZv9BW3S72/FI9aorxifxB4h1HN7EmqPNY6bp88M8F/DbWkbyKHkadZJUDhvu8q4AHGDVt476aFtROuauk8nix7DCX8gjW3aYoYwmdvTo2Ny9iKtxaly/1ul+pKknDn6f8AAb/Q9WmvLa3uIIJ7iKKa4YrDG7gNKQMkKDySACeOwqavH/7X1PSPEkdhbajfTW1jrV9DFHPdPKzxrp/nKjsxLSAOxI3E449K0rIPp3g1dVm8Z3dvPqWhrcTRzu11IJm2f6RCjP8AKAX27EAXLL0xyraX8k/vTa/Id7Oz/qzsz0i5vLayVGvLiK3WSRYkMrhQzscKoz1JPAHem3+o2WlWb3mqXlvZW0f357iVY0X6sxAFeOz3l2XudMuF1GKCx8S6SYIdTuzczxByjEFy75yecbjjOOOld/4iRZviB4SjuQGt1e6lQN089YgE/HaZCPpRa6v5/on+oX1t5fq/8jo7G/s9Ts47vTbqC8tpRmOa3kEiOPUMODVivI/EOoXXh6TxdquiSyrPp2sW00FlEz7LyWSCMPCUX7xbdnocNg1Wm1zUPD2kW11Frt1qT+JNDP2WeWdzH9vMg2+WpPyZ8/7oxgRj0oWq0/q6uVazs/61t/wT2WivINX/ALRSw126bXdTguNF1Sx0+2CX0iq0X+jlt67sOzmRssQW7Z9Z7DWNcuvFYv8AytUiVtbubGSWbUIksmt0EiLGkJl3eYCitkR7j83JFJ6f16W/MLO1/wCuv+R6xWTqnivw7od2lrrWvaXp1w6h1hu7yOJ2UnGQGIJGQefavP8AwLdX0OpeC5JdU1G7bWtFnmvRd3kkyu6eUVYKxIUjcRlQM55yea6i2RZPi9rCSKGVtEtAykZBHnT1TjZ29fwv/kO1k32t+aX6nWo6yIrxsGVhlWU5BHrS14rZ3upNZaNolnb6tPYrFqc0KaReJbSBYrry4CXaWMbFVvu5IPy5BAoub3WdQ8N+ItYvNavob/TdAsryAWOonyEuPKkZnAjbZICQMj5kPoaOW6v/AF1/yJ6qP9f1qe1Vk6b4eh0/WL/VJLy6vby9CoZLlk/dRKSViQIqgKCx65Y55Jrgb+ebR9W1fTBr2qw21xZafMC00lzMZpp3RkiLMDGZAoUbSFTOQBiqOl3uoalqdhot1d6xZ2qeIrqzaF9SkNx5IszKI3mVyzYY9Q5IwMNxmhRbbt/Wyf5/11UnZf12uv67nommeE4dO1ZNRn1PUdSlgjeK1F9Kri2RyCyqQoZs7V+ZyzYHXrWvFfWk9iL2C6hktChcXCSAxlR1O4cY968s8NXt/wCIX0fRdQ1TUFtYxqjGWK8kjmmNvdCKINIpDttVsnJ+bAzmtzwrbR3HwGtbW41FLGOXSnie+mxthBDDzDkgcZz1FKSajp8vx/VFpJys/mdVpPifQdfkkj0LW9O1N4gGkWzu45igPQkKTir9zdW9lbPcXk8dvBGMvLK4VVHqSeBXKeHjqOieKV8N3Wry6vaHTFuYZp4YkkhKuEK/ulVSpBBGRkYPJ7cv48jm1i08Zy3V9ewrpC28Nrbw3TJEVZEdmeMHa+4sV+YHG3jB5o0urbf8G35md3Z+X+Vz1isjW9BbWWiZNX1LTSitG4spVCyo2MqyurDtwwAYc4YZNcDLql0PH2mSWd/qtzBe6xPYTzmcx2oQQyfuI4vMPzI0YJl2DJz8x5AqafrWs39odKg1pra+8OaZfJeXN3dFVM4cwwPMxJBBVGfLZ6g0rXX9dv6+8vVP+u9j1HRtD07QLH7JpNuLeHglQxOcKEHX/ZVR+FLNrmk2+rRaVcapZRajMu6Kze4RZpB6qhOSOD0Haud8Ev5Go6lp73OqI8UcMp0/VJmuJIN28GRZzI+9HK5Az8u08DOBnavotrqWqahoeiJJcXV3qdvqOp3s2CllsMZVFbHLlYwFUZIDZJAIzWrlZ/1/X6ErbQ7M63pS6wNJbU7MakyeYLI3C+cV/vbM7se+KQ67pA1j+yDqlkNS27/sX2hPO2+uzO7HvivObzB8J6jdY/05fGCbXx824XkaLz1/1eB9ParujW2j3Hw7+06/O9u39uyTyXEa5kW6F6QgHyk53BU6fdOOnNKKuk/61Sf6/wBX0qSs2vX8L/5f1bX0C/1Gy0qze81S8t7K2j+/PcSrGi/VmIAp9rd299aR3VjcRXNvKoaOaFw6OPUEcEVkeIjp5uNLW6iin1H7Qz6VFNJJHG9wsTn5mVWA+XfywOOwJxXn2kxXNxfaTo1xdXenySa7qI1O30+6eJCzRNKER0IYp86kN8pzzgGhaik0lf8Arr/l/Vj12ivINKudSsLfQtRXV9UurhtbvdNdLi8kkjlgi+0BFKE7Sw8pPnI3nuxqbw9fXFjeeEtZvdb1CddT0a6v9Qhlu5JImcJG+5UJIULuICqAB6Zotu+3+Tf6D5Xe3X/g2PUE1Oxkv2sY723e7VSxt1lUyADGTtznA3L+Y9as15t4es5rT4laObtSt3c6DdXVwCc4kkuYnYfhu2j2AqPxReXzy+MNWTUb62n8OJEbCCG6eOJj5SyEvGCFk3livzA4A4weaLaL5/g2iVq3b+rpM9NqGG8trmaeK3uIpZLdwkyRuGaJiAwVgOhwQcHsRXJeDlnvvE3ia+vL29la31I28Fu90/kwoYIWIEeducknJBI5xjJzxuoX97B4z1rT7ODULiLUPEiRXEWm3AgnkRdPV9qyGSPbyoJO8HAIHWiz/C/32/zBNNN/11/yPZaK8jW41q/0SzOp3mpBbWG8DJp2qRtd27JOVjnmWKXEwRAAy7m+bIKk9L95fXD6tHqkuuXrWqvZfZ7+xmLW8SsE3JcWocYMu84Yq20MDlcDIld2/r+v6V3oHl/XT/M9NooopDCiiigAooooAKKKKACsbxj/AMiLr3/YNuP/AEU1bNY3jH/kRde/7Btx/wCimq4fGjOr/Dl6M2aKKKg0CiiigArG0P8A5DHiP/sJJ/6SW9bNY2h/8hjxH/2Ek/8ASS3q47P+uqM5/FH1/RmzRRRUGgUUUUAFFFFABRRRQAUUUUAFFFFABRRRQAUUUUAFFFFABRRRQAUUUUAFFFFABRRRQAUUUUAFFFFABRRRQAVjeDv+RF0H/sG2/wD6KWtmsbwd/wAiLoP/AGDbf/0UtWvgfy/Uzf8AEXo/0NmiiioNAooooAKKKKACiiigAooooAKKKKAMbwr/AMgef/sJX3/pXLWzWN4V/wCQPP8A9hK+/wDSuWtmrn8bM6X8OPogoooqDQKKKKACiiigAooooA5298CaBqGpXV9d2900l6yvdRLqFwsE5VQo3whxG3CgYKnOOanuPB2h3K3nmWTK15cJdSyRTyRuJVQIroysDGQqgfIR+prboo6WAwZPBWgy6Pb6Z9jkjt7WRpYXhupY5lds7m85WEm5tx3EtlsnOanj8K6LDHshsVjT7CdPCo7ACAnOzAP69feteih67gc/L4G8OzS2kklg3+iQxwRqtxKqOkfMayKGxKFPI3hsGrf/AAjOkCDyfsn7v7d/aGPMf/j43b9/X+9zjp7Vq0U7u9xWVrGOPCmijVBqP2L/AEoXT3YkMr/614hEzYzjlABjGO+M81VtvAXhu0trq3h04mG6i8h0kuJZAkec7I9zHy1zyFTaAcY6V0VFIZzkPgHw5BK0q2czyPNBO7y3s8jSSQnMbsWc7mHqeSAAcgCtTV9EsNctkg1KFnEb+ZE8crxSRPgjckiEMpwSMgg4Jq/RQBi2vhHRLP7H5No2bOdrmJpLiR2MrLtMjlmJkbBI3Pk1i3vgSOfXNFitLKzt9G0u+fVATPJJM1w2/wCVUI2om592Qx6YCjrXaUU763DpY4LxN4Eu/EHiRpjDYx2cs1tLJcrdzpKBEythoBmKRjtwJCQVBxg456MeENEGunWPsbfbC5k5nk8sOV2mQRbtgcrxvC7sd62qKS0Vg3Zk2fhbR9PfTHs7Py20m3e2sz5rnyo227l5POdq8nJ4qDVfBuj6zqh1G8W+S6aFYHktNSuLbfGCSFYRSKGGWbqD1rdoo33HdmJf+DtC1Gxs7OaxMUFkhjtxazSW5jQjBQNGynaQBlc4OORTn8JaHJZ31obBVt9QtUtLmNHZVeFFKqgAPygBiPlxWzRTuxdvIxtQ8JaJqkk8l7Zl5J4YoHdZpEYLExePaVYFWVmJDLg578VDYeCNA0y9S7s7KRZ0uTdB3upX/fGMxlyGYgsUOCT16nJ5rfoouw33MCTwP4fewisxZyRxRTSzoYbqWN1eVi0nzqwbDEnK5wemMVes9A0uw8PJoVtZoNMjhMC2zkuvlkYKncSSOe9aNFIOtzJ0XwxpXh95X0yCUSzKqPLcXMtxJsX7qB5GYhRk4UHAyeKr634J0DxDdNcatZSSvIipIEupYllCnK71RgH2k5BYHHbFb1FO7vcDnX8C+HzqY1JbKT7VHc/bIsXkypHNzl1QNtXdk7sD5s/Nmqnh7wh5MniK88QWlgbjxDMGura2ZpYhGsYjCFmVS+QCSdo+90711tFLy/r+tEHW5laL4a0vw/5p0yGUSTBVkluLmW4kZVztXfIzNtGThc4GTgVTPgfRf7TuL+NtUgnuZ/tEwt9Yu4o3k4GTGkoToAMYxgV0NFF9bh0sYr+EdEfXP7Xazb7WZBMR58giaQDAkMW7yy4AA3ld3A5pG8IaI+sf2m1o5n80TbPtEnk+aORJ5O7y9/8At7d3vW3RRsD13KOraNY65aLb6lEzqjiSN45XikjcdGR0IZTgkZBB5NV7Twvo9ibI21oVexkeWF2ldm3upV3ZiSXYgnJbJrWooB67mRF4X0eCO2SGz2i0vJL6AeY52Tyb979ec+Y/B454HArirX4ZXk+sJcX32GwhgjkiAs7medZ0kkRnAjlOLdSqEbELDLk5459Mopp2dwbuim2k2Ta3Hq7QZvordrZJd7cRswYrjOOqjnGeKo6j4R0TVdUXUL60d7gbN+24kRJthyvmRqwWTaeRvBx2raopAVLLS7PTpryWzh8t76f7RcHcTvk2queTxwqjAwOKz7vwdod6bxp7NxJeXK3cssVxLHIJlQIHV1YMh2gD5SOM+prbooA56fwJ4dntLS2NjJFHaI0cfkXU0TFGOWV2RgZFY8kMSCeTmnz+CvD9xfxXb2BV4xGBHHPIkL+X/q98SsEfbgYLKcYGOlb1FO7CwUUUUgCiiigAooooAKKKKACsbxj/AMiLr3/YNuP/AEU1bNY3jH/kRde/7Btx/wCimq4fGjOr/Dl6M2aKKKg0CiiigArG0P8A5DHiP/sJJ/6SW9bNY2h/8hjxH/2Ek/8ASS3q47P+uqM5/FH1/RmzRRRUGgUUUUAFFFFABRRRQAUUUUAFFFFABRRRQAUUUUAFFFFABRRRQAUUUUAFFFFABRRRQAUUUUAFFFFABRRRQAVjeDv+RF0H/sG2/wD6KWtmsbwd/wAiLoP/AGDbf/0UtWvgfy/Uzf8AEXo/0NmiiioNAooooAKKKKACiiigAooooAKKKKAMbwr/AMgef/sJX3/pXLWzWN4V/wCQPP8A9hK+/wDSuWtmrn8bM6X8OPogoooqDQKKKKACiiigAooooAKKKKACiiigAooooAKKKKACiiigAooooAKKKKACiiigAooooAKKKKACiiigAooooAKKKKACiiigAooooAKKKKACiiigAooooAKKKKACiiigAooooAKKKKACiiigAooooAKxvGP/ACIuvf8AYNuP/RTVs1jeMf8AkRde/wCwbcf+imq4fGjOr/Dl6M2aKKKg0CiiigArlrLX9H0rX/EUGp6tY2cragjiO4uUjYr9lgGcEjjIPPtXU1jaH/yGPEf/AGEk/wDSS3rSFrO/9aoyqXvG3f8ARh/wmPhn/oY9J/8AA6L/AOKo/wCEx8M/9DHpP/gdF/8AFVs0Urw7fj/wB2qd193/AATG/wCEx8M/9DHpP/gdF/8AFUf8Jj4Z/wChj0n/AMDov/iq2aKLw7fj/wAALVO6+7/gmN/wmPhn/oY9J/8AA6L/AOKo/wCEx8M/9DHpP/gdF/8AFVs0UXh2/H/gBap3X3f8Exv+Ex8M/wDQx6T/AOB0X/xVH/CY+Gf+hj0n/wADov8A4qtmii8O34/8ALVO6+7/AIJjf8Jj4Z/6GPSf/A6L/wCKo/4THwz/ANDHpP8A4HRf/FVs0UXh2/H/AIAWqd193/BMb/hMfDP/AEMek/8AgdF/8VR/wmPhn/oY9J/8Dov/AIqtmii8O34/8ALVO6+7/gmN/wAJj4Z/6GPSf/A6L/4qj/hMfDP/AEMek/8AgdF/8VWzRReHb8f+AFqndfd/wTG/4THwz/0Mek/+B0X/AMVR/wAJj4Z/6GPSf/A6L/4qtmii8O34/wDAC1Tuvu/4Jjf8Jj4Z/wChj0n/AMDov/iqP+Ex8M/9DHpP/gdF/wDFVs0UXh2/H/gBap3X3f8ABMb/AITHwz/0Mek/+B0X/wAVR/wmPhn/AKGPSf8AwOi/+KrZoovDt+P/AAAtU7r7v+CY3/CY+Gf+hj0n/wADov8A4qj/AITHwz/0Mek/+B0X/wAVWzRReHb8f+AFqndfd/wTG/4THwz/ANDHpP8A4HRf/FUf8Jj4Z/6GPSf/AAOi/wDiq2aKLw7fj/wAtU7r7v8AgmN/wmPhn/oY9J/8Dov/AIqj/hMfDP8A0Mek/wDgdF/8VWzRReHb8f8AgBap3X3f8Exv+Ex8M/8AQx6T/wCB0X/xVH/CY+Gf+hj0n/wOi/8Aiq2aKLw7fj/wAtU7r7v+CY3/AAmPhn/oY9J/8Dov/iqP+Ex8M/8AQx6T/wCB0X/xVbNFF4dvx/4AWqd193/BMb/hMfDP/Qx6T/4HRf8AxVH/AAmPhn/oY9J/8Dov/iq2aKLw7fj/AMALVO6+7/gmN/wmPhn/AKGPSf8AwOi/+KrJ8KeK/Dtt4N0WC417TIpY9PgR43vI1ZGEagggngg9q6+sbwd/yIug/wDYNt//AEUtUnHlen9a+Rm1PnWq2fT08w/4THwz/wBDHpP/AIHRf/FUf8Jj4Z/6GPSf/A6L/wCKrZoqbw7fj/wDS1Tuvu/4Jjf8Jj4Z/wChj0n/AMDov/iqP+Ex8M/9DHpP/gdF/wDFVs0UXh2/H/gBap3X3f8ABMb/AITHwz/0Mek/+B0X/wAVR/wmPhn/AKGPSf8AwOi/+KrZoovDt+P/AAAtU7r7v+CY3/CY+Gf+hj0n/wADov8A4qj/AITHwz/0Mek/+B0X/wAVWzRReHb8f+AFqndfd/wTG/4THwz/ANDHpP8A4HRf/FUf8Jj4Z/6GPSf/AAOi/wDiq2aKLw7fj/wAtU7r7v8AgmN/wmPhn/oY9J/8Dov/AIqj/hMfDP8A0Mek/wDgdF/8VWzRReHb8f8AgBap3X3f8E5Dw34r8OwaVMk+vaZGx1C9cK95GCVa6lZTyehBBB7gitb/AITHwz/0Mek/+B0X/wAVR4V/5A8//YSvv/SuWtmqm48z0/r7jOmp8kdVt2/4Jjf8Jj4Z/wChj0n/AMDov/iqP+Ex8M/9DHpP/gdF/wDFVs0VN4dvx/4Bpap3X3f8Exv+Ex8M/wDQx6T/AOB0X/xVH/CY+Gf+hj0n/wADov8A4qtmii8O34/8ALVO6+7/AIJjf8Jj4Z/6GPSf/A6L/wCKo/4THwz/ANDHpP8A4HRf/FVs0UXh2/H/AIAWqd193/BMb/hMfDP/AEMek/8AgdF/8VR/wmPhn/oY9J/8Dov/AIqtmii8O34/8ALVO6+7/gmN/wAJj4Z/6GPSf/A6L/4qj/hMfDP/AEMek/8AgdF/8VWzRReHb8f+AFqndfd/wTG/4THwz/0Mek/+B0X/AMVR/wAJj4Z/6GPSf/A6L/4qtmii8O34/wDAC1Tuvu/4Jjf8Jj4Z/wChj0n/AMDov/iqP+Ex8M/9DHpP/gdF/wDFVs0UXh2/H/gBap3X3f8ABMb/AITHwz/0Mek/+B0X/wAVR/wmPhn/AKGPSf8AwOi/+KrZoovDt+P/AAAtU7r7v+CY3/CY+Gf+hj0n/wADov8A4qj/AITHwz/0Mek/+B0X/wAVWzRReHb8f+AFqndfd/wTG/4THwz/ANDHpP8A4HRf/FUf8Jj4Z/6GPSf/AAOi/wDiq2aKLw7fj/wAtU7r7v8AgmN/wmPhn/oY9J/8Dov/AIqj/hMfDP8A0Mek/wDgdF/8VWzRReHb8f8AgBap3X3f8Exv+Ex8M/8AQx6T/wCB0X/xVH/CY+Gf+hj0n/wOi/8Aiq2aKLw7fj/wAtU7r7v+CY3/AAmPhn/oY9J/8Dov/iqP+Ex8M/8AQx6T/wCB0X/xVbNFF4dvx/4AWqd193/BMb/hMfDP/Qx6T/4HRf8AxVH/AAmPhn/oY9J/8Dov/iq2aKLw7fj/AMALVO6+7/gmN/wmPhn/AKGPSf8AwOi/+Ko/4THwz/0Mek/+B0X/AMVWzRReHb8f+AFqndfd/wAExv8AhMfDP/Qx6T/4HRf/ABVH/CY+Gf8AoY9J/wDA6L/4qtmii8O34/8AAC1Tuvu/4Jjf8Jj4Z/6GPSf/AAOi/wDiqP8AhMfDP/Qx6T/4HRf/ABVbNFF4dvx/4AWqd193/BMb/hMfDP8A0Mek/wDgdF/8VR/wmPhn/oY9J/8AA6L/AOKrZoovDt+P/AC1Tuvu/wCCY3/CY+Gf+hj0n/wOi/8AiqP+Ex8M/wDQx6T/AOB0X/xVbNFF4dvx/wCAFqndfd/wTG/4THwz/wBDHpP/AIHRf/FUf8Jj4Z/6GPSf/A6L/wCKrZoovDt+P/AC1Tuvu/4Jjf8ACY+Gf+hj0n/wOi/+Ko/4THwz/wBDHpP/AIHRf/FVs0UXh2/H/gBap3X3f8Exv+Ex8M/9DHpP/gdF/wDFUf8ACY+Gf+hj0n/wOi/+KrZoovDt+P8AwAtU7r7v+CY3/CY+Gf8AoY9J/wDA6L/4qj/hMfDP/Qx6T/4HRf8AxVbNFF4dvx/4AWqd193/AATG/wCEx8M/9DHpP/gdF/8AFUf8Jj4Z/wChj0n/AMDov/iq2aKLw7fj/wAALVO6+7/gmN/wmPhn/oY9J/8AA6L/AOKo/wCEx8M/9DHpP/gdF/8AFVs0UXh2/H/gBap3X3f8Exv+Ex8M/wDQx6T/AOB0X/xVH/CY+Gf+hj0n/wADov8A4qtmii8O34/8ALVO6+7/AIJjf8Jj4Z/6GPSf/A6L/wCKo/4THwz/ANDHpP8A4HRf/FVs0UXh2/H/AIAWqd193/BMb/hMfDP/AEMek/8AgdF/8VR/wmPhn/oY9J/8Dov/AIqtmii8O34/8ALVO6+7/gmN/wAJj4Z/6GPSf/A6L/4qsnxX4r8O3Pg3WoLfXtMllk0+dEjS8jZnYxsAAAeST2rr6xvGP/Ii69/2Dbj/ANFNVQceZaf19xnUU+SWq27f8E2aKKKyOgKKKKACsbQ/+Qx4j/7CSf8ApJb1s1jaH/yGPEf/AGEk/wDSS3q47P8ArqjOfxR9f0Zs0UUVBoFFFFABRRRQAUUUUAFFFFABRRRQAUUUUAFFFFABRRRQAUUUUAFFFFABRRRQAUUUUAFFFFABRRRQAUUUUAFY3g7/AJEXQf8AsG2//opa2axvB3/Ii6D/ANg23/8ARS1a+B/L9TN/xF6P9DZoooqDQKKKKACiiigAooooAKKKKACiiigDG8K/8gef/sJX3/pXLWzWN4V/5A8//YSvv/SuWtmrn8bM6X8OPogoooqDQKKKKACiiigAooooAKKKKACiiigAooooAKKKKACiiigAooooAKKKKACiiigAooooAKKKKACiiigAooooAKKKKACiiigAooooAKKKKACiiigAooooAKKKKACiiigAooooAKKKKACiiigAooooAKxvGP8AyIuvf9g24/8ARTVs1jeMf+RF17/sG3H/AKKarh8aM6v8OXozZoooqDQKKKKACsbQ/wDkMeI/+wkn/pJb1s1jaH/yGPEf/YST/wBJLerjs/66ozn8UfX9GbNFFFQaBRRRQAUUUUAFFFFABRRRQAUUUUAFFFFABRRRQAUUUUAFFFFABRRRQAUUUUAFFFFABRRRQAUUUUAFFFFABWN4O/5EXQf+wbb/APopa2axvB3/ACIug/8AYNt//RS1a+B/L9TN/wARej/Q2aKKKg0CiiigAooooAKKKKACiiigAooooAxvCv8AyB5/+wlff+lctbNY3hX/AJA8/wD2Er7/ANK5avanHqMtky6PdWtrdZGJLq2adAO/yLIh/wDHqqp8TM6X8OPoW6K8/wBB8Z63/ZVpea2sGq3GoSzQ2mnaPYGGUmJ2VnLzXBTbhc87eoGSes0XxEku/GWk2Njpsz6Re6bPdy3ThFeFo3VWBBkBAUlgw2k5K4yAcL+vwv8AoXc7qivP9T+J6f8ACO3d5pWn3FvdRRW1zbrqMa7bi3mmEYlUI5IBBPDbWHGRXSeJ9audKhsLbTFhbUNTu1tLYzgmNDtZ2dgCCQqoxwCM9MjrSsx/1+puUVyieKNQ0Wz1EeKrTzprSeKG2l0+3ZF1Ay4CCNHY4bcdpBcgdSQDxTu/H7tdaTDZ2b2ss2qPYX9tfIDLbkW7zDGxypJwhBDMCD+R/X9fegO3orzPSvidfX+s2HnWfkaKNE/ta9v5LZF3oQcMqi4YxqCMYxISeOB81bzfEWwt9OvrrUdL1SweygjuTbzxRmSWF22q6BHYEZ4IJDDuBkZdrf15tfoH9fl/mvvOuorjb74jwafNdQ3Ph7WhLZWa312qpAfIgZnG9j5uD/qydq5bBHBOQJ0+IOnAXf2qw1G0MNvHcwrNEmbuN32I0YVzyWIG19pGRkCl/X9f13D+v6+9feu51dFZWha/Drsd0FtbmxurObyLm0ugnmQvtDDJRmUgqykEMRz65rl7zxhrg0zVfEdkunjQ9JuJopLWSFzPcJCxWWRZQ4VOQ2FKNnbyRnh2d7B0O9orlbn4g6da3eqxPY6g0Ok7RdXSxp5YZ0V0Rfn3MzbwoAHXrgEExp8RbILqCXWkara3lhJbwvZTRxeZJJOcRohWQoSfXcFGeTwcIDrqK5NfiDaSw2gttJ1S4vLqae3FjGsXmxyw/wCsRiZAgx67iD69KgtviNp1xO9wGmWyXSRqBja1/eL+9aMruDnLZXbtC4zzuPSj+vwuH9fjY7OiuSk+IdnBEq3OkarDfG9jsW08xxNMskiF0JKyFNpA6hjjvjBw22+I1lPPEk2j6taob4afPLPHFstbgkBY32yEnJK4ZAy/MMkU0ruy/r+rr70Juyu/6/qz+46+iuM8eeL9S8LaloKWFvbTWt3csL8zKxaOBdu5kwRyN2eQRgVDqnjXU7b4lpoVnb2raallJJNNIrGTzxGZAqkHG3btJ4z8wqW0lf1/DUfWx3NFed6d4w8SQaR4e1PWn0q7h1+HMcdpaSQPbSG3aYZLSv5i/IQfukdaZ4Z+Iup6x4R0O9vrW0g1O61GC0vYUDbFSVPMV0+bIyjIRknvVuLTa7WX3uxPMrX8r/cej0VyOv8Ai3VNOtdeuNH0VtVXTEEaLHIiYlEZkdnZ3X5ADGPly2SePR1z4h1W5tvD1ppRs4NR1i2Nw01xC8sUKrGrPhFdScl1AG4YznnGDO/4fiV1t6/h/wAOdZRXCWnjLWNbOn6bpSWVnqs32z7TLcwvNDH9mlETbUV0J3MwIy3A9afZ/EqOaztFOiaheajLazTy29gI2VPJl8qT5pHQcNkjPJHvxT/r+vuYeR3FFcBqfxRtx4bvb7S9Pu4pTpE2p6bNfQgQ3iIoJICvvGCy5DBCc8Z611N/r0el6Fb39zBNcST+UkdvbKC8sj4ARdxAGSerEAdzQ01uH9f195rUVxNx4/la+0hNM0i7uPtUt1BdWOxBcxSwqCUyZBGOepLEEYweamn+JWlR6TZ39tY6heLc2st48UCR77eGI7ZHfc4Hyk4wpYnsDSDd2Oworz6f4gX48VGwtYrR7NtVsbOOQo24xT27Ss33sbsgY4xjsa1PEni6+0PxlpOlWukz6nDe2dzO8VoimbdGY8YLuqBcO2cnJ4A54Itf68r/AJB/lf8AGx1tFcndfEXSYLK2u7a2vr6GW0+3TNbRLm1t84MkgZlPBBG1QzfKeOKueM/EMnh7wbc6tY+W8qmJYS8LyqTJIqA7EIZvvZwDk9qHoG7sdBRXCW/jDUJNHRbfUtPv9TutRSwizpNxZC0dlLHzoJJDJwqlgMpkY9c0f8Jjq/mHRNtkNc/tX+zftPkubf8A1Hn+d5e/djZxs39f4qdm9v62/wA0H9fn/kzu6K4WPxfrN0YdGgWxj1s6lLp81w0LvboI4vNMoj3hvmUrhd/Bb7xxzv8AhfWp9X0qd9Rjiiu7O6mtLnys7C0bY3LnkAjDYJOM4yetL/h/l/TF/wAN8/6TNuiuTtPiHpt0rSGw1CC3e1lvLO4ljj2XsUYyxjw5I4IIDhSQcjitGz8RNqXhSfWrawubRPs7T263qqDKuzcrbVYkA+hweDx0pN2Tb6FW1S7m3RXEab8SLeTR9Kn1CyuJJZ7G1ur+e0jXyLIzgbd2592Cc/dDEAZOBzWmvjewbXF097W8jhkuJLSK/ZU8iSdFLPGMNvyArclQpKkAk1UouLaf9WJTuro6Siue0HxlZ6/epbRWd5aNPb/a7RrpUAu4MgeYm1mIHzLwwVvmHFQaz49sdF1a9sZtO1Gcafbx3N7cwRoYreJywDtlwxA2HIUE45x1osxnUUVysHim7mt/F8gjtyNElZLUhThwLaOUF+efmc9McY+tGv8Aii80r4Vz+JoIoHvI9PS6EbKxjLFQSMA5xz60v+B+OwdUu9/w/wCHOqorlB4/so7e5F7puo2t9bmELp8qR+dP5xKxFMOVwxBHLDGDu21nXXxFujr2hWmm6DeyxX01xBexuIhNbyRLkpzKBkdSRuBX7pJoFfS53lFcnafEbRLubSogtzE+qadLqMQlRR5cceNyv83DcngZHynmmW/xH024+yOun6ktvOtuZrho0C2bT48pJRv3BjuX7oYDcMkU7O9v66r9GP8Ar+vvOvormYvHenS6o9qLW8WHzJoYb0qnk3EsIJkjTDbsja33lAO04JxR4d8dWfiK9treLTtQsTeWIv7R7tIwLiH5QSu12IILrkMF68ZHNCTe39f1Zg9NzpqK4Dxh4+u9F1u7sNLa1Dafax3M6z2k03m7y2EMkZC264TmWTKjI44Na3jnxTf+GfCEerabpxvJ3uLeMxZQhBJIqnOXXPXAIJ5IJ4yaXS4dbHU0Vy9148s7O/a3m03URHA8MV7dKsTRWUkoBVJCHyT8y5KBgMjJxzVrxNrV5p02lafpKwC+1W6NvFLcoXjhCxtIzsoKluEwFDDJPUUWYG9WN4x/5EXXv+wbcf8Aopqb4W1i71Wzu4tUWAX+n3b2lwbYERuygEMoJJAKspwSccjJ607xj/yIuvf9g24/9FNVw+JfIzqfw5fM2aKKKg0CiiigArG0P/kMeI/+wkn/AKSW9bNY2h/8hjxH/wBhJP8A0kt6uOz/AK6ozn8UfX9GbNZPinW38O+GrvVIrZbuSALthaXyw5Zgoy21sdfQ1rVzPxEgmuPAOpR2tvNcS4jYRQRNI7ASKThVBJ4B4ArNmgW3iq7s9UksPFen22my/ZJLyKW0u2uopIo8eZyY0YMu4HG05B4PaoR8RtBaVpRdqunpYSXzXMsM6MY0KAuimLDp84+YN14APJGRrLzeK9SlvtM0/UFtbDRr2HfdWM1s8s0qoFREkVWbhDk4xkgdawfFOh6rPp0SW2mXkhHguW12x27HExaHEfA+9wfl68GrgrySf9fF/khS02/rWP8Amztrz4g6WljJNpqy3UsN7a2s0E0Uls6CeVY1kAkQFl5JBAw204NWJvG+kx6qlrHcxPGPtImkKygqYFDOExGVfGcH5hgjAycgcJ438P6tqviDXY7O31CKO6j0VI7q3hYlSl05dlOCMoCGPpwTVVdF1m2XTNEk0u9lOh2eq2QultmKXCNCphfcBgswOD6uG71M9INrfX8l+v5+RUdWk/L+v6/U9HtfHfhy7gupo9QaOK1txdSPPbSwgwnpIm9RvU9MrkZ461a0TxTpPiKa6h0qeV5rPZ9ohmtpYHi3glQyyKpBIGcY6Y9RXnGveH9WvGsDBp13ILfw5al0ETDe8VzFI0PpvKo3y9a6fwfqMeq+P/FV3Ba3VvE0VkFF1bvA7YR+SjgMPTkA8emKppfn+Dt+JkpNpfL8Un+puR+MNClNmEvxm9vJLG3BicF54929MEcY2NycA44PIqvceP8Aw1bWqXEmoO0TvMgMVrNIR5TbJHIVCVRW4LnC+9ec+KvD2vweLNdvNN0y5uYNII1rS/LjZhNcyNFviXAOWxDJ0yf33T1t61ouq6b4RsdEitL0yN4fmia5sbDzpri6cZaB5NreUjElicrk4+YYwZv7nN/Wz/VfkbWXNbp/wf8AJr8TsrX4haZN4i1zTriOe2g0eGOZr14JfLkVlyfmKBR2xgnfn5c4NWW8e+HY9PivJLyZElufsixNZzCbztpfyzFs3hioyAV5yMZyM+cPpWqXum61bRWOqwT3VhpFzCwsXDMLcqZVBdNgkGPuNyT/AAkVp6fpd5ca9p2oxwa7dxSeIUme71S2WKSRFs5E8wwrDH5Sg4TLLyQD3FXy62/rdf8AB+4iGseZ9n+Vz0XUtf0/SNPhvL95kjnZVijS2kkmkYjIVYlUuTgEkBcgA56Gql14z0K00y0v3u5JYL0E24traWeSQL97EaKX+Xvxx3xVPxymLfTLn7NqTfZ7zd9s0xDLPZZjdfMEQR/NHzbSu08NntXNac+oaXf6J4g1bRblLZLa/t3jsNNcyKZJ0eORoIwWVpFQluOGbnFTv/Xl+uxXb+v6/ryO5TxNo8sJmivkkiFl9v3orMpg5+cEDnoeBz7VV/4Tjw99pkg+3tuht1upm+zy7IYmTzFd327UBUHBYjnjrxXAQ2upeH9DMV5o+pSzXvh+aCKG1tHn2StLI4hYoCEIDgZYgcHmrCeH9VufCvim1isLhbi40uxSFHjKecyQDcgLcZyNp9CeaS6/11f+SJbtJLv/AJL/ADZ28PjfQJ9Lur9byVIrRkSZJrSaOZWfGweUyByWyNuFO7tmtPStWstasFvNNlMsLMyndG0bKynDKysAysCMEEAivP8AxHJP4ksG1DS9E1PTUs72ymkvUsNl7OqFt+2GWIs3l7sjKtnLbR69F4DtJbbRr+Z11Jjd30s6SaoqpNMCFG8xrHH5edv3Sue560+j8v8Agf5v7vULvT+u/wDkvvEvviP4ftLHUp4Zbm6fT7eS4McVnMfOVDtYxtsxIA2AWUkLnkgVnaP8T47/AFbRbC/0m4sn1TTpb5pBFcGOAKygAs8KcEEkucKOOoZSeJmtdZvplkl0vVUlOganaSWkelNFbWk7qhWGLbGNynaSHJYMeA2SFrZ1/RNTupNFt4rK8Vrnwld6aJFt3ZYrh1h2rIQP3edrctgcYzQvPt+kv8l/W9tK6X9fZ/zZ2qfEDwy2mXOoNqLR21s0Qlaa2ljIEjbY2CsoJRj0cAqeeeDWqdasU0NtXuJXtrJYzKz3MLwsijuUcBh9CM15O2k6hf2M88dv4jvpEGl27vqdokJXy7tXeNIkgjLKgyTJllweDwTXovjywutS8F3kFhE806tFMIk+9II5VcqPUkKQBTkklfzJWth8fjfQJdJuNRF3KkNvKsEsclpMk6yNjanksgk3HIwNuTkYzSP458Px2FrdtdzFLuZ4IY1s5mmaVFLNH5QTeHAU/KVB46VzeqXUmrS22u2Xh29gtbDVoJ5naydLm8jETIzmAoJDsLjAwSdpwOmamn6bqFz4w07WVsLyK0vPENxdostu6NFF9hMQd1IBTcy9GwfmHc4oir3/AK7f5v7hSdlp/W/+S+87Ky8a+H9RR2tNQDCO0N6+6GRNsQZlYncowQysCv3gRyBSf8JtoH2uztjeuJLxI3iJtpdiiT/Vh327Yy3ZXIJ7CvLLjwvrb+HdOFtpt4J77UtR0q8XymDRWlzdM5lII4UBAQTx8w9a2Nb0C9i8W6raj+3pLfUb2ymtbWwt4xayJGIwTJO0LmLYYy2Ny5GAOSaEldL+v6s1+Pyb6/1/Wt/wO0PxA8O/apLaO6uJJUkmhASxnKvLFu3xKwTazjY3yAliBkAiqHhr4kWXiGx0q6lhXT1vrKa7kS5MqNGIim4qWiCug38vuHsG5xz6aRqf2XRVGn3YaPxfeXDjyWGyJjcYkPHCncuG6HI9a5638O6zqnhXRdMt9Mvobm38M6jYTC4tZIlScmLahZ1A+bBwRwcHBODSjZ7/ANaN/nY0lFKVl/WtvyVz1OHx74cm0+8vft0kUFkqSTme1miZUc4RwroGZCejAEHB54p6+N9Baxubr7VOq2sywSRPZTLNvblVWIpvYt22qc9s1w/iCK98SrqN9pukalDFDpcFmY57KSJ5ZftCuVVGUMwQKfmAK/McE81PrkWq2fjTW7uLT7v7JNdWGb2HTzdSQKIZA0sKbG3OrFVyFbbuyRR/X4/5amKbb/rtf89Dq7XxrZ6j4g0mw0xPtFvqVrcXC3JLRmMwuiFDGygg5cgg4IK4Irpa8h8A6Xqdv4v0t7vT9SijgOsCSa7tmTHm3MbxktgKSynPHHB9CB69TaSS/rqyurQVjeDv+RF0H/sG2/8A6KWtmsbwd/yIug/9g23/APRS018D+X6mb/iL0f6GzRRRUGgUUUUAFFFc5rHjS10i9uoBp2oXyWEYlv57SNGS0QjILBmDMcAnCBjjtyKAOjopkM0dxBHNCweORQ6MOjAjINPoDcKKKKACiiigDG8K/wDIHn/7CV9/6Vy1s1jeFf8AkDz/APYSvv8A0rlrZq6nxMzpfw4+iPOdN0DXNCttA1JdJlvbjT3v4p7KCeISFJ5S6updwhxtXILA4J78VW0zwr4j0bWtJvobLfM1jqSTOksZWznuJ1mTcGYFlGCCVDcjpivT6KjX8/xv/madLHit74N8U6g11M2i35nutMtoJpbzUYpWeeO6SSQ/6whUIyVC4HBG1TgH0nxbpd3d/wBlajpsH2m60i9F0tsHVTMpjeN1BYgBtrkjJAyBkjrXQ0U79v61uC6+f+VjhNTsvFGtWsmpTWLRfZdRtbux0iWSLzfLiP7wM6kpvbLYG8qMLyMnGZP4X17UvEFvrcmmNamfW/tclrJNEXt4FsnhUuVYqWLEcKW4I9DXp1FLo1/XT/JDWjv/AF1/zPItM+H2uyaANOvLZbV5PB6aWXaVGCXIdjtO0kkDI5HHvWjrOh+IfE0d/eS6JJp8qafDZQW0txCzTP56ySOCjlQgCjGSCeeB39MoquZt39fxv/mS0mren4W/yRxGt+HtUvNY8XT29rvj1HQIrO1bzFHmTD7RleTx/rF5OBz14NVtT8N6vJciaHSre9VdChtWhuZBskkWZWZOGBDbQcN0BxzXoFFT1v8A11X6lN3/AK9P/kUc14NttWt4L7+04r22tGmH2G11C6W4uIYwgBDyKz5ywJGXY4PJ7Dnb3Qdcj8O634QtNIknttVubhodTE8QhhiuHLvvUsJNy7mwFQg/LyOcej0U763FsjznWfDd3FpfjCScQ28c1/aXllJcToiS+THBgMxPy5eMr82Pyqgs3iHWPEHie4sNMvLR/N09Li0iuoluWhVXMiLIr7FchgeHGARyCa9SmhiuIXhuI0likUq6OoZWB6gg9RVfTdK07RrMWmj2FrYWykkQWsKxICep2qAKPXy/C3+QPU888I+Fda07XrSW60qW1toNT1C43SXSSkRzIvlkneWY5yDnnIPUcmloPgrxFYQXH2jR7WYtoklqsF3KjRSSG7kkCNtbPKMDnoM9eK9bopdvL/K36itv56/jc84tdD8RXN5psj2N9bada6tBcQ2mo3sc89uixSrIxcO+VLMuBvY9enQT3fhjV5bW/RLTLTeKbfUEHmpzArwln69gjcdeOlbuqeLzYeIJdHs9B1XVbiG1S6lNkbcKiMzKP9ZKhJyjcAGrNh4r0zUjbNbSYhubN7wSSSImxFYKwZGYOCCeTtwMEEg4BcXZ8y/q1n/7b+YSjdcr/q9//kvyM3xf4bm8Ratpkfkh7IW95DcuWA2CWLavGcnn0rm9D8KeJBHpN/rdmg1SU3suo+XMpVHeERRAc85VF6ZxXfQ+I9EudHk1e31nT5dNjzvvUukaFMdcuDtGPrRN4k0O20ePVrjWdPi02TGy9kukWF89MOTtOfrUuOjXfQfbydzmfCvgO30fwdp/2m2uX1mHTFhK3V/LciCQxbWWMO7JHzkfJgY9q5yfwhrOj2/gvUY7ZUisLe0XXkaZB5ItkJWQc4bbukU7c5yPSu/ufF+j2mt22nXFykf2m0N3FdNIggKeYkYG8t1ZpFxgc+tXb3XdI05bhtQ1SytFtVVrgz3CIIQ3Clsn5QccZ61cpNvm7u/3N/qyVFW5fK332Maz025m+HF1CsTfbtStZ53jdhnzZgzbSTxwWC/hVK40rVtNj8K6naabJfz6VaNa3VlBLGshV40BKl2VCVZBwWHGSM8V0d94j0bTbCG9v9Vsre2uMC3lluUVZyRkBCThie2Kis/E2nXfg6HxM7PbadJZi9LTgBo4yu75gCeQPQmltdry+W//AASkm7fP8bHH6d4d1zw7dabriabJqFxnUPtdhazxq6faZ1mXazsqNt2gH5u5IzU3hrwlquk6nay3UC4OlXazskgKrPNc+dsHc4yecY4rds/GtpLdCHVLC90QSQPcwS6l5SRzRJjcwZXbbgEEh9rYPTg415Na0uG4hgm1KzjmnCmKNp1DSBjhSozk5PAx1od3p6/jdfqxN31fr9zTPMNR8EeIZ/A2i6fFp+66tfCt3p80fnxjbcPHCFTO7ByUbkccda7jxFp93ceEbe3h0uPUpIWhaW1MvlyFVI3GJ9yhZB1VtwAI6itS88QaNp0VzJqGrWNrHasqXDz3KIIWYZUMSflJBGAetMl8TaDBp8d9PrenRWksphjuHu4xG8gJBQMTgtkEY68GnKTlq+/63/Urol2v/X4HK6PoviFtb0S81OG4FvaT3ZRbq4SWa3heNRGsjBjvbIbkFu2Setc9J4S8VDwXBokun3UsL2N5F9nt75IVjuZJXMbzEOC6bW+6NwyeV7j0y88SaHp11Ha6hrOn2txIyqkM90iO5bO0AE5JODj1xWkSACScAdTUSV1r/X9X+/UUfdd1/X9floeSad4O8Rf2pZ3U+lvAi6lpdw6vPESiQ2hjkJ2uejcYGc9s11PiW31q28eaPrek6NNqttbWF1bzpBPFG4aRoimBI6g/cOeeAD3wDf0vx94d1TSZdTGow2dlHdS2qz3siQrK0YyxQk8rgFgfQE9Kv2vifQb66t7ay1vTrie6j82CKK7jdpk/vKAcsODyOOKq7vfvr96t+Qkklbsrfc/8zzO5+Hmq2dnBu0y51Wa40cWUsVpqr2kMU3mSP+9CyxmSL96QcbjheBzXpN+NV07w3EuhW1vcXlusQ+zuxCyIpAdVJbhtudpY4zjPepofEWi3OpvptvrFhLfRuUe1jukaVWAyQUByDgE4x0qlD4vsJ/FS6BHDcm4YTFZdi+UfK8vfznPWUDp1VvTkWui9f1G3rd+n5L9Dl7nQddv9TuPE40mS3uU1C1uINLkuIvOkiijdGyysYw7CVsDfj5VyRk4Q+Hdc+3nxONNkF5/bY1D+y/Oi80wfZfs+zdu8vfj5sbtvbd3rub7XNJ0y8trTUtUsrO5ujtt4bi4SN5j0wqk5br2pRrWltqh0xdSszfjObQTr5vADH5M54DKenQg96E2tv62/yQf1+f8AmcND4f1yzvIPEq6XJJdtq897Ppcc8XmiGSAQhQxYRlwFRiN23rgniuj8L6PeW2g341SMW91qd3cXTwq4byRIx2qSOCQu3OMjOcE9a0LnxJodlfrY3ms6fb3bOI1t5bpFkLkZC7Sc5IIOPelg8R6JdWFzfW2safNaWjFbi4jukaOEjqHYHCkd80nZr5W+Wn/ADZ6d7/PX/NnA2/hrxDdaNpek3WktbDQdKuLVbgzxFb2VofKTywrEhSMk7wuDjg9a7aDT7lPAcenNFi7XTRAY9w+/5W3Gc469+lTHxPoI0uLUzrenfYJiRHd/a4/KcgEkB84OArHr2PpUsGvaRdakNPttVspr0xCYW0dwjSeWeQ+0HO05HPSiScuZPrv+P+YKyakun/A/yPKoPh9q8FlbW1zot1eSXemWFu+3V3htraSJAkgnjjmTzRgAjaHycjgV00WleIIfFxay0t7GJr2SW5uorpfsV3blW2gwlywmJK7mCLnH3iMCu+opyfM7vz/EUUkrI4TwXpmv2GqwpcaZLo+nRWjJdWpullt5LjKhWtV3u0cYAf5Ts+8Plzk1leJE1bUfF3jDQ9J0trz+0tHtbcziWNFti/nrvfcwJUAk/KGPHTnNeoVElpbx3ct1HbxLcTKqSTKgDuq52gnqQMnHpk0733HqndbnnR+GtneL4um1fw7p1/eXT4065ubeGSRlFpGi7WOSnzq3Ujnn3ra8QaJql38H5dGsbYSap/ZscKQmRQDIqrxuJx1HXNdhRSu/y/AVldeV/wAbf5Hl2ueFtb8Sahc65c6RdWrwmySOwS+SKedYXkaRkljkwmRL8vzKfl525qTTfDOq6drGg6nDoNxHFHqd1NcW5vvtFxEksQjWSWSWZt7DGW2McDGAa9NooTtt/W3+QNc254nqvwy8SyjWhYRIpOorBpzCVRiwlMpmP3uNv2qTA4P7teDxnc1XwLdL4ovfsmkXN7bX9zaTRTf2pJDaWyxLGrCWBJU3kCPK4VskgHAFeoUUJtW/rt/lf1bKbbb/AK/r/JI8q03wNqNnrAhbSLmQW15e3S39xqsj27LKJdghtxNtST97tYtGFwGIJJzWt4a8M6vp+teEJ7u08uLTfDb2N03mofLmJgwnB5+43IyOOvSu/opxk4/15NfqS1d3/rdP9Dh/EGlaxBrWuTaXpP8AaUWu6fHahlmjQW0iiRd0gdgTHhwfkDNweKseLfD1/cfDWLSNMiN7d2htCEDqrTCGWNmwWIGSEOMkDPeuwoqVp+H4bD63/r+tDzfUtC124Gu6Zb6PKbbxFeQ3Ru2nhC2S7IlkWQb9xYeWcbAwJI5HWug8c6Vf6hp9hNpEMslzY3izhrV40uUXaykwmQ+Xu+bo+VI3D0NdRRQ9ku36B1ucz4F0G50TSb178TC61G9kvJFnkWSRdwAAdk+UthQSF+UE4HAFXfGP/Ii69/2Dbj/0U1bNY3jH/kRde/7Btx/6Karg/fXyMqitTl8zZoooqDUKKKKACsbQ/wDkMeI/+wkn/pJb1s1jaH/yGPEf/YST/wBJLerjs/66ozn8UfX9GbNFFFQaBRRRQAUUUUAVtQsbTU9Pns9RhWa2mQrIjdCP6fWqXhzTdHsdOM2gP9oguz5pujdvdNOcYDGV2Zn4AAyTgDAq/fQLc6fcQSGRUkiZWMcjRsAR2ZSCD7ggivH/AANYsdL8BWEd/qkVpPpN3dzwRahMoldWh2jIbIUZ4UEDkjGCQRdf67v9CrXR7PUN1eWtjGsl7cw26PIsatNIEDOxwqgnuSQAO5NeO6J4h1n+y49Yv7rVNIi1DSLu4u72/u4riISDaySW9sJmcBASNoRM5XdzWdrizXn2zR71taitbXVNGlhjvdTlaYGWco7FllYgHbuC7vlPICkcUotyS72/OxMvdTfqe80V5FqSXyQ6tqEWuavHNbeJ7exgC38uyOB2gjdNhO1sh2OWBIPIwaZfX+p2GtXHhu0k1vUbA6+tuIoNQP2vyvsQnMa3EkqsBv5yZAcZA9KSV43X9bf/ACS/EO/lf8L/AOR7BUKXlrJey2cdzC11CivJAsgLorZ2kr1AODg98GvJrCXVdZurGx1jUtSgWLStSdo7bVdshaK5RYjJJBIQZFXg4Y85BzyKf8LN2qeMptavZ7qW9ufDemTys91IVd3Eu4lN23+EEDGASSMZOaULq/8AXVfoJu2n9dP8z1yivLfGurXVp4kku9NvtTnks9RsLdxDMYrWzEkiB45E3gTM6yZzsbaMcjjNaxvL+31LSdT/ALT1Kaa68U3unyRS3sjQmANPtTyidnBRcHGRjGccVK1V/wCun+Zbi0m/62b/AEPVpLq3hnhgmnijlnJEUbOA0hAyQo74HPFPkkSKNpJWVEQFmZjgKB1JNeU6DFLd614G168v72e81N7uW4imuXeJGMLkKkZO1No+X5QM98nmtrxfHNrHiHUtNnvr20tbLQ2u4ltbpofMlZnXc20jeFCD5Wyvzcg1M3yr7/wv/kKKu2vT8Xb9TtbTUrHUGcWF7b3RjCs4hlV9oZdyk4PGQcj1HNPkvLaG6htZbiJLicMYYWcB5AvLbR1OMjOOma8f8O3eqXWh39lBfz+XGmkRpbrfeQ7RtbIXihcsNjvzjBUk9x1qe71i8tp7C1stY1QpFBq6yQ3UjrNAyQqyRyNubzGTdw+TnIOe9OpaHN5X/D+v60vFN86j52/H+v61t63cXMFnbSXN3NHBBEpeSWVgqoo6kk8Ae9JaXdvf2kV1Y3EVzbzKHimhcOjqehDDgj3rw3xdFMPC19ZzalqlzFd+Fo9RlE+ozNmcOo3D5uAQxyowp4yK2r++1iDxHfx6dHrHl6LdWNtbXDaqiWqRMsbSCcTTBpWcOw3FXP3cHNVy62/rR2f4/h9wRlzK6/rRP9T10kAEngDqap2+r6bdtbLaahazm6jaW3Ec6t5yDALLg/MBkZI45FcFpEEuuI2sX/iK8spp9TvrJ7M3kix3ESNLGkMaBwEcBA+9Bv8AlPODxxmkapfeGPA/h6XSLy7X/il9QvDFJcySJ5qmLa21mIwuTgDgZOByaSV/68m/0NOXW3n+tv6/pHvlFeTeInvvDcOpafpmtapJHPpUF35017JLJDL9oVC6O5JUOG+6Pl+XgDmup8JmWz8Y+JtHF1d3FpaG2lhF3cvOyGSMlgGclsZXOM4HYCj+vudjPmW39aq52FFFFIoKKKKACiiigArG8Hf8iLoP/YNt/wD0UtbNY3g7/kRdB/7Btv8A+ilq18D+X6mb/iL0f6GzRRRUGgUUUUAFeetreneEte8Xx688Xm6jMl3ZWsh+a/T7OkflRqfvtuQgqAT8w45r0Kij/hv6+4adirpm7+ybTfaLZN5CZtUIKwHaPkGABgdOg6Vaoopt3dyUrKwUUUUhhRRRQBjeFf8AkDz/APYSvv8A0rlrZrG8K/8AIHn/AOwlff8ApXLWzVz+NmdL+HH0QUUUVBoFFFFABRRRQAUUUUAFFFFABRRRQAUUUUAFFFFAHA3niLRfD3xd1J9e1ax01ZdFtRH9ruEi8wiafIXcRuPI4HrXEx2KJMBqkN7FBdaDqV00cMIMyRyXyyLhG/2WBKn3Br3Simna3z/FP/MJe9f5fhb/ACPJm1XTb7TdUv5byzdIdQspm1/TYy9nLIvCvJG0hVVTaofa/TByCOG6fq+nW+r6RrOpmxtNGjvL8SagkhFnNcOqFZ0ZyQiuPMA5I3EgE559booWn9en+X9WFb+vv/z/AKueGWWhy6zImmFWiF54f1NrIEYMaNeq8BAPTA2EenFLb3t5qOk6R42lu7bS4tR1wzzXOpQNJDbRpbPBGZFDp8u9SQdwALg17lRTvZW/rdv+vQLf18rHjOi3GnaL9gvdfvEbTrjTtRis7m5thbxO8lzuKRoXfh1I2LuJZV/Ct2zsrjUf2a7O1sYmmnfQItkKjmTEYO0D3xj8a9Joo5vda/rdv9R9bv8Arb/I851XxRoGta9o95aX9tdWOk291c6m0bhltozDs2SY+6xLfcPPynjiuQ0DS7qDwd4isL+1kj16OGDV9MSSQu5tIjvtogcDmMoUYc8tnJzXutUdY01tX0yWyW/urAS8PNaFBJt7qCysBkcZAyOxBqbtXcd/6f8AXz7gktL/ANf1/l2PLdLvbYr4e8a62Us9O1TVrq9kmuGCpCHhMdszseF+RAOe7471g6ZcJaWumXsWo6dpGjudagjm1KzaaHL3fEYUSR4dkBC5JyAQBzXs1z4cibR7LTtLv77R0sAq28ljIoKqq7QpV1ZHGOzKfXqAataNpFroWlx2Fjv8qMsxaRtzOzMWZmPcliSfrVO2qW2y9LWBXS133+ep4xd2ptvBPi5ZRM80Pg/T08y6hEc3CTfeXLbTwMjJwe5r0/xaNVn8IR22j2VzevdGOK5FrJGkqQH/AFhUyOi7scD5hjdntXTUU5y53cUVy2/rt/keMaKRc6zo8M2jz6fFF4wuSkNwYm24tJSAPLdhlcD26YJq7b2sMVjAYIo43/4TiYhlUA5Mkgz+XFetUVHbyt+Fv8hv4Wu9/wAeb/5L8DxPSNX0jTH8GRzSQtq2ix3/APaK/wDLSFxE5kD9wWYbhn73UZrptPsJNN+IXhGC4wbltHv5rgj+KV5IHkP/AH0xroP+EGsZr8XGqX+papHEWNtb3k4ZLfcwLbSqh2zgD52bjgcEiumqlLW/9a3/AMxd/wCux5X41urCz1Pxna6uUF3qmkQw6XG/D3RCyARxDqzCQgkLyNymt7wLAY/E3i17hVN19rtklkxyxFpDxn6k/nXbUUk7Ff1/X3Hk3iq0t5bP4mPLDG7MbRSWUEkCGMgfmab4oSG38batLLGq6fbvos96AvyrEss2Wb/ZXCkk8AL7V63RQna3lb8Lf5EyXNc8gDWmqeL7W/sfKudJu/FsclrKmGimZbBg8iHoRvXqO6mmaV5//CdQWF9qtr9ti8SXV2NPh08tdiNlkCyPKZgBCY2UbhH/AHV5NexUUJ2a8v8Agf5FSfMrf19r/wCSCiiikIKKKKACiiigAooooAKKKKACiiigAooooAKKKKACsbxj/wAiLr3/AGDbj/0U1bNY3jH/AJEXXv8AsG3H/opquHxozq/w5ejNmiiioNAooooAKxtD/wCQx4j/AOwkn/pJb1s1jaH/AMhjxH/2Ek/9JLerjs/66ozn8UfX9GbNFFFQaBRRRQAUUUUABAIIPIPWsTSvB+iaJJayabayRtZrKlvvuZZBCshUuqhmIC/IuB0GOMZNbdFGwHPReBPDcUl2403eLuJ4ZI5Z5HjVHOXVEZisYY8kIFyagPw48MNHOr2dy5uFiEsj6jcNI5ibfG28ybtyno2dwHGccV1FFAGQfCujNaS2z2jNFNeJfSBppCWnQqVcktngxqcdDjnqaZe+ENEvzdNcWj+Zd3CXUssVxJHIJVQIrq6sGQhQB8pHGfU1tUUdLf1/Wi+4FpsY9p4U0WxaA2liIzb2slpGRI/EcjBnB55JZQSxy2e/Jpml+D9E0S8t7rSrSS2lt7NLFNlzLtMKZ2KyltrlcnDMCRk81t0U7v8Ar+vN/eFv6/r0Rz+qeBfD+s3s13qFnK8s5RpPLu5o1Z0I2PtRwu9cDD43ADGcVYTwpo0a2wWzwLW+fUIf3rnbcPu3P15zvbg8c9OlbFFLYLmBa+CNAstcj1a2spEu4XkeIm6laOIyA79kZbYm7JJAAyeetT654U0fxGyNq9tJIyI0W6K4khLRt95GKMu5DgZVsg46VsUUAc+PA3h1bK4tU08rFcCEPtuJAw8lQsRVg25GUAYZSDxnOaVPBHh+NIlFizGJZlDvcSs7ecoWQsxYs7MABuYk8da36KHruC0tboYd54M0DUITFd2HmIbEaeR50g/0fIOzhvUDnr70698IaJqGrx6nd2bPcxlDxPIschQ5QvGGCOVPILA47VtUU7sVkjFi8I6JDrp1dLNhdl2kGZ5DGrsMM6xFtiuRwWCgkE881DY+BfDunCEW1gxSCGaCJJriWVUil274wrsQFO1fl6DtjJroKKQzn7fwL4etrK6tUs5ZI7sIsxnu5pXKocogd3LKqnooIA545rUt9KsrTVLzUbeHZd3ojFxJvY7wgIXgnAwCemKuUUBYKKKKACiiigAooooAKxvB3/Ii6D/2Dbf/ANFLWzWN4O/5EXQf+wbb/wDopatfA/l+pm/4i9H+hs0UUVBoFFFFABRRRQAUUUUAFFFFABRRRQBjeFf+QPP/ANhK+/8ASuWtmsbwr/yB5/8AsJX3/pXLWzVz+NmdL+HH0QUUUVBoFFFFABRRRQAUUUUAeIeKrOGTVvHt0nhiS6vobiEw69HHBu03FtEd+7eJvl5bCKc/ia27fXtQm8U6jpOm3kdqdR12K3F/b20QkWIWCzFhlCHY7cAuGwD6ACupvvAUN9qGqz/25q1va6uytfWMJgEU2I1jI3GIyKCqgHa479KdJ4A0wyXU1rc3lpcT3kd7FPCybrWVIRCPLDIVxsGCGDA5NOLSVn2X6f5f5lSab0/rTT+vuMC113XtS1C08M/2xLbXS3t7DNqkNvEZZEgCFPlZDGGPmruwuPlOAM8VdVi8RQ+IHmudYWy1ay8MPNPPYQo6TOkpI4lQgKccgAHngiuqPgOzTT7WK11LUrW9tp5bhdTieM3DyS58wtuQod2eRswMDAGBiS38DaVaQmK3e5RDpjaZjzAf3bMWLZIzvJJOentUyvbTf9eVr8xaddr/AIcyf5HEz+PdcvLhJbF9RE1tY2NwthY6S9zFePMoeQSSLG3lgKcL8yYOScjirMmseKJFe/i8QyRI3iV9KW2+yQlFgMpjBzt3F16g7scchq6SX4daZIkES32oRWy20Frc2ySJsvY4fueZlCcjuUK56HI4q6PBuni1FuJrnYNV/tXO5c+b5m/b937ue3XHerdue/S/4XX6XM1zezs97fo/1scNJ4j1Sz8SWdrqFyupnS9YvYFubi1h86SNbHzl5VAFbLbcoFyBz1NbWn3XiuHwk2u3PiCxkhvNIF0H1CNYksrhgGG3y0GYgGP3izZA5OeNo+BNLbXP7UeW5eX7dLfGNmXYXkgEDKRtzt2jOM5z3xxVSH4aaUllNa3F9qN3EbT7FbefKmbOHcGCRkIOhVTl9x+UZJpXVvkvvs7/AI2K1vp/Wun4HF3mvXmpwtp95e3l+mn+JdKEFzfWgt5nWRkY7kCJjBzj5QcY69a7XxbbRat4s8N6LqMYn024NzPcW8gzHcGNAFR1PDD5y2DxlRxxQvw5sTeTXV1q2qXc891a3kzzPF88tufkbCxgDIABAwMDgA5Nbet6DBra2zNc3FndWcpltru1ZRJCxUqSAyspBViCGUj2o+zbz/RL80HW/l+r/wAzzvUNYn8BWvia60l1h0fQNSglbTlCKjQSQpvijyPkwzblAI546GpH8XeIdC097jVtTjvpdU0Jr6wSOOMRxXXmACNGCjcuJogN2c7Se5rrofAuno1u9xd3l3JHe/b53nZD9snCbVaUBAPlAG1VCgEDjisDUPACy6p4Z0m0sruTStGv21EXlxPF5ca/MVtkUHeQG2YBXAVR8xIxQuz8vys/816eZTfVf1rf/gP18ijqWueKo7LVryDXXgOi39npzQ/ZoStzu8gyyNlMhj5pA2kKAOncTWHjLWL/AMWE20mpS2/9q3FhLZLpLm1ghjDqJvtPl4370GR5hGGxtyM1J4r8I6nq/iK5gsLO+t7W+urS4nnju4PskhiZCXkQgTCQKm0BMq2FJI7dIPA9h/bg1A3l8YVuXvE08un2dLhlKtKBt35wzcFtuSTjPNLdX/rp/wAG36dDRK39df8Agf1vzPgzxDr0+oeFDq2sSagmvaTNczRSW8SLDJH5eCmxQeQ5zuJ56Y6VdvPDmi+Ifi5qUevaTZaksWi2vl/a7dZPLJmnyVLA7TwOR6VuaZ4K07SpdCkt5rpjodpJaW291O9HC5L4UZPyDpjvxRqfhE3/AIgk1iy17VNKuZrVLWUWYtyrojMw/wBbE5By7cgiqk1fTz/WxV1Z+dvzRwFt4r1S203SNFi1DU7bamoFbqy097+aVbe48qFGURyHaQRuYgE4HzAmpr3xR4tuNG13VhqM2kS6TotpqA05rOP/AFzRu8kcm9C4UlcYBVh6iu1ufAmnvZafBpt5faU9hDJbxT2kimRo5MGRWMiuG3EAk43ZGQRTf+Ff6MukanpkDXMFrqVhFp7pG4/dRRoyLsJB5wx5OaLrW+//AA//AAP63j7S7HP3Ot69pl/q+nTeIoyPsVndxXl7BGptzNM6OkYjT5zhfkVlYliASao6b4p13Vrqx0mHWb2ANrlxp73s1lFHcyQramZSyNGFRwSP4B05XqK7HVvA2naveTXUtzeQ3EkNtEkkLpmEwSNJG6gqRuDN3yDgcVDpvw/sNO1ZNR/tHUbmdL5tQ/fvGQ0zQmFicIOCpzgcAgYwOKa5bu/9aq34X/4PRSvZW/rTX8f6785oXiPX/Ei6VpI1aS0nI1Brm/it4jJMLa4EKDaylBu3AthR0425rT8IWV5qHwLtLGykiW9uNLeGKSTKoHYMATgEgZPoa0I/h9p9ta28en6jqNlPbzXMqXcLx+bi4kMksfzIV2kkdsjAwc81oWfhPTbPwUnhZvOuNOW2NqfOfLuhBBywA556iolZxa7/APB/zLi7Suc54I0lPCXiNtAm0vQYbiXT1uFvdH0/7IZFRgjJICzFiCQQ27nJ4HfL+IF1qur6b4ujh1OSzsdHWGH7IsMZW5LKkjs7MpbowC7SvIOc9K7bRPC8Wj3st7NqN/ql48K24uL5kLJEpyEUIirjJyTjce5OBVLxB4CsvENxdvJqWpWUd8iLeQWckapc7PuFtyMQR0+UjIwDkCqvdpv+tf8ALT1M7WTX9bf5nPz+J9Vt/HtjZrrLXEN7qMti1rb2oNtboIXZD5xjBM4ZPmXewAP3ehqCw8W+J9SsbSz02QXWsWGnXr36GJB9ouYn8mMEYG0M4ZuNv3cdK6I/D2xTVIb6LUtTVbXUG1K3tEeLyo5n3eZjKZIfe2QzHGflK1R8O+Co7qfxdfa3pctgniWUI1pJOrSJCI9py0bFVLMXbCscZHOaStaz7f1+bfyL0T0/rV/pY0fBmoXl1Pf293rMmprCIyovbcW95Cx3B1kjEaAJlfkYDkZ5OATgeIvD1tL4kkW0f+0PFN1fwXcFyqYk0q1VkBUvn5UIST5eN5dhg8kdfoXhmLRLq4vJNQvdTvbiOOF7m9Me7y03bEAjRFwNzHOMnPJNU4/Bs1trV9qFh4n1i0+33AuJ4I0tGRiFC7cvAzhcKBjdxTuuZNf1t/X4dbk7Jr+v6/4fyONvIYf7PvvFIjT+24PE6WqXm396sIu0h8nd12FCcqOMknGau6LoWn6v4dXxNe3cGn60dVkkOryAeZGqXbKLfcSDsKgR7M456ZrqJPBFhJrD3hvL0W0l2t8+nB0+ztcLjEv3d+cqDgNtyM4zTX8C2D3xdry9+wNdC9Olhk+zGffv8z7m/wC/823ftzzilF2SX9bL/J/02OWrf9d/yv8A1ZE/izT9N1O1tLfVg10qzNLFpayRAaiyxsfKKyEK4xltpIGVBJwDXDaDeaqsGi6Jpl/Noi3Gr38NxarFHJJZRqjSRwDerKCoKEEZXBwMivRNc0GDXIrffcXFpc2k3n213bFRJC+0rkblZTlWIIZSOelUrLwZp9ldWN2Li6murW4lunnldS1zLImxmkwoH3cYChQMDAxxQuv9f1/XmKV2kl/W/wDX9I43S/EniO3i0fUL/Wnvkn1a70ue1NtEiSJCJ9suVUMJCYRnBC8nCirHh/xBr39o+GL/AFfWjNYa1plxqFzatBEq25CxuqoyqG2qHI+Ykk9T2HUw+CdNggsokluWWx1KbUowzr80spkLK3y/d/etgdeBye/EWngPW7rU7WMW95p1lY201mI768hljSKV4wyW5iXcVEavgygNkqOnR6N2/rZ/qW+W9+n/AAf8i74bhlHxN0u7ulZbjUNEuryVWHK+ZcRMqn/dXav/AAGrPiPxBrUU/ifUtP1N7W28MrGRZCGNkuz5YlfezKWA2sFGwrggk56V2DaDat4ng13fKLmCzezVAR5exnVicYznKDvjrxWdq3gix1fUp7qW9voIbwRi+s4HQQ3gT7u/cpYccHYy5HBzRdWiu1/zbX4EdW31/wAlcreFb7VNW8SeIJ7zU5WsrG+NrbWSwxqoUwxPlm27yQWOOR1Oc8Y4y68QXGjeLvEFpa3F3af2l4ijhkubGzN1PEi2CSHZGEfJJUDlCACT2r0/S9FttIudSntnlZtRuvtUocghX2ImFwBgYQdc85rJuvAlhcXl5eQ3t9aXt1fLfrcwOm+3lWIQ/IGQrgoCCGDdT7YV1+CXz0v+TGr2d+7/AFscu/iLxRcaFY3N5dahosSxXIa9fSsebKkpWI3Ebxs0UTIN5IVev3l4Bv3+t67Fr0Ek2qx6fbs9qLZTAGsL1X2+bmfyyyvliEG5MkLwcnGmfh3p8dtbx2OpalYyRRyxTTwSRl7pJX3yCTejDLMScqFIzwRTpPh7pjXC+Rd39tZMIPPsIpE8m4MIAjLEqXGAq/dZc7RnNNWv8/8AP+v06i/r8v8Ag/59uroooqRhRRRQAUUUUAFFFFABWN4x/wCRF17/ALBtx/6Katmsbxj/AMiLr3/YNuP/AEU1XD40Z1f4cvRmzRRRUGgUUUUAFY2h/wDIY8R/9hJP/SS3rZrG0P8A5DHiP/sJJ/6SW9XHZ/11RnP4o+v6M2aKKKg0CiiigAooooAKKKKACiiigAooooAKKKKACiiigAooooAKKKKACiiigAooooAKKKKACiiigAooooAKKKKACsbwd/yIug/9g23/APRS1s1jeDv+RF0H/sG2/wD6KWrXwP5fqZv+IvR/obNFFFQaBRRRQAUUUUAFFFFABRRRQAUUUUAY3hX/AJA8/wD2Er7/ANK5a2axvCv/ACB5/wDsJX3/AKVy1s1c/jZnS/hx9EFFFFQaBRRRQAUUUUAFFFFABRRRQAUUUUAFFFFABRRRQAUUUUAFFFFABRRRQAUUUUAFFFFABRRRQAUUUUAFFFFABRRRQAUUUUAFFFFABRRRQAUUUUAFFFFABRRRQAUUUUAFFFFABRRRQAUUUUAFFFFABWN4x/5EXXv+wbcf+imrZrG8Y/8AIi69/wBg24/9FNVw+NGdX+HL0Zs0UUVBoFFFFABWNof/ACGPEf8A2Ek/9JLetmuWstRurPX/ABFHb6NfX6nUEYyW7wBQfssHH7yRTnjPTHPWtIK6f9dUZVGk4t9/0Z1NFY39uah/0K2rf9/bT/4/R/bmof8AQrat/wB/bT/4/S5H/TQ/aR8/uf8AkbNFY39uah/0K2rf9/bT/wCP0f25qH/Qrat/39tP/j9HI/6aD2kfP7n/AJGzRWN/bmof9Ctq3/f20/8Aj9H9uah/0K2rf9/bT/4/RyP+mg9pHz+5/wCRs0Vjf25qH/Qrat/39tP/AI/R/bmof9Ctq3/f20/+P0cj/poPaR8/uf8AkbNFY39uah/0K2rf9/bT/wCP0f25qH/Qrat/39tP/j9HI/6aD2kfP7n/AJGzRWN/bmof9Ctq3/f20/8Aj9H9uah/0K2rf9/bT/4/RyP+mg9pHz+5/wCRs0Vjf25qH/Qrat/39tP/AI/R/bmof9Ctq3/f20/+P0cj/poPaR8/uf8AkbNFY39uah/0K2rf9/bT/wCP0f25qH/Qrat/39tP/j9HI/6aD2kfP7n/AJGzRWN/bmof9Ctq3/f20/8Aj9H9uah/0K2rf9/bT/4/RyP+mg9pHz+5/wCRs0Vjf25qH/Qrat/39tP/AI/R/bmof9Ctq3/f20/+P0cj/poPaR8/uf8AkbNFY39uah/0K2rf9/bT/wCP0f25qH/Qrat/39tP/j9HI/6aD2kfP7n/AJGzRWN/bmof9Ctq3/f20/8Aj9H9uah/0K2rf9/bT/4/RyP+mg9pHz+5/wCRs0Vjf25qH/Qrat/39tP/AI/R/bmof9Ctq3/f20/+P0cj/poPaR8/uf8AkbNFY39uah/0K2rf9/bT/wCP0f25qH/Qrat/39tP/j9HI/6aD2kfP7n/AJGzRWN/bmof9Ctq3/f20/8Aj9H9uah/0K2rf9/bT/4/RyP+mg9pHz+5/wCRs0Vjf25qH/Qrat/39tP/AI/R/bmof9Ctq3/f20/+P0cj/poPaR8/uf8AkbNY3g7/AJEXQf8AsG2//opaP7c1D/oVtW/7+2n/AMfrJ8KaxfReDdFjTw3qcyrp8CiRJLUK4Ea8jMwOD15APtVKD5X/AJrzM3UXOt9n0fkdfRWN/bmof9Ctq3/f20/+P0f25qH/AEK2rf8Af20/+P1PI/6aNPaR8/uf+Rs0Vjf25qH/AEK2rf8Af20/+P0f25qH/Qrat/39tP8A4/RyP+mg9pHz+5/5GzRWN/bmof8AQrat/wB/bT/4/R/bmof9Ctq3/f20/wDj9HI/6aD2kfP7n/kbNFY39uah/wBCtq3/AH9tP/j9H9uah/0K2rf9/bT/AOP0cj/poPaR8/uf+Rs0Vjf25qH/AEK2rf8Af20/+P0f25qH/Qrat/39tP8A4/RyP+mg9pHz+5/5GzRWN/bmof8AQrat/wB/bT/4/R/bmof9Ctq3/f20/wDj9HI/6aD2kfP7n/kHhX/kDz/9hK+/9K5a2a5Dw3rF9HpUwTw3qcoOoXrbkktcAm6lJHMw5BOD2yDgkYNa39uah/0K2rf9/bT/AOP1U4Pmf+aM6dRckd9uzNmisb+3NQ/6FbVv+/tp/wDH6P7c1D/oVtW/7+2n/wAfqeR/00ae0j5/c/8AI2aKxv7c1D/oVtW/7+2n/wAfo/tzUP8AoVtW/wC/tp/8fo5H/TQe0j5/c/8AI2aKxv7c1D/oVtW/7+2n/wAfo/tzUP8AoVtW/wC/tp/8fo5H/TQe0j5/c/8AI2aKxv7c1D/oVtW/7+2n/wAfo/tzUP8AoVtW/wC/tp/8fo5H/TQe0j5/c/8AI2aKxv7c1D/oVtW/7+2n/wAfo/tzUP8AoVtW/wC/tp/8fo5H/TQe0j5/c/8AI2aKxv7c1D/oVtW/7+2n/wAfo/tzUP8AoVtW/wC/tp/8fo5H/TQe0j5/c/8AI2aKxv7c1D/oVtW/7+2n/wAfo/tzUP8AoVtW/wC/tp/8fo5H/TQe0j5/c/8AI2aKxv7c1D/oVtW/7+2n/wAfo/tzUP8AoVtW/wC/tp/8fo5H/TQe0j5/c/8AI2aKxv7c1D/oVtW/7+2n/wAfo/tzUP8AoVtW/wC/tp/8fo5H/TQe0j5/c/8AI2aKxv7c1D/oVtW/7+2n/wAfo/tzUP8AoVtW/wC/tp/8fo5H/TQe0j5/c/8AI2aKxv7c1D/oVtW/7+2n/wAfo/tzUP8AoVtW/wC/tp/8fo5H/TQe0j5/c/8AI2aKxv7c1D/oVtW/7+2n/wAfo/tzUP8AoVtW/wC/tp/8fo5H/TQe0j5/c/8AI2aKxv7c1D/oVtW/7+2n/wAfo/tzUP8AoVtW/wC/tp/8fo5H/TQe0j5/c/8AI2aKxv7c1D/oVtW/7+2n/wAfo/tzUP8AoVtW/wC/tp/8fo5H/TQe0j5/c/8AI2aKxv7c1D/oVtW/7+2n/wAfo/tzUP8AoVtW/wC/tp/8fo5H/TQe0j5/c/8AI2aKxv7c1D/oVtW/7+2n/wAfo/tzUP8AoVtW/wC/tp/8fo5H/TQe0j5/c/8AI2aKxv7c1D/oVtW/7+2n/wAfo/tzUP8AoVtW/wC/tp/8fo5H/TQe0j5/c/8AI2aKxv7c1D/oVtW/7+2n/wAfo/tzUP8AoVtW/wC/tp/8fo5H/TQe0j5/c/8AI2aKxv7c1D/oVtW/7+2n/wAfo/tzUP8AoVtW/wC/tp/8fo5H/TQe0j5/c/8AI2aKxv7c1D/oVtW/7+2n/wAfo/tzUP8AoVtW/wC/tp/8fo5H/TQe0j5/c/8AI2aKxv7c1D/oVtW/7+2n/wAfo/tzUP8AoVtW/wC/tp/8fo5H/TQe0j5/c/8AI2aKxv7c1D/oVtW/7+2n/wAfo/tzUP8AoVtW/wC/tp/8fo5H/TQe0j5/c/8AI2aKxv7c1D/oVtW/7+2n/wAfo/tzUP8AoVtW/wC/tp/8fo5H/TQe0j5/c/8AI2aKxv7c1D/oVtW/7+2n/wAfo/tzUP8AoVtW/wC/tp/8fo5H/TQe0j5/c/8AI2aKxv7c1D/oVtW/7+2n/wAfo/tzUP8AoVtW/wC/tp/8fo5H/TQe0j5/c/8AI2aKxv7c1D/oVtW/7+2n/wAfo/tzUP8AoVtW/wC/tp/8fo5H/TQe0j5/c/8AI2aKxv7c1D/oVtW/7+2n/wAfo/tzUP8AoVtW/wC/tp/8fo5H/TQe0j5/c/8AI2aKxv7c1D/oVtW/7+2n/wAfo/tzUP8AoVtW/wC/tp/8fo5H/TQe0j5/c/8AI2axvGP/ACIuvf8AYNuP/RTUf25qH/Qrat/39tP/AI/WT4r1i+l8G61G/hvU4VbT51MjyWpVAY25OJicDrwCfaqhB8y/zRnUqLklvt2Z19FFFZHQFFFFABWNof8AyGPEf/YST/0kt62axtD/AOQx4j/7CSf+klvVx2f9dUZz+KPr+jNmiiioNAooooAKKKKACiiigAooooAKKKKACiiigAooooAKKKKACiiigAooooAKKKKACiiigAooooAKKKKACiiigArG8Hf8iLoP/YNt/wD0UtbNY3g7/kRdB/7Btv8A+ilq18D+X6mb/iL0f6GzRRRUGgUUUUAFFFFABRRRQAUUUUAFFFFAGN4V/wCQPP8A9hK+/wDSuWtmsbwr/wAgef8A7CV9/wClctbNXP42Z0v4cfRBRRRUGgUUUUAFFFFABRRRQAUUUUAFFFFABRRRQAUUUUAFFFFABRRRQAUUUUAFFFFABRRRQAUUUUAFFFFABRRRQAUUUUAFFFFABRRRQAUUUUAFFFFABRRRQAUUUUAFFFFABRRRQAUUUUAFFFFABRRRQAVjeMf+RF17/sG3H/opq2axvGP/ACIuvf8AYNuP/RTVcPjRnV/hy9GbNFFFQaBRRRQAVjaH/wAhjxH/ANhJP/SS3rZrG0P/AJDHiP8A7CSf+klvVx2f9dUZz+KPr+jNmiiioNAooooAKKKKACiiigAooooAKKKKACiiigAooooAKKKKACiiigAooooAKKKKACiiigAooooAKKKKACiiigArG8Hf8iLoP/YNt/8A0UtbNY3g7/kRdB/7Btv/AOilq18D+X6mb/iL0f6GzRRRUGgUUUUAFFFFABRRRQAUUUUAFFFFAGN4V/5A8/8A2Er7/wBK5a2axvCv/IHn/wCwlff+lctbNXP42Z0v4cfRBRRRUGgUUUUAFFFFABRRRQAUUjMFUsxAAGST2qsup2D2ttcpfWzQXZUW8omUrMW5UIc4bPbHWgC1RUM15bW9xBBPcRRTXDFYY3cBpSBkhQeSQATx2FTUAFFQpeWsl7LZx3MLXUKK8kCyAuitnaSvUA4OD3wamoAKKKKACiiqKa3pUurvpMep2b6jGm97NbhTMq+pTO4DnrigC9RWfq2v6PoEUcuu6tY6ZHK22N7y5SEOfQFiMmrNtf2l7YJfWd1BcWkieYlxFIGjZf7wYcEe9AE9FRWt1b3trFdWU8dxbzIHimicOjqeQQRwQfUU+SRIo2klZURQWZmOAAO5ND03DcdRVPTNX03WrT7Vo2oWuoW+4r51pOsqZHUblJGaqXPizw7ZasulXmv6Xb6izKgs5byNZizY2jYTnJyMDHOaOtgNeiqWq61pWhWq3Ot6nZ6bAz7FlvLhYlLYzgFiBng8e1Mg8QaNdaYmo22rWM1jI4jS6juUaJnLbQocHBJYgYz1OKANCiiigAoqG6vLaxhEt7cRW8ZdUDzOEUsxCquT3JIAHcmpqACiioorq3mnmghniklgIWaNHBaMkZAYdsgg89qAJaKzpvEOi22sRaTcavYRalMMx2clyizOPZCdx6HtWjQAUUUUAFFFFABRUP2u2N6bMXEX2oR+aYN43hM43beuM8ZqagAooqte6lY6aitqN7b2it0M8qoDyB3PqQPxFAFmiiigAooooAKKKKACiiigAooooAKKKKACiiigArG8Y/8AIi69/wBg24/9FNWzWN4x/wCRF17/ALBtx/6Karh8aM6v8OXozZoooqDQKKKKACsbQ/8AkMeI/wDsJJ/6SW9bNY2h/wDIY8R/9hJP/SS3q47P+uqM5/FH1/RmzRRRUGgUUyf/AI95P90/yrxLwfaWH/CK+Frrwnoc9jq9vEJtR1JNMktUeIRPuDysirPubbgAvzhu2aV7Xb6f8ErlurnuFFea6PqXiLVNL8KWc3iO5ju9dsm1C5vI7a3DQqkcf7uJTGVGWkBJYMeuMcYj07XfEniO+0+yi1t9NKWV99plt7aJmmmt7lYVYB1YAHkkD14xwauUXF2fn+F7/kQneKl6fienUV5Dq/j/AFkeFLLXotVFtKukQXx0+ytRMZZGJ3mcmNvKiIXCkMpJ3cnAFaGq+IPEbvd6vZaw1pa23iC20tbAW8TI8JliR2LMpfeS55DYC9s80cr5uX+t0vzY3pv/AFpc9OoryrUfEmrP4iOmnXpZotSkvrVks7VDb2gjjdo/LleL5pRsw6lnAJIwOK57wzrWoeHvD+lC1uFnmfwrY+RNPbRF4XmuBGo3KisUXdkKSemTk5NJK/4fim/0B6X/AK6pfqe7UV5lq2veINFvLvQV1ua5njvNM8vUJraHzPKuZjG6FVRUJGw4O0Hkema6TwVqV/dTa/p2p3smoPpOpG1juZo40kkQxRyDcI1VcguRkKOAKajdN/10/wA0Juzt/XX/ACOporzW01zX7mPSdUl1qZbbXdQnsRaRwQgWaYl8p4yULFx5YJ3llOTwMU/4Y6BFP8GxbTSvO2sRzvcPJHGrMz7lJJRV3HjOWy3vjAEPRN9v6sVpdL+rdz0eivF7DUbqfVPC3iC5ndIvD1pa2F6o5UyXOYpc+6ssR/GszW5Gi8IBlWIrq/h7WtTkd4E8zMro64cjco2uBgEA4GegxfLrp5/hd/igim2k/L8f8me90V5D4iu9V1nw/qjjUXtrHSr/AE+zWxWKMrPzbuzuxXfnMnG1gOOQc10/xCO3WfB5GMjVnPIz/wAus9KS5f69P8xR95Hb0V8/6Ve3NkbPxVNcefPpngxb61tPstusMUjFkKoqxAopwCdhBPTO35a9O8D6xqd9qGoWl9Nql9aQwwSw32paU9kzu24SRgGKMMF2qQQvRsEmm4/r+Da/QTdn934pP9TsqK82u/FWqWfj6zthq7XUF3qUtk9pBag20EYhd1/fGMEzBk+ZQ5AB+6ODWZpfjPxBpul6Nqmp6pLqg1Lw/dajLbvbxIsckKIw2bFDc7jnJPtjpU/Z5v62b/QtRbdl/Wtj1yivPPD1vqcPxKspdX1aTU5bjw+0uXhjjETGaMsq7FHydMZy3qxqtd6dp198WtaOo+Cx4iZYLIJctBayC04k5/fOrD1+QHp9Kdtvn+Da/Qy5r3+X4pP9T0yivJtP1jWv7ILQXc2lWA1LUxNe6fp0UmyRLkrEsiCNsIQWLPtz8uSw5JqavqmsWl34n8R2GsxwXVj4f0+8cWKRy2904ExI3OhPlnnG3a3I5pqN1ct6O39b2PZKK8wl8a6zceL7lLE6lIlnqdtZf2fb6U8tvJE6xmWV5xEQjL5hIHmAAJyDmqUet6xJ/wAI7q2qaiL0Ta/eQLbvaQbYY4lugpRtm4OQgBYN0GO5yracz2/4b/MN9F/W/wDkeuUV5NoHjHxVq2mm405dS1Ca+0hr1RcaQ0ENpcZTbFFI0aLKpV2xlmJ2Z3YNdn4Mv7m7S/iuNYfVEhlURtd2/wBnu4srys0QjjC852kKMj8y3Frf+tbCujpqKKKkYVjeDv8AkRdB/wCwbb/+ilrZrG8Hf8iLoP8A2Dbf/wBFLVr4H8v1M3/EXo/0NmiiioNAooooAKKK80j8K6HrviTx3c6pplpNdxXUYhvWhXz7fFpEQUkxuQg8jBHNJu12+iuVGNz0uisbwdfXOp+CNEvr85ubmwhllJ7syAk/nWzVyjyycX0Ii7pMKKKKkYUUUUAY3hX/AJA8/wD2Er7/ANK5a2axvCv/ACB5/wDsJX3/AKVy1s1c/jZnS/hx9EFFFFQaBRRRQAUUUUAFFFFAHkumXF7awaNqZ1fULubUtYv7G5jnu5JIjCPtJVRGSVUqY15ABxwTiquh3GvP4F+Hkd7punRacLqw8u4i1CSSZhsO3MRhUDPf5zj3rs/Cfw/stEjNxqESz6ibm6lDrcyvEgmldsqjEKrlGClgoPUZIrdi8N6TDpem6dHa4tNLaN7OPzH/AHRjGE5zk4Hrn3qk0vvi/uYnrFrya+85vx3p8WqeL/BtrcXNxbo15cZa2naGRv8ARn+UOpDLn1BBrjBrOu6i39lq2uXyafDqHkT2F/HA++K5aKKSaSSWPzFVV5BLA5ywNera34a0rxEbVtVgkkezdpLeSK4kheJipUsrRspBwTzniql14F8O3djaWktgyxWaNHF5NzLExRuXVmVgzqxGWDEhjyc1P9fh+hX/AAP+G+Z5fd213Lr/AIh8QQXd9HqlpoWmakwtNSlMcjKZHkTCuUdGVCAMFeSR1JMuneK9U1nxO9jDqV00GuatHfaeYp2G2yhMgcKQfuN9nXIGB++9+fVf+EX0gas+opalLiS0Fm/lzOsbwjO1WjB2HG44JGRk4NRad4O0DSZ9Nm0/Tkhk0u1azs23ufKiYgleTznaOTk9eeTVuSb00/q/6L8Sbe7b+tkv8/nY8ptvFPiW08Mv4gjj1SGa80W7upWv7+GSKWYbWja3g85mUJkggIgwRu5q9Pd61axzad5utaZbPe6VsW+1aOa7HmzlJTlJpGWNwBjJAzuAHFei2vgjw9aXNzPFpwY3MbxOks0kkao5y6pGzFYwx5IUAHvTbXwP4ftLcwxWUjgzw3Bea6mlcvEd0XzuxbapHC52j05oi0mrrt+dxz1Tt5/kZ/gKaZLvxNpj3NzcW+m6sYLY3Vw88ixmGJ9pdyWb5nbqT1xXI6HaXUVvoGtXl8bvzfEVwhsjGirE7yzJ5isoDlwOCGZlK5G0YBHqNjpFjptzfXFlB5UuoT/aLlt7HzJNqpnk8fKqjAwOKpw+EtFt9bOqw2jLdeY0oHnyGJZGGGkWItsVzk5YKGOTzyaV9U/Jfha/39/mJrRpef43/wAyj4k0N9Y8SaVLaeJZdHu7SC4aOG3jheWUNsBbEqsNq4AOF/iHI7x6Vfz+Jfhi9xqjETTW08U0lszQ7yhZN6lTlc7c8HjPWrUvgXw9LY29oLOWGO2eWSF7e8mhkQysWkHmI4faxJJXOOnHArZttPtLPTY9PtLeOG0ij8pIUXCqmMYA9MVEleDiUnaSfY8h8F2T33hnRtL/ALT1SytbTwvBqERg1CZC08m4FiQ2SqbBiM/IN33eldRrOpS6x8CVvdRJS51HTINwCA7pZQoCkZHylmAPPQmtf/hXfhr+zrWxFncLb2iNFCF1C4DCI4zEWD5aPgfuySvHSt260yxvdLfTbq1ilsnj8poGX5SvYYrScua7XV/q/wDNfcSlZr+ui/yb+ZyPhBrxfHviBNatbey1KW1s5Db2UxlgMQEiq4cqhLkhgQVGAq4JqnqsF34Zu9W8TaR4kN0lxq9uLnTBDC0I3GKBoy2DIJAMEfMAOPl9ekTwP4fTTbmxezlniu2jM73F3NNLJ5bBkBldy+FI4GcD8all8HaHNrZ1WSzY3LSLMy/aJBE0ijCyNDu8suMDDFd3A54pX95P+ugW0sZ3jP8A5Dvg7/sNf+209cp4subnS/EfiBtJnktEkutFaU27lCZXuSkmcf3owgPqMV6Jrfh7TvEUNvHqiTn7NN58L291LbvG+0rkPGysOGI696rJ4M0JNLewNm8kMlzHdSNNcyySyyoysjvKzF2IKr1J4AHTiiLs1fv/AJf5FS1Wna35/wCZyFpc3tr4hM93rN1DcXV1eRRXDXX2jT7oASGOJVD7YHjCAsdgyVYZYk4zxqmoaH4a1Vl1PUodRbSUm2Xlx9rjdywVryCXeyhPnzsAUDCnaO/fQ+DNBt9VfUY7EmZ3eTY88jQo7gh3WIsY0ZgTllUE5Oepptj4I8PafBcwwWBkiuYTbyJczyTgQn/lkokZtif7C4HtUr+vx/r+kKWruv61X9f8DQ888XxyaRcXWhQ317eWKy6Pdr9tupLh4pGvdjfO5LYYIDjOBg4xTJ/EOtWT3+lQX15NdeGP7UvZmaZmMqBN1qkhJywxODg5H7v2r0SHwL4fhspLX7HLKks0MzvcXk00jNEwaPMjuWwpAwucdeOTV9PDulR6vf6mtlH9s1GJIbuRiT5qICFUgnGME9Bz3p3923r+St91hpq6du3/AAfv39Ty5dT13T7Oe1D6vYQXyacjSalqUU9wjTXAjllj2TSMisrDH3QCPlArrvA9hHpnizxfawz3E8aXdvta5neZwPs6cF3JZvxJNatp4G8PWdld2kVgzxXiLHL51zLK2xeURWdiUVTyqqQFPIxVvRPDWl+HTdHSoZUe8cSXEk1zJO8rBQoZmkZiTgAdad1r/XbT5E/1/XqefXMav8HfGl1Og+3fbdQlZmHzCWOZvJP1AWPHpxim3F7qFz8VB4SfWr2HTbpRftLHNIrrP5R/0RZB90HHnbQc4BGMGu7uvBmhXmqNqFxaSGV5FlkjW6lWCWRcYd4QwjdhgcspPA9BTpvCejtDJssQ8rXv9ohmuJAxuR0ffksOAFwONvGMcUrqyv8A1t/w/wAkinq3bz/H+rfNs8zh8WazN4evJ7fUJ2vfC/h+eO8LSEh7ze0YdxnDECB25/v570/xBcal4Y1e5sNK1XWL6K5sdOUxNftLKpmuzHI0byONrMvAJYAHGCABjt/D/hO40/TvEEt5Fp6ajr1xJcTRIGmt0JQIqHIVnHGTwuSx6Vm+HfhykU+oS+ILO2WO7tIbMWsGoXF1hY2Zw/nS4dTkjao+5tGD6O92m/V/jdfe7C0s7fL8LP7lcxI59Vnk0/Sbu41XT7ZvEhtlhfVRJdrbmzaTy5ZYpXYHdkjL7sbTnoa6fwPq7W/g/VJ9Vu5pYNK1C+i864kaVxDFK2NzNlmIUYySScda2bTwjollHapBaOTa3RvI5JLiSSQzFShdnZiznaxHzE9vQVe0zSbLR4ZotOh8lJ7iS5kG9m3SO2525J6k5x0pN6WXb/L/ACf3j0sv6/m/zX3eR4xZeIrC+1rxDrNnrtnLq2oeGbi422d8jvbFSTHENrHDIgBOO+496310mdtVhsn13XWhufDpvpcapMGNwpUCQMGyn3jlVwp7g16He6Bpmo3FxNeW3mSXNm1lK3mMN0LHJXg8deo596UaDpouo7gW372O0NkreY3EJIJXr7Dnr71PSy8//brfmvu8hPe/n/8AI/5P7zyK81PVtd8C6zq93rmoWl3pnhu0ubY2l28AMskLO8jKhAYsRtG4HGPlwea2fH+7UtC1i9kyyadHZWcRIOfMeeGSU+/HlD8DV/xT8Nm1aNNN0u0sYdNOnpp4mN7cxTQRrkAFFJS4AB+USY2nJyc11EPhOxfw7LpGq5v4Z5zPMSWj3t5m9funIC4UDnoorWUk3dd/1/yJSaik/wCtv1RS8ZzTyXvh7SUubi1t9T1Aw3MltM0UhRYZJNgdSGXJQcgg4zzXK2TXt/4g0vQrjVtTNlb6nqFsZI72RJLiKNFZFeRSGbaWxuzu+Xk8nPo2raNY65Zi21KJnRXEiNHK8UkbjoyuhDKfcEGq9j4X0fTvsP2Oz8s6eZDbsZXZgZPvsxJJdm6ktk55rNaf16f18ypXaVv63/zX3GN4wilu/E3hfTlvr21trq4uFuFtLl4WlUQMQpZCG64OQQRjg1x+kXOo2EOhakNX1S6nbXL3TXS4vJJI5beL7QEUoTtLDyk+cjee7GvVbnTLS7vrO8uIt9xZMzW77iNhZSrcA4PBI5zVOLwto8MdqkdnhbS8kvoR5rnbPJv3v15z5j8HjngcCn0Grdf60f62POLa+1Gz8P6Lq0er6hPc69ot1PeLJdu6LIIPNWSNScRbT8vyYHIzkjNR3jarHFpdjayeIr8yaEdSea11URuLlgqiR2lmQeWuM+WMp8xJWvQrXwP4fs5riSCxcG4he3Kvcyukcb8ukasxEQPcIFzgelP1Hwboeq29nBe2jlLOLyIfKuZYmEWADGzIwLIQoyrEg4GQaT1ba0/T4v8ANfd5IWun9dv8mvmXtEuZ7zw/p9zdmM3E1tHJKYnV1LFQThlyCM9xxV6mxRJDCkUKKkaKFVVGAoHQCnU5NNtomKaikwooopFBRRRQAUUUUAFY3jH/AJEXXv8AsG3H/opq2axvGP8AyIuvf9g24/8ARTVcPjRnV/hy9GbNFFFQaBRRRQAVjaH/AMhjxH/2Ek/9JLetmsbQ/wDkMeI/+wkn/pJb1cdn/XVGc/ij6/ozZoooqDQRlDoynowwazdK0G10fwxb6FbSTNa29sLZHkILlcYySABn8K06KN00O7Rzcngq0/sfR7Gy1C/sZdGhENpewNGZlTYEIO9GRsgDOV68jBArEufAEo8TaSmlXd/p2nWel3MD3ltNH5rSSSxsQ29WyWw5J28HoQcV39FO7bu/6umv1JsrWRxmofDDR76zks7e71DT7Oawj0+a3tJECyxR58vJZGbK7j0Izn5gRWLrHgzVL7xILe1g1GKybUbS+muDd27WsxhMZaRk2iVZSI9u1f3fRutem0U1JqXN/XcLaWOQX4cacmoW1yup6mIrW6mube18yPyojMGEqj5NxVt7Hkkj+EgcVHY/DDSLSx+yS3uo3cY05NNj86SMGOFH3pgoi/Mpxhj6DOTzXZ0VP9f194/6/X8zl08B2TRub7UdQv7uS7t7qS8naISOYGDRoQiKoUEdAo6nnJzWrpOg2uj32q3Vs8zvql19qmEhBCv5aphcAYGEHXPOa06Kd3/Xy/yQrL+v68zmbLwLYWWrRXa3t9Lb208tza2EjoYLaWTdvdcIHJO98BmIG44ArU8P6HbeG9AtdIsXlkt7VSqNMQXOSTyQAO/pWlRSH5nKf8K60T/hGte0P/SPsuvTzT3Tb13q0nXYduABgYyDj3p+seANJ1q3hhuJbqGOHS5tLRYXUYhlCBjyp+YBBg9OvBrqKKNv68rfkO+t/wCu5yWpfDvT9SlkI1HUrWCeSCW4treSMR3EkO3Y7ZQtnCKDggEDkVsaz4etNcudNmu5JkbTrg3EQiYAMxjePDZB4w56Y5xWrRRvoJabHJ2Pw50WytFtS91cQDRxo7JNIvzwAk5O1Qd3J5GB7Vo6D4Yh0K5ubtr+91K8uUjie6vWQv5cediDYqjA3MemSSck1t0U7v8Ar7w/r+vuRyL/AA7sG1SK8TVNTjSDUG1GC1V4vKilfd5mMxliH3tkMTjPy7antvAOkW0OkQl7maLSbCWwiSVlIlikCht+FGThB0x1PFdPRS6W/rsO7vc5rQ/BVvoesrqQ1XU7+aOz+xQreSRlYodwYKNqKTjH3iST3JrVtdGt7TXL/VY3lM9+kSSqxG0CMMFwMZ/iOck1oUU7smyORHw7sYVjbT9U1OwuEmupPtEDxFytxJ5kkZDxsu3cBjjcMDnrTpPhzoraTqWmxPdQ2uo6bDpjqkgJjiiDhSpKn5sOck57cV1lFF2lYfW5zM/gTT7jV/tjXl8sDzw3U1grp5E80QUJI2V3ZGxOAwB2jINOi8DaZFb6ZCJrpk02/mv4tzr88kvmbg3y8r++bAGDwOT36Sii7tYDj4PhrpEdvLb3F3qF3B9jaxto5pVxZwMwYpGVUHqq8sWPygZxWzofh2PRZrq4e/vNSvLvYJrq8Kb2VAQq4jRVAGT0Xvzmteii7FZbhRRRSGFY3g7/AJEXQf8AsG2//opa2axvB3/Ii6D/ANg23/8ARS1a+B/L9TN/xF6P9DZoooqDQKKKKACuVvPAkd1qWqXMev6vaQas6te2du0AjlxGsZG4xGRcqoB2uD6EV1VFA7tbEdvbxWttFb26LHDEgSNFHCqBgAfhUlFFG4tgooooAKKKKAMbwr/yB5/+wlff+lctbNY3hX/kDz/9hK+/9K5a2aufxszpfw4+iCiiioNAooooAKKKKACiiigAooooAKKKKACiiigDhviTdrb3HhmK5uNUis7jU2juU0t7lZpV+zysFxb/ALwjcFOB6c8VSHiq50e7vINJDroek6QNUlOqx3Ul7KC826PM7h1z5fBcHHoQRjsNY0L+1tU0W8+0eT/ZV41zs2bvNzE8e3ORj/WZzz0xVW+8JQalrOrXl3OWg1TS006SAJgqoMhLbs9/MxjHGKH8On9aaFrlvr5fnr+BxMfxbaHTb4z6p4evpkitHiurKX/R7Yzy+WUmPmN/qz8xO5dw7LXX+B/FI8UWOoZvLC/fT7w2rXmnHMFx8iuHT5mxw+CNzYIPNUm8DapeafLFq3iRrmdBbixaK1McVu0D70doy7B3JA3EFcgYAWt7RdK1DT7S7Opas1/e3cplaXy2SKI7QoWOMu21RtBxuOSSc81Wmv8AXa36/wDBM9dP66anE6VrmoP8UX1GXUZ30XUru40i2tSxMSSQIrBwOgYslwCe+F9KdZ+MfF14ujTD+xY4tavrmxiU20pNuY/NKysfN+cFYjlAF5P3u1Xbf4T6PZ6Lpy2iWcOvWU8Vy2uLYoJ55Ffc5Y53EP8AMCNxwG74rSs/BH2S20CL+0N/9j6hPe58jHneYJRt+98uPO68529OeBWsk+mn/B/MHfmbX9b2/QxrLxj4l1S40nTrUaVBeXE2oW91cSQSPGGtnCB0jEgOG/uluM9eOWab4911YdH1DW4tNFjqJuoZIbaOQSRSQJIxfezEFW8pvl2gjI+Zq3NK8Ef2ZrFpf/2h5v2a4v59nkbd32qQPjO7jbjGe/tUUPgGNLHRrWa/82PTLm6nceTjzhOsqlfvfLjzevOcdBniXtpv+pTtzaba/wDAMafx14j0vRTfarDprPe6JcapYxwxSKIHiRX8qQlz5nDj5l2dDxVfWfGeuWUkun6oLGaXOmXUT2Ynt9iT3QjZGIlyxGOuQGzgrjIOofhxd3OlyWOp68tykOkzaVp7rZ7DBHIoUvJ+8PmPhFGRsHB45qfWvh1/bGqfbP7U8n/R7GHZ9n3f8e1x52c7h977vt156VouXmXa/wCF3/wP6uH2Nd/10/4P9WI4PGmpR+P7XRdRfTFS+uJ4Y7GE77m3VFZklkcSFcOEJC7VIz1ODWz4iu5n1zQtHt5ng+2XDzztG5VjFCu4qCOeXMYPqMjvWPZ/D68stb067j1qE2unajcX0MBsfnfzw/mK8nmfMf3h2sAMAYIbrWn4lQWfiXw9rUg/cW80tpM3aMTqArH23qi/8CqO39f1qJ7vt/X6f1cwf+E+1a08TS6dexadcyPBeSxaZZnfc25hGUWRw7AmReQNqkZxzW34N13U9a+0G+m0y+txGjx3enfIqSHcHgeNpHYOmBknGc4wCCKyoPhtewXliy+IdlvY/a0gWGzMcwS4B3EyiT/WBiCHAA45XPNbXh/wze6ZrFxqur6nFqF5NbR2oeC08gGNCSC+Xcu+WOWyB6AUo+f9b/8AAB7f15f8H+tTkF1rVNN+JviZrnUbmTSrqUWEELSMUtJxaJKhTnC7syA4xyFrU8D6tdo/hyC9u7i6Gs+H4rrM8pciaJYw7ZJz8wlUn3UnqTWjqvgKPVbHxNbyX7Rtrk8dxFKsXzWkiRoiMOfmIaMN29Pequg6KLTxVo1hDP8AaI/DOi/YpZwm0PJJ5eBjJwdsO4jJxvX1qoWtZ+X5P9f0HOzd1/Wq/r7yT4ky63a6TZXWk6sljapf2i3MaQMZpg1xGu0ShwEXB5G05HGRmuk16DUrnw/ewaFcR2uoyQslvPL92NzwG6Hp16GofEuh/wDCQ6OLH7R9nxcwT79m/wD1UqyYxkdduM9s96r6/our6vDfwWOvHT4LqxNtGgtQ5hlLHMoYMrE7Tt25GOuan7NvN/kh6bmV4SV4PFurWumahfX+jQQRI0t3dPchbsM4kVJHJPChdyg7QeAAcis3VvGfia0utfuLKPSmsdG1O3shBLFJ5s6yrDk+YHwhUy5+62RxgYyep8N6Vq2j2yWd9eaTLZQxCO3g0/THtfLx7tPICMdsD61n3ngf7Xba9D/aGz+2NRgvs+RnyfLEI2fe+bPk9eMbunHNaX1/rVfpclf1939fMy5vGHiCzv7jQZ/7Nm1dtRt7O2uo7eRYAssTSlniMhYlVR+A43cdKfB4i1rU9D1HT9Qa3g1M6wdJhlsd0eUwrNKMsSGEZduvGAO2ak8U+HGtp77XYJ7prmS8tbmA21gbk2zRKULNGrBpVKsQQuGweKqeA9F1g6tPqWsRyfZ5Lu5vYpJ4PIeR5NiKfKJLR4RHwrcgOAeQaUNXr/Xw/wDBFK+lv6+L/gf8A0fA+rTL4N1W/wBSuJrkWmpahl5ZC7COOeTCgnsAMAdqybjx14j0vRTfarBprve6JcapYxwxSKIHiRX8qQlz5nDj5l2dDxXWaD4Yj0bQb3S5rj7VHeXV1O7eXswJpGcrjJ6bsZ746CufPw4u7nS5LHU9eW5SHSZtK091s9hgjkUKXk/eHzHwijI2Dg8c0f5fo/1sXG3Prtd/np+FzU1S71eP4YatfX9zCl+dNnnR7FHiEP7olQCWJLD+9xnrgVyKfFF7Ca0tJNS0kfZEsILizvJT9tvGnSMtJH844USA/dbcQ3I616Jqej/2j4Uu9F8/y/tFk9r52zO3chXdtzz1zjNc/D4EvrKdU03X2s7OYWxvkityJZmgVVBSQOPLDKihgQ2RkAjNCtzvtp+v6EfYV99f0/4JFpvi/WbzXbqPybGaCGW4jk02PMd5arHuEcr7n+dZCnG1BjcOWwTVvwV4i1XXmd7+TTLq3aBJPMsMo1rKfvW0qM7NvUY+bC55+UUz/hCb6fWoLi/1+S4tLO4nuLRfIIuYmlV1Kmcucooc7VCrjC8nFWfD/hW+0zWP7S1fV01K5jsxZROlqYWaMMDulJdjJJx975R14GaFb+vn/wAD+roJb6f1t+n9X1OnooopDCiiigAooooAKKKKACiiigAooooAKKKKACsbxj/yIuvf9g24/wDRTVs1jeMf+RF17/sG3H/opquHxozq/wAOXozZoooqDQKKKKACsbQ/+Qx4j/7CSf8ApJb1s1jaH/yGPEf/AGEk/wDSS3q47P8ArqjOfxR9f0Zs0UUVBoFFFFABRRRQAUUUUAFFFFABRRRQAUUUUAFFFFABRRRQAUUUUAFFFFABRRRQAUUUUAFFFFABRRRQAUUUUAFY3g7/AJEXQf8AsG2//opa2axvB3/Ii6D/ANg23/8ARS1a+B/L9TN/xF6P9DZoooqDQKKKKACiiigAooooAKKKKACiiigDG8K/8gef/sJX3/pXLWzWN4V/5A8//YSvv/SuWtmrn8bM6X8OPogoooqDQKKKKACiiigAooooAKKKKACiiigAooooAKKKKACiiigAooooAKKKKACiiigAooooAKKKKACiiigAooooAKKKKACiiigAooooAKKKKACiiigAooooAKKKKACiiigAooooAKKKKACiiigAooooAKxvGP8AyIuvf9g24/8ARTVs1jeMf+RF17/sG3H/AKKarh8aM6v8OXozZoooqDQKKKKACsbQ/wDkMeI/+wkn/pJb1s1y1lqN1Z6/4ijt9Gvr9TqCMZLd4AoP2WDj95IpzxnpjnrWkFdP+uqMqjScW+/6M6misb+3NQ/6FbVv+/tp/wDH6P7c1D/oVtW/7+2n/wAfpcj/AKaH7SPn9z/yNmisb+3NQ/6FbVv+/tp/8fo/tzUP+hW1b/v7af8Ax+jkf9NB7SPn9z/yNmisb+3NQ/6FbVv+/tp/8fo/tzUP+hW1b/v7af8Ax+jkf9NB7SPn9z/yNmisb+3NQ/6FbVv+/tp/8fo/tzUP+hW1b/v7af8Ax+jkf9NB7SPn9z/yNmisb+3NQ/6FbVv+/tp/8fo/tzUP+hW1b/v7af8Ax+jkf9NB7SPn9z/yNmisb+3NQ/6FbVv+/tp/8fo/tzUP+hW1b/v7af8Ax+jkf9NB7SPn9z/yNmisb+3NQ/6FbVv+/tp/8fo/tzUP+hW1b/v7af8Ax+jkf9NB7SPn9z/yNmisb+3NQ/6FbVv+/tp/8fo/tzUP+hW1b/v7af8Ax+jkf9NB7SPn9z/yNmisb+3NQ/6FbVv+/tp/8fo/tzUP+hW1b/v7af8Ax+jkf9NB7SPn9z/yNmisb+3NQ/6FbVv+/tp/8fo/tzUP+hW1b/v7af8Ax+jkf9NB7SPn9z/yNmisb+3NQ/6FbVv+/tp/8fo/tzUP+hW1b/v7af8Ax+jkf9NB7SPn9z/yNmisb+3NQ/6FbVv+/tp/8fo/tzUP+hW1b/v7af8Ax+jkf9NB7SPn9z/yNmisb+3NQ/6FbVv+/tp/8fo/tzUP+hW1b/v7af8Ax+jkf9NB7SPn9z/yNmisb+3NQ/6FbVv+/tp/8fo/tzUP+hW1b/v7af8Ax+jkf9NB7SPn9z/yNmisb+3NQ/6FbVv+/tp/8fo/tzUP+hW1b/v7af8Ax+jkf9NB7SPn9z/yNmisb+3NQ/6FbVv+/tp/8fo/tzUP+hW1b/v7af8Ax+jkf9NB7SPn9z/yNmsbwd/yIug/9g23/wDRS0f25qH/AEK2rf8Af20/+P1k+FNYvovBuixp4b1OZV0+BRIklqFcCNeRmYHB68gH2qlB8r/zXmZuoudb7Po/I6+isb+3NQ/6FbVv+/tp/wDH6P7c1D/oVtW/7+2n/wAfqeR/00ae0j5/c/8AI2aKxv7c1D/oVtW/7+2n/wAfo/tzUP8AoVtW/wC/tp/8fo5H/TQe0j5/c/8AI2aKxv7c1D/oVtW/7+2n/wAfo/tzUP8AoVtW/wC/tp/8fo5H/TQe0j5/c/8AI2aKxv7c1D/oVtW/7+2n/wAfo/tzUP8AoVtW/wC/tp/8fo5H/TQe0j5/c/8AI2aKxv7c1D/oVtW/7+2n/wAfo/tzUP8AoVtW/wC/tp/8fo5H/TQe0j5/c/8AI2aKxv7c1D/oVtW/7+2n/wAfo/tzUP8AoVtW/wC/tp/8fo5H/TQe0j5/c/8AIPCv/IHn/wCwlff+lctbNch4b1i+j0qYJ4b1OUHUL1tySWuATdSkjmYcgnB7ZBwSMGtb+3NQ/wChW1b/AL+2n/x+qnB8z/zRnTqLkjvt2Zs0Vjf25qH/AEK2rf8Af20/+P0f25qH/Qrat/39tP8A4/U8j/po09pHz+5/5GzRWN/bmof9Ctq3/f20/wDj9H9uah/0K2rf9/bT/wCP0cj/AKaD2kfP7n/kbNFY39uah/0K2rf9/bT/AOP0f25qH/Qrat/39tP/AI/RyP8ApoPaR8/uf+Rs0Vjf25qH/Qrat/39tP8A4/R/bmof9Ctq3/f20/8Aj9HI/wCmg9pHz+5/5GzRWN/bmof9Ctq3/f20/wDj9H9uah/0K2rf9/bT/wCP0cj/AKaD2kfP7n/kbNFY39uah/0K2rf9/bT/AOP0f25qH/Qrat/39tP/AI/RyP8ApoPaR8/uf+Rs0Vjf25qH/Qrat/39tP8A4/R/bmof9Ctq3/f20/8Aj9HI/wCmg9pHz+5/5GzRWN/bmof9Ctq3/f20/wDj9H9uah/0K2rf9/bT/wCP0cj/AKaD2kfP7n/kbNFY39uah/0K2rf9/bT/AOP0f25qH/Qrat/39tP/AI/RyP8ApoPaR8/uf+Rs0Vjf25qH/Qrat/39tP8A4/R/bmof9Ctq3/f20/8Aj9HI/wCmg9pHz+5/5GzRWN/bmof9Ctq3/f20/wDj9H9uah/0K2rf9/bT/wCP0cj/AKaD2kfP7n/kbNFY39uah/0K2rf9/bT/AOP0f25qH/Qrat/39tP/AI/RyP8ApoPaR8/uf+Rs0Vjf25qH/Qrat/39tP8A4/R/bmof9Ctq3/f20/8Aj9HI/wCmg9pHz+5/5GzRWN/bmof9Ctq3/f20/wDj9H9uah/0K2rf9/bT/wCP0cj/AKaD2kfP7n/kbNFY39uah/0K2rf9/bT/AOP0f25qH/Qrat/39tP/AI/RyP8ApoPaR8/uf+Rs0Vjf25qH/Qrat/39tP8A4/R/bmof9Ctq3/f20/8Aj9HI/wCmg9pHz+5/5GzRWN/bmof9Ctq3/f20/wDj9H9uah/0K2rf9/bT/wCP0cj/AKaD2kfP7n/kbNFY39uah/0K2rf9/bT/AOP0f25qH/Qrat/39tP/AI/RyP8ApoPaR8/uf+Rs0Vjf25qH/Qrat/39tP8A4/R/bmof9Ctq3/f20/8Aj9HI/wCmg9pHz+5/5GzRWN/bmof9Ctq3/f20/wDj9H9uah/0K2rf9/bT/wCP0cj/AKaD2kfP7n/kbNFY39uah/0K2rf9/bT/AOP0f25qH/Qrat/39tP/AI/RyP8ApoPaR8/uf+Rs0Vjf25qH/Qrat/39tP8A4/R/bmof9Ctq3/f20/8Aj9HI/wCmg9pHz+5/5GzRWN/bmof9Ctq3/f20/wDj9H9uah/0K2rf9/bT/wCP0cj/AKaD2kfP7n/kbNFY39uah/0K2rf9/bT/AOP0f25qH/Qrat/39tP/AI/RyP8ApoPaR8/uf+Rs0Vjf25qH/Qrat/39tP8A4/R/bmof9Ctq3/f20/8Aj9HI/wCmg9pHz+5/5GzRWN/bmof9Ctq3/f20/wDj9H9uah/0K2rf9/bT/wCP0cj/AKaD2kfP7n/kbNFY39uah/0K2rf9/bT/AOP0f25qH/Qrat/39tP/AI/RyP8ApoPaR8/uf+Rs0Vjf25qH/Qrat/39tP8A4/R/bmof9Ctq3/f20/8Aj9HI/wCmg9pHz+5/5GzWN4x/5EXXv+wbcf8AopqP7c1D/oVtW/7+2n/x+snxXrF9L4N1qN/Depwq2nzqZHktSqAxtycTE4HXgE+1VCD5l/mjOpUXJLfbszr6KKKyOgKKKKACsbQ/+Qx4j/7CSf8ApJb1s1jaH/yGPEf/AGEk/wDSS3q47P8ArqjOfxR9f0Zs0UUVBoFFFFABRRRQAUUUUAFFFFABRRRQAUUUUAFFFFABRRRQAUUUUAFFFFABRRRQAUUUUAFFFFABRRRQAUUUUAFY3g7/AJEXQf8AsG2//opa2axvB3/Ii6D/ANg23/8ARS1a+B/L9TN/xF6P9DZoooqDQKKKKACiiigAooooAKKKKACiiigDG8K/8gef/sJX3/pXLWzWN4V/5A8//YSvv/SuWtmrn8bM6X8OPogoooqDQKKKKACiiigAooooAKKKKACiiigAooooAKKKKACiiigAooooAKKKKACiiigAooooAKKKKACiiigAooooAKKKKACiiigAooooAKKKKACiiigAooooAKKKKACiiigAooooAKKKKACiiigAooooAKxvGP8AyIuvf9g24/8ARTVs1jeMf+RF17/sG3H/AKKarh8aM6v8OXozZoooqDQKKKKACsbQ/wDkMeI/+wkn/pJb1s1jaH/yGPEf/YST/wBJLerjs/66ozn8UfX9GbNFFFQaBRRRQAUUUUAFFFFABRRRQAUUUUAFFFFABRRRQAUUUUAFFFFABRRRQAUUUUAFFFFABRRRQAUUUUAFFFFABWN4O/5EXQf+wbb/APopa2axvB3/ACIug/8AYNt//RS1a+B/L9TN/wARej/Q2aKKKg0CiiigAooooAKKKKACiiigAooooAxvCv8AyB5/+wlff+lctbNY3hX/AJA8/wD2Er7/ANK5a2aufxszpfw4+iCiiioNAooooAKKKKACiiigAooooAKKKKACiiigAooooAKKKKACiiigDOt/EWiXeptptprFhPfKGLWsV0jSgKSrfIDnggg8cEVQ/wCEy08eF49d8m5+yyXS2oTYu/cZ/IBxuxjdz16e/Fee6LfaZc3lnpenPE2tQ+L7u5mgUDzViEsweUjqE2ELu6Z4znioP7KvB8MbS+Ov6i1v/bcZ/s4x2/kD/iYgYz5Xmdefv9fbiqir282v0/zt8hy0qOPr+bX6fieoeIPFOmeGG0/+2JfIivrg26zuyrHERGzlnZiNq4Q8884qefxFolrpMWq3OsafDp02PKvJLpFhfPTDk4OfY1y3xIvLCw1fwbd6u0cdpDrRd5JcBI8W02HJPAAODk9MZrjWnktLzT9Zh1PTdK0Ka/1SS3vNRtjNa4kKbGAEkYG8CUq27B3HAO6p6f15afMGtv67/wCR6PL8QvDNv4tk8O3Wr2lvepBHMDNcxIrlyQqLlsl8AHGOjKe9bUusaZB9p87UbSP7IyLcb51Hkl8bQ/Pyk5GM9civHNN0qK7aXQZbl4577wdBHY/a4hBLI6SSspWMs2CvyHAJwMZqhoElz4h8TaRdS2twsXjO6XULhZBxEli5KgjnG4CMVSj73L/W7/RMUtLv0/JP9T3GLWdMn1WbTINRtJNQgUNLaJOpljB6FkByBz3FRQ+I9EuYLqa31nT5YrN/LuZI7pGWB842uQflOeMGvILGPUJtTXTRq1u2rW2o6rKNPtrA/ao96z7XmlM3EbBoypEfJ2AdM1TjZLzwpcEanZX4t9DtbSeCx04wpbkTx4inZpnJlHz/AC7V4LE4ziklf+vX/L8RSfL/AF5pf8E9x03V9N1mB5tI1C1v4o3MbyWs6yqrDqpKk4PtWTceNLK21g2cllfG2W6SzfUQifZ0nfG2M/NvJyyjIUqCcE5qj4c+X4meL0UBUCWJAAxz5bD+grjZrPTLPVr+CJY08ZN4jWa1PH2prZ5kYlM/MYfLLBsfLw2eaI6zS/rdf5h9lv8ArZnp2t67FokdsDa3N7dXcvk21pahPMmbaWOC7KoAVSSWYDik0/xHp+oaDJq+82tvB5guBdYjNu0ZIkV+cDaQcnOO4JHNc14g8Q6Wde0LWftUa6bpmpXNlfXUoKR2snlMvzM2ABuwu7plh61d8DZn0PVr6MN9nv8AU7q4tiRjfGWwrD2bbkHuCD3qfstrtf8AK337j6pPvb87/daxPpPxD8L6r4Zs9e/tmys7K7bYhvLqKMrJ/wA8z8xAf/Zzmt+6vbey0+a9uZFS2hiaV5OoCAZJ/KvGfBmsaLp2l+GrvXry1Syi0Cex8yaRdkVz5imSAk8CQrj5PvHB4rs9Phv7L4ERxTac15eR6IQLGVSWk/dHEbAc5xgY61U1aLa/rf8Ayv8AP73FXmov+tv+G9Td0LxXb65eSWjaffadcrAtzHFeogM0LHAkUozDGRjBIYdwM0y88VSQ+IJ9IsNA1TVJbaOOSea1a3WOISbtoJllQk/KTwD2rh/C2saZomtT6i3iKTX9MtNERbvUpgsjWDI4xB+6UcncSVILjaMk8VL4+/4RWS41sx2McPjNoI/7MnkUC4uJNv7o2xzuwDw23HQ7hjmm1qrf1r/X/DEK7v8A10R6nRTYt/kp5n39o3Y9adUjWqCiiigYUUUUAFFFFABRRRQAUUUUAFFFFABRRRQAUUUUAFFFFABWN4x/5EXXv+wbcf8Aopq2axvGP/Ii69/2Dbj/ANFNVw+NGdX+HL0Zs0UUVBoFFFFABWBp13b2F74our64itreHUFeSaZwiIotLfJLHgD3rfrznxz/AMk++JP1b/0it6uOz/rqiJK84rz/AEZ6KCGUFSCCMgjvUQvLY3xshcRfahH5pg3jeEzjdt64zxnpXlOry3w0j4g6lHq2pRTabEkdksd5Ikdvm0iYlUBxnJzyDg8jGTl3ia81Lw/rl5YaXqmoCNtHtsvNdySmNpr3y5JhvJwwVjjHAwAMAAVNtUu/+Vy+l/T80v1PWqgmvbW2nhguLmGKWfd5UbyBWk2jLbQeuBycdK8vuQ+l+Ita0Qa5rc1s09iltaJeSS3Eu6OVmgjleQNGW2bi5cEAdQMYyNOE2s6h4Rn1O41H7RaX+rW6FtQl3qsJfYGZX+cgAAsc7gMEkUns3/Wwf1+f+R7Ta3dvfWkV1ZTxXNvMoeOaFw6Op6EEcEe9S14x4fvNR8Q+GFa/1zUreTTPDFtfQTRXskbPO4lJlkIP73HlqNr5Xrkc1Jqmq6ldaXr2vPqOo291YW2m3NvBFeSRxRvIilwYwdrA5wQwI9s1Uo2k49v8/wDgCbtbz/yT/U9jqG2vLa9R3s7iK4WORonaJwwV1OGU46EHgjtUwOQDXj+gRSXuqWmmm9vba1utd1rz0tLqSAyBXJALIQ3B54INSPTlv52/B/5Hr7MFUsxAAGST2qO2uoL21iubOeO4t5lDxyxOGR1PIII4IPrXlOgXV94osdJsNT1XUI4odJu7gvBdvFJPIk/lKzupBfao5ByCW5Bqjoep31r8Nr8W99cQi28DWk8GyVl8qQpP864Pyt8q8jngelUo3i5dv+D/AJFQjzO39dP8z2mobW8tb+EzWNzDcxB2QvDIHXcpKsMjuCCCOxFebyT3aa8LzUNWv4ovtdrBFc2t2ZbaJGSMG2ngWQbZHZyRIVJG5TuHAOF4V04x6X4d0+21DVLe3v8AxHqcd0ItRnDSIn2jC7t+V+6CSpBJ+bOeafI/6/rz/pWbz5tL/wBdf8j2W1vLa+iaSyuIriNXaNmicOAynDKSO4III7EUJeW0t5LaxXET3MCq0sKuC8YbO0svUA4OM9cGvH4tRvLzQ3tpNV1q5uYrrVnjtLO6eORliuCiSPOZFIjjyBsyd2RwcYrd+Gl/PqvibUdQu233F1oekzSt6s0cpJ/M0lG6b9Pxv/k/6uOXuu3r+DS/U7q713SLDULewvtUsra8uf8AUW01wiSS/wC6pOW/Cr9eeQ2mlX9h8Qv+EkkMVu166Xc2PnhgW2jKleD0HzDg81m6jfXcsHiLXYNV1BZtDvbaGwhW5dI3j8uFiJIgQrmTzGGWXIyMYxSSvb0T++3+Y3p+K+7+v6ueq1TttY0y9mSKz1G0uJHV3RIp1YsqNtYgA8gN8pPY8V53JfX4MniT7ffC8XxIumiz+1P5H2fzxDs8nOzO0792N2e+OK5XTtU1Cy8P3kdnfXNuiaBrdwqxTMoWVbw7ZAAfvDJweozRFXSf9fDzDt73L5pfjY96orx7Vb/UtG1e50mx1bUfIv7TS2llnvJJXhae6MUrozEmMleMLgA8gCuw8Fxy2niXxXpx1C8vLa0u4Ft1u7l52hVoEYqGck9STyc880+X9fwtf8xf8D8dTqr2+tNNs5LvUbqG0tohukmnkCIg9Sx4FJY39nqdnHd6bdQXltKMxzW8gkRx6hhwa5vxaFl8V+D4bjm2bUZWKno0i28hQH8cke4FY+sCwttVm0zQ7+6gbVtehi1b7O7RfZ2a33lUdQCpcImSpJyx5BpL+vvS/X+rh+iv+f8AkeiVC95bRXkVpJcRJczKzRQs4DyBcbiq9SBkZx0yK8uWW9n8RWXhx9U1P7BB4guLPzEvpVllh+xGUI0obe21mxnO7gc55rF0lZNT8QeG7u9vdQlubSDWoY5TfzBisE4WPdhvmOMAk5LYG7OBQ1Zc3lf8LjWrt8vx/wCAe41TutY02xleO91G0tpERZHSadUKozbQxBPALcA9zxXmnh22uNUt/CWmX2saw0ep6I+p3cw1OdJZpgsKgB1cFVG8nauATyQec8pq+oXWp2MtzfytPOdCtI2mbGZdmp7Q5x/eCg/jTlHlmovu/wAL/qiU7w5vT8Wv0Z9BVE91bx3UVtJPEk8wZoomcBnC43EDqcZGcdMivKrPW9dm8TnUlg1RQNaurJ3n1CFLKSBBIqxpC024yZRWyIwx+bkipPC8Mk3iPwPrN1qF5d3eqaVdXNwJ7l5EDssTHYhJEYGcYXA49eaSV1f+trlNWdv60dj046hZrJcI13AHtUD3CmUZhUgkFhn5RgE5Poaaup2D/ZNl7bt9tG61xKp88bd2U5+bjnjPHNed+PIhb+KrqxQsreK9Oh08bWwSVn2OR7iO4Y/8BrK0y5jtWurBtROn/wDCGaVe2xudnnG23ybYHK5yzCGMEDvn3oWqv6/he/6W9Qtrb0/G1v1+49jqGW8toLmG3muIo57gsIYncBpMDJ2jqcDk4rye0u9WNxrmiwTarbwRvp8iQX+q4u5lkLiRI5jIxRpAgKqHGM4+Q9BLWC98YeEt9/q1w9ne30flXNzNHNb7Yt6wyESHzCMgF8nepAJYdTbf+v6v/wANpeOb+v6/r11t69WN4O/5EXQf+wbb/wDopa4X4farrd/q+j317FqcUerWU812b/UIXimkyrIbeETMyBQWUgInBG4ZruvB3/Ii6D/2Dbf/ANFLV2tD+vMmX8RLyf6GzRRRWZoFFFFABRRRQAUUUUAFFFFABRRRQBjeFf8AkDz/APYSvv8A0rlrZrG8K/8AIHn/AOwlff8ApXLWzVz+NmdL+HH0QUUUVBoFFFFABRRRQAVW1DUrHSbGS91W8t7K1jxvnuZVjRMnAyzEAckCrNcf8UTKvgdjbIkkw1CyMaSOUVm+1RYBYAkDPfB+ho6pDSuzZsPFvhzVFB0zxBpd4DKsINvexyZkYEqnBPzEA4HU4Na9ee+LbjWJP+EYfXLCytJl8QweWlnevcqw8uTqWijwc9sH61yVn4o8SWvht/ECx6nBLd6JeXcr6hfwyQyzKA0bW8PnMyhckEBFGCNwzQtb+X+SYKLbS72/Nr9D2m6vLawt/PvriK2h3KvmTOEXLEBRk9ySAPUmi7vLawtmuL64itoFIDSzOEUEnAyTxySB+NeT+ONAhtvCVzA3iK/vEkm02b7DNqErzQu1wqtLv8zdsfPC/dDJlcEcJq7XtpovjK+g1fVRLp+rW9naD+0JisMR+y5AG7kncclsnk88nNJb/wBdl+pLeiff/hz1+orq6t7K1luryeO3t4VLySyuFRFHUkngD3rhNIWfUdWuNcu/ENzYTQa5NZrbS3DfZ5oUyiwiIsE3HG7eAWz6jiuG1/VrptL1RIr3VL2y1Tw5qVw91eTHyrtkKbJIYS7eUoDlcYXPXB4NStfuv+F/6/y1LUfet52/Gx7sZYxD5xkURbd2/cNuOuc+lVdL1rS9ct2n0XUrPUYUbY0lpOsqq3oSpIzXL+Nyx+G1tGeYZZ7CK5448lp4hJn22kg+1VfG81lo91e3WlXctprdzZW9s4hXAS3Nysfmk7cBl8xsZPrxxTa1t52ITvFM7+ivJ9clvdH1K98P2Gq6oLNb3SWSaS+kkmjE87JJH5rMXIIQHBJxuOKS1u71tYm8L/2lqK6f/wAJM1l5rX0pnEAshP5YnLeZy/fdnHGRTUXJaf1t/wDJBez1/rf/ACPVLe6t7tXa1ninEcjRuY3DbXU4ZTjoQeo7VLXl/gozWGtW1jFd3DwHVtXD+ZKWMu1xtLn+Ij1PNU9ClvvE9tb2d/r+oWKW+jyXkd5FePGRKbiRRJIQw8xUVB8rErg8jpiL7ef+Vyratdnb8bHf6WuieGoLyzTVIV/0xp5xcXCBo5LiQsqnpjczYUHk+9bckiRRtJKyoiAszMcBQOpJrxTVY30/xJ4i1Gx1S8a5e60RDcwXsojlWSVd5CByu1h0HIAJA4Jzo2uqarLq03h06nfNLoMmpXNzMLh9zx7c2yu2csNs4IznmMelN6Rv2v8Agl/mJe879/1uepWmq6ffybLG+trl/KSbbDMrny3zsfg/dbBwehwcVarwDTLS8mXU9etb/VW1a08M6TqW9dRn/fuokd1dd+1wwQjBBHzEgZJz6p4J1N/EFzreuR3Tz2FxeCCxXzCYxHEgVmUZwCZC+SOuB6VpOHLJx7f8MSndJ9/8rnVO6xozuwVVGSxOAB61HbXVve2kV1Zzx3FvMgeOaJwyOp5BBHBB9a8jvr+e48SQpFf6vd2eq3Go2s90108Fu6pHIRHDEJMoYzHt8wKpbk5OeOp+HmmW7/BPRrNri4hiutITzJjcMzx74xuKs5O3GeB0HYYqLPkcu1vxv/kV9rl9Tp7PxBo2o/av7P1ewuvsZIufIuUfyCOofB+XoevpUeleKPD+utKuia5puomFd0otLuOXyx6ttJwPrXErpFtrNvPqFjMui6DaaDNpVrqFwApmR9v74qduI1CfKSRu3MRgYJo+KG1LQ9G1HwzdavNq+nyaXDMZp4Yo3gi89IpVzEqqUKMSMjIweT2dtbf11/RX/AV9Lv8Arb9XY9L0zXNK1tJX0bU7PUFhfZK1pcJKEb0O0nB9jV6sD7Lo1v46tHimaHVH02SNLeJcJJbq6fM2F/hJAXkfebAPbivGhvjeeOL2HWNTtn0fTLe5sY7e8kjjilCSMWKKQGztGVYFT3FK239f1/SGtXY9Oury2sYRLe3EVvGXVA8zhFLMQqrk9ySAB3JqavH/ABDd6hoWp3llY6vqZhkGj3J869kkZXlvCkm1mOVVlUAoML6AZrodIS41LWJ9bufEFzYTw65NZrbSXDfZ5oUJRYREWCbjjcHALZ9RxRb9fwt/mD0V/T8U3+SO/oryfRIrq/03wvb3ms6sw1q5uWvJhqMyO6xCQpEjKwMY6ElMFgnJNdN4dv7yTwBqwmu5p5bCa+tYbp3JkZIndUJbqWAAGepIzUyfLFvsNK7VvT+vuOyqJbu3a8e0WeI3KIJHhDjeqEkBivUAkEZ9jXlOkabcXN94btLnXtdki1Xw695ef8TWcNJNH5O11YNmP/WNkJtDcbs1iRz3mqaLf67c6lfpqVt4LtrxJ7e6eEtMpnIZ9hG/kfdOVOTkGtJR5b3/AK3/AMgpr2iuvL8bf5nu1FeT6pqWo3mm+JNdbUr63utBtbeSyhhuXjiZjAsrF41IWTezFfmBwBxjrWn9ouovGQvb/Ur6FZNSWGKaC586zKFABayQhwI5NxzvKE5x83O2ly2dn/W3+f8ATI5vd5v67noSzxPM8KSo0sYBdAwLKD0JHbOD+VPrzaTz9T1DSQ9zdWtv4k1O4mma1uHhkaCKFhCgkQhlBCK52kdT6nMX2Ce+8QWmkzeKtQ1C1g0a6c3FlevB5siXCqpZo3yXQfKTnkg5HJFTtv8A1ZNv8iuv9dXY9OqqNU086s2li+tjqCxecbQTL5ojzjfsznbnjOMV5z4Iu7/+1PCFzcapf3T65oUtzfLcXLSRvKvklWVCdsf32HyAZzzk81X16aHRvjPc+JJ3SGKxhsbe5lbAxDN9oTBPp5nlH8KuUeV2f9a2/MWtrnp1tqmn3t5dWlnfW1xc2ZC3MEUys8BIyA6g5XI9atV4hoQaxk8R3dxe3WnXWswabdSvBHunZ7ieYiFcEYYqyxhsjbwe1N1DxTreg+Gr7UbKfUI7vStblsbfT725e6d4XhVyJMM5dosmTdlsBCN2DScWtP66L82v183vt/Wl/wBD3BmCqWYhVAyST0qjp+vaPq1rNdaVqtjfW8BKyy21ykiRkDJDFSQOPWsmfStPufhq2narq9xPp8lhi51J58vJGVy0hds9Rk+mDisCTR7LXV1nXtYSTR9CutPgt1BAjllhhdpPMdSDtVgQoUjdtzkAnATVm0C1in/X9f11Oxg8TaDdaRNqttrenTadBnzbyO7jaGPHXc4OB+Jplr4q8PX2m3Go2WvaZc2Nr/r7mG8jeKHjPzMDhfxrjrrw+/iGLWdUu7r/AIRm31k2Nva+aqeYVil3K7I3yh5CwVVOSAFyM5UV7+81BfElpoGrX8mqW9nrlmwupoo0d1kildUkCKqEq6KQQq9V4zyS2tvT9P8APYNLX9fyuekWV/aanZx3em3UN3bSjMc8EgkRx6hhwanrk/B/yeJPGMUfEC6shVR0DNbQl8ficn3NdZQ+novxQbOwUUUUgCiiigAooooAKxvGP/Ii69/2Dbj/ANFNWzWN4x/5EXXv+wbcf+imq4fGjOr/AA5ejNmiiioNAooooAK5uDS7PW28W6ZqkPn2d3fLFNHuK71Npb5GQQR+BrpKxtD/AOQx4j/7CSf+klvVx2f9dUZy+KPr+jHTeFtGns9UtZbPdDq2Ptq+a483CBBznK/KoHGOlQ654YtNShvriC0tpNQubH7Fuuy7RNFuLBGVWHGSfmHI/DFbtFQ9TQ4PQfhxbquoTeILcJNeTQypHa6nczPAYlKqwum2Ss53NzxwdvIHOzH4A8OQRwRwWU0K21093D5V7OhSRxh8EPna3dPunJyOTXR0U7gtDm5fh/4amsbOzbT3W3s7cW0ccd1MgaEdI5NrjzU/2X3D2q7d+FtGvodQiurIOmpCNbpRI6+YI/uDg/LjHbFa9FF2BmaPocOj3GqTQMSdRvDdyDBwrFETAyT/AHAfx7VHaeFtHsbqK5tbPy5Yp57hG81ziSY5kbBPf06Dtiteil/wwHPS+BPDs2n2tkbGRIbTzBD5N1NGwWRtzqXVwzKx6qSVPHHAqC6+HHha8sYLObTpBbw2YsBFHeTxq8Aztjfa48wDJxuzgnI5rqKKB3ZhP4L0GTVl1FrJvPVo3Ki4lETugAR2i3bGdQBhmUkYHPApbLwdoen3UdxaWkiPDdyXsQNzKyxzSBg7KpYqoIduAMZOcZ5rcop3YjnZfAXhyVUVrB1CyTSfu7qVNxmbdKrEMNyM3JQ5XpxxVvRPC2j+HGZtHtWgLQRW5LTySHy4s7F+dj03Ef8A6hWvXnHxD8Q6+dL8VW3h6e2s4dH0vzZ52V/Pd3ViBE6uvllVUHcQ2SQOOtC7DS5mdbqXhDRNW1A3l/aPJIwAlVbiRI5wOgljVgkmO28HFF54Q0S/1hdTurNmuFdHIW4kWORk+4zxBgjleMFlJGBjpXGnxlqFld6xFHLa2aJqsVq2o35mmgtUNokpkkUyAKCfl+UouWBPOc6DeI/F13f6bp9nBpNpcz6fcXc8syNcRkxyqi7Nkg+Vw2eSSuRnJGKLWt9/4X/Im/Xv/nY6I+EdEOu/2v8AZG+1+Z52PtEnleZjb5nlbvL34437d3vUC+A/DawSQrp2I5Lae0YefJzFO++VfvfxNznqO2BXOR+PNb1ywF14ct7GH7No0Oq3UV5G8hlMgciFGVl2HEbfOQ3UfLVgeNtTvtdt49KXT1t5FtpI7G6+S5vYpVVnlhcuq4jD8rtYkqRkZFPlafL/AF2/z+XkPbX+uj/Vf8ObOu+ErS+s72SxsrWS/uLSO0zdyS+W8SPuVDtbKnJOHX5gcHnGKxtG+HflWl02qGOGe51S31ExxXMt15ZgCbR50mHkJ2csw/ixjjNMfxtqcPjKPRr+TTUW8kuYorKBt11bLGjNHLI6yEYcISF2qRnqcGtn4cXdxffDPw9dXs8tzcTWETyTTOXd2K8kk8k+9KN/i9Pzv+a/rUH/AC/1tb+v+GNnVdIstasvsuoxNJHuDqUkaN0YdGV1IZWHqCDVH/hD9D/sV9L+xsbaSUTsxuJDM0oxiTzt3mbxgfPu3cDmtuikBj2nhTRrFbEW9owNhM9xA7zSO4kdSrOzMxLsQxyWJ61XHgbw8v2Xy7KSI2ks8sTRXUqENM26UEhgWViclTlfbiugoo3Aw7nwdol3pVjpz2sscGnxCG1NvdSwyRJtC7RIjB8EAAjPOOc0y48D+HLmMRy6YgjFrHZhEkdFEMbiRFAUgDDAHPX8K36Kd3e4dLGKvhHRE1/+2Vs2+27zKCZ5DGJCu0yCLdsDkcbwu7Heo9P8E6BpesR6pY2ckd1ErpEWupXSFXILKiMxVFJAOFAFb1FIChe6Jp2o6lp9/e2yy3WmyNJaSFiDEzKVY8HByD3zUDeF9FebVpH0+Nn1lVW/LEnzwq7ACM8fLxxitaigDmU+HnhpFuP9DuHe5SNJZZL+4eRvLJMbby5YOpPDg7gOAcVYTwVoUa2Xl2syPY3BuYZlvJhL5jDDM8m/dJuHBDkgjrmt6indisjG0zwjomj6pJqGn2bR3DhlBaeR1iDNuYRozFYwTyQgGSOaPB3/ACIug/8AYNt//RS1s1jeDv8AkRdB/wCwbb/+ilql8H3fqQ/4i9H+hs0UUVBoFFFFABXl2rafp998Wtb/ALR8Ef8ACU7NOsth8i0k+z/NNn/j4kTGf9nPTntXqNc5feEXuPEVzrOn+IdV0q4uoYoZktFtmR1jLFTiWFyD87dCKa3DodDEixwokcYjRVAVAAAo9OOKdTUUpGqs7OVABdsZb3OMD8qdSEtgooooGFFFFAGN4V/5A8//AGEr7/0rlrZrG8K/8gef/sJX3/pXLWzVz+NmdL+HH0QUUUVBoFFFFABRRRQAVR1nRbHxBpb6fqsTy2zsjkRzPEwZWDKQ6EMCGAOQR0q9RQGxhQ+DdHh8neL+6+z3KXURvdTubkxyqCFYGSRscMeOh7jiiz8F+H7G8uLm30/57iN4mSWaSSNEc5dURmKxhjyQoAPet2igDnE8A+HI9Lu9P+wyvBeeWJTJeTPJiM5jCyM5dAp5UKQF7Yqy3hDRH0y8sJLR5Le+mSe5ElxIzSyIECsWLbs/u07845zk52qKd2Bi/wDCI6J/b39s/Y2+2b/M/wBfJ5fmbdvmeVu2b9vG/buxxms9vhp4UdWV9OmKmKWAKb6fasUow8ajfhUP9wYUHkAHmuqopbAVrjT7S6019PuYEltHj8ponGQy4xg1l2vgzQrWzvLUWb3Ed7GIrhry5luZJEGcKXkZm2jJwM4GeK3aKAMK38GaFbWn2dbWWRTcxXbSXF3NNI8sZBRmkdi7bSowCSOMYxT7jwholyl6slo4N9dC8mkjuJEfzgoQSK6sGQhVA+Uj9TXHEX1lrjT+JNU1bSb9tWxbXfmSS6dPbmQbIfLVvLQsh2bnCtv5BPAOhb+MtXkurbU5UsRoN1qsmmJEInFwhV2jWUyb9pBdMbdgwCDu7U916/8AA/4H3eQPS/l/wf8Ag/0zYXwB4cjsILOGymhignkuI2ivZ0kDyffPmBwxDZ5BOD3FJJ8PvDMum2dh/ZzR21lG0UKRXUsf7tjlo2KsC6E9UbKn0rj5vE3iHUbrw/q8k9tFpWox3s0Frb+bG+xYHMYlYPh8gBuAu09M9as2XjvU4fAN/qCQWxl0/QLO/iEhkk3SSRsWDMzlmHyjqc9ck00m7+Vv1/yJvZ2/rp/mdZeeCPD9/qD3tzZOZZBCHVLmVI28lg8RMasFJUgYOM446cVcHhzSRqmo6iLNRd6nCsF3LvbMqKCFHXA4Y9MfpXF33jTxRC1/eW0ekmytNbi0tYJIZPMkEhiUPvD4Xa0uSNpyB/D1rpfCusalf3Ws6frRtZLrSrtYDPaRNEkytEkgOxmYqRvx949M+1KzcfL/ADt/mik+39W/4KIp/CNppdubnwxpsB1COxTT4o7m+mjgaBchVkA3h9oJwSpPOMjOau+D/DsXhPwfpuhwMriygCM6rtDN1Ygdskk1yWpeONVtvEMuk3sunRfa1vI4bS3bddWojjd45ndZCMOEJC7VI9Tg1W0Hxb4k0XwzpaazFDq09z4ebULUQLJ5zPEkeUkYs3mM3mA7gBzkYPWhNtN+n/tz/Rhb3lFf1sv8jrh4C8ODUkvhYyCeOd7iP/S5tkbuCH2pv2qG3HcoADZyQauWfhfSrDwy3h+2hmXTGiaDyGupXKxsMFVdmLKMcAAjHbFctH4y1saOzRy6Pqc9zdW9pY39mCLdpJGKurx+azgx4JI3Dd0+U5xHceMfEcN5FoqjSzqo1ldOluTBIIWje2aZZVj8zcCMAFS5zg8jOQWurf10/wA0Cet16/nr+DOksfBWjafG8UQ1CeCSA27W95qt1cwmMjBXy5ZGXpx0qTTvB2h6Zb3UNvZtKl5EIZzd3ElyzxgECPdKzEIMnCg4GTxXMT+L/EtpdajcTjSzp2n6tBpjqttIJZfMEQ80HzCF2tL93ByBjI6nA8M+JtZ0+x0WbXr9dQWXV9VV5AZo2RIROcY80hxlPlDAhRgDkbqPs8z2/p/rcFfp3/r8j0vR/DOlaFNLNp8M3nSqEaW4upbhwg6IGkZiqj+6MD2p154a0nUF1MXdp5g1aBbe9/eOPNjAIA4Py8MeRg81xU/jrxHpeim+1WHTWe90S41SxjhikUQPEiv5UhLnzOHHzLs6Hit3w54g1e58UXWja2bGRhp8GoQyWcLx7VkZ1MbbnbcRs+8Nuc/dFOzvb+uv+TDpzL+tv80ad94S0TUrlri9svNlZYELea4yIZDJF0PZyT79DkUf8Ijon9v/ANs/Y2+27/Nz58nl+Zt2+Z5W7Zv28b9u7HevOde1a0g8QeM5NSvvEyXNjNH9hawmvRbW/wDo0bDcUP2dRvJJ8zjByeK2te8a634ZhsJL+fSFjWC18xJG3zahJIwWUwhXGwJkNkqwOe3WktUv63/rUclZ2f8AVv8Ah9Dq5vCGiTaNbaWbWSO2tJDJbmG5ljkhck5ZJVYOp+Zhw3QkdKuWmi6fYaKNJtLYR2QRo/KDE5DZ3ZYnJJySSTkk5zXmGma/rtj4gI1fUY722k8VXFqoUTxGFFtncgfviGXgYRgVByeSRt6bw74s1q+vdDm1eOxFh4htnns0t43WW2IUOqOxciTKEnIC4Ixg5zQlePk7firivZ+n6No6SDw7pdtPYzQWu2TT7RrK2PmMfLhbblevP+rXk5PHXrVSLwT4fgsJrKLT9tvPYLpsiedId1uu7CZ3Z/jbnrz1rlvFmpahp3xb0S4h1C6j06C3Rbq0WVhDKJpjCGZOhIZkIPbms/T9d1x/HniTUrG5kvIJLN/sNjcXW22iEU4hMmCQF5V2J6kUk3JJ97/hf+vmwvyaLpb8bW+7/I7q68FaBeXkNzcWTl4UjTatzKiSLH9wSIGCybe28NiodT8EaVfXN1ewI9tqE4LrL50jRJNt2rN5G8Rlxx82N3A5rlofiXew6DqOrTy6bqdjomorBqF3p8LBJrZ41YSxDzGwVMgyMtkKcdRXb+GrzUtR8PWt9rMEVtc3KmXyIgf3SMcopOTlgpGSOM5wKbXX+tdQ2/rsNvfDGlaho9ppt3A5gs9n2doZnhkhKrtBWRCGU4yMgjgkd6dZeGdH0+SF7KyWFoLVrSPa7cRMwZh15JYZJPPvXO+N7a5SS81C/wBXurOxitFTTYNPupYppLwluqpjzM/IFQ7gfmytc3rt74pv7m+ixdLPouj21xNJa6i9t5U7K7SOI1GJ2GwYjkKoQCM80t7t/wBb/p+a7hazUf66fr+T7Ho1l4a0nTm002dp5Z0u2a0s/wB458qJtuV5PP3F5OTx160zU/CeiayupLqViJxqkEdveAyOPNRCSg4PGCx5GDzWhp9yt5pttcxyeak0KSLIFxuBAOcds1YqpXvZiTuk0Yt54R0O/wDtRubLLXUcMcjJM6ECEkxbSrAoVLEhlwffgVX03wF4d0nVm1KyspRdNuLNLdzSqWZQrPsdyu9goBbG49zXRUVIzm/+FfeGfsD2Q09xbvZCwKrdTDEAcuIwd+QAx7c446cUreBNEl0+5sbhtVuLe5CiRLjWryX7rBgVLSkqcgcrg10dFAGCngzR1sLqymGoXdvdBRIl7qlzc42nIKmSRihB5yuDkDngUqeDNCTSJ9N+xyPBcSiaWSS5leZ5Bja5mZjJuGBht2RgYIxW7RQBS0nR7LRLM2umxNHGzmRy8jSPIx6szuSzMfUkmrtFFABRRRQAUUUUAFFFFABWN4x/5EXXv+wbcf8Aopq2axvGP/Ii69/2Dbj/ANFNVw+NGdX+HL0Zs0UUVBoFFFFABWNof/IY8R/9hJP/AEkt62axtD/5DHiP/sJJ/wCklvVx2f8AXVGc/ij6/ozZoooqDQKKKKACiiigAooooAKKKKACiiigArjfFfga919tWGma2mmxazZLaXqSWfnkhQwVkO9dpw5ByGyAMYPNdlRQNOxxw8EX9peX97pGvm1ubq/jvFD2xeEhbdYTHIgkUyKQN33lwcenOGngzWtK8VaVaaHqPkKmm3xnvpNPMkG+a4jcoEDqE6sVG44C/wAXNem0U766/wBaWJ6W/re5w8nw6ktLNLXw9rH9nxSaZHpd0ZrbzmkhTdhkO9Qknzv8xDDn7vFT6h4FuLyRLWHWPL0bfbObKW2MrxGDbt8mQuBGDsGfkbuQQTXY0UXd7j/r+vuODh+HV5BqllNHrkP2Wxv7m8hhNj87faA4kDv5nzEeYdrADAGCG610/hbRP+Ea8KaZov2j7T9gtkg87Zs37RjO3Jx9MmtWii7tYN3cKKKKQBRRRQAUUUUAFFFFABRRRQAUUUUAFY3g7/kRdB/7Btv/AOilrZrG8Hf8iLoP/YNt/wD0UtWvgfy/Uzf8Rej/AENmiiioNAooooAKKKKACiiigAooooAKKKKAMbwr/wAgef8A7CV9/wClctbNY3hX/kDz/wDYSvv/AErlrZq5/GzOl/Dj6IKKKKg0CiiigAooooAKKKKACiiigAooooAKKKKACiiigDjH8B3LCbTl1hV0Ce/+3vZi0/fhzL5xQTb8bC/ONm7Bxup9v4Gmh1OFTqqtotvqEmpRWP2XEnnOWbBl34KBnZgoQHOPmwK7Cij+v6+4Hre/X+v1OEj+Hd6lxYxNryHTNNW5SztRZYdVmRkw8nmfNt3cYVeBg5PNVrn4YX7aDJpFj4ijt7a50m3027L6f5jP5KkK6HzBszuOQQ3HQjrXolFNNr+u1/8AMVle/wDX9aHJT+BvO0+9tf7R2/atZh1Td5GdvlvE3l43c58rG7tnpxzr6Tof9l6xrV99o83+1blJ9mzb5W2JI8Zyc/cznjrWtWJ4r16fw9pEV1Z2Ud7cT3cFpHFLOYU3SyBAS4ViAN2fumhN6RXp+S/RD2T/AK8zmn+Gl59qt/L12FbW1vLu6hiNhlz9pWQSB38z5iPMO0gDAGCD1qfS/h5eWtjBb6j4ikney0ptLsLi0tzbywKwUNIW3tuf5FwRtwB0PWtOw8YhBq8fia2h0q40jy2uPJuDcRMkgyhRtisScEbdoOeBnIqX/hO/Dw0w38l7LFELkWjJLaTJKsxGVQxMgcEjGAV5yMdRQm1t/XT9fxDd3/ruzJbwBe3TXd7qOtwvq8zWrxXVtY+VFG1uxZGaMyMXJLEN84yOBtqe38CzC/ttRv8AVVuNQXVf7SuZI7YxpKRA0KxopclFCkHkscg+vGiPG2gnVItPN1MlxIY0xJZzIsbuNyRu5QLHIQR8jENyOOaLXxvoF7qyabb3kjXDzyWylrWVY2mjLB4xIVCbxtY7c5IGRxzTV+n9bf5IP6++/wDwTmLHwnqmreIfEK3141ro769Hd/ZXszvuPLjhZSkpYAIXTn5TnaQCOat2Xw2a3ls0udVjns7O/vbuOIWhV2S5WQMjNvIJBlJDBRwMY71oeKfHH/CMeKPD+lSaf58GryMkt154T7KAyIpK4O7LSKOoxmmv47jT4lSeFmslFvDYtdS6ibgARuu0mMpjsrq2c9+lLeKXTb7kr/kOzv8Aj97f+Znn4cXdzpcljqevLcpDpM2lae62ewwRyKFLyfvD5j4RRkbBweOa6Cx8NfYvFkmtfa9+/TYbDyfLxjy3Zt+7PfdjGOMdaitvHvhy6jLx30iKJYoj51pNFzKcRt86D5GPAf7p9a1tO1ay1YXDafN56207W8jBSFEi8MASMNg8EjIyCOoNO8v6/rz/ABFfS3T/AIb/AC/AzIvC6pJ4kMlz5ia6+5lMX+pHkLFjr833c9uuPeuavPhhfXGly2UPiCKNbiztIJ5H08uzPbYKMp8wbUJGWTk+jCum17xBdafqllpOj6fFf6leRyzJHPcmCJY49oZmcI5zl1AAU5z2rOtvib4ffT4Zr17m1uHtzcS2q2ss7wortG7Exqw2hkYFugHJwDUrv6fhf8tQer1/q9v+AVU+Hk/9uLeT6vDJarq76qLcWZDl3gaJ0L+YRt+YEfLkYwc5yLeg+CrnSL7TWvNWW8stHge3023W18to1YAZkfefMYKNoICDBOQTV+18c+HLw3PlakFS2tvtbySxSRo0P/PVHZQsif7SEinaV400LWXvEsbqXzLGFZ7mO4tZbd4kbdtYrIqnkKT9MHoRTu0vT/hg3/r5/qVfEXg0a/d387XzW5u9LawXbHkxNv3rKDkZIOOPbrWXcfDJZdMgtY9VZWg02GyEj2+7fJHMsvmONw3BmX5l7gnmtfwr4sfxJeahby6c1i1kluxDS7y3mxCTBGBgjOO9dJSty/16/wCbDfX+un+S/ps4Ffhtc3d7eHXdYtr+w1G9ivr+yXTzGs7pEECZMjYjyqNtIJ+XBJzW54b8Oal4fS1tG1w3WmWkEkEVq1qFbG8GImTcSSiDZ2DdTzXRUU7tf15WB6nLat4b1u68XJrel6xp0IithBDBfaY9z5JJJd0ZZ48FgQDx0Ue9M1TwhqV9c3Fxa63FZy6jZJZ6ntsiyyqu754gZP3TfOwyxcYxwcZrrKKXSwdbkVrbRWVnDa267YoI1jQZ6KBgfoKloopt3d2JJJWQUUUUhhRRRQAUUUUAFFFFABRRRQAUUUUAFFFFABWN4x/5EXXv+wbcf+imrZrG8Y/8iLr3/YNuP/RTVcPjRnV/hy9GbNFFFQaBRRRQAVjaH/yGPEf/AGEk/wDSS3rZrG0P/kMeI/8AsJJ/6SW9XHZ/11RnP4o+v6M2aKKKg0CiiigAooooAKKKKACiiigAooooAKKKKACiiigAooooAKKKKACiiigAooooAKKKKACiiigAooooAKKKKACsbwd/yIug/wDYNt//AEUtbNY3g7/kRdB/7Btv/wCilq18D+X6mb/iL0f6GzRRRUGgUUUUAFFFFABRRRQAUUUUAFFFFAGN4V/5A8//AGEr7/0rlrZrG8K/8gef/sJX3/pXLWzVz+NmdL+HH0QUUUVBoFFFFABRRRQAUUUUAFFFFABRRRQAUUUUAFFFFABRRRQAUUUUAFcf8TrRrzwpboLe9njTU7OSZbBJWmWNZ1LsvlfOCACcryO1dhRR1T7Wf3B0aPI20S5e21m40Cw1WXSftun3ypqMc/2q4kilDTY8/wDfMoREwG7gheKuzWt5rPiJtatdNv47K41ywMaz2kkTlIo2DzNGwDKuWAywH3c9MV6fRTvt5NP7rf5Caumu91+f+Z5hqVnfF9X8Prpl693qGvwX0F0ts5g8kPC5kMwGxSojZdpIbgYHNMt9J1JY9Czp92DF4xu7mT9y3yQs1xiQ8cIdy4bocj1r1KiiLsku1vwt/kVfRrvf8b/5nBePdCvNb8RWSWkEpA0i/VJ1Q7Ypt0DRZboDuTI+h9K52wsdenmtNfm0CVtR1HTdUuZrO5gO1ZH8lYYJMjglI1GDjODXr9FLZW9V99/8/wACubVPseHy22p397rFomn61dtr2k2lhb3F3pEkEVvIJJN5wsaiJIg4K7sE4GC3Wu68C3FzoWg6Z4bv9Ivhc208tlJdRWzeS+wFxcM5P3ZBg55+diDzXbUVXN/X9fMza/r5W/RHJeNNbu7G5sdMt49Tgt7xXa61Cw02e7aBFx8iiJG2u2eGIwACeuKxrLTYv7Vvm0TTb2LTP+EaFrbfaLOaJiwklyhEiht3IOCMnIPevRqKzcbq3r+TX6lp2f3fmn+h5DrHhzVr/RtIt4NNuXkj8IvEyGMqDKHt28kk8Bm2MMH3p76nF4g8e6za29td2q6rZ6dZbbu1eCR033DS/I4DD92rjJHuMjFeqXtlbajYzWd9Ck9tcIY5YnGQ6kYINUNJ8MaRorF7G1Zpicm4uZnuJumB+8kZnwBwBnAHFbc93d/1dt/qZRjyxsvL8Lf5GV4bsri38e+L55baWK3nltPIkaMhZAsAB2nocHjjpXV0UVmWFFFFABRRRQAUUUUAFFFFABRRRQAUUUUAFFFFABRRRQAUUUUAFFFFABWN4x/5EXXv+wbcf+imrZrG8Y/8iLr3/YNuP/RTVcPjRnV/hy9GbNFFFQaBRRRQAVjaH/yGPEf/AGEk/wDSS3rZrlrLUbqz1/xFHb6NfX6nUEYyW7wBQfssHH7yRTnjPTHPWtIK6f8AXVGVRpOLff8ARnU0Vjf25qH/AEK2rf8Af20/+P0f25qH/Qrat/39tP8A4/S5H/TQ/aR8/uf+Rs0Vjf25qH/Qrat/39tP/j9H9uah/wBCtq3/AH9tP/j9HI/6aD2kfP7n/kbNFY39uah/0K2rf9/bT/4/R/bmof8AQrat/wB/bT/4/RyP+mg9pHz+5/5GzRWN/bmof9Ctq3/f20/+P0f25qH/AEK2rf8Af20/+P0cj/poPaR8/uf+Rs0Vjf25qH/Qrat/39tP/j9H9uah/wBCtq3/AH9tP/j9HI/6aD2kfP7n/kbNFY39uah/0K2rf9/bT/4/R/bmof8AQrat/wB/bT/4/RyP+mg9pHz+5/5GzRWN/bmof9Ctq3/f20/+P0f25qH/AEK2rf8Af20/+P0cj/poPaR8/uf+Rs0Vjf25qH/Qrat/39tP/j9H9uah/wBCtq3/AH9tP/j9HI/6aD2kfP7n/kbNFY39uah/0K2rf9/bT/4/R/bmof8AQrat/wB/bT/4/RyP+mg9pHz+5/5GzRWN/bmof9Ctq3/f20/+P0f25qH/AEK2rf8Af20/+P0cj/poPaR8/uf+Rs0Vjf25qH/Qrat/39tP/j9H9uah/wBCtq3/AH9tP/j9HI/6aD2kfP7n/kbNFY39uah/0K2rf9/bT/4/R/bmof8AQrat/wB/bT/4/RyP+mg9pHz+5/5GzRWN/bmof9Ctq3/f20/+P0f25qH/AEK2rf8Af20/+P0cj/poPaR8/uf+Rs0Vjf25qH/Qrat/39tP/j9H9uah/wBCtq3/AH9tP/j9HI/6aD2kfP7n/kbNFY39uah/0K2rf9/bT/4/R/bmof8AQrat/wB/bT/4/RyP+mg9pHz+5/5GzRWN/bmof9Ctq3/f20/+P0f25qH/AEK2rf8Af20/+P0cj/poPaR8/uf+Rs1jeDv+RF0H/sG2/wD6KWj+3NQ/6FbVv+/tp/8AH6yfCmsX0Xg3RY08N6nMq6fAokSS1CuBGvIzMDg9eQD7VSg+V/5rzM3UXOt9n0fkdfRWN/bmof8AQrat/wB/bT/4/R/bmof9Ctq3/f20/wDj9TyP+mjT2kfP7n/kbNFY39uah/0K2rf9/bT/AOP0f25qH/Qrat/39tP/AI/RyP8ApoPaR8/uf+Rs0Vjf25qH/Qrat/39tP8A4/R/bmof9Ctq3/f20/8Aj9HI/wCmg9pHz+5/5GzRWN/bmof9Ctq3/f20/wDj9H9uah/0K2rf9/bT/wCP0cj/AKaD2kfP7n/kbNFY39uah/0K2rf9/bT/AOP0f25qH/Qrat/39tP/AI/RyP8ApoPaR8/uf+Rs0Vjf25qH/Qrat/39tP8A4/R/bmof9Ctq3/f20/8Aj9HI/wCmg9pHz+5/5B4V/wCQPP8A9hK+/wDSuWtmuQ8N6xfR6VME8N6nKDqF625JLXAJupSRzMOQTg9sg4JGDWt/bmof9Ctq3/f20/8Aj9VOD5n/AJozp1FyR327M2aKxv7c1D/oVtW/7+2n/wAfo/tzUP8AoVtW/wC/tp/8fqeR/wBNGntI+f3P/I2aKxv7c1D/AKFbVv8Av7af/H6P7c1D/oVtW/7+2n/x+jkf9NB7SPn9z/yNmisb+3NQ/wChW1b/AL+2n/x+j+3NQ/6FbVv+/tp/8fo5H/TQe0j5/c/8jZorG/tzUP8AoVtW/wC/tp/8fo/tzUP+hW1b/v7af/H6OR/00HtI+f3P/I2aKxv7c1D/AKFbVv8Av7af/H6P7c1D/oVtW/7+2n/x+jkf9NB7SPn9z/yNmisb+3NQ/wChW1b/AL+2n/x+j+3NQ/6FbVv+/tp/8fo5H/TQe0j5/c/8jZorG/tzUP8AoVtW/wC/tp/8fo/tzUP+hW1b/v7af/H6OR/00HtI+f3P/I2aKxv7c1D/AKFbVv8Av7af/H6P7c1D/oVtW/7+2n/x+jkf9NB7SPn9z/yNmisb+3NQ/wChW1b/AL+2n/x+j+3NQ/6FbVv+/tp/8fo5H/TQe0j5/c/8jZorG/tzUP8AoVtW/wC/tp/8fo/tzUP+hW1b/v7af/H6OR/00HtI+f3P/I2aKxv7c1D/AKFbVv8Av7af/H6P7c1D/oVtW/7+2n/x+jkf9NB7SPn9z/yNmisb+3NQ/wChW1b/AL+2n/x+j+3NQ/6FbVv+/tp/8fo5H/TQe0j5/c/8jZorG/tzUP8AoVtW/wC/tp/8fo/tzUP+hW1b/v7af/H6OR/00HtI+f3P/I2aKxv7c1D/AKFbVv8Av7af/H6P7c1D/oVtW/7+2n/x+jkf9NB7SPn9z/yNmisb+3NQ/wChW1b/AL+2n/x+j+3NQ/6FbVv+/tp/8fo5H/TQe0j5/c/8jZorG/tzUP8AoVtW/wC/tp/8fo/tzUP+hW1b/v7af/H6OR/00HtI+f3P/I2aKxv7c1D/AKFbVv8Av7af/H6P7c1D/oVtW/7+2n/x+jkf9NB7SPn9z/yNmisb+3NQ/wChW1b/AL+2n/x+j+3NQ/6FbVv+/tp/8fo5H/TQe0j5/c/8jZorG/tzUP8AoVtW/wC/tp/8fo/tzUP+hW1b/v7af/H6OR/00HtI+f3P/I2aKxv7c1D/AKFbVv8Av7af/H6P7c1D/oVtW/7+2n/x+jkf9NB7SPn9z/yNmisb+3NQ/wChW1b/AL+2n/x+j+3NQ/6FbVv+/tp/8fo5H/TQe0j5/c/8jZorG/tzUP8AoVtW/wC/tp/8fo/tzUP+hW1b/v7af/H6OR/00HtI+f3P/I2aKxv7c1D/AKFbVv8Av7af/H6P7c1D/oVtW/7+2n/x+jkf9NB7SPn9z/yNmisb+3NQ/wChW1b/AL+2n/x+j+3NQ/6FbVv+/tp/8fo5H/TQe0j5/c/8jZorG/tzUP8AoVtW/wC/tp/8fo/tzUP+hW1b/v7af/H6OR/00HtI+f3P/I2aKxv7c1D/AKFbVv8Av7af/H6P7c1D/oVtW/7+2n/x+jkf9NB7SPn9z/yNmisb+3NQ/wChW1b/AL+2n/x+j+3NQ/6FbVv+/tp/8fo5H/TQe0j5/c/8jZorG/tzUP8AoVtW/wC/tp/8fo/tzUP+hW1b/v7af/H6OR/00HtI+f3P/I2axvGP/Ii69/2Dbj/0U1H9uah/0K2rf9/bT/4/WT4r1i+l8G61G/hvU4VbT51MjyWpVAY25OJicDrwCfaqhB8y/wA0Z1Ki5Jb7dmdfRRRWR0BRRRQAVjaH/wAhjxH/ANhJP/SS3rZrG0P/AJDHiP8A7CSf+klvVx2f9dUZz+KPr+jNmiiioNAooooAKKKKACiiigAooooAKKKKACiiigAooooAKKKKACiiigAooooAKKKKACiiigAooooAKKKKACiiigArG8Hf8iLoP/YNt/8A0UtbNY3g7/kRdB/7Btv/AOilq18D+X6mb/iL0f6GzRRRUGgUUVhxeMtCm1gaZHesZ2laBX+zyCF5VzmNZtvllxg/KG3cHjigOlzcoqnpWrWWt2AvdMm8+3Z3jD7GX5kYowwQDwykfhVygAoorM1vxDp3h2G3k1R5x9pm8iFLe1luHkfaWwEjVmPCk9O1AGnRVPS9Vt9Xs/tNpHdxx7iuLuzltnyP9iVVbHvjFXKACiiigDG8K/8AIHn/AOwlff8ApXLWzWN4V/5A8/8A2Er7/wBK5a2aufxszpfw4+iCiiioNAooooAKKKKACiiigAooooAKKKKACiiigAoorO1/X9M8L6LPq2u3P2Wxt9vmTbGfbuYKOFBPUjtQG+xo0VSXWLBtTt9PS4DXVzbtdRIFJDxKVBbdjHV1755pdV1ay0SwN7qc3kW4kSMvsZvmdgijABPLMBTsw32LlFZfiLxJpPhPRZNW8QXf2SxjZUeXy2fBY4HCgnqfSmat4q0bQ5dMj1S9EDarcLbWQEbv50jdB8oOPqcD3pb7Bsa9FFU9V1Wz0TS5tR1ObyLWAAySbC23JAHABPUigC5RUMF3HcTTxxrKGgcI5khdFJIB+UsAGGD1XIzkdQRU1ABRRWXo/iTSNfn1CHR71LqTTbk2t0qqw8qUdV5Az9RkUAalFRXVzDZWc11cvshgjaSRsE7VAyTgc9BWRo3jLRdeu1tdPmuVneHz447uxntWlj4+dBKi715HK5xketG+iA3KKCQqkscAckntWJpfjHQ9ZvxZ6feNJK6F4S9vJGlwo6tE7KFlA4yULAZoA26KiurmGys5rq5fZDBG0kjYJ2qBknA56CsfSPGei63dRW1lLdJLNH5sK3dhPa+cuM5Qyou8Y5+XNG4bG7RWfrOuWGgWiXGpyyIkkgijSKB5pJHOcKqICzHAJwAeATU+najaatp0N/p0yz2067o5FBGR9DyPoelAFmisC08baNfak1lZjUp5EuGtmkj0m6MKyKxVgZvL8vgggndj3rQ1fW7DQ7ZJ9SmZBI/lxJHE8skr4J2pGgLMcAnABOAaOlw62L9FUtJ1ex1uwF5pk/nQlihyjIyMDgqysAysD1UgEVEdf05dRtrGSSWK5upZYoI5beRPMaMZfBKgEY5DdD2Jo8gNKiioRdRm+Nptl8wR+Zu8l9mM4xvxtz/s5z3xigCaiiigAooooAKKKKACiiigAooooAKKKKACiiigAooooAKxvGP/ACIuvf8AYNuP/RTVs1jeMf8AkRde/wCwbcf+imq4fGjOr/Dl6M2aKKKg0CiiigArG0P/AJDHiP8A7CSf+klvWzWNof8AyGPEf/YST/0kt6uOz/rqjOfxR9f0Zs0UUVBoFFFFABRRRQAUUUUAFFFFABRRRQAUUUUAFFFFABRRRQAUUUUAFFFFABRRRQAUUUUAFFFFABRRRQAUUUUAFY3g7/kRdB/7Btv/AOilrZrG8Hf8iLoP/YNt/wD0UtWvgfy/Uzf8Rej/AENmiiioNAPQ4615z4fudJg+G2h2+tW8l1OuppAYYTiQXouTljyD8rgu3+yCcHpXo1UE0LSI9YbVo9Ksl1J12Nei3QTMvoXxux+NC3/roD2PD5EtLvwE8clpHd3VlZatdp9smCQWo+1SATINpJmBACkbcAnkZ56HUhZzsmt6p5d/JaafYTSzRyGO90zPIeAspVg5+8AVJAIO7IFelyeGdBmWBZtE06RbdneENaRkRM5JYrxwSSSSOuTSf8IxoBlspToem+ZYLss3+yR5tl9Izj5B7DFNO39ev+YpK/4/jb/I4O2hsrXxtFqeyO6uLjWZ7ePUraTy5zJsf/RbhXTJhUAYKseQpwMZNzxY/iS6ufCwuoNL0u//ALbAgaOaS+ix9mmyWBWE+owD757V2q6FpKaw2rppdkupOuxr0W6CYr6F8bse2adqui6VrtqttremWepQK+9Yry3WVQ2MZAYEZ5PPvSWiS7W/r+v+CXfVvvf8b/5/1sO02PUIrJV1i6tbq6yd0trbNAhHb5GdyP8AvqrdU9L0fTNDs/sui6daadbbi/k2kCxJuPU7VAGeOtXKZIUUUUgMbwr/AMgef/sJX3/pXLWzWN4V/wCQPP8A9hK+/wDSuWtmrn8bM6X8OPogoooqDQKKKKACiiigAooooAKKKKACiiigAooooAK5D4nxRz+CTFMiyRyahYq6MMhgbqIEEV19RXNpb3sPlXlvFcR7lfZKgZdykMpwe4IBB7EUdVcadnc8M1e7utI1XUtB82SKfQ9Au4UmUkN9jeeAxuD1yI9y59YzVjxtoWiWjatpWladZjSo00mc2yQqYo5nuyhYLjAZ4+GPUjr1r2Z9MsJL9r57K2a7aHyGuDEpkMec7N2M7c846VVg8L6Ba6VPpdtoemw6fcHM1pHaRrFKf9pAMHp3FUpaK/T8dW/68xdW+/4bbfdb0Of+I9hbN4T03T1hRLU6tYQiJFCqqeeg2gDoMcV580z6v/ZQuS0knhi+sNId3JBM/wBsUSHB/wBiKI5/269sbTrJ7SG1ezt2t7co0MJiUpGUIKFRjA2kDGOmOKYdI00+ZnT7U+bOtzJ+4X55lxiQ8csNq4bqMD0ojLld/O/5fpf7yZK6t5W/P/gHilq+r2unvrNpFptpqtzb6r5lxBdyy3d86ByFkQQhV8tlXG5ztAwOuKh1XSYE8Ha9bz2GiQW8mk2V0LKyne6DSGUgXLFoUUO4JBIyx25Jr2+30TSrXUrjUbXTLOG9uhie5jt0WSYf7TAZb8aig8NaFa2N1ZWui6dDa3hJuYI7RFScnqXUDDZ96laf16lPVW/rp/l+J5OdI06TxpNpTWVv/Z//AAlcMX2QRgRbBpf3No429sdMcUvhyxsr/W7XR9YhhfQ7S41n7LayKPJjeO4QJgHgFEZ9uPu846V6za+HtFshGLLSLC3EUiyRiK2RNjqmwMMDghPlB9OOlZXiHwemq20EOnDSrWOOd7iSC70mO6hkkbky7cqRIDkhg3c5Bpt6fK34JX/Uq91b+t2/xuZHgvVYNC+BOn6q7loLLS2mDHksFBI+uawvh+194f8AFGm2ur6PeaX/AGrpGJ5rtods91E5lZl8uR8ZE0hw204Xp1x6JpfhzT9N8LWugPCl5ZW8KwlLlFcSY7sMY689Kv3NjaXjQtdW0MzwMXhaSMMYmKlSVyODgkZHYkU5P3m1/W/+f4EbpL+un+Rma9d2994F1O6sp4rm3m0+Z45oXDo6mM4II4I964rw/HqVp4k8Gza9fWV6kmkyx2iWls1ubYeXGzPIGkfeMKF3AqASOOePQdP0ey03QoNIgiVrOGEQCN1BDJjGCMYwfTGPaoNL8LaBoZmOiaHpumtMu2RrOzjiLj0O0DP41O0m1/W/+Y3ql/Xb/Ij1uY6r4J1GXQ7iO4NzYSm1mgcMrkodpVhweccisTTdQ0B9O8EjyGmlkhDae0JwLcLbkO7/ADDChcqc55Ycdx1OlaZbaNpFrptiu23tYhFGDjoB7YH5ACorXQNHsLu5urDSrK1ubv8A4+J4LZEeb/eYDLfjmns3b+rX/wAw3Sv5/jb/ACKuvXdvfeBdTurKeK5t5tPmeOaFw6OpjOCCOCPeuanKyWvw5giP+kiaOUAdRGtpIHP0+YDPqwrsdP0ey03QoNIgiVrOGEQCN1BDJjGCMYwfTGPaodJ8L6BoEskmhaHpumSSjbI9naRwlx6EqBmhWUm/T8L/AOYPVL5r77f5HNfEK2l1vU9E8PR3h0w3bTXMV+nEkc0SjYiHsW3nOOSqsBjOQ34V+JJNf0fULcWNpYQaRcjT0gt3D4dEXzDuDHILk4PBI6812GpaVp2s2ZtNYsLW/tmIJhuoVlQkdDtYEUWmlafp8jSWFhbWruixs0MKoWVRhVJA6DsO1KOif9f12B62OL+H0GuldQli1HT10v8Atu/3Wzae7Tn/AEh84l84KOf+mf8AjWp4iIi8feE5rggW++6iUt0EzRDZ+O1ZAPrWivgzwumq/wBqJ4b0hdQ83zvtYsYhL5mc79+3O7POc5rSv9OstVs3s9Us7e9tpPvwXESyI31VgQaOiHLWTfe55vr8Og65renW1tYu9vJ4qMd95vzRXUos33EDcQVwApGACVYEdc8/o+i6ZL460svplnI0PiLV1i3wKdgRNyAccBWAI9DyK9ki0jTYLe0gg0+1jhsm3WsaQKFgOCMoAMKcEjjsTUUvh7RZ9nn6RYSeXcm7TfbIds/XzRkcP/tdfejZ6drfl/kKfvJL+vtf5nh0Md2PB899dRaXZ3OpeHNRe8a3u5JbnUHAGXmXyVVSjZHLtjdtFbup2WkaFr1zbpbSW9rP4ctUkSxKxvNJJd7fmYj+IkBmPOCa9TTw5occ17LHo2nrJqClbx1tUBuQeokOPnHPfNS3GjaXd+Z9q020m82D7NJ5kCtviznyzkcrn+HpT7f13/zKbTVv63i/0ON+F6ta3firTxa2djDaaoqx2Vg+6C3zbxMyodq8biSflHJPFd/VHTtE0rSC50nTLOxLqqN9mt1j3KowoO0DIAJwO1XqG72+X5EhRRRSAKKKKACiiigAooooAKKKKACiiigAooooAKxvGP8AyIuvf9g24/8ARTVs1jeMf+RF17/sG3H/AKKarh8aM6v8OXozZoooqDQKKKKACsbQ/wDkMeI/+wkn/pJb1s1mXfhrQtQunub/AEXTrq4kxvlmtUd2wMDJIyeABVRaV7kTTdmuhp0Vjf8ACHeGf+hc0n/wBi/+Jo/4Q7wz/wBC5pP/AIAxf/E07Q7/AIf8EV6nZff/AMA2aKxv+EO8M/8AQuaT/wCAMX/xNH/CHeGf+hc0n/wBi/8AiaLQ7/h/wQvU7L7/APgGzRWN/wAId4Z/6FzSf/AGL/4mj/hDvDP/AELmk/8AgDF/8TRaHf8AD/ghep2X3/8AANmisb/hDvDP/QuaT/4Axf8AxNH/AAh3hn/oXNJ/8AYv/iaLQ7/h/wAEL1Oy+/8A4Bs0Vjf8Id4Z/wChc0n/AMAYv/iaP+EO8M/9C5pP/gDF/wDE0Wh3/D/ghep2X3/8A2aKxv8AhDvDP/QuaT/4Axf/ABNH/CHeGf8AoXNJ/wDAGL/4mi0O/wCH/BC9Tsvv/wCAbNFY3/CHeGf+hc0n/wAAYv8A4mj/AIQ7wz/0Lmk/+AMX/wATRaHf8P8Aghep2X3/APANmisb/hDvDP8A0Lmk/wDgDF/8TR/wh3hn/oXNJ/8AAGL/AOJotDv+H/BC9Tsvv/4Bs0Vjf8Id4Z/6FzSf/AGL/wCJo/4Q7wz/ANC5pP8A4Axf/E0Wh3/D/ghep2X3/wDANmisb/hDvDP/AELmk/8AgDF/8TR/wh3hn/oXNJ/8AYv/AImi0O/4f8EL1Oy+/wD4Bs0Vjf8ACHeGf+hc0n/wBi/+Jo/4Q7wz/wBC5pP/AIAxf/E0Wh3/AA/4IXqdl9//AADZorG/4Q7wz/0Lmk/+AMX/AMTR/wAId4Z/6FzSf/AGL/4mi0O/4f8ABC9Tsvv/AOAbNFY3/CHeGf8AoXNJ/wDAGL/4mj/hDvDP/QuaT/4Axf8AxNFod/w/4IXqdl9//ANmisb/AIQ7wz/0Lmk/+AMX/wATR/wh3hn/AKFzSf8AwBi/+JotDv8Ah/wQvU7L7/8AgGzRWN/wh3hn/oXNJ/8AAGL/AOJo/wCEO8M/9C5pP/gDF/8AE0Wh3/D/AIIXqdl9/wDwDZorG/4Q7wz/ANC5pP8A4Axf/E0f8Id4Z/6FzSf/AABi/wDiaLQ7/h/wQvU7L7/+AbNY3g7/AJEXQf8AsG2//opaP+EO8M/9C5pP/gDF/wDE0f8ACHeGf+hc0n/wBi/+Jp+5a1/6+8m1TmUrL7/+AbNFY3/CHeGf+hc0n/wBi/8AiaP+EO8M/wDQuaT/AOAMX/xNK0O/4f8ABKvU7L7/APgGzRWN/wAId4Z/6FzSf/AGL/4mj/hDvDP/AELmk/8AgDF/8TRaHf8AD/ghep2X3/8AANmisb/hDvDP/QuaT/4Axf8AxNH/AAh3hn/oXNJ/8AYv/iaLQ7/h/wAEL1Oy+/8A4Bs0Vjf8Id4Z/wChc0n/AMAYv/iaP+EO8M/9C5pP/gDF/wDE0Wh3/D/ghep2X3/8A2aKxv8AhDvDP/QuaT/4Axf/ABNH/CHeGf8AoXNJ/wDAGL/4mi0O/wCH/BC9Tsvv/wCAbNFY3/CHeGf+hc0n/wAAYv8A4mj/AIQ7wz/0Lmk/+AMX/wATRaHf8P8Aghep2X3/APADwr/yB5/+wlff+lctbNY3/CHeGf8AoXNJ/wDAGL/4mj/hDvDP/QuaT/4Axf8AxNOXI23f+vvJiqkYqNlp5/8AANmisb/hDvDP/QuaT/4Axf8AxNH/AAh3hn/oXNJ/8AYv/iaVod/w/wCCVep2X3/8A2aKxv8AhDvDP/QuaT/4Axf/ABNH/CHeGf8AoXNJ/wDAGL/4mi0O/wCH/BC9Tsvv/wCAbNFY3/CHeGf+hc0n/wAAYv8A4mj/AIQ7wz/0Lmk/+AMX/wATRaHf8P8Aghep2X3/APANmisb/hDvDP8A0Lmk/wDgDF/8TR/wh3hn/oXNJ/8AAGL/AOJotDv+H/BC9Tsvv/4Bs0Vjf8Id4Z/6FzSf/AGL/wCJo/4Q7wz/ANC5pP8A4Axf/E0Wh3/D/ghep2X3/wDANmisb/hDvDP/AELmk/8AgDF/8TR/wh3hn/oXNJ/8AYv/AImi0O/4f8EL1Oy+/wD4Bs0Vjf8ACHeGf+hc0n/wBi/+Jo/4Q7wz/wBC5pP/AIAxf/E0Wh3/AA/4IXqdl9//AADZorG/4Q7wz/0Lmk/+AMX/AMTR/wAId4Z/6FzSf/AGL/4mi0O/4f8ABC9Tsvv/AOAbNFY3/CHeGf8AoXNJ/wDAGL/4mj/hDvDP/QuaT/4Axf8AxNFod/w/4IXqdl9//ANmisb/AIQ7wz/0Lmk/+AMX/wATR/wh3hn/AKFzSf8AwBi/+JotDv8Ah/wQvU7L7/8AgGzRWN/wh3hn/oXNJ/8AAGL/AOJo/wCEO8M/9C5pP/gDF/8AE0Wh3/D/AIIXqdl9/wDwDZorG/4Q7wz/ANC5pP8A4Axf/E0f8Id4Z/6FzSf/AABi/wDiaLQ7/h/wQvU7L7/+AbNFY3/CHeGf+hc0n/wBi/8AiaP+EO8M/wDQuaT/AOAMX/xNFod/w/4IXqdl9/8AwDZorG/4Q7wz/wBC5pP/AIAxf/E0f8Id4Z/6FzSf/AGL/wCJotDv+H/BC9Tsvv8A+AbNFY3/AAh3hn/oXNJ/8AYv/iaP+EO8M/8AQuaT/wCAMX/xNFod/wAP+CF6nZff/wAA2aKxv+EO8M/9C5pP/gDF/wDE0f8ACHeGf+hc0n/wBi/+JotDv+H/AAQvU7L7/wDgGzRWN/wh3hn/AKFzSf8AwBi/+Jo/4Q7wz/0Lmk/+AMX/AMTRaHf8P+CF6nZff/wDZorG/wCEO8M/9C5pP/gDF/8AE0f8Id4Z/wChc0n/AMAYv/iaLQ7/AIf8EL1Oy+//AIBs0Vjf8Id4Z/6FzSf/AABi/wDiaP8AhDvDP/QuaT/4Axf/ABNFod/w/wCCF6nZff8A8A2aKxv+EO8M/wDQuaT/AOAMX/xNH/CHeGf+hc0n/wAAYv8A4mi0O/4f8EL1Oy+//gGzRWN/wh3hn/oXNJ/8AYv/AImj/hDvDP8A0Lmk/wDgDF/8TRaHf8P+CF6nZff/AMA2aKxv+EO8M/8AQuaT/wCAMX/xNH/CHeGf+hc0n/wBi/8AiaLQ7/h/wQvU7L7/APgGzRWN/wAId4Z/6FzSf/AGL/4mj/hDvDP/AELmk/8AgDF/8TRaHf8AD/ghep2X3/8AANmisb/hDvDP/QuaT/4Axf8AxNH/AAh3hn/oXNJ/8AYv/iaLQ7/h/wAEL1Oy+/8A4Bs0Vjf8Id4Z/wChc0n/AMAYv/iaP+EO8M/9C5pP/gDF/wDE0Wh3/D/ghep2X3/8A2aKxv8AhDvDP/QuaT/4Axf/ABNH/CHeGf8AoXNJ/wDAGL/4mi0O/wCH/BC9Tsvv/wCAbNFY3/CHeGf+hc0n/wAAYv8A4mj/AIQ7wz/0Lmk/+AMX/wATRaHf8P8Aghep2X3/APANmisb/hDvDP8A0Lmk/wDgDF/8TR/wh3hn/oXNJ/8AAGL/AOJotDv+H/BC9Tsvv/4Bs1jeMf8AkRde/wCwbcf+imo/4Q7wz/0Lmk/+AMX/AMTR/wAId4Z/6FzSf/AGL/4mnHkTTv8A195MlUlFxstfP/gGzRRRWZsFFFFABRRRQAUUUUAFFFFABRRRQAUUUUAFFFFABRRRQAUUUUAFFFFABRRRQAUUUUAFFFFABRRRQAUUUUAFFFFABRRRQAUUUUAFFFFABRRRQAUUUUAFFFFABRRRQAUUUUAFFFFABRRRQAUUUUAFFFFABRRRQAUUUUAFFFFABRRRQAUUUUAFFFFABRRRQAUUUUAFFFFABRRRQAUUUUAFFFFABRRRQAUUUUAFFFFABRRRQAUUUUAFFFFABRRRQAUUUUAFFFFABRRRQAUUUUAFFFFABRRRQAUUUUAFFFFABRRRQAUUUUAf/9k=)"
      ],
      "metadata": {
        "id": "8Hx2W_27BchN"
      }
    },
    {
      "cell_type": "code",
      "source": [
        "#Forming an interactive code to get details of pH of a water source\n",
        "@interact\n",
        "def summary(CLASS=list(data['CLASS'].value_counts().index)):\n",
        "  river=data[data['CLASS']==CLASS]\n",
        "  print(\"....................................\")\n",
        "  print(\"List water body/source having some stations belonging to class\",CLASS)\n",
        "  print(river.Source.unique())\n",
        "  print(\"....................................\")"
      ],
      "metadata": {
        "id": "qKnMp1huBpHr",
        "colab": {
          "base_uri": "https://localhost:8080/",
          "height": 285,
          "referenced_widgets": [
            "c65d0531c6c544cb8f89ef0b77fa624b",
            "f4c78905e9b242a8916228469618b7dc",
            "cc858c724f43483085427fa054915191",
            "44d8cde5b89746b09cca9426113cabec",
            "52896e6caa624987aa04b23eaca912d3",
            "9dfe660bc1124bf5951a78d29ce4a646",
            "f31f7b85df254b139ec5169c8f07d021"
          ]
        },
        "outputId": "db1fd781-9601-4803-8adc-8033ecb13bbc"
      },
      "execution_count": null,
      "outputs": [
        {
          "output_type": "display_data",
          "data": {
            "application/vnd.jupyter.widget-view+json": {
              "model_id": "c65d0531c6c544cb8f89ef0b77fa624b",
              "version_minor": 0,
              "version_major": 2
            },
            "text/plain": [
              "interactive(children=(Dropdown(description='CLASS', options=('B', 'C', 'Below E', 'D', 'E', 'A'), value='B'), …"
            ]
          },
          "metadata": {}
        }
      ]
    },
    {
      "cell_type": "code",
      "source": [
        "#Forming an interactive code to get details of pH of a water source\n",
        "@interact\n",
        "def summary(CLASS=list(data['CLASS'].value_counts().index)):\n",
        "  river=data[data['CLASS']==CLASS]\n",
        "  print(\"....................................\")\n",
        "  print(\"List water stations belonging to class\",CLASS)\n",
        "  print(river.Stations)\n",
        "  print(\"....................................\")"
      ],
      "metadata": {
        "id": "QXLDDmbENeIC",
        "colab": {
          "base_uri": "https://localhost:8080/",
          "height": 322,
          "referenced_widgets": [
            "595564808a484c9f9e48595fd1330579",
            "57be1ec2d7894fc08050e5182b3655e7",
            "ca5cbd89d52b4fe4accb3e16c106b269",
            "5179264a2dfc443a89ceaea5119acbb5",
            "fe202fc1fe9741368c26443329a8d529",
            "cfb76ccbfbd9473c9978bf1d2d090977",
            "c95b57563995487cada9fdc1f98ec1c7"
          ]
        },
        "outputId": "5336a3fb-6f03-445e-caad-8a7d88b4a635"
      },
      "execution_count": null,
      "outputs": [
        {
          "output_type": "display_data",
          "data": {
            "application/vnd.jupyter.widget-view+json": {
              "model_id": "595564808a484c9f9e48595fd1330579",
              "version_minor": 0,
              "version_major": 2
            },
            "text/plain": [
              "interactive(children=(Dropdown(description='CLASS', options=('B', 'C', 'Below E', 'D', 'E', 'A'), value='B'), …"
            ]
          },
          "metadata": {}
        }
      ]
    },
    {
      "cell_type": "markdown",
      "metadata": {
        "id": "34Lb8hy1onN2"
      },
      "source": [
        "##pH\n",
        "pH is a scale from 1 to 14 that measures the acidity or alkalinity of a liquid. In the middle of the scale is pure distilled water, with a neutral pH of 7. Anything with a pH below 7 is an acid, and anything with a pH above 7 is an alkali, or base.\n",
        "\n",
        " The Environmental Protection Agency (EPA) recommend keeping the pH between 6.5 and 8.5 in drinking water, and many states in the United States choose to enforce these levels.\n",
        "\n",
        "##EC\n",
        "Pure water is not a good conductor of electric current rather’s a good insulator. Increase in ions concentration enhances the electrical conductivity of water. Generally, the amount of dissolved solids in water determines the electrical conductivity. Electrical conductivity (EC) actually measures the ionic process of a solution that enables it to transmit current. According to WHO standards, EC value should not exceeded 400 μS/cm.\n",
        "\n",
        "##DO\n",
        "Dissolved oxygen refers to the level of free, non-compound oxygen present in water or other liquids. It is an important parameter in assessing water quality because of its influence on the organisms living within a body of water. In limnology (the study of lakes), dissolved oxygen is an essential factor second only to water itself ¹.  A dissolved oxygen level that is too high or too low can harm aquatic life and affect water quality.\n",
        "\n",
        "Healthy water should generally have dissolved oxygen concentrations above 6.5-8 mg/L and between about 80-120 %.\n",
        "\n",
        "##BOD\n",
        "Biochemical oxygen demand (BOD) is the amount of dissolved oxygen (DO) needed (i.e. demanded) by aerobic biological organisms to break down organic material present in a given water sample at certain temperature over a specific time period.\n",
        "\n",
        "A sample with a 5-day BOD between 1 and 2 mg O/L indicates a very clean water, 3.0 to 5.0 mg O/L indicates a moderately clean water and > 5 mg O/L indicates a nearby pollution source.\n",
        "\n",
        "##TC and FC\n",
        "The name \"coliform\" is given to a whole group of bacteria which can occur in water and indicate potential health problems. They are divided into two groups: TOTAL coliform (TC), which are all of the coliform bacteria, and FECAL coliforms (FC), which are a portion of the TC. Both of these bacteria are closely related inside a large family of bacteria known as the ENTERICS. However, most of the enterics do belong to the TC group, but very few belong to the FC group, which is considered much more serious from the hygiene viewpoint.\n",
        "\n",
        "There are two criteria within the water quality standard for fecal coliform (FC) The first criterion is a geometric mean less than 100 FC/100mL. The second criterion is less than 10% of the samples exceed 200 FC/mL"
      ]
    },
    {
      "cell_type": "markdown",
      "source": [
        "## Checking above parameters of water bodies and water stations"
      ],
      "metadata": {
        "id": "WU_0eBHd8x6p"
      }
    },
    {
      "cell_type": "code",
      "source": [
        "#Forming an interactive code to get details of a water source\n",
        "@interact\n",
        "def summary(Source=list(data['Source'].value_counts().index)):\n",
        "  river=data[data['Source']==Source]\n",
        "\n",
        "  print(\"....................................\")\n",
        "  print(\"Statistics for pH\")\n",
        "  print(\"Minimum pH of the water body is :\",river['ph_min'].min())\n",
        "  print(\"Average pH of the water body is :\",river['ph_mean'].mean())\n",
        "  print(\"Maximum pH of the water body is :\",river['ph_max'].max())\n",
        "  print(\"....................................\")\n",
        "\n",
        "  print(\"....................................\")\n",
        "  print(\"Statistics for EC\")\n",
        "  print(\"Minimum EC of the water body in µmhos/cm is :\",river['EC_min_µmhos/cm'].min())\n",
        "  print(\"Average EC of the water body in µmhos/cm is :\",river['EC_µmhos/cm_mean'].mean())\n",
        "  print(\"Maximum EC of the water body in µmhos/cm is :\",river['EC_max_µmhos/cm'].max())\n",
        "  print(\"....................................\")\n",
        "\n",
        "  print(\"....................................\")\n",
        "  print(\"Statistics for DO\")\n",
        "  print(\"Minimum DO of the water body in mg/l is :\",river['DO_min_mg/l'].min())\n",
        "  print(\"Average DO of the water body in mg/l is :\",river['DO_mean'].mean())\n",
        "  print(\"Maximum DO of the water body in mg/l is : :\",river['DO_max'].max())\n",
        "  print(\"....................................\")\n",
        "\n",
        "  print(\"....................................\")\n",
        "  print(\"Statistics for BOD\")\n",
        "  print(\"Minimum BOD of the water body in mg/l is :\",river['BOD_min_mg/l'].min())\n",
        "  print(\"Average BOD of the water body in mg/l is :\",river['BOD_mean'].mean())\n",
        "  print(\"Maximum BOD of the water body in mg/l is :\",river['BOD_max_mg/l'].max())\n",
        "  print(\"....................................\")\n",
        "\n",
        "  print(\"....................................\")\n",
        "  print(\"Statistics for TC\")\n",
        "  print(\"Minimum TC of the water body in mg/l is :\",river['TC_min_MPN/100ml'].min())\n",
        "  print(\"Average TC of the water body in mg/l is :\",river['TC_MPN/100ml_mean'].mean())\n",
        "  print(\"Maximum TC of the water body in mg/l is :\",river['TC_max_MPN/100ml'].max())\n",
        "\n",
        "  print(\"....................................\")\n",
        "  print(\"Statistics for FC\")\n",
        "  print(\"Minimum FC of the water body in MPN/100ml is :\",river['FC_min_MPN/100ml'].min())\n",
        "  print(\"Average FC of the water body in MPN/100ml is :\",river['FC_MPN/100ml_mean'].mean())\n",
        "  print(\"Maximum FC of the water body in MPN/100ml is :\",river['FC_max_MPN/100ml'].max())\n",
        "  print(\"....................................\")"
      ],
      "metadata": {
        "id": "3ewR9F_F95xX",
        "colab": {
          "base_uri": "https://localhost:8080/",
          "height": 702,
          "referenced_widgets": [
            "c1b7e39bb8dc49c6abd4f7a766cdc581",
            "768a8ccca32b4fb088cdd667f125d4f3",
            "5cc90de047114ed0889f2e5bbeb9df53",
            "e1a62c5e60ba47f6a515cbbc61a57c96",
            "0ae3b8c3e37c42e7ae6caa80f87dcd16",
            "ffd3b6473de341b3be6bfdc9d060ea3d",
            "2ebff98c4c694ec69b33fd447c3ee784"
          ]
        },
        "outputId": "e11cc1db-587b-4158-e335-9306546f31a8"
      },
      "execution_count": null,
      "outputs": [
        {
          "output_type": "display_data",
          "data": {
            "application/vnd.jupyter.widget-view+json": {
              "model_id": "c1b7e39bb8dc49c6abd4f7a766cdc581",
              "version_minor": 0,
              "version_major": 2
            },
            "text/plain": [
              "interactive(children=(Dropdown(description='Source', options=('BHARATHAPUZHA', 'PAMBA RIVER', 'MANIMALA RIVER'…"
            ]
          },
          "metadata": {}
        }
      ]
    },
    {
      "cell_type": "code",
      "source": [
        "#Forming an interactive code to get details of pH of a water station\n",
        "@interact\n",
        "def summary(Stations=list(data['Stations'].value_counts().index)):\n",
        "  river=data[data['Stations']==Stations]\n",
        "  \n",
        "  print(\"....................................\")\n",
        "  print(\"Statistics for pH\")\n",
        "  print(\"Minimum pH of the water station is :\",river['ph_min'].min())\n",
        "  print(\"Average pH of the water station is :\",river['ph_mean'].mean())\n",
        "  print(\"Maximum pH of the water station is :\",river['ph_max'].max())\n",
        "  print(\"....................................\")\n",
        "\n",
        "  print(\"....................................\")\n",
        "  print(\"Statistics for EC\")\n",
        "  print(\"Minimum EC of the water station in µmhos/cm is :\",river['EC_min_µmhos/cm'].min())\n",
        "  print(\"Average EC of the water station in µmhos/cm is :\",river['EC_µmhos/cm_mean'].mean())\n",
        "  print(\"Maximum EC of the water station in µmhos/cm is :\",river['EC_max_µmhos/cm'].max())\n",
        "  print(\"....................................\")\n",
        "\n",
        "  print(\"....................................\")\n",
        "  print(\"Statistics for DO\")\n",
        "  print(\"Minimum DO of the water station in mg/l is :\",river['DO_min_mg/l'].min())\n",
        "  print(\"Average DO of the water station in mg/l is :\",river['DO_mean'].mean())\n",
        "  print(\"Maximum DO of the water station in mg/l is : :\",river['DO_max'].max())\n",
        "  print(\"....................................\")\n",
        "\n",
        "  print(\"....................................\")\n",
        "  print(\"Statistics for BOD\")\n",
        "  print(\"Minimum BOD of the water station in mg/l is :\",river['BOD_min_mg/l'].min())\n",
        "  print(\"Average BOD of the water station in mg/l is :\",river['BOD_mean'].mean())\n",
        "  print(\"Maximum BOD of the water station in mg/l is :\",river['BOD_max_mg/l'].max())\n",
        "  print(\"....................................\")\n",
        "\n",
        "  print(\"....................................\")\n",
        "  print(\"Statistics for TC\")\n",
        "  print(\"Minimum TC of the water station in MPN/100ml is :\",river['TC_min_MPN/100ml'].min())\n",
        "  print(\"Average TC of the water station in MPN/100ml is :\",river['TC_MPN/100ml_mean'].mean())\n",
        "  print(\"Maximum TC of the water station in MPN/100ml is :\",river['TC_max_MPN/100ml'].max())\n",
        "  print(\"....................................\")\n",
        "\n",
        "  print(\"....................................\")\n",
        "  print(\"Statistics for FC\")\n",
        "  print(\"Minimum FC of the water station in MPN/100ml is :\",river['FC_min_MPN/100ml'].min())\n",
        "  print(\"Average FC of the water station in MPN/100ml is :\",river['FC_MPN/100ml_mean'].mean())\n",
        "  print(\"Maximum FC of the water station in MPN/100ml is :\",river['FC_max_MPN/100ml'].max())\n",
        "  print(\"....................................\")"
      ],
      "metadata": {
        "id": "GvP4aI5I96PP",
        "colab": {
          "base_uri": "https://localhost:8080/",
          "height": 702,
          "referenced_widgets": [
            "d36c2c0b9edf417b906557c19c2593f2",
            "57dbc5791d6b413c9a1925ea8392c8c7",
            "61133056188a484b8e275e8ef943b0d1",
            "61e776c51f3a4a409be6a00d1cfab0ff",
            "002a8334bb5a49f4a6f4a8bfe2fcb6dc",
            "55fdae0cf3364d58b18363336ed77af4",
            "0dbad91f8c624c3e8cc2e02a060db20a"
          ]
        },
        "outputId": "eec49ae3-41c8-494b-d619-25d93a7e0d99"
      },
      "execution_count": null,
      "outputs": [
        {
          "output_type": "display_data",
          "data": {
            "application/vnd.jupyter.widget-view+json": {
              "model_id": "d36c2c0b9edf417b906557c19c2593f2",
              "version_minor": 0,
              "version_major": 2
            },
            "text/plain": [
              "interactive(children=(Dropdown(description='Stations', options=('Pazhassi\\xa0\\xa0', 'Vandithadam\\xa0\\xa0', 'Or…"
            ]
          },
          "metadata": {}
        }
      ]
    },
    {
      "cell_type": "markdown",
      "source": [
        "![image3.JPG](data:image/jpeg;base64,/9j/4AAQSkZJRgABAQEAeAB4AAD/4RDQRXhpZgAATU0AKgAAAAgABAE7AAIAAAADaHAAAIdpAAQAAAABAAAISpydAAEAAAAGAAAQwuocAAcAAAgMAAAAPgAAAAAc6gAAAAgAAAAAAAAAAAAAAAAAAAAAAAAAAAAAAAAAAAAAAAAAAAAAAAAAAAAAAAAAAAAAAAAAAAAAAAAAAAAAAAAAAAAAAAAAAAAAAAAAAAAAAAAAAAAAAAAAAAAAAAAAAAAAAAAAAAAAAAAAAAAAAAAAAAAAAAAAAAAAAAAAAAAAAAAAAAAAAAAAAAAAAAAAAAAAAAAAAAAAAAAAAAAAAAAAAAAAAAAAAAAAAAAAAAAAAAAAAAAAAAAAAAAAAAAAAAAAAAAAAAAAAAAAAAAAAAAAAAAAAAAAAAAAAAAAAAAAAAAAAAAAAAAAAAAAAAAAAAAAAAAAAAAAAAAAAAAAAAAAAAAAAAAAAAAAAAAAAAAAAAAAAAAAAAAAAAAAAAAAAAAAAAAAAAAAAAAAAAAAAAAAAAAAAAAAAAAAAAAAAAAAAAAAAAAAAAAAAAAAAAAAAAAAAAAAAAAAAAAAAAAAAAAAAAAAAAAAAAAAAAAAAAAAAAAAAAAAAAAAAAAAAAAAAAAAAAAAAAAAAAAAAAAAAAAAAAAAAAAAAAAAAAAAAAAAAAAAAAAAAAAAAAAAAAAAAAAAAAAAAAAAAAAAAAAAAAAAAAAAAAAAAAAAAAAAAAAAAAAAAAAAAAAAAAAAAAAAAAAAAAAAAAAAAAAAAAAAAAAAAAAAAAAAAAAAAAAAAAAAAAAAAAAAAAAAAAAAAAAAAAAAAAAAAAAAAAAAAAAAAAAAAAAAAAAAAAAAAAAAAAAAAAAAAAAAAAAAAAAAAAAAAAAAAAAAAAAAAAAAAAAAAAAAAAAAAAAAAAAAAAAAAAAAAAAAAAAAAAAAAAAAAAAAAAAAAAAAAAAAAAAAAAAAAAAAAAAAAAAAAAAAAAAAAAAAAAAAAAAAAAAAAAAAAAAAAAAAAAAAAAAAAAAAAAAAAAAAAAAAAAAAAAAAAAAAAAAAAAAAAAAAAAAAAAAAAAAAAAAAAAAAAAAAAAAAAAAAAAAAAAAAAAAAAAAAAAAAAAAAAAAAAAAAAAAAAAAAAAAAAAAAAAAAAAAAAAAAAAAAAAAAAAAAAAAAAAAAAAAAAAAAAAAAAAAAAAAAAAAAAAAAAAAAAAAAAAAAAAAAAAAAAAAAAAAAAAAAAAAAAAAAAAAAAAAAAAAAAAAAAAAAAAAAAAAAAAAAAAAAAAAAAAAAAAAAAAAAAAAAAAAAAAAAAAAAAAAAAAAAAAAAAAAAAAAAAAAAAAAAAAAAAAAAAAAAAAAAAAAAAAAAAAAAAAAAAAAAAAAAAAAAAAAAAAAAAAAAAAAAAAAAAAAAAAAAAAAAAAAAAAAAAAAAAAAAAAAAAAAAAAAAAAAAAAAAAAAAAAAAAAAAAAAAAAAAAAAAAAAAAAAAAAAAAAAAAAAAAAAAAAAAAAAAAAAAAAAAAAAAAAAAAAAAAAAAAAAAAAAAAAAAAAAAAAAAAAAAAAAAAAAAAAAAAAAAAAAAAAAAAAAAAAAAAAAAAAAAAAAAAAAAAAAAAAAAAAAAAAAAAAAAAAAAAAAAAAAAAAAAAAAAAAAAAAAAAAAAAAAAAAAAAAAAAAAAAAAAAAAAAAAAAAAAAAAAAAAAAAAAAAAAAAAAAAAAAAAAAAAAAAAAAAAAAAAAAAAAAAAAAAAAAAAAAAAAAAAAAAAAAAAAAAAAAAAAAAAAAAAAAAAAAAAAAAAAAAAAAAAAAAAAAAAAAAAAAAAAAAAAAAAAAAAAAAAAAAAAAAAAAAAAAAAAAAAAAAAAAAAAAAAAAAAAAAAAAAAAAAAAAAAAAAAAAAAAAAAAAAAAAAAAAAAAAAAAAAAAAAAAAAAAAAAAAAAAAAAAAAAAAAAAAAAAAAAAAAAAAAAAAAAAAAAAAAAAAAAAAAAAAAAAAAAAAAAAAAAAAAAAAAAAAAAAAAAAAAAAAAAAAAAAAAAAAAAAAAAAAAAAAAAAAAAAAAAAAAAAAAAAAAAAAAAAAAAAAAAAAAAAAAAAAAAAAAAAAAAAAAAAAAAAAAAAAAAAAAAAAAAAAAAAAAAAAAAAAAAAAAAAAAAAAAAAAAAAAAAAAAAAAAAAAAAAAAAAAAAAAAAAAAAAAAAAAAAAAAAAAAAAAAAAAAAAAAAAAAAAAAAAAAAAAAAAAAAAAAAAAAAAAAAAAAAAAAAAAAAAAAAAAAAAAAAAAAAAAAAAAAAAAAAAAAAAAAAAAAAAAAAAAAAAAAAAAAAAAAAAAAAAAAAAAAAAAAAAAAAAAAAAAAAAAAAAAAAAAAAAAAAAAAAAAAAAAAAAAAAAAAAAAAAAAAAAAAAAAAAAAAAAAAAAAAAAAAAAAAAAAAAAAAAAAAAAAAAAAAAAAAAAAAAAAAAAAAAAAAAAAAAAAAAAAAAAAAAAAAAAAAAAAAAAAAAAAAAAAAAAAAAAAAAAAAAAAAAAAAAAAAAAAAAAAAAAAAAAAAAAAAAAAAAAAAAAAAAAAAAAAAAAAAAAAAAAAAAAAAAAAAAAAAAAAAAAAAAAAAAAAAAAAAAAAAAAAAAAAAAAAAAAAAAAAAAAAAAAAAAAAAAAAAAAAAAAAAAAAAAAAAAAAAAAAAAAAAAAAAAAAAAAAAAAAAAAAAAAAAAAAAAAAAAAAAAAAAAAAAAAAAAAAAAAAAAAAAAAAAAAAAAAAAAAAAAAAAAAAAAAAAAAAAAAAAAAAAAAAAAAAAAAAAAAAAAAAAAAAAAAAAAAAAAAAAAAAAAAAAAAAAAAAAAAAAAAAAAAAAAAAAAAAAAAAAAAAAAAAAAAAAAAAAAFkAMAAgAAABQAABCYkAQAAgAAABQAABCskpEAAgAAAAM3NAAAkpIAAgAAAAM3NAAA6hwABwAACAwAAAiMAAAAABzqAAAACAAAAAAAAAAAAAAAAAAAAAAAAAAAAAAAAAAAAAAAAAAAAAAAAAAAAAAAAAAAAAAAAAAAAAAAAAAAAAAAAAAAAAAAAAAAAAAAAAAAAAAAAAAAAAAAAAAAAAAAAAAAAAAAAAAAAAAAAAAAAAAAAAAAAAAAAAAAAAAAAAAAAAAAAAAAAAAAAAAAAAAAAAAAAAAAAAAAAAAAAAAAAAAAAAAAAAAAAAAAAAAAAAAAAAAAAAAAAAAAAAAAAAAAAAAAAAAAAAAAAAAAAAAAAAAAAAAAAAAAAAAAAAAAAAAAAAAAAAAAAAAAAAAAAAAAAAAAAAAAAAAAAAAAAAAAAAAAAAAAAAAAAAAAAAAAAAAAAAAAAAAAAAAAAAAAAAAAAAAAAAAAAAAAAAAAAAAAAAAAAAAAAAAAAAAAAAAAAAAAAAAAAAAAAAAAAAAAAAAAAAAAAAAAAAAAAAAAAAAAAAAAAAAAAAAAAAAAAAAAAAAAAAAAAAAAAAAAAAAAAAAAAAAAAAAAAAAAAAAAAAAAAAAAAAAAAAAAAAAAAAAAAAAAAAAAAAAAAAAAAAAAAAAAAAAAAAAAAAAAAAAAAAAAAAAAAAAAAAAAAAAAAAAAAAAAAAAAAAAAAAAAAAAAAAAAAAAAAAAAAAAAAAAAAAAAAAAAAAAAAAAAAAAAAAAAAAAAAAAAAAAAAAAAAAAAAAAAAAAAAAAAAAAAAAAAAAAAAAAAAAAAAAAAAAAAAAAAAAAAAAAAAAAAAAAAAAAAAAAAAAAAAAAAAAAAAAAAAAAAAAAAAAAAAAAAAAAAAAAAAAAAAAAAAAAAAAAAAAAAAAAAAAAAAAAAAAAAAAAAAAAAAAAAAAAAAAAAAAAAAAAAAAAAAAAAAAAAAAAAAAAAAAAAAAAAAAAAAAAAAAAAAAAAAAAAAAAAAAAAAAAAAAAAAAAAAAAAAAAAAAAAAAAAAAAAAAAAAAAAAAAAAAAAAAAAAAAAAAAAAAAAAAAAAAAAAAAAAAAAAAAAAAAAAAAAAAAAAAAAAAAAAAAAAAAAAAAAAAAAAAAAAAAAAAAAAAAAAAAAAAAAAAAAAAAAAAAAAAAAAAAAAAAAAAAAAAAAAAAAAAAAAAAAAAAAAAAAAAAAAAAAAAAAAAAAAAAAAAAAAAAAAAAAAAAAAAAAAAAAAAAAAAAAAAAAAAAAAAAAAAAAAAAAAAAAAAAAAAAAAAAAAAAAAAAAAAAAAAAAAAAAAAAAAAAAAAAAAAAAAAAAAAAAAAAAAAAAAAAAAAAAAAAAAAAAAAAAAAAAAAAAAAAAAAAAAAAAAAAAAAAAAAAAAAAAAAAAAAAAAAAAAAAAAAAAAAAAAAAAAAAAAAAAAAAAAAAAAAAAAAAAAAAAAAAAAAAAAAAAAAAAAAAAAAAAAAAAAAAAAAAAAAAAAAAAAAAAAAAAAAAAAAAAAAAAAAAAAAAAAAAAAAAAAAAAAAAAAAAAAAAAAAAAAAAAAAAAAAAAAAAAAAAAAAAAAAAAAAAAAAAAAAAAAAAAAAAAAAAAAAAAAAAAAAAAAAAAAAAAAAAAAAAAAAAAAAAAAAAAAAAAAAAAAAAAAAAAAAAAAAAAAAAAAAAAAAAAAAAAAAAAAAAAAAAAAAAAAAAAAAAAAAAAAAAAAAAAAAAAAAAAAAAAAAAAAAAAAAAAAAAAAAAAAAAAAAAAAAAAAAAAAAAAAAAAAAAAAAAAAAAAAAAAAAAAAAAAAAAAAAAAAAAAAAAAAAAAAAAAAAAAAAAAAAAAAAAAAAAAAAAAAAAAAAAAAAAAAAAAAAAAAAAAAAAAAAAAAAAAAAAAAAAAAAAAAAAAAAAAAAAAAAAAAAAAAAAAAAAAAAAAAAAAAAAAAAAAAAAAAAAAAAAAAAAAAAAAAAAAAAAAAAAAAAAAAAAAAAAAAAAAAAAAAAAAAAAAAAAAAAAAAAAAAAAAAAAAAAAAAAAAAAAAAAAAAAAAAAAAAAAAAAAAAAAAAAAAAAAAAAAAAAAAAAAAAAAAAAAAAAAAAAAAAAAAAAAAAAAAAAAAAAAAAAAAAAAAAAAAAAAAAAAAAAAAAAAAAAAAAAAAAAAAAAAAAAAAAAAAAAAAAAAAAAAAAAAAAAAAAAAAAAAAAAAAAAAAAAAAAAAAAAAAAAAAAAAAAAAAAAAAAAAAAAAAAAAAAAAAAAAAAAAAAAAAAAAAAAAAAAAAAAAAAAAAAAAAAAAAAAAAAAAAAAAAAAAAAAAAAAAAAAAAAAAAAAAAAAAAAAAAAAAAAAAAAAAAAAAAAAAAAAAAAAAAAAAAAAAAAAAAAAAAAAAAAAAAAAAAAAAAAAAAAAAAAAAAAAAAAAAAAAAAAAAAAAAAAAAAAAAAAAAAAAAAAAAAAAAAAAAAAAAAAAAAAAAAAAAAAAAAAAAAAAAAAAAAAAAAAAAAAAAAAAAAAAAAAAAAAAAAAAAAAAAAAAAAAAAAAAAAAAAAAAAAAAAAAAAAAAAAAAAAAAAAAAAAAAAAAAAAAAAAAAAAAAAAAAAAAAAAAAAAAAAAAAAAAAAAAAAAAAAAAAAAAAAAAAAAAAAAAAAAAAAAAAAAAAAAAAAAAAAAAAAAAAAAAAAAAAAAAAAAAAAAAAAAAAAAAAAAAAAAAAAAAAAAAAAAAAAAAAAAAAAAAAAAAAAAAAAAAAAAAAAAAAAAAAAAAAAAAAAAAAAAAAAAAAAAAAAAAAAAAAAAAAAAAAAAAAAAAAAAAAAAAAAAAAAAAAAAAAAAAAAAAAAAAAAAMjAyMToxMjoyNyAxNDo1ODoxMAAyMDIxOjEyOjI3IDE0OjU4OjEwAAAAaABwAAAA/+ELFWh0dHA6Ly9ucy5hZG9iZS5jb20veGFwLzEuMC8APD94cGFja2V0IGJlZ2luPSfvu78nIGlkPSdXNU0wTXBDZWhpSHpyZVN6TlRjemtjOWQnPz4NCjx4OnhtcG1ldGEgeG1sbnM6eD0iYWRvYmU6bnM6bWV0YS8iPjxyZGY6UkRGIHhtbG5zOnJkZj0iaHR0cDovL3d3dy53My5vcmcvMTk5OS8wMi8yMi1yZGYtc3ludGF4LW5zIyI+PHJkZjpEZXNjcmlwdGlvbiByZGY6YWJvdXQ9InV1aWQ6ZmFmNWJkZDUtYmEzZC0xMWRhLWFkMzEtZDMzZDc1MTgyZjFiIiB4bWxuczpkYz0iaHR0cDovL3B1cmwub3JnL2RjL2VsZW1lbnRzLzEuMS8iLz48cmRmOkRlc2NyaXB0aW9uIHJkZjphYm91dD0idXVpZDpmYWY1YmRkNS1iYTNkLTExZGEtYWQzMS1kMzNkNzUxODJmMWIiIHhtbG5zOnhtcD0iaHR0cDovL25zLmFkb2JlLmNvbS94YXAvMS4wLyI+PHhtcDpDcmVhdGVEYXRlPjIwMjEtMTItMjdUMTQ6NTg6MTAuNzQwPC94bXA6Q3JlYXRlRGF0ZT48L3JkZjpEZXNjcmlwdGlvbj48cmRmOkRlc2NyaXB0aW9uIHJkZjphYm91dD0idXVpZDpmYWY1YmRkNS1iYTNkLTExZGEtYWQzMS1kMzNkNzUxODJmMWIiIHhtbG5zOmRjPSJodHRwOi8vcHVybC5vcmcvZGMvZWxlbWVudHMvMS4xLyI+PGRjOmNyZWF0b3I+PHJkZjpTZXEgeG1sbnM6cmRmPSJodHRwOi8vd3d3LnczLm9yZy8xOTk5LzAyLzIyLXJkZi1zeW50YXgtbnMjIj48cmRmOmxpPmhwPC9yZGY6bGk+PC9yZGY6U2VxPg0KCQkJPC9kYzpjcmVhdG9yPjwvcmRmOkRlc2NyaXB0aW9uPjwvcmRmOlJERj48L3g6eG1wbWV0YT4NCiAgICAgICAgICAgICAgICAgICAgICAgICAgICAgICAgICAgICAgICAgICAgICAgICAgICAgICAgICAgICAgICAgICAgICAgICAgICAgICAgICAgICAgICAgICAgICAgICAgICAKICAgICAgICAgICAgICAgICAgICAgICAgICAgICAgICAgICAgICAgICAgICAgICAgICAgICAgICAgICAgICAgICAgICAgICAgICAgICAgICAgICAgICAgICAgICAgICAgICAgIAogICAgICAgICAgICAgICAgICAgICAgICAgICAgICAgICAgICAgICAgICAgICAgICAgICAgICAgICAgICAgICAgICAgICAgICAgICAgICAgICAgICAgICAgICAgICAgICAgICAgCiAgICAgICAgICAgICAgICAgICAgICAgICAgICAgICAgICAgICAgICAgICAgICAgICAgICAgICAgICAgICAgICAgICAgICAgICAgICAgICAgICAgICAgICAgICAgICAgICAgICAKICAgICAgICAgICAgICAgICAgICAgICAgICAgICAgICAgICAgICAgICAgICAgICAgICAgICAgICAgICAgICAgICAgICAgICAgICAgICAgICAgICAgICAgICAgICAgICAgICAgIAogICAgICAgICAgICAgICAgICAgICAgICAgICAgICAgICAgICAgICAgICAgICAgICAgICAgICAgICAgICAgICAgICAgICAgICAgICAgICAgICAgICAgICAgICAgICAgICAgICAgCiAgICAgICAgICAgICAgICAgICAgICAgICAgICAgICAgICAgICAgICAgICAgICAgICAgICAgICAgICAgICAgICAgICAgICAgICAgICAgICAgICAgICAgICAgICAgICAgICAgICAKICAgICAgICAgICAgICAgICAgICAgICAgICAgICAgICAgICAgICAgICAgICAgICAgICAgICAgICAgICAgICAgICAgICAgICAgICAgICAgICAgICAgICAgICAgICAgICAgICAgIAogICAgICAgICAgICAgICAgICAgICAgICAgICAgICAgICAgICAgICAgICAgICAgICAgICAgICAgICAgICAgICAgICAgICAgICAgICAgICAgICAgICAgICAgICAgICAgICAgICAgCiAgICAgICAgICAgICAgICAgICAgICAgICAgICAgICAgICAgICAgICAgICAgICAgICAgICAgICAgICAgICAgICAgICAgICAgICAgICAgICAgICAgICAgICAgICAgICAgICAgICAKICAgICAgICAgICAgICAgICAgICAgICAgICAgICAgICAgICAgICAgICAgICAgICAgICAgICAgICAgICAgICAgICAgICAgICAgICAgICAgICAgICAgICAgICAgICAgICAgICAgIAogICAgICAgICAgICAgICAgICAgICAgICAgICAgICAgICAgICAgICAgICAgICAgICAgICAgICAgICAgICAgICAgICAgICAgICAgICAgICAgICAgICAgICAgICAgICAgICAgICAgCiAgICAgICAgICAgICAgICAgICAgICAgICAgICAgICAgICAgICAgICAgICAgICAgICAgICAgICAgICAgICAgICAgICAgICAgICAgICAgICAgICAgICAgICAgICAgICAgICAgICAKICAgICAgICAgICAgICAgICAgICAgICAgICAgICAgICAgICAgICAgICAgICAgICAgICAgICAgICAgICAgICAgICAgICAgICAgICAgICAgICAgICAgICAgICAgICAgICAgICAgIAogICAgICAgICAgICAgICAgICAgICAgICAgICAgICAgICAgICAgICAgICAgICAgICAgICAgICAgICAgICAgICAgICAgICAgICAgICAgICAgICAgICAgICAgICAgICAgICAgICAgCiAgICAgICAgICAgICAgICAgICAgICAgICAgICAgICAgICAgICAgICAgICAgICAgICAgICAgICAgICAgICAgICAgICAgICAgICAgICAgICAgICAgICAgICAgICAgICAgICAgICAKICAgICAgICAgICAgICAgICAgICAgICAgICAgICAgICAgICAgICAgICAgICAgICAgICAgICAgICAgICAgICAgICAgICAgICAgICAgICAgICAgICAgICAgICAgICAgICAgICAgIAogICAgICAgICAgICAgICAgICAgICAgICAgICAgICAgICAgICAgICAgICAgICAgICAgICAgICAgICAgICAgICAgICAgICAgICAgICAgICAgICAgICAgICAgICAgICAgICAgICAgCiAgICAgICAgICAgICAgICAgICAgICAgICAgICAgICAgICAgICAgICAgICAgICAgICAgICAgICAgICAgICAgICAgICAgICAgICAgICAgICAgICAgICAgICAgICAgICAgICAgICAKICAgICAgICAgICAgICAgICAgICAgICAgICAgICAgICAgICAgICAgICAgICAgICAgICAgICAgICAgICAgICAgICAgICAgICAgICAgICAgICAgICAgICAgICAgICAgICAgICAgIAogICAgICAgICAgICAgICAgICAgICAgICAgICAgPD94cGFja2V0IGVuZD0ndyc/Pv/bAEMABwUFBgUEBwYFBggHBwgKEQsKCQkKFQ8QDBEYFRoZGBUYFxseJyEbHSUdFxgiLiIlKCkrLCsaIC8zLyoyJyorKv/bAEMBBwgICgkKFAsLFCocGBwqKioqKioqKioqKioqKioqKioqKioqKioqKioqKioqKioqKioqKioqKioqKioqKioqKv/AABEIAsMEFQMBIgACEQEDEQH/xAAfAAABBQEBAQEBAQAAAAAAAAAAAQIDBAUGBwgJCgv/xAC1EAACAQMDAgQDBQUEBAAAAX0BAgMABBEFEiExQQYTUWEHInEUMoGRoQgjQrHBFVLR8CQzYnKCCQoWFxgZGiUmJygpKjQ1Njc4OTpDREVGR0hJSlNUVVZXWFlaY2RlZmdoaWpzdHV2d3h5eoOEhYaHiImKkpOUlZaXmJmaoqOkpaanqKmqsrO0tba3uLm6wsPExcbHyMnK0tPU1dbX2Nna4eLj5OXm5+jp6vHy8/T19vf4+fr/xAAfAQADAQEBAQEBAQEBAAAAAAAAAQIDBAUGBwgJCgv/xAC1EQACAQIEBAMEBwUEBAABAncAAQIDEQQFITEGEkFRB2FxEyIygQgUQpGhscEJIzNS8BVictEKFiQ04SXxFxgZGiYnKCkqNTY3ODk6Q0RFRkdISUpTVFVWV1hZWmNkZWZnaGlqc3R1dnd4eXqCg4SFhoeIiYqSk5SVlpeYmZqio6Slpqeoqaqys7S1tre4ubrCw8TFxsfIycrS09TV1tfY2dri4+Tl5ufo6ery8/T19vf4+fr/2gAMAwEAAhEDEQA/APpGiiigAooooAKKKKACiiigAooooAKKKKACiiigAooooAKKKKACiiigAooooAKKKKACiiigAooooAKKKKACiiigAooooAKKKKACiiigAooooAKKKKACiiigAooooAKKKKACiiigAooooAKKKKACiiigAooooAKKKKACm8q3P3T+lOoIyOaACiokYxyeW/Q/dPr7VLQAUUUUAFFFFABRRRQAUwSqZAmfmIzin1yHiO7msPEMM9s53LFkr68mqjHmdiJS5Vc6xyyspH3c4Ip+QSfbrWdpGqxaxYl1+Vx8rrnkGufa7uNB8TyC5dpIJiDuY9RwB+X9Kag22hOokk+h2NFNR1kjV0OVYZBHenVBoFFFFABRRRQAUUUUAFFFFABRRRQAUUUUAFFFFABRRRQAUUUUAFFFFABRRRQAUUUUAFFFFABRRRQAUUUUAFFFFABRRRQAUUUUAFFFFABRRRQAUUUUAFFFFABRRRQAUUUUAFFFFABRRRQAUUUUAFFFFABRRRQAUUUUAFFFFABRRRQAUUUUAFFFFABRRRQAUUUUAFFFFABRRRQAUUUUAFFFFABRRRQAUUUUAFFFFABRRRQAUUUUAFFFFABRRRQAUUUUAFFFFABRRRQAUUUUAFFFFABRRRQAUUUUAFFFFABRRRQAUUUUAFFFFABRRRQAyaITRFDxnoR2qtZ3UjzSW1yu2WIDDdBIPUVcqpqFq9xDutn8u4QExv7+h9qasJ36FuiqemX/ANvtizIY5UO2SMjBU1cpbAncKKKKBhRRRQAVz/ifThe2rXEQxPbDd0+8v+c10FVNTtpLrTpo4H2SMhCkd/aqhLlkmROPNFo8/sdRfTbpLmI52nJX++vQ/wBa67UYIfEmhLLbEeYvzJ3we4/nXCSxuszq6lWVsEEdK1NB1aTS71RuzbyMA6nt7iuqpG/vo4ac7e5LY1vC2r/Z3/sy9bawJ2Fj0OelddXKeJNDMwGoaeDknc4UckeorR8NauNRsvKY/vYQASf4h61hJXXMjppycZezl8jaopqSJJnYwO04PsadWR0BRWXrU11aLFeWvzpC375MdV7mrtneQ31qs9u4dG9Ox9Kdna4rq9ieiiikMKKKKACiiigAooooAKKKKACiiigAooooAKKKKACiiigAooooAKKKKACiiigAooooAKKKKACiiigAooooAKKKKACiiigAooooAKKKKACiiigAooooAKKKKACiiigAooooAKKKKACiiigAooooAKKKKACiiigAooooAKKKKACiiigAooooAKKKKACiiigAooooAKKKKACiiigAooooAKKKKACiiigAooooAKKKKACiiigAopFdWZgDyvUUtABRRRQAUUUUAFFFFABRRRQAUUUUAFFFFABRRRQAUUUUAFFFFABRRRQAUUUUAVby6WwjNxIrNHn5tozt96sqwdQynKkZBHekkjWWNkkUMrDBB71l214dPvE026UqhH+jy54YDt9elNK5LdmGqRy2Uw1K1DEIMTxL/Gvr9RzWlBPHcwLLC25GGQaewDKQwyCMEHvXPeefDuqeVLu+wXLfIeojbvTXvaCfuu/Q6KikDqVBB4boaWpLCiiigCK5WVrdxbttl2nYfeubi8YeXcpDfW5iOcOQM/jXU1geKdKS50yS5hjUTwrncB1HerjZuzIndK6MPxVZrFfR3cBzDcgZ9M1g42gnuDxWgNUEui/YrhWkKvuiYn7vTj+dUDxjv3rrhGXwnm1HGWqPQPDWoC/0eMOQZYxscfSs/VNMm0a8OraSDjJ86EdCDzXK2eoTWE8c1uzL83zgHqPpXpNpcw6jYpKhDJIoJHp7VhOLhLyOum1UjZ7oZZ38F5YC7tvmDLuYAc/SrMcqSKGQ5DDIPrXLSpJ4U1EzQ7n0+4PzIOSmP/11a1K5udPtftmk4mtZGDsM/c+nsahxTfumvPZa9DX1Gx+32jw+a8e4YJXvXJaVey6Lrv2KV8Ql9jr6Hsf5V12m38WpWSXEJ4PBHofSsnxJotvPay3sf7u4QA7wev8AkU4NK8ZCqLTnidADkZFFcz4W117sfYbw/vUHyMf4hXTVm1ZlwmpxugooopFhRRRQAUUUUAI7bULYJwOgpI5FlQNGQynuKdWEZpNF1pY3DNZ3jfKe0T5/kc/pTSuJuxuMwQZPTvS0EZGD0pFGOO3akMWiiigAooooAKKKKACiiigAooooAKKKKACiiigAooooAKKKKACiiigAooooAKKKKACiiigAooooAKKKKACiiigAooooAKKKKACiiigAooooAKKKKACiiigAooooAKKKKACiiigAooooAKKKKACiiigAooooAKKKKACiiigAPTigdOetFIw3Dg4PrQAtFMjck7XwHHp3p9ABRRRQAUUUUAFFFFABRRRQAUUUUARzSiFC7kKoH3j0FMsryO+tUnhOVYflSahGs2nzxycqyEGvM7G/ubOcSWUrK277mflIranTc07GFWsqbVz06VdknnDgAfOB3FZ0XiWyl1T7EpOTwsn8JPpUmja3b6xATGdsi/fTNc74p0I2zPfWYCRNguFGNjev8qIRjzcswnN8nNA7WiuZ8NeIxdhLK8OJwMI2fviumrOUXF2ZpCSmroKKKKksKKKKACiiigAooooAKKKKACiiigAooooAKKKKACiiigAooooAKoavpianZGM/LIvMb91P1q/RTTs7oTV1ZmJ4b1C4uraS3v8Ai5gbac/xDsa0NU06LVLCS2mHDDhu6n1rK8QWcttcR6xZHDwcyqON65zWzZXkV9apPA25GH5Vct+ZER25WYeiXUlhcvo2pMS6HMMjHIZetbLahCl8LWTcjt9wt0fjPFZHjG1hk0g3LR5miZdjDqMmqenalZapoqQak6x3EGSjMeQQeCDVcvOuZEc3I+Q62isbQNbTUoPJkYfaI+GGfvAdDWzWUk4uzNoyUldEMF1FcKPLbn+6eoqSWMSwvGwyHUqc+9YPiGM6fJFqtooWSNtsgHG4E960dK1i31WEtCcOv30zyKfLpzE8ybcWeeXqG01Ce2K/cYjj8/61WDHkHvXYeK9DaZmv7UDIX94AOT71x5PIB613Ufejc82UfZyaYu4g4AG2tjw7qi6fqYaV3EMi7SoPAPrWNTScqSeO1aTimuVkRk1PmR6rdQ297Zsk214mHX0965TTro6HqE2k6mDLBKwKdwAeO/aovDGsW0FrLp9/J+4K/I7HjHfP6VT8Q2NzBdK085ngdR5M5OTjuK5FTak6bO6U04qojWaWXwtqhjiG+wuCHVc/dPQ/yroNT8m40p0lYqsqcEfnXAXWsS3un29tOOIQfnzyas2HiO+sYFtnxJE2QPMHbHY03Tb17ERrLVPZmasstteq8DbXjOFcHrivQdA1carYAvxNHxIPU+tecPIu98AjcxIB9c1e0vU5NJvVniG7Iw6561pUgprQwoVHTlZ7Hp1FRWtwt1aRTrwJEDY9MipATkg1wnqC0UUUAFFFFABVe+sor+0eCYcMOCOqn1FWKKAMzR7i4KyWl+wa5gPJHRl7H+dadZuqP9gVtTjhEjRJiQZwSg5/TmrttcLdWsc8f3ZFyKb7iXYlooopDCiiigAooooAKKKKACiiigAooooAKKKKACiiigAooooAKKKKACiiigAooooAKKKKACiiigAooooAKKKKACiiigAooooAKKKKACiiigAooooAKKKKACiiigAooooAKKKKACiiigAooooAKKKKACiiigAooooAKKKKACiiigBskYkXng9iOoqGGdxJ5NyAsn8JHRx7f4VYqK4t0uYTG+R6MvVT6j3oAlorJTUpLC8Fpqn3XYCG4CkK2ezHoDmtagAooooAKKKKACiiigAooooAa5CxsWGQBzxXn3iTR/7OkF1ZkNaznKkdIz/hz+leh1z3iy2un0ZktEVoesi7SSPcVrSlyyMa0eaJw9tdS2VytxbH97GePevQdI1q21q1Mcm1ZiuHiJ615wuDkg806C5eCZZoGKSIQciu6dJVFc4qdV03Y3PEGiyaRe/aoCRbswKuB/qz6fnW74d8SpfBbS8IW4AwGzw9T6JqkXiHTJYLtUMi/JIo7jsa5nWvDc2kTNc2xke3DAoR95PrWCtU9ye6N2nTfPDY9DorA8Ma5/aFsLe6ljN0g4A4LL61tRyStPIkke1VxsbP3q5ZRcXZnVGSkroloooqSjGt9dEerzadqO2KXf8AuWPAdSB+uc1s1yfjNZXt4ilk7srZMyqTtH4VB4Y8SOGSyvpAyE7Y5TwR7H+VauF48yMVUtLlZ2dFFFZGwUUUUAFFFFABRRRQAUUUUAFM81PNMe4b8Z255p9Z2sWclxa+bakrcw/PER3PofagDRpkj+WA2MjPOO1Zmh60NThMU4Ed3FxJHjH481rU2rCTuAIIBByD0NFMVfL+Ufc7e1PpDEZQylWGQRgiuQm83wrrW+MZ064Ybhj7pPFdhVTU9Pi1OwktpujDg+h7VcWk9SJxurrcl/c31oeVkikXHHIIrzzW9Jk0i+dW+a2kP7o46e1a/h6+l0fVH0i+bCM52M/GDjjHsa6TVrCDUrI20xwzcxnPOa2hN0ZabMxnBVo67o81tJ5LO8S4gOx0PB9a9H0jWINVtVZSFlA+ePPINecXNvJaXMttOhEiHGG/mKjileN1MLSoc8kHmuidJVFdHLTqum7M9Q1W0N/pc9upwzqcH3rziC4uNMvxJCNssbfMD3FdJo3i1AsiaodmwAIwU89etZ3iu126it3Bkw3KAq69M1lR91uEuptiLuKnA7TTdRg1SzEsLA9nXPQ1xniTRJbHUJbqCHdaudxIH3Cf/r1k6dqVxpdws1s3Kj5lPIb612a+KNNvNNAvDsaQEOmDxR7OVKd47BzwrU/e3OE+bbvX7p4o6U6Tarv5RJiLnbn0zSEDJxXWcQKcZ3NtXHNTfbLk6eLVpcwBsharsB3pOP8A61S9wFopM04cigBKKU4FJmkB0nhfXjZ3As7tgIZPuknHln0rus8ZryAjI6n39667Q/FEaW0dtfS7WVwA56FT61y1YNvmR24etdcsjsaKZHNHLGskTq6N0ZTkU8Z5z+Fcp2hRRRQAUUUUAI6CSNkcZVhgj1FY+nR3OkzNbT4e1eTEDDquexrZqOeMyxgDGQytz7EGncViSk3Yfae4yKRXDMyjqpwfypSM0hi0VHBcR3CFomyFYofYg4P8qkoAKKKKACiiigAooooAKKKKACiiigAooooAKKKKACiiigAooooAKKKKACiiigAooooAKKKKACiiigAooooAKKKKACiiigAooooAKKKKACiiigAooooAKKKKACiiigAooooAKKKKACiiigAooooAKKKKACiiigAooooAKKKjaXbOkZH3gTmgBt1axXlu0M67lb9PesZdTm0W8Sz1Us9vI2Ibrb+jY6elb9V72yg1C0e3uk3xuOe2Kat1E79CcEMoKnIPIIpa5i0vrnw/frp+pkvYscW9yecdwprplYMoZTkEZBHehqwk7i0UUUigooooAKKKKAKtxqVraTrFcyeUz/dLA4P49KVb60nnNuk0buV3FQc5FQ6xpcerae8D4D9UY/wmuA1TRr/Q543LsAeFmjfGfatoQjJb6mM5yg7taEniPRv7Jv8AMQPky8p/hWOvzkkcDoa6w6jD4i8Py2918l5bpvTP8RAz/SuUyF4X6n61105S2ZxVFHdGloOof2dqsEzNsTO2Qf3geM/hn9K9MBjuIQRteNxkdwRXjrN61uaD4iubC6ginnY22cFCMgD61Nem3aSKoVuV8stjc1jw3LZTHUdFZkdTuaMf0/wrS8P+IY9Vh8qU7bpB8wIxu9xWxHIk8SyRsHRhkEdxXM674cMZk1DSC8dz1Ko3X6VzKXP7sjqknD3ofcbX2tra5+z3jbA5/cy9m9j6HpVxJA5I6MOq5rmtK160123+w6mmyYjHPG4+xHQ1l6mup+HdXSdJ5Z4SAVdzkYzyp/z3pezd7PQPa6XWqO7ZQykMMg9Qa8+1/QruxvJLi3t2e3L7w0fO38Otdxp19HqNjHcxdHHI9D6VPNzC2V3DHT1ohN05DqU41o7nP+HPE0N/GlrckRzqMAno+Pf1ro68lvESLUpxCGjCTMyAZBU5rtvDvieK9jS0vH23KqF3Ho+P61pVpfahsRSqW92W50lFFFcx0hRRRQAUUUUAFFFFABRRRQBhaxpk0FyNV0oH7TH9+MdJB0P6Vf0nU01SxWZVKPnDxnqp9KvVjTWa6ZrH9oxFkt5QVnUHgHs2Pw/WqvdWZNrO6Nmiore5hu4RLbSCRCcZFS1JQUUUUAYHinRvttmbq3Qm6hAK7Tgkd6p+GNb+2Q/YL6T9/HzG7DBPt9a6vr1rhPFOjtp98dRtiyxSMM7T9xv8iuiElKPJL5GE4uL54/MPGM0cmoQxiIxyoDvkIxu9Metc2rttHqPatnUNag1TSI47yJjeQEYkA4YY/wD1VjltyggYzyRXXTi4xszhqSUpXQByDk/NnrWpda79o0GHTvL5iAHmHvismm1o7OzaIUmk0LnaAV5PSlLnHqPSm0Ura3JHB8jBGAOgpdxNMpw6UwA5NJzS0HpSsAZFG6m0UgFLZpM0UUgDNHOQQRxng0Uo6UdLB1udN4a8QRafbtaXgdvNmAUjooOB+QrrYJFi/wBGlmLFjuicn7w9M15bkjkVqW2t3MFnDAQJfLlEiOx5XBBx+n61zzo3d0ddKvZWZ6WCOmeR1pa5OLxdBN5c+xo5lcRyxnoVPcfmK6tWDoGXowyK5ZRcdztjJS2FoooqSgooooAydXv5NGV73ymmhYqGC/w8gVoW1zHdW6TRNuSQZHtTp4I7mB4pl3I4wQaxPD8I0u7u9Nkdid5kh3HOUPp+dVo0Q21LyKa3j+HPEEkFyWazvHZ1cj7pJz/WuqVgyhlOQRkGsvXNL/tfS2iwFmU7kb3rN8Kay8gbTb84nh4TPcDjFU0pRutyU3GVnt0OnooorM1CiiigAooooAKKKKACiiigAooooAKKKKACiiigAooooAKKKKACiiigAooooAKKKKACiiigAooooAKKKKACiiigAooooAKKKKACiiigAooooAKKKKACiiigAooooAKKKKACiiigAooooAKKKKACiiigAooooAKbJGJFIP4EdRTqKAMGxvr2y1ptN1RvNSX57ecdMf3T78VvVV1HT4tStGhl4PVHHVG7EVzdhrlxomovp2vSM6F8RXDHqMcfhWijzK6M3Llep0ep6bb6rZPbXSblbkHup9RXO6bqtx4evBpOtFmh6W9xnOR2B/CurR1kQPGwZWGQR3qjrOkW+s2JgnUbhyj45U0oy+y9hyj9pbl8EMMg5HqKWvPtG1y68NXn9masGaBTgMzZ2+49RXexjLeZG+Y3GQP6iiUHHcIzUiSikVlbO0g4ODilqCwooqveXsdkkbzA7GfaW/u8Hk/lQGxYqjrGmpqumS2zgZYfIx/hPY1ZguoLnd5EiybDhtpzg1LT1TE7SVjx/c8MhU5R14OOKa2B+J5re8X6X9i1XzohiK4GQewb0rneo6n3zXq07TV0eRVThKzHcHtSdsdqbj3p1aeRNtDc8Oa1Np99BFJOxtTlTGTwtekKyuoZCGUjgivHRjb0/Gtrw/rkum30Ymlka2I2spbIX3rirUW9YnVQq8vus2fFOgDBv9LCo8XMyIcED1HoetP0jxBbaxCNM1WPe7Dbvbo3+BrR1WznljkvtEkQyyRFXXqJR2/EZP515w6sk370mOVTkAcYNFNKpC0uhdRunO8eu5v6mL7wtqjR2tw620mGjAJI/EetdtaXpvtMSazeOSRgPvHAz3zivOtS1mbVbeCOdRugGNxOd3vVOG5ntPmtbiWFickxuVz+VXKi5xV9yY1lFu2xqeJUceIJsxpESAW2n73HWssAJJlCQeo9qdPeTXs3m3cjStjALMTimMd2McH1rVJxikc0nzS5jvvDHiBL+1+z3L4niABLH7/+cV0VePZwwKna2chga9H0DxBDq0HltiO5QfNGTnPuK461JR1idtCtze7Lc2dw3be+M0tIQCQe4pa5jrCiiigAooooAKKKKACmyRrLGySAMrDBB706igDlbCZPDGpy2NzuFtO2+FhyBz0/WupBDAFTkHuKjmtYLhlM8SSFDlSy5xVXTI1tfOtFbIibcoJ+6pzgfpVN31JStoX6aHBcpn5gMkU6qFvqNtd3kkCEJdRHDIeuOv5UrNjuXyQBk9KiuLeK7t2imVXRh0IzT1dJdwVg2DhgO3tVdr6GC8S0l/ds4/dk9G9hQDt1PNdV02bSNReKblSxMRHQjtVIAgnPOTz7V6Z4g0ddWsCq4E8fzRsR39K81dHilaKTh0OHHoa9CnVU1rueZWpezfkJSZFLTCuO9bLUxHZFGRTAM96Me9OwD8ijdUdFFgJN1G6mAUEYFIB+RSUwc04dKTAWiiilYApQcUzdSE5osBJupMjn360yimrj0JQ5YsM4OOK77wrri31mlrO2LiMY5/iA7158OxzzViyuZLW/guEZl2yAFl9PSsqsHKOxrSnySPW6KjSVJY0IP313D6VBqElzFYyvZKGljXcqn+L2rzz1C3RVexvodQtVnt2yrDkdwfQ1YpAFc14xV7eC11GAlZLeUZK8HBB4rpap6rp66pp0lqz7N+PmxnFVF2dyJpuLSG6RqcWqWCTxn5sfOp6g1y/i3Tn0+8j1WyyiknzCh5Ddj/OqhFx4P1rc3723cYPOAw9fqK7J5LK/s4YGw8N1HmPI4IwP15rVrkd1szFN1I8r3Q3RdVTV9PWZflkAw6+hrRrzqwuJvCuvtFdklHIDkdCvY/zr0RWDqGU5BGQaicOVmtOfMrPcWiiiszQKKKKACig8cntRQAUUUUAFFFFABRRRQAUUUUAFFFFABRRRQAUUUUAFFFFABRRRQAUUUUAFFFFABRRRQAUUUUAFFFFABRRRQAUUUUAFFFFABRRRQAUUUUAFFFFABRRRQAUUUUAFFFFABRRRQAUUUUAFFFFABRRRQAVm65osOtWLQygCQDKPj7prSopptO6E0mrM4fw1qkmg3z6LrDCNVJ8p2OBknoPbmu4ByMjkVjeItBj1qz+U7LmPmN8fpWV4e8R/ZpRo+snyZ4fkSR+A+OO9bSSmuZbmMW4Plex0Gq6TbataNDcIu7B2PjJU1xtvrmp+FZv7Ov0FzEhG1iSDt9R7V6B16VyHjjR7q9WG8gJkjtwS8YXke9Kk03yy2HVTS5o7lu80uSWWPV/D9yqN99ogMrN+XfjFaWj6zDq0DFR5c8Z2yRE8qa840zxNfaPbtHayI0UjcLKM89MjkVUttRuYNSa9gYrKW3M3Zq2eHkzBYiK1PZKR0V1KuAynqCOtYnh7xLb6zAqOyx3Q4aInk+4rcrllFxdmdcZKSujhtXhk8I6qt7ppxbXJO6DGBu610OjeJbPVwEUmKfHMb/09aTxRpj6pozJCMyxtvQepwa8wYPFJ8zNFNGenQiuiMFUh5o5alR0Z+TPXNT02DVbF7a5HDdDj7p9a841zQbnRpN0x8yFjhZAMD6V1HhjxWl5ELXUnSOdSFR2OPMH+NdHf2UWoWMttMMpIuM+nvUwnKjKzNJwhWjdHjwOVJHQdTRurX1vw1eaQglkPmxbsBlHQds1j16MZqaujzpQcHZjw3FKCexxTB1p/ah7CvbUt2WoXGn3STWspjYdVz8rfWpNX1U6xcLPLbxxOox8pzmqNMqIwV7l87asKGJzn8KM5pKM4rQl7j1pc0zdSbqTVxEhw6lX6H0p8NxLbTxTxH97GwZSO+D3qJTmnKPmHPep5V1Gel6D4hh1iHa2I7heqbs59xWtFIsy74zkZIP4V5Ba3U1rcJNbMUmjbP1rotK8aTWWUvoRIrSFmdTyK5KuHfxQ2O6nXW09z0CkBDDIqBLgTWi3NuN4dQwX1FLDci4tfOgXJOflPBBHUGuM6yeimxsXjVmXaSASp7e1OoAKKKKACiiigAphhQ7ztAZxhmA5I/wAmn0UAU9NuluLGNjIGYfIzHu1cX4pE+neJjeW7GNpIwVYevI/pW14o0e4dPt2mSvHJHy8a9Gx3HvUen3kHi/SZrO7Xy7mIcnHI9D+hreCt73QwqXfu9TntD1ybTL/zXcvDKxMyk859a3PGGpeZptpJalGhkcOJM8qR0rktQtZdPvZLOdSpiOAxH3h61WaWQRhXffH2X0rrjSjJqRye1lBcsjvtJ8YW88MEN2NtyxCnB4PHWsnxvb20GoRSxfLNMCXGPvY7/rXKbtvH4qR2qe5vLm68s3UnmGNdqk9hS9jyy5kE6vPDlYzdSEmmbqXdXQlY5kAJHWlB5puc0Uxj8ijIplFADifSkyaBS1L3AVafUdLuxSAfRTN1G6gApKTdSZzQA7NLkUyiqQDt1Ck7tw64xyabRT0W4Wb2Oy8Ha7M1wmm3ToYlixET97Ixx+Wa7U52nHXtXjGSvIYqR3HUV33grUrm9W7huJC6w7dhPXnP+Arhr0eX3kd1Ctze6zYl+x6IXuTH5STuBK4+6p6ZP51pAhgCDkHoRSEZHYjvms601F/7WuLC62K64eIjjchH88g1ybnXsaVFFISFyWIA96QyjrOlR6vYNBJgOOUYjO015xJc6hYSJZSTEfY5Mqh6A16qjrIoZGDKehByDXJ+N9FNzbpf26kyRAhwo6j1/D+tdNCavyy2OetB25ohrltF4i0CPU7biWBCxVec9yKk8F6w11aGyuD+8h+4SfvLXPeE9fOmXAtpyDbTEZY/wGrOu2M3h/XU1Cyz5EjBx6Ag8r/n1qpQs+R/IzU7++vmeg0VV06/i1KxjuYDlWHI9D6VarlaadmdaaaugooopDCo4mGWjz8ydR7VJVO6mSzuI5pOEkIjdvQ54/nQBcooooAKKKKACiiigAooooArS38MN3HbyOokkbCrnk8Zqw+dhx1xXmHiLUWufEc00TtGY5Nqf7O3g/yNd9oOojVNFhnzlsbX+o4rWVNxipGUailJxLlvMGiiV3XzjGGK556DNTV519p/srxwzO7BFmYNk8bDn/61ei0pw5LeY4T57+QUUUVmaBRRRQAUUUUAFFFFABRRRQAUUUUAFFFFABRRRQAUUUUAFFFFABRRRQAUUUUAFFFFABRRRQAUUUUAFFFFABRRRQAUUUUAFFFFABRRRQAUUUUAFFFFABXPeJ/Daavb+dbDZdpyGH8Q9K6Gimm07oTSaszgfDXiySxkbT9aLKsfyh3HKexrvFZJIwykMjDII5BFcz4p8LJqam8s1xdoDlc8Se31rI8I+JntZ207VWKoTiNn/gP90/pXTKMai54b9jmjKVN8k9u4/wAW+FhAr6hpsf7sLmWJRnHuK4oOdo2dM8j0r2u4nVLYybDLGcbtvPy9zXBeLPCnkSNqWmIWhbl4152n1+laUa7vyyM69BWvE5aG4aCZJoZGjlQ5UrXVWPj67jjVL2FXwQPMA5x71xxZg/IAx1FKrHccnj0rrlTjPdHJCcoLRnsemaxa6skj2kgZUIBzwa4jxvpf2PVUvUXbBOpBIHAf/Jrm4biW3B8ieSHd97YxGa7PRNStNV8OXNrrcwcQHhmPzY5x9TxXI6cqMuZbHX7SNePKzigGZsqcc5yK6jSPGk9gFiviZ4RwTj5lFcySFchDkZ4JppPcdfeumSjUWqOWM3SejPQ9R8WaLd2L27M0vnRnA2Hg9s/iK8/4qPOEwvBz1pc1NOn7MqdX2uo76U5W55pgPFLnFamZJkVHmk3UZoAXNGaTNGaAFopN1KOaAFWlPIoxiigBcmgY2kHoetN3UhbmjpYOtzd03xPfWL20ZlL28Jx5WByOf8a6c635mnvqeiFHRSfPgl4x6ntz/jXnW8j7tPjuJIwQsjgN1VTgN9axlQjLVG8K0o6M9bF75unxXlqPNRkDlV5JBGePep7W6hvbdJ7aQSRuMhhXlNjqt7pzK1pcyKoP+rJypHpg10Pg/XFi1Ce2u5FjW5bdEoHyhu4/lXJPDyirnXGvGTsd3RRRXMdAUUUUAFFFFABXDa+s3hvXk1CxysM2Ny44J7j8q7ms7XtOj1PR7iB1y2wsh7hhyK0py5Za7GdRXjpuc9rkdr4k0L+09P8AnngIDKBzjuP1zXEgA52jAHWtDSdVm0e8bb8yEFZYezdvzqnK6PPM8a7VdiVX0r0KcHB26HnTmqqv1IwADkUYzSFgOKA2a3emhithcCm06mZpDFpQeaSgdaAHUZophPJoAeDS5piHrTqAFzSUUhbBoADSZo3ZooAKM0UUAGaM0maM0APozSZprGgB6kbhnpV3S9ZudJm86zb7xw6kZDCs7cRyOvvTiwPQY9aTs1Zgm07o9isbuO8sYriMjbIoOM9D6VzfjHT5Yims2LMk0ICsQe2eD+tctoWuy6VM3ntJJbOCrxg9B2I9D1rsLLUofE2g3Vs65mCEBM43cfKfzrglSdOV+h6MaiqRt1L+ha7barZRESr9oK/OnfIqeaUWtwEnJa3uW2g44Q46Z9Dg15rbPdaBqiSyRNFJH1RhwQeD+hrptL8QxX9leWuoOI+skRPYZyBn1FKdFp3WwRrL4Zbm59v07QpIdOd2iDlihfOAOvWrFtq2nanJLb29xHKyfK6+v+NcPc65a6x4eW11MN9tgAKSgfePT+Vc/bzPDJ5tvIYmVgQUOCaqOHk/Uh4lJ+Rf13SV0fVZLZW3Rkb1+ldVos0fiLw2+n3zg3MQwpPXpw351xdzcy3c7TXMjSSN1Zqk068ewvoriJ2UxsMjPUZ710yi6kEuqOeM1Tnfoze8N6nLomsSabenZE8uDuHRscH8eK9AByMiuH8Vaeup6ausWoPmoqiUKeoz1/D+lbHhLWxqmnCGVwbiEYP+0vY/0/CuKp7y5zspvlfJ9x0FFFFYHQFVNUtftul3EA+88Z2n0bHB/Oni5Rb428jgOy7kX1Hf+lWKAM/TNUivtL+0qcCPKyD+6R1q0kq3VsJbaQFW5VhznBrBhUWeparpaLhbiIzxKO5KkEf+O1znhfXn0nUPsV07m2eQptf/AJZNn+VaKDlqjNzS0Z38V9bzXL2ySq00Yy6A9KsVx3iKN9F1aDXLEMySNiZV53cf4V1VleRX9lFcwNuSRQw9vapcbJMcZXbiT0UUVJYVHM/lJvLKqqcsW6YpJLmGKVI5ZFR5Pug96ZeItzYXEfDBkZTz7UAeWa40UuvXhhIaJn3KR0J9a3fA2qeTfNYSHCSgsn+8P/rZrlZBsmKHqjFT+dS2M7w3kLRNtcSjGK9WcL0+U8qE7VOY6Lx3ZGHVIrpQQJlxn3H/AOuuu8P6kup6PDKDl1AST/eHWoPEmltq+hbYxmeMeZH7nHSsD4fXLebdW7NhSqsFPXPOa4n79PzR2r3KnkzuaKYkm9nGxl2HGT3+lPrnOgKKZLnyn2nDbTj2rB8Lav8Aa45rK6k3XUEjg5/iG7rTUW1cTkk7HQ0UUUhhRRRQAUUUUAFFFFABRRRQAUUUUAFFFFABRRRQAUUUUAFFFFABRRRQAUUUUAFFFFABRRRQAUUUUAFFFFABRRRQAUUUUAFFFFABRRRQAUUUUAFcd4v8K/ao2v8ATYwJ1yZEB++PUe9djRVwm4O6InBTVmeaeF/FUumXf2LU5Ga0JwGbkxnp+Vdnqly9toc8+nxfaomQkKp6Zrn/ABh4Vz5mp6cgUhczRIMbsd653QPE0+hsdxae0Y4eFj936V1uEai54b9jkU5U37Oe3cxmbc7MRgk5I9KbnFXtaurO/wBTlutNhMMEmMqQB83GeB71RGR8pIJHpXdG/Lc45RV7EinPBpTgk543ehqOijrqL0JC+fak3UyinoFu4/dS7qjHWn7qVh6Dg3FBbimE5opWAdup9RU+iwD6RjhabnFDNlaLAJup6tUVKtFgJy1IW4phOMUm6iwC7qUHNNoosA40UwnFPVqdhjt1OBPy4ODn5T3U+tM3UbqPUmT0O+8MeKGu7n7FqIxMwAik/v8A1rrj04rxmzu/sd5FcgkeS4k474OcfpXrtreJfQxzWsivGwySDzXl16fJK6PSw9TnjZljPy5I/Cqun6nb6kkptycxSGN1YYIIOKssgZlbnK+9c/qmjXkOpLqOgMsczN+/hZyqSD1wO9YpJnQ20dFRTInLxqWAD4G5Qc4PpT6kYUEZBB6GiigDkNd8Hw/ZJLrTVIuVYyEEn5geo/WuDJIYgjBBwRXp2pazNo+rxi7TfY3BCrIP+WbdOfauI8YWxttfeSOIRQTYeIx9JCQMn9TXdh5N+6zz8RSW8dDGzmlBxTBxngDntRXbynKSbqbt96bRRYBc7aUNzTaM4osBJupKZupwosAoOKXdTaM1L0YDt1ITmkzQelC1ACcUm6mjrS1VgF3UbqSiiwrig5pabRRYCWkNNpCcUWGOpKbuzRUgOO44HarVhfzaZfxTWrkOpyRngjuD+FVQeKMjoRU7xswu1K6Ou8UsNZ0211e12tCo2SL0YHP+NcoT/f8Au9cj0py3EqwmJHYIeq54NR1EIOKsXOfM7ikKGJByCOKRSqjAoorZOxk1cN1LnO7FJRSWmw2r7nR+G9XmNyLKQGVGiKhCeGHJI/KonaTw7r8d5aIUgds4z1ToV/A5/KsJH8uTcHZGXkFT3rbiEupaGWkZnEZJYuc7T2P8vzrCUFds2Um0l1R6Xa3Md5ax3EJykihhUtcJ4I1vyZ/7JuDndlo2zwDnOK7uvPlHldj0oS5lcwteuE03ULHUpUJij3xuR1G7bj+VboORkdKyvEtn9u8PXUWMsELL9QKj8KXct74dt5JzmRRtJJznFNq8bgnaVjN8WGXT9U0/VoDgowif/dJ/+vXKeJzatrsktuNqOqucDHzYFdv4xEUugywykKzDKEjjIOf6Vxt7breeFLXVAcywN5Mw9Rnj+YrqotKNzlrpt2NnwzrKavYvouqHdIQRGx7jqB9aboV9ceG9aOj6i/7hy3lnHC88H8a5KyuPsmoRTRDlHBY/j/hXpWr6RB4k0iKWLak5USRTAcjjpmlViou3RipSc43W6N2isHw/q32uNra9Ux39mPLkUt973/HbW3FMsyBk6EZ5rkaszsjK6ucV4wNxLeNHPKsPkIZ7ZxwScdM+uR+tQeDdZl864tLqdpFkQuC5zgheefoKv+OtHaazOpLM5FuB+6J469RXBwytGd8RKttI4OOtdtKCqQOOpJwqXHXL5vJyOnmN/OmW8oiuo5T/AMs3DfXmmc9+vejqyg9M5/Su9RurnE9HY9m06+h1GxjuLZtyMo7dD6Vx2txjw34qt762XZbzAl0XpnPP9KseANWjltW03aQ8eZAexGf/AK9bPivTl1DQZ8IGliUvGccg15C9ydmerL3oXW5eu75bYW8hwYpXCFvTcQBVpW3bh/dODXJ+GbpNe8NT6dcDLwJsDHnt8p+oIqDwlql3LrF3Y30zz7uhY/dxU8m/kNVNvM6y/tVvLN42kePI4eNiCPyrznw/J9k8WQqHLDzXTfn7w5613NlflNUn0q6Db1+eF25EiHn9OR+FcR4rFrp/iTOn/umUCR1Thd3H+NbUNbw7mVfS0+x6bRVDRL46lottdN96RBu5796v965mrOx0p3V0FFFFIYUUUUAFFFFABRRRQAUVgadrUdvNd2l7Nl4JcKWPVSMj+tFOzFdG/RRRSGFFFFABRRRQAUUUUAFFFFABRRRQAUUUUAFFFFABRRRQAUUUUAFFFFABRRRQAUUUUAFFFFABRRRQAUUUUABGRg8ivPfGXhP7Oz6pp6jyzjzYwPu/7Vd/GHBYOQRn5T7U5lDKVYZBGCD3rWnUdOXMjOpTVSNmeFldqnDbgeoHSlJGAQAMjtXVeLvC7abcPqFiha2c5dQPuE/0rkmOVyOQPSvXhNTjdHmTg4OzHZpM03kMPcZpaZAuaM0lFAC5p1Mp24UALmjNJuFGQaAFzT91R0nNAEhbNGaj5oyaAH5pQcVHmjNAEud3WiowaXNAD9xpQeKZmjntQA84PWgYFM5o5oAeDmnYFQgEU7dSY0PO0DnpV/QtUOjavBcjJhJ+dVOBg8VmhhnkZHpS5wCBwO1KcFJahCTi9D2DTtc0/U1H2W6jdj/BkBh+FaG0bt2OfWvErSVob23kGMrKpyfTNe1QSiS2jkU7gyg5FeZWo+yejPTpVfaIoPp8kOqG8trzyoyMzQlch/fOeKu2t3De2yT2siyRuMhlNS4BOcc4xXAnV5PCniW+WS3b7HOwZU6AcnlfXrWUYuWi3LlJR1ex39NfcF+QAnI6ntnmorK8hv7SO5tnDxuMgjt7VFqU09tEs0KF41YeYB1C55I+lTbWxV9LjNTS3u7eWzu0BSSMlc9yOf6V5Ve3907La3MhZLZiseewr0DxFoq+I9PSe0uiNoyoB+Vuf5/4VwOqaWNMuBGbiO4+TLFGB2n0NduG5U9WcWI5uxQzjoQR6gUbjTBhRgUua72cQ7caNxpKTNAx240A54puaUEZoAdtp2abuFG4UAOz60ZFMJ9KM0rAPyKazHpSE4puaLAOzRuNNzSgZpgPpCcGjcKQnLcUiQ3U5TmqlzdxWyKZSQGOBxUyk4BAODzmi6KSZNmkPPWk3CjcKGAYxSbjSlhim1NgHbqN+DkUzmlAJqrAO3ndmnZpmKXcKTQDwaM1GTRmlYCTNJmmZpdwosA7Jq/pGrvpt0xcB4JhsljboR/+vFZ2RQDz0zRKKaHF2dzS1C3l0y9EkTbfMxLCy8YHXFek+HNYTWdHimDAyqoWUejd68xt5hcW7W0zElBmIn+VW/DOrtoesBnH7iX93KP7uO9YVaPNDzN6VVxn5Hq7qHQq3Rhg1yfg12s73UdLmPzQyAr7+v8ASusR1kQPGwZSMgg5BrgvEUkmh+NbfUE4jlCl/cZw36AVw04uV4nbUfLaR2Or2VvfaXNDeA+VtLEr1GOa8v0+7gt7i8tpXZ7SVWCjpyOhx+Ar1mOSO4h3Rsrow6g5ryLxJY/2dr93bnO3fvQ465AP9a6MLZycWYYq6ipIoF9qnv64711/gvX3guk0+9l2wGP91vPQ5HH8647g7W79acMZyxLE/pXZUgppxZyQlySUkekeLNLkVV1nTsLc2wLPgffX/wCt/Wsa21q9i0MarbTeYYHzeQMMk+49M4P5VdtfEa3vhCe2iH+lwW2wg9xjG6uP0TU2068ilzuhbAkQj74NcsKbcGpdDoqVEpJx6npWvTi78IXU9v8AMskBYfSvJwSMAnORniu003VLTSfEV3ptxc5sLlR5e4/KhIwRXK6rBFaatdQW0qSxKd0bKQcg84qsMnG6YsQ1KzRV35o681EGo3kDArtOM3fDWr/2Rqyz+XvDr5bAHHGR/hXp1/qMNi0IucLHM20uxwB9a8YjbHIbYezeldpb+I7fxFol3purtFBKsf7uTdwxwef5VxYijdpo7cPVsmmZmg6n/Y/ijZbuGtriVYm+meD+pq94rn/srxhFPYv5EjojO46ZJI5/AVyKEqylSPlbII7Y6U+5uZrmdprhjK7Dnd3rV0Fz3MVWfJY9S1yOZtJh1C02vd2wEiSdAQRhvwwTXmF3Obu5lmYndKxY81LHrOow6fJaR3TCFwB5ZHTnnmqQ4pUabhe461TntY7b4falKLyXTpDmMxmRB6EEf4131eNaLqU2m6xDcwhS24IQ3TaeteyKcqD6iuPEw5Z37nXhpc0LdhaKQHLEY6Utcx0hRRRQAUUUUAFFFFAHB+MdOkXWVmgT5ZowThe4OP5YoruJYUmxvGcdKK0U1YzcNSSiiiszQKKKKACiiigAooooAKKKKACiiigAooooAKKKKACiiigAooooAKKKKACiiigAooooAKKKKACmTeZ5LeSQHx8uRxmn0UAcvovjOC7uDZ6oFtbtTtPZS3tWpF4j0yXUZbIXSLLEcHccAn0BrgvGukS6frbXcUbLbXB3NKOit3+nWuaeTcxILEsfvA8/Wu2NCNRXicUq8oPlke3X1sl5ZSQvI0YccOhwVPY1y+meJpdP1qTSNbnikVWCw3KDrnoGPTP5VQ8LeMUFmbDXZtp+7HLgnIxjBxXGXzxnUJvJlaRPMbaxzzSp0LycZDq1rJSie3yJHNCUkCujjBB6EV5h4u8OHQ5vtFoP9DlbAX+4Tzj+dZtn4h1G2ntZJLt5I7dsrGT1HPHv1rT8U+I7bW4bb7N5iMoJlRugPatKNOdOppsTUqwqQ8zmAcZXqR1opDwT70ld5yD6KbRUiHUlJSU0A6jOKbSqeeaYxd1G6nZFR0AO3Ubs02gdaAHUtJSUmIeKdTFOKXdSAdSZxSbqTOaAHbqN1IKWgA3UZzRSHrQA4dadUVLmgB5Jxnt61veGPEc+napClxcsbNsq6tyF44P51z27jFITxx06VFSEZqwU5Sg7nt631s8ImjmjeEnBkVgQPqayfFulxajokj+W7zwqWi8sZOfT9K850bxBcaJNIu0zW0q7WjPI+tdZ4T8XBwun6s4VhhYpG7+xNefKjKm+ZHoRrRqKzOb0jxRfaJH5NuoaAuGMbqdxPf8ApXoP/CS2gktZHkjNpdgKkoP3X9G9O1cZ4g8JTaaJ7sSh7ccqe4rmmlby9jM2xWyFzwOOuK39lCquaJh7WdKXLI9J1LUB4TvllbnTLp8sD0iY9SD6H+tc/wCLdMtUWPWNMmR7W6bLhWBGSM8flXLeJ/FF3ceGYtNusSKHG2Q/ePNR2zyLp0EJkYoq52FjjP0qadJxlcqpVUokjcnOMZ5pB1oVsrS5rtOQWm0uaM0wEoHWlzRmgBaKTNGaAFoHUUmaM0AK1NoozQAU9elNzRuoAWkJw1M8yhWyST6UugpbmZrMqxPah13At0/GtKFiIhlgMjgVk60YzcWSA/MWzz9a1YcFEDehrGPxGnQmopu4Uu6tnuZ9RaKTNGaYxaM4pM0ZoAXdRSZpPM9qAHUUm7NGaAFopM0ZoAWgdaTNGaAHq2xtwqe8njnRHj4bbiRfU+tVc0m4UK1w1todp4L8RLayDTbyX902PKZj90+hP+elafxCs/N0NbpV3PA36EivORIFYHv2I7Gu30/xJDrHhu70vUpQt4tuwDN0fg459a461Jxqc8Dro1FKHJIoaD4hTQmgUyGa1uBulX7xibpke3Aqz46ggu0tNYtXEkUq+XuXoetce2FYoDwvGRVldVuf7IbTCwaFn8xQf4cen5Vp7LlmqiI9pzRcGVRyM9un5UtJxg4GCTSV0s5kTRXMlvITE2Ay7H9xUJXCEHheoNLmjNSMGLN8zDfuGATTW6jcACOhHelY/LTKYDT1oopRQA7+HgZoDgsWCgdjSZxS5FAACAMDpS5zSbhRuFADqKbuo3UAOONoGdu44LenevWPCeotqOhQPJIryooSQDqCOAfxxXkuRuH61s+HdfGiJextvYTRkIE7N2rDEU3OOhtRqKEtT13POKKxvDetRaxo6SI+6aJQsqnqGxWwT0wM15TTTsz0001dC0UUUhhRRRQAUUUUAFFFFABRRRQAUUUUAFFFFABRRRQAUUUUAFFFFABRRRQAUUUUAFFFFABRRRQAUUUUAFFFFABRRRQAUUUUAFFFFAEF3bW19A1tdosiOOUNeUeJvDlxoFzlButJDiOQc4Hoa6/x3qlxpiWb2KtHcFiRP/CBxlT9f6VY0zXtL8W6e1peRhJmGGikx19VrqoynS9/oc1aMKj5XueWkbeBg47jkUgPIzzgfnWlrui3Ghai1tMQY2+aNh0YVmZr04tNXR5sk07MXA3biPpSgZbJNNzRmnZLYQ8jNG0UzNGaVwux1JmiimFwzS4pKTJphcdijFNyaM0Bdj8e9NpM03JqQuyQDNLiowTS5qgux9JTc0uRSY0OAzRtpAw9aXcPWkMNtGcUbh60hIz1oAcp5p1RbhS7vegCSg1Hk0ZNADzwKbmkJ9aTIoAWlH170lIxwM9qVkA8k7cA45zml3fNk8n1qIHOMd6QvgZJ4o6EO1zt9E15NZ02TQ9anYGZdsc/Gfoa5G8QWd9LbF1l8skZX+IVQu76Cxj825uFhQ8DJ5zXOX/jyGCSb7JZu5VdqOQDuPqOaxiuRuxrKo5pKSNDxNJKjWSQR79zDK55HNbNtxEm/OQnavO7K8vxqMWrai08UTZ+WU8YwRgc12mi6nFqULGASDB6N6fnSjP3tSTUHA60uajxjp0o5ro32JJM0uPeouadmgaHE4pN1J1oxQMXdS03FOoAUUU00maAH5ozSZozQAoox700n0pMmgBcClAznHpUfNOyVRsdTxSJ3MTxOrpBbXoXCwsNxX61o6Xdi6tCy4JTp7jFJqaoNFvBLiRViY49ODXP+Crt7gTFshAMAfjis9FI0V2jqw3HNKD60irlSX4C1BFdRzyMkThipwQK0vqRbUs5pN1NGd2PTrS0xi7qUHNNooAfil4qPJpeaAH4pMe9N5o5oAdj3ox703mjmgB2PeimZNKDzQAtLj3pM03NIB4GD60jKCuASMHIIpuTRmn0sHW448rjP400fLnHX19KdmmkjNG6sGzuKGbPJzS76ZkUZFAEmPejHvTMmjJoAeaSkB9aXNACYpQMUm4etG4etAC0mPegsMdaZmgB+PejHvTM0ZJoAfj3ox70zmjNADivXmhUIxtPzZ4JpucDPak3gEE5IBoEbXh3W20HU0mJ/cSnbOo5/H+dem6Pc+fFcRm681lkOw8ZCkDH65rxdAdhUt98962fDHiqy0PVvN1R22ldm4HO3361x16Kautzqo1XF2ex7FEGEYDtuYdT606sDS/ENvf+ILmztpRPE0azRyKcjpgj9M/jW/XntWPQTuFFFFIYUUUUAFFFFABRRRQAUUUUAFFFFABRRRQAUUUUAFFFFABRRRQAUUUUAFFFFABRRRQAUUUUAFFFFABRRRQAUUUUAFFFFAFLVtLg1fT5LS6UFWHBx90+teO39hd6JqbQTHyp0OVlXjcOxFe31la/oNtr1j5M/wAsi5McgGSprpoVuR2lsc9alzq63PP9V8S2+t+HxDqUBXUYSPJkXoRxn+tcxVvVNMutI1B7W8XD4yHPRh6iqWQOCTn1r06UYpWjsefVcm/eHUUlBq5djLpcWim5ozUiuPHSlqPJ9aUE+tO4x9M3UuaTFFwFzmikpaLjCiiikOwUUUU7iCiiihsAooopDuFFFFAXCiiigLj6KZk0oNAXFbpTaUnikoC48dKazKp+Yn2FJk0qt157UBcYjcksAPTmsXU/GGi6IX+0XJeTtEOefzq3rOkrrFh5JuGt2PBdetZGmeBtEso90kRup92d8qg0g916s5mO51Hx7rCz2dusMUZ8sPJ9xU9SPWu9sNC03T4lEUKSuv3pJFG5m9var6QxwK0cKKiHgqgwKdk8f7IwPap5dS3NWskVtSsYdV082txEGVeVLj7pHIrk9Dkm0XXmtLrIt7glUb3/AMiu04APp1Nc14lBRrUtGJl80FARnaeeaiaSVyY+87HUAbcr12nGfWlqNS3lRlxglASPwpcn1rSPwomXusfRTMmjJpgSDpS1Fk+tKGPrTHckopm6jdQFxxpKaWzSZNAXH0UzJoyaAuPopmTRk0BcfQ3QfWmZNAbHJ5CnNBJBqBUaXeeZ93yW3fTBrlPA8oQEJ8kGG35+prd8Q3PkaS0I+/dZVc/lWE0f2HS1xF5crAAE9DzXLUlyzOmnG8LnRXmq20cciRzNLcsMADoBUeixFYzI/D5+Y+tN0/SoxbrcvKVdlBITvWoiBIlAXC44zWsPe1MpNXsSh+Tx1opmSOlGTWpNx9FMyaMmgLj6dUWT60u4+tAXJKKj3H1o3H1oC5JRUe4+tG4+tAXHnrSUzJ9aMmgLj6KZk0ZNAXH0UzJoyaAuPpjfeoyaKAuFFIaTNOwXJaKZk0oPrSsFx1FNLelJk0BcD1oopppXDYdRTPxpdpHOaBXuOpVqNydoIyPpTgfm4yBjmgdyQ9KZSc56/L2NUdW1SPTbUyPy56AdKVwuXyWC8kBaqyahZW4YzTjgdK4XUvFN/dRiOFhGM9Qe1ZOZXk3yybiRzRcLm/rGvyvfKdMuWCj3rKPnXPmfbJP++jVMgDgcUnm5z79ad11Jb10PXvgnqtpa+I/7PVlaS5jOCO20E170DkZFfHPh4TDX7A2hKTLcx+Uf9rcMD8elfYdvv+zReb9/YN31xzXl4hJSuj1MPK8bElFNDYB34GMnj0qppOsWOt2X2vTJ1nh3sm5T3U4P6iuc6S7RRRQAUUUUAFFFFABRRRQAUUUUAFFFFABRRRQAUUUUAFFFFABRRRQAUUUUAFFFFABRRRQAUUUUAFFFFABRRRQAUUUUAFMnmS3geaY7Y41LMfQCn0jKHUqwypGCD3oAxdU03TfFelfLLHIMZjmQg7TXkl7aPp17PZytG3lvtDKwIPGetdxqenX3hDUv7T0svNp7MDPD12Lnn9O9c54suNKvbuG90l/9cm6SIg/K2SM13YeTi7dDirpSV3uYfakNN3UoOa9Bnn9AooopEBSikozigsdRTcmk3UAPoJpm6jOaAH5ozTc0UC5hwNFNJxSb8UDH59qWmeZ7U4HIoACcUZpDSZoAdmjNNzRmgY7NGabmjNAh2aQmkooAXNLmm0UAPpCePf1opDQAYGQcc047W65+gNMpNxoGOGBwKUGm5pCaQiQdeOtcr4nuvJu4ntZlZ43/AHiYzium3Vznim3AEM4KxrI+xzt/z6VnU2Lp7m7p92l7YJMh3cc1YVtw9KxtC3QSPaysMBflOMZrWztopu6Qqm5JRTMmjca3krC6D6Kbk0ZNSIQvg4pc01xxmmhuKBkm7FOHNQEntT1agCbb70h4pN1GfWgAoz7UjOFpPM9qAHZpPvZ/WkzSZwT9KBGZr8DT20UkfLQncq4zk1Xjs3v7q2+3sGHlkmMfw9au6lN5druDAHOBVe0Z/wC2IieMw4Yg59a5aivUOiDtA2hiOMRxgBVGBxSFj3OaZnmmk10pWRzN+8S5oqINzTt1MY/NGabmjNADs0tMyPWnZoAKKazYNJuNAD6KZuNG40APozTNxpc0AOzRmm5ooAcDn2oppFG8jtQA7PtSjJzgdKZ5h9KUMW4UgetACM4AGeuaTcvc1m6zrSabFgANJVOw8SrdyIsiqgxyTxSuBv7jg/Kdw7UOxRCzjGBnrXLaprnlF2tblTn3rMh1668l0km3hh1NS5AdZJrVvERyG5xwelW7a8juoy8fQHBwc15yt7+9C53Fj19K3fD+ofZGePlwzdewqeYDryxwDt4PvUU9zDAQJXCk+tUE8Q2PILYKkg7ulc3q+vC5um8rDKpwCKobNyTxPaLI8ajJU4HzdazNR8UsIv3S7Sf9quUklZ3d1HJbtTTOBMqygkUrmd7HS23ii4ChCwbnntiugk8QW1tHF50iyhhlgp6VwDSJIrDGxSOCKmV42gCh/mA5JouLmOvPii1e4OMiLsM1l6xr7Xq+TGqCP1PNcxJdhCU3A470LMs8fyHAHrTDmLEkcbfMMZqEk9OPyqLziWwucVJ25oNFsMYMelORcHpThJt7U6Nxj5uPrSYdS7pGqtoutWeoIqv9mmSXy2/i2sD/AEr6y8NatD4h0O11mFJIhdRnEcnBXDEH9RXx5IwZjn04Pp6/pXsHwm+J11bS6f4Y1C2NzFLIyW88a/MgOWwR3Gc9q5cRTuro7MNUtJpnusiRB/NkwDt2ZJ7GuL8C6BrPhnXtasriKEaNPPJcWbK2WXLk4I+hruCAwwRmue8Q2d2dUsdXsdWisksQ6XEU4zHKjbevIwRt4Pua4V2O9rqdFRQCCMjkUUigooooAKKKKACiiigAooooAKKKKACiiigAooooAKKKKACiiigAooooAKKKKACiiigAooooAKKKKACiiigAooooAKKKaU+feCc4wRng0Ac3r+sW+nWt3Y6y7rHdRuIZQmQQVxt4HUH+deQ4VWYD50yQjHjivc9b0a21zTZLW5QZIPlvjlG7GuQ1X4boNPDaXIPtCLlkc5D/AE967cPVhBa7nJXpynseeLUlEsL21w8Uq4dCVZTxg0cDv+HpXo35ldHnOLjowoozRmkIKKM0hPpQAtNalzSNz0oAbuxQHHemketNfG3jrmhAyXetHnLVbFJtqiC15imjcG4BqqcjpQpO7rQBcKfL96mA4OKi3nGMmlB4oKROzcVEW5pCxqPJ3UFE273oZvlFNXBpWAxTDmHKcrTqhViDxUgb1qGG47dRupp9qb9aEIk3UbqjprNiqAm8yjfmoMmlU880ATBuaGao2O3pTC5NA72JN3vRuqLdS7vWmKTuiUOM89Kg1S2XUNPe2O0OfnQnsR0p24VGZ8PgYxn0rKUbijKxz73s9po4u55P39m4DhV6jkeldLaXCX9kLqE7o5FDqTxjNZuoW8bQzSLGGDj50/vVytguqwyeRHdtb2D8xjOduP4f1/SsYydJm9+dHoKFWRTG+GHrS7qgiaOOKOOLn5evXJpd1bxk5amFrMkMmKTzaiY5NITxVlEjS03zfeoWJpuTQHMWkfOeacGyaqo5GaeJDuH1oDmLQbbTtwK5NVmkJpA/y0BzExK5qQkbapMx9aPNf1oDmLO6lX58DOOar7zS7sjmpEVNaKraRK44MoyfxFVFm8jVLdpXClht9u+K0rhFurb7PKflY8HHQ1yuvRyQaNcSRy73jcfOeowRXPVWtzSB2o5o7VjeGdV/tTRIZGbdKo2vxjpxWsWIyAeneuiLukRL4gPWjJqMud1L5hqhEgb1o3UzOeaDTIBn5o8403GaMUikPD561IG4qsWIbAp4Y96Bk+6jdUO6jdQBNupC3FRbqN1AD91PDcVDmnA8daTAk3UbqYD680m5c4pASbqqajdfZtPmkVctjAIp5njXGXGc8jNRS3VotpM88ygf3SM5p8xMjh7k3OoL9olb5QduD2qEKV2hW5xS3F8JLqU2oxEzdDVaQvwYyFP1qXqSh8nlhcNy1VlYxttfoakMbbAWILfWo3w0nznoO1ZMoUo6g+V/FVy31CaCxa1jAO7rJ3FVUkDIy78cdabaWwZyfNOM+tAEyyyspRwG9/WoZpFjXDDac9qnW1kjkLeYCO3NRFS8pEuMdqsCRTEIVaLlvSoJVkbnYKd/qmIDAr7CkMuRgE0CIju8vDDHNOkOxQV9OaViHjKjqKjXeVKsfrQD1QpMflhtmSaiZBvyx2f7IqcDEe0Y9qpyBw2CcmgjlLCoS3mK2F9KmLKy8HmqW5lXa5/KmrP5cnfB4oLRbZ9tMZiec5qKVjuGM4+lTRx+X2oGKrb4iSMFec13Pwj1XR9H8cW9xroIDLttpsErG7DbyB65x+NcO+GX0HcVJb3RtLu1lRQ4hlWTY3Rtpzj9KmUeZWKjLlkmfbKtuG4cqeQfWuB+M+ox6d8OLtXt3kN24gBQ42EgkMTn2q94U8eWniDwjYawsL2sbzfZ5o3x+7Ybl7HoSBj61V+Mk1pF8Nb9b2CSUSDbEYwDsfBwTyK8uKamkz2JSTg2i38MfE8HiTwVZlJzLd2cKQXe4HIkC4J98kGutnnjtoHmncJHGpZ2PRQOpr5s+D3jYeGdbl0uaAyR6rLFGkgPEbDdyfru/SvoV7iw12DUtMWRZTGGtrmP+7uXofwNVWhyTaFRqKcEy1LbRXDB3LnjjbIyj9DRWF4H1WTUdBkhumJubC4a1lLdSVAIP5MKKy2NdGdJRRRSGFFFFABRRRQAUUUUAFFFFABRRRQAUUUUAFFFFABRRRQAUUUUAFFFFABRRRQAUUUUAFFFFABRRRQAUUUUAI5YI2wAtjgE4BNCklRuGD3FLSEZHpQBz+v+DtO1uN5BEsF0eRMgxk++OteS6haSadqE1nOwaSFtrEdK95QMFw5BPqBWB4m8IWniC3Zk2293nInVMk+x6ZrpoVuSVpbHPWoqa03PHRz349fWjBq1qWlXejXz219H5cgyAe0g9RVPdXpq0ldHlSvF2YuaUGkpCcVVgHFhQGx1qEtzSNMKLCbJ2+YZWoQpDc9KRJcinMcLmiwXFxSEgdqbupQcdaLieghYehpCQRwKVnUnik3A9KYhuDUitwBTaB1oKRITioieakboKiP3hQMeGxT9+VqOkJxQQSA4PNIT6VHuo3UWKWxOrU489KgVqVnwaLDJW+7UTKxpN+aXdQAtHembqTdQTdkjHNITimhuaGoAXdTXPAqIvhiKA26mIdk0cUlFArAXAxnoOMetZlxBHZzurK0trN0AH3TWjhS21+/Smn97byQdPQ1lWimrl0pNMraRJNZs9hMPMb70UnXitLd61i20kgiUs/7y3bLH2/yK1wciojLoi5LW4pOaM4pKD0rcybYhbNJRRTFqFLzSUUDJAD3ppJ30bqQHLUgHnpSUp6U2mMfuFJ16U2nL0qbAm2HI5B5HIrG1iOKJ/MkTzIXGXiXufpWyelZurlX2RsPLz3rGsny6G0DH8IbrW8m2YWK4Ztif3ef/AK1dcpwpHPB71yD2WFVrWfZJG/y47kn/AOvXVQJKkCLccy7QWP4UUZXjZimlccTk4FIQRQfvU1mrcgmU/KKUnNQq3yil3UyCSkzTd1LSHcQ8tmlzxTGbDUm6gdyTNN3U3dRQMdv+tG/0BpAQOtLvX1x70CuG8bN2fw71E10q96w9T8Qtpd+1uIN2ejZrBnvbi4u/OWQorDO3NJgjvIL6NnKK4ZvSq2o6ja2yOjyMsu042joa5CyvntZh9oBQjnzM0tzcm/jaVY96njzKJJJDIFvJmuzKbiR0U/xGh5nuHLkkqf4SeKzpVZRiNsc8invOI4xvba2ORWRm22Plm2sVWMAegqCN9zfOv5GlV0f5g24mmyOEpiRMHR5M7WxTxFGSTyKhgmUrmniZGb3pWNOhGyKgO3JJoikaBTlfypWLB9x+7SrKrnFFhAbj5D1z9ajklLRDAIz6UrqplKp1xTWimIUKOBSuTqOjBeEhCc470+Feu7tSJujXnrTjxjd3popbDJHUSZT8aXOcsDSSIDwtRyBokB9aYuovmHdgUyR13nPUUkcw79aQRFmY1VitCCVzI+F6+9IsbhuopWTYSfehmO0EetFiG9SYyylhlhinm4lOBxz0qLyzszTFk37sfw0WGiwxk24OCc9qerKVAY4OKhikbIJ6GnPGHbcp5pNaDLlvrepWVp9kg1C5itt4cwrM2xiDw23OM8V9H3Fpc/FT4O6cun6l9mupI4zPIxOGdVKupx23Zr5hMLNXqPwg8YWWkaXrfh/WdSGnwXEJlguGk27G6ELnud2fwrnrw91OO504epdtSPNpLm50vUwYWAlt5Mq6njcO4r1f4Y/EpLPxVrGp+Jpdv9qKhZkHCsmcf+hV43vbudxyd3sfSgyMWAQ45rWVOM1qc8akoSuj0m1+K2oaN4g1q608eZFqNyJirSEbSBtz07gL+VFedwvKAWCKQTxRU+wgX9Yqdz7poooryT2wooooAKKKKACiiigAooooAKKKKACiiigAooooAKKKKACiiigAooooAKKKKACiiigAooooAKbJGsi4YdDke1c54h8XweHdUt4LqGRo5VJZlGce9XrLXLPWrUXGj3UcsijJiJwT7EHkVXK7XJ5lexdN19mkWO7IVWOEl6A+x9DVqsC78SaNPoc09xcKIRlJo2OHjPcFeoNcPofxMubDdb6pEbu3j4SZFw5H9auNGcldIiVWEXZs9XorK0LxHp3iG187T5gSDho24ZfwrVOe1ZtNOzNE01dBRTS6qcMcfWnUhmXrXh3T9ejVb+LcyAhGHVc14/4l0OXw5qv2aUGVCN0MmMZH+cV7piuF+J1lFNpkF158aT25YrE7AGQHGcfl+tdWHqOM1HocuIpxlFy6nmJkC9OlQvJzxTJG3McYx7Ug969U8wdkN1qOe6WAGaT2U0uB6mqmrEvpc+0DcAMUbK4mrk9vex3URaPoHIH51YVihZScADmsPQJg1iUO3chBfHvUeoakXvLuAExnbgDvUSmkrjUXc2rW8S5D7ORH0NWN1ZehW5ttICtku3UnrV/caLky3sS7qQnNR5oBJNWgSY+gtgU0tt61GXzTKQ/fijzKiPNAHNFgJPMNOEmetMpuV3daLE2ZOTgUm6k3AjFJgUWKQqtTmOaiAxT93y80WAQdaWmbvm4p2aQC05W21FvPtSq/rimTYl8zNLupmcio3cr0xQFh796YDg0zzcjnFAbNFgsSbqKZml3GizCzEbrSdx7mlzmlBwwwM805LSwrO5UaLZqZYfdcYq8qlOGqJtjsI1OZFG5fc1bu+Am7jcOcVwRfLNpnTpYiCijaBTF6Uua7d0Y6MdTc0uabjNAWHA5paavFOzTFYKUHFJRt4zQKwpOaSkHBozQITdTlYEfTmoqMEjA79am44p3sPurlLe2M0jbWx8n17VzTtNqFxuklZpGOCFHarmpXTXNxHD5LMiEDK9OtXYIsSBYFEYA+ZiOa5Zzc58qOqK5VqNsLERyxzHrECBn3/wD11obsZHvn86QLgggk4/Wg4rop0+WNzCTu7jt1JScUua0FcUGjdTDTSx6Lye1Igl3UbqiLfNtGNwGSKz49bt1uGiucoRSbsBqFgDxw3rTTKsfzykkDuKyr/wARWtjFvTEpyOOtU9R1Pz7WKSzYrvGWU9qTkgTNme9traENJJtJORurMuPEcK2ZZWPmdqwNS1J7vYZlGEGPlqgZRMOCRUF3Nm2150ujPOpMm3EbGtXQdWku7uWOVMnlmb0rkdzYG9s4PFTQ6hNZRulsy5lGCT1p6kN6lvXTENWkYzrMp9D92s4fdGDkdjUOweXjO5i24knrTxJ6gD2HalZjjqJO2EA9TWhba00Gk3NqIfvg4b04rNuDlBUPnyHrwMY471UrsbaLcWUTeTy1QzRbzTArSL8pNOUsgw3UVNjMBHsSlj60F1P3jUfnhG+X9adgHqwjGHFKHj6imtKpk5AxTXmizjH5UWL5lYm+2oRsPSjMb9KqN5Z9RzViLyUzkmizFcnjdF+51p/nZRg/XtVO3bzXfYQAKfuAPz9anlZWg8bsHHSlLbV+aoXZicL3pMyqOQD9aaTC6Ekk8rDj+I5p90++PcBuJFQT5cLkce1NacqQO3enYhoV32Kv7vFN89vSiSRpY8jt0pgcnqBVBqPG6Vvm4WlKhcCIZbNJnK89PagxsF3ITQImLMZAHO72qKUHdnFLAoJ3OcNTmm38BcfWgaE8xtvyfeoDuV/fdaYNwfOR+FPjIdiXPI7UguOEuBhabIgZc9+9QtxJx0pwY80R13JV0yFDhzUjN0qLBDEijd61TRb1ehct50EfPrRUUaoF560UrCsfd9FFFeEfQhRRRQAUUUUAFFFFABRRRQAUUUUAFFFFABRRRQAUUUUAFFFFABRRRQAUUUUAFFFFABQfaiigDG8ReHbPxHYmCclJU5jlU8of8K8cv7PVvCmqtG8r28yE+XNGcCRfXHSvX/Etvqcdt9v0FyLuL70RPyyr6YPGeleN+Idf1DW9SzqWFnhG3yyoAj9a7cMnJ26HFiWoq/Uoy3Uk9zJPO3mNK5ZwTgMT3IHFRBh0ZuMd6i3UZzXrRvFWscD5m7l3StVu9Iv0udPl+zOrD3DexFeueF/iBY63i1vSLW9zjafuye4P+NeLU5WdWEgGHXoQcGsKmHhVWu5vTqyg7vY+liAy88g1E0ckYJgbPojdP8a4D4feORdRrpGszMbpc+XM+MMOoGfUV6IGDDKkEeorx6kJU5csj0oTU1dEC3acJNmFz2b/AB6V5l8SrLWY3gknla60xCSJNqhkJxwcAccV6gyQ3UZDqsi5xyM81mXOkyR28kVti6tpFw1rcuWH4Mcn9cU6U+SakTUhzxseBA7QA5yfalJxWp4i0ptJ1J0a2mto2PyCQZx+IyP1rJIA9c+pNeympK6PIas7ChuRUV9h7C4PT5c1IOtR3IzbzJ6xk099BdTmfCVyguLhZwcyNkMegxS22/UNTlkkIdvMYZHHGay7K68rS32jDLKwyOuMmtfw3bMJTMD+7lyRXBKd58p1xj7tzqFGyMKo+7SgE9KQt87ClVvlrv5fdRxy3Ck3beaaW5pC2RQMVm3daTIptFNAOyKM02iqAXJpP4smiigBwIHenZJqOpF6UALuFGVI5NMopPYBwA3cGnVHnFG6pAXBowaTdRuoAkB9aZJz0oDZNDVSAjwKcoxSUopgLRRRQAZoHzEANg5pD1pOcjHrUt3dhLcftBvI5FG35dpPvVqYGS3QycFaoyFkV2/uDNFrrMMsf2OY4mPSuKorVDXoTZAUfSjIpuT0PbiiuxbGKHbhRuFMooKH5z0oGcikXvTqAHUuRio91LnNAmIxpM0p6U2gkXBqOR1hRpJFYgdcU7dRKR9n75z0x1pVFaJcdyGwQPcMdhAb+8KtkeWzLtzjv61PaeW8yyjjcMEY6Gq82Vmkz68VxUtZ3Oiewufw9qRj6Uzd605GB613J6WOfoJk0vNLkUUEDTkg47VRv9Rj0+1aaRtpx8uQetXwoU5z96svW5tONp5OpqTGx4xQBlWWueY0kksgEuCQOxH16VnXdw0u+adQA3Qg1Xmjthdn7KGFso4HeopwXT73ydqiQmI7M9tj3zyaYLx2jCs3C8cVWd2VtoPFMYkfKPrUCJvOUnaSSvrUqvFt4P6GqkcZZqsjEMZYDLelMXMOKo0eN/zHkD2qtJtRh8/I9qbEwDszNye1RvudmwOKpDHqwJ3B6kRi5+Xmq8aHaasREKo9cUxOVhZHx96liAYHHNRyqcjNRmUxdKAvcujKLyMVBIxJOOTUYuSfvU2Rz94dDQMXDbvn4FHlg96Y2SgLHvQuP71ADyN8fyctUSH9581SQna5BpSgYnb1oAby8yqBxnNE6nzfk5GKaMrJ709JlDfPSAS2ifLNnaKl3DjzDjHSpCy+Sdneqkkb4BplFsn5QY+T2p6Sb1wfvVAj+Wilu1PVwUZloGSEL5Jz1ArMYF22jk54qcytJGdtFqoVsucYoAmkjEcKKoJbHIxUDRMOg/WrLTo8mAx/KoJSy0ARjejcjPtmpjL8ue/pUAcnrSq3PNIgXefM46U9WMnXkUmRTOjfL0pgTIQG+Xp3qNvlY469qcxAXA60wNg/NSANrdSKQMBnNSn5l+WoWUfjREBu4Amlwp+tRsCOtOGe3WrKFLetFRndnmigdj75ooorwD3wooooAKKKKACiiigAooooAKKKKACiiigAooooAKKKKACiiigAooooAKKKKACiiigAooooAK4jxt4Ai1yNr3Skjg1Dq3GFl+uO9dvRVRk4u6JlFSVmfM00MtvI8E8ZilQ4aN+ooAwo+le2+MfA9t4kiE9vst79B8su3749DXjF9Zz6ZeSW17GY5Y2w69cV69HEKrvueVUoypvTYiBwaSkLbevfpignC1u9ESG79Oldv4K8ff2IzWmsySy2b/cctuMbenPbrXB7qVhvgdSAQR0YZH1rOUFODTLpycJXR9AQ6hp+uQ/8SDVEimX5sRnI59V6GpDrp0yNF19Ps7Hjz0OYmP16j8RXzNpF1cQ6gkgmeNo2OwocFfpXpmj/ABLvrWM22twLqVsRhtx+YD1OQc1531dvY7FiI9T1m+0/T9csTHdQxXMTqQGIBxnuD2rw/wAUaKNA12axibfCMOhPXB7fpXa6WbSS1k1j4eXf7tDvn0xiQHxzgDPynHHSuG8T602u69JfvbmBiojMZbO0jt0962w0ZKXkZYnllFPqZBOGFNlPyk9dwIpScmo3OEYdRg816BwvVHKCGJRcwrtyZCcAdOTXRaLH5dqBsChBgEVyemXDTXV+pUHZIfmz712NgwazUoTjAzXDD+IdTf7su5FR5pN1Kxw2K7DlHDGOabkA1Xkm+bA/nUTSEigl7lwkHoaAappIe9SiUVSETk0maarZ6U8rimMTNGaXHvSUFAMmng4pqnBoPNAD80ZpmPekNAEmaTIplFADqKKQnFAC0ZpN1KOaAHDpSGloIzQA3NGaXHvRj3oASkNKeKQ1PUBCcgg8g9c9643W5JrHUHlUFXVgUK8E12VZ2r2S3lmzMo82MHBx1rKpDmjcpPoWNNv1v7JJ1JLgYce9Ww+eexrjPDurRabqv2G7VlNwTtPbOMD+Vdkw8tvKfhwM0qNRTXK+gpQa1H5ozUdLj3roEP3UbqZj3ox70APzRupmPejHvQBIGpciogMUtABTZHkjjZ1wQoyBTty+ufpSxBWnj8zhS2PrUVLKNiYt3LNvOTGrsm3fTbv/AI+PquavarGlrawoZF3bwCi84GRzVC7O643JyqpwfWuLDK0zoqbEFKKTsKUHFdz3MIjgaXdTC1IDxluBSGO3bg3OCprmvFQWe3SRHVjGeVFalzq9laSiOdiS/G0VxmpRyNfyZR0RuRk9RQRIr/aniwmOoyeKDdbxgjA9BTDL5a7Qcn1xUSndJtK8etRIhDvMAmwBkD2qRyrNkKBx6VKIo0Hr71A3HA5561AMEZN3LEfQ0krjdw5/OmhFDYYc0xtucYpkj1SNnFEzJH8qH8qYY12ZDc0wYCktyapFIkjbPtTgyhjg96g3gqTnH0pUwcHPXmgGW2lAA3KPbiqk7BmwAPyp0h4BLZxULOG9qZUR4ZQm3aM+uKaWwoWkHK0AetUIePmT2qMA5qdSNuMVETtbpUsB4y3zHineYAg2+vWojIT1/Kn5HAAx3pDQScsCODUEow4q42GUY6io5YHb5sUFDYXxwTUzOQvIJX+VViCsgB4q3CzkFAOD+tMQ1AJh147ijKbJQAQF9KV4hDIGxt5omclZNvT6UAVycgbPlz6U9mKooXqTzUathiD2pxfjjtQMcAF5J5NSLIjRssnJ9ajhw+d9WY4rZYyQ+D9KBFV4lH3SaQxFU3HpUsuG5U/jVd3crtzxmkIN2Kd9KZjHvQzFe1AImXlT6+tRFf3oDHinxNzntTpAGAYUxjNxT7pJoAY8kdaaW29Kd9oyADQKw2ZQVG09OtFs4XIYZPbNBZW6cUwKM8Gmiuliy209h+VFRUVQj7zooor58+gCiiigAooooAKKKKACiiigAooooAKKKKACiiigAooooAKKKKACiiigAopGG5SOn0qFJHhIS4IOThXx19M+9AE9FFFABRRRQAUUUUAFYHinwlZ+J7QLL+5uUB8udRkj6+orfoppuLuhNJqzPnPWNFvdE1BrW/iMbn7hxxKPUVRPKkDqo59q+h9e0Gz8Qac9reJyQdkgHKH1FeAeKNB1TwhrTJeRtLaMP3c4U7Wz2z616lPEqas9zzqlD2eq2KuMAZ4zSSEJA7egqGCVpoA78c1Dqcxj099vViAK3b9054t3KWmv5mpDado2k7vfIrVuZWjtXKn5m4LdKybKMwT2+OC4BOav6nIBFGFz5sh+5WEJNOxdRWLOlyTWFpC1s7RzJhlIOD+dX9R1OTVJVuLpR5+3a0mMbse349aoZMagN1HWmecD1rpjZamTbelybI9aY3Ksp4+U1AZPmGOmalmbZGxBz8tUO+ljiNKiaHUb0E4BlYkeozXboV8mPyeF2jIrjI52juBOqZ3u4bj0auvhceWpPGVGBXFS1qM1npEmzTbiTEeQeaPMWmTFWWu6xz3K3mbuaUNk0xgApxSx0WEOZsdKRTnvQ1ItOwiZZCjD3q4su5aoHpU0D9qBljmnYNC049KDSyGE0maD1pKBC5pRzTacDgUCFoo3ZooAbmlBpKSgBxPymkU0h6Uq0Bcfuo3UwtikJzQK5Jk0bqj344ooGtRxOTQKB0paVhhRn5skcHg0UUO1hdbnMa1J9guQ8UKuwIkIb0Hp+Vbljqlnq1pFdWcgYtw6E8xkcY/SmapaJc25P8ajgeorl9GgbTr+7YZVDhlX3yM/1rz0vZz5mdOk1qdtTc0y1uUuIVlTncMEelPI2kj04rvhLn1RzSvFjlPWnVGpxSluKtgPzRmot1G6kBLmjNRbqN1AXHu4hi3yFUT0zWO2vW97M0Ni65iIYkt/n0qe7M+cLYLcY6sG6VmpoEcXm3U8TS7xkJF/CfevOrVOZ2R1wpaXkdbZXtrDpxvfLElxM23aTyB6/rVZ2WWTdyO+KxNJtLjc91euVz8sMP8AdHfNa61vh6XL7xnUfMyXNFNpC5XgDNdNjC1kP3AcnpTDIvlu8nATsajklWJGlbBCjOPWuW1TXjJauixne57VL0Fcr6pNDdass4GOcfT3qLVLma72I7mRYxwyiqRlygOCPrSGT5PlalcTRCH8tto5zwaUkJwDSZC5yMmmFGK5qXqZbD/NyNuaRmIAwM81ErY6ipknHcUrDJFQySByMYplzCV5A4pTIT904pDMy8MMr61IWK2GHODVmKBJF/ecDvUcbcnjPPFSmfEZwtVcqw1kjjjby8Gq45GfWrCMDGwZetSxCPYOOgouFio0ZK1Bswea0w0bbh0xVOZOcrRca0EXAXk4oxxkVGPelL4XAq7isAbmlxnrULEjBHrU6MNozRuFiN85AFTtgKOR0pW2vyOKiP3sZzSsMVGLSYzgetT/AGk42ZFQttWPjrUaDc1AEu/zZhu4xUjbg3yHFMWLYpOcmlguJFLApkZ7igYvnEMFmG7NPlmV0dUWkaNJpASSpzUgt1h6tnNJsRnuAG6in8beDmpZ0UOFA60x4ipxjFK4xobHSjAPIphBU/WpFGOKoByt8vtSHGM0EY4NTKqFOam5NiupJ7HFPTbIOaHwnyiq6lozzTRSROV2MVHcUudsYWmBt3NNywlGelMEDVEQcmnM3zUN0p2LGqM96eDimL3p1MTHbqKSimSffFFFFfPnvhRRRQAUUUUAFFFFABRRRQAUUUUAFFFFABRRRQAUUUUAFUtVv5dNs2uo7Ka8SMbpEgALhR1IXq30GSewq7RQBk6F4n0nxHbtJpdyWZGKvDLG0UqH0KOAw/KtauM8S/D+31DUzr2hzS6driqAJoZWVJcdAyZ2n64qDQPHjw340TxfE1jqSttWVl/dy9wQRx0ppN7EuSW53VIQCMNyKhuEa4tSLeXaxGUcHisfUPFNroskUGuxTWwkGPtITdET35GSPxAoSb2G5JasslbrSZmdWkurJjkoRueH3Hcj25NXrW/tL4MbO5jm2/e2MDj61UW8NsPtBl+0aeyblkX5in5ckY+vSuc8QeE5tz614MuTaX+Nzxxv+7uMcgYPAP5DnmqSTdmK/Y7aiuP8L+PbfVCbDWVOn6pEdrxTDaG9wa3LbxJpd3q8+mQ3Sm6gI3J65UHg9DwaHCS6ApJmpRRRUFBRRRQAVk+JtDg8QaDcWU8YcsuUz2Ycj+Va1NeRI13SMFX1Jpp2E0mrM+atUsJNJnltp0aMK20AjvWVfgPa8ncFxkV7j8QfCH9rWb6hp8YedR+8Qfxj1HvXhF0DaztayBgqkg7uuc969CFVyhY82rTcHpsOmXd9kKDGQAfyoE4u9VaVfnjtBgH+9/nFJcyiOxDp1C4T61JYWq21nEifVie9XSV2RU6FhmLVH5ZPSpf4qfjjiusxK3Tg06N87kfngilZfmyajyCHK8YBOaPMaXQw7dFCzL6Stj25NbjD5UOei4rF00LJE2/Jbznyf+BGtt12Ma46DXtGbVE+Ubmhi3rSZp5ANd5y2IMnvShsVLsFIUGKAsRNJSKx9aVlFJtKjNAh+WOOamiU5HPeqnm+xFTpKSpx1oC5eDEd6duJ71Sjkb+Lmpg5PTii47kx460mai384Jo3j1oHcl3A9KXPHNQI2OtSFt3SgYu/BpfM96hc4OKZk0XAs7xRuzVbJpytjrRdATk8U3cR3pm+mmUDsaBMlyaATUYkBFL5goEP781IuDUW4UobFFyotEpODxSA03eDSM+BxQMk/GjcAMHriofMNNaXcvvjFS+4iwx8sIfvFlzt9ea53V9O+z3q3YLG3cjzvVAeOn1xXQRB5LAlgDsb74PIqFmRlKy4kVvlOe9c07VLplptamT9pl0y8Ajjb7G4/dSgZD/X0/StlZhLGskeCpAzjsayYJDZXT6Te7ptOu2JhcY3Qt16+nWrJsZ9FbZu82JjjA5J96zp1HSfKaNKcbou5wcbicd6XPrSSSYA4BGcAjvTDIASPSu+9zm5ktGSH2pMADJY/SoprqG2UGaQAnoKoXutLAw2xuVP3SF61nKpGPU1UHI1DyOCR71Xurr7PHhRvf1HQVnS6y7osEi+UH/iOOlato1rHZCCUGUnkHua5ZV7uyOmNCy1HWNouUniLzO332YkKf5Vaupg5aMKqqeCF6VB5rrFsiOxP7g6D+tNVQBxVxoJO7JlWurId8x78U5eOtIGx1oJz0rpVkjC48kU0yEAgAGmk8elRO6ryzY7DmndBdFDWZMabJ1BIrikk43/AMSng10Gr6k8u+BR8inBJHWsCJQyMB2qGYy8hX3tHyfpUaR4XJ60CQswA4A9adJINvyjFSO+hHK+3gUJMdu081DnJOalgaMcMOfWmToNZWUdaTdxU0o75GPSmqYwuXUkdOKQaDgyOuNu0+tISyrs+8DUBYlm9BU6SjkdMetTZisKsYiX5nxk5xUroCBsPWomAaPIZWNKlw3CnbiixQ4nbw1Krg/d4qNm3nABNMcOv3eKLMCZsE/uwM/xVG7hUbco6dajUH+/yfSmyRHBO/PFAyPIf7nNG3HUc0iofp9Kl8o7c5qrhoREZpwx3o6daQn0qkBMWBTHeo22q3y8cVGH+bPag0MLCn5upqQgoRsqDcM89KsrIowR29qkdmLhlwc59qV58gY4NGO+Cc0x4XJDMQopiFW4OMNzUjvt27uc9Ki2qMcE1KoWVsHqvSpYCO5DZJ5HSmtO7t8zZ/CkcEt9ahzjmhIB8jcjNG8E5FRsd/Q4pi5Bqh2LJbcvPWmKxDdeKB0600sKdhWYrOS2c802R9xpv3jxT9oA5pMewidMrxg80+dsPx0IFMiHzFR3FLMwJUdwOTSDqRE80obIpm7LYxUqADrVXKegxc7jTz7UrAAEilijZsnHA60xDetFPJAPAooFqfe1FFFeAe8FFFFABRRRQAUUUUAFFFFABRRRQAUUUUAFFFFABRRRQAUUUUAFYniXwppviixMF/CPMXmOdRh0Psa26KabTuhNJqzPJYNY8QfDO6FnrMcmoaNuIinD7io6jGefwPFdB4i8Q6V4n8BXT6bJbzl4smKc4ZDj055Fdlf6fa6nZva38CTwOPmR1yK8Q8b/AA1ufD0r3+lZn0wklkXO+Adh/ujpXXT9nVfvaM5antKS93VGN4f8bav4eZo7OZmtyoDRyNuQY9FPC/hVzTPiLq2ma1Ld24xbzOGezB/d/wDAf7p+grlFAAJB3Z7im5AYFunfFek6UJq8lqcMako6Reh65cnw58UbFpbIjT9cjXaolwGOORnGcjk89a841HT9T8O6p5F2k1vcRt8kkbYLHsQ1Zas0W2VHZHVtyOp+YGtLVPEWpaxaW1tqM7TiH/VyPy3fqazjRcHpsaSqKa13PQ/B3xXZTFp/iPLAfKLsHOPQN/jXq1rcw3duk9tIssbjKsp4Ir5TikB3B1z6103hnxvqfhc/6LL59oesDk4H09K56uGi1zQNKWIlHSZ9F0Vzvhjxpp3iaFRbkw3G3LQuRkfT1qxr+sXOkR/araFbqGEZuYVOJFX+8PXoa8/ladmd/Mmro2qqajbQ31lLZTsB56FR7H1Fc3qnjMt4d/tnw8IbyGE/v4nba6/lnmvOLn4raiIbmTUbOO5tc7kjU7XiPqH7evSrjSlIzlWhF2N5PFuteCbqTStVQ3qROdjO/LIeQQT7EV514imTWtUu9QEIh8+QsEH8NaeueJ7jxJo9heXEY3jcEkJywXJwCe/1rn/Mf5wWz8vJ9a7aUFGDfU4603KSXQz2tpbmSCAH5YW3N7itX7pCjsKfaQ+XbPNnhkqFD941rRM6nQQuetCzc80mc80yQ4xitjMn3qRzUDEFZVTj5TTQA3WoLrMcMmOgFDdoscfiRQ0VGhjYS/MPNY8c9zW7cNukJT7tZmggxQ5HQ7m/M1Z80lfxrkwy99s2q7ElN8z3pnmGmV6BykjSkUhlOKb2ooExwbNS7htAqCnjpQQlcVoww4ojXbSZxQTkYoK5SdXFPDfMaqj5elSA5HNSIexyeKTmhaWi9hiq1SK1QAk9aUDHSle4IkY5eimUUFD6QnFNooAduprUdaTaKpCYBqN3IpOhoZ84pskm3cCl3VW3UbqgCwZMUBixqtvw1SByR8uffFAcxNTaYjh+EYD1UdaXLfLz3pPcL3Q94pZrOfypjGY137c/eqlpnmSWryzn96zY8vP3R6069vpIIngiz5so9O1Y+n3DfaZ5n8zz0XBGeGFcMp8lQ7o0+amb9xDHNHtHLHGz2IrYQLe6H9qzult1COD6/wCRXM6VrEGqnyoFaKSPO4N3rZ0y9NncSwzIWglGCO2aqvG65kRR0fKZ8V3BcMsMLncowc9jWZrepm2ga2t2y20tJJ/dFXdSWHS9WwiACRGK7fbHX86yZrezSFxqbFvtDBnVB1FZ/WGo2NHh02rmC3iB7m1EtwGZkbbF/tV12mSYsYrvWSBJt/dRgZCD/PP41zlva2kd4160GyNPls4FH8XqfxP6V0Nhp8qxC41JlmmPO0c7PT9KiNOdWWpVSapbFaXR01XUPtrGWK3U52Mep9QM1vxhUjURgLtGFJpnmbiuRk4+9/SpCMqK9KEIQWhxyqSqbMkpN2KbRVkjt1G6mnpTalgSEt5ZZugrm9U1Lzplji3B1bGM4rVvbl7SMydsVyN1P9ouGmA5zSB7Fm7uPlZJcByeMd6oxwmPLE8GgOZPvVYSIOmKCSjK4Vjimht9SSxBJCG7GowcdOlBA/yRioZEKNxTy3BqIsTQAj7jzmp403wkenNVzkVPC+cBulIZD91wD/FUkShw+6kukCzAL0pQdwZ/73BplDG+VMIeKagZqVH2I6dqfGdkYYdKAETzUbipY2bc3mc81E8xak2kQq5/vUALKArZWmBietKz71yB0NRH5s4pAWMgR5pgkytQByvFLnHNPlDlJHGRTNp9aa0rEYpN5prQpKwoBpWPzYpwmJWmhs0MYEcZxmrEcm1OYxVZjlaVGK0gLaO/U1KbtfIaN0yxPBqmkhZsmgpls+tIgmaclAoQADvTUJW6B7GmrwwpzNTAnkAL8elVWTKn60+Mb2IqOZQOBQgW5Dgg05Tjg0512kfSoc4aqL3JcHOM0vlEjrTFILZNPYgUAMAKtTxk0gZu1PCyEfIcCkxMEGJM+1NI3SHNSKG2nmm7XJ61JKZAF/eU8nBNOZH9aiJIOKZe4/OacrSrwOh602JGkfipY4XkkKueBSvYCIvg0VoGSKJQv2cOe5xRRzAfdVFFFeGe4FFFFABRRRQAUUUUAFFFFABRRRQAUUUUAFFFFABRRRQAUZoppjBcP0b1HegB1FQPeQwzLFO4iZzhN5wHPoD3PtTZJ3gmYyYeHuVHKfUelAFmkIDKQwyD1BpEdZUDxsGVhkEHINOoA8w8bfC5bkyaj4cCxy4JezC4Vz/skdPyryKWBoZ3ilBWSM4dCMFTX1WTgZxn6VyHjXwDZ+JrZ7i2Cwakq/JKBjf/ALLe3+NdtDEcrtPY5K1C6vA+f2bDUL8xYMSc+p6VNqmmXmk6k1lqEDwTqfuupG4f3hnqPeqyZD4PU16nNdabHmOOvvbkm1VPH/66OAcgCmM2GwaTcKhJIu7LVvdT29ws0MrRyKcqynBFdHqXxA1PULWFZDsvIgQLmI7Sy+jev/165Njjik3MCAQcewqXCLd2hqckrJluDUJk8wNJtMmd23jd9aivZo4NOuHVRkocmk8rI6KMjqTUV5AXsJ1dlx5ZP3hSkrLQnd6mrCiy+GbTB2/LkAdOprOugy27hODgCptMuUvPC0JjkVmiBX5TnoxFUjfCWZrYEFgmWx26VzU5WTudEldovW0mzShGxyeBUQfAwO9SW8W2yl78AiqxyFyelbULMipo1clDYGKQv61FvFKGU9a3Mh2CelU9Xuvs2mSu2PmwtXN2OlZHiJRLbw25OC7BjWVR2iOKbki5pEmIY48f8sdx/HFTIGWIE4qKyXyrNmGMqgQc/wCfSpQMKFY/MAM1lhl1NqobqbuFOpmBXac48HIopFwKCcjigli5pwPFQ80oPy598UCJ1TfnB6Cod3zBT1xzSwSKNQjjc4Geakucfa38ofKem7isU3z2NX8Fxitt6VMrZUZ61VGTnHapI8mtdEYRuWBntS7sdaaGwBijIPWp0epctEOODSqBiod4zTwaQ47EhApMUgp1IYu0UoUUUjUANbFMoPLUp4qkA0ntTcUpNJuFMTDFJQXFA5qrEjSPmpVJDDBI57HFO4HWmsFIwwyM0mKxDe2PnyiW2lFvOP4scflVaz1KZLn7Hq8Jglz8k2flf8P/AK9aOcfIo3J6mo7y1W6twsp3LGMp6isXcuC7lbUnkjnUK2I5EKswbkdaS009LnSnjeRl35xOpwy8/wCRVeSyhjTzkZ2kCnhjxWlpiBrGMlTu5yO3WuFJTqanoyfLBWOZngutGvkjuAdh/wBXcrwp9iP/AK9ami6hfXWsPHe4ESrmMAY3D1rU1GyS+spLR+jfMv8AstXPaQxW/ihMqtcFDGWLcLjFbT0VjOnZu5sRxNruqJADsYPmQkcbfQVN4ljsrCHzXxFPKm1IupA9f1pvgSTzte1KMyrLDZRAs3ctzx+lM1NIdW1sXBUiUeo4C/5zXIoqUjeUrFPRbEn/AEydtxH3BitjA5wNu7rinL0CBgUUdhQMt2xXqwilE8+cnKQ3GMYqVZDio29KUECqStsQtCTzKN57U3aPWjHOBQA4MTSM4XrSZ2mgqG60AZ2pl3sm8ld/qM1yvmYypAVgfu11d6ILJGnBYHutcrdy288jSp8jMaTBkRk+bDfJVoSNDtMeGB61RVgwKyfNnpQ8siD5QQKRBNfrJJMrAYVhk1Ay+WoB7mla6kaAFuxps0h4BHUUAI/yj1pFZSOOtMTI5605Rk88CkJigl32mpNi525xTSFQ5Q/nSgF+cjP1oEEsZK4BqKEuFdRjBFTxqM/M1IAEzjv0qR3Kzowj/CpFOLPaOp/xpGfcSp7CpGKi3UjqKpFDIkz9+nEbUI/h3VGku44qRsmIr3zxQJ3FlEaxhUHX3qKNMGpHG2MZ5NRoc5YnpzTBXI5BhuaaT6U6RtzZNM4J4qjQMZ6UBT3pyZ3YxVnEYGG4P0qWJshW2bHWkMe0fN1pysdvWmMfWgV2ORF6mkPX2p0anGT0pzBG4Xk0CuCkKuBShuKaQB1pG4xikIfxnNIV3dKjJ4pUkIoCzJVVk5HTvTHTOXGaXzT07HrT426qnOfWgWqIJJN6jjkVC6NVp3RVxjkHmk+8pPamaRZCsR69qUrzSCXau09c1IpUr71SB3uKjbaUsTUTNik3UCsyYtmlwMZyc/Wq2/PSnB6A5WPY1GWwD60Fs01Bl/m6UFRViaEgrkde9SlzUW0Ix29DS1lJaik9SVGkUdetFRiXjmipsxan3tRRRXjnvBRRRQAUUUUAFFFFABRRRQAUUUUAFFFFABRRRQAUUUUAFFFFAEVxbRXcDRTruRv0rx/xnqHiPwT4rW6sry4ubN0+Uzx7owMfcJAHTr68V7LVe9sbbUbR7a9hWaFxhlYda0pyUXdq6M6kXJWTsfPVn8RNfstXkvorvPmsWaHZuhIPYDqPzr1zwh8RtK8TQrDLKtpfAfNDJ8u49yueorgfHfwyk0RX1HQopbiz3ZeFTl4h6+4/M15xG5WTzYXdHB+VkOCP6ivQdOnXjeOhwe0qUZWlqfW1Ga8J8M/FzVNIVLXWAdQt1AHmHAkUfpn8a7LUPix4fuNImksLmWK9RSYUkhcZfHAPGMZrhdGadrHYq9Nq9zqPFHhPTvFemtbX6FZMfu50wHjPqK8C8S+F9R8K6q0F8heDOIrgL8rjt+NegWfxrga926jZmG3MeFaMFjv5/TpTNT+JPhvxHoNxaa3YzFsEKUXvn5SCD9K6aPtabs1oYVnSqK6ep5Ow6/NkE9KbUkhj3kQKRDk7N2M4pld9zgHJ8/NSecYwRtyPWojLnoMUwtTACzFsSdKS5PmWM6xqSfKb+RpQcnmkX7xHrSYvtEHhoI3hJngBi8l2aTPf5jUOkeW00ko5M7Hn2zTtLmjtNL1jT5HIyd447Eg/1qppTIAohfKRqW3H/PvXnTTiztUuax1ajyop0Pbis5pRsx71dtbhZtKMuQQoyfWqSx5UkdSc10YXYxrx6gVyaVcL1pCSTzSZO4Y6d66zBO47HPtXP6ncxy6irGTHltja1aOsTz2lmWgkXn1rk4Yb281Il2AVjnnFclaWh00V7x3jLF9lRwQvmqMAfSoAcFs9zUrrsjt4GxhIxj64qLblRu+/n9K0wytG4q8vesLuop6LjrSKvFdFzAYTg0m6lZajI5ouS9x+6kD4YDsaVRQ6sZAmOGGQaNwtcikZpNStraIfvd+WPoKuzgGd2Jyc8Y7VUsyjapMwPzIoAP51YClmy/AIrGOtQ1lpAYfl59abLL5S+WPvMN4+n+RUgw2Qvasy5Zn1NIh8xIwMdhTqSsKnDmNaGYTRK47in1H5Qt/3KfdABPscUZoh8JNTewfxVN3qNTuXmlU7eKsUexLnC03dQz4WhsKm6lYY/dRnNMR93WlfjGKLAJ/EPrStTM0u6nsA1ulRkE9KmBBzUTqc0IGAIHWnLUe2lWquSPPWkPSlzigkGk2UC0/A2MF5+U0igU1nK9B2qGtGNGbvEtvIG4Zc4+lXtPnLWKqo6Hn86x1nHmXBbgqeBV3TpyZfLHCld1efQf7x3Oyo70jXJ2tk/wCeK4SBPO1JjHIsbG5bapPLcnNdJr2oLp+iPNu/eOdiiuPsLp7by3lTc8Q3qcc/NzW2I0RlQTtc6nwuBpg1mZzsnmlGVz0Hzf41qxurqzEYZhwfauf0lM2SozEyStuck8/5610fCsqgDAWssPHW5pWnoIqlMFec1IX2D5utN3UM2RzXotnEncduDc0ZFQ5yeKWlcZJuoDfNTP8AepVKhvl5FMBXcg5FN8zP3jilfLHC9aicrFGXkPAoC5z2quZr7cryFCdrA9BWfNDHAxUDcp5U1oXZiZnKSj5jkVR3fvcsVYY71DkK5UYAHKrj3p4Quv3xUjOjM24Lt7gVF5kQb93kfWlckfKqx2Yzyc1HOBI0YX0pXcuMdRSiN2XKdqLjI44CZ9lWHVYRtPWlI2xfNw3rUEsh2gHn3ouSwZRsyVJ96jU+i4qdH2KCeeOlQbwd7H1ouIFJ3U8IWZahWYlDtp4f5etFgGPGRI1IciICpI3655yakkhCR5HOaLllaNfmzViJC5b61CCSDjtU+mSkXbiUfu8U0ylruVppCGKmo0fBx60s8W+dihOzPFNIKkUFaC4y+KlEABz3pqjdT8OOnNVcm43cUfpxU/yOm5uKjGf4hTWlxxikTuK+AvFRIO56ZqZ5g8AXAz9KYpBAWkNASD7CoxIUb5eakyoO09Kd5SgbkOaB2GBt3JppJbp2pjOQ1KX3YxxVWKsKQaVaZnHWlDZpBYcTzSxsRIuKYetNbIII7UhcpaIAyTUMjZb5elOeTNvG3c9aj3CgFGwwj5qcrUuRQTnpVXKGs1ORCBzUaghuakzt60XDYTaD0pdtOznpSE4FFxXE21IuBUAb5qkD57UXCRKWBpuMn2prUKxDD60iLDjgUUqx+YCfeikOx970UUV4Z7oUUUUAFFFFABRRRQAUUUUAFFFFABRRRQAUUUUAFFFFABRRRQAUUUUAIyhlIYAg9Qe9eQ/FLwHY2Vr/AG1o1s8UzSnzo4vuYOSWx259PWvX6gmNtcF7OfZIXQlomGdy/StKc3CV0Z1IKcbM+TmTnIYHnOaUMXyCeD7V1/xA8Jr4W1zZbqBZ3OWgx2weV/DI/OuNB546ZxXsRfPFSR5Eo8kuVk/fPGexwKVdoA4+o7Got1N3MHPpT97qTp0JyPp7cUwnFJvyvWo2agCXAYelMHHvUi/dqOqGLn2pgPzU4HI4pg+9SJ6laQxLqcqt0mgIY46f5xVYWQm00WVo5R1IYyAcsPT9as6iEUxsRhzxU9tCUktmThWB31xTXvnXTL9jpLWFtOTO0kMsYwpHQ1D5hY7h8uOMCttEL6ewXgAfdNYJGAR6mroaXJrbD6OecU0HjmgtyAO9da2OWJleJoSdPjKkgl16fWqml2rSXBDDlQBnNaWtP5drGj/NucAfnUdgvlXTYbrjFcNbex2Ul1L6Ky3TeYxbYMAGnjhckZPrTfmM0pbvSsQFAJrqp6RRjPWTF3+1KHx2pmc0ZrQzHZzTSuaegyKVh8ppkvciAxT1z5gPXA702m7syYU44poaGaS0am8eQAvnj9anRt6g5/CsPQLkpe6isx3LnAz261tROpyBwMCsIfGay+FDJpPIt5GIxzgYqhpsc00j3Cr86/dZ6m1OYx25AG9gudgqzY3SnRYXEDJI4O5WHA5NKWsjSHu6koZ2G6XbvPXaaXNMODgqOcc4ow3pWqVkc0ndku/jAFNB560zDelHI60xIn6rSNwPWmK1Oc7hxzQUKre1OznrUY4608MD0NACnpUatnPtTyRio143ZpgORsc0rNntUQJxTlyTSE9h+MimhSKcOBQWx1oJGnrTTzSk5NGKCwGR3p5b5gMA84qPIFPUjgn1zT6EtmDdqEv5FAGCeak02Zft5gyQdpwfwqlqDltedFb+EcU6OVbS/juG6AEE/hXk35ap6Nr0yp4vuPOv7SzRsqoBYD1x/wDXoFpsxGAPMPUHsO1Z1rnUPEc13K2U3Ermuhl2CT7Y6lS6gAU687tIIx5UWNJhCZ5yxGSfStdSfLBPU9az9KjH2UyYIZm6H0rRfG4henau+jC0UclV3Ym6jORSUVo9zNKyAcGlzRRikAzce5zT0PemY4z2ozt61QEhJ6jris/V5JEstsaFy3X2q4HAPNRzRSvbvsdQccA0Es5J02gFxgj3qEF1U4Ude9PundZyH6g9KPtUbLsdMH1rJiIldom3FQ2e2KsskTIGZApPaoIgzMyxuDUspTaBIwbHXFAyJ5lU7VUYHSnibEZxkVXOwkmFCQO9Swz72CSgAUAJLKHQfMc5pwYPHgjmm3CrG3yjINRgkGgljmOGxUOVUkHoam+9LinS2qsvB5o6gtykDs6dKkDZWkdccHikXpVGlrjkkCdamjnz8p5z61AoH8QqVVGMgVPUTsSDMan5cg06zZPtGD/d6VC8xK7fSp7IR/NLxlU5poErlZmG47RgenpSMy9TTGYgAlcFqb160x8pJ5qDpR5oPQ0w7R1FGwY3dBTKsh/mHv0pSVxTAm/gduaf5J28UiXZBs/d7qjJIX3qYkiHBHNRAbhQCCP5zhqc0Tq4CtkVFg+YAOPerTqVCnd1oGVZeD701TxTpjliO9MHAOasvoLnINKgxQikmnEH+HmpYhCT5gGODRjLAVIVH7s98VCpxNz2NIB+zKdfu9qj3VPbje0i98HH5VWTlsdxQMcD61InDZNKsQPNPKcUEOSBSGPIxTHQMc5xU2xQOtRc0CTAALwTSHBGM0jA9TTcYoKEK4PWp12lR64quc1IhwBzQEk2ibZgHvTcg/dGT3pRLx79qRP3bbhz6ign1EDMvCiilMpc/KtFAz74ooorwz3AooooAKKKKACiiigAooooAKKKKACiiigAooooAKKKKACiiigAooooAKjkhjlwXUbl+63dfoakooA8v+J+j+I7rSlRPJv7JG370jKzRfqcj346V4tubzvu88gse9fXNcF41+F9j4hR7zTNtnqAG4YX5JT/ALQ/rXZQrqHuy2OKvh3N80dzwQ/eqN3/AHhFX9V0q/0S+e01W3MEy/dQggyD1Ht/hVFk3NnAB9q9S6aumefZrRoVaQ1IoCryKjfk8CkMsId0fFV5s/Z2XoynNSx/LTLoFlIUfw9felIop2d608kkTJt8vH41eWPPNc7o9/5eozxXjlixABJrp12sg8s/nUw3H0M3Uoy9up/iBqWwLSpACeVyD+dJfuVgWQngNgj8ajsX/wBLUqcI3PHasanxmkfhOzkIt9MIxyy9a5nO4A+9dFPJusZR98KgxntXNow8scd6dEmt0AcinAcj601fuinD72ewrd7HO9zJ1/c0Vvjp5n9ak0zD3W3OcDrTtcASxjYjdg9PxqloW8yz5GDjj2rhr7o9ChsbYOHcA55pzr936VFbgHcB16mpjk7fpXZT+BHNP4mIq0/YKCeOKMirMhPu8CkLZFKwzUfRutMl7i1GBukXb13c1JmokyLnK8DmgFqzm7eXytU1Mj7nmDH5tXTBQWGOhUE1xJvltNYvLecDEhJ59ef8a6i9vDBpQKcSyJtUCsVub1I7DUbz9ZXywWHQ5rTuZd8oCgKPQVkWRvLd4XiUGM/6w1pqBt6e9Kn70rl1XaNiTIHT0pd1M6HNG4elbHK1YfuprNxSUqjcSDVIQgOV4pybqdEo2nI5pVB3VEhiM3FMDHtTyBnkUxiFYYHFMoXcaczfLUZfJ4oqkSxy8qKcDioVYhiOwpS+TxTYnsTb6Zv3VHk+tO6YxUkjxTz92m7lIJFBY4G0Z4oKGtTvQe1Jnd1FKxwwHepfYDm9TAi1uVj/AHQc1k6/dMLQWyjHmEHd6d61PFci2VxFM3O9QG9+a5bVdQNwqbW6dBnpXlVI8s2epS+BGl4UYieXA3Kq4ya6BFVSLdf3jyNuP+z7frXO6Iz2enMZRsDndu9a6Lw7mSCS9kXBJwme4p06fOxVXZG6BsUIAAqjjFFMVmYHK7SKch9a9RbHn3vqLSikLDoKTdjimJjs4o3VGzE9KemO/NBIxnx8vpVdryPzNkhxx1qR2HnHPBrG1jAxtjAPrTA1Zb2GGMsp3CsibXXEhCjj61kedKMxlgF9BUT788MaljHzy+dIZD3NMxuXNRbz0o8wgYHSpCxOP3cZ7ZFNjaJW+fJzSKxfGeQO1CHcx9ulAFlFAhmZBhSeKro20k4zU8G545VY9qhX5Dg88VIDyvm/eOKeqBPeoS24inMSneglkrYYZUYNMy23Heow7bs5pwYryTzQhEEuc801OtSTNuHSoVypwao1WxJt3OOamD7cIBmocYOe9L5pQ7ielSSSBSzN8vaktkkTzCnCsuDmhLlm6HGalt5S3meZyi9jTRSKRO9/0qQrxTGn7LEoHbihXYnLGmU0PdQqjNNKhjwePSmyPu680R4UZJ5NArWQ9XI+UDFWMEwjFMiTcM9alGR0GB6VEnZmc2Hljyzu61VVih24zzVmQ8Z3HPoKgEpR9zoCKSkENieIqTkrUiDMoDrw/C0iOsg3pgeq1LdyOlzasoAQEYquY0Mu4XbdOvvinmLEgz6VJeQeReOJ3yzMGGPfmkLhie4HSqG9iORCPuU4YjTnqaN5DdeKZIdxoEh38Mf1quRmZsetSl/kT/epChE2R3NBS0H2uVvAPUY/SoNuy5cf7VTCXy7gHHPrUUxzclhwCc0FInU4BHvSluKjVwp+bmlkcEfKMUzPl1F3UbqYDSM/PHFILEh+bimZ5+lICe3FOEeec0DI2ambSed1I+VbnpTsjbQaIWMFW5OaesuHqFTk0/gOD05oBrUsSSLEQMYyM0U272mUd/looJ5UffdFFFeGeyFFFFABRRRQAUUUUAFFFFABRRRQAUUUUAFFFFABRRRQAUUUUAFFFFABRRRQAUUUUAY/iTw1YeJdLktb+LLFf3ci4DIe2DXz7qfgzWtGinubnTrhbSKYxiQoTxnAJwOh45r6aqG7to7yzltphmOVCjD2Nb0q0qbMalKNRHyjgEt2I7U3K56V1fjPwDqfhW5klije50wt+7nAyVzzhsdPTOK4wSEt9envXqxmpRunc8uUXGVmrFkc47ZqM72fA6Aj8aC2GQU1gTMcnAqt0Bzt7Cq6ptiUiYyKce2ea6S3C8q+c7e1VJIBLqBlQD5V6mrSupgLY+bpms4P3ivslTVSBYMAe+APXmq1izh4lIxtHNUPGGofZ7OG1hbE2dx/nVLwvez3t1KZmyI4iT+YrOpbnN1H3bnqMLrJpdwy9NlYC4EfToa0rK4X+wFI43ryazR/q2+tOj1MKmog+6KcOlIOlI5wtdBlYz9XfOnysRkKRgflWbpN75VwxfkNHmte9i860nj9UP8AKuRiult7aR25aP5MVyYiOzOmlJ9DrNIvY7qebb2XOM1pdFB/SuO8KXAe+nZW4ZMgZ9xXXZyB9BW9J3gZVLqQ7G3k80wHNPb7tQKTmtDMc5I/Kotx3U9zmo1/1nNNE9R+6nlfk3Zx3qF+OlORWbbk8Y59quyC9jifE9pu8Rkr8qsu6tS4uTc29uqN88a5B7VD4wkRL6ykUYJDA+/SqllfK9pG8iEMGIGB16VwOT52jtXvQTkdJbSb7gpG+ERAZF960/qMVlaJbmGy82fPmTOd2f7taO49zXRRjyo56krvUko4pinJp/StDOW4maFfbJnFNpwHegknj+9mnAjdUAbFPJwM0twHMME1GxBoZqZnNA7ijAFFA6jNDnHSqQCZAzxTDw2QOtKDmgnFNksUc0E7evcULz3564prtvjJ9KybaGkmVlvsZjSNpHLY2g9Knu7hrfy1Xl2HOOdtQyafKk0VxG3lo3JYc7qe2wSbDgCRuMnljU8zWrNHFcugttcq19PblwzwkZA79f8ACrB3MRgZJ6VzOlXqz+Nrsr0Zdv45P+NbGoaiNN06S5cjOD5YPrVRknqyqtPlaiupzXjqfmGNj8y9s+9cejZO5s7c1Y1G+m1G5M1w24mmxhBa/P8AxGvNqS5ptnpwjyQSZoQ3NxqMkVmnCMRjjsK9HgiS2t44FHEahR+AxXF+DLH7RqhnIykCGu2J3fN68114aNtTjxEuiJ1JKktyT6UzlT0p6NtXmkL811HHtoR5IfJqXcrc1E/zUKdq4pBcl47U0tihTmmsaBCOUjw0ync3TtWDqZjuWbfLsZO2c5rUl3y+YJZA7D7mDXNzWtw05BUj1pMCthdpK9expuD3P6Vejs5ZY2VUwwPGe9QywzW/30rPmDUqlRng5qVICyHil2FjlVP5VZihlKen1pOVkJtkMVvgHJxSww4Y56etW0hIU7ufpSiJgwwPl71HOxq7KzwsoBjPD8fSofL3Sbc8jitCVGMgEf3QM0yWBdyshwwGWpptjKaRkuVKkYGc00gHq1STTspIHpiqvNWFiXA6CnSYKjtUKnnFP+8MUCsJlW4qDcEPIzQchuKa4O6quaJdCXduYA8A96dJGACNwI9ajx90npThh5CAflpaCsOiQHOz5sVct/LNvcI/yuyAiqsQMTuU546UyBmN4pfJ3HGKasNIgBLKobgDpTXCg8Z/OprpNkzY6Z4qNV3g5p+6WRBjnpU9sgklwe1Q9G2ir1pHhm4OamT7Cnoi/DFGGVvuqOue9JcNG1x+7GFqITeWp8zkdqhNwDkjg1jqzns2KwzJsiPHqRmg2shyFG8e1LFcNGudgJ+lXra9EYLPFz60tildGZHaytIVVGHB7VqTacz2MRGWMZyTTJtRlKklVRMjPFXBfwmxxGSDjkGncq7MvVNOZJPtMLeYGVfl9OBWcTgcnB7jFb6fZZxgSHOOlZt7aM0mIVGB3q4yfUrmvuUc5UnoPWmhuM1J9kbB3HHtU0loDaqU4I7ZrR2GrFeQY2g8YOc07eN4qVbZpU3HtUZjO3Gxs+uKLoegxwC+48UTgCEMOtAQof3nNOZN0RBouO6IM8DnmndVwKUW7MoKgn6UsUTSTLEvDMcc0XGJtZSoYY3H8qf5fPWprhG+1lCCSBtwB0qLmi6JYpIHAFMJbdxS7sNzT0BeQBRRdEkToSMkVCVNWJA+4j0qLBNF0XFkYG0+uaefmYD14oKkjofyojU+YuQevpRcu5JKm5sg44xRT34NFFxXPvuiiivDPXCiiigAooooAKKKKACiiigAooooAKKKKACiiigAooooAKKKKACiiigAooooAKKKKACiiigCOe3iuoGhuI1ljcYZGGQa8Y8e/CmWykfUvDMBlhZiZLUNzH3yue3tXtdFaU6kqbujOpTjUVmfIat+8YsCGTqhGCKeCrfMuefWvbvH3wuh1bfqnh+NIL8Al4hws39Aa8Snhktbl4bhGikXIdCOUNetSqRqR0PMqQlTepRndlmyPQ1ajx5Q9ANxqtOy79pPVDg+tSMWSwkK942H6VCvzC6I8416/a91qSQnhTtH4cVqeCzia+L9PJI/8eFc1dEm6kJ5O8/zrofCjBJ7lpVJQwHIHc5FZN3nc75JKFj0JJ4xplnEHAGwZHrxUZclsDpWHa6hY3k1rAI5FmROu847ds1soSsfI4z1ralFo4KgvmbDSg780yULuGOQaUEIcDoa3MgaMtG6jqVIrzSZ2hubqF+cSN/OvTwcYI/GvNfEUX2XxBPxhHO4fjWNb4Dqoa3Rc8LS+VqsZ6B1I/lXfNwM+9ea6c8kNzbSocYcduxr0eaTKDy+hIIrPDy0sKsuo9m+WkqOQkYAqQ8Cuo5hrVH/ABU4nLUhADU0T1AUZ3NtTgHg0gPzYp6rGzc8D6960ewrNvQ4jxpdbtSjgX/lkD+uP8KqaQXnnt4F5G7movEk63GtSsnIzj8a2fCdl+8a4I/1ZAFeda9Q9CXu00dWqbIkT0FItOL5fmgY3V6CskefLVjhRJ0pRjFNc561mA7AozjpTAcimhstTAmU5an1Ch/egVIxIZvYU7DAYJodduMUxOOTSsxJqRCHpTaXNJkVSAVeppCeo9abuIY46UuRnJ602A0SCKQSHp0NJcyBZNyf6t1xj0pWCOu0jjOagckQ3A64wR7HisZDWhbPmRwxKW3BQOPQYrkvGV/LaapbGBypi+YAfhXUo3mWUbg8so3fWuQ8YwqdYhZvuMuDk1lW/h6HTR1mit4Nld9feRvmdlzz61P431IPcpZxn5Y1+Ye9Zvhi6W01iOaTKqvJqjqExvLqW5kP+sPeuZT/AHVup3cilV5in1wPWp4QHcI3QZqAN8wrQ0iybUdRSKPjnLE+grCCcmka1Nrs7TwnatZaWzuMGU/pW4W/c8dM1DtEEccSL+7RQop4GF29gcV60I8qseNOfNIsZyFoemk7cUjNkVZDF3U0nnNRbm3e1Lvy2DSAmR9xxTZ+lJxGu4VXe4LtjNFwsQMfLfdUU0q7WbGWxRdrclBiMfnS28XB+0LjjiolJDsMhuPuErUt00UmN4pzLCqAhxkdsVTvGYqu1xn6Vi9dgJFRSu1ABUbRsuQ5APaquycSArJjihGaSfbMzD3zUyTsGjLcaMOc8VMVAxt79ajZVjUCJ8mk3bVPz5PpWdmUrIbOJFJ2Abe1VJRKV5wM1NKzOmASCPeoScEq5PyjPWtYkFGRGD8jrSD5pMHovAq9I6vD8pCn3FV0hHl5Y9a1Ahe2kEgcdDTQCGJY9DVzzHKlXIIA+XAqBIlIIfO8ng1LYyBssjNGhHvVyK1gmEZRXGT8xJrWitIvsqxhAC3U0yKxjhAIuNxJ5FRzFGXfWUaKTbbmwcZoi0qeeFZUAUjse9bkqwFEXIB3dAP1p89wqRxoAAyHqBjNHMBmWln5cUu/mfOMUosZBOjBVznnFaBnR5jJGQCV54qsWlkhSUSBW3c8Uc1xc1jOm0uaSWVm+Ubu5qU6Yi7VPIPBq4hL+bvYsuRjn60wTx4IJ5xxRdlKVzNnsIw2IuMVJGPs8BJ6kUl07JeqqHCsOaWfb5AGefSizE/Mps5bP1qI9an8tio4wuetBgUt8p3VaWgtBYpQjcfOKuG5jWVJpE/dDgpVb91bKVOWPqBQzxZGFYrjPPrRJaC0NOBIdQimdo9i/wAAPFRGxS2VmmVwWX5WzxSzXAltVWM4wpxgbf5U15rma1VXmUxgYw3NRYRnbmjm+Spknfcc1Itm4Tdlc1F904XDN3oswsyVgjcvxSLKjAxhcnsTTV/fA7UO5e3rVqODzowWTY47jimrhqhsNvLGyLKoUN+tajQRvB5IjXOPvelVSjqw80l9nTBqtLesJuHPIxjPSmA4WVq0vldXzyazpYik00ezIDYU1eS7HlADHm55bFRy3UgAXaCT32igLkltZJHCru5y44X0qs9m1pqkLPyC+c+ladnchISLhA20ZBxUc11FenYq5k7dsUFqRcuLWH/hJ02riLblz681lapbpAMxJgN90+lbl26pYpcXR2rjYCo5rEZ2lgkQSbwBzuGaAbKtpZec215VJPJNSm0ME2IssR3FQW2wzYJ28fnVyzeVZSqNw2flYZNFxN3IJrf5t6dW61G1oUKsRgY5FaCBmUBVG4ngk1buLF3jVnxvUcgetTzCV0YqoRJlUyG6D0rQijj24mhAY9CO1R4a1fMycP0xUuZTkIdwxnmjnKM67hUS7V7UVLKqeYTICGPWijmC7PuyiiivKPcCiiigAooooAKKKKACiiigAooooAKKKKACiiigAooooAKKKKACiiigAooooAKKKKACiiigAooooAK4/wAa/DzT/FcJmi2WeoqDtuETl/ZsdRXYUU02ndCaTVmfKHiHQb7w3rhs9VtAkhiJDqcq455BxWa6ma3KfdDKw47cY5r6s8ReHrDxPo82nalGHjkUgOB8yH1HvXz/AOMfh3qHg+TzX3XmnfdW5Axtz0DDn19a9PD1lOVpHn4ii0ro8GvLT7LqLxzddx/Gt7RnihS4ZsD91ge5yKj8aQIuoxuozvUAY+n/ANaqWmWyzrGtwxAQF1x6g4x+tKpJKVjWzcU2XrDUIYtUhmdGBVcMMfSu1iPmW4fPB5xXDhh+8kcADdkfWus0SQ3WmQydjWlORz1IlqX5pBt4ppBcgr29ac3+upFGVOPWug5yb7qgHriuD8cqBq8bgfKYx+eK7tlO9fpXJ+PYlCWsvcnH86xrfCb4d2mZFlg2m7uEGK7exk82xt3P9wZ/IVwmngy2u0eldnooJ0aMHquBWGGNqy9w0iwL57UZ3DiotpqRPumu04QTlqSQ4bFKn36bOMvxTRPUjB+aoNRuRaWE0pbaFHH1qeP5W5rnPG8wW2t4s4yxY/SipLlRtRjzSOQZzJOJG53Nk13nhhv+JWQByXO78AK4mKBns5po/uxnNdh4Um83T5M9Q/8ASuOlrUOuv8JuZy1P53UxfvU8/eruPNHjJFNbNPWmtUsBgyBSoMdaKUU0Mch/eg1Ix+ZvpUSnDChm+ZvpTEKZFOAtBI4qHYRzQASafKMmwKPlpoUgUUWsApx2phHrTqa1JgNc4QkdcVHZMs1nMH++adIcRMfRTUenjGnBu5ck/TmsZCHaYWNrhjwjMD+dYnjODdpsE46o+Cfr/wDqrRsbjyNSuYT0kJK/nUPiiLzPD7/9M2H8jWUtYM2pStNHHRIrzSKOBs4xWS7ZbGTgdK09Jf8A035+61nTptc49a82V7WPYUbajACenXtXceHdNFsIiuBMRuc+1chpsXn6hCh6bsmvSNPiHktcL0+4K0oQfMmY15WjYthmYFR93OeacpB796Qjbj3phlhiXr8xPNeseM9yzLwwphz09aaGLPnt2pznGCOoplMdwF5603ZnkU0Nv+/TZpmhT5elJgiO5LiPFUrcSGQ7uPrUs14ZIwMdDUDyyOBkYFc8pWKL8snyYI5+tQ+cGdTg7R1FQ+Ye9CyMT8o4qJSALicGXCRYX1NPykgRtgwvWoZI2kOGO0etNEIVtnm9alSEyG9P74PGcKO1NW7ikXDLyO5qzJbJjk1WNpufERHvmi9xLcTz9vyheD39KFQFtyk596V7PyuHzzTgjKmP4aRQ07vMB45PNQXykPuHGRiptkbuoWXBHUVIUR5AjtnFVexJQgh+0J8xII5qxJADCuxvrSt8s5SMcVJFEqAsx4NLnuBWmjKoNvP0qayCxnzJ03HoAafgI5KcmmPcEHMowO31o5gHvO6TNuZhn7uOlQxsZJAFwuPU1LFm5TD/AIUSeTGuGOHpFBHeNGksZj3bj989qbvnfiMBkA4JPNOeMSw/I+Pb1p1vEyLjfg+lAFCL7SlwGAOO4q75c7hdwITrgVP/ABbt3TrSGcsxwrEUXsUo3IP38cbKg4J71TMEqzAyeueK0pJXRPlU8+tVnM0snI4xzS5hWsQyfvbtGUHAGKluIHMGQv3e/rSxrIhzj5as79+0MDsHer5gkZSYmhKFmBXnpUQ3jhQQfUVsS4kO1ANo54pqITwi1SkQZ8SsWYMc59RUUgkDeUGz7CtZrfau5hihII0fceOOtDkBWjlERSCcfKRkmoZ41ZgI87M889quNGshORvPY0ggjXq22p5gIZW8ortZiuBwaFeNm3FOfWrPkxSY5zSvbIqjbRzFFYTy2pYoeG7+lKJPNAWW7ZGJ7f8A66nkhVkXcpYdwO9RtFHkFYMY9aOYTGXEjWkgWGZiT1b+9UmyG9hBRds6nJYj71NdPNYMRjBxinGPypQqgnjPHajmEQSIFlbzBsIHGO5pyO7QjKc+9TBf3hJIb2NRMjli6q209KOYCKQsJGGSDgcVGLgQyKQFyvcGp1gYHcwJPoad5SseYfxo5houSiZ7BU5kRDuIP+faqTvEYkKDY5Pzj1qaRt8Eg+dfmA4qjNC3mwAdGNHMVIv+XBNJFJsVVTsOpNMupWS/FwqhVXGCPypjRyCQhCMDhqRlEkLKwJC/dpcxBLJfRteLMI87hjZ2HvUsl08SsFYnceMnpVVZUVFCx5INJKHmc7+BmkLmJhJEIt00jSP2HYU4XKpGFiJJPQ+9VBbpnKtkD71SCJI1LIc8UBcZJdbnO9ASO9FQ+WSSaKA5j7yooorzj6AKKKKACiiigAooooAKKKKACiiigAooooAKKKKAGhs54Ix6inUVCbfD7opGT1XqDQBNRVOS7ltf+PiB3TvJCpbH/ARk1Jb6haXbFbe4jdx1QN8w+o6igCxRRVcXsX242j5SUjKBv+Wgx2/w9qALFFFFABRRRQAUUUUAFFFFAGV4i1SbRdDu9QiiEwgjL7PoK5HSvjL4du4IP7QMtnLIBvzGzIh92AwBXeXsH2mzlh2RyB1KlJBlWHpXhvxG8A6f4etlv9Hiu4vMJ8232F44x7MBgd+prooqnL3Z7mNR1FrE9ltbyy1Rfteh6jbznv5MiyI31wev41wXjDxV4m0m8uLfW/D8VxoMqbXkhVmIBHUtnA/EV4Jca5qmialZ3OjX81q6nIMbHaOe4PB/GvVvD3xr1EW8cXiGzivYCMPKigOfwzj9K1+rypyva5h9YjNWeh5F4/sLF7E3uj3DSQbwRG45QZxiuHgMnllQ6jjcADX1Jf8AhDwR8UdOuR4cvm0/UZBloSu3DZzkowyfwNeP638EPGHhy6le4sJL+ziHyXFmA+76oMsB9auVRSeujKjFqNlscdYB57ceYvU4Jrb8J3LfvIW6Rmuetrp45XikVo25G0jbjH1re8M/PFcyDHUdPxqqUtTOrHQ3yMMaWMZkGaDzz60wEq4rtOInZf3nFc74xiMmihm/gfP863WkbfmszxCjPoVxuGQMEVFT4S6fxo8+s5ACyE4BNeiaAQdEiA7GvMyCrA9K9D8JyFtBXP8AermpbnZifgNwPikJzUTE05GzXUebLoL9w5FNkIfk8GnFxn6Cqu4yXHPAB7U7hLUnBDA7ui1554jvTea5L825IztXHtxXc304t9NuZegAxz6151HAbq+VSGDTNkH681hWlod2Fha7N/7Ktv4MmkI2PMQcHvwf8an8FS5W4QEZYZx9Kz/E2oCTyrG2P7m3XZn+8f8AIrN0jUJNNuvOjHOMYPQ1ipfvUbcrnTdz01aU9ao6bqA1C1E8a4UcPn1q4Sa9DmPOkLjNLtHrTRk0hJFK5mK1NHSkL5oBOKQD1OHH1p0jfvT9KYuSw+tDgl2PtTAU/MKjB+elWQqMYoRS0me3f2q+YZIe1GaaTliFIJ7fSlz69aTswA0zOMj1pSTSYoshEF+5XT5gvPHNUrPUgunQxgZXPJrQmB+yzKBnch6/SsnRUE+nTQOo3I3PqOazkkacvuifazPrAVMbRVvV18vQrxXOd3I/WoY9HmS5M65Ef8LHvUWrTSLps/mrxtIB7VlUaUQjHY4SBykwI7Gkkm3II+wNNA3MSOOabxnA9O9eQ1Zs9q2praIv+kNxywwteiRwLBaIjZ2hATj1Ncb4athNNbvxuVs49a62eSZJMquVJwc9q7cPPkR52J1Khd7eRvLdmQ9sVDFMxunMMZcnk+1XvIlPKY+b1pIdOkhlZw5Bbr0rWVc44wLO9ifnGDgcUwzMGAFSCFtxLNkmgwjrmp9s7GnKQu0jVF5bE5arOweppdoxisJVGwtYrbQPvUbUqwY1+tJsX0qOZjKwixTwoqUwZ70ww7W6k1XMLlIndU6mmvh1+WiezMo6sPpTorZoxjk/WqUi0rIrMzHt0oZnMTBR81XRbsOoFIYCM460OWgpLQoorJbhpzyOlRG7Ep8sVLdWs8y7RnHaoYtKljO7kn3pxkZco+O0bccdKlW3ZGOanihlUDdUvl+pNHMUolXy6cF+WrBQYpBGccdKlyNOUpFVEhwhL1TuRhgzpjBrVeByPk496qSWczjafmz61pGRk0UWuGdw6dBT/tC4XKUp02eOTy1HynvTGsZVA3Fl9N3FXzCuyVbhi21BtXPNTyy7QtUPLVGPmXCj6c04XkAXDMzbehApBqaDDKqw60pToarpe2+1CXPuMGnNqVqJSv7xueMD/wCtSab2Ki2Wi2FG5C1A8s9UIp0VzFKvyBhj+8pqZo/k3BuD22Gp5Zl3ZXMbN0+7SFG2gKhK+tW1RAQC/OOmDRtyhZ5VjUdCaOWYXZVERVclcUu2klvLaN/LMzue2EJz+lVn1SEZ2xykL1JQj+lLlmKzZc201ot1VBq8B/vf98Gnf2xEvRS30U0ckxpMmERVs08QhutVU1RJThUJJ6cGrUTpJy5Kjp070vZzHyiCEKaH+VcBsVfi095hw6gfWlk0SQkYkQj13dKORiuzLVc9XyKfnIwtXf7KePgPGf8AgVA0t85M8S/jRyMOVszypzz1pDGzg7etaa6XvyBcwl/94UGxSOPd9pjU9DuYVWwchlRwyJnNAjk3Valn0+3bF1qEY4/gOaqPrGjqfkupGP8Aun/CgOTyJCrK2SoOO5qvcSGFiWAGRkc0f2nHcxv9liMoAyTn+lZV3q0dyI/l8uReNpBqxqDNG1Mk9mGHTdzSbjNcLGvKL3qGzcf2POBIN3U47Vc0uH/QTnqx60m7A1YHBMvCEgDqKD1AKECrwhZVAXoB3qNomJy3SsnLUkpGI+YSnpQiS4659quGPPt9KasZX7v51XMLlKwRzkFcf1oETAEEdatojZJPP1p7IW6DB7UcwcpVRAF/1ZoqyYJOOaKOYOU+2KKKK4j2wooooAKKKKACiiigAooooAKKKKACiiigAooooAKKKKACue8Qw6N/Z97e6jFLF9giaZ5LeRopNqruJBUjd0PFbl1bpd2skEpcJIpUmNyjYPoRgj8K8w+OWka/dfDm+fSLqNYbaFpbiQytFL5SjLKNo+YYByCec0AdPpf9rxWi3+iaquvabOA8UdyVWRR6I4Az/wACOfepW16zv7qKDUrW50rULd98DXKYXdgg4dSVIIJHJ7+tfH3gTxx4p8P6zYx6brN2lpHJn7M07GEjuNnT9K+qvDPj/RfGMKadrVtHHdtwI5lDJIcZyp/xAq1F2uQ5K9jlfHnxD8Q2XiSG200tYLb5ySEdJ/fPPHp35Fd34H8eWfivTlErCC/QYlhY43H1X1BrI8T/AAmtdUjeTSLuW3lJysc0jPGPYZzgfSvINW8P6x4U1JI7tHtrhDmKSKQgHH8QIrpjGlUjZbnNKVWnK72PqSivL/BfxXt7i2jsfEjlLpVAW5wNsvrn0PT869Lt7mK6gWaBw8bdGHeuacJQdmdMJxmroloooqCwoorg/HPj668A31nNe6ZJf6ZdMUaW25kiPXlcAY696aTeiE3Yqar8TbvT/Ed9pkWnRStbPtRHk2PJyeQT8uOO5rMm+K+o2l3Pb+LPCdxa2rKAi/K4frn5gSp7d6ofEC78I+KPDv8AwkGm3gS/2YWMZV5O+GA7j1rgPBfxFu57C80LxUH1qwOEXzDmWAHIJVjz6d+1dkKcXG9jllOSdrml4+8L+HPEen/254Ju1t5LRfMudOmYqxXqSu7jgZ4B7cVydsoazj2KBkdCetSfEXw7eacLK/sN1xpUoIjuYM8DuG9OKbZlfsUCnk7Mq3pXTRune5z1rW2Llje3mk38d/pcjQXcQJWVcZ6dCDwRXaeGf2kldWs/FGmMJoSVeeHGHAOM445+lcQpy31xXnPi2BLbX7gREqrYYbfoM0sRBS95l4appynufxF8C+EfHOjv4p8C6pbQ3YRpZrfzComzz91vutn0wK8k8HoUt7hGOfmA/nXP2UcsXlTwMylhjIOMV1fhWIw313GRlHAKn8656ejNKsrxubuzB6cUNHkDA5qZiuBS5XaK7+ZnnlOciK2aVuijJrK1i/ibwpPdxOHSQhRx3z/9at2eET28kI/iQ/yryvUbi6thLprsRCshO2sas2kb4eClPUqDDRjnJzmu98JI39gqccFuK88Q/PgdK9P8IKP+EYh+tYUJNs6cV/DNEJ61Runa3vExxG3Q1r7VrM1mPKRyL0Q12J3Z5slsTsmIWk7Acmqtk4klJHzLzVjzFfSmJPUYrBn1ZNJ06UK379vufn/hTnaJXK5SsiTxbc+RpKwqADK+WH51y0UkEOnTSuf3pwIuelVb3Vbm/m33DFvb0qTTNHu9WmVIELJjlieBXDUk5aI9KEOSPvFICS4cBNzux5HU11GleC55Nk16/lLkHbnOR+FdHovhux0eIuVE15xyRkCtfywGyTyepHSnTg3LmZlVxHKuWJSgsobaAQwLsQdfepVQhcGrW0UbRXbqcLkmVgvtSMme1WtoowKpNJakddCr5QpCmOlW9oo2A1HtEtyuUqKuGGaVhktVlowBSBo1+9R7SI+UriEYo2lOnIPBFSF1zTWkx0GazdZLYOUo3cDiRZ4A37vqgP3hTLS7S5b5W2N6NV9pGKkKvNZ13pwnV5Lb93KvKgcZrP2zbGol/GTzyfUCjZ7VV028kubfa5AlUYb61b3lV+cg0pVZIajqJs9RWJFKmneIHVjtilGScd8VtmYAZFc74hXzJopl+VsgGjnbNLaWNuz1H7VJJAvzRRn0xVTxIoGgz4UD2/On6VCY7Yso5dQc1T8TuYtGwx5kP9KwqtvQdNXdjzvOB6U5FLSAdM8U0jk/SpYObhN3PIrkPVbO28N2gtVjJUlup9q3JZJHyEwVLc1jxXUkOnQCHHMi5PtkVsttJHlg8jk1vGTPPrq7ELNwFOKkIYj79CJjk0hzk4qm7mK0EwU6v1peT/FmgD+9ShDuGOmaL6WE27jcnNHPvQ/ytSh39gKWwbiDOaU8dacSCOHGaiIYH5nGKtahYeVwMluKacDvmoxLv+WmtIqNueXaP7tTyoZYWTnnpSGUZwKrNeQScJuJ+lT/ALox5CnNFrALuz1bFIXCDg5qIRu7ZHSpdoYYHUUgZGJ8sOOPXFJ9oBYhWzTZBJHn5lK+lPjWPH3Fyaa0JHefkYHP4Uhb1qTbsGNopCQ3GMU2gGbh2p4YBPm60mBUbA1Fmy1LuLuJOM0FWA3CmBto561G82FO44FaqLM29Sw2TluMgc81NfaakcVrJdr9o+0IeVcgL+orNW4h2ybJMnb0rodWlt49F0dgCd0Z5/Gqsyk0zmGWG1mS1NojiQ5VgSf1Jq2Le0QqUtQW7jNV7uSP+0bbyyduTkVbV48EAhTzyTT94uwpMOxjHbRJgdWFULnxFb6VBGUgtZ5yfmG2rQUEFQ6Nn1euU17T1TUl2IFDJnEZyWbjNKUpJG1KCb1OnsfGU8umSXUen2m5W6eXU58Ya3Ha+f8AY7DaRnbsU1y0emXVlYRG2lcmdczQH+H0/mavagj2unvGybAMc5oUm1cU1yysjoo/FOvuA50vT8Y/uCg+LteCZOmaYVBxgxrxWdA8jRLycYFTDyvs8jyR5ZOc+tNuxF3fYhv/AB9qmn3qGbTNPDFeAIVxV6PxdrlzarIulaYUmG4ZiUVwGs6idRvC7JtCHaAPaum0y5U6XaJLJ5YCcUk2zWacY3SNeHxNrM+7bo2l/KcH92ODSvr2quCP7K00Eclgg59qoaeZVhlxzmU8/nVLXNUOlxmBE3Syrnd6CkpNOzMoOU3axN/b91qAlltrOyiNvy6jjNPi1LUri3LwWNrImCxIbHT8fauMtIbi5mZYAxYgkgHrWvpOoxW9tPbTSNHKFZkcHjOOlaPmSTZtKm18Jrx65q8sW+OwjC5xkN/9eo7jXNWsY/NurRBGTj75/wAaj8NzS3MDq7E/MT196g8V3EqxRW5+6zbsk+nFTzt7EpPn5WjR0/Xv7SfEKxJMBkKxbBp99rl1Y7PtENr8/wB373Nclpdz9gvFnVfMfBAXtW9puja34t1tYFhHmxJu2OMYX8valzyS1RcoJMnOoanfxt5FhCADy6yEf1qDUNSm+yJBqlukCBsAxsSc+/NTadeRacs9rPJuk8zGfXFc/qk5vr1nDExjkChKUldERu5WNM+GxcGOW1nyrjPz56VFqunWunJGkYWWTOG+Y8VYg10waWYmXDKmFNYSzPLK0jsWJOcE01CXVDjztnXafptrHawyqpjeReQrHFUdZ0u2R0dNwZge/eptEvXuLdoWOSg+U1Hq7MbyJM/cUg/pTWsrGT5kyOzt0t9BnOd7S9/TitexkAs0A9ao2UJl0X8/5VLpMm+3MTfeU0SS2M5OUmarOP72Kj6t1zS+WSAfagRNniue1ybSDbRkDril8l6jMDhic1SsyxxkVQSelODZUMOnrUEkMjoRjFLHDIyiMnAziq5UOxJ5uCctRULxvE21RuHrRRyoLH23RRRXGeqFFFFABRRRQAUUUUAFFFFABRRRQAUUUUAFFFFABRRRQAVl+JdEj8SeF9R0aZ/LS+tngLgZ2blIzjvjNalU9U05NU0+S2kkkhLD5JYm2vG3ZgfUGgD4t1zwFqfgH4gW2maqfMDSb4Z0+7Kh6Eflj8K6v7k+7LJICCCpwSexzXrHxZluY9DttOv9Oa6eMq8eq7flBB6H0PbrXkQkWQEg5XOM55zXo4dJx1POxUuVnpfhD4rXelFLLxFuvLUDC3CNl0+uev516ZeafoPj3QUdhFcwuuYpgAXjJ9D2PtXzTv8AfH0q9pmvanos2/Srx7fcedjYDH3FE8Pd3joFPEaWlqbnivwFqfhZ8zhLm0YnZcIMZHowxwfzq14S+IF/4ej/ALOv1a909uDCzktGvQ7SfbtxXURfEnXdO06FvFGgJdWMyf8AHxGxAcY54IOetMvfBXhrxhaG+8HanBazMM/Z+MFuwwD8n5Gjm05aq07jtrek9ew+9+IOkW9pLd+HdQ1BLoDItrljJGfbBY4/Cn+GPjpp+ot9n1uxktJUO1pomDxn35wRXmXiHQNR8OXDxavbeW5T5GHRx6g1zujI5jmlAyCx+ZT/ADPej2EJL3dhKtUi/ePrnTda07V4El067inRxxsbNWbi2gu4vLuoY5oz/DIgYfka+U7e7mtpFkhlMcqnh04Ip+r/ABD8VaZeWEtrrVziNuUZyVfjuKzlhJLZmscVFnqvxC+GasIr7wtYRRgbvPt4Rtz6FR09ePpXgWhReXrF3AQwcH5wVxg89q9j0r4zaxb2m27tIrt2JbzGcrjPbGDxVSXUPBnjmC41y4kh0LXoQVlhRg5nA5Bx8uc81dPnhpJEz5Zv3WcrB4+u/CliNOlhg1HSrh90ttcIGU9MjByOa9Vt/DHgrx14biuNDjg0u4lGEWIBdrd1KjjFeBeJlR7aMKed2QfxrQ0W4MWnW7Q/u2VtwZfvBh3zVzh1i7MUKi5bS1PQNY+Euv6RaSXEZt7uGPqInYPj1wR/WvH/ABppgeFLlEKsh2uCOfxr0aTxpr7rHG2sXhCqR/rTyK5++UahBNHMd8kmSWY9+uaShPl1MvawUvdPLI5mhjQHkA5HtXRaBrkceuRw5/dsuM+9Ymo2rQb4DjdE5H+8PWs2KXy7jzIxgg5xmsovlep0pc0WexiLYgVsEjqaNmOtU9Gv/t+kwXLffbhhnODV/wAxccjBBxiuxHnyTT1GgbTuHBHevNPGtv8AZ/EMjDkSqrD24FemF1wa898d4bWVwP4Fx7cCs60XynRhvjOWj+8c+lep+FYNnhq3Oeo/pXlyje/pgV6n4acnw1bewA/Suejub4r4LGpsqvew+ZZsgHOKm3e9Pd/lJK8EcV1K6Z58k9Dn47hYrC4il52AsCa4DU7w3l0zZOB0GeldH4m1BLbfbp/rJOcg9BXJbC8mF6msK83fQ9DD0+V80hY1d2G3Oc4r1PwxYNY6DFG3DSEMfoa4bRdOa51CGEDj77HHSvRvtao2FXgDAGelZwkia9Tm0LXl9k6ZpQmFwQMfSqqXG1BhsnvTGuWP8VbOolscPK29S0yD1pvyDq3NVDKx70zdnrU+2Zp7IusygcHNM3iq27HSjefSk6rY1TsWS5H92mmTPU4+lVG+bsR+NNCkcZ4rGUmzTlRdDp/fJ9s0Foj1wfwqoEUc55peKjUfKiz+7prY/wCWePeohg01iOmP1oSfUOVEvmMP7tRGZlfjA+lQlfmzg4+tNKoTk5FaxsmS7IpwyiDWpEVQPM54FaLyhFCnk9azNRXyru3liGMjaT+NX1XKgtyTxmrlqCQm/ceOKyb0C41NEY5VTyDWrImwgg1n2y5vpnZN/PrQmkVZGsJFgRI4+ntWJ4wfdpMRB531sMoKqQMc1heK8nT4VHdjWczSFrnElflB9asWsZwXGAB61HIcKFI6d6sR/vLVlxg4zmuV6HWdHZvnS3IYkgZGT0I5rc0nUEu9LWQjDD5SB3wa5PS76KG0SOVy7s+NoHarNxJLBIJLBggzkLWkZJmdSFzsVnBXDbR9aSRvlG39K5SXWJLvyo0gZZ+jHdx/KuktTiFBKfmCjP1rS6OVq25IkueCKiuJZI/uE57c1I4Ut8ppwx3GT2oujO6KyXUhH7xefeoprqQSBFT5T3q6Y8nJproCOnTpTVhadCu0RPGSDjORUSQMW+aRiPc1eVQy5akIUdBWicQsQQuIXORu/wB7miQRvJ+9RT+FSyIGXDHPvihFjU5xmpugsJGbYfLHHhvpSiba3SnFgWyMY9KQFQclc/jS3EPWcGI4GD7UzeVXcQzDvg0oUBSB3p6Lx9/H4UrMEV38iVCxVhj1qDY03MB27aty22/ky4/Cl8tQoCn9KCrIpbbuTgTkEdsmpoROMiUhvQ1KI9p+WnjcK0vGwWQw7tpzx7+lUZv3ZWS9uZVQthPKOM/XmtLJqlfOwnt1fkGUfQVnez0E0iBpLdoJgb0hoTuPHJHp1rHfV7F5v9fP5bdQT/8AXrX1/SIzr0k8PypLHyB68Vyiw77mRpvuw4BA7itFKRpGEGjbthpkkc0yXUiKg59/1rY0/wAQ6Dfw2theC+leHIjKtgf+hVw981qtyRauxiPUdM0ks0BjhNmjJKhyTnrVXkaxox3O61+ysJtHiv8ARLpoLq3Yq8MjHLc9fyP6VzZ0fWbuPzDKxVuclzWr4K8DHxfqxtBqAtnaMyMSm7pk9Mj0r1GH4R3CwRRDVlIgHynyuv4bvepc7bjtbY8SOhakLz7OWG4jIO41t+H428M3rXet6et8jJiIlslD6jI4r0yT4QXa6j9qXVIWO3bsMWP13VQ1b4N6xqNrHFFqUK7DnOzr+tZymmi1dPU42+8WQXtrcW9hpgjuHxvnYguAM4+bGe5rJ1CW8vUnijMXkxqGJc5J6+1dVP8ABTxHpVtNcC7t3yMYGRmo2+CXihFMhnt85Bxzye1UpLlJaTlczoPtZhUeQiooBLZ/+tWDrOrTteEwO32eNdsixHAz/k13snwl8WXTBlu4Qu3BTBxTofhH4ji0uTTpPsw8w5LDOeuahzTNoxilqeQLmSXCctI3GfevQ7b4eaxbadBe3ZjnV4wY4cn5c4PpV2D4Ja9plxHeSyROkcgJQKeRmvWbqw1WfTFjtbOIy7EVVz90bfpXm4ytWgkqSub01TfxM8Ze01TQJntNUhj3KhlR0PyuOOvHXmuSuL9NWa4aeHMzcx8/dHoK9j1DwN411Kza3c2csQyUBU5H41qXvw3guvD6RWWnWsGqeXhplwQDj0xXZRm5Q5p7mM6cFL3TwPSZpre6eSxAGVMeX9xg/wA6SXRrqX5oYmkbBZ69NT4J6zbWc0txeW6qnziIL39etdPo3w91K1skjkuoHZ0P7zbjGfbNdEq3MkmNQ967eh4VoU9xb6ukcYJLEgoTx09Kt+JpbgXKQ3MUakZK7a9Wg+BV0LqZ31mJZZWLKyw/dHX+9Va6+CNvDP5uoeJfq/kdf/H+KmErMmaipXPGYWZZl2Eq27HBr3XRrm40XxpH594I5bnTgYmWPk+36iq1t8EdKeVJV8QswJ3D9xnP/j9ejweF7d/Ev9secs13FEIoWA+WNfTH5flWk5prUznaT0PFtY+GGvT6xJJpUS3EU3zF3GNpP54rMtvhb4onvXsoreEvGNz/ADHp+VfSn2WV/kaRgjY3D/69YscaQ6zrdir7ZHsi6uvBX5W/wrBVpLRBa254qnwg8VBSZYrXBGBvcnH6UkfwV8QHImu7KFj/ANNG/wAKqX8t0kjx/bbpmeQrkynj5vSoYrS5aYvczT/u+u5jzXTGNSSu2cyrcjsdRYfCPWtLs5Jo9QsnZRkhSTj9KyNV8Da4jm7ZoJkxvLRE9Pyrrvh/CzyaxZs+TJZl03c55Xt+NYPhmWSDWDFKzrG0TK6l+OopRUuYbd9Wc7o8qrpJDHe2ThR34pNHTMsz4qW90280XTYhcxCGW5PmxBeflqXSoTHbsWPL+3Sqd7u5Nn0Lyn5RS7qZtxwDnFGPU4rC9haj959TTSpzkE0hH905pBJjgipix6EnmZGPSkz+FRbhn0pfMUdau4WFLbff60UhkU9BRRcLH2lRRRXMemFFFFABRRRQAUUUUAFFFFABRRRQAUUUUAFFFFABRRRQAUUV5j4v1Dx54b8UWk+mXcV7oE2PO86BS8LZ6ZXHGMY4ppNuwm7K56JqOn2urafNZX0aywSrtdTzXzv4z8E3XhnXpI1EktpKcwSgYBHXafcf0rsh441pNUa8Z48lNgjKEJ+Iz15rqRqdp458NS2UzJb6gBlUPXIOcrn2rrpqdF36HHOVOurdTwM2Mo6xv/3zT/sEu0/uicDnIrrZoDDM8cyt5kblXGO4OKNg7gV6Bx8vKangfx2ui6b/AGJ4gtmudP24ifyyzKO4I7jpW43w98N+MLH+1vDEj6bNyFUJ8qnrynBBrjjGp4Awx6EVsaD4lvvD7k221oXI3xuvH1rnnRbblDRm8KqSSnqih4tsvGGj6BNp2vQLqmnYys5Qvs/EYC9O+a800e3lkhkMOSm/gDmvqHw54us9fsHN4YbaVX2mKRgNwwOQD9aj1HwDomoPJc2cYtJ5eWkhxhz7j/CsY13B2mjeVJTV4s+dhZTMpzG/B/umsLxPH5cdqWGPn717Pq3hO90wSzW6LdW8TYaSAhsH3HOK8u+IjDZYdD84JGMdq7vaRktDi9m4rUswWTvbxuFZeM4xXOxW4TxV5TRMGIGeOTzXo9sR9jh+Qf6tf5Vx18SvxDiICgMwGPxqSobmd4kgZIIiylFJx8wxV7RbWR9KhZEZlyeQOKv+PVH9ixYAUiTr+IrQ8IlR4Xh3Mp+c1nLcUdmZwibHMT5/3ad9mYrxC24jqR0rqRtP8BH4U8JH1IBA9eKu9kLk1ueT+MNHZXS+jiKhR+84/WuHvIPIuAycqwzkdK+gdVhtrzSrqCZowGQgDNeMwWqTxmC6G1lBXIrnqcq1Oyi76Gp4D1AKH0+VG3SnKE12wglC4eNm54IFed+GZf7H8Q2F1jzUVsMp+or0q68SxrJtt4x0ycinSnzGVWGpCbd9p/cv/wB8muE8b2oGppv+VvLHB+ldpL4guZQdgUcelcX4see5vYpZMZCf0pTqX0HSjaSZx8QAPXtXpfhiUR+HYN3p0rzq2gJdt/YZruPDVyq6JGJexIFc8ZcrNavvG692o6LVW61MWWny3EmCqA4BPU01pi/+qX865XxbdSCRLVnAUDLhavnkY+z95HO31093dvO+PnOR7UttiJWkKsWPCnHFRW0H2iYRg9e9bNjYtJcx2uMjdyf1qG7s65aKx0Hh63NtYrOTiRu59K1xMhznGfrQkNvHshLgIqjoe9N8sFmAxtzwfamlY45K7FWZWzzjHvSbssMGojbgk+WT706K3cd6oXKTbx60vmKVwGGfTNM8lvSlWN1PCD607xHySBWYMeD+VO3t6GpUjlPJxUyhx1UGodr6FKnJoq7vajOau+U79FApv2STf2pD9myn5fPWl2gd6tNaSbugNKLJv4l/WkHspFNT1pDnPNXfs6LTXjjLDIz+NMPZSKofHBU0HYfvDH1qw8cS8hT+dAaEfehJoE6b6mfeRiS0YKMlRuXFPs5PPgU/xAYIqw0iCX92nyngg9qpJ+41LAU7W5rToCWtieYfI2ewqnphz5uR1PBq9dyKsL7YiSRVDS2Pzhl6VJXKaAXCDdxz3rmfFzH7PAqcnceBXTtLGzAHOcdK57xZmRrZFUDuTWc5DhH3jlDt2/OOatQQg2rSD+6akxGbtVC5HenywsGwnCDiuRu51tWsN0HYkuXAbkmreoHfCWRRktxj61Shhkt5GZQQqjmrMOZpYEf7rNk1dMVTY3tJto0tEuJeWPGwjpWm5A5VDz2qOxClpEbAiVeDVhVUd8jtW5wSjJkO72x9aUNzmrPmRL95aQmFlOTtHc+lA1TsiHzKC/A4p2IU/wBXLn60uVI6gmmhSg7aEBdvMwFOMdacDnrUgXB5o+WqI5JEDOPWhRuFWNu9PuqDTI1kSM7wMZoNOUj24pdp9D+VS7YSuSxzUgWHb940r2HyXK/IHIo5xk8Va8lWYYb5frTJI1HAOR2ovcXs+xXPI60g+Xoc1MsQYEetPW0X+9TF7ORBuP8AdNKJMfeGPrUptyCQGpDAB945oD2UiB5D2FUNRkKiE/ebeMAd61DF6Vnax5du1pksCX/hGfWgHBpale41tVuJlu4mRlU7QwxnmudtYJb3UGkETrEWG8lTgVs6zavc3TSfNsVerrg9qrwSpZ6WZIH8yWaXaE9etaxNIR0Me9tNtywUDZ7dqVYJHtmSC3d2XlmRScVYvZmlupVmj8uZTyAOK3dB1XStJkQzpcLLIPnB5BH5VY+ZrQ1Pg5q9joPi95dYuktFaFlDTEKPunua9yt/GPhtyRHrlm3fiZT/AFr54FhpnibxvBbWU0v2edg00jkKYwByBwOwrr/EXw/0DwykWq6fqctxGxCpEo3Fj0J4HrmuWpFN7lX6nsCeINBlY7NYs2YdR5y5H61KutaS65Gp2e3181cfzr5jvpduoSywW9wY24yY2FRX1+Z9PWGG3uIiuAThuaPYxtuS5Nn01qGqaUdPkCalZvkg7VmUk/rTtSOn3umtCurWsTudyyeaoA/WvkhxOODNMFH3iSRirL3s93HFFtuIgi8HJw1LkS6msY3PrOzOnwQIjX9uxUfMxlXn9aGmsTciT7fagdv3q8/rXzw23UfBBnjZkuUbYVEhUkcev1rkbozQahGDJMYgBn94T29qOUv2a7n1pql5anTXAu7fdkYXzRk8j3qobZTqsd8mrW6RLGv7sSrz8o96+Ubk3kjNLHJL5fYeYeKSzmummHny3AQDs5pOncFBJ7n1+2oaed0YvrWMsv3vOXA/WqljdaZZxmOTU7Nmznf568/rXyRNPdSyn7Obkr9TSyx3wCf8fB4/2jVKN48tyZQTe59b32s6UumXQXU7Ev5bY/fKT0+tFnrujpplu0mrWAyuCTMvHP1r5FWG+O4lLjA68NirFhHOJ43ntrqWIPllUNgil7FdyoxT0ufWLeKvC8beXJr1huUEEpcITz+PvXJ3CaZbXU9xY+LLb7NOS7RTFSM54wdwrlfCJ0DU1dLXQ5baSMZZrhj8354rpJbazkgkT7NEmcYHWovYxqJN7li2vIGcfaPFETwleI4kGB+O41e0HUfDXhyxlt4dSuJzK24mQc5/yaltbbRkt0R2iUhRkbT6VOZNAjH3txH92Jj/AEqHO44xUXoXf+Ey0SbapnkyDkkDismwvYdU+JFw9tuMUloIySP97/GpW1TQs8eZnuBA3P6Vl6fr+k2vjySQPOo8lcKIW9W9qqK1uOW55d4jgNvrN+qDLw3Pyr+Rp+oarcamLeZ4liaJFQqnfjGTXo+r+F/CWr6lNqF0+qfv2BZYoWx6f3DVq2+HHh1rAxWdnqDxy8h5HCkfmorrWISVjndK7ucP8Ottt8QgJJty3VrIME/d5WshY3u9ae3htLmaP7S6vJEhI2g88gV6vpvw60bQr2O/sF23EalQbm5Q9evAx6VXj0HVrCHYNf0uzhMpfiPJGffdUwrK5Uo6HkH9j6sHaGbT7+SKI4jkkhbCr9cVaQbIUXGDnGK9VuNRh0/TWuNW8SyX1mykE29twOPXaa82vtNtILphpUzz2UnzLK3UH8qJVk2NxdtCoM89+aC2Oo/CnraMo2KSQvBPr3p/2UjkmpbTRk4SuQhs9Dig/nUi2u5uWxUcsBDbUboaziP2bEyB96jKHgCpfsxCjBBPfNAgfPGK0DkkiIOq8FTRUrWsxOeKKA5GfZ9FFFcx6QUUUUAFFFFABRRRQBxHhXxNrsF5NpXjy3jtbtTmC5jA8qdSAeo4BHI7dK7ZWV1DIQynoQc5qvf6da6lbNBewrKjDHI5H0PauB1mfV/htbPqFv8AaNT0WI/NADvkjU+meetW7S1I1iej0Vzng7x3oXjnSlvdCut/ygyQSDEkRPZh/hkV0dQWFFFFABRRRQAUUUUAFNkiSVdsqB1znBGadRQBxnjjwhFqNg99YJ5d1ENzBP8Aloo6jH0rymDzrSYT2928UgJxg8r2r6IYBlIYZBGCK8X8YaE2j69PlB5Nw3mRMDxz1H867MPUtozjr0r+9E555ZHkeSS6ZnkOWJA5P5Uixqes5piz2b3bWolR51GSinJH+c1Y8tEPSvQTuro43dOzIvLHP784FMOxm4mbPQ1Y8lew4NNNtGDkJUvUnYrahOIbOaRJ23BMAjirHgXxnrmlWsmdQeW3VyfJnO/9TyKrapah9NlS3TMrDiqGh280UDR3kO0k5yoFS4xe6KjNrZnWX3iqW8nuniuPskN1jzoo8kMeOec46dq868cPF5ttEG3rkYY11zW8TbgqAk+1cZ4/jC3llEo2rkZ/KhRS2G5XOuhaIWkP78cRLn8q5DWIB/wnNrMkvy7xnB967EWEK24/d5/dLjn2rm9dtYo/ElntUr82T+YoYQ+IPHCi501FtjkiQZH4io9J1C4svD8UcUajDHrWh4stEg0pJIjht4/pT/DljDdaDGZVDEuetZK7kaqyiZ0niG7YYMhH0WqzatcS8NcN+HFdb/Y1n0aBKadC088/Zxn6mtJRb0JT0ONmuWKHzZGb6muYliMd9nPXkgV6x/YGntw9uMfU1574ns1sdfuBCMRodoA+prnqqyNaT1MOAxxSbz95GzgdTXRxXokhUqo57Ec1zUkaZYo/7wjnHc16T4f0bTr3Qre5dGLsMMRWNK72NqzVjnfOfB2gD8KwPEpKQxSOu8sdvB6V6kfD1j2Rq5P4gaDb2ejW0tsdr+cAefrXRKOhzwnrY85hwk2GJGeNp7V1Xh6Fhp6/vBjfwOOlco6MLhsno3U16b4F0O0v/DjTOzGQORjNZRhzysbSdncqB0AIbHynk57V55qlyZr64YNuDHjNet+JNEs9N8OXc6uRJjC89Tg143Om6YLH1PUmqnHk0HCzdy5pUQKMzAq2flaup0Sydo2nbkNxmsOxtpbhrW0t/mdpADt+v+FetW3hO1htY4RK6kICwB71nCk5SuFSaTOWisU3cj/x6rAtwpOBj8a6P/hFIA2fPf8AOnN4YgK489/zrd0WY8y3Oc8tQDk5zQgUd63v+ERhJ4uH/M0reEYSOLhvzNL2LHzxMTj1pC6AYbJ+lbH/AAiCf8/LfmaP+ETQcfan/On7EPboxhNCOAh/M0G6Vei/rWwfCkQxi5bJ9c1Dc+GYLa3aa4u/LQHGSTR7EPbozftTPgo2Bj9aYLqTjMnPfNNntNNt7mGCLUDK0x4KBsD65FbB8JLu4ujgn3o9iP25lrcsW+aTFOMwPWb+daR8I4+7d5P0P+FL/wAIg+M/ax+v+FHsR+2MhrnJwr/pSF1ONz8/jWyPCDgcXSn/AD9KQeEJGzuuR7f5xU+wYvbmN5kfXf8Azo85P736Gtr/AIQ5hyLkf5/Ck/4RJ/8An4FP2ViXWuYbkNyDnv0qtdyNujY8FTxxXSf8Ig4ORfY9sdP0qnq/hyWz09rg3AlEfJH+RRyMXtEZchK2wfzMlu3pTLQ4LbAMdzirOpadJZ6bbXaup89eEB57j6Voaf4XuLjTY7hLlV3joR/9ajkHzmWJBuJ4I9cVzmvTmTUIFVuinIx9K74+DpimTdqH7j/IrhvENhLZa1NDLIGKDjFY1YcsWy6Uk5mKqfZpg5fcc9Pap5DJNkqdqFhgYpZ7XH7xgQpWmxLI6FVZcKOa4EdstzeXT1/sxmkIYuvFZdtCY7hGPIQn5a1bfe+mht2Sg6evNRafp0l5Dd3gI8uE4b1HT/GtqcW3oROSS1LenkssmdwyeMVcDAdD+lW9I8OyXtilzFLsQjGCeau/8Ild9rlcf59q7Y09DilMyC+epH5UmVHPH61sHwldj/l5X/P4Un/CJ3f/AD8L/n8KpUboj2hkbg3TH5UBRnNa/wDwid4Olwv+fwpD4TvT/wAt1/OlKlYamZhZdvzZFJuj9TWmPCV8D/rlb8TR/wAInff31/Oo9myudGV+7/vNS5U8byR71o/8IlqGM+Yn503/AIRi+Qcsp/GtOQXtUZjkrxGQfY1KG/d7mKADqKsyeGb5hlXVffNQHw3qqnAlRl9P8ij2YvaXGrPGE4yRQHUjhiR79qJ/DWqPFiORFP1oj0LUoowshRiO4NL2Y41LMNwA4NEch3ctS/2TfL1AP40x9NvI2BKj86Xs2a+3RO0gHao/M3deKje2ulHaozb3WMkcU/Zsj26LisuOtZesSIs9oXVnVZMlgPrU4jnweKpaiZIpLRndVRmwc/jR7PUTqpom1jXLOeGQ2OXfbsZWXGCKxbNGurG2+zJmSCYtJu4zUE8Mb6hdMZNgySCvQ81o6A7GBspvJYkY7+9ZyfKzsw8VUi2uhnXyzs95O0YHnNwXwCvX/GpLiWG5uYykigxRA5x161JcOy2Ukd8CzEn5vSsyWG3b5rd2UhcAHqaqL1uc8rJtM7v4XWVjq3jxvO6LCQAAQD8pr2TxJdWOgeGpbuS0iKW+I4VZd3JP+JNcJ8L9Jt9N1qCGONZJjaGaWUc5J3AKPyFP+MPiAQJDpiyEBF8yQY4yf68isai5p6ELYwtL+I+oX/ieDTJtPsGhllw2YVBAwe9X/FfjyDw54nn0oaFYzxxt8rGPqPzrzTwqwXxFZXDhiWuhh/XrW58Wl2/ES4C/L82elbRpqLVy1FF/WvFT3uqy6WdLsktpWVmKRjcg54BrX1bxYugeIIdIh0WxljYqsbsnzAE49a4rWp4rTWVS3OZpgmWI+71qbxvM/wDwnTShvmXy1XP+8aJwhzDTaR6Bpfi7TdT8SRaV/YFum5wu5QdoJ/GqPibxVD4e1a5s4/D9hII2A3Muc5A9/esrw1CLbxRbs2757qP8Pu1Q+J0YXxvfqo4xGQM/7K1p7OPOkZRq3R0cfjC2eOyV/DlgounWNiB0zzn73tXS6vq+haLqU1nNoVs0cO0lgnqPrXk0MjHVNKjjyds0ZI7dK7j4gLnxNdBgPmEecHA6CpdOPMTztq4+TxYqamYLPw1YeQ023ey845/2q29f1iy8Py3In0e1kWMb1ATp7fpXDX92yah5SwruDqxIP1roPic2y8lGCokhJA96JU4KWgc2hV1jxbfy2h/s/StPitryAja0Y3gHIJGT6VbufE58L6bbW9ro1rOn2cSOZFGQSTnvzXK6lN/xLdP3IeLZsgDuM85qbxnIzWdm67mDWignOMfMaSpx5yVJo3b7xhriRpc2MNhBHJEHKeUM1ta74q1LStJ0y9ghtJPtFqrygx/xYGa4TUXVbG1LEkfZR83YVveKXP8AwhOgyM2N1sFBIyCMVLpxuXzqwt/458RzaXZ31jLZwi4iyy+ShycD1FdBf+KNQsvh3p2tQ/ZmupyRIfLXDHA/DvXAT+WnhPStvzbYyrDb1OBXSamyn4I6Om0cSNnj/ZWrdGF1oZqo+hXTxt4k1DwodQjurS1uUuREALdTkcccgjvUPhzxFrd5Hrep3V7B/aFvEEjbyEAH4bcdzWPpLA/DibgORegg9x92pvDPGma/zu/chiGHTFW6MHsX7SV9Tq/hd8QtR1LxFPp3iW7jnjlysLeSqhWHP8IHpXsV5bh7FiUZvLUny1bG78q+UtCnls7hp7fh45PMU47jmvpfwX4jj8SeGLTUE/1q/upVz0IyDn8q5qlFQ1NFWV7HD3PiySbzY7exSBonKEyMSwwcdzXOX9zJqEcjX96wU9ETjj8BXR/EDRDpmuG8j+S3umJYg8etcJeEy3EaW8jNg7SFXORW2Gp0pLUxqym3oehfC+GzvtHuvDN4A6yDMbSDOCRjrVDTdItn0/WdIltWTUrAEpE+RkYzkdj3pvh3Ttbs9Qin02ymJ3AlmAHFej6vp0S6lHqkUQF28flysDy2c9fzrmrxipWidFFya948IeSWLKt1U4bimLK8nSrHieJ9M8R3NrLKJCx3ggYHPYVkNemEDB69gM04RCVSz2L5Rj1phQqTgc1VW9lbG3n8KVruboqMx74Fa8ge2JyJXYeg96UJICSfw5rMfXbeFzHcSFH9AKlTU4Jod8UxYD260+QTnpzGgJJBwXNFUln3qGBoo5Be0R9t0UUVxHcFFFFABRRRQAUUUUAFNkjSaJo5kV0YYZWGQR7isjw54jtte0xbhWWOUEh4t3K88fpitmm007MSaaujwjx18JtY8K66vi34RhbOddzXVjG5VXB5wq9Cv+zwOmK7X4dfFaw8Y6LbNqK/2fqLYjkikwFaTuF//UK9Cry74tfCoeK/D88vhxYrXU1YzbVXaJm98d/ekM9RpFdWJCnJU4PtXyV4A+OniDwLfS6T4wjuNStllCyCeY+dbDvjIORjtx9a+ntMutK8T2dprek3ImiYBo5oHxuH91sdfoaANiisXXPFWneHmP8AaheJPL8wPjg+314q3out6f4h0uPUNJuUuLeToyEHB7g+9Owrl+iiikMyNS8QQ6PeeXqCskLR7o5QMjI6g/pTtD8RWOv2vnWT4IOGjbG5a05Yo5ozHMiujDBVhkGvlX47x6v4I8b2v/CP6hcWlvPbiaH7O5RkbcwZcg9PlB/GqSTTJd0z6srlviD4PPjPwvNY21z9jvRhre5BI2HPIOOxGR+NfPngj9onxZa3UNprFlFrcGAuEYpMP9onnP5V9MeH9ftfEWlRXtpuTeMtE/3oz6EUWaVwunofPekfDDWvAk0t1qj/AGi5mUq06MXUjPqee1aLHEa9Tx3r6EmhjnhaKZFdGGGVhkGvM9Y+G16t5czaZJAbdiWWMkhlGfujiu6hiIpcsjjr0ZN80ThRI38NKZJMUrBkkZWUqV4IJyR9aQscV1pLocbv1G8nkuVNL856Nmk3Gl8wiiwhpkZOduCOprm/EGgnXb6Ofziuw5xzXTb8/eqNinpRYLCwySeWgPdAK53xFLnX7InqR/UVvtcwp0Wub1jTptR160voZvJjhwCPXmk43KTs7mh4tBfRFP8Atf4U7wnkeHEPo5qHxEsmqaZ9mtG8lsjJ9as6BCdN0pbS4bzJCc5qVGzKctLGyG4prOw+7TfMNHm4+8K0vqRewvmP3rhPGEYGpXGRy6bq7rzgOQOa4/xghN0kp/jiK/yrmxGqNqOrPO2Z0td0a5lzjNet+Ei48K2mFx1J+tcDDHC0KuwyTkV6F4WZP+EdiPbeRj8q58LpKzOmvH3bmpufvXLfEMFvDccn92cfyNdSXQnpXMeO/m0OOLsZh/I12z2ZxRV5JnlV3JH5yDHLHmvT/hwxi8Oylf8AnsR/OuAksoWmQnqoxXo3gVQmjSxdVWX/ABrno7nXWV4mb8Tr1oLTTrQsR5hLuAevSvL7lPmD52n0rtfG9y2q+J5hLylsNo/M/wCFc7eWJaeNmOQF/WuarJupYunG0Lm/8NrSWfxFHOUBjgVmJI/2SK9WDA4K8sSQSe3OawfB+mrpnhyJ4xh7hizD9P6V0KtmTPoK7qcbK5yVHziYNGD605mpFIXk9633M3tYacijLU/eD0pd1BNmMwaXeV42Z96duoDZOKgBnmAkbkwPpUV1DDcx+TcxeZC3IBFTl9pxSg5oAzotK02OZWXT4Uki6FUFXmkLqzSjaMHBxT2amnLrtzweKBrQ5LxD4rv/AA9ryw+Wktr5PmHgZ7/4Vu6Tqia3pcWoW42rIcFDXH/EqENe2snOPJZePx/xrnvB9zeL4i0+A3DxwBj+6yeetZ81pWOmMFKNz2DaynrT0OVNRMd1x7VKcKeK3OUaz4ajzPanZ3cU0uynHakxpjDJ8xwmTVXUoJL/AEue0JEayjaW9Ku0jDNLQLnNatoLXWkWtqt5h7UYDc/Nyf8AGtPSppbLTYrOUbto+9WhtzTPJFArgLne+0DIbvXk3jXN14mvGSQr5Y2/jn/61el61q0Ph7S2vZ4/OXdgIOxwa8muL77XJc3Tx7pJ33lfY5NcmKl7tjpw0byuUBFqSxjZcK646Mc1YsYGj3Bzy1Wre0DQqwfB9KghL+Y/z/P615l7JHp2vIv29wYLWZe4ziux8PaZJbfD+5kIBkuiXfPpu/8ArCuKso1u7qC1b5jLIAfzr1i4s0TRZLaI7UhgCjH0zXfhoaNnHipW2KHhEsNGVSc4J+X8a3uO6HPeuY8ESLJZ3MZkGVJwO/Wum6f/AF67ForHA9Rwbb91cfWguSOlIGC/eo3p2FNE2G8/3D+dG8jjYafuo3VSQxm/PVWFLu/3qVmpu6nZDDd8v8X51Go3f3qk3UZPbpRYZAyruwd2PrTGj/ubvzqzhc+9LtFFiWVTCuOcfnUTQKf/AKxq8FGDUJXk4p2QIptbjtnP1qL7Ksmd+eKu7fmp22noVczvscZ+6PzqGSyDcPgAdK1DHzTHiyppaEsyhp0eD81c54qgtba3tRdRMIi/LD15rqL92jjuFz80UYYD1ryvW/EWoXF08N3JvizxE38NZuSN6dJt8yLMVpAdJuJ4gskfnlSW6hcnH8quabNZ2ADwSjZyM+ntXIR3jq3TKZyF7VtWviJI0EZ0mCT3bH+FclSPO9Dvo89Jtjta1FZ2VY2B3HnijQ9Nk1bXbKzgCvLPKEIPAAyKlm8QWjJ+80WAfTH+FVpNehXY1rY/ZZ4zlZopMH9BQqc0rGMk5O5754c0NfC3iW4jjlaZlhEjgHO07en6V5l8QobvVNSkuXtZ3Msuc4zhegrmbXxnrOlym6gvLrzJBgl5Sc1dX4q+JUQKl4SAc/MSaUYSvsQoTWxW0yxvIdWsIGtZlSO4DEiP611HxP0a61L4grNa2s0kMiLuYDpwKxU+L3ihWDfaV4/2a0dO+LPiC5vVWa4SNWGWJHBppVOe5S5lujM8TRD/AISGUtbsotolCnZ1PP8AhUHjPM/jaAkME2plgP8AaNad18W9YuoJ7SaO22SZUyCMZ9qSy+KVzaWyW82mWFyyDiWSIZ/kapqo3cFddDoNNkiGvWXlMW3ypglfcVlfFVYh40umEgEu2Ljb7LSr8a7xMA6LYgj7rIAMf+O0SfGNrly974e06eUj5pJFUk+n8PpWnPPm5iFSa6DNMk003FjmaNpd65GzvXReO5YZteud5Ufu4yCB1+UVzyfFq3XaY/C+mrIPusqKCp/75q0nxqmlm/0nw/YyMRtD4H/xNRKc07i9jpYq3tzZxal804RiiHBU11XxIj85S4DODBlQgz61i6z8TorPZu8Oac88gyRJEpK/jtqI/HC/VtsmmwKqjCgAcfpSVScpXQnS00I7mS0tdPtItRldWNs21CmeTnFM8UhGs7IBXctbfKqjr8zVBc/GK+vVcS6VYMSCAzxgkfpVaz+Luq6fF5UNtayrnOXjHy/SqvU5rk+xkWL+4tY7W2S7laP/AEUDythPOa6vWoIrjwHo5jjkfEA2Lt6cVxrfF/V5JGaXT9OduzSW4JFKPjJ4pCKEkgjT+ECPAH0p2qN3NfZNI1oYjD4V0lL23kEu48be2K3FsbzU/hPYWlrbSSXAmOFIxxgVxw+Lvih2/wCPqFvcp0of4neJpkLf20ISP4YyR/WqbqXuY+x11On0Pw/qNn4Nms7vTGEkk+5enHSoNI0O8tG1O1a2cS3VrwpPX73+FcRN8QvFN3coG1i5yx2hvMbkfnVHVvFuu3d9vudUujJGoUMJWGf196idSTVjSNBXudlpfhTVrXzBc2YhBbgs45rsPAN4/hG9aLUpYYrK5Ztyhs7TnNeFy6zqU/zz3tw+e7Sk1UknkkbLyu/+8al80o2ZUcPaV7n1n4h1fwdrNlHZarqETorblx1x/k1QTxV8N/D6r9nt4HUDAcRqWzXywx3HNIBnrUexcVodHKfVEnxr8LR8rdSBB0WJAP61jX/x28MvbyRR2d05bKrLsXg/99V847RTc1n7NjUT1DxN8R9D11bctp0vnRHBcKoLDPsa5GbxOyySfYbZVjJ43qCaxLOSOG6ikniEsauCyZwWFdTD4w0+zDC08N2hVnDKZcMen+7WiVkJxXYxItT1W4nPkNNubsgoudU1eCTyrmaaN/QnFbsvxI1UKyabbWljuOcwRBWH4jFc3qGoXWrajJdahI01xIcsWOSaEr7MSS6oZBHNfXPlD5pXP3m5rurTRFsbdIZEU55Le9S+GNCXTbFZ7hd804GePuD/ACa2TblJGYx7wgwK6oRtHU4q9Tm91GP/AGVMOY3XaelFbSLtXjavtRV2ObU+uqKKK8Y90KKKKACiiigAooooA5bxb4Ltteh+0WwWG+jwUfHDY7GuW0vx1qnh6Y6brtqZVtxg9Q6qO+e4/CvUqxfEfhiy8R2ZjuAY5V+5MmNynGPyrWM1a0jGUHe8C3omt6f4i0mHUtIuUuLaYcOhzgjgg+hB4Iq/XyuvjDxh8DvF02l6jaLNoc9y7oGiO2VSxO5GzgHnJHPWvpPw94l0rxTpMWo6HeRXVvIoOUbJU+hHUH2NZtWZqmY3jL4Z+GvG1nMuqafCt3IhCXiRjzYyRwc98V4hpWjeL/gv4qGlQXMkuk3p3JOqHynY5HPowwOM+lfTtcl478K3niW3tXtLxoxaOZDbbRtm/HqDRHfUJbaEPhnxNZeKtMfTNdWA3gBEkL9JB2IB9q8d+IU8Hwj+IFnd+A72OD7VGz3lgXDRk8dQMEZ60zxZJeaBoV+JIpLe6gUhdwKtyf8A69eJpf7T5k8jTSTHLl8s1a14qNuUyoScr8x9afD344aF4ydbDUDHpeqBeYpZMJIe+0nHXqB1r1Cvz2ur6JJQbeRlYchhww/GvWPhh8cfGNlNHpV1brrdjGuAzqRLGB0+YHGPqDWSTbsjZ2Suz6xrzn4xfDE/EjQbeO1uUtr2yZpIWaPcHyPunkY6Vftvibpkt1Gs8bwRFfndudp9MCt/TfE+mX2nrcve20WTgq8oGD+Jq3TnHVohVIN2TPnDw14OTwf5kTq39oglZXb+H2H4fzrorPUbnSr2O6sZzHPn5mHf613fj/w+bpxrml/6RE6gSiEbs443ce2K4ElDnagz3Ga9KnKM4LQ86tzqbPQdI+JzqFj1u1AGP9dFnB/DmumPjnQTZvcJfRtsXcY8/MfwrxlQqjGCc+p6UjYBBVRu6Z9qzlh4N3RUcRNKzNnxfrtnrGtC606IqpQBiwxuNYglz1FDE8AjPvThyORXRFKMbGMm27sQnK/L1pqZJ/efpTwMN7UrYJ5qiSNiQ3AG36U0nPYVIxAHtSYBpgQfu2XlaiIjZtuzirgAA6U0qMdBmgCm8JB3AZFSwsVQrsHPfHNThMDsfbNGSOw/OpYDPtEfQdRxzT0fPYGgyJtz5Q+uab9pVOQn5DNIBzyhP4DXNeMcm0tWYY2sQx/KtyTVDz+53KOuQRWF4ke61zTxZwwiFN+7zM80pxuhwdmcxZIsMLxsMsr9DXWeD5s2c8AH3JMgH6CuUS1n0+8eC6+aTAJPrW54UvmXXJLfaPm5rzU+SrY9CTUqZ2DugLAg8dK5bxw4FnbRHq7bh+tdXwc+YMHPauR8eqEgtJWz8rbRgexruqv3TipK8jg5NgbY2evODXd+Ap1/s67K54O5s9utcTIF3AkHk56V0ng+VotB11kxmNeOfrXLSlqd9SN4nP30/wBo1G7mb70j546d6Ww0+S5urZBkhpAWz9aqRYltY3B+Y8tmup8KL9s1+HaPkRcn2rH4qgS92md/bny7eNFAARcYpQQo/HNSIU2kHg5ppQE+1enHRHl31I/Ny3PSlYq3XP51L5Ue3rzSeUvrVoNRiFR0qTHGe1NMajpTgeMHoetMZGz7ee1Ks0Q5Vxk9qVkVuO1IIol6R5981IDN4d+al8zYvFIwBAwMc0jICKAASK4+9t+tR7hvX94Dz2qYRRqOm6gRx5HyYIPTNNLUTOQ8doJdKt3d1XbLjI9yK5PQAF8V2DbtxDYz+ddz43ijPh1NyZxKD19xXE6eEi8R2TopUNIoFctTSeh20v4Z6uWzJk0juAR8wH1qUoNvvUZjVuozXWcIwTKpyWGBTmuo3HVf++qQxR90o8pB0jX8aTGhVcbRjpSmVR944pAoPAGPYUhRG4YZpagL56f3xTGuFXuD+NBgiI+7SLawL1Rj+NAinqwgvtDvILiMMjR5H1ryqCylFpCWHJXHA7V67fJEul3GBtAXvXAKFjEGQSCm0cVxYrY7cKne5kiHy8Lgn6U5rXaxiKjnqcc1pzL5UgdF3ZOOaeiZhlnlGDjjFeetT0PMd4S00NrkdwUylvk/jiu6uWkmhkVcLuGCR6GsfwjaKNNnmlBHmEgEH6VvxW8S8nPIxXr4aPunmV5XepmaTplrpKP5P3pDlmPWtUS7gCGB9cmkMcYb7mRSrbwHJ2tz710WOcbJcoMBSC3fmneamzqNx6VCtlCJCRuAPWnLaRox+YsKkBwkG7BIz9acXVThnUGmrZwFt21s/WnNaRE5wfzpoBDIvZg340nmD0/WkNpF2zSfZI/VvzqgH709P1o3rnofzpPscXq350fZo14G786AFaYbcBe/rSGVQwB4/Gj7PH7/AJ0yWxhkcHLD8aAHlh6gfjTQRztZSfTNBtYyuCp+uarS6ZbuwO6RT7GgCz93mTC/8CpqyqwOCPzquukQFgZJJGx71MtnEqlApx65oAd5gEO4spPsaR2Hlhgy9R3qKOwhRWX5iSfWo5dJtpmTe7rtOcA1EtEC31OH8Qaw48UXdurgrsXGz1wK4rXYZ4dSDXLZMq7ga6DWLiztvEl2kWGZeCc57Vrz+EYdU0+2ut7b2jB57VxpOTZ3c8aaVzzNiegPHtSxvsbIAP1ruLjwT5HzRhpVxVQ+DJJBvCMvtWqptaj9vCxzP2wkYYL+AoEwbjZkAZwK6E+EpVOAhP41LF4Tmgm34JJGMVfvE+1pHLLLliWGeOB6VGHxyK7u08Dxu2ZnYbhz7VPJ8PbcLlJ3z+FTLmQ/bQPPfM4xzSZAPPpXe/8ACv0/56t+lQv4LWObCb2AGDxTXMP28DiQxCg5yM9KkSYAASfMM8eorrP+EPeOcMVYr6GmP4SJmJAbDcfSj3g9vHscwJIznOSPeljkiQ9DXTP4MGB87D14qOTwfjhJGP4U7i9rDuc8Z48/KD6cGoGYoQVPGcgV00fgx3ODIy1Mng4RHJdn+tS3ze6ylVhY5OSVpSGdyzepNJv9hn1rrLjwfLNLkOkS+g5qBvBU45WZSPpWV3F8qKVaBzJfJy3NG/J5NdIvhCZW5lB9sU+TwjKy/K5z9Kq8h+2icwHIORx9KkjnK8EjH1reXwXdH70oHpxSf8Ibdrn5gfTilzTB1KfcyRcgMMNt+lRlwCcSHnuVrZXwdelsZAqZvA2obch0/P8A+vR7Sa0sSp01szmjw3BB9Caax9efxrov+EL1HHVPzpn/AAh99nGVzVWurlqrDuYBPTH86CfcfnXQJ4S1EPt8tW981ZXwJqc3I8sfiP8AGs2pLYXtY9zlcgdf0oyD0rpJvAurRvgIrD1BBpo8D6sWwYqEpj9pDuc7j3H50hBHcfnXVD4e60Vz5XFH/Cv9Y/iVB/wIf405U5MftYLqcsHYLgEAUmSepBrq/wDhX2rn7qqfxFMfwHq8XJjB9hUewmHtodzmCMY/xrs/BHh1b2Y3138kUPzJ/tH3qvb+C9Yi+dYFJ9DXb6NdahaaZHaXmmoPLAUlAeccZranR5TCpWTWjNcRhl3Yxu9Bim7CoIHQ9ajiuWlHMLREdmqwuSOa6Tz9xu2JgN0a5+lFBXnjNFAH1NRRRXiHuBRRRQAUUUUAFFFFABRRRQBjeJvCmj+L9KbT9dtFuITyp6Mh9Qa8ctPCuu/B+zuzptwz2hdmhm27lK9g47fpXvlRXVrBe2z291EssUgwyMOCKadmTKNzyL4dfH/SPEhTTvE7R6XqbMEjbafJmJ9G5C/iR1r2FWV1DIwZTyCDkGvlf4r/AAIvvDk51jwfbyXmlKTJJaht0kGPTPJX8z1q98C/ifqdpqsmi6xcT3OmsRsNw257Zu/J5x04pbyshuyWp7n458C6Z478Pz6ffF4ZHA2TxHDKQcj6jivjn4g/DvXfAOsNDq0Ej2hbFveIPkkH4dD7GvumC5huoRJbSpIrDIKnNczPDb+KIr3w74z0qMksxjPJjnjzlWRuoYAgEcHIPUc0Pswsr3PgsLvwByzHH417h4D0RNB0BXkT/SrlQ0hPJUen61m+PPhNa+BviDpVlb3f2nT9Qkd442OXiC9j+fWu3kRUJCdOi49BXZhYXkc2KnaIikD5FTO/+I0uXKlVI2Ft3JIpFoLbuOld8tdDz1dao7Tw343g0jwzcWNzumuVLeQm0kHIHGfrmuOklM87zlVVnJLqvQZNRqm05FOJAU44J61Eaag79zSdSU0kLuopq0VqZjsZozihTgGhSCDUsA3UwtzT6TbmhANDetSqRUZXFFUA6kIU/eODQq/L1qMrzQA7aBzu4pjbf71KFzwaa0VADWb+GozI4BVFyO59KlIzTNpHtQBVlSKbGS+R1Apq2cKBWZHxn+9VvaB94cd6AP7ikj3oA5Xxa0drqdrMq4SQbefr/wDXqt4bkSLxHEf4nNW/H0kcdhZzz/LiQrjHTpXKafrENrrdnMsoIDhRj3//AF15tSF6lzth/DPYOAGZveuR+IEn/EstSoz+9H8jXVgjCybtylAfzrj/AIj3EdvpVsZOnmDAH0NdNTWJzU375xM9ztty7rjFdD4LKSaFrzk8Mg/9mrh7m9juoi3mbQpwF9a6Lwjei18O69iQYCKBkdfvVyU4noSZnvEAsfln5dtdx8O7XbZ3t2/UthD+FcdDd2n2eISTJlQGPFeh+B4t3hgyxcq8rbX7HgVVOPvk1Ze4dCOcGn9V4puSEAYDd1OKNxJFd55a1DDU8dKbS496aNHsBpKUDFNPWqJFooooAKKMZpNtAC7qVTkn8KSjHf3pdBM53x3IsXhkO+SBKucfUVxemzwSatZybWwZV28e4rrPiNn/AIQyVh2kH8xXD+GJWe501GwczD+dck/jidtP+GeyKdwGKUoe1Rk846U45UDmuk4x/C9uajk+f2o60bfeqQACEUUuV60mKMZpgLkUZFN20gVR1JoApa3IqaRLk43cVw+WjjXjKoODXSeM52i0pEi6ySj+RrlpZGEWE5Hf615WKn71j0sP8JYdHZNxHAGagSfFsY27ikW9kAUN0qPfH5kUS8sZVT8yP8a44/EbylaJ3uhweRocX+0d1af8IpkSKkMcK8BVH8qefl4617lNcsEePN88hQVHWnoy81HRWohWIJ4pKUHFBbg8VLAVacelMH3aI2w3NCAQ9aKXOZDimtVAPpD1pFamSn95x6UCkPopgG4YzQcrQKOxIelMxmjNFBQme1LRjNOPOMdqAGY6moJZCkcrjnbG3GM9qndsmkKfJ0yD1pJXRL3PA7+Sf+1rl3Uq7y8kj3r2bRoVk0Cx3nLCEZAqW40LTbiTdJZIWznO2rcNvFbKBF0HAA7VlGPK2bTnzJDWhiKgMhAwOMUz7LF2U49xVstv5pCMjFWZlEWUTN9wUn2NGb7lXvLpcUAVkt4wQCuKe1qp6CpHTd060iFgcGlYCP7GvpUZsACSCOe1W+aGGRT5QvYz5bMPjeBx0pgtlXpGDV/Yc808Jx0o5Q5jMazV/vJim/2anZc1qhcHJFIxBbijlJ5jMGnoOq4pRpsZ7VoEZo20+VFKRntpsf8AzzNR/wBnIPurz6VrMaaBRyxDmMpdNQPvZefSpPsSf3K0TjqRSZFHLEOYzfsS/wByj7Cp/grU2CkKijliTzGb/Z6n+Gn/AGEbcYq8F5p1RKK6BzGY1gqjpUTaYn3sH8K1WG6lGMYNCjqCkZa6agw/zVN9n5xjFX8DFRH71XyxK5iutrt6k4PSl+zgLgkk1ao69RS5QIYkYH5s4+tPbH92n/hTSrEc9KaVgK7ht2VO0ewo2ZXLMfyqTbk/KeKcB2qgIWXC/Kx/KgD5R16elS/xUtBBDsDdf5U0oR0qZhnGKbtNBSGfN/doqQcUUDPpuiiivCPaCiiigAooooAKKKKACiiigAooooARlDKVYAgjBBHWvK/EHwdsLbWbjXvC0S200qEz2g+45wfmUHofbgce9eq0VUZOL5kKUVJWZ8m+KvGWt+CfEGnrod5Pb3UJzPAzny5BySGXp09q9Z8J/Gvwl42tLWy1gyabqTHGJiFXzB3R1OR+ncVofFT4Q2Pj+xNzZGKx1mMfu7jZxJ/stj27818i+J/DGr+DtZk0vXbcwzxHg5yjjqGU/jVVJqWpMVy6H0J4z+GmvwfED/hK5tRfWNLYERl3zJbA8gBem3jGQc9KpEZ4znBOcdBXH/Cvx14jktbjTrvVLqbTIIggieVmKjjAGTwPauuMgX77BQeQue3vXbhLpNnDidXYcDilAFMDK3Q5pRtPQ11+ZzXa0JAeKaR6mlGF60HDcZpvULjRx05paB8vTmkz61F2AtA4oA3dOaMEUALmjd7UlFAAze1A5pCM9KUHHWi4DdxXijOOO9I33qdldvvVgJk9gKY74+9xQchslsCq80qqCScigCdXUfeNJJKnrz2FVWbzI94PFQMxYgnt0NAFia9WBlDgc1DeXsiRkxNgY4qExCckSHPpURh3Jgtnafu0AYGqo3iWFLW+keNI8nIUHn/IpNH8DWUbpIUEojbduJOeK6BrONwAONx6Y6VYWNoW8u3zhRkle9YuKbubqbSsW2nSONQhxhcbT7Vx/i20l1e3QklkRs7W7cYroWiknZN2Mj1qC6t38wJKwdG5YL2o5bmTaTujzseG4YhGZ0JMh6LXU2mg2i6ZPZQW+03AG5yemM/41qmG2aNmMeNnCKRyada/JARIsjM3JX+lT7NLY09pJrc4G/8ACkdqWMRMyR/fx1/Cui0LxBcaXYw6etvIlspLAZ9f/wBVdK+nxHYPL2CToqjkfWqUumAyhRFlFHLelOMEncl1JNWbNa211JFj3RkZXvV9b+Ijjqa51bIrGAAT6NU8KunyspI/velbbmVrHQJKH+lI0pDEAZGax4p5g+0KSPWp1nm3EFgOe9AzWQ5QknB7A0hGMFiPwqhDcSbjuIYCp1uC7chRjpTAtYGM80cHpUGJCdwmX/dzUgYkc9aAHilpmTSFwOpoAfgdjS5wuDx3pnI6VG7t5q5B296QHO/EPD+BZ8dQwP6ivL/CMzjxLpqszFfOGB+NemeK5Jr/AEe40+OBmDjggd64jQfDF/Z63a3Dny/JkDAMPesKkffVjooytTaZ7JIASSOKQDPWo0dnAJ5J5NSLzWpzMCKT8acRxTapEpsXFHTpzTc0BsUDFyfShmHHyjmkMgoI6UrlHIePmYNp8UbBRvyffiufkB87YjrjBJya3PGzM+tWse0FUXJz24rnpgxSORVBOeceleRiV756eH+AW4YSKFizuHtT9GtjN4isopB/GHI/H/61RXLKrLltuf7taHhiFm8XRSbtyqv+NZU43nqVU+A9HIGOODTR1wefenHjOe9Ioy2R0r3NFFI8pbsXFJkA804kDrSbgeNv40XAAy9uaXIPFN2g9OKMAHrTAU8Cm4BHXmlakAA5zQAqjB5pSM0m7PApN1MBAMUFN3JNSYooAjxinKPWkPJpwoEkIVptPbpTKTGAODSg4zSUYqbsAYZXpTQccN/On7sCmEFuvFWtBADjoaTaPSjZRSABxS0lFFkMXNLik607pRZAN2/NnNBA607p1oGCaYDKA1JJx0pF7UAPPajdhTQaQ9DQKwhbIximrjOM80mRTsZUbV59aBcqEOVPTinDmgIcZJpjHFIdkKeaAMUUUWCwjcim4HrTiMik2UWCwfMOvSjKnqxz9Kk2YHJzRlemzNFkFkR47g5pc0rH8Pam4osKyFA701l9DTqCfTmiw7IZtPrSBSTmn5PpQpI7UWCyFxim555p5OaZjJpjELAUCTC4PNIYielO8setAEe4LkAdaFILCnFB60BAD1oAQqAc5ppYZpzAetM8vPSgVhQQaWkVduaMj1oGBGaKXIooA+mKKKK8I9oKKKKACiiigAooooAKKKKACiiigAoBzRRQAVzPjfwFovj3RWsNat1LDmG4CjfE3qD/AErbe4uY9Sjh+z+Zbyg/vlP+rIBOCPfHX3q3QB8vQ/DjV/h3Jd2d04mgncrBdhSEdc8ZHY47ZNWYoUjGCVD/AMSr0Y+tfR9/YW2p2b2t9EssLjlWGa8i8U/D2fQ3+06fvubEZJG3LRj047V3UKitybHFXpN+8jlkUY4pypto3Y/1ajB/SkWVm7V2x2scXUkOO9AxnigD+8KMAUwFppXmnU3NSAAMPu0vOOaVSeaOtADaKdikwKLAA60xqeeOlNxmnYBGqPeQcY49alyD2prsFXkYFUAxsFTk1TkiO7B6GrShW5xketNYoW+8xPoaAKrfImP4ajP3fY9KtsqFSChxUSxDeMg4HRTQBEkW5TjrT4ogqt3NS7DvwPlHpShPLPFAEcbPj7o+WkZ3bPGM1KV+UnuTTWwJFCjA70gIF+VuailJDscZqzLGWk+U4psbKrFGKs3vQJpsqWshnLhogBHyGPepSJnmR8gDuvqKetsxkYnaM9hUojlLLvUHb90ntT0GizHEqqxT7j9c9qrhVUusHRuuamcuwy7tk9cUeWDtP3jSeoFd4CyjBxtGDTUtc/ebAq4YzyAgAz1pdg8sgqpHc0CuVDGB8qn8aCdi9M47+tTPEMYAqNQT8p6DgUwGJJknjFTqM+9CW3U5H0NNLfvFBBUZ5x3oGWFX/YpTuB4GB6U3cg4Eb49cVLGd3C5x70AMXfmpAhPWlBw5WnZoAdTHoy1Idx4IyKQFeS2Djcgy2ahNonnB5F6elXgmO/4U7B9aejdwv2CFfl46U45U8UDjpQcmpsJ6iFjilX5qQD16U8DHSmhJCEAGjijblsmlKjb8q5PpQOxE2KCWOfbFP8tdoJ+//dokYRqWxwepbtSsM8v8c629t4qeN4y0axjBB9hXNy+Jke3WMwsFHPXvXpPiDRrXVLgTRMhIHzyZH5VwV9pX2abEMfm9QB3xXn14Nyud9KooxsZb+IZHkQNH8v1rp/hzqRuPE03nnAMfyj86550iX5WgdZF7lDW34bhhs715t8cDkfLvYA1lSjaVyp1Fy2PWB65yc9KkB+TLcH0rnLHW2OEiHnzdAd4rdV5HjRplAc9RvBIr078y0POtZkv3qOlN3qqHOQakQbkB65FMBhOMU4DKk03y2djjtTvnUdBTuAlGM0devFHToc07gKFoJVTzRkjvTSobqM0wH0Gm5ozQAmcNS7qMUYoAM5owB1pvTpQeeppAP4pKaDhunFKT6UrAIetFKBxRimK4lMpWNIvNMLhTlAJ5oxSN04oC4pU9qbIdvB609d3rSMAxy3JoC5EpYcN36VJtyvpQw3MM9hTicLjGfagYz7vvR1pRj/dpDjsc0AIxxinY+Umk6/eX6Uu7AoAj3/7NODcUu8elI2CuaABnpuN1PCgjkUh46UANop+BRgAdKAGUUjH+71puX9KADJXvmgSHuMUbX9BSN/004+lADgd5zTqiWRA20Z5qTNACHrSinDGKXKr2oAbRSBSec8UmaAHbc01xhePWnKTUcjsD1oAcu6lNKvK03dmgBmzdznFBiI5Bp3DdOKaFIbOaAAL60fd6U88rTMg8YoANueajZal2t68d6axH8HPrmgCOikJ9qKAPpyiiivCPaCiiigAooooAKKKKACiiigAooqvf2pvbCa2WWSFpEKiSM4ZCe4NAFiivmOw+JPjPwd4pn07WNWfUIbOcJJDOiZkX0DYznHqe9VvFHxg1u68ZTXmnX02m/Z4V8qAENHjkncOQT1/SgD6lPIPb3ryzxGPF/gvXjq2m63/aGhTuTJa3ioWjY9lKgHHWsL4R/HGTxLeyaP4nybgMTFeiMKjD+62MYP4Vq/Fby/t1o8F2TFIpZkSQsu7scVpSjzSSMqsuSLZ3nhzxhpviCzRo5liuNoMkLnaVPfGetaNnqlhqrXMVnMlwbd/LlA6A88fpXztG0kSq6yOCQDlDtK1q6Vr2paJcGfTbnyhJy4IB3/UEV1ywj+yzlWLVlzI0fG0en23iSaDTEaFgnzxkcBuelYQyOmKsaleyahqJurt1e4lO52AAqvXVTi4qzOebTd0ODnOG5NKXxTARuoYbmAqyB4fPaioyfLp4OQDUgOXGDk4oDZ6UgAPWmsjKw29KAJKMj1pmSPX8qTbnnNNAPzmkxSbttG/2/SqAdxjjmomG9sNwvpS7ht+WoWLjqDn6UASMAi7U6UjBnXGFH4Uxd79iD71IqSetAETQttzuIpjpwuG5+lWGYM20fjULxPnKttAoAaUc7cnkd8UEEdTmnoW2/M4P4UjUANGdwPbFJt6cc5p4X5RS/d7UAQmJt+7cPpTlifl2jUr6g07huhz7ZqKSJ92VkKD0oAYsSyTEo5THY1O6ZUfMcZxxSRhASSCW9cVYhOEPbPqKAG4MajGCPU0ikDG0dKQjYdozITTkTBoAVm38MDz6UzbsOFzj3qRzgZx+lNB3DkUEgRgjvUbRkscHHNSDkHNKw+UEdxQNEP3vvZyOmKcpYfeAPoakVcdqX2xQMaHlPAYY+lSoMAc80ip7U4Ic0AKVx83U0Bs+1KflXmo1GWoAlzSg/lTM0E4oAcQAM9DTee3NIDk4NO5/hoAcOaUCmr708feFAA3y0gJPalkYCq0jyH7hxQBZ3jB9RSKx+8vXsMVWTeYzmQBqimivAiNFMODntQBYfPnbjneeoxSTEs3lIdxPUNxxVbz55vlVj5o68dajeKS6GGZop1Pyn1oAoX2m2lzP5MEr5XJaNXAOfxri5/JttUK3UVx5kTFVC85H5ewr0SWGRYV81Y1kXoyYyxrFuISlx9om09Y5v+exbIx9M/0rOaQ1No5mfT5b0vNCs8C9laPn+VRxWUt0BKlnteE8iTIzXTXbtfW7C3lVeP8AWudn6cfyquNJC8NqWJGGcZGD+lc6irmvNcy7G6u/tRS4RYYw3JiGT06d66m1ljto/MhuWw3/AD26/lxWdbaaiBUWXe5bLYq1d2V1NInlSwxJH2cjJrROxkzooZXkjDMyMmMlulSLMGPykYJ47Vjw+b5XzzrsUcjGM1KksTLH5isy/wAOGxxWojUAIBJPftTsqDyzA4z0rNBRBkPKRn7uelXknD/8snIxyaAJAWfnYSPUUvT2+tVwP3m5HkA/u1LI+5cimgJNvrwPWmkgd6jFwCoRh09qUMnfiqAfmlHNMyD3FOBFAC0gIJxQcetMC/N1oAdRtB60/ApCR6igCMscYFCg0Yy1OLhKAHdB0ppb2o83Ipm/caCRTzTeV7U4dRT2IoEMVtxx0pW4qNzg5FKWylAD1lHTBpA2aYRgZoUj1oGS8BTmmEk/d604jchIqMIwGRQMUrxlzSAjsKeSNvz0zHHFAxWJ4zSA80nJooAXeM420/G5eOKbs4zSA4oAk4UcmmMfSkYbxjNJjb3oAcGBHPFISG6NQNoX56aNjf6s8UAKF54YUEkelI4Krmmrlu1ADsd8H86YSQQAv507a470oJJ+YUAMJ/2eaDwMmnSHj5evakAyvz0AIGyBSg5PTNJjA4HFAfZ1HWgB5fjAFNHPXilyG9BQePvUAKOO+aQrlsnmk3Y6DAo3EdqAHMPl+U0RlAuCaYCV5604sw/hFADXXacq3FC/MKYzMzDI/Kkz82M7R60APaULwQfypVKN0bB9xTCSoyrbvqKI90h+Zgv4UAO+bnrx0pFO4HePypxIUgB93rx0pGZRx60AIQh70UvyelFAH0tRRRXhHtBRRRQAUUUUAFFFFABRRRQAUUUUAeEfGn4TapqupHxH4UhE7kb7u1D7WYj+Jc9eO2e1eEiy82S7tL0Ol9IwVAcgg9MGvt3UNc0/S7y2ttQnWBro7YmfhWbjjPrzXG+OfhNpPiedNV0yCCy1iEhllVdqy/74HU474J6VPKmxO9tDxXQNCi0LSI7dI1+0EbpX/vZ6f0rWmlmeNQy5x61dvdOn0u7ktNQUpPGQCMZ/EHuKrNgc5LA9K9ujFch5NWUuYjQknLjHFSjlumRTSAY8MCD9acrbF6gfUVZmP2xsdxFKJY5OAuKhDseN4x9KcFPcj8qYyXYgpvA+lN24PXNPGAuTQAhZZOcdKTce3SlTKqTxj6UoIwKABWPOadv9OtMbOPlGaau89RxQA8ux6tTf4qjaMs33jipBHtQAHNADjjaM00s6deRT/lC/OcVFIzr/AKobvrQAbvmp7Mc8VH+7H39yt7DNPRuPbtQAjMwXikAkb+LFOBPO5h+VIdp/j/KgCMphsocetOdi6YFKYSf4qa25GABH5UAMSIjr0p/lrStKyrhufwqMSZ6DFAEhAIwO1MIz8rHApC6wncec04tuUMcYPTigBPLEfKDPvTWUM33zUibSDnP50LtznA/KgBvEQyXOKatwhfjJNTNhupUD0xRGsRbA25x6UAM+Z/u8UqZWguFbgUCUEc0ATBty4phwvWkjkzn60MwMgoAY3P3eKcA2BSuoK5FKrEKPpQAgD9jilCnqWoLcjNIdu4Yz+dAD9w/vmngHbkPxTMD0H5U3HzdT9M0ASEluDRtpCSBxxThuP8QoATbShQApJ704EY5pjR7zknH40AKskZkIHWnHn7tRCBVbIPNSKSvRhQAlJkhhimfvMEkgnPpTlYjGVyaABlO4E1HJUzOxU1C+CtADUZl+6gb61YjlBz5i4x2qoZcDCg/UGkWVy4B4B65oAuM0SEuePeqsh3Tq0chIPY1I6+Z8oIx6Go8bZQWKqB0wKAK10XLECFiVOQRUWpeWYY/NV/mHzA8irdwWum2rOU291OM1DJ/x7mOQM4JwSxzSYFJ9Ms7lfuNLtX5RvI/rWU+m3yXUjAQhVHRuSv04rVmjto9rJI0ZHTmq0s8sEcW5POJPzN1yKzQFaPT7p9rK/wAp+8VbBNXkskjO145Wx0LNn+tPJiK/I7KzDooxipYZZoY9oBkx0LnNUA1RhRG4+Uc4q3GIJVAVCNvrUUS+czPIyq3pUsbrC2HBYEY4oAMPLLkMAvtVqKaRMr1A6VG8EZjzGdgoVwkYyc/hQA+K5PmHeM1K0sTL1I9qjjZScqv505gv8SDNNAPURkfKc0pjD1GHzkIlCNICflqgEfMb4ZcD2qVWQjcvSmmR884P1GadsDrzgfTigAcqRmnArtpjRALwabtbGKAFIZuhpApXqc0hTb0NOAOORQBIvSmtQJAOoNLlW9qAEUADNB2jnGc0j4K4XqKaJegCc980Ej8E9KXcf7gqNnPZcfjTf3n+TQIm4PJGDRgDpTER+rYx9aXo3I+X60DFpu6Ne1KZE9QPxo2Bl4IoKF8xWQgHbSBgqEBiaYileDg8+lSbARyBQAw/NTxwBSgKOlI3HQ0ABpmcMD70Bi2falA4yy0AKWLU0+9PVvamscyH0oAQAHrS7VpQobvikddvTmgBpIIwaaIwn3acwWT7oI/GkCspwTkUAIHZvlxmpCdq8nb9KYQwbilO4jnBoAGbjllHvTVPXbJu9aQowHKq3timR5LHdGE+nGaAJd479fWlBQ9XNNOB2yKPkbtigAcJ2lJ9qMgAZ5pGIUAbRx3xTlIxzQAjhTyBSDdnJp5l9MflQJMjBoARzvUe1IxygPPpxRwB8vSmbyowKAFIAGQGzQyj0amjevJY4qTLN/FigBinaMDP40jZIyakEbdS2aUjK4zQBEtIV5peQ3FNaXHAFACkEdKUJ379qcj7lOBzTMMTyRQA4Bj1ZaKTyQepooA+mKKKK8I9oKKKKACiiigAooooAKKKKACiiigDyH9oi5vo/BMMEVosljLKPPnzkxkEbeMevfNea/D74weIfDFqLW9kj1fTg4CiaUiSPpwG549sV9Q3tlb6jYzWd7Es1vOhjkjcZDKRgg18zfEf4N6l4RknvfDQa60FyZZYgpMlue/TqvA5pW6gey30ej/Efw4t3YuiX0abkGRvTHVT7Hn868lm3RzSwTIYmicoQR3FZfhfUZH0uKWCTyZYcqCp+Y9ufzrXysnzzPvkB3MT616tCElC/Q8uvUTlbqNRmztPOO9NKEycDPtT1cElsg5Pal8za24deldBiPGAvKc03Ct0Jo3SP0FKRimAgG1sdc1IR8nNNQg0kmc8UALI2zGelHuCMdqicFnAp371ePlwOlADsnoDigblPL0b2YYbGe2KQLgYbvQA53fb8jc/So1lZB+961LGuzpzSyMByw3e3pQBGCX5xkds09I2/vYHtSBMjcOB6UmSKAGMs8Rwkgx6Gmu87EYVV9cGrLjIzUStxQAgXaQx546UgO1slBj60pUt0p5AVeaAGKd+duadgbT6ilBCDikVhye1AEe44JI5HSml89RipWZWbjpUbrnpQAnl9zyDUhCqgzTFPlj5qPvHPagBVwKmRAVyKjC/KaVHwMUAI2TIQqgj3NIFAb5hj6UO205pUbJyaAFjxu4GfrSqiYNDME5pImjPegAUIDxRIn8QpswC8p0oi3MuaAHqcr0NJkZIz0pSzr2pinJJKUAKME9elBZCcg9KbvKtgR9etKUXHzJigCQsAuc03eu7k4pj7BtGakaNdg3JlexoAeoWQYzSGMg/LmkQ4GAuB2NP8yQfdGaAEcMGp4AK8nmoy8ijBHNIhYL8/XNACtHjnPFII896cTmml9tACBXR8g5FSLLJzwMfWockHJpfOAYCgB7uWQ8VWeTA6GrW4beOtQSFvSgCsSpGdxB9MUg3K6nJIzSuo696ckjAYI+lAD5Ap5Ut09KiJiChWXc31qdHZfvCpWCkqfl6UAZ01pDOM7CgHQq3WnW/A2/NtA6GrDfvGITHB7VG5kBBC/LSYFeVIZGw8RP4U1XijBSJCB7ircpLJwOahCMjFXHBrNAQxP8AMdrpu9KerSSEk9F60iWkKFmXkk/e9Kmgj8okhtwqgIlkjXIa3yfUVPBIpXAU59D2pDLIG+Vc09HZv4Np7mqsBNsZ0xt/OpVASI/Ku4D1qqvmZO6T8KcNxIBXPvRYCRJDJ94UbmLkKAF9zTX+bATt1pCpkGF60tgJgCc7eD7U1Q4bq35U2KN1Jy2OKkQ4Jy9FwHsvPUU04J600Ird6XyVHOaoBcY+6cmjDntSb0Xo2DUigv0koAjZdp4608O+OQPzpjqQ1OAIXmgA356jmmsV/iOPpSH73NOEaN3oAYmVYlOR70rOXz8mSPensgReOlNCc5DbfWgViNNz5/d/rTGJVsbc/Q1YaQIOHBPp60zeXbO3bQFhEU4yyED607eQ3+qyv1p/LjDvgUwfK20SfLQFhgWKY4MJBqbywF43flUe4Ic76mc7hxJQMgIKNyQPqaeGOOenrUUkMbODKWZscEU5YE7O2PQ0APLgUzcFfnPPtUMs8cOY2PPapbYh0yWzgdKAJPM3H5e3Wo5LqVWChRg8VKQOoXb/AFpoK9e45FADVkk7gUskwRcvnPtS+cp+9xTfllOB0oARH80ZXI+tOWRk680oiXG3pimtGw+7QA8H14pGPZabtNGw9aAHANt5xSc5ppyKWNCzUAOfc/CnbQImVTltxPrSlCKYXKnFADk4bmmlMvk8D2pRzSMpoAU7GOAenrQVBwAai2qxxnnvTy0aAAnmgB4CjrTfkbOO3rTlMbLweahkCxffPWgBfMTpuGaVcA5bpTAExlI9w/vUq/M2OntQBKCG4PSo2x0OR9KUnbTGkG6gBw2rxuPNODRq2ckmmmVVGSuaQSq/8GPegBS68tg4pYyH5x+dJvXcG7DrTXcEkp0PIoJuEhdWGzGO/NOBVsbsg01cry3enbx9aBjyi9mopnnj/nnRQM+l6KKK8I9oKKKKACiiigAooooAKKKKACiiigApGUMpVgCCMEHvS0UAeeeJPhbYzyT3+gxi3upDvkgGNkh9fY/jXm19Yz2s8lre2729yh5DAjNen/8AC0rPT9ZudL8R2U+nXEcxWMlcrImMhwR7VH49tTr2hw6ppCwXNtGN7TRn58dPXp+tdlCrJWi9jjr0Yu8lueVKI14Tj1+tSgsB7VCHjOG82I5GevNJNIyoG6rnkg16BwkuJM5o3P0Qcd6QPuQFckHpTjOF4wAaYheF4XvyaPL53HP4Um47ckc0qyt24PagLjVE0b54ZPQ1IJA2fl200ux+996kUFDmU9ewoGPUfeyc/wBKFOASaXCqMr3pM7VOOaAEaVaaXG0FetBK7cumB7UkMis52r8vbNADwx2/vOlRPtPSpWXc/H5UBAOuKAGRvtGDTwoJ3UPHEBksc1F5iEYD4+ooAdK21d3amrOtPA3Jg/MPUUBFH8IoAQtuFIMrRlQe9BY9VA/GgB+47Tgc0wEqcuKVJC3BwPpSsRjB5oAB5e7d680SYIyvao2baBtXNS7iYxlMUANikLKQw7UJtH8BoJ444poDN0Y0AOd03fcNIHTPTZ7ml+ZeDz70MQRjGaAGMy/3xTkUA7B8y+tBhQj7tI0e8YV2T6UAPCoGwrZpGj+Yc03yTGRg8d6kCFxwaABWJO09Kc3FNJCDmlcjau3nIoAaCwzt/Gl3evWl27Vz60wP6gUALuPpSebKHxj5e1OLLt4K0xslQxOAfSgCTLFSVxn3qOJpi/zMpH1p4TMYwc0GMfwqF9wTQATPIH+T5qU+YRgjBpy8r8owai/eK+GJPvQA8bhw3Sm+Vk5p5jLLndg0gYjhhx7UALtcjAqN4mH3qcZdsgA3Yp7vnp+tACRA7cDrQ6/36EOGpWLdwCKAK7xhz6ClVdoxSTPz8tL8+wcA0ANON3PTvSmOMElT1pcDq3BpGbcoG0D6UAM2Mv3elIUZhhulSMCISwOWH8IqrbXFxKxEkWwDuaTAkKY702bdhAHFPkGR8pyajJG4YCn61CVgGuWc8sOOMUij5h8p+tSGM7wSq4buDTxEVYgt9B60wGbalEbbRlwBikC7uF6+9S+UAoyee/NVcCPAT7p3Z60oc9+lKykfcA96VVOeQMUAJvSpFZSOOtJ8ucYpHKDp1oYEm0jkGo22j7xpoBYfIxz6GnCHP3zSsAgIb70g/wCAmnhNo3ISR70qwxJ9xcfjQ2M/eNUAoG8fNimlcfdqMxuW4apQpRck0AMz/d604F/4qBIPQU9XHegBN56AZNJJJtX5/l+lOYqD1psgDLwwoASKaN4yM5pwkiC/NUUMGzLZXDVIyR4HIoAaTA1PTywvy0KiAfwk0M6hcFMH2oAB83B6UjYHB6U0OuME4NSDaVOaAFDRsMVH5qnqKRGABIFLt4yygfSgBSFZcikjJzgUg2lTgkc0bwg45oABudiXA49qQbWYkrzntSugkUMHKn0qPy5P4XFADzOMhSuBT9kY5FMAbH77afTFPUgdBn60ANby6QKuMhSaJGx0UUJJ8ozu+gFABweqkUuG/h6U7zAeoP4ikLg/dzmgBPOH8FHmM3WmbPQYo3OgwELe9AEhXio1B3U1JnMmChA96k+bPAoAJAQRilbCKGwSfakEjDqAaaZZA429D7UAIxC8qGyfanp83WkO/qzZ9sULzQAZQOQaV9jAUeXznFBITGQOaAGhSOV6UHDHO4n8KRncH5RxUgDbfl/WgAwCvBpoAVs0iiUsQwGKQqwfFAD91M3CnhM9aaUA70APWQiMqAMZqPeoPNJ05GTQSSudqk+lAhfMSonkJb5RxTt3rHSxjeThcUEkiTHy8EVHvJPSgvltpXFOwFHHP1oKQnWilG0jlgKKBn0xRRRXhHtBRRRQAUUUUAFFFFABRRRQAUUUUAFFFFAHG/EjQdM1Lw5Nd3toklxbLuilyVZT9QeevQ14n4Z17VLC3u9Ptb2RLSUHdCTuXk9s9Pwoorrw+u5yV9Cpc2sPl7tmD0yCRVfS8nUNhZim0/KWJFFFeicB0OxY4JNgxjpVZwNwoopiZYVjgCkP3xRRQIQ/fBockk59aKKCiNWOTzU6/dNFFAFfzGMuCePSpDw5xxRRQAjMR0NRFmJ5NFFACsNp4/nSZ3Ng4I+lFFAFleI8DpRRRQAOBkcU2bhRj0oooAhh/wBYPrVhgKKKAK5Hzn/GpgflFFFAAOop0ny9OKKKAGqSV5pYwN/4UUUAO70mMdKKKAGMSZAM9qY7ssgwcUUUAPT5vvc0veiigBxJIFRvwaKKAEBy3/1qlYAxiiigBMkIAKTJ9aKKAHyHHTinJzHk9aKKAGp80uD0p8nyj5eKKKAIGY+YOe1KrFmbPrRRQA6lZjtoooAYQNo4pI/vUUUALMOlNxRRQAoUAFh1qDueaKKAIAfnqxJGgxgUUVLAry8SIASB9assxx+FFFICIsRCxB5pInYxqSSeBRRSAmQ9aUE7hz3ooq0A7HzVKqg9RRRTARgF+7xULsfWiigB2TT15XmiigBrEjpSOSV60UUAKgFPIG4UUUADgHg9KPLXZ0/WiigAjUHinyRJtHFFFAEJQAjH86il5bkn86KKABAKnH3TRRQA2IZQ05fu0UUAIBwaQcPRRQAONw+akVQAMfzoooAH4xT1A20UUAIRmpEOEGKKKAHE5HNMVQCcCiigBlMd2BwDgUUUAMiJMvJzVpeKKKAIyOTSAfNRRQA6T7tMWiigCSo5v4frRRQAuOBTtx2UUUAQ729aEJMnPpRRQA8saaxoooAj3sGwDxTyO9FFADWH1/OoZ5XQLsbFFFBBKpLRgtyaFJoooKQE4P8A9aiiigZ//9k=)"
      ],
      "metadata": {
        "id": "hhP2_xrvOFVz"
      }
    }
  ]
}